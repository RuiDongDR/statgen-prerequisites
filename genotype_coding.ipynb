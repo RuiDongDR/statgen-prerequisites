{
 "cells": [
  {
   "cell_type": "markdown",
   "id": "b9678254",
   "metadata": {},
   "source": [
    "# Intuitional Description\n",
    "\n",
    "Genotype coding converts DNA nucleotide pairs into numerical values for statistical analysis, with the additive model being particularly valuable because genetic effects often accumulate proportionally with each additional copy of a variant.\n"
   ]
  },
  {
   "cell_type": "markdown",
   "id": "b20b87ae",
   "metadata": {},
   "source": [
    "# Graphical Summary"
   ]
  },
  {
   "cell_type": "markdown",
   "id": "cd437686",
   "metadata": {},
   "source": []
  },
  {
   "cell_type": "markdown",
   "id": "a86b3516",
   "metadata": {},
   "source": [
    "# Key Formula\n",
    "\n",
    "We use $\\mathbf{X}_\\text{raw}$ to denote the **Raw Genotype Matrix** (an $N \\times M$ matrix representing genotypes for $N$ individuals at $M$ variants)\n",
    "   \n",
    "For diploid organisms, using different coding models:\n",
    "   - Additive model: $x_{ij} \\in \\{0, 1, 2\\}$ (count of alternative alleles)\n",
    "   - Dominant model: $x_{ij} \\in \\{0, 1\\}$ (1: presence of alternative allele)\n",
    "   - Recessive model: $x_{ij} \\in \\{0, 1\\}$ (two copies of alternative allele required for 1)\n",
    "\n",
    "**Standardized Genotype Matrix** $\\mathbf{X}$: Normalized version of $\\mathbf{X}_\\text{raw}$\n",
    "\n",
    "For each column $j$ (variant):\n",
    "   $$X_{ij} = \\frac{X_{\\text{raw},ij} - \\mu_j}{\\sigma_j}$$\n",
    "   \n",
    "   Where:\n",
    "   - $\\mu_j = \\frac{1}{N}\\sum_{i=1}^{N} X_{\\text{raw},ij}$ (mean of variant $j$)\n",
    "   - $\\sigma_j = \\sqrt{\\frac{1}{N}\\sum_{i=1}^{N} (X_{\\text{raw},ij} - \\mu_j)^2}$ (standard deviation of variant $j$)"
   ]
  },
  {
   "cell_type": "markdown",
   "id": "18f5ee6c",
   "metadata": {},
   "source": [
    "# Technical Details\n",
    "\n",
    "## Beyond SNPs: Encoding Different Variant Types\n",
    "\n",
    "While we commonly encode SNPs, the same principles apply to other genetic variants:\n",
    "\n",
    "1. **Insertions and Deletions (Indels)**\n",
    "  - Small insertions or deletions in DNA sequence\n",
    "  - Typically encoded using the same 0/1/2 scheme as SNPs\n",
    "\n",
    "2. **Copy Number Variations (CNVs)**\n",
    "  - Deletions or duplications of larger DNA segments\n",
    "  - Can be encoded as actual copy number (0, 1, 2, 3, etc.)\n",
    "\n",
    "3. **Structural Variants**\n",
    "  - Inversions, translocations, and complex rearrangements\n",
    "  - Often encoded as binary (presence/absence)\n",
    "\n",
    "The choice of encoding scheme should reflect the biological hypothesis about how the variant affects the phenotype."
   ]
  },
  {
   "cell_type": "markdown",
   "id": "f9c943b0-2af5-4e77-bdb0-2d7c2d0a82b3",
   "metadata": {},
   "source": [
    "# Example"
   ]
  },
  {
   "cell_type": "markdown",
   "id": "b0616fd6-c6f5-4197-96af-0c22ad8e69ee",
   "metadata": {},
   "source": [
    "Let's illustrate how we encode genotypes using different models and standardize them. We'll start with the raw allele counts and demonstrate the process step by step."
   ]
  },
  {
   "cell_type": "code",
   "execution_count": 9,
   "id": "844883c1-50d4-4b8a-807e-404299063852",
   "metadata": {
    "tags": [],
    "vscode": {
     "languageId": "r"
    }
   },
   "outputs": [
    {
     "name": "stdout",
     "output_type": "stream",
     "text": [
      "[1] \"Raw genotypes:\"\n"
     ]
    },
    {
     "data": {
      "text/html": [
       "<table class=\"dataframe\">\n",
       "<caption>A matrix: 5 x 3 of type chr</caption>\n",
       "<thead>\n",
       "\t<tr><th></th><th scope=col>Variant 1</th><th scope=col>Variant 2</th><th scope=col>Variant 3</th></tr>\n",
       "</thead>\n",
       "<tbody>\n",
       "\t<tr><th scope=row>Individual 1</th><td>CC</td><td>CT</td><td>AT</td></tr>\n",
       "\t<tr><th scope=row>Individual 2</th><td>TT</td><td>TT</td><td>AA</td></tr>\n",
       "\t<tr><th scope=row>Individual 3</th><td>CT</td><td>CT</td><td>AT</td></tr>\n",
       "\t<tr><th scope=row>Individual 4</th><td>CC</td><td>TT</td><td>AT</td></tr>\n",
       "\t<tr><th scope=row>Individual 5</th><td>CC</td><td>CC</td><td>TT</td></tr>\n",
       "</tbody>\n",
       "</table>\n"
      ],
      "text/latex": [
       "A matrix: 5 x 3 of type chr\n",
       "\\begin{tabular}{r|lll}\n",
       "  & Variant 1 & Variant 2 & Variant 3\\\\\n",
       "\\hline\n",
       "\tIndividual 1 & CC & CT & AT\\\\\n",
       "\tIndividual 2 & TT & TT & AA\\\\\n",
       "\tIndividual 3 & CT & CT & AT\\\\\n",
       "\tIndividual 4 & CC & TT & AT\\\\\n",
       "\tIndividual 5 & CC & CC & TT\\\\\n",
       "\\end{tabular}\n"
      ],
      "text/markdown": [
       "\n",
       "A matrix: 5 x 3 of type chr\n",
       "\n",
       "| <!--/--> | Variant 1 | Variant 2 | Variant 3 |\n",
       "|---|---|---|---|\n",
       "| Individual 1 | CC | CT | AT |\n",
       "| Individual 2 | TT | TT | AA |\n",
       "| Individual 3 | CT | CT | AT |\n",
       "| Individual 4 | CC | TT | AT |\n",
       "| Individual 5 | CC | CC | TT |\n",
       "\n"
      ],
      "text/plain": [
       "             Variant 1 Variant 2 Variant 3\n",
       "Individual 1 CC        CT        AT       \n",
       "Individual 2 TT        TT        AA       \n",
       "Individual 3 CT        CT        AT       \n",
       "Individual 4 CC        TT        AT       \n",
       "Individual 5 CC        CC        TT       "
      ]
     },
     "metadata": {},
     "output_type": "display_data"
    }
   ],
   "source": [
    "# Clear the environment\n",
    "rm(list = ls())\n",
    "\n",
    "# Define genotypes for 5 individuals at 3 variants\n",
    "# These represent actual alleles at each position\n",
    "# For example, Individual 1 has genotypes: CC, CT, AT\n",
    "genotypes <- c(\n",
    " \"CC\", \"CT\", \"AT\",  # Individual 1\n",
    " \"TT\", \"TT\", \"AA\",  # Individual 2\n",
    " \"CT\", \"CT\", \"AT\",  # Individual 3\n",
    " \"CC\", \"TT\", \"AT\",  # Individual 4\n",
    " \"CC\", \"CC\", \"TT\"   # Individual 5\n",
    ")\n",
    "# Reshape into a matrix\n",
    "geno_matrix <- matrix(genotypes, nrow=5, ncol=3, byrow=TRUE)\n",
    "rownames(geno_matrix) <- paste(\"Individual\", 1:5)\n",
    "colnames(geno_matrix) <- paste(\"Variant\", 1:3)\n",
    "print(\"Raw genotypes:\")\n",
    "geno_matrix\n"
   ]
  },
  {
   "cell_type": "code",
   "execution_count": 10,
   "id": "31df03e7",
   "metadata": {
    "vscode": {
     "languageId": "r"
    }
   },
   "outputs": [
    {
     "name": "stdout",
     "output_type": "stream",
     "text": [
      "[1] \"Reference alleles:\"\n",
      "Variant 1 Variant 2 Variant 3 \n",
      "      \"C\"       \"C\"       \"A\" \n"
     ]
    }
   ],
   "source": [
    "# Define reference alleles for each variant\n",
    "# Let's assume the reference alleles are:\n",
    "ref_alleles <- c(\"C\", \"C\", \"A\")\n",
    "names(ref_alleles) <- colnames(geno_matrix)\n",
    "print(\"Reference alleles:\")\n",
    "print(ref_alleles)"
   ]
  },
  {
   "cell_type": "code",
   "execution_count": 11,
   "metadata": {
    "vscode": {
     "languageId": "r"
    }
   },
   "outputs": [],
   "source": [
    "# Convert to raw genotype matrix using the additive / dominant / recessive model\n",
    "Xraw_additive <- matrix(0, nrow=nrow(geno_matrix), ncol=ncol(geno_matrix)) # dount number of non-reference alleles\n",
    "Xraw_dominant <- matrix(0, nrow=nrow(geno_matrix), ncol=ncol(geno_matrix)) # presence of alternative allele\n",
    "Xraw_recessive <- matrix(0, nrow=nrow(geno_matrix), ncol=ncol(geno_matrix)) # two copies of alternative allele required\n",
    "\n",
    "rownames(Xraw_additive) <- rownames(Xraw_dominant) <- rownames(Xraw_recessive) <- rownames(geno_matrix)\n",
    "colnames(Xraw_additive) <- colnames(Xraw_dominant) <- colnames(Xraw_recessive) <- colnames(geno_matrix)\n",
    "\n",
    "for (i in 1:nrow(geno_matrix)) {\n",
    "  for (j in 1:ncol(geno_matrix)) {\n",
    "    alleles <- strsplit(geno_matrix[i,j], \"\")[[1]]\n",
    "    Xraw_additive[i,j] <- sum(alleles != ref_alleles[j])\n",
    "    Xraw_dominant[i,j] <- as.integer(any(alleles != ref_alleles[j]))\n",
    "    Xraw_recessive[i,j] <- as.integer(all(alleles != ref_alleles[j]))\n",
    "  }\n",
    "}\n"
   ]
  },
  {
   "cell_type": "code",
   "execution_count": 12,
   "id": "30f50b7f",
   "metadata": {
    "vscode": {
     "languageId": "r"
    }
   },
   "outputs": [
    {
     "name": "stdout",
     "output_type": "stream",
     "text": [
      "[1] \"Raw genotype matrix (Additive model: count of alternative alleles):\"\n",
      "             Variant 1 Variant 2 Variant 3\n",
      "Individual 1         0         1         1\n",
      "Individual 2         2         2         0\n",
      "Individual 3         1         1         1\n",
      "Individual 4         0         2         1\n",
      "Individual 5         0         0         2\n"
     ]
    }
   ],
   "source": [
    "print(\"Raw genotype matrix (Additive model: count of alternative alleles):\")\n",
    "print(Xraw_additive)"
   ]
  },
  {
   "cell_type": "code",
   "execution_count": 13,
   "metadata": {
    "vscode": {
     "languageId": "r"
    }
   },
   "outputs": [
    {
     "name": "stdout",
     "output_type": "stream",
     "text": [
      "[1] \"Dominant model matrix (1 if any alternative allele is present):\"\n",
      "             Variant 1 Variant 2 Variant 3\n",
      "Individual 1         0         1         1\n",
      "Individual 2         1         1         0\n",
      "Individual 3         1         1         1\n",
      "Individual 4         0         1         1\n",
      "Individual 5         0         0         1\n"
     ]
    }
   ],
   "source": [
    "print(\"Dominant model matrix (1 if any alternative allele is present):\")\n",
    "print(Xraw_dominant)"
   ]
  },
  {
   "cell_type": "code",
   "execution_count": 14,
   "id": "e0368f39",
   "metadata": {
    "vscode": {
     "languageId": "r"
    }
   },
   "outputs": [
    {
     "name": "stdout",
     "output_type": "stream",
     "text": [
      "[1] \"Recessive model matrix (1 if both alleles are alternative):\"\n",
      "             Variant 1 Variant 2 Variant 3\n",
      "Individual 1         0         0         0\n",
      "Individual 2         1         1         0\n",
      "Individual 3         0         0         0\n",
      "Individual 4         0         1         0\n",
      "Individual 5         0         0         1\n"
     ]
    }
   ],
   "source": [
    "print(\"Recessive model matrix (1 if both alleles are alternative):\")\n",
    "print(Xraw_recessive)"
   ]
  },
  {
   "cell_type": "code",
   "execution_count": 15,
   "id": "bee1f0d0",
   "metadata": {
    "vscode": {
     "languageId": "r"
    }
   },
   "outputs": [],
   "source": [
    "# Standardize each raw genotype matrix\n",
    "X_additive <- scale(Xraw_additive, center=TRUE, scale=TRUE)\n",
    "X_dominant <- scale(Xraw_dominant, center=TRUE, scale=TRUE)\n",
    "X_recessive <- scale(Xraw_recessive, center=TRUE, scale=TRUE)"
   ]
  },
  {
   "cell_type": "code",
   "execution_count": 16,
   "id": "4a3f26d0",
   "metadata": {
    "vscode": {
     "languageId": "r"
    }
   },
   "outputs": [
    {
     "name": "stdout",
     "output_type": "stream",
     "text": [
      "[1] \"Standardized genotype matrix (Additive model):\"\n"
     ]
    },
    {
     "data": {
      "text/html": [
       "<table class=\"dataframe\">\n",
       "<caption>A matrix: 5 x 3 of type dbl</caption>\n",
       "<thead>\n",
       "\t<tr><th></th><th scope=col>Variant 1</th><th scope=col>Variant 2</th><th scope=col>Variant 3</th></tr>\n",
       "</thead>\n",
       "<tbody>\n",
       "\t<tr><th scope=row>Individual 1</th><td>-0.6708204</td><td>-0.2390457</td><td> 0.000000</td></tr>\n",
       "\t<tr><th scope=row>Individual 2</th><td> 1.5652476</td><td> 0.9561829</td><td>-1.414214</td></tr>\n",
       "\t<tr><th scope=row>Individual 3</th><td> 0.4472136</td><td>-0.2390457</td><td> 0.000000</td></tr>\n",
       "\t<tr><th scope=row>Individual 4</th><td>-0.6708204</td><td> 0.9561829</td><td> 0.000000</td></tr>\n",
       "\t<tr><th scope=row>Individual 5</th><td>-0.6708204</td><td>-1.4342743</td><td> 1.414214</td></tr>\n",
       "</tbody>\n",
       "</table>\n"
      ],
      "text/latex": [
       "A matrix: 5 x 3 of type dbl\n",
       "\\begin{tabular}{r|lll}\n",
       "  & Variant 1 & Variant 2 & Variant 3\\\\\n",
       "\\hline\n",
       "\tIndividual 1 & -0.6708204 & -0.2390457 &  0.000000\\\\\n",
       "\tIndividual 2 &  1.5652476 &  0.9561829 & -1.414214\\\\\n",
       "\tIndividual 3 &  0.4472136 & -0.2390457 &  0.000000\\\\\n",
       "\tIndividual 4 & -0.6708204 &  0.9561829 &  0.000000\\\\\n",
       "\tIndividual 5 & -0.6708204 & -1.4342743 &  1.414214\\\\\n",
       "\\end{tabular}\n"
      ],
      "text/markdown": [
       "\n",
       "A matrix: 5 x 3 of type dbl\n",
       "\n",
       "| <!--/--> | Variant 1 | Variant 2 | Variant 3 |\n",
       "|---|---|---|---|\n",
       "| Individual 1 | -0.6708204 | -0.2390457 |  0.000000 |\n",
       "| Individual 2 |  1.5652476 |  0.9561829 | -1.414214 |\n",
       "| Individual 3 |  0.4472136 | -0.2390457 |  0.000000 |\n",
       "| Individual 4 | -0.6708204 |  0.9561829 |  0.000000 |\n",
       "| Individual 5 | -0.6708204 | -1.4342743 |  1.414214 |\n",
       "\n"
      ],
      "text/plain": [
       "             Variant 1  Variant 2  Variant 3\n",
       "Individual 1 -0.6708204 -0.2390457  0.000000\n",
       "Individual 2  1.5652476  0.9561829 -1.414214\n",
       "Individual 3  0.4472136 -0.2390457  0.000000\n",
       "Individual 4 -0.6708204  0.9561829  0.000000\n",
       "Individual 5 -0.6708204 -1.4342743  1.414214"
      ]
     },
     "metadata": {},
     "output_type": "display_data"
    }
   ],
   "source": [
    "print(\"Standardized genotype matrix (Additive model):\")\n",
    "X_additive"
   ]
  },
  {
   "cell_type": "code",
   "execution_count": 17,
   "id": "a7c30743",
   "metadata": {
    "vscode": {
     "languageId": "r"
    }
   },
   "outputs": [
    {
     "name": "stdout",
     "output_type": "stream",
     "text": [
      "[1] \"Standardized genotype matrix (Dominant model):\"\n"
     ]
    },
    {
     "data": {
      "text/html": [
       "<table class=\"dataframe\">\n",
       "<caption>A matrix: 5 x 3 of type dbl</caption>\n",
       "<thead>\n",
       "\t<tr><th></th><th scope=col>Variant 1</th><th scope=col>Variant 2</th><th scope=col>Variant 3</th></tr>\n",
       "</thead>\n",
       "<tbody>\n",
       "\t<tr><th scope=row>Individual 1</th><td>-0.7302967</td><td> 0.4472136</td><td> 0.4472136</td></tr>\n",
       "\t<tr><th scope=row>Individual 2</th><td> 1.0954451</td><td> 0.4472136</td><td>-1.7888544</td></tr>\n",
       "\t<tr><th scope=row>Individual 3</th><td> 1.0954451</td><td> 0.4472136</td><td> 0.4472136</td></tr>\n",
       "\t<tr><th scope=row>Individual 4</th><td>-0.7302967</td><td> 0.4472136</td><td> 0.4472136</td></tr>\n",
       "\t<tr><th scope=row>Individual 5</th><td>-0.7302967</td><td>-1.7888544</td><td> 0.4472136</td></tr>\n",
       "</tbody>\n",
       "</table>\n"
      ],
      "text/latex": [
       "A matrix: 5 x 3 of type dbl\n",
       "\\begin{tabular}{r|lll}\n",
       "  & Variant 1 & Variant 2 & Variant 3\\\\\n",
       "\\hline\n",
       "\tIndividual 1 & -0.7302967 &  0.4472136 &  0.4472136\\\\\n",
       "\tIndividual 2 &  1.0954451 &  0.4472136 & -1.7888544\\\\\n",
       "\tIndividual 3 &  1.0954451 &  0.4472136 &  0.4472136\\\\\n",
       "\tIndividual 4 & -0.7302967 &  0.4472136 &  0.4472136\\\\\n",
       "\tIndividual 5 & -0.7302967 & -1.7888544 &  0.4472136\\\\\n",
       "\\end{tabular}\n"
      ],
      "text/markdown": [
       "\n",
       "A matrix: 5 x 3 of type dbl\n",
       "\n",
       "| <!--/--> | Variant 1 | Variant 2 | Variant 3 |\n",
       "|---|---|---|---|\n",
       "| Individual 1 | -0.7302967 |  0.4472136 |  0.4472136 |\n",
       "| Individual 2 |  1.0954451 |  0.4472136 | -1.7888544 |\n",
       "| Individual 3 |  1.0954451 |  0.4472136 |  0.4472136 |\n",
       "| Individual 4 | -0.7302967 |  0.4472136 |  0.4472136 |\n",
       "| Individual 5 | -0.7302967 | -1.7888544 |  0.4472136 |\n",
       "\n"
      ],
      "text/plain": [
       "             Variant 1  Variant 2  Variant 3 \n",
       "Individual 1 -0.7302967  0.4472136  0.4472136\n",
       "Individual 2  1.0954451  0.4472136 -1.7888544\n",
       "Individual 3  1.0954451  0.4472136  0.4472136\n",
       "Individual 4 -0.7302967  0.4472136  0.4472136\n",
       "Individual 5 -0.7302967 -1.7888544  0.4472136"
      ]
     },
     "metadata": {},
     "output_type": "display_data"
    }
   ],
   "source": [
    "print(\"Standardized genotype matrix (Dominant model):\")\n",
    "X_dominant"
   ]
  },
  {
   "cell_type": "code",
   "execution_count": 19,
   "id": "ccfb3741",
   "metadata": {
    "vscode": {
     "languageId": "r"
    }
   },
   "outputs": [
    {
     "name": "stdout",
     "output_type": "stream",
     "text": [
      "[1] \"Standardized genotype matrix (Recessive model):\"\n"
     ]
    },
    {
     "data": {
      "text/html": [
       "<table class=\"dataframe\">\n",
       "<caption>A matrix: 5 x 3 of type dbl</caption>\n",
       "<thead>\n",
       "\t<tr><th></th><th scope=col>Variant 1</th><th scope=col>Variant 2</th><th scope=col>Variant 3</th></tr>\n",
       "</thead>\n",
       "<tbody>\n",
       "\t<tr><th scope=row>Individual 1</th><td>-0.4472136</td><td>-0.7302967</td><td>-0.4472136</td></tr>\n",
       "\t<tr><th scope=row>Individual 2</th><td> 1.7888544</td><td> 1.0954451</td><td>-0.4472136</td></tr>\n",
       "\t<tr><th scope=row>Individual 3</th><td>-0.4472136</td><td>-0.7302967</td><td>-0.4472136</td></tr>\n",
       "\t<tr><th scope=row>Individual 4</th><td>-0.4472136</td><td> 1.0954451</td><td>-0.4472136</td></tr>\n",
       "\t<tr><th scope=row>Individual 5</th><td>-0.4472136</td><td>-0.7302967</td><td> 1.7888544</td></tr>\n",
       "</tbody>\n",
       "</table>\n"
      ],
      "text/latex": [
       "A matrix: 5 x 3 of type dbl\n",
       "\\begin{tabular}{r|lll}\n",
       "  & Variant 1 & Variant 2 & Variant 3\\\\\n",
       "\\hline\n",
       "\tIndividual 1 & -0.4472136 & -0.7302967 & -0.4472136\\\\\n",
       "\tIndividual 2 &  1.7888544 &  1.0954451 & -0.4472136\\\\\n",
       "\tIndividual 3 & -0.4472136 & -0.7302967 & -0.4472136\\\\\n",
       "\tIndividual 4 & -0.4472136 &  1.0954451 & -0.4472136\\\\\n",
       "\tIndividual 5 & -0.4472136 & -0.7302967 &  1.7888544\\\\\n",
       "\\end{tabular}\n"
      ],
      "text/markdown": [
       "\n",
       "A matrix: 5 x 3 of type dbl\n",
       "\n",
       "| <!--/--> | Variant 1 | Variant 2 | Variant 3 |\n",
       "|---|---|---|---|\n",
       "| Individual 1 | -0.4472136 | -0.7302967 | -0.4472136 |\n",
       "| Individual 2 |  1.7888544 |  1.0954451 | -0.4472136 |\n",
       "| Individual 3 | -0.4472136 | -0.7302967 | -0.4472136 |\n",
       "| Individual 4 | -0.4472136 |  1.0954451 | -0.4472136 |\n",
       "| Individual 5 | -0.4472136 | -0.7302967 |  1.7888544 |\n",
       "\n"
      ],
      "text/plain": [
       "             Variant 1  Variant 2  Variant 3 \n",
       "Individual 1 -0.4472136 -0.7302967 -0.4472136\n",
       "Individual 2  1.7888544  1.0954451 -0.4472136\n",
       "Individual 3 -0.4472136 -0.7302967 -0.4472136\n",
       "Individual 4 -0.4472136  1.0954451 -0.4472136\n",
       "Individual 5 -0.4472136 -0.7302967  1.7888544"
      ]
     },
     "metadata": {},
     "output_type": "display_data"
    }
   ],
   "source": [
    "print(\"Standardized genotype matrix (Recessive model):\")\n",
    "X_recessive"
   ]
  },
  {
   "cell_type": "code",
   "execution_count": 20,
   "id": "aee0ca87",
   "metadata": {
    "vscode": {
     "languageId": "r"
    }
   },
   "outputs": [
    {
     "data": {
      "text/plain": [
       "R version 4.3.3 (2024-02-29)\n",
       "Platform: x86_64-apple-darwin13.4.0 (64-bit)\n",
       "Running under: macOS Big Sur ... 10.16\n",
       "\n",
       "Matrix products: default\n",
       "BLAS/LAPACK: /Users/serenadong/.pixi/envs/r-base/lib/libopenblasp-r0.3.29.dylib;  LAPACK version 3.12.0\n",
       "\n",
       "locale:\n",
       "[1] C\n",
       "\n",
       "time zone: America/New_York\n",
       "tzcode source: system (macOS)\n",
       "\n",
       "attached base packages:\n",
       "[1] stats     graphics  grDevices utils     datasets  methods   base     \n",
       "\n",
       "loaded via a namespace (and not attached):\n",
       " [1] digest_0.6.37     IRdisplay_1.1     base64enc_0.1-3   fastmap_1.2.0    \n",
       " [5] glue_1.8.0        htmltools_0.5.8.1 repr_1.1.7        lifecycle_1.0.4  \n",
       " [9] cli_3.6.4         vctrs_0.6.5       pbdZMQ_0.3-13     compiler_4.3.3   \n",
       "[13] tools_4.3.3       evaluate_1.0.3    pillar_1.10.2     rlang_1.1.5      \n",
       "[17] jsonlite_1.9.1    crayon_1.5.3      IRkernel_1.3.2    uuid_1.2-1       "
      ]
     },
     "metadata": {},
     "output_type": "display_data"
    }
   ],
   "source": [
    "sessionInfo()"
   ]
  },
  {
   "cell_type": "code",
   "execution_count": null,
   "id": "e430d626",
   "metadata": {
    "vscode": {
     "languageId": "r"
    }
   },
   "outputs": [],
   "source": []
  }
 ],
 "metadata": {
  "kernelspec": {
   "display_name": "R",
   "language": "R",
   "name": "ir"
  },
  "language_info": {
   "codemirror_mode": "r",
   "file_extension": ".r",
   "mimetype": "text/x-r-source",
   "name": "R",
   "pygments_lexer": "r",
   "version": "4.3.3"
  },
  "toc-autonumbering": true
 },
 "nbformat": 4,
 "nbformat_minor": 5
}
