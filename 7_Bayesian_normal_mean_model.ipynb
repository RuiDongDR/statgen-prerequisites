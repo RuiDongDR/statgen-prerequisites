{
 "cells": [
  {
   "cell_type": "markdown",
   "id": "0f51c9ad-429d-448a-a885-470c33cc2802",
   "metadata": {
    "tags": []
   },
   "source": [
    "## Bayesian normal mean model\n",
    "\n",
    "# Intuition\n",
    "Bayesian \n",
    "\n",
    "**FIGURE PLACEHOLDER:** ![Likelihood Intuition Cartoon](image_placeholder)"
   ]
  },
  {
   "cell_type": "markdown",
   "id": "c1760828-0b6b-4252-bd13-af623124ac7b",
   "metadata": {
    "tags": []
   },
   "source": [
    "# Notations\n",
    "\n",
    "## Bayesian Inference\n",
    "\n",
    "Bayesian inference is a method of statistical inference in which we update our beliefs about a parameter as new data becomes available. The key components are:\n",
    "\n",
    "- **Prior**: The initial belief or probability distribution about a parameter before observing data.\n",
    "- **Likelihood**: The probability of observing the data given a particular value of the parameter.\n",
    "- **Posterior**: The updated belief about the parameter after incorporating the observed data.\n",
    "\n",
    "Bayes' theorem provides the foundation for Bayesian inference:\n",
    "\n",
    "$$\n",
    "P(\\theta|D) = \\frac{P(D|\\theta) P(\\theta)}{P(D)}\n",
    "$$\n",
    "\n",
    "where:\n",
    "- $ P(\\theta|D) $ is the **posterior** distribution of the parameter $ \\theta $ given the data $ D $.\n",
    "- $ P(D|\\theta) $ is the **likelihood** of the data given the parameter.\n",
    "- $ P(\\theta) $ is the **prior** distribution of $ \\theta $.\n",
    "- $ P(D) $ is the **marginal likelihood**, which normalizes the posterior distribution.\n",
    "\n",
    "By ignoring the denominator (which does not depend on $ \\theta $), we can express this relationship as:\n",
    "\n",
    "$$\n",
    "P(\\theta|D) \\propto P(D|\\theta) P(\\theta)\n",
    "$$\n"
   ]
  },
  {
   "cell_type": "markdown",
   "id": "de0fb223-5398-4649-bbba-a816bfff1760",
   "metadata": {},
   "source": [
    "## Bayesian Normal Mean Model\n",
    "\n",
    "### Model Assumptions\n",
    "\n",
    "In the Bayesian normal mean model, we assume the data $ D = \\{ (x_1,y_1), (x_2, y_2), \\dots, (x_n, y_n) \\} $ are independent and normally distributed:\n",
    "\n",
    "$$\n",
    "y_i \\mid \\theta, x_i \\sim \\mathcal{N}(\\theta, \\sigma^2), \\quad i = 1, \\dots, n\n",
    "$$\n",
    "\n",
    "where:\n",
    "- $ \\theta $ is the unknown mean parameter.\n",
    "- $ \\sigma^2 $ is the known variance.\n"
   ]
  },
  {
   "cell_type": "markdown",
   "id": "7f13acd4-c19e-4a66-bbbf-9a2f54e27681",
   "metadata": {},
   "source": [
    "### Prior Distribution\n",
    "\n",
    "A common choice for the prior on $ \\theta $ is a normal distribution:\n",
    "\n",
    "$$\n",
    "\\theta \\sim \\mathcal{N}(\\theta_0, \\sigma_0^2)\n",
    "$$\n",
    "\n",
    "where $ \\theta_0 $ is the prior mean and $ \\sigma_0^2 $ is the prior variance. \n",
    "\n",
    "The precision is defined as $\\tau_0=\\frac{1}{\\sigma_0^2}$. In other words, the prior of $\\theta \\sim \\mathcal{N}(\\theta_0, \\frac{1}{\\sigma_0^2})$ (i.e., $\\theta \\sim \\mathcal{N}(\\theta_0, \\tau_0$)).\n",
    "\n",
    "(Here the 0 subscript is being used to indicate that $\\theta_0$, $\\sigma_0$ are parameters in the prior.)\n",
    "\n"
   ]
  },
  {
   "cell_type": "markdown",
   "id": "55c9a02a-e546-452f-8ab1-1a4b71e72b9b",
   "metadata": {
    "tags": []
   },
   "source": [
    "### Posterior Distribution\n",
    "\n",
    "Using Bayes' theorem, the posterior distribution of $ \\theta $ is given by:\n",
    "\n",
    "$$\n",
    "P(\\theta | D) \\propto P(D | \\theta) P(\\theta)\n",
    "$$\n",
    "\n",
    "Substituting the normal likelihood and normal prior, the posterior distribution for $ \\theta $ is also normal:\n",
    "\n",
    "$$\n",
    "\\theta | D \\sim \\mathcal{N}\\left( \\theta_1, \\sigma_1^2 \\right)\n",
    "$$\n",
    "<!-- \n",
    "where:\n",
    "\n",
    "- Posterior mean:\n",
    "  $$\n",
    "  \\theta_1 = \\frac{n \\bar{x} / \\sigma^2 + \\theta_0 / \\sigma_0^2}{n / \\sigma^2 + 1 / \\sigma_0^2}\n",
    "  $$\n",
    "  which is a weighted average of the prior mean and sample mean $ \\bar{x} $.\n",
    "\n",
    "- Posterior variance:\n",
    "  $$\n",
    "  \\tau_1^2 = \\frac{1}{n / \\sigma^2 + 1 / \\tau_0^2}\n",
    "  $$ -->"
   ]
  },
  {
   "cell_type": "markdown",
   "id": "fe625b87-8a19-4837-8f25-c2483bed51cf",
   "metadata": {},
   "source": [
    "### Compare $M_1$ and $M_2$ based on data $D$\n",
    "When comparing two models $M_1$ and $M_2$, we calculate the **posterior odds** for each model. The **posterior odds** represent the ratio of the posterior probabilities for the two models. This can be written as:\n",
    "\n",
    "$$\n",
    "\\frac{P(M_1|D)}{P(M_2|D)} = \\frac{P(D|M_1)P(M_1)}{P(D|M_2)P(M_2)}\n",
    "$$\n",
    "\n",
    "Where:\n",
    "- $P(M_1|D)$ is the **posterior** probability of model $M_1$ given the data $D$.\n",
    "- $P(M_2|D)$ is the **posterior** probability of model $M_2$ given the data $D$.\n",
    "- $P(D|M_1)$ and $P(D|M_2)$ are the **likelihoods** of the data under models $M_1$ and $M_2$, respectively.\n",
    "- $P(M_1)$ and $P(M_2)$ are the **prior probabilities** of models $M_1$ and $M_2$, respectively.\n",
    "\n",
    "This ratio simplifies to:\n",
    "\n",
    "$$\n",
    "\\text{Posterior Odds} = \\text{Prior Odds} \\times \\text{Likelihood Ratio (LR)}\n",
    "$$\n",
    "\n",
    "Where:\n",
    "- **Prior Odds** = $\\frac{P(M_1)}{P(M_2)}$ is the ratio of prior probabilities of the models.\n",
    "- **Likelihood Ratio (LR)** = $\\frac{P(D|M_1)}{P(D|M_2)}$ is the ratio of the likelihoods of the data under each model.\n",
    "\n",
    "Thus, the **posterior odds** can be updated by multiplying the **prior odds** by the **likelihood ratio**."
   ]
  },
  {
   "cell_type": "markdown",
   "id": "b8849b6d-3749-46ca-844a-9e9d886e35f5",
   "metadata": {},
   "source": [
    "**(double click here for more)**\n",
    "<!-- ## Normal Mean Model\n",
    "\n",
    "Let’s now consider the normal mean model where we assume data points $z_1, z_2, \\dots, z_n$ are drawn from a normal distribution with unknown mean $\\mu$ and known variance $\\sigma^2$:\n",
    "\n",
    "$$\n",
    "x_i \\sim N(\\mu, \\sigma^2)\n",
    "$$\n",
    "\n",
    "In this case:\n",
    "\n",
    "1. **Prior**: The prior distribution for the mean $\\mu$ is often assumed to be normal with mean $\\mu_0$ and variance $\\sigma_0^2$, and let's work with the precision $\\tau=\\frac{1}{\\sigma^2}$ instead of the variance $\\sigma^2$.\n",
    "\n",
    "$$\n",
    "P(\\mu) = \\frac{1}{\\sqrt{2 \\pi \\sigma_0^2}} \\exp\\left(-\\frac{(\\mu - \\mu_0)^2}{2 \\sigma_0^2}\\right)\\\\\n",
    "% \\propto \\exp\\left(−0.5\\tau_0\\mu^2+\\tau_0\\mu_0\\mu\\right) \\\\\n",
    "\\propto \\exp\\left(−0.5\\tau_0(\\mu-\\mu_0)^2\\right)\n",
    "$$\n",
    "\n",
    "In other words, the prior of $\\mu \\sim N(\\mu_0, \\frac{1}{\\sigma_0^2})$ (i.e., $\\sim N(\\mu_0, \\tau_0$).\n",
    "(Here the 0 subscript is being used to indicate that $\\mu_0$, $\\sigma_0$ are parameters in the prior.)\n",
    "\n",
    "\n",
    "2. **Likelihood**: The likelihood of observing the data given $\\mu$ is:\n",
    "\n",
    "$$\n",
    "P(D|\\mu) = \\prod_{i=1}^{n} \\frac{1}{\\sqrt{2\\pi \\sigma^2}} \\exp\\left(-\\frac{(x_i - \\mu)^2}{2 \\sigma^2}\\right) \\\\\n",
    "\\propto \\prod_{i=1}^{n}\\exp\\left(-\\frac{(x_i - \\mu)^2}{2 \\sigma^2}\\right) \\\\\n",
    "% \\propto \\prod_{i=1}^{n}\\exp\\left(−0.5\\tau x_i^2+\\tau x_i\\mu\\right) \\\\\n",
    "\\propto \\prod_{i=1}^{n} \\exp\\left(−0.5 \\tau (x_i - \\mu)^2\\right)\n",
    "$$\n",
    "\n",
    "3. **Posterior**: The posterior distribution of $\\mu$ given the data $D = \\{x_1, x_2, \\dots, x_n\\}$ combines the prior and likelihood using Bayes' theorem. The formula for the posterior is proportional to:\n",
    "\n",
    "$$\n",
    "P(\\mu|D) \\propto P(D|\\mu) P(\\mu) \\\\\n",
    "\\propto \\prod_{i=1}^{n} \\exp\\left(−0.5 \\tau (x_i - \\mu)^2\\right) \\times \\exp\\left(−0.5 \\tau_0 (\\mu - \\mu_0)^2\\right)\\\\\n",
    "\\propto \\exp\\left[−0.5 \\tau \\sum_{i=1}^{n} (x_i - \\mu)^2 − 0.5 \\tau_0 (\\mu - \\mu_0)^2\\right]\\\\\n",
    "\\propto \\exp\\left[−0.5 (\\tau + \\tau_0) \\mu^2 + \\left( \\sum_{i=1}^{n} x_i \\tau + \\mu_0 \\tau_0 \\right) \\mu \\right]\n",
    "$$\n",
    "\n",
    "From the result in “Preliminaries” above we see that\n",
    "$$\n",
    "\\mu | X \\sim N(\\mu_1, \\frac{1}{\\tau_1})\n",
    "$$\n",
    "where:\n",
    "- $\\tau_1 = \\tau + \\tau_0$ is the posterior precision (i.e., $\\sigma_1^2 = \\frac{1}{\\frac{1}{\\sigma_1^2} + \\frac{n}{\\sigma^2}}$ is the posterior variance.)\n",
    "- $\\mu_1 = \\frac{\\sum_{i=1}^{n} x_i \\tau + \\mu_0 \\tau_0}{\\tau + \\tau_0}$ is the posterior mean.\n",
    " -->"
   ]
  },
  {
   "cell_type": "markdown",
   "id": "89011cb1-8f08-4eb5-bc8f-9ff0c0c4e80a",
   "metadata": {},
   "source": [
    "## Summary\n",
    "- **Bayes' theorem** combines these components: $P(\\mu|D) \\propto P(D|\\mu) P(\\mu)$.\n",
    "- The **prior** represents our belief about the parameter before seeing any data.\n",
    "- The **likelihood** represents how likely we are to observe the data given the parameter.\n",
    "- The **posterior** is the updated belief about the parameter after seeing the data.\n",
    "    - the **Posterior precision** ($\\tau_1$) is the sum of the Data precision ($\\tau$) and the Prior precision ($\\tau_0$). This makes sense: the more precise your data, and the more precise your prior information, the more precise your posterior information. Also, this means that the data always improves your posterior precision compared with the prior: noisy data (small $\\tau$) improves it only a little, whereas precise data improves it a lot.\n",
    "    - If we rewrite the **posterior mean** as:\n",
    "    $$\n",
    "    \\mu_1=w\\sum_i^n x_i+(1−w)\\mu_0\n",
    "    $$\n",
    "    where $w=\\tau/(\\tau+\\tau_0)$. Thus $\\mu_1$ is a weighted average of the sum of the data $x_i$ and the prior mean $\\mu_0$. And the weights depend on the relative precision of the data and the prior. If the data are precise compared with the prior ($\\tau>>\\tau_0$) then the weight w will be close to 1 and the posterior mean will be close to the data.\n",
    "- Model comparison in Bayesian inference is performed using Bayes factors."
   ]
  },
  {
   "cell_type": "markdown",
   "id": "b470ab23-4c60-4e43-a265-e4de3d945285",
   "metadata": {},
   "source": [
    "# Example"
   ]
  },
  {
   "cell_type": "code",
   "execution_count": 70,
   "id": "9b5805df-7ce6-4046-9b3e-b45d36831f48",
   "metadata": {
    "tags": []
   },
   "outputs": [
    {
     "data": {
      "text/html": [
       "<table class=\"dataframe\">\n",
       "<caption>A data.frame: 3 × 2</caption>\n",
       "<thead>\n",
       "\t<tr><th scope=col>genotype</th><th scope=col>height</th></tr>\n",
       "\t<tr><th scope=col>&lt;dbl&gt;</th><th scope=col>&lt;dbl&gt;</th></tr>\n",
       "</thead>\n",
       "<tbody>\n",
       "\t<tr><td>1</td><td>171.1031</td></tr>\n",
       "\t<tr><td>2</td><td>174.1848</td></tr>\n",
       "\t<tr><td>0</td><td>171.5878</td></tr>\n",
       "</tbody>\n",
       "</table>\n"
      ],
      "text/latex": [
       "A data.frame: 3 × 2\n",
       "\\begin{tabular}{ll}\n",
       " genotype & height\\\\\n",
       " <dbl> & <dbl>\\\\\n",
       "\\hline\n",
       "\t 1 & 171.1031\\\\\n",
       "\t 2 & 174.1848\\\\\n",
       "\t 0 & 171.5878\\\\\n",
       "\\end{tabular}\n"
      ],
      "text/markdown": [
       "\n",
       "A data.frame: 3 × 2\n",
       "\n",
       "| genotype &lt;dbl&gt; | height &lt;dbl&gt; |\n",
       "|---|---|\n",
       "| 1 | 171.1031 |\n",
       "| 2 | 174.1848 |\n",
       "| 0 | 171.5878 |\n",
       "\n"
      ],
      "text/plain": [
       "  genotype height  \n",
       "1 1        171.1031\n",
       "2 2        174.1848\n",
       "3 0        171.5878"
      ]
     },
     "metadata": {},
     "output_type": "display_data"
    }
   ],
   "source": [
    "rm(list=ls())\n",
    "set.seed(2)\n",
    "\n",
    "# Simulate true mean and effect size\n",
    "baseline <- 170  # Population mean of the trait (e.g., height in cm) when the genetic variant has no effect (Model 1)\n",
    "theta_true <- 2  # True effect size of the genetic variant. This represents the change in height (in cm) associated with each additional minor allele (Model 2)\n",
    "sd_y <- 1  # Standard deviation of the trait (e.g., variability in height measurement within the population)\n",
    "\n",
    "# Simulate genotypes for three individuals\n",
    "genotype <- c(1, 2, 0)\n",
    "\n",
    "# Simulate height values for three individuals based on genotypes\n",
    "n = length(genotype)\n",
    "height_values <- rnorm(n, mean = baseline + theta_true * genotype, sd = sd_y)\n",
    "\n",
    "# Display the simulated data\n",
    "data.frame(genotype = genotype, height = height_values)\n"
   ]
  },
  {
   "cell_type": "markdown",
   "id": "e98c48d6-97d8-4344-b820-a01f3c09f903",
   "metadata": {},
   "source": [
    "## Bayesian Inference\n",
    "\n",
    "We assume a normal prior for the effect size $\\beta$:\n",
    "\n",
    "$$\n",
    "\\beta \\sim \\mathcal{N}(\\beta_0, 1/\\tau_0)\n",
    "$$\n",
    "\n",
    "Using Bayesian updating, the posterior distribution of $\\beta$ is given by:\n",
    "$$\n",
    "\\theta | x \\sim \\mathcal{N}(\\beta_1, 1/\\tau_1),\n",
    "$$\n",
    "where:\n",
    "- $\\tau_1 = \\tau + \\tau_0$ (posterior precision is the sum of data and prior precision),\n",
    "- $\\beta_1 = \\frac{\\sum_{i=1}^{n} x_i \\tau + \\beta_0 \\tau_0}{\\tau + \\tau_0}$ (posterior mean is a weighted estimate incorporating both data and prior information)."
   ]
  },
  {
   "cell_type": "code",
   "execution_count": 71,
   "id": "31350bd0-82e7-43b3-be7b-122b9002febd",
   "metadata": {
    "tags": []
   },
   "outputs": [],
   "source": [
    "# Create a grid of theta values\n",
    "theta_vals <- seq(-1, 2, length.out = 100)"
   ]
  },
  {
   "cell_type": "markdown",
   "id": "fca959a2-b323-4529-9f90-48178cd592f7",
   "metadata": {},
   "source": [
    "### Prior distribution"
   ]
  },
  {
   "cell_type": "code",
   "execution_count": 72,
   "id": "2e8c8bfb-ca8e-4d05-a275-c2c3bd41836b",
   "metadata": {
    "tags": []
   },
   "outputs": [
    {
     "name": "stderr",
     "output_type": "stream",
     "text": [
      " ======= Prior Information for theta ======= \n",
      "\n"
     ]
    },
    {
     "name": "stdout",
     "output_type": "stream",
     "text": [
      "Prior mean of theta_0: 0.5 \n",
      "Standard Deviation (sigma_0): 0.8 \n",
      "Precision (tau_0 = 1/sigma_0^2): 1.5625 \n"
     ]
    }
   ],
   "source": [
    "# prior parameters\n",
    "theta_0 <- 0.5  # Prior mean of theta\n",
    "sigma_0 <- 0.8  # Prior standard deviation of theta is the same as sd_y\n",
    "tau_0 <- 1 / sigma_0^2 # Prior precision of theta\n",
    "# Compute densities\n",
    "prior_density <- dnorm(theta_vals, mean = theta_0, sd = sigma_0)\n",
    "# Print prior information\n",
    "message(\" ======= Prior Information for theta ======= \")\n",
    "cat(\"Prior mean of theta_0:\", theta_0, \"\\n\")\n",
    "cat(\"Standard Deviation (sigma_0):\", sigma_0, \"\\n\")\n",
    "cat(\"Precision (tau_0 = 1/sigma_0^2):\", tau_0, \"\\n\")"
   ]
  },
  {
   "cell_type": "markdown",
   "id": "c4f44f05-a42b-49ce-a63d-ab4df10b8ebb",
   "metadata": {},
   "source": [
    "### Likelihood"
   ]
  },
  {
   "cell_type": "code",
   "execution_count": 73,
   "id": "dc3b4325-7c32-4a50-8a4a-ba0b9f7f3c48",
   "metadata": {
    "tags": []
   },
   "outputs": [],
   "source": [
    "loglikelihood_xy <- function(theta, genotype, height, baseline, sd) {\n",
    "  n <- length(genotype)\n",
    "  log_likelihood <- sum(dnorm(height, mean = baseline + theta * genotype, sd = sd, log = TRUE))\n",
    "  return(log_likelihood)\n",
    "}\n",
    "\n",
    "# Calculate log-likelihood for each theta value\n",
    "log_likelihood_vals <- sapply(theta_vals, function(theta) loglikelihood_xy(theta, genotype, height_values, baseline, sigma_0))\n"
   ]
  },
  {
   "cell_type": "markdown",
   "id": "6a10eed6-605b-44db-864c-8dfa7986003f",
   "metadata": {},
   "source": [
    "### Posterior distribution"
   ]
  },
  {
   "cell_type": "code",
   "execution_count": 74,
   "id": "cf9e3b3b-4a33-44da-8963-1e2f77575bcc",
   "metadata": {},
   "outputs": [
    {
     "name": "stderr",
     "output_type": "stream",
     "text": [
      " ======= Posterior Information for theta ======= \n",
      "\n"
     ]
    },
    {
     "name": "stdout",
     "output_type": "stream",
     "text": [
      "Posterior mean of theta: 1.577683 \n",
      "Posterior standard deviation of theta (sigma_1): 0.2640116 \n",
      "Posterior precision (tau_1 = 1/sigma_1^2): 14.34677 \n"
     ]
    }
   ],
   "source": [
    "# Calculate the unnormalized posterior (product of prior density and likelihood)\n",
    "posterior_vals <- exp(log_likelihood_vals) * prior_density  # Exponentiate log-likelihood to get likelihood\n",
    "\n",
    "# Calculate the posterior mean (using unnormalized posterior)\n",
    "posterior_mean <- sum(theta_vals * posterior_vals) / sum(posterior_vals)\n",
    "\n",
    "# Calculate the posterior variance (using unnormalized posterior)\n",
    "posterior_variance <- sum((theta_vals - posterior_mean)^2 * posterior_vals) / sum(posterior_vals)\n",
    "\n",
    "# Print the posterior mean and variance\n",
    "message(\" ======= Posterior Information for theta ======= \")\n",
    "cat(\"Posterior mean of theta:\", posterior_mean, \"\\n\")\n",
    "cat(\"Posterior standard deviation of theta (sigma_1):\", sqrt(posterior_variance), \"\\n\")\n",
    "cat(\"Posterior precision (tau_1 = 1/sigma_1^2):\", 1/posterior_variance, \"\\n\")"
   ]
  },
  {
   "cell_type": "code",
   "execution_count": 75,
   "id": "8b3ca9cb-6c0c-4e35-9e2a-9a2e5e453993",
   "metadata": {},
   "outputs": [
    {
     "data": {
      "image/png": "[encoded data removed]",
      "text/plain": [
       "Plot with title “Prior, Likelihood, and Posterior Distributions”"
      ]
     },
     "metadata": {
      "image/png": {
       "height": 420,
       "width": 420
      }
     },
     "output_type": "display_data"
    }
   ],
   "source": [
    "# Plot prior density\n",
    "plot(theta_vals, prior_density, type = \"l\", col = \"blue\", lwd = 3, \n",
    "     ylim = c(0, max(c(prior_density, exp(log_likelihood_vals), posterior_vals))),\n",
    "     xlab =\"Genetic effect (theta)\", ylab = \"Density\", \n",
    "     main = \"Prior, Likelihood, and Posterior Distributions\", cex.lab = 1.5, cex.main = 1.5, lty = 2)\n",
    "\n",
    "# Add likelihood density (normalized for visualization)\n",
    "likelihood_density <- exp(log_likelihood_vals) / sum(exp(log_likelihood_vals))\n",
    "lines(theta_vals, likelihood_density, col = \"darkorange\", lwd = 3, lty = 3)\n",
    "\n",
    "# Add unnormalized posterior density\n",
    "lines(theta_vals, posterior_vals / sum(posterior_vals), col = \"darkcyan\", lwd = 3, lty = 4)\n",
    "\n",
    "# Add legend\n",
    "legend(\"topright\", legend = c(\"Prior\", \"Likelihood\", \"Posterior\"),\n",
    "       col = c(\"blue\", \"darkorange\", \"darkcyan\"), lwd = 3, lty = 2, cex = 1)\n",
    "\n",
    "# Add vertical lines for means\n",
    "abline(v = theta_0, col = \"blue\", lty = 2, lwd = 3)  # Prior mean\n",
    "\n",
    "# Find the likelihood mean (approximately at the maximum of the likelihood)\n",
    "likelihood_max_index <- which.max(likelihood_density)\n",
    "likelihood_mean <- theta_vals[likelihood_max_index]\n",
    "abline(v = likelihood_mean, col = \"darkorange\", lty = 3, lwd = 2)  # Likelihood mean\n",
    "\n",
    "# Calculate the posterior mean (average of theta_vals weighted by posterior values)\n",
    "posterior_mean <- sum(theta_vals * (posterior_vals / sum(posterior_vals)))\n",
    "abline(v = posterior_mean, col = \"darkcyan\", lty = 4, lwd = 3)  # Posterior mean\n",
    "\n",
    "# Label x-axis with mean values\n",
    "text(theta_0 - 0.05, 0.03, labels = round(theta_0, 3), col = \"blue\", cex = 1, pos = 1)  # Prior mean\n",
    "text(likelihood_mean + 0.15, 0.03, labels = round(likelihood_mean, 3), col = \"darkorange\", cex = 1, pos = 1)  # Likelihood mean\n",
    "text(posterior_mean - 0.1, 0.03, labels = round(posterior_mean, 3), col = \"darkcyan\", cex = 1, pos = 1)  # Posterior mean\n"
   ]
  },
  {
   "cell_type": "markdown",
   "id": "60230b1e-8ec2-480e-9f91-cc7fcc38e169",
   "metadata": {},
   "source": [
    "The figure compares the **Prior, Likelihood, and Posterior distributions** for the genetic effect ($\\theta$). \n",
    "- The **Prior** reflects our initial belief about $\\theta$ ($\\theta_0=0.5$)\n",
    "- The **Likelihood** shows the effect of observed data\n",
    "- The **Posterior** combining both to provide a more refined estimate. The Posterior mean, closer to the true value of $\\theta_1=2$ (compared to the prior), illustrates the power of Bayesian updating, incorporating prior knowledge and observed data."
   ]
  },
  {
   "cell_type": "code",
   "execution_count": null,
   "id": "7dc2e66a-e9ea-4f47-ad04-db7602e25bba",
   "metadata": {},
   "outputs": [],
   "source": []
  }
 ],
 "metadata": {
  "kernelspec": {
   "display_name": "R",
   "language": "R",
   "name": "ir"
  },
  "language_info": {
   "codemirror_mode": "r",
   "file_extension": ".r",
   "mimetype": "text/x-r-source",
   "name": "R",
   "pygments_lexer": "r",
   "version": "4.4.2"
  },
  "toc-autonumbering": true
 },
 "nbformat": 4,
 "nbformat_minor": 5
}
