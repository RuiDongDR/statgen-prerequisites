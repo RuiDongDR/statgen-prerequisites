{
 "cells": [
  {
   "cell_type": "markdown",
   "id": "0f51c9ad-429d-448a-a885-470c33cc2802",
   "metadata": {
    "tags": []
   },
   "source": [
    "## Bayesian normal mean model\n",
    "\n",
    "# Intuition\n",
    "Bayesian \n",
    "\n",
    "**FIGURE PLACEHOLDER:** ![Likelihood Intuition Cartoon](image_placeholder)"
   ]
  },
  {
   "cell_type": "markdown",
   "id": "c1760828-0b6b-4252-bd13-af623124ac7b",
   "metadata": {
    "tags": []
   },
   "source": [
    "# Notations\n",
    "\n",
    "## Bayesian Inference\n",
    "\n",
    "Bayesian inference is a method of statistical inference in which we update our beliefs about a parameter as new data becomes available. The key components are:\n",
    "\n",
    "- **Prior**: The initial belief or probability distribution about the parameter $\\mu$ before observing data.\n",
    "- **Likelihood**: The probability of observing the data given a particular value of the parameter $\\mu$.\n",
    "- **Posterior**: The updated belief about the parameter $\\mu$ after incorporating the observed data.\n",
    "\n",
    "Bayes' theorem provides the foundation for Bayesian inference:\n",
    "\n",
    "$$\n",
    "P(\\mu|D) = \\frac{P(D|\\mu) P(\\mu)}{P(D)}\n",
    "$$\n",
    "\n",
    "where:\n",
    "- $ P(\\mu|D) $ is the **posterior** distribution of the parameter $ \\mu $ given the data $ D $.\n",
    "- $ P(D|\\mu) $ is the **likelihood** of the data given the parameter.\n",
    "- $ P(\\mu) $ is the **prior** distribution of $ \\mu $.\n",
    "- $ P(D) $ is the **marginal likelihood**, which normalizes the posterior distribution.\n",
    "\n",
    "By ignoring the denominator (which does not depend on $\\mu$), we can express this relationship as:\n",
    "\n",
    "$$\n",
    "P(\\mu|D) \\propto P(D|\\mu) P(\\mu)\n",
    "$$\n"
   ]
  },
  {
   "cell_type": "markdown",
   "id": "de0fb223-5398-4649-bbba-a816bfff1760",
   "metadata": {},
   "source": [
    "## Bayesian Normal Mean Model\n",
    "\n",
    "### Model Assumptions\n",
    "\n",
    "In the Bayesian normal mean model, we assume the variable $Y$ follows uni-variate normal model $\\mathcal{N}(\\mu, \\sigma^2)$\n",
    "\n",
    "$$\n",
    "Y \\sim \\mathcal{N}(\\mu, \\sigma^2)\n",
    "$$\n",
    "\n",
    "where:\n",
    "- $ \\mu $ is the unknown mean parameter.\n",
    "- $ \\sigma^2 $ is the known variance.\n",
    "\n",
    "And the Bayesian Normal Mean Model is to see what we can learn about the unknown parameter $\\mu$."
   ]
  },
  {
   "cell_type": "markdown",
   "id": "7f13acd4-c19e-4a66-bbbf-9a2f54e27681",
   "metadata": {},
   "source": [
    "### Prior Distribution\n",
    "\n",
    "A common choice for the prior on $ \\mu $ is a normal distribution:\n",
    "\n",
    "$$\n",
    "\\mu \\sim \\mathcal{N}(\\mu_0, \\sigma_0^2)\n",
    "$$\n",
    "\n",
    "where $ \\mu_0 $ is the prior mean and $ \\sigma_0^2 $ is the prior variance. \n",
    "\n",
    "The precision is defined as $\\tau_0 = \\frac{1}{\\sigma_0^2}$. In other words, the prior of $\\mu$ can be rewritten as:\n",
    "\n",
    "$$\n",
    "\\mu \\sim \\mathcal{N}(\\mu_0, \\frac{1}{\\tau_0})\n",
    "$$\n",
    "\n",
    "Therefore, the probability density function (PDF) is \n",
    "\n",
    "$$\n",
    "\\begin{align}\n",
    "p(\\mu)&\\propto \\exp\\left(-\\frac{1}{2}\\tau_0\\mu^2 + \\tau_0\\mu_0 \\mu\\right) \\\\\n",
    "       &\\propto \\exp\\left(-\\frac{1}{2}\\tau_0 (\\mu - \\mu_0)^2\\right)\n",
    "\\end{align}\n",
    "$$\n",
    "\n",
    "\n",
    "(Here, the 0 subscript is used to indicate that $\\mu_0$ and $\\sigma_0$ are parameters in the prior.)\n"
   ]
  },
  {
   "cell_type": "markdown",
   "id": "0d4cf3ab-71a6-41de-b385-5cfc5d74c18f",
   "metadata": {},
   "source": [
    "### Likelihood\n",
    "\n",
    "The likelihood of the data given $\\mu$ and $\\sigma^2$ is:\n",
    "\n",
    "$$\n",
    "Y\\mid\\mu, \\sigma^2 \\sim \\mathcal{N}(\\mu, \\sigma^2)\n",
    "$$\n",
    "\n",
    "The probability density function (PDF) is:\n",
    "\n",
    "$$\n",
    "\\begin{align}\n",
    "p(Y\\mid\\mu) &\\propto \\exp\\left(-\\frac{1}{2} \\tau (Y^2 - 2\\mu Y)\\right)\\\\\n",
    "&\\propto \\exp\\left(-\\frac{1}{2} \\tau (Y - \\mu)^2\\right)\n",
    "\\end{align}\n",
    "$$\n",
    "\n",
    "where $\\tau = \\frac{1}{\\sigma^2}$ is the precision.\n"
   ]
  },
  {
   "cell_type": "markdown",
   "id": "55c9a02a-e546-452f-8ab1-1a4b71e72b9b",
   "metadata": {
    "tags": []
   },
   "source": [
    "### Posterior Distribution\n",
    "\n",
    "Using Bayes' theorem, the posterior distribution of $ \\mu $ is given by:\n",
    "\n",
    "$$\n",
    "p(\\mu|Y) \\propto p(Y|\\mu) p(\\mu)\n",
    "$$\n",
    "\n",
    "Expanding the probability density functions:\n",
    "\n",
    "$$\n",
    "\\begin{align}\n",
    "p(\\mu \\mid Y) &\\propto \\exp\\left(-\\frac{1}{2} \\tau (Y - \\mu)^2\\right) \\exp\\left(-\\frac{1}{2} \\tau_0 (\\mu - \\mu_0)^2\\right) \\\\\n",
    "&\\propto \\exp\\left(-\\frac{1}{2} \\tau (Y^2 - 2Y\\mu + \\mu^2) - \\frac{1}{2} \\tau_0 (\\mu^2 - 2\\mu \\mu_0 + \\mu_0^2)\\right) \\\\\n",
    "&\\propto \\exp\\left(-\\frac{1}{2} (\\tau + \\tau_0) \\mu^2 + (\\tau Y + \\tau_0 \\mu_0) \\mu \\right)\n",
    "\\end{align}\n",
    "$$\n",
    "\n",
    "Recognizing the quadratic form, the posterior distribution follows a normal distribution:\n",
    "\n",
    "$$\n",
    "\\mu \\mid Y \\sim \\mathcal{N}\\left( \\mu_1, \\sigma_1^2 \\right)\n",
    "$$\n",
    "\n",
    "where\n",
    "\n",
    "$$\n",
    "\\mu_1 = \\frac{\\tau Y + \\tau_0 \\mu_0}{\\tau + \\tau_0}, \\quad \\sigma_1^2 = \\frac{1}{\\tau + \\tau_0}\n",
    "$$\n"
   ]
  },
  {
   "cell_type": "markdown",
   "id": "b8849b6d-3749-46ca-844a-9e9d886e35f5",
   "metadata": {},
   "source": [
    "**(double click here for the version for multiple samples)**\n",
    "<!-- ## Normal Mean Model\n",
    "\n",
    "Let’s now consider the normal mean model where we assume data points $z_1, z_2, \\dots, z_n$ are drawn from a normal distribution with unknown mean $\\mu$ and known variance $\\sigma^2$:\n",
    "\n",
    "$$\n",
    "x_i \\sim N(\\mu, \\sigma^2)\n",
    "$$\n",
    "\n",
    "In this case:\n",
    "\n",
    "1. **Prior**: The prior distribution for the mean $\\mu$ is often assumed to be normal with mean $\\mu_0$ and variance $\\sigma_0^2$, and let's work with the precision $\\tau=\\frac{1}{\\sigma^2}$ instead of the variance $\\sigma^2$.\n",
    "\n",
    "$$\n",
    "P(\\mu) = \\frac{1}{\\sqrt{2 \\pi \\sigma_0^2}} \\exp\\left(-\\frac{(\\mu - \\mu_0)^2}{2 \\sigma_0^2}\\right)\\\\\n",
    "% \\propto \\exp\\left(−0.5\\tau_0\\mu^2+\\tau_0\\mu_0\\mu\\right) \\\\\n",
    "\\propto \\exp\\left(−0.5\\tau_0(\\mu-\\mu_0)^2\\right)\n",
    "$$\n",
    "\n",
    "In other words, the prior of $\\mu \\sim N(\\mu_0, \\frac{1}{\\sigma_0^2})$ (i.e., $\\sim N(\\mu_0, \\tau_0$).\n",
    "(Here the 0 subscript is being used to indicate that $\\mu_0$, $\\sigma_0$ are parameters in the prior.)\n",
    "\n",
    "\n",
    "2. **Likelihood**: The likelihood of observing the data given $\\mu$ is:\n",
    "\n",
    "$$\n",
    "P(D|\\mu) = \\prod_{i=1}^{n} \\frac{1}{\\sqrt{2\\pi \\sigma^2}} \\exp\\left(-\\frac{(x_i - \\mu)^2}{2 \\sigma^2}\\right) \\\\\n",
    "\\propto \\prod_{i=1}^{n}\\exp\\left(-\\frac{(x_i - \\mu)^2}{2 \\sigma^2}\\right) \\\\\n",
    "% \\propto \\prod_{i=1}^{n}\\exp\\left(−0.5\\tau x_i^2+\\tau x_i\\mu\\right) \\\\\n",
    "\\propto \\prod_{i=1}^{n} \\exp\\left(−0.5 \\tau (x_i - \\mu)^2\\right)\n",
    "$$\n",
    "\n",
    "3. **Posterior**: The posterior distribution of $\\mu$ given the data $D = \\{x_1, x_2, \\dots, x_n\\}$ combines the prior and likelihood using Bayes' theorem. The formula for the posterior is proportional to:\n",
    "\n",
    "$$\n",
    "P(\\mu|D) \\propto P(D|\\mu) P(\\mu) \\\\\n",
    "\\propto \\prod_{i=1}^{n} \\exp\\left(−0.5 \\tau (x_i - \\mu)^2\\right) \\times \\exp\\left(−0.5 \\tau_0 (\\mu - \\mu_0)^2\\right)\\\\\n",
    "\\propto \\exp\\left[−0.5 \\tau \\sum_{i=1}^{n} (x_i - \\mu)^2 − 0.5 \\tau_0 (\\mu - \\mu_0)^2\\right]\\\\\n",
    "\\propto \\exp\\left[−0.5 (\\tau + \\tau_0) \\mu^2 + \\left( \\sum_{i=1}^{n} x_i \\tau + \\mu_0 \\tau_0 \\right) \\mu \\right]\n",
    "$$\n",
    "\n",
    "From the result in “Preliminaries” above we see that\n",
    "$$\n",
    "\\mu | X \\sim N(\\mu_1, \\frac{1}{\\tau_1})\n",
    "$$\n",
    "where:\n",
    "- $\\tau_1 = \\tau + \\tau_0$ is the posterior precision (i.e., $\\sigma_1^2 = \\frac{1}{\\frac{1}{\\sigma_1^2} + \\frac{n}{\\sigma^2}}$ is the posterior variance.)\n",
    "- $\\mu_1 = \\frac{\\sum_{i=1}^{n} x_i \\tau + \\mu_0 \\tau_0}{\\tau + \\tau_0}$ is the posterior mean. -->"
   ]
  },
  {
   "cell_type": "markdown",
   "id": "89011cb1-8f08-4eb5-bc8f-9ff0c0c4e80a",
   "metadata": {},
   "source": [
    "## Summary\n",
    "- **Bayes' theorem** combines these components: $P(\\mu|D) \\propto P(D|\\mu) P(\\mu)$.\n",
    "- The **prior** represents our belief about the parameter before seeing any data.\n",
    "- The **likelihood** represents how likely we are to observe the data given the parameter.\n",
    "- The **posterior** is the updated belief about the parameter after seeing the data.\n",
    "    - the **Posterior precision** ($\\tau_1$) is the sum of the Data precision ($\\tau$) and the Prior precision ($\\tau_0$). This makes sense: the more precise your data, and the more precise your prior information, the more precise your posterior information. Also, this means that the data always improves your posterior precision compared with the prior: noisy data (small $\\tau$) improves it only a little, whereas precise data improves it a lot.\n",
    "    - If we rewrite the **posterior mean** as:\n",
    "    $$\n",
    "    \\mu_1=w\\sum_i^n x_i+(1−w)\\mu_0\n",
    "    $$\n",
    "    where $w=\\tau/(\\tau+\\tau_0)$. Thus $\\mu_1$ is a weighted average of the sum of the data $x_i$ and the prior mean $\\mu_0$. And the weights depend on the relative precision of the data and the prior. If the data are precise compared with the prior ($\\tau>>\\tau_0$) then the weight w will be close to 1 and the posterior mean will be close to the data.\n",
    "- Model comparison in Bayesian inference is performed using Bayes factors."
   ]
  },
  {
   "cell_type": "markdown",
   "id": "b470ab23-4c60-4e43-a265-e4de3d945285",
   "metadata": {},
   "source": [
    "# Example"
   ]
  },
  {
   "cell_type": "markdown",
   "id": "32c85676-773b-4b72-9af2-bac65c5cab6c",
   "metadata": {},
   "source": [
    "## Description"
   ]
  },
  {
   "cell_type": "markdown",
   "id": "779b5d7c-3463-4713-a8d3-bb8bf321d344",
   "metadata": {},
   "source": [
    "We consider a scenario where we study the height ($Y$) of individuals who do not carry any risk allele (genotype \"00\"). We assume that height follows a univariate normal distribution within this genotype class:\n",
    "$$\n",
    "Y | \\mu, \\sigma^2 \\sim \\mathcal{N}(\\mu, \\sigma^2)\n",
    "$$\n",
    "\n",
    "where $\\mu$ is the unknown mean height, and $\\sigma^2$ is the known variance within this genotype group. Our goal is to estimate $\\mu$ using Bayesian inference."
   ]
  },
  {
   "cell_type": "code",
   "execution_count": 41,
   "id": "3b3299e1-b5f7-4b9d-8012-0d8c08378d38",
   "metadata": {
    "tags": []
   },
   "outputs": [],
   "source": [
    "rm(list=ls())\n",
    "library(ggplot2)"
   ]
  },
  {
   "cell_type": "markdown",
   "id": "4481b731-c76d-439b-b649-7a1583322613",
   "metadata": {},
   "source": [
    "## Prior Distribution\n",
    "\n",
    "We assume a normal prior for $\\mu$:\n",
    "\n",
    "$$\n",
    "\\mu \\sim \\mathcal{N}(\\mu_0, \\sigma_0^2)\n",
    "$$\n",
    "\n",
    "where:\n",
    "\n",
    "- \\$\\mu\\_0 = 160\\$ cm (prior mean height),\n",
    "- \\$\\sigma\\_0^2 = 1\\$ cm\\$^2\\$ (prior variance), leading to a precision \\$\\tau\\_0 = 1/\\sigma\\_0^2\\$."
   ]
  },
  {
   "cell_type": "code",
   "execution_count": 42,
   "id": "558e691f-3d79-456f-92ae-8ba3a4dd9ec6",
   "metadata": {
    "tags": []
   },
   "outputs": [
    {
     "name": "stdout",
     "output_type": "stream",
     "text": [
      "[1] \"Prior mean (mu_0): 160\"\n",
      "[1] \"Prior standard deviation (sigma_0): 1\"\n",
      "[1] \"Prior precision (tau_0): 1\"\n"
     ]
    }
   ],
   "source": [
    "# Prior distribution of mu\n",
    "mu_0 <- 160  # Prior mean\n",
    "sigma_0 <- 1  # Prior standard deviation\n",
    "tau_0 <- 1 / sigma_0^2  # Prior precision\n",
    "print(paste(\"Prior mean (mu_0):\", mu_0))\n",
    "print(paste(\"Prior standard deviation (sigma_0):\", sigma_0))\n",
    "print(paste(\"Prior precision (tau_0):\", tau_0))"
   ]
  },
  {
   "cell_type": "markdown",
   "id": "6a5a7b89-3ed2-4b14-a229-c4977a9cced6",
   "metadata": {},
   "source": [
    "## Observed Data and the likelihood function\n",
    "\n",
    "We observe heights of three individuals from the genotype class \"00\", and we assume the likelihood follows:\n",
    "\n",
    "$$\n",
    "Y | \\mu \\sim \\mathcal{N}(\\mu, \\sigma^2)\n",
    "$$"
   ]
  },
  {
   "cell_type": "code",
   "execution_count": 43,
   "id": "c086eedb-6b2f-4499-8b34-3ee1516e1293",
   "metadata": {
    "tags": []
   },
   "outputs": [
    {
     "name": "stdout",
     "output_type": "stream",
     "text": [
      "[1] \"Observed heights (Y): 168, 173, 171\"\n",
      "[1] \"Number of observations (n): 3\"\n"
     ]
    }
   ],
   "source": [
    "# Observed data (heights of three individuals)\n",
    "Y <- c(168, 173, 171)\n",
    "n <- length(Y)\n",
    "print(paste(\"Observed heights (Y):\", paste(Y, collapse = \", \")))\n",
    "print(paste(\"Number of observations (n):\", n))"
   ]
  },
  {
   "cell_type": "code",
   "execution_count": 44,
   "id": "aa393ec1-f6b5-469d-a455-5a3c2fe4df1d",
   "metadata": {
    "tags": []
   },
   "outputs": [
    {
     "name": "stdout",
     "output_type": "stream",
     "text": [
      "[1] \"Likelihood standard deviation (sigma): 1\"\n",
      "[1] \"Likelihood precision (tau): 1\"\n"
     ]
    }
   ],
   "source": [
    "# Likelihood: Assumption - Heights follow N(mu, sigma^2) with known variance\n",
    "sigma <- 1  # Known standard deviation for heights within genotype class \"00\"\n",
    "tau <- 1 / sigma^2  # Precision\n",
    "print(paste(\"Likelihood standard deviation (sigma):\", sigma))\n",
    "print(paste(\"Likelihood precision (tau):\", tau))"
   ]
  },
  {
   "cell_type": "markdown",
   "id": "b9716fda-c492-4962-b7ab-c099338f4f54",
   "metadata": {},
   "source": [
    "### Posterior Distribution Update\n",
    "\n",
    "Using Bayesian updating, the posterior distribution is given by:\n",
    "\n",
    "$$\n",
    "\\mu | Y \\sim \\mathcal{N}(\\mu_1, \\sigma_1^2)\n",
    "$$\n",
    "\n",
    "where:\n",
    "\n",
    "- **Posterior precision**:\n",
    "  $\\tau_1 = \\tau_0 + n \\tau$\n",
    "- **Posterior mean**:\n",
    "  $\\mu_1 = \\frac{\\tau_0 \\mu_0 + \\tau \\sum Y}{\\tau_1}$\n",
    "- **Posterior standard deviation**:\n",
    "  $\\sigma_1 = \\sqrt{\\frac{1}{\\tau_1}}$\n"
   ]
  },
  {
   "cell_type": "code",
   "execution_count": 45,
   "id": "c490ec19-016a-40ac-a8de-70abe8498767",
   "metadata": {
    "tags": []
   },
   "outputs": [
    {
     "name": "stdout",
     "output_type": "stream",
     "text": [
      "[1] \"Posterior mean (mu_1): 168\"\n",
      "[1] \"Posterior standard deviation (sigma_1): 0.5\"\n",
      "[1] \"Posterior precision (tau_1): 4\"\n"
     ]
    }
   ],
   "source": [
    "# Posterior parameters update\n",
    "tau_1 <- tau_0 + n * tau  # Posterior precision\n",
    "sigma_1 <- sqrt(1 / tau_1)  # Posterior standard deviation\n",
    "mu_1 <- (tau_0 * mu_0 + tau * sum(Y)) / tau_1  # Posterior mean\n",
    "print(paste(\"Posterior mean (mu_1):\", mu_1))\n",
    "print(paste(\"Posterior standard deviation (sigma_1):\", sigma_1))\n",
    "print(paste(\"Posterior precision (tau_1):\", tau_1))\n"
   ]
  },
  {
   "cell_type": "markdown",
   "id": "dda17db0-274f-4a42-90ab-349674cae18d",
   "metadata": {},
   "source": [
    "## Plot the prior and posterior distribution"
   ]
  },
  {
   "cell_type": "code",
   "execution_count": 46,
   "id": "540f0ecf-5387-48fc-abf1-07431b62e383",
   "metadata": {
    "tags": []
   },
   "outputs": [
    {
     "data": {
      "image/png": "[encoded data removed]",
      "text/plain": [
       "plot without title"
      ]
     },
     "metadata": {
      "image/png": {
       "height": 420,
       "width": 420
      }
     },
     "output_type": "display_data"
    }
   ],
   "source": [
    "# Define sequence for plotting\n",
    "mu_vals <- seq(155, 175, length.out = 1000)\n",
    "\n",
    "# Compute density for prior and posterior\n",
    "prior_density <- dnorm(mu_vals, mean = mu_0, sd = sigma_0)\n",
    "posterior_density <- dnorm(mu_vals, mean = mu_1, sd = sigma_1)\n",
    "\n",
    "# Create data frame for ggplot\n",
    "density_df <- data.frame(\n",
    "  mu = rep(mu_vals, 2),\n",
    "  density = c(prior_density, posterior_density),\n",
    "  Distribution = rep(c(\"Prior\", \"Posterior\"), each = length(mu_vals))\n",
    ")\n",
    "\n",
    "# Convert observed data to a data frame\n",
    "observed_df <- data.frame(mu = Y, density = rep(0, length(Y)))  # Set density=0 to align with x-axis\n",
    "\n",
    "# Plot the prior and posterior distributions with observed data points\n",
    "ggplot(density_df, aes(x = mu, y = density, color = Distribution)) +\n",
    "  geom_line(linewidth = 1) +\n",
    "  geom_point(data = observed_df, aes(x = mu, y = 0, color = \"Observed Data\"), size = 3) +  # Add observed data points with legend entry\n",
    "  labs(\n",
    "    title = expression(bold(\"Prior vs Posterior Distribution of \" ~ mu)),\n",
    "    x = expression(bold(mu)),\n",
    "    y = expression(bold(\"Density\"))\n",
    "  ) +\n",
    "  scale_color_manual(values = c(\"Prior\" = \"blue\", \"Posterior\" = \"red\", \"Observed Data\" = \"black\")) +  # Modify legend for observed data\n",
    "  theme_minimal() +\n",
    "  theme(\n",
    "    axis.title = element_text(size = 16, face = \"bold\"),\n",
    "    axis.text = element_text(size = 14),\n",
    "    legend.title = element_blank(),\n",
    "    legend.text = element_text(size = 14),\n",
    "    plot.title = element_text(size = 18, face = \"bold\")\n",
    "  )\n"
   ]
  },
  {
   "cell_type": "markdown",
   "id": "697dd694-8966-4042-8b59-1c36aab76aea",
   "metadata": {},
   "source": [
    "### Explanation of Results\n",
    "\n",
    "The posterior mean and variance have changed compared to the prior because the observed data are larger than the prior mean.\n",
    "\n",
    "- **Posterior Mean ($\\mu_1$):** The observed data (168, 173, and 171) are larger than the prior mean of 160, so the posterior mean shifts towards the observed data, now estimated around 168. This shift reflects the new evidence provided by the data.\n",
    "\n",
    "- **Posterior Variance ($\\sigma_1$):** The posterior variance is smaller than the prior variance because the observed data provides more information. With more data, we become more confident in our estimate, which narrows the distribution around the posterior mean.\n",
    "\n",
    "In summary, the posterior mean shifts towards the data, and the posterior variance decreases because we gain more evidence, increasing our certainty.\n"
   ]
  },
  {
   "cell_type": "code",
   "execution_count": null,
   "id": "63d82879-4333-4464-b637-193be354a8d6",
   "metadata": {},
   "outputs": [],
   "source": []
  }
 ],
 "metadata": {
  "kernelspec": {
   "display_name": "R",
   "language": "R",
   "name": "ir"
  },
  "language_info": {
   "codemirror_mode": "r",
   "file_extension": ".r",
   "mimetype": "text/x-r-source",
   "name": "R",
   "pygments_lexer": "r",
   "version": "4.4.2"
  },
  "toc-autonumbering": true
 },
 "nbformat": 4,
 "nbformat_minor": 5
}
