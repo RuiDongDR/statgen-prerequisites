{
 "cells": [
  {
   "cell_type": "markdown",
   "id": "e6cc63ce",
   "metadata": {
    "jp-MarkdownHeadingCollapsed": true,
    "tags": []
   },
   "source": [
    "# Intuition\n",
    "A likelihood quantifies how well a statistical model explains observed data. In Bayesian terms, it is the key ingredient in updating prior beliefs to posterior beliefs.\n",
    "\n",
    "![figure](./cartoons/6_1.svg)"
   ]
  },
  {
   "cell_type": "markdown",
   "id": "e75bc8e1",
   "metadata": {
    "tags": []
   },
   "source": [
    "# Notations\n",
    "\n",
    "- The **\"likelihood\"** for a model is defined as the probability of the data under the model. That is, given data $D=(x_1, y_1)$ (let's start with a single sample), the likelihood for a fully-specified (discrete) model $M$ is defined as\n",
    "\n",
    "$$\n",
    "L(M)=p(D|M)\n",
    "$$\n",
    "where $p(⋅|M)$ denotes the probability mass function (for discrete data) or probability density function (for continuous data) for model $M$.\n",
    "\n",
    "- When there are multiple samples in $D$, consisting of ($x_1, \\dots, x_n$) and ($y_1, \\dots, y_n$), the likelihood for the model $M$ is the joint probability of all these data points given the model. Assuming the samples are independent, the likelihood function is the product of the individual likelihoods for each sample:\n",
    "\n",
    "$$\n",
    "L(M) = p(D | M) = \\prod_{i=1}^{n} p(x_i, y_i | M)\n",
    "$$\n",
    "\n",
    "This is because, under the assumption of independence, the joint probability of multiple independent samples is the product of their individual probabilities. "
   ]
  },
  {
   "cell_type": "markdown",
   "id": "8f1d779b-f8b5-4596-b0bf-d046ce61b9f3",
   "metadata": {},
   "source": [
    "# Example"
   ]
  },
  {
   "cell_type": "markdown",
   "id": "e165bc3b-c33b-4ec8-a25e-eff8aec086a5",
   "metadata": {},
   "source": [
    "## Single sample"
   ]
  },
  {
   "cell_type": "markdown",
   "id": "2711c40a-5109-4c07-9295-d4f8e5e80a40",
   "metadata": {},
   "source": [
    "We want to assess whether a genetic variant is associated with **height**. To do this, we compare two models:\n",
    "\n",
    "1. **Model 1 ($M_1$)**: The genetic variant has **no effect** on height. This means the trait follows a normal distribution with a mean of 170 cm (average height), with a known standard deviation $\\sigma$.\n",
    "\n",
    "$$\n",
    "y_i \\sim \\mathcal{N}(170, \\sigma^2)\n",
    "$$\n",
    "  \n",
    "2. **Model 2 ($M_2$)**: The genetic variant has a **significant effect** of 2 on height. In this model, the trait follows a normal distribution, but the mean height increases by 2cm for each minor allele (effect size $\\theta = 1$). So, for an individual with genotype $x_i$ (coded as 0, 1, or 2 for the number of minor alleles), the mean height is $170 + 2x_i$ cm.\n",
    "\n",
    "$$\n",
    "y_i \\sim \\mathcal{N}(170 + 2x_i, \\sigma^2)\n",
    "$$\n",
    "\n",
    "Here, $x_i$ represents the genotype of the individual for the genetic variant under study. If $x_i = 0$, the individual has no minor alleles; if $x_i = 1$, they are heterozygous; and if $x_i = 2$, they have two copies of the minor allele.\n",
    "\n",
    "We aim to evaluate which model is more supported by the observed data (e.g., height measurements) using likelihood.\n"
   ]
  },
  {
   "cell_type": "code",
   "execution_count": 143,
   "id": "c0366094-85a8-4748-9f68-760f14492cf8",
   "metadata": {
    "tags": [],
    "vscode": {
     "languageId": "r"
    }
   },
   "outputs": [
    {
     "data": {
      "text/html": [
       "<table class=\"dataframe\">\n",
       "<caption>A data.frame: 1 × 2</caption>\n",
       "<thead>\n",
       "\t<tr><th scope=col>genotype</th><th scope=col>height</th></tr>\n",
       "\t<tr><th scope=col>&lt;dbl&gt;</th><th scope=col>&lt;dbl&gt;</th></tr>\n",
       "</thead>\n",
       "<tbody>\n",
       "\t<tr><td>1</td><td>171.3735</td></tr>\n",
       "</tbody>\n",
       "</table>\n"
      ],
      "text/latex": [
       "A data.frame: 1 × 2\n",
       "\\begin{tabular}{ll}\n",
       " genotype & height\\\\\n",
       " <dbl> & <dbl>\\\\\n",
       "\\hline\n",
       "\t 1 & 171.3735\\\\\n",
       "\\end{tabular}\n"
      ],
      "text/markdown": [
       "\n",
       "A data.frame: 1 × 2\n",
       "\n",
       "| genotype &lt;dbl&gt; | height &lt;dbl&gt; |\n",
       "|---|---|\n",
       "| 1 | 171.3735 |\n",
       "\n"
      ],
      "text/plain": [
       "  genotype height  \n",
       "1 1        171.3735"
      ]
     },
     "metadata": {},
     "output_type": "display_data"
    }
   ],
   "source": [
    "rm(list=ls())\n",
    "set.seed(1)\n",
    "# Simulate true mean and effect size\n",
    "baseline <- 170  # Population mean of the trait (e.g., height in cm) when the genetic variant has no effect (Model 1)\n",
    "theta_true <- 2  # True effect size of the genetic variant. This represents the change in height (in cm) associated with each additional minor allele (Model 2)\n",
    "sd_y <- 1  # Standard deviation of the trait (e.g., variability in height measurement within the population)\n",
    "\n",
    "# Simulate genotype and height values\n",
    "genotype <- 1  # Example genotype (heterozygous)\n",
    "n = length(genotype)\n",
    "height_value <- rnorm(n, mean = baseline + theta_true * genotype, sd = sd_y)\n",
    "\n",
    "data.frame(genotype = genotype, height = height_value)"
   ]
  },
  {
   "cell_type": "markdown",
   "id": "2f7bf828-83d6-47ce-8833-bdeb0d1c9e4f",
   "metadata": {},
   "source": [
    "For **Model 1**, the likelihood for observing a height value $y_i$ is calculated under the assumption that height follows a normal distribution with mean 170 cm:\n",
    "\n",
    "$$\n",
    "L(M_1) = \\frac{1}{\\sqrt{2\\pi s^2}} \\exp \\left( -\\frac{(y_i - 170)^2}{2s^2} \\right)\n",
    "$$\n",
    "\n",
    "For **Model 2**, the likelihood for observing a height value $y_i$ is calculated under the assumption that height follows a normal distribution with mean $170 + 2x_i$ (due to the genetic effect of 2 cm):\n",
    "\n",
    "$$\n",
    "L(M_2) = \\frac{1}{\\sqrt{2\\pi s^2}} \\exp \\left( -\\frac{(y_i - (170 + 2x_i))^2}{2s^2} \\right)\n",
    "$$"
   ]
  },
  {
   "cell_type": "code",
   "execution_count": 144,
   "id": "bd4426b6-32d0-48e9-a589-bf6e6c579eba",
   "metadata": {
    "tags": [],
    "vscode": {
     "languageId": "r"
    }
   },
   "outputs": [],
   "source": [
    "# Likelihood function for normal distribution\n",
    "likelihood <- function(theta, sd, y) {\n",
    "  prod(dnorm(y, mean = theta, sd = sd, log = FALSE))\n",
    "}"
   ]
  },
  {
   "cell_type": "markdown",
   "id": "44e4194c-7ab7-402a-8faf-c8312b7a966a",
   "metadata": {},
   "source": [
    "The Likehood for $M_1$ is:"
   ]
  },
  {
   "cell_type": "code",
   "execution_count": 145,
   "id": "f823acc3-7d93-4182-ab49-5131b3aa60e4",
   "metadata": {
    "tags": [],
    "vscode": {
     "languageId": "r"
    }
   },
   "outputs": [
    {
     "data": {
      "text/html": [
       "0.15532227916716"
      ],
      "text/latex": [
       "0.15532227916716"
      ],
      "text/markdown": [
       "0.15532227916716"
      ],
      "text/plain": [
       "[1] 0.1553223"
      ]
     },
     "metadata": {},
     "output_type": "display_data"
    }
   ],
   "source": [
    "likelihood_1_single_sample <- likelihood(theta = baseline, sd = sd_y, y= height_value)\n",
    "likelihood_1_single_sample"
   ]
  },
  {
   "cell_type": "code",
   "execution_count": 146,
   "id": "c1e172fa-ce40-454f-84b8-be1eb8512889",
   "metadata": {
    "tags": [],
    "vscode": {
     "languageId": "r"
    }
   },
   "outputs": [
    {
     "data": {
      "text/html": [
       "0.327862580033066"
      ],
      "text/latex": [
       "0.327862580033066"
      ],
      "text/markdown": [
       "0.327862580033066"
      ],
      "text/plain": [
       "[1] 0.3278626"
      ]
     },
     "metadata": {},
     "output_type": "display_data"
    }
   ],
   "source": [
    "likelihood_2_single_sample <- likelihood(theta = baseline + theta_true * genotype, sd = sd_y, y = height_value)\n",
    "likelihood_2_single_sample"
   ]
  },
  {
   "cell_type": "markdown",
   "id": "23d7d7e7-f146-410c-95e0-895bd9f07ba9",
   "metadata": {},
   "source": [
    "To better understand the likelihoods, we can visualize the likelihood functions for both models. We plot the likelihood curves for both $M_1$ and $M_2$, with the observed height value marked on the plot. This allows us to visually compare the likelihoods of each model.\n"
   ]
  },
  {
   "cell_type": "code",
   "execution_count": 147,
   "id": "1f9f5b28-78e8-47d4-8317-bdca2423f9fc",
   "metadata": {
    "tags": [],
    "vscode": {
     "languageId": "r"
    }
   },
   "outputs": [
    {
     "data": {
      "image/png": "[encoded data removed]",
      "text/plain": [
       "Plot with title “Likelihoods for M_1 and M_2 on One Sample”"
      ]
     },
     "metadata": {
      "image/png": {
       "height": 420,
       "width": 420
      }
     },
     "output_type": "display_data"
    }
   ],
   "source": [
    "# Create a sequence of x values for plotting the density\n",
    "x_vals <- seq(height_value - 5, height_value + 5, length.out = 100)\n",
    "\n",
    "# Compute the likelihood densities for both models\n",
    "likelihood_1_curve <- dnorm(x_vals, mean = baseline, sd = sd_y)\n",
    "likelihood_2_curve <- dnorm(x_vals, mean = baseline + theta_true * genotype, sd = sd_y)\n",
    "\n",
    "# Plot the two likelihood curves\n",
    "plot(x_vals, likelihood_1_curve, type = \"l\", col = \"blue\", lwd = 2, \n",
    "     xlab = \"Height (cm)\", ylab = \"Density\", \n",
    "     main = \"Likelihoods for M_1 and M_2 on One Sample\")\n",
    "lines(x_vals, likelihood_2_curve, col = \"red\", lwd = 2)\n",
    "\n",
    "# Add vertical dashed line to show the observed height value\n",
    "abline(v = height_value, col = \"black\", lty = 2)\n",
    "\n",
    "# Add labels for the likelihood values at the height value for both models\n",
    "y_label_1 <- dnorm(height_value, mean = baseline, sd = sd_y)\n",
    "y_label_2 <- dnorm(height_value, mean = baseline + theta_true, sd = sd_y)\n",
    "\n",
    "text(height_value, y_label_1, labels = paste(\"L(M_1) =\", round(y_label_1, 3)), pos = 4, col = \"blue\")\n",
    "text(height_value, y_label_2, labels = paste(\"L(M_2) =\", round(y_label_2, 3)), pos = 3, col = \"red\")\n",
    "\n",
    "# Add points at the intersection of the height value on both curves\n",
    "points(height_value, y_label_1, col = \"blue\", pch = 16, cex = 1.5)\n",
    "points(height_value, y_label_2, col = \"red\", pch = 16, cex = 1.5)\n",
    "\n",
    "# Add a legend\n",
    "legend(\"topright\", legend = c(\"L(M_1)\", \"L(M_2)\"), \n",
    "       col = c(\"blue\", \"red\"), lwd = 2)\n"
   ]
  },
  {
   "cell_type": "markdown",
   "id": "96827257-a0b7-44bb-a49f-3b66d2fbe66c",
   "metadata": {},
   "source": [
    "**Interpretation of the figure:**\n",
    "\n",
    "- The plot shows the likelihoods of the two models for the observed height value.\n",
    "- The blue curve ($M_1$) shows the likelihood of the height value under the assumption that the genetic variant has no effect on height (mean = 170 cm).\n",
    "- The red curve ($M_2$) shows the likelihood assuming a genetic effect on height (mean = 172 cm due to the genetic effect).\n",
    "\n",
    "By comparing the likelihoods at the observed height value (the vertical dashed line), we can see which model is more likely given the observed data. A higher likelihood indicates a better fit of the model to the data. If $M_2$ has a higher likelihood, it suggests that the genetic variant has an effect on height. If $M_1$ has a higher likelihood, it suggests that there is no evidence for a genetic effect.\n"
   ]
  },
  {
   "cell_type": "markdown",
   "id": "e2b9ea22-b5b0-4421-8a8a-e936580b125a",
   "metadata": {},
   "source": [
    "## Multiple samples\n",
    "\n",
    "Following the one-sample case, let's consider three samples.\n",
    "\n",
    "Therefore, if $y_i$ ($i=1,...,n$) is the observed trait value for individual $i$, then under **$M_1$**:\n",
    "\n",
    "$$\n",
    "y_i \\sim \\mathcal{N}(170, s^2)\n",
    "$$\n",
    "  \n",
    "versus under **$M_2$**:\n",
    "$$\n",
    "y_i \\sim \\mathcal{N}(170 + 2x_i, s^2)\n",
    "$$\n",
    "\n",
    "\n",
    "**The likelihood for each model is the probability of observing the data given the parameters of the model.**\n",
    "\n",
    "For a normal distribution, the likelihood for $M_1$ is given by:\n",
    "\n",
    "$$\n",
    "L(M_1) = \\prod_{i=1}^{n} \\frac{1}{\\sqrt{2\\pi s^2}} \\exp \\left( -\\frac{(y_i - 170)^2}{2 s^2} \\right)\n",
    "$$\n",
    "\n",
    "For **Model 2 ($M_2$)**, the likelihood becomes:\n",
    "\n",
    "$$\n",
    "L(M_2) = \\prod_{i=1}^{n} \\frac{1}{\\sqrt{2\\pi s^2}} \\exp \\left( -\\frac{(y_i - (170 + 2x_i))^2}{2 s^2} \\right)\n",
    "$$\n",
    "\n",
    "This product represents the likelihood of observing the entire dataset under each model, considering each individual’s trait value and genotype."
   ]
  },
  {
   "cell_type": "markdown",
   "id": "08b7a918-cfe9-487c-ae7a-38e15b0dba92",
   "metadata": {},
   "source": [
    "Here let's consider when $n=3$."
   ]
  },
  {
   "cell_type": "code",
   "execution_count": 135,
   "id": "3eb6c68f-f60e-4441-ab46-9000173e386d",
   "metadata": {
    "tags": [],
    "vscode": {
     "languageId": "r"
    }
   },
   "outputs": [
    {
     "data": {
      "text/html": [
       "<table class=\"dataframe\">\n",
       "<caption>A data.frame: 3 × 2</caption>\n",
       "<thead>\n",
       "\t<tr><th scope=col>genotype</th><th scope=col>height</th></tr>\n",
       "\t<tr><th scope=col>&lt;dbl&gt;</th><th scope=col>&lt;dbl&gt;</th></tr>\n",
       "</thead>\n",
       "<tbody>\n",
       "\t<tr><td>1</td><td>171.1031</td></tr>\n",
       "\t<tr><td>2</td><td>174.1848</td></tr>\n",
       "\t<tr><td>0</td><td>171.5878</td></tr>\n",
       "</tbody>\n",
       "</table>\n"
      ],
      "text/latex": [
       "A data.frame: 3 × 2\n",
       "\\begin{tabular}{ll}\n",
       " genotype & height\\\\\n",
       " <dbl> & <dbl>\\\\\n",
       "\\hline\n",
       "\t 1 & 171.1031\\\\\n",
       "\t 2 & 174.1848\\\\\n",
       "\t 0 & 171.5878\\\\\n",
       "\\end{tabular}\n"
      ],
      "text/markdown": [
       "\n",
       "A data.frame: 3 × 2\n",
       "\n",
       "| genotype &lt;dbl&gt; | height &lt;dbl&gt; |\n",
       "|---|---|\n",
       "| 1 | 171.1031 |\n",
       "| 2 | 174.1848 |\n",
       "| 0 | 171.5878 |\n",
       "\n"
      ],
      "text/plain": [
       "  genotype height  \n",
       "1 1        171.1031\n",
       "2 2        174.1848\n",
       "3 0        171.5878"
      ]
     },
     "metadata": {},
     "output_type": "display_data"
    }
   ],
   "source": [
    "set.seed(2)\n",
    "# Simulate genotypes for three individuals\n",
    "genotype <- c(1, 2, 0)\n",
    "\n",
    "# Simulate height values for three individuals based on genotypes\n",
    "n = length(genotype)\n",
    "height_values <- rnorm(n, mean = baseline + theta_true * genotype, sd = sd_y)\n",
    "\n",
    "data.frame(genotype = genotype, height = height_values)"
   ]
  },
  {
   "cell_type": "code",
   "execution_count": 137,
   "id": "39229c4b-cc41-4461-ba21-ea587983d9de",
   "metadata": {
    "tags": [],
    "vscode": {
     "languageId": "r"
    }
   },
   "outputs": [
    {
     "data": {
      "text/html": [
       "1.54216681864344e-06"
      ],
      "text/latex": [
       "1.54216681864344e-06"
      ],
      "text/markdown": [
       "1.54216681864344e-06"
      ],
      "text/plain": [
       "[1] 1.542167e-06"
      ]
     },
     "metadata": {},
     "output_type": "display_data"
    }
   ],
   "source": [
    "# Likelihood for Model 1\n",
    "likelihood_1_multi_samples <- likelihood(theta = baseline, sd = sd_y, height_values)\n",
    "likelihood_1_multi_samples"
   ]
  },
  {
   "cell_type": "code",
   "execution_count": 138,
   "id": "2d925102-2d35-42b9-bdc1-497a7fa6da94",
   "metadata": {
    "tags": [],
    "vscode": {
     "languageId": "r"
    }
   },
   "outputs": [
    {
     "data": {
      "text/html": [
       "0.0118342849032726"
      ],
      "text/latex": [
       "0.0118342849032726"
      ],
      "text/markdown": [
       "0.0118342849032726"
      ],
      "text/plain": [
       "[1] 0.01183428"
      ]
     },
     "metadata": {},
     "output_type": "display_data"
    }
   ],
   "source": [
    "# Likelihood for Model 2\n",
    "likelihood_2_multi_samples <- likelihood(theta = baseline + theta_true * genotype, sd = sd_y, height_values)\n",
    "likelihood_2_multi_samples"
   ]
  },
  {
   "cell_type": "markdown",
   "id": "31116eb5-3bc6-4b11-a4ba-85964e606ab7",
   "metadata": {},
   "source": [
    "The likelihoods for $M_1$ and $M_2$ are vastly different, with $M_2$ yielding a much higher likelihood compared to Model 1. This suggests that the genetic effect in $M_2$ fits the observed height data better. \n",
    "\n",
    "**In topic 6.2 we will discuss how to compare the likelihood of two (or more) models.**"
   ]
  },
  {
   "cell_type": "markdown",
   "id": "f3c6c991-14ec-4d89-a7eb-f2928ce3c6f6",
   "metadata": {},
   "source": [
    "## Log-likelihood"
   ]
  },
  {
   "cell_type": "markdown",
   "id": "1b15b54b-db99-4943-a6e0-dba9067df08e",
   "metadata": {},
   "source": [
    "The log-likelihood is the **logarithm of the likelihood function**. In practice, the **log-likehood** is often preferred over the likelihood when there are multiple samples, for several reasons:\n",
    "\n",
    "1. **Numerical Stability**:  \n",
    "   Likelihood values are often very small, especially in large datasets. Directly working with such small numbers can cause numerical underflow. Taking the logarithm transforms these small numbers into more manageable values.\n",
    "\n",
    "2. **Simplifies Computation**:  \n",
    "   Many likelihood functions involve products of probabilities. The logarithm converts these products into sums, making them easier to compute and differentiate:\n",
    "\n",
    "   $$\n",
    "   l(\\theta) = \\log P(X_1, X_2, ..., X_n | \\theta) = \\sum_{i=1}^{n} \\log P(X_i | \\theta)\n",
    "   $$\n",
    "\n",
    "   This is particularly useful in optimization and estimation procedures.\n",
    "\n",
    "3. **Convexity and Optimization**:  \n",
    "   In many cases, the log-likelihood function is concave (or at least easier to optimize) compared to the likelihood function. This makes methods like gradient ascent and Newton-Raphson more effective.\n",
    "\n",
    "4. **Consistency with Information-Theoretic Measures**:  \n",
    "   Many statistical criteria, such as the Akaike Information Criterion (AIC) and Bayesian Information Criterion (BIC), are based on log-likelihood. This aligns statistical inference with concepts from information theory.\n",
    "\n",
    "5. **Asymptotic Properties**:  \n",
    "   In large-sample theory (e.g., asymptotics of Maximum Likelihood Estimation), the log-likelihood has well-defined properties, such as its relationship to the Fisher Information and the Central Limit Theorem.\n",
    "\n",
    "Overall, the log-likelihood improves numerical precision, simplifies mathematical operations, and aligns with theoretical properties that are useful for statistical inference.\n",
    "\n",
    "In this case, the log-likelihood for a normal distribution is given by:\n",
    "\n",
    "$$\n",
    "\\ell(\\theta, s) = -\\frac{n}{2} \\log(2\\pi s^2) - \\sum_{i=1}^{n} \\frac{(y_i - \\theta)^2}{2 s^2}\n",
    "$$\n"
   ]
  },
  {
   "cell_type": "code",
   "execution_count": 139,
   "id": "d76f8750-bf68-45af-aca9-5b40d6318dd0",
   "metadata": {
    "tags": [],
    "vscode": {
     "languageId": "r"
    }
   },
   "outputs": [],
   "source": [
    "# Log-likelihood for a model with theta and s\n",
    "log_likelihood <- function(theta, sd, y) {\n",
    "  sum(dnorm(y, mean = theta, sd = sd, log = TRUE))\n",
    "}\n"
   ]
  },
  {
   "cell_type": "markdown",
   "id": "a3c8b56c-ff05-468e-9d7b-1d1164935927",
   "metadata": {},
   "source": [
    "The log-likehood for $M_1$ is:"
   ]
  },
  {
   "cell_type": "code",
   "execution_count": 140,
   "id": "fc927c93-1ffe-4c3b-97e9-4f511c7b5e12",
   "metadata": {
    "tags": [],
    "vscode": {
     "languageId": "r"
    }
   },
   "outputs": [
    {
     "data": {
      "text/html": [
       "-13.3823221053779"
      ],
      "text/latex": [
       "-13.3823221053779"
      ],
      "text/markdown": [
       "-13.3823221053779"
      ],
      "text/plain": [
       "[1] -13.38232"
      ]
     },
     "metadata": {},
     "output_type": "display_data"
    }
   ],
   "source": [
    "loglikelihood_1_multi_samples <- log_likelihood(theta = baseline, sd = sd_y, height_values)\n",
    "loglikelihood_1_multi_samples"
   ]
  },
  {
   "cell_type": "markdown",
   "id": "b64aaea3-dd5b-4ccb-aea2-f31d901dee8d",
   "metadata": {},
   "source": [
    "The log-likehood for $M_2$ is:"
   ]
  },
  {
   "cell_type": "code",
   "execution_count": 141,
   "id": "6956f513-9d8b-4507-a8d4-702562fcebff",
   "metadata": {
    "tags": [],
    "vscode": {
     "languageId": "r"
    }
   },
   "outputs": [
    {
     "data": {
      "text/html": [
       "-4.43675446004087"
      ],
      "text/latex": [
       "-4.43675446004087"
      ],
      "text/markdown": [
       "-4.43675446004087"
      ],
      "text/plain": [
       "[1] -4.436754"
      ]
     },
     "metadata": {},
     "output_type": "display_data"
    }
   ],
   "source": [
    "loglikelihood_2_multi_samples <- log_likelihood(theta = baseline + theta_true * genotype, sd = sd_y, height_values)\n",
    "loglikelihood_2_multi_samples"
   ]
  },
  {
   "cell_type": "markdown",
   "id": "ad4fda16-7ac1-45c9-a3d1-99b777dff223",
   "metadata": {},
   "source": [
    "If we calculate the likelihood first and then take the log of it, they are the same:"
   ]
  },
  {
   "cell_type": "code",
   "execution_count": 142,
   "id": "46034036-d49a-4c26-b203-cb782ad8beaf",
   "metadata": {
    "tags": [],
    "vscode": {
     "languageId": "r"
    }
   },
   "outputs": [
    {
     "data": {
      "text/html": [
       "-13.3823221053779"
      ],
      "text/latex": [
       "-13.3823221053779"
      ],
      "text/markdown": [
       "-13.3823221053779"
      ],
      "text/plain": [
       "[1] -13.38232"
      ]
     },
     "metadata": {},
     "output_type": "display_data"
    },
    {
     "data": {
      "text/html": [
       "-4.43675446004087"
      ],
      "text/latex": [
       "-4.43675446004087"
      ],
      "text/markdown": [
       "-4.43675446004087"
      ],
      "text/plain": [
       "[1] -4.436754"
      ]
     },
     "metadata": {},
     "output_type": "display_data"
    }
   ],
   "source": [
    "log(likelihood_1_multi_samples)\n",
    "log(likelihood_2_multi_samples)"
   ]
  },
  {
   "cell_type": "markdown",
   "id": "845fe547-467e-4381-a43f-6578119aef6d",
   "metadata": {
    "tags": []
   },
   "source": [
    "# Summary\n",
    "- The **\"likelihood\"** for a model is defined as the probability of the data under the model. That is, given data $D$, the likelihood for a fully-specified (discrete) model $M$ is defined as\n",
    "\n",
    "$$\n",
    "L(M)=p(D|M)\n",
    "$$\n",
    "where $p(⋅|M)$ denotes the probability mass function (for discrete data) or probability density function (for continuous data) for model $M$.\n",
    "\n",
    "- When expanding from a **single sample** to **multiple samples**, the likelihood of the entire dataset is calculated as the **product of individual likelihoods** for each sample. This allows us to evaluate how well the model fits all observations collectively, as shown in the multiple-sample case.\n",
    "\n",
    "- In practice, **log-likelihood** is often preferred over **likelihood** because it offers better numerical precision, simplifies mathematical operations, and aligns with properties useful for statistical inference. The log transformation also makes likelihoods easier to handle, particularly when comparing multiple models:\n",
    "\n",
    "$$\n",
    "l(M)=\\log(L(M)) = \\log(p(D|M))\n",
    "$$\n",
    "\n",
    "- Although here we introduce likelihood for a model, in practice it is almost always the **likelihood ratio** (or **log-likelihood ratio**)  that matters (which we will introduce in the next notebook). As Matthew stated in the notes: \n",
    "> This is because actual likelihood values are generally not useful - it is only the ratios that matter when comparing the models. One way of thinking about this is that the actual likelihood values are very context dependent, and so likelihoods from different data sets are not comparable with one another.\n"
   ]
  },
  {
   "cell_type": "markdown",
   "id": "2ae0cc3f-cb87-42ff-a9f0-4265c1c0aa4f",
   "metadata": {},
   "source": [
    "# Supplementary Materials"
   ]
  },
  {
   "cell_type": "markdown",
   "id": "8495c4bf-ae08-47e8-82c1-af0a8f169a69",
   "metadata": {},
   "source": [
    "Here we provide more examples to help you understand the likelihood."
   ]
  },
  {
   "cell_type": "markdown",
   "id": "407f88f3-560a-40d1-9559-c1e36dcbf84c",
   "metadata": {
    "tags": []
   },
   "source": [
    "## Example 1 -- allele frequency of elephant\n",
    "\n",
    "### Description of the question\n",
    "\n",
    "Here we use an example from [Matthew Stephen's notes](http://stephens999.github.io/fiveMinuteStats/likelihood_ratio_simple_models.html).\n",
    "\n",
    "> [Technical Note: to simplify this problem I have assumed that elephants are haploid, which they are not. If you do not know what this means you should simply ignore this comment.]\n",
    ">\n",
    "> There are two subspecies of African Elephant: savannah and forest elephants, which differ in their genetic makeup. Interpol have seized an illegally-smuggled elephant tusk, and they want to know which subspecies of elephant the tusk came from. To try to answer this they collect DNA from the tusk and measure it at a number of locations (“markers” in genetics jargon) along the elephant genome. At each marker the DNA can be one of two types (“alleles” in genetics jargon), which for simplicity we will label 0 and 1. So the available data on the tusk might look something like this.\n",
    "> \n",
    "> |Marker|Allele|\n",
    "|:--:|:--:|\n",
    "|1|\t1|\n",
    "|2|0|\n",
    "|3|1|\n",
    "|4|0|\n",
    "|5|0|\n",
    "|6|1|"
   ]
  },
  {
   "cell_type": "code",
   "execution_count": null,
   "id": "050b10d8-ab62-4b04-83db-91b266fd9c42",
   "metadata": {
    "tags": [],
    "vscode": {
     "languageId": "r"
    }
   },
   "outputs": [],
   "source": [
    "x = c(1,0,1,0,0,1)"
   ]
  },
  {
   "cell_type": "markdown",
   "id": "f3125a03-318a-47c8-ad85-1ceb698d6645",
   "metadata": {},
   "source": [
    "> Interpol also have information on the frequency of each allele in each of the two subspecies - this was obtained by measuring the DNA of a large number of savanna elephants and a large number of forest elephants. We will use $f_{S{j}}$ and $f_{F{j}}$ to denote the frequency of “1” allele at marker j in savanna and forest elephants respectively (and since there are only two alleles, the frequency of the 0 allele is $1−f_{S{j}}$ and $1−f_{F{j}}$). Here is a table of this information.\n",
    ">\n",
    "> | marker | $f_S$  | $f_F$  |\n",
    "|:--------:|:-----:|:-----:|\n",
    "| 1      | 0.40 | 0.80 |\n",
    "| 2      | 0.12 | 0.20 |\n",
    "| 3      | 0.21 | 0.11 |\n",
    "| 4      | 0.12 | 0.17 |\n",
    "| 5      | 0.02 | 0.23 |\n",
    "| 6      | 0.32 | 0.25 |\n"
   ]
  },
  {
   "cell_type": "code",
   "execution_count": null,
   "id": "22309ff4-85b4-4219-a1bc-a76be7a54f62",
   "metadata": {
    "tags": [],
    "vscode": {
     "languageId": "r"
    }
   },
   "outputs": [],
   "source": [
    "fS = c(0.40, 0.12,0.21,0.12,0.02,0.32)\n",
    "fF = c(0.8,0.2,0.11,0.17,0.23,0.25)"
   ]
  },
  {
   "cell_type": "markdown",
   "id": "bc72c112-0dd9-47c1-bc47-b1429b99f3c6",
   "metadata": {},
   "source": [
    "> The question before us is: **Which subspecies of elephant did the tusk come from, and how confident should we be in this conclusion?**"
   ]
  },
  {
   "cell_type": "markdown",
   "id": "fe9e92a7-80d7-41c1-9462-a93616f6b66e",
   "metadata": {},
   "source": [
    "### Solution"
   ]
  },
  {
   "cell_type": "markdown",
   "id": "6612a370-6f4f-48b6-8fa2-5d1180c129e3",
   "metadata": {},
   "source": [
    "> We can phrase this problem as a “model comparison” problem. We have data $X=x$ from our tusk, and we have two different models for how those data might have arisen: it could have been sampled from a savanna elephant, or it could have been sampled from a forest elephant. We will use $M_S$ and $M_F$ as shorthand for these two models. A key point is that these two models imply different probability distributions for $X$: some values of $X$ are more common under $M_S$ and others are more common under $M_F$.\n",
    ">\n",
    "> Denoting the probability mass functions of these two distributions p(⋅|MS) and p(⋅|MF), and assuming the data at different markers are independent, these probability distributions are:\n",
    "> $$\n",
    "p(x|M_S)=\\prod_j f_{S_j}^{x_j}(1−f_{S_j})^{1−x_j}\n",
    "$$\n",
    ">\n",
    "> and\n",
    "> $$\n",
    "p(x|M_F)=\\prod_j f_{F_j}^{x_j}(1−f_{F_j})^{1−x_j}\n",
    "$$\n",
    ">>\n",
    ">\n",
    "> where the values of $f_S$ and $f_F$ are given in the table above.\n",
    ">\n",
    "> The key idea to introduce here is that a useful summary of how strongly the data $x$ support one model vs another model is given by the “likelihood ratio” (LR).\n",
    "\n",
    "**So before we drive ourselves into the likelihood ratio of two methods, in this notebook, let's focus on the likelihood:**\n",
    "\n",
    "The **\"likelihood\"** for a model is defined as the probability of the data under the model. That is, given data $x$, the likelihood for a fully-specified (discrete) model M is defined as\n",
    "\n",
    "$$\n",
    "L(M_S)=p(x|M_S)=\\prod_j f_{S_j}^{x_j}(1−f_{S_j})^{1−x_j} \\\\\n",
    "L(M_F)=p(x|M_F)=\\prod_j f_{F_j}^{x_j}(1−f_{F_j})^{1−x_j}\n",
    "$$\n",
    "where $p(⋅|M)$ denotes the probability mass function for model $M$."
   ]
  },
  {
   "cell_type": "code",
   "execution_count": null,
   "id": "ec614b27-5aaf-41af-975f-39f652b67471",
   "metadata": {
    "tags": [],
    "vscode": {
     "languageId": "r"
    }
   },
   "outputs": [],
   "source": [
    "L = function(f,x){ prod(f^x*(1-f)^(1-x)) }"
   ]
  },
  {
   "cell_type": "code",
   "execution_count": null,
   "id": "a8780787-4ee5-47a7-a31e-bfe86c0e09f6",
   "metadata": {
    "tags": [],
    "vscode": {
     "languageId": "r"
    }
   },
   "outputs": [],
   "source": [
    "L(fS,x)"
   ]
  },
  {
   "cell_type": "code",
   "execution_count": null,
   "id": "add84dd2-6491-4a6e-9405-42b7acebbc8d",
   "metadata": {
    "tags": [],
    "vscode": {
     "languageId": "r"
    }
   },
   "outputs": [],
   "source": [
    "L(fF,x)"
   ]
  },
  {
   "cell_type": "markdown",
   "id": "0930e948-22d7-4aad-9c06-c33fbdfc9cfa",
   "metadata": {},
   "source": [
    "## Example 2 -- concentration of protein in the blood "
   ]
  },
  {
   "cell_type": "markdown",
   "id": "897d2d68-163b-492f-af81-dee8dc065f8c",
   "metadata": {},
   "source": [
    "### Description"
   ]
  },
  {
   "cell_type": "markdown",
   "id": "b47985d1-a5e7-470d-a4b6-48b072acbae0",
   "metadata": {},
   "source": [
    "> A medical screening test for a disease involves measuring the concentration ($X$) of a protein in the blood. In normal individuals $X$ has a Gamma distribution with mean 1 and shape 2. In diseased individuals the protein becomes elevated, and $X$ has a Gamma distribution with mean 2 and shape 2. Plotting the probability density functions of these distributions yields:\n",
    "> \n",
    "\n",
    "Suppose that for a particular individual we observe $X=4.02$. Then the question is\n",
    "\n",
    "**Is this individual from the normal group or the diseased group?**"
   ]
  },
  {
   "cell_type": "markdown",
   "id": "4a8c215f-b264-4499-8f1e-9766cd0c83cf",
   "metadata": {},
   "source": [
    "### Solution\n",
    "\n",
    "The likelihood for the two models -- normal individual group ($M_0$) or diseased individual group ($M_1$) --- can therefore be calculated as:\n",
    "\n",
    "\n",
    "$$\n",
    "L(M_0)=p(x|M_0)= \\frac{\\beta_0^{\\alpha_0} x^{\\alpha_0 - 1} e^{-\\beta_0 x}}{\\Gamma(\\alpha_0)} = \\frac{2^2 \\cdot 4.02^{2 - 1} e^{-2 \\cdot 4.02}}{\\Gamma(2)}\\\\\n",
    "L(M_1)=p(x|M_1)= \\frac{\\beta_1^{\\alpha_1} x^{\\alpha_1 - 1} e^{-\\beta_1 x}}{\\Gamma(\\alpha_1)} = \\frac{1^2 \\cdot 4.02^{2 - 1} e^{-1 \\cdot 4.02}}{\\Gamma(2)}\n",
    "$$\n",
    "\n",
    "\n",
    "The difference here is that instead of the **probability mass functions** that we used in the first example, here we use the **probability density functions (PDF)** of Gamma distribution:\n",
    "\n",
    "$$\n",
    "f(x; \\alpha, \\beta) = \\frac{\\beta^\\alpha x^{\\alpha - 1} e^{-\\beta x}}{\\Gamma(\\alpha)}, \\quad x > 0\n",
    "$$\n",
    "\n",
    "\n",
    "where:\n",
    "- $\\alpha$ is the shape parameter,\n",
    "- $\\beta$ is the rate parameter ($\\beta = \\frac{1}{\\theta}$, where $\\theta$ is the scale parameter),\n",
    "- $\\Gamma(\\alpha)$ is the Gamma function."
   ]
  },
  {
   "cell_type": "code",
   "execution_count": null,
   "id": "6f07c98b-5325-4b0e-b31e-590dd14c6f3e",
   "metadata": {
    "tags": [],
    "vscode": {
     "languageId": "r"
    }
   },
   "outputs": [],
   "source": [
    "X_val=4.02"
   ]
  },
  {
   "cell_type": "markdown",
   "id": "e64fbaa4-1f41-4ce9-9f20-982feff184b2",
   "metadata": {},
   "source": [
    "In R we can use the [dgamma](https://stat.ethz.ch/R-manual/R-devel/library/stats/html/GammaDist.html) function to calculate the PDF of gamma function at data $x$."
   ]
  },
  {
   "cell_type": "code",
   "execution_count": null,
   "id": "e05105fd-5310-494b-851b-8c06bb52575c",
   "metadata": {
    "tags": [],
    "vscode": {
     "languageId": "r"
    }
   },
   "outputs": [],
   "source": [
    "# dgamma(x, shape, rate = 1, scale = 1/rate, log = FALSE) returns the Density for the Gamma distribution with parameters shape and scale at x\n",
    "y0_val = dgamma(X_val,scale=0.5,shape=2)\n",
    "y1_val = dgamma(X_val,scale=1,shape=2)"
   ]
  },
  {
   "cell_type": "markdown",
   "id": "bbc84246-4a39-4d09-ac36-134abc9105e7",
   "metadata": {},
   "source": [
    "This can be visualized from the figure below. "
   ]
  },
  {
   "cell_type": "code",
   "execution_count": null,
   "id": "1a912f35-d3fe-45fd-bf39-631679c7b547",
   "metadata": {
    "tags": [],
    "vscode": {
     "languageId": "r"
    }
   },
   "outputs": [],
   "source": [
    "x <- seq(0, 10, length = 100)\n",
    "\n",
    "# Compute density values\n",
    "y0 <- dgamma(x, scale = 0.5, shape = 2)\n",
    "y1 <- dgamma(x, scale = 1, shape = 2)\n",
    "\n",
    "# Plot the first Gamma density\n",
    "plot(x, y0, type = \"l\", xlab = \"Protein Concentration\", ylab = \"Density\",\n",
    "     col = \"black\", lwd = 2, ylim = c(0, max(y0, y1)))\n",
    "\n",
    "# Add the second Gamma density\n",
    "lines(x, y1, col = \"red\", lwd = 2)\n",
    "\n",
    "# Add a vertical line at x = 4.02\n",
    "abline(v = X_val, lty = 2, col = \"blue\")\n",
    "\n",
    "# Mark the corresponding points\n",
    "points(X_val, y0_val, col = \"black\", pch = 19, cex = 1.2) # normal group\n",
    "points(X_val, y1_val, col = \"red\", pch = 19, cex = 1.2) # diseased group\n",
    "\n",
    "# Add text labels near the points\n",
    "text(X_val, y0_val, labels = round(y0_val, 4), pos = 3, col = \"black\")\n",
    "text(X_val, y1_val, labels = round(y1_val, 4), pos = 3, col = \"red\")\n",
    "\n",
    "# Add legend\n",
    "legend(\"topright\", legend = c(\"Gamma(0.5, 2)\", \"Gamma(1, 2)\"), \n",
    "       col = c(\"black\", \"red\"), lwd = 2, bty = \"n\")\n"
   ]
  },
  {
   "cell_type": "markdown",
   "id": "4ebf5fb8",
   "metadata": {
    "tags": []
   },
   "source": [
    "# Recommended Reading\n",
    "\n",
    "- Statistical Rethinking, 2nd Edition, Section 2.1, 2.3, 2.4.\n",
    "- Section *Likelihood Ratio and Likehood* in [FiveMinuteStats](http://stephens999.github.io/fiveMinuteStats/index.html) by Matthew Stephens\n"
   ]
  },
  {
   "cell_type": "code",
   "execution_count": null,
   "id": "5eb58cae-80de-48ac-8038-99db83a2cd84",
   "metadata": {
    "vscode": {
     "languageId": "r"
    }
   },
   "outputs": [],
   "source": []
  }
 ],
 "metadata": {
  "kernelspec": {
   "display_name": "R",
   "language": "R",
   "name": "ir"
  },
  "language_info": {
   "codemirror_mode": "r",
   "file_extension": ".r",
   "mimetype": "text/x-r-source",
   "name": "R",
   "pygments_lexer": "r",
   "version": "4.4.2"
  },
  "toc-autonumbering": true
 },
 "nbformat": 4,
 "nbformat_minor": 5
}
