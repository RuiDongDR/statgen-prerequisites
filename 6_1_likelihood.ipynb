{
 "cells": [
  {
   "cell_type": "markdown",
   "id": "e6cc63ce",
   "metadata": {},
   "source": [
    "## Likelihood\n",
    "\n",
    "# Intuition\n",
    "A likelihood quantifies how well a statistical model explains observed data. In Bayesian terms, it is the key ingredient in updating prior beliefs to posterior beliefs.\n",
    "\n",
    "**FIGURE PLACEHOLDER:** ![Likelihood Intuition Cartoon](image_placeholder)"
   ]
  },
  {
   "cell_type": "markdown",
   "id": "e75bc8e1",
   "metadata": {},
   "source": [
    "# Definition\n",
    "\n",
    "- The **\"likelihood\"** for a model is defined as the probability of the data under the model. That is, given data $x$, the likelihood for a fully-specified (discrete) model $M$ is defined as\n",
    "\n",
    "$$\n",
    "L(M)=p(x|M)\n",
    "$$\n",
    "where $p(⋅|M)$ denotes the probability mass function (for discrete data) or probability density function (for continuous data) for model $M$.\n"
   ]
  },
  {
   "cell_type": "markdown",
   "id": "8f1d779b-f8b5-4596-b0bf-d046ce61b9f3",
   "metadata": {},
   "source": [
    "# Example"
   ]
  },
  {
   "cell_type": "markdown",
   "id": "e4642c93-65a3-42f6-819b-cbf3d4ee9032",
   "metadata": {},
   "source": [
    "## Example 1 -- allele frequency of elephant\n",
    "\n",
    "### Description of the question\n",
    "\n",
    "Here we use an example from [Matthew Stephen's notes](http://stephens999.github.io/fiveMinuteStats/likelihood_ratio_simple_models.html).\n",
    "\n",
    "> [Technical Note: to simplify this problem I have assumed that elephants are haploid, which they are not. If you do not know what this means you should simply ignore this comment.]\n",
    ">\n",
    "> There are two subspecies of African Elephant: savannah and forest elephants, which differ in their genetic makeup. Interpol have seized an illegally-smuggled elephant tusk, and they want to know which subspecies of elephant the tusk came from. To try to answer this they collect DNA from the tusk and measure it at a number of locations (“markers” in genetics jargon) along the elephant genome. At each marker the DNA can be one of two types (“alleles” in genetics jargon), which for simplicity we will label 0 and 1. So the available data on the tusk might look something like this.\n",
    "> \n",
    "> |Marker|Allele|\n",
    "|:--:|:--:|\n",
    "|1|\t1|\n",
    "|2|0|\n",
    "|3|1|\n",
    "|4|0|\n",
    "|5|0|\n",
    "|6|1|"
   ]
  },
  {
   "cell_type": "code",
   "execution_count": 1,
   "id": "050b10d8-ab62-4b04-83db-91b266fd9c42",
   "metadata": {
    "tags": []
   },
   "outputs": [],
   "source": [
    "x = c(1,0,1,0,0,1)"
   ]
  },
  {
   "cell_type": "markdown",
   "id": "c2c3eaad-a644-41ca-b8b5-913337537731",
   "metadata": {},
   "source": [
    "> Interpol also have information on the frequency of each allele in each of the two subspecies - this was obtained by measuring the DNA of a large number of savanna elephants and a large number of forest elephants. We will use $f_{S{j}}$ and $f_{F{j}}$ to denote the frequency of “1” allele at marker j in savanna and forest elephants respectively (and since there are only two alleles, the frequency of the 0 allele is $1−f_{S{j}}$ and $1−f_{F{j}}$). Here is a table of this information.\n",
    ">\n",
    "> | marker | $f_S$  | $f_F$  |\n",
    "|:--------:|:-----:|:-----:|\n",
    "| 1      | 0.40 | 0.80 |\n",
    "| 2      | 0.12 | 0.20 |\n",
    "| 3      | 0.21 | 0.11 |\n",
    "| 4      | 0.12 | 0.17 |\n",
    "| 5      | 0.02 | 0.23 |\n",
    "| 6      | 0.32 | 0.25 |\n"
   ]
  },
  {
   "cell_type": "code",
   "execution_count": 2,
   "id": "22309ff4-85b4-4219-a1bc-a76be7a54f62",
   "metadata": {
    "tags": []
   },
   "outputs": [],
   "source": [
    "fS = c(0.40, 0.12,0.21,0.12,0.02,0.32)\n",
    "fF = c(0.8,0.2,0.11,0.17,0.23,0.25)"
   ]
  },
  {
   "cell_type": "markdown",
   "id": "23f3ea76-2f59-498d-bc18-c2a11d2a93e4",
   "metadata": {},
   "source": [
    "> The question before us is: **Which subspecies of elephant did the tusk come from, and how confident should we be in this conclusion?**"
   ]
  },
  {
   "cell_type": "markdown",
   "id": "cb6a6d1d-03c4-4c8d-b2a7-6a5f7514c59b",
   "metadata": {},
   "source": [
    "### Solution"
   ]
  },
  {
   "cell_type": "markdown",
   "id": "22987c9e-539d-4c22-93b8-ab6ccff3b62c",
   "metadata": {},
   "source": [
    "> We can phrase this problem as a “model comparison” problem. We have data $X=x$ from our tusk, and we have two different models for how those data might have arisen: it could have been sampled from a savanna elephant, or it could have been sampled from a forest elephant. We will use $M_S$ and $M_F$ as shorthand for these two models. A key point is that these two models imply different probability distributions for $X$: some values of $X$ are more common under $M_S$ and others are more common under $M_F$.\n",
    ">\n",
    "> Denoting the probability mass functions of these two distributions p(⋅|MS) and p(⋅|MF), and assuming the data at different markers are independent, these probability distributions are:\n",
    "> $$\n",
    "p(x|M_S)=\\prod_j f_{S_j}^{x_j}(1−f_{S_j})^{1−x_j}\n",
    "$$\n",
    ">\n",
    "> and\n",
    "> $$\n",
    "p(x|M_F)=\\prod_j f_{F_j}^{x_j}(1−f_{F_j})^{1−x_j}\n",
    "$$\n",
    ">>\n",
    ">\n",
    "> where the values of $f_S$ and $f_F$ are given in the table above.\n",
    ">\n",
    "> The key idea to introduce here is that a useful summary of how strongly the data $x$ support one model vs another model is given by the “likelihood ratio” (LR).\n",
    "\n",
    "**So before we drive ourselves into the likelihood ratio of two methods, in this notebook, let's focus on the likelihood:**\n",
    "\n",
    "The **\"likelihood\"** for a model is defined as the probability of the data under the model. That is, given data $x$, the likelihood for a fully-specified (discrete) model M is defined as\n",
    "\n",
    "$$\n",
    "L(M_S)=p(x|M_S)=\\prod_j f_{S_j}^{x_j}(1−f_{S_j})^{1−x_j} \\\\\n",
    "L(M_F)=p(x|M_F)=\\prod_j f_{F_j}^{x_j}(1−f_{F_j})^{1−x_j}\n",
    "$$\n",
    "where $p(⋅|M)$ denotes the probability mass function for model $M$."
   ]
  },
  {
   "cell_type": "code",
   "execution_count": 3,
   "id": "ec614b27-5aaf-41af-975f-39f652b67471",
   "metadata": {
    "tags": []
   },
   "outputs": [],
   "source": [
    "L = function(f,x){ prod(f^x*(1-f)^(1-x)) }"
   ]
  },
  {
   "cell_type": "code",
   "execution_count": 4,
   "id": "a8780787-4ee5-47a7-a31e-bfe86c0e09f6",
   "metadata": {
    "tags": []
   },
   "outputs": [
    {
     "data": {
      "text/html": [
       "0.02039955456"
      ],
      "text/latex": [
       "0.02039955456"
      ],
      "text/markdown": [
       "0.02039955456"
      ],
      "text/plain": [
       "[1] 0.02039955"
      ]
     },
     "metadata": {},
     "output_type": "display_data"
    }
   ],
   "source": [
    "L(fS,x)"
   ]
  },
  {
   "cell_type": "code",
   "execution_count": 5,
   "id": "add84dd2-6491-4a6e-9405-42b7acebbc8d",
   "metadata": {
    "tags": []
   },
   "outputs": [
    {
     "data": {
      "text/html": [
       "0.01124816"
      ],
      "text/latex": [
       "0.01124816"
      ],
      "text/markdown": [
       "0.01124816"
      ],
      "text/plain": [
       "[1] 0.01124816"
      ]
     },
     "metadata": {},
     "output_type": "display_data"
    }
   ],
   "source": [
    "L(fF,x)"
   ]
  },
  {
   "cell_type": "markdown",
   "id": "d21f86a0-7c13-42b7-9c20-8ff9e3e76d67",
   "metadata": {},
   "source": [
    "## Example 2 -- concentration of protein in the blood "
   ]
  },
  {
   "cell_type": "markdown",
   "id": "6cdc3ca9-f18e-4a35-9858-c3e1be40f9ea",
   "metadata": {},
   "source": [
    "### Description"
   ]
  },
  {
   "cell_type": "markdown",
   "id": "fc4ac039-388a-4397-900d-57e3ff78cd76",
   "metadata": {},
   "source": [
    "> A medical screening test for a disease involves measuring the concentration ($X$) of a protein in the blood. In normal individuals $X$ has a Gamma distribution with mean 1 and shape 2. In diseased individuals the protein becomes elevated, and $X$ has a Gamma distribution with mean 2 and shape 2. Plotting the probability density functions of these distributions yields:\n",
    "> \n",
    "\n",
    "Suppose that for a particular individual we observe $X=4.02$. Then the question is\n",
    "\n",
    "**Is this individual from the normal group or the diseased group?**"
   ]
  },
  {
   "cell_type": "markdown",
   "id": "b04bf8a6-025e-4dc6-b3bb-dcb50e1b7439",
   "metadata": {},
   "source": [
    "### Solution\n",
    "\n",
    "The likelihood for the two models -- normal individual group ($M_0$) or diseased individual group ($M_1$) --- can therefore be calculated as:\n",
    "\n",
    "\n",
    "$$\n",
    "L(M_0)=p(x|M_0)= \\frac{\\beta_0^{\\alpha_0} x^{\\alpha_0 - 1} e^{-\\beta_0 x}}{\\Gamma(\\alpha_0)} = \\frac{2^2 \\cdot 4.02^{2 - 1} e^{-2 \\cdot 4.02}}{\\Gamma(2)}\\\\\n",
    "L(M_1)=p(x|M_1)= \\frac{\\beta_1^{\\alpha_1} x^{\\alpha_1 - 1} e^{-\\beta_1 x}}{\\Gamma(\\alpha_1)} = \\frac{1^2 \\cdot 4.02^{2 - 1} e^{-1 \\cdot 4.02}}{\\Gamma(2)}\n",
    "$$\n",
    "\n",
    "\n",
    "The difference here is that instead of the **probability mass functions** that we used in the first example, here we use the **probability density functions (PDF)** of Gamma distribution:\n",
    "\n",
    "$$\n",
    "f(x; \\alpha, \\beta) = \\frac{\\beta^\\alpha x^{\\alpha - 1} e^{-\\beta x}}{\\Gamma(\\alpha)}, \\quad x > 0\n",
    "$$\n",
    "\n",
    "\n",
    "where:\n",
    "- $\\alpha$ is the shape parameter,\n",
    "- $\\beta$ is the rate parameter ($\\beta = \\frac{1}{\\theta}$, where $\\theta$ is the scale parameter),\n",
    "- $\\Gamma(\\alpha)$ is the Gamma function."
   ]
  },
  {
   "cell_type": "code",
   "execution_count": 6,
   "id": "6f07c98b-5325-4b0e-b31e-590dd14c6f3e",
   "metadata": {
    "tags": []
   },
   "outputs": [],
   "source": [
    "X_val=4.02"
   ]
  },
  {
   "cell_type": "markdown",
   "id": "3be0720b-d6d1-41cb-b667-283bc2261573",
   "metadata": {},
   "source": [
    "In R we can use the [dgamma](https://stat.ethz.ch/R-manual/R-devel/library/stats/html/GammaDist.html) function to calculate the PDF of gamma function at data $x$."
   ]
  },
  {
   "cell_type": "code",
   "execution_count": 7,
   "id": "e05105fd-5310-494b-851b-8c06bb52575c",
   "metadata": {
    "tags": []
   },
   "outputs": [],
   "source": [
    "# dgamma(x, shape, rate = 1, scale = 1/rate, log = FALSE) returns the Density for the Gamma distribution with parameters shape and scale at x\n",
    "y0_val = dgamma(X_val,scale=0.5,shape=2)\n",
    "y1_val = dgamma(X_val,scale=1,shape=2)"
   ]
  },
  {
   "cell_type": "markdown",
   "id": "211a67a1-a927-4bec-b45e-13b33af8e447",
   "metadata": {},
   "source": [
    "This can be visualized from the figure below. "
   ]
  },
  {
   "cell_type": "code",
   "execution_count": 8,
   "id": "1a912f35-d3fe-45fd-bf39-631679c7b547",
   "metadata": {
    "tags": []
   },
   "outputs": [
    {
     "data": {
      "image/png": "[encoded data removed]",
      "text/plain": [
       "plot without title"
      ]
     },
     "metadata": {
      "image/png": {
       "height": 420,
       "width": 420
      }
     },
     "output_type": "display_data"
    }
   ],
   "source": [
    "x <- seq(0, 10, length = 100)\n",
    "\n",
    "# Compute density values\n",
    "y0 <- dgamma(x, scale = 0.5, shape = 2)\n",
    "y1 <- dgamma(x, scale = 1, shape = 2)\n",
    "\n",
    "# Plot the first Gamma density\n",
    "plot(x, y0, type = \"l\", xlab = \"Protein Concentration\", ylab = \"Density\",\n",
    "     col = \"black\", lwd = 2, ylim = c(0, max(y0, y1)))\n",
    "\n",
    "# Add the second Gamma density\n",
    "lines(x, y1, col = \"red\", lwd = 2)\n",
    "\n",
    "# Add a vertical line at x = 4.02\n",
    "abline(v = X_val, lty = 2, col = \"blue\")\n",
    "\n",
    "# Mark the corresponding points\n",
    "points(X_val, y0_val, col = \"black\", pch = 19, cex = 1.2) # normal group\n",
    "points(X_val, y1_val, col = \"red\", pch = 19, cex = 1.2) # diseased group\n",
    "\n",
    "# Add text labels near the points\n",
    "text(X_val, y0_val, labels = round(y0_val, 4), pos = 3, col = \"black\")\n",
    "text(X_val, y1_val, labels = round(y1_val, 4), pos = 3, col = \"red\")\n",
    "\n",
    "# Add legend\n",
    "legend(\"topright\", legend = c(\"Gamma(0.5, 2)\", \"Gamma(1, 2)\"), \n",
    "       col = c(\"black\", \"red\"), lwd = 2, bty = \"n\")\n"
   ]
  },
  {
   "cell_type": "markdown",
   "id": "049fe78e-a80c-4556-9ecc-87f0a1cbc910",
   "metadata": {},
   "source": [
    "## Example 3 -- asociation between concentration level for a protein and BMI"
   ]
  },
  {
   "cell_type": "markdown",
   "id": "779b5e52-cc23-4566-9b50-4e4dadb837ac",
   "metadata": {},
   "source": [
    "### Description\n",
    "\n",
    "\n",
    "In this example, we compare two models to assess the effect of a genetic variant on a quantitative trait, such as height. The models are:\n",
    "\n",
    "1. **Null model**: This model assumes that the genetic variant has no effect on the trait. Assumes the trait is normally distributed with mean 0 (no genetic effect) and standard deviation $\\sigma$.\n",
    "$$\n",
    "y_i \\sim \\mathcal{N}(0, \\sigma^2)\n",
    "$$\n",
    "2. **Alternative model**: This model assumes that the genetic variant has an effect on the trait. Assumes the trait is normally distributed with mean 1 (genetic effect), where $x_i$ is the genotype (coded as 0, 1, or 2 for the number of copies of the minor allele).\n",
    "  \n",
    "$$\n",
    "y_i \\sim \\mathcal{N}(1, \\sigma^2)\n",
    "$$\n",
    "\n",
    "Where:\n",
    "- $y_i$ is the observed trait value for individual $i$"
   ]
  },
  {
   "cell_type": "markdown",
   "id": "786fb33d-764d-4756-80ff-deeb6b04ec7f",
   "metadata": {},
   "source": [
    "Suppose that for we have observed a series of concentration levels of this protein in $n$ individuals, then the question is\n",
    "\n",
    "**Is this genetic variant associated with BMI or not?**"
   ]
  },
  {
   "cell_type": "code",
   "execution_count": 46,
   "id": "8d87479d-e126-405c-9961-03e65009e7cd",
   "metadata": {
    "tags": []
   },
   "outputs": [
    {
     "data": {
      "text/html": [
       "<table class=\"dataframe\">\n",
       "<caption>A data.frame: 3 × 2</caption>\n",
       "<thead>\n",
       "\t<tr><th></th><th scope=col>genotype</th><th scope=col>trait</th></tr>\n",
       "\t<tr><th></th><th scope=col>&lt;int&gt;</th><th scope=col>&lt;dbl&gt;</th></tr>\n",
       "</thead>\n",
       "<tbody>\n",
       "\t<tr><th scope=row>1</th><td>1</td><td>0.9897674</td></tr>\n",
       "\t<tr><th scope=row>2</th><td>1</td><td>1.0082388</td></tr>\n",
       "\t<tr><th scope=row>3</th><td>2</td><td>1.9987963</td></tr>\n",
       "</tbody>\n",
       "</table>\n"
      ],
      "text/latex": [
       "A data.frame: 3 × 2\n",
       "\\begin{tabular}{r|ll}\n",
       "  & genotype & trait\\\\\n",
       "  & <int> & <dbl>\\\\\n",
       "\\hline\n",
       "\t1 & 1 & 0.9897674\\\\\n",
       "\t2 & 1 & 1.0082388\\\\\n",
       "\t3 & 2 & 1.9987963\\\\\n",
       "\\end{tabular}\n"
      ],
      "text/markdown": [
       "\n",
       "A data.frame: 3 × 2\n",
       "\n",
       "| <!--/--> | genotype &lt;int&gt; | trait &lt;dbl&gt; |\n",
       "|---|---|---|\n",
       "| 1 | 1 | 0.9897674 |\n",
       "| 2 | 1 | 1.0082388 |\n",
       "| 3 | 2 | 1.9987963 |\n",
       "\n"
      ],
      "text/plain": [
       "  genotype trait    \n",
       "1 1        0.9897674\n",
       "2 1        1.0082388\n",
       "3 2        1.9987963"
      ]
     },
     "metadata": {},
     "output_type": "display_data"
    }
   ],
   "source": [
    "rm(list=ls())\n",
    "# Simulate genotypes (0, 1, 2)\n",
    "n <- 100  # number of individuals\n",
    "genotypes <- sample(0:2, n, replace = TRUE)\n",
    "\n",
    "# Simulate true mean and effect size\n",
    "mu_0 <- 0  # population mean of the trait (e.g., height in cm) under the null model\n",
    "beta_true <- 1  # true effect size of the genetic variant\n",
    "sigma <- 0.01  # standard deviation of the trait\n",
    "\n",
    "# Simulate trait values based on the alternative model\n",
    "trait_values <- rnorm(n, mean = mu_0 + beta_true * genotypes, sd = sigma)\n",
    "\n",
    "# Data preview\n",
    "head(data.frame(genotype = genotypes, trait = trait_values),3)"
   ]
  },
  {
   "cell_type": "markdown",
   "id": "0773a60b-cb1c-4685-98d7-3d56873d3b8d",
   "metadata": {},
   "source": [
    "The likelihood for each model is the probability of observing the data given the parameters of the model. For a normal distribution, the likelihood for each individual $i$ is given by:\n",
    "$$\n",
    "L(\\mu) = \\prod_{i=1}^{n} \\frac{1}{\\sqrt{2\\pi\\sigma^2}} \\exp\\left( -\\frac{(x_i - \\mu)^2}{2\\sigma^2} \\right)\n",
    "$$\n",
    "\n",
    "> Just as it can often be convenient to work with the log-likelihood ratio, it can be convenient to work with the log-likelihood function, usually denoted l(θ) [lower-case L]. As with log likelihood ratios, unless otherwise specified, we use log base e. Here is the log-likelihood function. ([ref](http://stephens999.github.io/fiveMinuteStats/likelihood_function.html))\n",
    "\n",
    "The log-likelihood for a normal distribution is given by:\n",
    "\n",
    "$$\n",
    "\\ell(\\mu, \\sigma) = -\\frac{n}{2} \\log(2\\pi\\sigma^2) - \\sum_{i=1}^{n} \\frac{(y_i - \\mu)^2}{2\\sigma^2}\n",
    "$$"
   ]
  },
  {
   "cell_type": "markdown",
   "id": "c5fbef9a-150b-4931-8cbb-21ba36ac3400",
   "metadata": {},
   "source": [
    "Therefore the first model log-likelihood is:"
   ]
  },
  {
   "cell_type": "code",
   "execution_count": 47,
   "id": "796ef66f-31d5-41ee-8391-50e7c2c2cfc7",
   "metadata": {
    "tags": []
   },
   "outputs": [],
   "source": [
    "# Log-likelihood for the first model (mu = mu_0, sigma = sigma)\n",
    "log_likelihood <- function(mu, sigma, y) {\n",
    "  # n <- length(y)\n",
    "  # -0.5 * n * log(2 * pi * sigma^2) - sum((y - mu_0)^2) / (2 * sigma^2)\n",
    "  sum(dnorm(y, mean = mu, sd = sigma, log = TRUE))\n",
    "\n",
    "}\n",
    "\n",
    "likelihood_0 = log_likelihood(mu = mu_0, sigma, trait_values)"
   ]
  },
  {
   "cell_type": "markdown",
   "id": "2132bd86-1bf4-4cb7-9a28-b82628157d2d",
   "metadata": {
    "tags": []
   },
   "source": [
    "Therefore the second model log-likelihood is:"
   ]
  },
  {
   "cell_type": "code",
   "execution_count": 48,
   "id": "e044111a-e5f2-4d61-89ab-da79dabb9e90",
   "metadata": {
    "tags": []
   },
   "outputs": [],
   "source": [
    "likelihood_1 = log_likelihood(mu = mu_0+beta_true, sigma, trait_values)"
   ]
  },
  {
   "cell_type": "code",
   "execution_count": 49,
   "id": "94a270c8-f330-4c8e-968e-6250f4f415d3",
   "metadata": {},
   "outputs": [
    {
     "name": "stdout",
     "output_type": "stream",
     "text": [
      "Likelihood of Model 0 (no causal effect): -983764.9 \n",
      "Likelihood of Model 1 (causal effect): -294498.3 \n"
     ]
    }
   ],
   "source": [
    "cat(\"Likelihood of Model 0 (no causal effect):\", likelihood_0, \"\\n\")\n",
    "cat(\"Likelihood of Model 1 (causal effect):\", likelihood_1, \"\\n\")"
   ]
  },
  {
   "cell_type": "markdown",
   "id": "845fe547-467e-4381-a43f-6578119aef6d",
   "metadata": {},
   "source": [
    "## Summary\n",
    "- The **\"likelihood\"** for a model is defined as the probability of the data under the model. That is, given data $x$, the likelihood for a fully-specified (discrete) model $M$ is defined as\n",
    "\n",
    "$$\n",
    "L(M)=p(x|M)\n",
    "$$\n",
    "where $p(⋅|M)$ denotes the probability mass function (for discrete data) or probability density function (for continuous data) for model $M$.\n",
    "\n",
    "- Although here we introduce likelihood for a model, in practice it is almost always the **likelihood ratio** that matters (which we will introduce in the next notebook). As Matthew stated in the notes: \n",
    "> This is because actual likelihood values are generally not useful - it is only the ratios that matter when comparing the models. One way of thinking about this is that the actual likelihood values are very context dependent, and so likelihoods from different data sets are not comparable with one another.\n"
   ]
  },
  {
   "cell_type": "markdown",
   "id": "4ebf5fb8",
   "metadata": {
    "tags": []
   },
   "source": [
    "# Recommended Reading\n",
    "\n",
    "- Statistical Rethinking, 2nd Edition, Section 2.1, 2.3, 2.4.\n",
    "- Section *Likelihood Ratio and Likehood* in [FiveMinuteStats](http://stephens999.github.io/fiveMinuteStats/index.html) by Matthew Stephens\n"
   ]
  },
  {
   "cell_type": "code",
   "execution_count": null,
   "id": "5eb58cae-80de-48ac-8038-99db83a2cd84",
   "metadata": {},
   "outputs": [],
   "source": []
  }
 ],
 "metadata": {
  "kernelspec": {
   "display_name": "R",
   "language": "R",
   "name": "ir"
  },
  "language_info": {
   "codemirror_mode": "r",
   "file_extension": ".r",
   "mimetype": "text/x-r-source",
   "name": "R",
   "pygments_lexer": "r",
   "version": "4.4.2"
  },
  "toc-autonumbering": true
 },
 "nbformat": 4,
 "nbformat_minor": 5
}
