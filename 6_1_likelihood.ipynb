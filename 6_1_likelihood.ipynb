{
 "cells": [
  {
   "cell_type": "markdown",
   "id": "e6cc63ce",
   "metadata": {
    "jp-MarkdownHeadingCollapsed": true,
    "tags": []
   },
   "source": [
    "## Likelihood\n",
    "\n",
    "# Intuition\n",
    "A likelihood quantifies how well a statistical model explains observed data. In Bayesian terms, it is the key ingredient in updating prior beliefs to posterior beliefs.\n",
    "\n",
    "**FIGURE PLACEHOLDER:** ![Likelihood Intuition Cartoon](image_placeholder)"
   ]
  },
  {
   "cell_type": "markdown",
   "id": "e75bc8e1",
   "metadata": {
    "jp-MarkdownHeadingCollapsed": true,
    "tags": []
   },
   "source": [
    "# Definition\n",
    "\n",
    "- The **\"likelihood\"** for a model is defined as the probability of the data under the model. That is, given data $x$ (let's start with a single sample), the likelihood for a fully-specified (discrete) model $M$ is defined as\n",
    "\n",
    "$$\n",
    "L(M)=p(x|M)\n",
    "$$\n",
    "where $p(⋅|M)$ denotes the probability mass function (for discrete data) or probability density function (for continuous data) for model $M$.\n",
    "\n",
    "- When there are multiple samples, $x_1, \\dots, x_n$, the likelihood for the model $M$ is the joint probability of all these data points given the model. Assuming the samples are independent, the likelihood function is the product of the individual likelihoods for each sample:\n",
    "\n",
    "$$\n",
    "L(M) = p(x_1, x_2, \\dots, x_n | M) = \\prod_{i=1}^{n} p(x_i | M)\n",
    "$$\n",
    "\n",
    "This is because, under the assumption of independence, the joint probability of multiple independent samples is the product of their individual probabilities. "
   ]
  },
  {
   "cell_type": "markdown",
   "id": "8f1d779b-f8b5-4596-b0bf-d046ce61b9f3",
   "metadata": {},
   "source": [
    "# Example"
   ]
  },
  {
   "cell_type": "markdown",
   "id": "e165bc3b-c33b-4ec8-a25e-eff8aec086a5",
   "metadata": {},
   "source": [
    "## Single sample"
   ]
  },
  {
   "cell_type": "markdown",
   "id": "779b5e52-cc23-4566-9b50-4e4dadb837ac",
   "metadata": {},
   "source": [
    "In this example, we compare two models to assess the effect of a genetic variant on a quantitative trait, such as height. The models are:\n",
    "\n",
    "1. **Model 1 ($M_1$)**: This model assumes that the genetic variant has no effect on the trait. Assumes the trait $y$ is normally distributed with mean 0 (no genetic effect) and standard deviation $\\sigma$.\n",
    "$$\n",
    "y \\sim \\mathcal{N}(0, \\sigma^2)\n",
    "$$\n",
    "\n",
    "where $y$ is the observed height for an individual.\n",
    "\n",
    "2. **Model 2 ($M_2$)**: This model assumes that the genetic variant has an effect ($\\beta = 1$) on the trait. Assumes the trait is normally distributed with mean 1 (genetic effect), where $x_i$ is the genotype (coded as 0, 1, or 2 for the number of copies of the minor allele).\n",
    "  \n",
    "$$\n",
    "y \\sim \\mathcal{N}(1, \\sigma^2)\n",
    "$$"
   ]
  },
  {
   "cell_type": "markdown",
   "id": "786fb33d-764d-4756-80ff-deeb6b04ec7f",
   "metadata": {},
   "source": [
    "Suppose that for we have observed a series of concentration levels of this protein in $n$ individuals, then the question is therefore, **based on the data $(y_1,...,y_n)$, is this genetic variant associated with the trait or not? In other words, does the data support more of $M_1$ or $M_2$?**"
   ]
  },
  {
   "cell_type": "code",
   "execution_count": 1,
   "id": "c0366094-85a8-4748-9f68-760f14492cf8",
   "metadata": {
    "tags": []
   },
   "outputs": [],
   "source": [
    "# Simulate true mean and effect size\n",
    "mu_0 <- 0  # population mean of the trait (e.g., height in cm) under Model 1\n",
    "beta_true <- 1  # true effect size of the genetic variant\n",
    "sigma <- 0.4  # standard deviation of the trait"
   ]
  },
  {
   "cell_type": "code",
   "execution_count": 2,
   "id": "8d87479d-e126-405c-9961-03e65009e7cd",
   "metadata": {
    "tags": []
   },
   "outputs": [
    {
     "data": {
      "text/html": [
       "<table class=\"dataframe\">\n",
       "<caption>A data.frame: 1 × 2</caption>\n",
       "<thead>\n",
       "\t<tr><th scope=col>genotype</th><th scope=col>trait</th></tr>\n",
       "\t<tr><th scope=col>&lt;dbl&gt;</th><th scope=col>&lt;dbl&gt;</th></tr>\n",
       "</thead>\n",
       "<tbody>\n",
       "\t<tr><td>1</td><td>0.7494185</td></tr>\n",
       "</tbody>\n",
       "</table>\n"
      ],
      "text/latex": [
       "A data.frame: 1 × 2\n",
       "\\begin{tabular}{ll}\n",
       " genotype & trait\\\\\n",
       " <dbl> & <dbl>\\\\\n",
       "\\hline\n",
       "\t 1 & 0.7494185\\\\\n",
       "\\end{tabular}\n"
      ],
      "text/markdown": [
       "\n",
       "A data.frame: 1 × 2\n",
       "\n",
       "| genotype &lt;dbl&gt; | trait &lt;dbl&gt; |\n",
       "|---|---|\n",
       "| 1 | 0.7494185 |\n",
       "\n"
      ],
      "text/plain": [
       "  genotype trait    \n",
       "1 1        0.7494185"
      ]
     },
     "metadata": {},
     "output_type": "display_data"
    }
   ],
   "source": [
    "set.seed(1)\n",
    "# Simulate genotype\n",
    "genotype <- c(1)\n",
    "n = length(genotype)\n",
    "# Simulate trait values based on the model 2\n",
    "trait_value <- rnorm(n, mean = mu_0 + beta_true * genotype, sd = sigma)\n",
    "\n",
    "# Data preview\n",
    "data.frame(genotype = genotype, trait = trait_value)"
   ]
  },
  {
   "cell_type": "markdown",
   "id": "9970f379-5e13-4872-bfbb-f5a9312c57fd",
   "metadata": {},
   "source": [
    "The likelihood for each model is the probability of observing the data $y$ given the parameters of the model. For a normal distribution, the likelihood is given by:\n",
    "$$\n",
    "L(\\mu) = \\frac{1}{\\sqrt{2\\pi\\sigma^2}} \\exp \\left( -\\frac{(y - \\mu)^2}{2\\sigma^2} \\right)\n",
    "$$"
   ]
  },
  {
   "cell_type": "code",
   "execution_count": 3,
   "id": "4f5ffb27-8d41-4bff-aa61-90146e17c487",
   "metadata": {
    "tags": []
   },
   "outputs": [],
   "source": [
    "# Likelihood for a model with mu = mu_0, sigma = sigma\n",
    "likelihood <- function(mu, sigma, y) {\n",
    "  # n <- length(y)\n",
    "  # (1 / (sqrt(2 * pi) * sigma))^n * exp(-sum((y - mu)^2) / (2 * sigma^2))\n",
    "  prod(dnorm(y, mean = mu, sd = sigma, log = FALSE))\n",
    "}"
   ]
  },
  {
   "cell_type": "markdown",
   "id": "07cb06db-aaf9-4a43-bbbc-c397e613e3c3",
   "metadata": {},
   "source": [
    "The Likehood for $M_1$ is:"
   ]
  },
  {
   "cell_type": "code",
   "execution_count": 4,
   "id": "bc1f6e42-74ef-4fe0-b8a1-fb192b42ff2b",
   "metadata": {
    "tags": []
   },
   "outputs": [],
   "source": [
    "likelihood_1_single_sample = likelihood(mu = mu_0, sigma, trait_value)"
   ]
  },
  {
   "cell_type": "markdown",
   "id": "d477a44d-67a3-42fb-89d1-5a37538fff30",
   "metadata": {},
   "source": [
    "The Likehood for $M_2$ is:"
   ]
  },
  {
   "cell_type": "code",
   "execution_count": 5,
   "id": "ddcb1c56-1f5f-431c-b44d-ac40da7e35e6",
   "metadata": {
    "tags": []
   },
   "outputs": [],
   "source": [
    "likelihood_2_single_sample = likelihood(mu = mu_0+beta_true, sigma, trait_value)"
   ]
  },
  {
   "cell_type": "code",
   "execution_count": 6,
   "id": "b4109484-2d5e-4d89-b4a4-b0df98ceb081",
   "metadata": {
    "tags": []
   },
   "outputs": [
    {
     "name": "stdout",
     "output_type": "stream",
     "text": [
      "Likelihood of Model 1 (no causal effect) for a single sample: 0.1724349 \n",
      "Likelihood of Model 2 (causal effect) for a single sample: 0.8196565 \n"
     ]
    }
   ],
   "source": [
    "cat(\"Likelihood of Model 1 (no causal effect) for a single sample:\", likelihood_1_single_sample, \"\\n\")\n",
    "cat(\"Likelihood of Model 2 (causal effect) for a single sample:\", likelihood_2_single_sample, \"\\n\")"
   ]
  },
  {
   "cell_type": "code",
   "execution_count": 7,
   "id": "7aff2c8a-db7f-4608-9766-9da5406a054b",
   "metadata": {
    "tags": []
   },
   "outputs": [
    {
     "data": {
      "image/png": "[encoded data removed]",
      "text/plain": [
       "Plot with title “Likelihoods for M_1 and M_2 on one sample”"
      ]
     },
     "metadata": {
      "image/png": {
       "height": 420,
       "width": 420
      }
     },
     "output_type": "display_data"
    }
   ],
   "source": [
    "# Create a sequence of x values for plotting the density\n",
    "x_vals <- seq(trait_value - 2, trait_value + 2, length.out = 100)\n",
    "\n",
    "# Compute the likelihood densities for both models\n",
    "likelihood_1_curve <- dnorm(x_vals, mean = mu_0, sd = sigma)\n",
    "likelihood_2_curve <- dnorm(x_vals, mean = mu_0 + beta_true, sd = sigma)\n",
    "\n",
    "# Plot the two likelihood curves\n",
    "plot(x_vals, likelihood_1_curve, type = \"l\", col = \"blue\", lwd = 2, \n",
    "     xlab = \"Trait\", ylab = \"Density\", \n",
    "     main = \"Likelihoods for M_1 and M_2 on one sample\")\n",
    "lines(x_vals, likelihood_2_curve, col = \"red\", lwd = 2)\n",
    "\n",
    "# Add vertical black dashed line to show the observed trait_value\n",
    "abline(v = trait_value, col = \"black\", lty = 2)\n",
    "\n",
    "# Label the y-values at the trait_value for both curves\n",
    "y_label_1 <- dnorm(trait_value, mean = mu_0, sd = sigma)\n",
    "y_label_2 <- dnorm(trait_value, mean = mu_0 + beta_true, sd = sigma)\n",
    "\n",
    "text(trait_value, y_label_1, labels = paste(\"L(M_1) =\", round(y_label_1, 3)), pos = 4, col = \"blue\")\n",
    "text(trait_value, y_label_2, labels = paste(\"L(M_2) =\", round(y_label_2, 3)), pos = 3, col = \"red\")\n",
    "\n",
    "# Add points at the intersection of the trait_value on both curves\n",
    "points(trait_value, y_label_1, col = \"blue\", pch = 16, cex = 1.5)\n",
    "points(trait_value, y_label_2, col = \"red\", pch = 16, cex = 1.5)\n",
    "\n",
    "# Add label for the trait value on the x-axis\n",
    "text(trait_value, 0.01, labels = paste(\"Data x =\", round(trait_value, 2)), pos = 1, col = \"black\")\n",
    "\n",
    "# Add a legend\n",
    "legend(\"topright\", legend = c(\"L(M_1)\", \"L(M_2)\"), \n",
    "       col = c(\"blue\", \"red\"), lwd = 2)"
   ]
  },
  {
   "cell_type": "markdown",
   "id": "89d72451-ae5a-411f-ac91-79fe1d722b53",
   "metadata": {},
   "source": [
    "## Multiple samples"
   ]
  },
  {
   "cell_type": "markdown",
   "id": "23126e11-d3c8-4c7f-8032-9fc8f8ccf6c9",
   "metadata": {},
   "source": [
    "Now what if we have **multiple samples**, i.e., in this case, several individuals?"
   ]
  },
  {
   "cell_type": "markdown",
   "id": "a2531fb0-1f92-406d-bc2f-daa4072ef691",
   "metadata": {},
   "source": [
    "therefore, if $y_i$ ($i=1,...,n$) is the observed trait value for individual $i$, then under **$M_1$**:\n",
    "$$\n",
    "y_i \\sim \\mathcal{N}(0, \\sigma^2)\n",
    "$$\n",
    "\n",
    "versus under **$M_2$**:\n",
    "$$\n",
    "y_i \\sim \\mathcal{N}(1, \\sigma^2)\n",
    "$$"
   ]
  },
  {
   "cell_type": "markdown",
   "id": "517fc2a8-ca1a-4818-88cf-480d050c1d2d",
   "metadata": {},
   "source": [
    "The likelihood for each model is the probability of observing the data given the parameters of the model. For a normal distribution, the likelihood for each individual $i$ is given by:\n",
    "$$\n",
    "L(\\mu) = \\prod_{i=1}^{n} \\frac{1}{\\sqrt{2\\pi\\sigma^2}} \\exp \\left( -\\frac{(x_i - \\mu)^2}{2\\sigma^2} \\right)\n",
    "$$"
   ]
  },
  {
   "cell_type": "code",
   "execution_count": 8,
   "id": "58faa140-8d3f-4f38-a0f2-9285038dfeff",
   "metadata": {
    "tags": []
   },
   "outputs": [
    {
     "data": {
      "text/html": [
       "<table class=\"dataframe\">\n",
       "<caption>A data.frame: 3 × 2</caption>\n",
       "<thead>\n",
       "\t<tr><th scope=col>genotype</th><th scope=col>trait</th></tr>\n",
       "\t<tr><th scope=col>&lt;dbl&gt;</th><th scope=col>&lt;dbl&gt;</th></tr>\n",
       "</thead>\n",
       "<tbody>\n",
       "\t<tr><td>0</td><td>-0.3587658</td></tr>\n",
       "\t<tr><td>2</td><td> 2.0739397</td></tr>\n",
       "\t<tr><td>1</td><td> 1.6351381</td></tr>\n",
       "</tbody>\n",
       "</table>\n"
      ],
      "text/latex": [
       "A data.frame: 3 × 2\n",
       "\\begin{tabular}{ll}\n",
       " genotype & trait\\\\\n",
       " <dbl> & <dbl>\\\\\n",
       "\\hline\n",
       "\t 0 & -0.3587658\\\\\n",
       "\t 2 &  2.0739397\\\\\n",
       "\t 1 &  1.6351381\\\\\n",
       "\\end{tabular}\n"
      ],
      "text/markdown": [
       "\n",
       "A data.frame: 3 × 2\n",
       "\n",
       "| genotype &lt;dbl&gt; | trait &lt;dbl&gt; |\n",
       "|---|---|\n",
       "| 0 | -0.3587658 |\n",
       "| 2 |  2.0739397 |\n",
       "| 1 |  1.6351381 |\n",
       "\n"
      ],
      "text/plain": [
       "  genotype trait     \n",
       "1 0        -0.3587658\n",
       "2 2         2.0739397\n",
       "3 1         1.6351381"
      ]
     },
     "metadata": {},
     "output_type": "display_data"
    }
   ],
   "source": [
    "set.seed(2)\n",
    "# Simulate genotype\n",
    "genotypes <- c(0,2,1)\n",
    "n = length(genotypes)\n",
    "\n",
    "# Simulate trait values based on the model 2\n",
    "trait_values <- rnorm(n, mean = mu_0 + beta_true * genotypes, sd = sigma)\n",
    "\n",
    "# Data preview\n",
    "data.frame(genotype = genotypes, trait = trait_values)"
   ]
  },
  {
   "cell_type": "code",
   "execution_count": 9,
   "id": "c4e59c5c-b159-4aef-9888-63daf0167ac5",
   "metadata": {
    "tags": []
   },
   "outputs": [],
   "source": [
    "likelihood_1_multiple_samples = likelihood(mu = mu_0, sigma, trait_values)"
   ]
  },
  {
   "cell_type": "code",
   "execution_count": 10,
   "id": "e522c6b9-c86d-4c50-b725-426261d07958",
   "metadata": {
    "tags": []
   },
   "outputs": [],
   "source": [
    "likelihood_2_multiple_samples = likelihood(mu = mu_0+beta_true, sigma, trait_values)"
   ]
  },
  {
   "cell_type": "code",
   "execution_count": 11,
   "id": "dc7b8d55-5dfd-430e-bc4d-bbcbd0bc6f1b",
   "metadata": {
    "tags": []
   },
   "outputs": [
    {
     "name": "stdout",
     "output_type": "stream",
     "text": [
      "Likelihood of Model 1 (no causal effect) for multiple samples: 2.268479e-10 \n",
      "Likelihood of Model 2 (causal effect) for multiple samples: 2.388424e-05 \n"
     ]
    }
   ],
   "source": [
    "cat(\"Likelihood of Model 1 (no causal effect) for multiple samples:\", likelihood_1_multiple_samples, \"\\n\")\n",
    "cat(\"Likelihood of Model 2 (causal effect) for multiple samples:\", likelihood_2_multiple_samples, \"\\n\")"
   ]
  },
  {
   "cell_type": "markdown",
   "id": "37885651-56b1-4221-a89a-57c15b722546",
   "metadata": {},
   "source": [
    "## Log-likelihood"
   ]
  },
  {
   "cell_type": "markdown",
   "id": "895ad416-6787-4bff-896d-575aded8aeca",
   "metadata": {},
   "source": [
    "In practice, the **log-likehood** is often preferred over the likelihood when there are multiple samples, for several reasons:\n",
    "\n",
    "1. **Numerical Stability**:  \n",
    "   Likelihood values are often very small, especially in large datasets. Directly working with such small numbers can cause numerical underflow. Taking the logarithm transforms these small numbers into more manageable values.\n",
    "\n",
    "2. **Simplifies Computation**:  \n",
    "   Many likelihood functions involve products of probabilities. The logarithm converts these products into sums, making them easier to compute and differentiate:\n",
    "\n",
    "   $$\n",
    "   l(\\mu) = \\log P(X_1, X_2, ..., X_n | \\mu) = \\sum_{i=1}^{n} \\log P(X_i | \\mu)\n",
    "   $$\n",
    "\n",
    "   This is particularly useful in optimization and estimation procedures.\n",
    "\n",
    "3. **Convexity and Optimization**:  \n",
    "   In many cases, the log-likelihood function is concave (or at least easier to optimize) compared to the likelihood function. This makes methods like gradient ascent and Newton-Raphson more effective.\n",
    "\n",
    "4. **Consistency with Information-Theoretic Measures**:  \n",
    "   Many statistical criteria, such as the Akaike Information Criterion (AIC) and Bayesian Information Criterion (BIC), are based on log-likelihood. This aligns statistical inference with concepts from information theory.\n",
    "\n",
    "5. **Asymptotic Properties**:  \n",
    "   In large-sample theory (e.g., asymptotics of Maximum Likelihood Estimation), the log-likelihood has well-defined properties, such as its relationship to the Fisher Information and the Central Limit Theorem.\n",
    "\n",
    "Overall, the log-likelihood improves numerical precision, simplifies mathematical operations, and aligns with theoretical properties that are useful for statistical inference."
   ]
  },
  {
   "cell_type": "markdown",
   "id": "76fafed0-550f-43fc-b010-e3bba193dca0",
   "metadata": {},
   "source": [
    "In this case, the log-likelihood for a normal distribution is given by:\n",
    "\n",
    "$$\n",
    "\\ell(\\mu, \\sigma) = -\\frac{n}{2} \\log(2\\pi\\sigma^2) - \\sum_{i=1}^{n} \\frac{(y_i - \\mu)^2}{2\\sigma^2}\n",
    "$$"
   ]
  },
  {
   "cell_type": "markdown",
   "id": "b2c0dffe-678f-44b7-bca7-9a639bac6173",
   "metadata": {},
   "source": [
    "Therefore the log-likelihood for a normal model with mean $\\mu$ and standard error $\\sigma$ is:"
   ]
  },
  {
   "cell_type": "code",
   "execution_count": 12,
   "id": "796ef66f-31d5-41ee-8391-50e7c2c2cfc7",
   "metadata": {
    "tags": []
   },
   "outputs": [],
   "source": [
    "# Log-likelihood for a model with mu and sigma\n",
    "log_likelihood <- function(mu, sigma, y) {\n",
    "  # n <- length(y)\n",
    "  # -0.5 * n * log(2 * pi * sigma^2) - sum((y - mu_0)^2) / (2 * sigma^2)\n",
    "  sum(dnorm(y, mean = mu, sd = sigma, log = TRUE))\n",
    "}\n"
   ]
  },
  {
   "cell_type": "markdown",
   "id": "16f1f34e-9c00-4ec2-80b3-82d07b8237ae",
   "metadata": {},
   "source": [
    "The log-likehood for $M_1$ is:"
   ]
  },
  {
   "cell_type": "code",
   "execution_count": 13,
   "id": "d797ace2-b1c3-4617-b2ca-587cde19a19b",
   "metadata": {
    "tags": []
   },
   "outputs": [],
   "source": [
    "loglikelihood_1_multiple_samples = log_likelihood(mu = mu_0, sigma, trait_values)"
   ]
  },
  {
   "cell_type": "markdown",
   "id": "4b79fd34-448a-4a26-a053-068c926a8651",
   "metadata": {},
   "source": [
    "The log-likehood for $M_2$ is:"
   ]
  },
  {
   "cell_type": "code",
   "execution_count": 14,
   "id": "e044111a-e5f2-4d61-89ab-da79dabb9e90",
   "metadata": {
    "tags": []
   },
   "outputs": [],
   "source": [
    "loglikelihood_2_multiple_samples = log_likelihood(mu = mu_0+beta_true, sigma, trait_values)"
   ]
  },
  {
   "cell_type": "code",
   "execution_count": 15,
   "id": "94a270c8-f330-4c8e-968e-6250f4f415d3",
   "metadata": {},
   "outputs": [
    {
     "name": "stdout",
     "output_type": "stream",
     "text": [
      "Log-likelihood of Model 1 (no causal effect) for multiple samples: -22.20674 \n",
      "Log-likelihood of Model 2 (causal effect) for multiple samples: -10.64229 \n"
     ]
    }
   ],
   "source": [
    "cat(\"Log-likelihood of Model 1 (no causal effect) for multiple samples:\", loglikelihood_1_multiple_samples, \"\\n\")\n",
    "cat(\"Log-likelihood of Model 2 (causal effect) for multiple samples:\", loglikelihood_2_multiple_samples, \"\\n\")"
   ]
  },
  {
   "cell_type": "markdown",
   "id": "4568f69f-7872-472b-a860-9c4d98b05f64",
   "metadata": {},
   "source": [
    "If we calculate the likelihood first and then take the log of it, they are the same:"
   ]
  },
  {
   "cell_type": "code",
   "execution_count": 16,
   "id": "7d121371-69dc-4cd3-a58d-6035b78c5982",
   "metadata": {
    "tags": []
   },
   "outputs": [
    {
     "data": {
      "text/html": [
       "-22.2067415156742"
      ],
      "text/latex": [
       "-22.2067415156742"
      ],
      "text/markdown": [
       "-22.2067415156742"
      ],
      "text/plain": [
       "[1] -22.20674"
      ]
     },
     "metadata": {},
     "output_type": "display_data"
    },
    {
     "data": {
      "text/html": [
       "-10.6422915925977"
      ],
      "text/latex": [
       "-10.6422915925977"
      ],
      "text/markdown": [
       "-10.6422915925977"
      ],
      "text/plain": [
       "[1] -10.64229"
      ]
     },
     "metadata": {},
     "output_type": "display_data"
    }
   ],
   "source": [
    "log(likelihood_1_multiple_samples)\n",
    "log(likelihood_2_multiple_samples)"
   ]
  },
  {
   "cell_type": "markdown",
   "id": "845fe547-467e-4381-a43f-6578119aef6d",
   "metadata": {
    "tags": []
   },
   "source": [
    "# Summary\n",
    "- The **\"likelihood\"** for a model is defined as the probability of the data under the model. That is, given data $x$, the likelihood for a fully-specified (discrete) model $M$ is defined as\n",
    "\n",
    "$$\n",
    "L(M)=p(x|M)\n",
    "$$\n",
    "where $p(⋅|M)$ denotes the probability mass function (for discrete data) or probability density function (for continuous data) for model $M$.\n",
    "\n",
    "- In practice, **log-likehood** is often preferred over **likelihood** because of better numerical precision, simpler mathematical operations, and the fact that it aligns with theoretical properties that are useful for statistical inference:\n",
    "\n",
    "$$\n",
    "l(M)=\\log(L(M)) = \\log(p(x|M))\n",
    "$$\n",
    "\n",
    "- Although here we introduce likelihood for a model, in practice it is almost always the **likelihood ratio** (or **log-likelihood ratio**)  that matters (which we will introduce in the next notebook). As Matthew stated in the notes: \n",
    "> This is because actual likelihood values are generally not useful - it is only the ratios that matter when comparing the models. One way of thinking about this is that the actual likelihood values are very context dependent, and so likelihoods from different data sets are not comparable with one another.\n"
   ]
  },
  {
   "cell_type": "markdown",
   "id": "2ae0cc3f-cb87-42ff-a9f0-4265c1c0aa4f",
   "metadata": {},
   "source": [
    "# Supplementary Materials"
   ]
  },
  {
   "cell_type": "markdown",
   "id": "8495c4bf-ae08-47e8-82c1-af0a8f169a69",
   "metadata": {},
   "source": [
    "Here we provide more examples to help you understand the likelihood."
   ]
  },
  {
   "cell_type": "markdown",
   "id": "407f88f3-560a-40d1-9559-c1e36dcbf84c",
   "metadata": {
    "tags": []
   },
   "source": [
    "## Example 1 -- allele frequency of elephant\n",
    "\n",
    "### Description of the question\n",
    "\n",
    "Here we use an example from [Matthew Stephen's notes](http://stephens999.github.io/fiveMinuteStats/likelihood_ratio_simple_models.html).\n",
    "\n",
    "> [Technical Note: to simplify this problem I have assumed that elephants are haploid, which they are not. If you do not know what this means you should simply ignore this comment.]\n",
    ">\n",
    "> There are two subspecies of African Elephant: savannah and forest elephants, which differ in their genetic makeup. Interpol have seized an illegally-smuggled elephant tusk, and they want to know which subspecies of elephant the tusk came from. To try to answer this they collect DNA from the tusk and measure it at a number of locations (“markers” in genetics jargon) along the elephant genome. At each marker the DNA can be one of two types (“alleles” in genetics jargon), which for simplicity we will label 0 and 1. So the available data on the tusk might look something like this.\n",
    "> \n",
    "> |Marker|Allele|\n",
    "|:--:|:--:|\n",
    "|1|\t1|\n",
    "|2|0|\n",
    "|3|1|\n",
    "|4|0|\n",
    "|5|0|\n",
    "|6|1|"
   ]
  },
  {
   "cell_type": "code",
   "execution_count": 17,
   "id": "050b10d8-ab62-4b04-83db-91b266fd9c42",
   "metadata": {
    "tags": []
   },
   "outputs": [],
   "source": [
    "x = c(1,0,1,0,0,1)"
   ]
  },
  {
   "cell_type": "markdown",
   "id": "f3125a03-318a-47c8-ad85-1ceb698d6645",
   "metadata": {},
   "source": [
    "> Interpol also have information on the frequency of each allele in each of the two subspecies - this was obtained by measuring the DNA of a large number of savanna elephants and a large number of forest elephants. We will use $f_{S{j}}$ and $f_{F{j}}$ to denote the frequency of “1” allele at marker j in savanna and forest elephants respectively (and since there are only two alleles, the frequency of the 0 allele is $1−f_{S{j}}$ and $1−f_{F{j}}$). Here is a table of this information.\n",
    ">\n",
    "> | marker | $f_S$  | $f_F$  |\n",
    "|:--------:|:-----:|:-----:|\n",
    "| 1      | 0.40 | 0.80 |\n",
    "| 2      | 0.12 | 0.20 |\n",
    "| 3      | 0.21 | 0.11 |\n",
    "| 4      | 0.12 | 0.17 |\n",
    "| 5      | 0.02 | 0.23 |\n",
    "| 6      | 0.32 | 0.25 |\n"
   ]
  },
  {
   "cell_type": "code",
   "execution_count": 18,
   "id": "22309ff4-85b4-4219-a1bc-a76be7a54f62",
   "metadata": {
    "tags": []
   },
   "outputs": [],
   "source": [
    "fS = c(0.40, 0.12,0.21,0.12,0.02,0.32)\n",
    "fF = c(0.8,0.2,0.11,0.17,0.23,0.25)"
   ]
  },
  {
   "cell_type": "markdown",
   "id": "bc72c112-0dd9-47c1-bc47-b1429b99f3c6",
   "metadata": {},
   "source": [
    "> The question before us is: **Which subspecies of elephant did the tusk come from, and how confident should we be in this conclusion?**"
   ]
  },
  {
   "cell_type": "markdown",
   "id": "fe9e92a7-80d7-41c1-9462-a93616f6b66e",
   "metadata": {},
   "source": [
    "### Solution"
   ]
  },
  {
   "cell_type": "markdown",
   "id": "6612a370-6f4f-48b6-8fa2-5d1180c129e3",
   "metadata": {},
   "source": [
    "> We can phrase this problem as a “model comparison” problem. We have data $X=x$ from our tusk, and we have two different models for how those data might have arisen: it could have been sampled from a savanna elephant, or it could have been sampled from a forest elephant. We will use $M_S$ and $M_F$ as shorthand for these two models. A key point is that these two models imply different probability distributions for $X$: some values of $X$ are more common under $M_S$ and others are more common under $M_F$.\n",
    ">\n",
    "> Denoting the probability mass functions of these two distributions p(⋅|MS) and p(⋅|MF), and assuming the data at different markers are independent, these probability distributions are:\n",
    "> $$\n",
    "p(x|M_S)=\\prod_j f_{S_j}^{x_j}(1−f_{S_j})^{1−x_j}\n",
    "$$\n",
    ">\n",
    "> and\n",
    "> $$\n",
    "p(x|M_F)=\\prod_j f_{F_j}^{x_j}(1−f_{F_j})^{1−x_j}\n",
    "$$\n",
    ">>\n",
    ">\n",
    "> where the values of $f_S$ and $f_F$ are given in the table above.\n",
    ">\n",
    "> The key idea to introduce here is that a useful summary of how strongly the data $x$ support one model vs another model is given by the “likelihood ratio” (LR).\n",
    "\n",
    "**So before we drive ourselves into the likelihood ratio of two methods, in this notebook, let's focus on the likelihood:**\n",
    "\n",
    "The **\"likelihood\"** for a model is defined as the probability of the data under the model. That is, given data $x$, the likelihood for a fully-specified (discrete) model M is defined as\n",
    "\n",
    "$$\n",
    "L(M_S)=p(x|M_S)=\\prod_j f_{S_j}^{x_j}(1−f_{S_j})^{1−x_j} \\\\\n",
    "L(M_F)=p(x|M_F)=\\prod_j f_{F_j}^{x_j}(1−f_{F_j})^{1−x_j}\n",
    "$$\n",
    "where $p(⋅|M)$ denotes the probability mass function for model $M$."
   ]
  },
  {
   "cell_type": "code",
   "execution_count": 19,
   "id": "ec614b27-5aaf-41af-975f-39f652b67471",
   "metadata": {
    "tags": []
   },
   "outputs": [],
   "source": [
    "L = function(f,x){ prod(f^x*(1-f)^(1-x)) }"
   ]
  },
  {
   "cell_type": "code",
   "execution_count": 20,
   "id": "a8780787-4ee5-47a7-a31e-bfe86c0e09f6",
   "metadata": {
    "tags": []
   },
   "outputs": [
    {
     "data": {
      "text/html": [
       "0.02039955456"
      ],
      "text/latex": [
       "0.02039955456"
      ],
      "text/markdown": [
       "0.02039955456"
      ],
      "text/plain": [
       "[1] 0.02039955"
      ]
     },
     "metadata": {},
     "output_type": "display_data"
    }
   ],
   "source": [
    "L(fS,x)"
   ]
  },
  {
   "cell_type": "code",
   "execution_count": 21,
   "id": "add84dd2-6491-4a6e-9405-42b7acebbc8d",
   "metadata": {
    "tags": []
   },
   "outputs": [
    {
     "data": {
      "text/html": [
       "0.01124816"
      ],
      "text/latex": [
       "0.01124816"
      ],
      "text/markdown": [
       "0.01124816"
      ],
      "text/plain": [
       "[1] 0.01124816"
      ]
     },
     "metadata": {},
     "output_type": "display_data"
    }
   ],
   "source": [
    "L(fF,x)"
   ]
  },
  {
   "cell_type": "markdown",
   "id": "0930e948-22d7-4aad-9c06-c33fbdfc9cfa",
   "metadata": {},
   "source": [
    "## Example 2 -- concentration of protein in the blood "
   ]
  },
  {
   "cell_type": "markdown",
   "id": "897d2d68-163b-492f-af81-dee8dc065f8c",
   "metadata": {},
   "source": [
    "### Description"
   ]
  },
  {
   "cell_type": "markdown",
   "id": "b47985d1-a5e7-470d-a4b6-48b072acbae0",
   "metadata": {},
   "source": [
    "> A medical screening test for a disease involves measuring the concentration ($X$) of a protein in the blood. In normal individuals $X$ has a Gamma distribution with mean 1 and shape 2. In diseased individuals the protein becomes elevated, and $X$ has a Gamma distribution with mean 2 and shape 2. Plotting the probability density functions of these distributions yields:\n",
    "> \n",
    "\n",
    "Suppose that for a particular individual we observe $X=4.02$. Then the question is\n",
    "\n",
    "**Is this individual from the normal group or the diseased group?**"
   ]
  },
  {
   "cell_type": "markdown",
   "id": "4a8c215f-b264-4499-8f1e-9766cd0c83cf",
   "metadata": {},
   "source": [
    "### Solution\n",
    "\n",
    "The likelihood for the two models -- normal individual group ($M_0$) or diseased individual group ($M_1$) --- can therefore be calculated as:\n",
    "\n",
    "\n",
    "$$\n",
    "L(M_0)=p(x|M_0)= \\frac{\\beta_0^{\\alpha_0} x^{\\alpha_0 - 1} e^{-\\beta_0 x}}{\\Gamma(\\alpha_0)} = \\frac{2^2 \\cdot 4.02^{2 - 1} e^{-2 \\cdot 4.02}}{\\Gamma(2)}\\\\\n",
    "L(M_1)=p(x|M_1)= \\frac{\\beta_1^{\\alpha_1} x^{\\alpha_1 - 1} e^{-\\beta_1 x}}{\\Gamma(\\alpha_1)} = \\frac{1^2 \\cdot 4.02^{2 - 1} e^{-1 \\cdot 4.02}}{\\Gamma(2)}\n",
    "$$\n",
    "\n",
    "\n",
    "The difference here is that instead of the **probability mass functions** that we used in the first example, here we use the **probability density functions (PDF)** of Gamma distribution:\n",
    "\n",
    "$$\n",
    "f(x; \\alpha, \\beta) = \\frac{\\beta^\\alpha x^{\\alpha - 1} e^{-\\beta x}}{\\Gamma(\\alpha)}, \\quad x > 0\n",
    "$$\n",
    "\n",
    "\n",
    "where:\n",
    "- $\\alpha$ is the shape parameter,\n",
    "- $\\beta$ is the rate parameter ($\\beta = \\frac{1}{\\theta}$, where $\\theta$ is the scale parameter),\n",
    "- $\\Gamma(\\alpha)$ is the Gamma function."
   ]
  },
  {
   "cell_type": "code",
   "execution_count": 22,
   "id": "6f07c98b-5325-4b0e-b31e-590dd14c6f3e",
   "metadata": {
    "tags": []
   },
   "outputs": [],
   "source": [
    "X_val=4.02"
   ]
  },
  {
   "cell_type": "markdown",
   "id": "e64fbaa4-1f41-4ce9-9f20-982feff184b2",
   "metadata": {},
   "source": [
    "In R we can use the [dgamma](https://stat.ethz.ch/R-manual/R-devel/library/stats/html/GammaDist.html) function to calculate the PDF of gamma function at data $x$."
   ]
  },
  {
   "cell_type": "code",
   "execution_count": 23,
   "id": "e05105fd-5310-494b-851b-8c06bb52575c",
   "metadata": {
    "tags": []
   },
   "outputs": [],
   "source": [
    "# dgamma(x, shape, rate = 1, scale = 1/rate, log = FALSE) returns the Density for the Gamma distribution with parameters shape and scale at x\n",
    "y0_val = dgamma(X_val,scale=0.5,shape=2)\n",
    "y1_val = dgamma(X_val,scale=1,shape=2)"
   ]
  },
  {
   "cell_type": "markdown",
   "id": "bbc84246-4a39-4d09-ac36-134abc9105e7",
   "metadata": {},
   "source": [
    "This can be visualized from the figure below. "
   ]
  },
  {
   "cell_type": "code",
   "execution_count": 24,
   "id": "1a912f35-d3fe-45fd-bf39-631679c7b547",
   "metadata": {
    "tags": []
   },
   "outputs": [
    {
     "data": {
      "image/png": "[encoded data removed]",
      "text/plain": [
       "plot without title"
      ]
     },
     "metadata": {
      "image/png": {
       "height": 420,
       "width": 420
      }
     },
     "output_type": "display_data"
    }
   ],
   "source": [
    "x <- seq(0, 10, length = 100)\n",
    "\n",
    "# Compute density values\n",
    "y0 <- dgamma(x, scale = 0.5, shape = 2)\n",
    "y1 <- dgamma(x, scale = 1, shape = 2)\n",
    "\n",
    "# Plot the first Gamma density\n",
    "plot(x, y0, type = \"l\", xlab = \"Protein Concentration\", ylab = \"Density\",\n",
    "     col = \"black\", lwd = 2, ylim = c(0, max(y0, y1)))\n",
    "\n",
    "# Add the second Gamma density\n",
    "lines(x, y1, col = \"red\", lwd = 2)\n",
    "\n",
    "# Add a vertical line at x = 4.02\n",
    "abline(v = X_val, lty = 2, col = \"blue\")\n",
    "\n",
    "# Mark the corresponding points\n",
    "points(X_val, y0_val, col = \"black\", pch = 19, cex = 1.2) # normal group\n",
    "points(X_val, y1_val, col = \"red\", pch = 19, cex = 1.2) # diseased group\n",
    "\n",
    "# Add text labels near the points\n",
    "text(X_val, y0_val, labels = round(y0_val, 4), pos = 3, col = \"black\")\n",
    "text(X_val, y1_val, labels = round(y1_val, 4), pos = 3, col = \"red\")\n",
    "\n",
    "# Add legend\n",
    "legend(\"topright\", legend = c(\"Gamma(0.5, 2)\", \"Gamma(1, 2)\"), \n",
    "       col = c(\"black\", \"red\"), lwd = 2, bty = \"n\")\n"
   ]
  },
  {
   "cell_type": "markdown",
   "id": "4ebf5fb8",
   "metadata": {
    "tags": []
   },
   "source": [
    "# Recommended Reading\n",
    "\n",
    "- Statistical Rethinking, 2nd Edition, Section 2.1, 2.3, 2.4.\n",
    "- Section *Likelihood Ratio and Likehood* in [FiveMinuteStats](http://stephens999.github.io/fiveMinuteStats/index.html) by Matthew Stephens\n"
   ]
  },
  {
   "cell_type": "code",
   "execution_count": null,
   "id": "5eb58cae-80de-48ac-8038-99db83a2cd84",
   "metadata": {},
   "outputs": [],
   "source": []
  }
 ],
 "metadata": {
  "kernelspec": {
   "display_name": "R",
   "language": "R",
   "name": "ir"
  },
  "language_info": {
   "codemirror_mode": "r",
   "file_extension": ".r",
   "mimetype": "text/x-r-source",
   "name": "R",
   "pygments_lexer": "r",
   "version": "4.4.2"
  },
  "toc-autonumbering": true
 },
 "nbformat": 4,
 "nbformat_minor": 5
}
