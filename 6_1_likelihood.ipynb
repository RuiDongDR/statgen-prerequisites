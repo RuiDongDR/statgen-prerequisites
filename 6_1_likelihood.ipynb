{
 "cells": [
  {
   "cell_type": "markdown",
   "id": "e6cc63ce",
   "metadata": {},
   "source": [
    "## Likelihood\n",
    "\n",
    "# Intuition\n",
    "A likelihood quantifies how well a statistical model explains observed data. In Bayesian terms, it is the key ingredient in updating prior beliefs to posterior beliefs.\n",
    "\n",
    "**FIGURE PLACEHOLDER:** ![Likelihood Intuition Cartoon](image_placeholder)"
   ]
  },
  {
   "cell_type": "markdown",
   "id": "e75bc8e1",
   "metadata": {},
   "source": [
    "# Definition\n",
    "\n",
    "\n",
    "In Bayesian statistics, the likelihood is used as part of Bayes' theorem, which is:\n",
    "$$\n",
    "P(\\theta | \\text{data}) = \\frac{P(\\text{data} | \\theta) P(\\theta)}{P(\\text{data})}\n",
    "$$\n",
    "\n",
    "- $P(\\theta | \\text{data})$ is the posterior probability of the parameters (the updated belief after seeing the data),\n",
    "- $P(\\text{data} | \\theta)$ is the **likelihood**, which tells us how probable the data is for a given parameter $\\theta$,\n",
    "- $P(\\theta)$ is the prior probability of the parameter before seeing the data (what you believe about the parameter beforehand),\n",
    "- $P(\\text{data})$ is the evidence (or marginal likelihood), which normalizes the distribution.\n",
    "\n",
    "\n",
    "In Bayesian inference, we are interested in updating our prior beliefs about the parameter $\\theta$ based on the observed data. This is where the posterior distribution comes into play.\n",
    "\n",
    "\n",
    "\n",
    "<!-- \n",
    "$L(\\theta | X) = f(X | \\theta)$\n",
    "\n",
    "Log-Likelihood: $\\ell(\\theta | X) = \\log f(X | \\theta)$\n",
    "\n",
    "Here, $\\theta$ represents the parameters, and $X$ is the observed data.\n",
    "\n",
    "For a normal distribution: \n",
    "\n",
    "$$\n",
    "\\ell(\\mu, \\sigma^2 | X) = -\\frac{n}{2} \\log(2\\pi\\sigma^2) - \\frac{1}{2\\sigma^2} \\sum_{i=1}^n (x_i - \\mu)^2\n",
    "$$ -->"
   ]
  },
  {
   "cell_type": "markdown",
   "id": "8f1d779b-f8b5-4596-b0bf-d046ce61b9f3",
   "metadata": {},
   "source": [
    "# Example"
   ]
  },
  {
   "cell_type": "markdown",
   "id": "ba25bce9-ccf0-4587-a4fd-0d724a8a603e",
   "metadata": {},
   "source": [
    "Let's consider to the coin-flipping example. If you want to compute the posterior distribution of $p$ (probability of heads), you would need:\n",
    "\n",
    "- Likelihood: $L(p) = \\binom{n}{k} p^k (1-p)^{n-k}$,\n",
    "\n",
    "- Prior: Maybe you believe that $p$ should be around 0.5 (a fair coin), but you're not entirely sure. You could use a Beta distribution as a prior, say $\\text{Beta}(1,1)$, which is a uniform distribution over $p$ between 0 and 1,\n",
    "\n",
    "- Posterior: Use Bayes' theorem to combine the likelihood and the prior to get the posterior distribution of $p$."
   ]
  },
  {
   "cell_type": "code",
   "execution_count": 2,
   "id": "7e6cf590-9e37-4deb-9f20-862e344313a1",
   "metadata": {
    "tags": []
   },
   "outputs": [],
   "source": [
    "# Beta prior parameters (uniform prior for simplicity)\n",
    "prior_alpha <- 1\n",
    "prior_beta <- 1"
   ]
  },
  {
   "cell_type": "code",
   "execution_count": 4,
   "id": "44edb396-a27e-42bc-88de-0a55541fc838",
   "metadata": {
    "tags": []
   },
   "outputs": [],
   "source": [
    "# Define the likelihood function (binomial)\n",
    "likelihood <- function(p, n, k) {\n",
    "  choose(n, k) * p^k * (1-p)^(n-k)\n",
    "}\n"
   ]
  },
  {
   "cell_type": "code",
   "execution_count": 5,
   "id": "e2ffb604-0456-4590-97ba-6892edfeeddc",
   "metadata": {
    "tags": []
   },
   "outputs": [],
   "source": [
    "# Beta prior function\n",
    "beta_prior <- function(p, alpha, beta) {\n",
    "  dbeta(p, alpha, beta)\n",
    "}"
   ]
  },
  {
   "cell_type": "code",
   "execution_count": 9,
   "id": "21613d29-3464-4816-add6-21d31a46105c",
   "metadata": {
    "tags": []
   },
   "outputs": [],
   "source": [
    "# Posterior function (likelihood * prior)\n",
    "posterior <- function(p, n, k, alpha, beta) {\n",
    "  likelihood(p, n, k) * beta_prior(p, alpha, beta)\n",
    "}"
   ]
  },
  {
   "cell_type": "code",
   "execution_count": 10,
   "id": "8dab3bc4-b3a4-4ca5-bbe5-2e27b4479412",
   "metadata": {
    "tags": []
   },
   "outputs": [],
   "source": [
    "# Normalize the posterior (integrate over p to make sure it's a valid distribution)\n",
    "normalize_posterior <- function(n, k, alpha, beta) {\n",
    "  integral <- integrate(posterior, 0, 1, n=n, k=k, alpha=alpha, beta=beta)\n",
    "  function(p) posterior(p, n, k, alpha, beta) / integral$value\n",
    "}\n"
   ]
  },
  {
   "cell_type": "code",
   "execution_count": 12,
   "id": "2c538818-5c16-48bc-bcb3-3db2315bbe27",
   "metadata": {
    "tags": []
   },
   "outputs": [
    {
     "data": {
      "image/png": "[encoded data removed]",
      "text/plain": [
       "Plot with title “Posterior distribution of p (probability of heads)”"
      ]
     },
     "metadata": {
      "image/png": {
       "height": 420,
       "width": 420
      }
     },
     "output_type": "display_data"
    }
   ],
   "source": [
    "# Example:\n",
    "## in the observed data, there are 10 flips, 7 heads\n",
    "n <- 10\n",
    "k <- 7\n",
    "normalized_posterior <- normalize_posterior(n, k, prior_alpha, prior_beta)\n",
    "\n",
    "# Plot posterior distribution for p\n",
    "p_values <- seq(0, 1, by = 0.01)\n",
    "posterior_values <- sapply(p_values, normalized_posterior)\n",
    "\n",
    "plot(p_values, posterior_values, type=\"l\", main=\"Posterior distribution of p (probability of heads)\", xlab=\"Probability of Heads\", ylab=\"Posterior Probability\")\n"
   ]
  },
  {
   "cell_type": "markdown",
   "id": "fcd11196-6511-40b2-a8a4-14879f997c34",
   "metadata": {},
   "source": [
    "In this plot, you'll see that the posterior distribution reflects both the data (7 heads out of 10 flips) and the prior belief about $p$ (the Beta prior). The posterior distribution gives us the updated belief about $p$, which in this case will be skewed towards 0.7, but it still incorporates the prior belief."
   ]
  },
  {
   "cell_type": "markdown",
   "id": "845fe547-467e-4381-a43f-6578119aef6d",
   "metadata": {},
   "source": [
    "## Summary\n",
    "\n",
    "- In Bayesian inference, the likelihood is combined with a prior to form the posterior distribution of the parameters. The posterior incorporates both the data and prior beliefs.\n",
    "- By using the Bayesian framework, we get a distribution over the parameter values (e.g., $p$ for the coin flip) rather than a single point estimate, and we can make probabilistic statements about the parameter values."
   ]
  },
  {
   "cell_type": "markdown",
   "id": "4ebf5fb8",
   "metadata": {},
   "source": [
    "# Recommended Reading\n",
    "\n",
    "- Statistical Rethinking, 2nd Edition, Section 2.1, 2.3, 2.4."
   ]
  },
  {
   "cell_type": "markdown",
   "id": "c271fc87-e6bc-48b0-862a-81b972d8d656",
   "metadata": {},
   "source": [
    "# Supple\n",
    "\n",
    "- maybe another example of normal distribution?"
   ]
  },
  {
   "cell_type": "code",
   "execution_count": null,
   "id": "7faea8a9-2b37-44cc-95d0-7d7e50d25147",
   "metadata": {},
   "outputs": [],
   "source": []
  }
 ],
 "metadata": {
  "kernelspec": {
   "display_name": "R",
   "language": "R",
   "name": "ir"
  },
  "language_info": {
   "codemirror_mode": "r",
   "file_extension": ".r",
   "mimetype": "text/x-r-source",
   "name": "R",
   "pygments_lexer": "r",
   "version": "4.4.2"
  }
 },
 "nbformat": 4,
 "nbformat_minor": 5
}
