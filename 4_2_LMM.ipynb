{
 "cells": [
  {
   "cell_type": "markdown",
   "id": "1e5900b0-da6a-415b-8e69-e7c01cff9327",
   "metadata": {},
   "source": [
    "# Intuition\n",
    "\n"
   ]
  },
  {
   "cell_type": "markdown",
   "id": "e27ec8c5-9719-41a8-af22-ec59bbeaf251",
   "metadata": {},
   "source": [
    "linear mixed model in statistical genetics"
   ]
  },
  {
   "cell_type": "markdown",
   "id": "31be40c1-3534-42db-ae8d-07b5886fac15",
   "metadata": {},
   "source": [
    "# Notations"
   ]
  },
  {
   "cell_type": "markdown",
   "id": "f5f1485b-99e1-425d-971d-d8d8cf339465",
   "metadata": {},
   "source": [
    "\n",
    "A **Linear Mixed Model (LMM)** is a powerful tool used in statistical genetics to assess associations between genetic variants and traits while accounting for the relatedness between individuals. LMMs combine fixed effects, such as the effect of a genetic variant on a trait, with random effects that model the correlation structure of the data, typically due to family relationships or population structure.\n",
    "\n",
    "### **Model Definition**\n",
    "\n",
    "In the context of genetic data, the linear mixed model can be written as:\n",
    "\n",
    "$$\n",
    "y_i = X_i \\beta + Z_i u_i + \\epsilon_i\n",
    "$$\n",
    "\n",
    "Where:\n",
    "\n",
    "- $y_i$ is the observed trait for individual $i$.\n",
    "- $X_i$ is the genotype for individual $i$ (which could be a vector of genotype values for all variants).\n",
    "- $\\beta$ is the fixed effect vector that represents the marginal effects of the genetic variants (the effect size).\n",
    "- $Z_i$ is the design matrix for the random effects (representing the genetic relationships between individuals, often given by a kinship matrix).\n",
    "- $u_i$ is the random effect vector, accounting for familial relatedness or population structure.\n",
    "- $\\epsilon_i$ is the residual error term for individual $i$, which is assumed to be normally distributed with mean 0 and variance $\\sigma^2$.\n",
    "\n",
    "> TianGe's slide P63\n",
    "$$\n",
    "\\mathbf{y} = \\mathbf{X} \\boldsymbol{\\beta} + \\mathbf{Z}\\mathbf{u} + \\boldsymbol{\\epsilon}\n",
    "$$\n",
    "- $\\mathbf{y}$: $N \\times 1$ vector of phenotypes\n",
    "- $\\mathbf{X}$: $N \\times J$ genotypes matrix\n",
    "- $\\boldsymbol{\\beta} \\sim N(0,\\sigma_\\beta^2 \\mathbf{I})$: $J \\times 1$ vector of random effect sizes\n",
    "- $\\mathbf{Z}$: covariance matrix\n",
    "- $\\mathbf{u}$: vector of the **fixed** effects of covariates\n",
    "- $\\boldsymbol{\\epsilon} \\sim  N(0,\\sigma_\\epsilon^2 \\mathbf{I})$: $N \\times 1$ residuals due to independent environment\n",
    "\n",
    "### **Assumptions**\n",
    "\n",
    "The assumptions underlying the linear mixed model are as follows:\n",
    "1. The trait values $y_i$ are assumed to be normally distributed.\n",
    "2. The genotype matrix $X$ is standardized, i.e., centered and scaled (optional but commonly done).\n",
    "3. The random effects $u_i$ are assumed to be normally distributed with mean 0 and covariance matrix $\\Sigma_u$.\n",
    "4. The residuals $\\epsilon_i$ are assumed to be independent and normally distributed with mean 0 and variance $\\sigma^2$.\n",
    "\n",
    "\n",
    "### **Conclusion**\n",
    "\n",
    "The linear mixed model is an essential tool in statistical genetics, allowing for the estimation of genetic associations while accounting for population structure and relatedness between individuals. It provides more accurate effect size estimates and p-values than simple linear models, especially in the context of complex traits influenced by genetic and environmental factors."
   ]
  },
  {
   "cell_type": "markdown",
   "id": "58d544ce-922b-4a03-b765-9a1972fd1859",
   "metadata": {},
   "source": [
    "# Example"
   ]
  },
  {
   "cell_type": "code",
   "execution_count": 24,
   "id": "77db5047-6e43-4b9c-8afc-30b087c66a62",
   "metadata": {
    "tags": []
   },
   "outputs": [],
   "source": [
    "rm(list=ls())\n",
    "set.seed(42)  # For reproducibility\n",
    "# Number of individuals and variants\n",
    "N <- 5  # Number of individuals\n",
    "M <- 3  # Number of SNPs (variants)\n",
    "\n",
    "# Create a random genotype matrix (0, 1, 2 values for each SNP)\n",
    "X_raw <- matrix(sample(0:2, N * M, replace = TRUE), nrow = N, ncol = M)\n",
    "\n",
    "# Scale the genotype matrix\n",
    "X <- scale(X_raw, scale = TRUE)  # Scaling each SNP variant across individuals\n",
    "\n",
    "# Number of measurements per individual (to simulate repeated measurements)\n",
    "n_measurements <- 5\n",
    "individuals <- factor(rep(1:N, each = n_measurements))  # Create the factor for repeated measures\n",
    "\n",
    "# Simulate random intercepts for each individual\n",
    "random_intercepts <- rnorm(N, mean = 0, sd = 1)  # Random intercept for each individual\n",
    "\n",
    "# Simulate the outcome variable, with repeated measures for the same individual\n",
    "y <- rep(NA, length(individuals))\n",
    "\n",
    "for (i in 1:N) {\n",
    "  # For each individual, simulate 'n_measurements' height values around the random intercept\n",
    "  y[individuals == i] <- random_intercepts[i] + rnorm(n_measurements, mean = 0, sd = 1)  # Measurement error\n",
    "}\n",
    "\n",
    "# Create a data frame with individuals, genotypes, and height\n",
    "# Note: X is now a matrix with M columns, we need to split it into separate columns for each SNP\n",
    "data <- data.frame(individual = individuals, X)\n",
    "\n",
    "# Add the height values to the data frame\n",
    "data$height <- y"
   ]
  },
  {
   "cell_type": "code",
   "execution_count": 25,
   "id": "dbed6c6a-aeb6-41ba-b181-22e08c0c353a",
   "metadata": {
    "tags": []
   },
   "outputs": [
    {
     "data": {
      "text/html": [
       "<table class=\"dataframe\">\n",
       "<caption>A data.frame: 6 × 5</caption>\n",
       "<thead>\n",
       "\t<tr><th></th><th scope=col>individual</th><th scope=col>X1</th><th scope=col>X2</th><th scope=col>X3</th><th scope=col>height</th></tr>\n",
       "\t<tr><th></th><th scope=col>&lt;fct&gt;</th><th scope=col>&lt;dbl&gt;</th><th scope=col>&lt;dbl&gt;</th><th scope=col>&lt;dbl&gt;</th><th scope=col>&lt;dbl&gt;</th></tr>\n",
       "</thead>\n",
       "<tbody>\n",
       "\t<tr><th scope=row>1</th><td>1</td><td>-0.4472136</td><td>-0.2390457</td><td>-1.0954451</td><td> 1.940820</td></tr>\n",
       "\t<tr><th scope=row>2</th><td>1</td><td>-0.4472136</td><td>-0.2390457</td><td>-1.0954451</td><td> 1.020617</td></tr>\n",
       "\t<tr><th scope=row>3</th><td>1</td><td>-0.4472136</td><td>-1.4342743</td><td> 0.7302967</td><td>-1.351586</td></tr>\n",
       "\t<tr><th scope=row>4</th><td>1</td><td>-0.4472136</td><td> 0.9561829</td><td> 0.7302967</td><td>-1.135597</td></tr>\n",
       "\t<tr><th scope=row>5</th><td>1</td><td> 1.7888544</td><td> 0.9561829</td><td> 0.7302967</td><td> 2.624983</td></tr>\n",
       "\t<tr><th scope=row>6</th><td>2</td><td>-0.4472136</td><td>-0.2390457</td><td>-1.0954451</td><td> 1.980007</td></tr>\n",
       "</tbody>\n",
       "</table>\n"
      ],
      "text/latex": [
       "A data.frame: 6 × 5\n",
       "\\begin{tabular}{r|lllll}\n",
       "  & individual & X1 & X2 & X3 & height\\\\\n",
       "  & <fct> & <dbl> & <dbl> & <dbl> & <dbl>\\\\\n",
       "\\hline\n",
       "\t1 & 1 & -0.4472136 & -0.2390457 & -1.0954451 &  1.940820\\\\\n",
       "\t2 & 1 & -0.4472136 & -0.2390457 & -1.0954451 &  1.020617\\\\\n",
       "\t3 & 1 & -0.4472136 & -1.4342743 &  0.7302967 & -1.351586\\\\\n",
       "\t4 & 1 & -0.4472136 &  0.9561829 &  0.7302967 & -1.135597\\\\\n",
       "\t5 & 1 &  1.7888544 &  0.9561829 &  0.7302967 &  2.624983\\\\\n",
       "\t6 & 2 & -0.4472136 & -0.2390457 & -1.0954451 &  1.980007\\\\\n",
       "\\end{tabular}\n"
      ],
      "text/markdown": [
       "\n",
       "A data.frame: 6 × 5\n",
       "\n",
       "| <!--/--> | individual &lt;fct&gt; | X1 &lt;dbl&gt; | X2 &lt;dbl&gt; | X3 &lt;dbl&gt; | height &lt;dbl&gt; |\n",
       "|---|---|---|---|---|---|\n",
       "| 1 | 1 | -0.4472136 | -0.2390457 | -1.0954451 |  1.940820 |\n",
       "| 2 | 1 | -0.4472136 | -0.2390457 | -1.0954451 |  1.020617 |\n",
       "| 3 | 1 | -0.4472136 | -1.4342743 |  0.7302967 | -1.351586 |\n",
       "| 4 | 1 | -0.4472136 |  0.9561829 |  0.7302967 | -1.135597 |\n",
       "| 5 | 1 |  1.7888544 |  0.9561829 |  0.7302967 |  2.624983 |\n",
       "| 6 | 2 | -0.4472136 | -0.2390457 | -1.0954451 |  1.980007 |\n",
       "\n"
      ],
      "text/plain": [
       "  individual X1         X2         X3         height   \n",
       "1 1          -0.4472136 -0.2390457 -1.0954451  1.940820\n",
       "2 1          -0.4472136 -0.2390457 -1.0954451  1.020617\n",
       "3 1          -0.4472136 -1.4342743  0.7302967 -1.351586\n",
       "4 1          -0.4472136  0.9561829  0.7302967 -1.135597\n",
       "5 1           1.7888544  0.9561829  0.7302967  2.624983\n",
       "6 2          -0.4472136 -0.2390457 -1.0954451  1.980007"
      ]
     },
     "metadata": {},
     "output_type": "display_data"
    }
   ],
   "source": [
    "head(data)"
   ]
  },
  {
   "cell_type": "code",
   "execution_count": 26,
   "id": "34cd189d-b3b1-4e6c-bfb6-068aedca8beb",
   "metadata": {
    "tags": []
   },
   "outputs": [
    {
     "data": {
      "text/plain": [
       "Linear mixed model fit by REML ['lmerMod']\n",
       "Formula: height ~ X1 + X2 + X3 + (1 | individual)\n",
       "   Data: data\n",
       "\n",
       "REML criterion at convergence: 86.3\n",
       "\n",
       "Scaled residuals: \n",
       "     Min       1Q   Median       3Q      Max \n",
       "-1.51387 -0.77446  0.08211  0.62760  1.46843 \n",
       "\n",
       "Random effects:\n",
       " Groups     Name        Variance Std.Dev.\n",
       " individual (Intercept) 2.679    1.637   \n",
       " Residual               1.282    1.132   \n",
       "Number of obs: 25, groups:  individual, 5\n",
       "\n",
       "Fixed effects:\n",
       "             Estimate Std. Error t value\n",
       "(Intercept)  0.004311   0.766254   0.006\n",
       "X1           0.617622   0.320298   1.928\n",
       "X2           0.051748   0.299611   0.173\n",
       "X3          -0.242696   0.277386  -0.875\n",
       "\n",
       "Correlation of Fixed Effects:\n",
       "   (Intr) X1     X2    \n",
       "X1  0.000              \n",
       "X2  0.000 -0.500       \n",
       "X3  0.000 -0.354  0.000"
      ]
     },
     "metadata": {},
     "output_type": "display_data"
    }
   ],
   "source": [
    "# Fit a Linear Mixed Model (LMM) with random intercept for individuals\n",
    "model <- lmer(height ~ X1 + X2 + X3 + (1 | individual), data = data)\n",
    "\n",
    "# Summary of the model\n",
    "summary(model)\n"
   ]
  },
  {
   "cell_type": "code",
   "execution_count": null,
   "id": "f7f110ca-e595-49db-a8ff-ae15f344a591",
   "metadata": {},
   "outputs": [],
   "source": []
  }
 ],
 "metadata": {
  "kernelspec": {
   "display_name": "R",
   "language": "R",
   "name": "ir"
  },
  "language_info": {
   "codemirror_mode": "r",
   "file_extension": ".r",
   "mimetype": "text/x-r-source",
   "name": "R",
   "pygments_lexer": "r",
   "version": "4.4.2"
  },
  "toc-autonumbering": true
 },
 "nbformat": 4,
 "nbformat_minor": 5
}
