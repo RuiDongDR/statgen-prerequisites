{
 "cells": [
  {
   "cell_type": "markdown",
   "id": "1e5900b0-da6a-415b-8e69-e7c01cff9327",
   "metadata": {},
   "source": [
    "# Intuition\n",
    "\n"
   ]
  },
  {
   "cell_type": "markdown",
   "id": "e27ec8c5-9719-41a8-af22-ec59bbeaf251",
   "metadata": {},
   "source": [
    "linear mixed model in statistical genetics"
   ]
  },
  {
   "cell_type": "markdown",
   "id": "31be40c1-3534-42db-ae8d-07b5886fac15",
   "metadata": {},
   "source": [
    "# Notations"
   ]
  },
  {
   "cell_type": "markdown",
   "id": "f5f1485b-99e1-425d-971d-d8d8cf339465",
   "metadata": {},
   "source": [
    "\n",
    "A **Linear Mixed Model (LMM)** is a powerful tool used in statistical genetics to assess associations between genetic variants and traits while accounting for the relatedness between individuals. LMMs combine fixed effects, such as the effect of a genetic variant on a trait, with random effects that model the correlation structure of the data, typically due to family relationships or population structure.\n",
    "\n",
    "### **Model Definition**\n",
    "\n",
    "In the context of genetic data, the linear mixed model can be written as:\n",
    "\n",
    "$$\n",
    "y_i = X_i \\beta + Z_i u_i + \\epsilon_i\n",
    "$$\n",
    "\n",
    "Where:\n",
    "\n",
    "- $y_i$ is the observed trait for individual $i$.\n",
    "- $X_i$ is the genotype for individual $i$ (which could be a vector of genotype values for all variants).\n",
    "- $\\beta$ is the fixed effect vector that represents the marginal effects of the genetic variants (the effect size).\n",
    "- $Z_i$ is the design matrix for the random effects (representing the genetic relationships between individuals, often given by a kinship matrix).\n",
    "- $u_i$ is the random effect vector, accounting for familial relatedness or population structure.\n",
    "- $\\epsilon_i$ is the residual error term for individual $i$, which is assumed to be normally distributed with mean 0 and variance $\\sigma^2$.\n",
    "\n",
    "### **Assumptions**\n",
    "\n",
    "The assumptions underlying the linear mixed model are as follows:\n",
    "1. The trait values $y_i$ are assumed to be normally distributed.\n",
    "2. The genotype matrix $X$ is standardized, i.e., centered and scaled (optional but commonly done).\n",
    "3. The random effects $u_i$ are assumed to be normally distributed with mean 0 and covariance matrix $\\Sigma_u$.\n",
    "4. The residuals $\\epsilon_i$ are assumed to be independent and normally distributed with mean 0 and variance $\\sigma^2$.\n",
    "\n",
    "\n",
    "### **Conclusion**\n",
    "\n",
    "The linear mixed model is an essential tool in statistical genetics, allowing for the estimation of genetic associations while accounting for population structure and relatedness between individuals. It provides more accurate effect size estimates and p-values than simple linear models, especially in the context of complex traits influenced by genetic and environmental factors."
   ]
  },
  {
   "cell_type": "markdown",
   "id": "58d544ce-922b-4a03-b765-9a1972fd1859",
   "metadata": {},
   "source": [
    "# Example"
   ]
  },
  {
   "cell_type": "code",
   "execution_count": 14,
   "id": "77db5047-6e43-4b9c-8afc-30b087c66a62",
   "metadata": {
    "tags": []
   },
   "outputs": [
    {
     "data": {
      "text/html": [
       "<table class=\"dataframe\">\n",
       "<caption>A data.frame: 15 × 3</caption>\n",
       "<thead>\n",
       "\t<tr><th scope=col>individual</th><th scope=col>genotype</th><th scope=col>height</th></tr>\n",
       "\t<tr><th scope=col>&lt;fct&gt;</th><th scope=col>&lt;dbl&gt;</th><th scope=col>&lt;dbl&gt;</th></tr>\n",
       "</thead>\n",
       "<tbody>\n",
       "\t<tr><td>1</td><td>0</td><td>170.5758</td></tr>\n",
       "\t<tr><td>1</td><td>2</td><td>173.6946</td></tr>\n",
       "\t<tr><td>1</td><td>0</td><td>171.5118</td></tr>\n",
       "\t<tr><td>1</td><td>1</td><td>172.3898</td></tr>\n",
       "\t<tr><td>1</td><td>0</td><td>169.3788</td></tr>\n",
       "\t<tr><td>2</td><td>2</td><td>171.7853</td></tr>\n",
       "\t<tr><td>2</td><td>2</td><td>175.1249</td></tr>\n",
       "\t<tr><td>2</td><td>1</td><td>171.9551</td></tr>\n",
       "\t<tr><td>2</td><td>1</td><td>171.9838</td></tr>\n",
       "\t<tr><td>2</td><td>2</td><td>174.9438</td></tr>\n",
       "\t<tr><td>3</td><td>2</td><td>174.8212</td></tr>\n",
       "\t<tr><td>3</td><td>0</td><td>170.5939</td></tr>\n",
       "\t<tr><td>3</td><td>0</td><td>170.9190</td></tr>\n",
       "\t<tr><td>3</td><td>0</td><td>170.7821</td></tr>\n",
       "\t<tr><td>3</td><td>1</td><td>172.0746</td></tr>\n",
       "</tbody>\n",
       "</table>\n"
      ],
      "text/latex": [
       "A data.frame: 15 × 3\n",
       "\\begin{tabular}{lll}\n",
       " individual & genotype & height\\\\\n",
       " <fct> & <dbl> & <dbl>\\\\\n",
       "\\hline\n",
       "\t 1 & 0 & 170.5758\\\\\n",
       "\t 1 & 2 & 173.6946\\\\\n",
       "\t 1 & 0 & 171.5118\\\\\n",
       "\t 1 & 1 & 172.3898\\\\\n",
       "\t 1 & 0 & 169.3788\\\\\n",
       "\t 2 & 2 & 171.7853\\\\\n",
       "\t 2 & 2 & 175.1249\\\\\n",
       "\t 2 & 1 & 171.9551\\\\\n",
       "\t 2 & 1 & 171.9838\\\\\n",
       "\t 2 & 2 & 174.9438\\\\\n",
       "\t 3 & 2 & 174.8212\\\\\n",
       "\t 3 & 0 & 170.5939\\\\\n",
       "\t 3 & 0 & 170.9190\\\\\n",
       "\t 3 & 0 & 170.7821\\\\\n",
       "\t 3 & 1 & 172.0746\\\\\n",
       "\\end{tabular}\n"
      ],
      "text/markdown": [
       "\n",
       "A data.frame: 15 × 3\n",
       "\n",
       "| individual &lt;fct&gt; | genotype &lt;dbl&gt; | height &lt;dbl&gt; |\n",
       "|---|---|---|\n",
       "| 1 | 0 | 170.5758 |\n",
       "| 1 | 2 | 173.6946 |\n",
       "| 1 | 0 | 171.5118 |\n",
       "| 1 | 1 | 172.3898 |\n",
       "| 1 | 0 | 169.3788 |\n",
       "| 2 | 2 | 171.7853 |\n",
       "| 2 | 2 | 175.1249 |\n",
       "| 2 | 1 | 171.9551 |\n",
       "| 2 | 1 | 171.9838 |\n",
       "| 2 | 2 | 174.9438 |\n",
       "| 3 | 2 | 174.8212 |\n",
       "| 3 | 0 | 170.5939 |\n",
       "| 3 | 0 | 170.9190 |\n",
       "| 3 | 0 | 170.7821 |\n",
       "| 3 | 1 | 172.0746 |\n",
       "\n"
      ],
      "text/plain": [
       "   individual genotype height  \n",
       "1  1          0        170.5758\n",
       "2  1          2        173.6946\n",
       "3  1          0        171.5118\n",
       "4  1          1        172.3898\n",
       "5  1          0        169.3788\n",
       "6  2          2        171.7853\n",
       "7  2          2        175.1249\n",
       "8  2          1        171.9551\n",
       "9  2          1        171.9838\n",
       "10 2          2        174.9438\n",
       "11 3          2        174.8212\n",
       "12 3          0        170.5939\n",
       "13 3          0        170.9190\n",
       "14 3          0        170.7821\n",
       "15 3          1        172.0746"
      ]
     },
     "metadata": {},
     "output_type": "display_data"
    }
   ],
   "source": [
    "# Load necessary libraries\n",
    "library(lme4)\n",
    "\n",
    "# Simulate true mean and effect size\n",
    "set.seed(1)\n",
    "baseline <- 170  # Population mean of the trait (e.g., height in cm) when the genetic variant has no effect (Model 1)\n",
    "theta_true <- 2  # True effect size of the genetic variant. This represents the change in height (in cm) associated with each additional minor allele (Model 2)\n",
    "sd_y <- 1  # Standard deviation of the trait (e.g., variability in height measurement within the population)\n",
    "\n",
    "# Simulate genotype and height values for more individuals\n",
    "n_individuals <- 3  # Number of individuals\n",
    "n_measurements <- 5  # Number of measurements per individual\n",
    "\n",
    "# Generate genotype values (randomly assign each individual to one of 3 genotypes)\n",
    "genotype <- sample(c(0, 1, 2), size = n_individuals * n_measurements, replace = TRUE)\n",
    "\n",
    "# Generate individual IDs for 10 individuals, each having 5 measurements\n",
    "individuals <- factor(rep(1:n_individuals, each = n_measurements))\n",
    "\n",
    "# Simulate height values for each individual, based on genotypes\n",
    "height_values <- rnorm(length(genotype), mean = baseline + theta_true * genotype, sd = sd_y)\n",
    "\n",
    "# Create data frame with the simulated data\n",
    "data <- data.frame(individual = individuals, genotype = genotype, height = height_values)\n",
    "\n",
    "data"
   ]
  },
  {
   "cell_type": "code",
   "execution_count": 15,
   "id": "34cd189d-b3b1-4e6c-bfb6-068aedca8beb",
   "metadata": {
    "tags": []
   },
   "outputs": [
    {
     "name": "stderr",
     "output_type": "stream",
     "text": [
      "boundary (singular) fit: see help('isSingular')\n",
      "\n"
     ]
    },
    {
     "data": {
      "text/plain": [
       "Linear mixed model fit by REML ['lmerMod']\n",
       "Formula: height ~ genotype + (1 | individual)\n",
       "   Data: data\n",
       "\n",
       "REML criterion at convergence: 39.3\n",
       "\n",
       "Scaled residuals: \n",
       "     Min       1Q   Median       3Q      Max \n",
       "-2.45865 -0.33622  0.03095  0.65098  1.24730 \n",
       "\n",
       "Random effects:\n",
       " Groups     Name        Variance Std.Dev.\n",
       " individual (Intercept) 0.0000   0.0000  \n",
       " Residual               0.8121   0.9012  \n",
       "Number of obs: 15, groups:  individual, 3\n",
       "\n",
       "Fixed effects:\n",
       "            Estimate Std. Error t value\n",
       "(Intercept) 170.5660     0.3447 494.778\n",
       "genotype      1.7175     0.2725   6.302\n",
       "\n",
       "Correlation of Fixed Effects:\n",
       "         (Intr)\n",
       "genotype -0.738\n",
       "optimizer (nloptwrap) convergence code: 0 (OK)\n",
       "boundary (singular) fit: see help('isSingular')\n"
      ]
     },
     "metadata": {},
     "output_type": "display_data"
    }
   ],
   "source": [
    "# Fit a Linear Mixed Model (LMM) with random intercept for individuals\n",
    "model <- lmer(height ~ genotype + (1 | individual), data = data)\n",
    "\n",
    "# Summary of the model\n",
    "summary(model)\n"
   ]
  },
  {
   "cell_type": "markdown",
   "id": "68ca1974-3c06-4ac1-9bc6-31afe49c0e73",
   "metadata": {},
   "source": [
    "# TODO\n",
    "- [ ] should we move this right after summary statistics?"
   ]
  },
  {
   "cell_type": "code",
   "execution_count": null,
   "id": "92834933-1103-4f47-ba83-148c81dd25aa",
   "metadata": {},
   "outputs": [],
   "source": []
  }
 ],
 "metadata": {
  "kernelspec": {
   "display_name": "R",
   "language": "R",
   "name": "ir"
  },
  "language_info": {
   "codemirror_mode": "r",
   "file_extension": ".r",
   "mimetype": "text/x-r-source",
   "name": "R",
   "pygments_lexer": "r",
   "version": "4.4.2"
  },
  "toc-autonumbering": true
 },
 "nbformat": 4,
 "nbformat_minor": 5
}
