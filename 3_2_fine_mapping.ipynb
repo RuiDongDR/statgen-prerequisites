{
 "cells": [
  {
   "cell_type": "markdown",
   "id": "1e5900b0-da6a-415b-8e69-e7c01cff9327",
   "metadata": {},
   "source": [
    "# Intuition\n",
    "\n"
   ]
  },
  {
   "cell_type": "markdown",
   "id": "658804fa-e1a8-477c-9176-f3bd55196dd5",
   "metadata": {},
   "source": [
    "fine-mapping --- summary statistics and LD"
   ]
  },
  {
   "cell_type": "markdown",
   "id": "31be40c1-3534-42db-ae8d-07b5886fac15",
   "metadata": {},
   "source": [
    "# Notations"
   ]
  },
  {
   "cell_type": "markdown",
   "id": "21d3777c-85ac-4900-a495-317c3b3b6e63",
   "metadata": {},
   "source": [
    "## Introduction to Fine-Mapping\n",
    "\n",
    "In genome-wide association studies (GWAS), as discussed in lecture 3.1, we often obtain marginal estimates of the effect size for each genetic variant, typically from univariate regression models. However, these marginal estimates do not account for the potential correlation between variants, i.e., LD that we discussed in lecture 1.2. \n",
    "\n",
    "The existence of LD can lead to bias of estimates of effect size in GWAS, where multiple correlated variants may be associated with the trait, and the true causal variant is obscured by these correlations.\n",
    "\n",
    "Fine-mapping is the process of refining the association signals from GWAS to identify the most likely causal variant within a region of high LD. This involves considering the **genetic correlation** between variants and accounting for the LD structure to better understand the genetic architecture of traits.\n"
   ]
  },
  {
   "cell_type": "markdown",
   "id": "1e3ec76b-ff9b-4828-b0e7-8e5ace8b4647",
   "metadata": {},
   "source": [
    "## Steps in Fine-Mapping\n",
    "\n",
    "1. **Identify the Associated Region**  \n",
    "   First, identify the genomic region associated with the trait (from GWAS). This region usually contains many correlated SNPs.\n",
    "\n",
    "2. **Look at the LD Structure**  \n",
    "   Examine the **linkage disequilibrium (LD)** structure to see how the SNPs in the region are correlated with each other.\n",
    "\n",
    "3. **Estimate the Likelihood of Causality for Each SNP**  \n",
    "   Fine-mapping methods (like Bayesian models) calculate the probability that each SNP in the region is causal, considering both the statistical association and the LD patterns.\n",
    "\n",
    "4. **Rank and Prioritize Causal Variants**  \n",
    "   The SNPs are ranked based on their likelihood of being causal, with the highest probability indicating the most likely causal variant.\n",
    "\n",
    "5. **Refine the Causal Variant**  \n",
    "   Fine-mapping narrows down the list of candidate SNPs, highlighting the most likely causal variants for further study.\n"
   ]
  },
  {
   "cell_type": "markdown",
   "id": "30e7f7b1-cced-4803-bd5c-930f0b2e9b84",
   "metadata": {},
   "source": [
    "## Difference Between OLS Estimate and Fine-Mapping\n",
    "\n",
    "- **OLS Estimate**:  \n",
    "  - Estimates the effect of each SNP on the trait independently, assuming that SNPs are not correlated (no linkage disequilibrium, LD).\n",
    "  - Provides marginal effect sizes without considering potential correlations between SNPs.\n",
    "  - Useful for initial screening but may mislead when SNPs are in LD.\n",
    "\n",
    "- **Fine-Mapping**:  \n",
    "  - Refines the identification of causal variants by considering both the association signal and LD between SNPs.\n",
    "  - Uses statistical models (like Bayesian methods) to estimate the probability of each SNP being causal, accounting for correlation among variants.\n",
    "  - More accurate for identifying the true causal SNP(s) within a region.\n",
    "\n",
    "### Key Difference:\n",
    "OLS gives independent estimates without considering LD, while fine-mapping accounts for LD and provides a refined likelihood of causality for each SNP.\n"
   ]
  },
  {
   "cell_type": "markdown",
   "id": "58d544ce-922b-4a03-b765-9a1972fd1859",
   "metadata": {},
   "source": [
    "# Example"
   ]
  },
  {
   "cell_type": "markdown",
   "id": "f5d8560a-f0d5-47dc-8c29-ac4cde719569",
   "metadata": {},
   "source": [
    "Reference susie: https://stephenslab.github.io/susieR/articles/finemapping.html"
   ]
  },
  {
   "cell_type": "code",
   "execution_count": 55,
   "id": "77db5047-6e43-4b9c-8afc-30b087c66a62",
   "metadata": {
    "tags": []
   },
   "outputs": [
    {
     "name": "stderr",
     "output_type": "stream",
     "text": [
      "The following objects are masked from N3finemapping (pos = 3):\n",
      "\n",
      "    allele_freq, chrom, pos, residual_variance, true_coef, V, X, Y\n",
      "\n",
      "\n"
     ]
    }
   ],
   "source": [
    "rm(list=ls())\n",
    "library(susieR)\n",
    "library(corrplot)\n",
    "data(N3finemapping)\n",
    "attach(N3finemapping)"
   ]
  },
  {
   "cell_type": "code",
   "execution_count": 56,
   "id": "2eddbe8a-5ac3-45e9-874a-70786c2f188e",
   "metadata": {
    "tags": []
   },
   "outputs": [
    {
     "data": {
      "text/html": [
       "<style>\n",
       ".list-inline {list-style: none; margin:0; padding: 0}\n",
       ".list-inline>li {display: inline-block}\n",
       ".list-inline>li:not(:last-child)::after {content: \"\\00b7\"; padding: 0 .5ex}\n",
       "</style>\n",
       "<ol class=list-inline><li>574</li><li>2</li></ol>\n"
      ],
      "text/latex": [
       "\\begin{enumerate*}\n",
       "\\item 574\n",
       "\\item 2\n",
       "\\end{enumerate*}\n"
      ],
      "text/markdown": [
       "1. 574\n",
       "2. 2\n",
       "\n",
       "\n"
      ],
      "text/plain": [
       "[1] 574   2"
      ]
     },
     "metadata": {},
     "output_type": "display_data"
    }
   ],
   "source": [
    "dim(Y)"
   ]
  },
  {
   "cell_type": "code",
   "execution_count": 57,
   "id": "e7384a79-a6b6-4dd3-a9f6-3e65307aa129",
   "metadata": {
    "tags": []
   },
   "outputs": [
    {
     "data": {
      "image/png": "[encoded data removed]",
      "text/plain": [
       "plot without title"
      ]
     },
     "metadata": {
      "image/png": {
       "height": 420,
       "width": 420
      }
     },
     "output_type": "display_data"
    }
   ],
   "source": [
    "b <- true_coef[,1]\n",
    "plot(b, pch=16, ylab='effect size')"
   ]
  },
  {
   "cell_type": "code",
   "execution_count": 58,
   "id": "e4d051f5-a748-46fb-98c8-dc797bde43c3",
   "metadata": {},
   "outputs": [
    {
     "data": {
      "text/html": [
       "<style>\n",
       ".list-inline {list-style: none; margin:0; padding: 0}\n",
       ".list-inline>li {display: inline-block}\n",
       ".list-inline>li:not(:last-child)::after {content: \"\\00b7\"; padding: 0 .5ex}\n",
       "</style>\n",
       "<ol class=list-inline><li>403</li><li>653</li><li>773</li></ol>\n"
      ],
      "text/latex": [
       "\\begin{enumerate*}\n",
       "\\item 403\n",
       "\\item 653\n",
       "\\item 773\n",
       "\\end{enumerate*}\n"
      ],
      "text/markdown": [
       "1. 403\n",
       "2. 653\n",
       "3. 773\n",
       "\n",
       "\n"
      ],
      "text/plain": [
       "[1] 403 653 773"
      ]
     },
     "metadata": {},
     "output_type": "display_data"
    }
   ],
   "source": [
    "which(b != 0)"
   ]
  },
  {
   "cell_type": "code",
   "execution_count": 59,
   "id": "28bf7c80-5d7e-420d-ae97-05eaafd7fe58",
   "metadata": {},
   "outputs": [
    {
     "data": {
      "image/png": "[encoded data removed]",
      "text/plain": [
       "plot without title"
      ]
     },
     "metadata": {
      "image/png": {
       "height": 420,
       "width": 420
      }
     },
     "output_type": "display_data"
    }
   ],
   "source": [
    "sumstats <- univariate_regression(X, Y[,1])\n",
    "z_scores <- sumstats$betahat / sumstats$sebetahat\n",
    "susie_plot(z_scores, y = \"z\", b=b)"
   ]
  },
  {
   "cell_type": "markdown",
   "id": "7f9ab6bb-cefc-4899-a3a1-dc2b9ed067eb",
   "metadata": {},
   "source": [
    "Note that the `univariate_regression` is exactly the same as we did before -- running the simplest linear regression on the trait with each SNP respectively:"
   ]
  },
  {
   "cell_type": "code",
   "execution_count": 60,
   "id": "602bac7a-0db5-4b50-b34b-44507785e52b",
   "metadata": {
    "tags": []
   },
   "outputs": [
    {
     "data": {
      "image/png": "[encoded data removed]",
      "text/plain": [
       "Plot with title “-log10(p-values) for SNPs”"
      ]
     },
     "metadata": {
      "image/png": {
       "height": 420,
       "width": 420
      }
     },
     "output_type": "display_data"
    }
   ],
   "source": [
    "# Initialize a matrix or data frame to store the summary statistics for each variant\n",
    "summary_stats <- data.frame(\n",
    "  Variant = rep(1:ncol(X)),\n",
    "  Estimate = numeric(ncol(X)),\n",
    "  Std.Error = numeric(ncol(X)),\n",
    "  t.Value = numeric(ncol(X)),\n",
    "  P.Value = numeric(ncol(X))\n",
    ")\n",
    "\n",
    "# Loop over each column (variant) in X\n",
    "for (i in 1:ncol(X)) {\n",
    "  # Fit a linear model for each variant (marginal regression)\n",
    "  model <- lm(Y[,1] ~ X[,i])\n",
    "  \n",
    "  # Get the summary of the model\n",
    "  model_summary <- summary(model)\n",
    "  \n",
    "  # Extract the coefficients (effect size, SE, t-value, p-value) for the current variant\n",
    "  summary_stats$Estimate[i] <- model_summary$coefficients[2, 1]  # Effect size (beta)\n",
    "  summary_stats$Std.Error[i] <- model_summary$coefficients[2, 2]  # Standard error\n",
    "  summary_stats$t.Value[i] <- model_summary$coefficients[2, 3]    # t-value\n",
    "  summary_stats$P.Value[i] <- model_summary$coefficients[2, 4]    # p-value\n",
    "}\n",
    "\n",
    "# Calculate -log10(p-values)\n",
    "summary_stats$neg_log10_p <- -log10(summary_stats$P.Value)\n",
    "\n",
    "# Create a vector indicating which variants are causal (assuming non-zero coefficient means causal)\n",
    "is_causal <- b != 0\n",
    "\n",
    "# Set up the colors: black for non-causal, red for causal\n",
    "colors <- ifelse(is_causal, \"red\", \"black\")\n",
    "\n",
    "# Plot -log10(p-values)\n",
    "plot(summary_stats$neg_log10_p, \n",
    "     main = \"-log10(p-values) for SNPs\", \n",
    "     ylab = \"-log10(p-value)\", \n",
    "     xlab = \"SNP\", \n",
    "     pch = 16,  # Solid dots\n",
    "     col = colors,  # Color points based on whether they're causal or not\n",
    "     ylim = c(0, max(summary_stats$neg_log10_p, na.rm = TRUE) + 1))\n"
   ]
  },
  {
   "cell_type": "code",
   "execution_count": 62,
   "id": "46b5140a-caa2-4a2e-84d4-a5e505cd0e02",
   "metadata": {
    "tags": []
   },
   "outputs": [
    {
     "name": "stderr",
     "output_type": "stream",
     "text": [
      "\u001b[1m\u001b[4m\u001b[35mHINT:\u001b[39m\u001b[24m\u001b[22m For an X with many columns, please consider installingthe Rfast package for more efficient credible set (CS)calculations.\n",
      "\n"
     ]
    },
    {
     "name": "stdout",
     "output_type": "stream",
     "text": [
      "[1] \"objective:-1380.57545244584\"\n",
      "[1] \"objective:-1377.48660917375\"\n",
      "[1] \"objective:-1375.85777207917\"\n",
      "[1] \"objective:-1375.80892301721\"\n",
      "[1] \"objective:-1370.33949333373\"\n",
      "[1] \"objective:-1370.19677277264\"\n",
      "[1] \"objective:-1370.10919739196\"\n",
      "[1] \"objective:-1370.10918017462\"\n",
      "[1] \"objective:-1370.10901872278\"\n"
     ]
    }
   ],
   "source": [
    "fitted <- susie(X, Y[,1],\n",
    "                L = 10,\n",
    "        verbose = TRUE)"
   ]
  },
  {
   "cell_type": "code",
   "execution_count": 63,
   "id": "a61125ac-2d29-4023-aacf-87ec1d69c707",
   "metadata": {
    "tags": []
   },
   "outputs": [
    {
     "name": "stdout",
     "output_type": "stream",
     "text": [
      "$cs\n",
      "$cs$L2\n",
      "[1] 653\n",
      "\n",
      "$cs$L1\n",
      "[1] 773 777\n",
      "\n",
      "$cs$L3\n",
      " [1] 362 365 372 373 374 379 381 383 384 386 387 388 389 391 392 396 397 398 399\n",
      "[20] 400 401 403 404 405 407 408 415\n",
      "\n",
      "\n",
      "$purity\n",
      "   min.abs.corr mean.abs.corr median.abs.corr\n",
      "L2    1.0000000     1.0000000       1.0000000\n",
      "L1    0.9815726     0.9815726       0.9815726\n",
      "L3    0.8686309     0.9640176       0.9720711\n",
      "\n",
      "$cs_index\n",
      "[1] 2 1 3\n",
      "\n",
      "$coverage\n",
      "[1] 0.9998236 0.9988858 0.9539811\n",
      "\n",
      "$requested_coverage\n",
      "[1] 0.95\n",
      "\n"
     ]
    }
   ],
   "source": [
    "print(fitted$sets)"
   ]
  },
  {
   "cell_type": "code",
   "execution_count": 65,
   "id": "c40acc44-578b-4bd4-b38c-e15bacb40c03",
   "metadata": {
    "tags": []
   },
   "outputs": [
    {
     "name": "stdout",
     "output_type": "stream",
     "text": [
      "$cs\n",
      "$cs$L2\n",
      "[1] 653\n",
      "\n",
      "$cs$L1\n",
      "[1] 773 777\n",
      "\n",
      "$cs$L3\n",
      " [1] 373 374 379 381 383 384 386 387 388 389 391 392 396 398 399 400 401 403 404\n",
      "[20] 405 407 408\n",
      "\n",
      "\n",
      "$purity\n",
      "   min.abs.corr mean.abs.corr median.abs.corr\n",
      "L2    1.0000000     1.0000000       1.0000000\n",
      "L1    0.9815726     0.9815726       0.9815726\n",
      "L3    0.9119572     0.9726283       0.9765888\n",
      "\n",
      "$cs_index\n",
      "[1] 2 1 3\n",
      "\n",
      "$coverage\n",
      "[1] 0.9998236 0.9988858 0.9119917\n",
      "\n",
      "$requested_coverage\n",
      "[1] 0.9\n",
      "\n"
     ]
    }
   ],
   "source": [
    "sets <- susie_get_cs(fitted,\n",
    "                     X = X,\n",
    "             coverage = 0.9,\n",
    "                     min_abs_corr = 0.1)\n",
    "print(sets)"
   ]
  },
  {
   "cell_type": "code",
   "execution_count": null,
   "id": "0149335e-67ad-43d2-82f5-a6fe40595e64",
   "metadata": {},
   "outputs": [],
   "source": []
  },
  {
   "cell_type": "code",
   "execution_count": null,
   "id": "a1b5f42b-cdb3-47ae-9e8c-298dcb1f7f95",
   "metadata": {},
   "outputs": [],
   "source": []
  },
  {
   "cell_type": "code",
   "execution_count": null,
   "id": "1559c51d-03b9-44e1-b03e-6ebea38e30db",
   "metadata": {},
   "outputs": [],
   "source": []
  },
  {
   "cell_type": "code",
   "execution_count": null,
   "id": "f04b3f74-443f-4da7-a075-852d47647664",
   "metadata": {},
   "outputs": [],
   "source": []
  },
  {
   "cell_type": "markdown",
   "id": "e5535d49-6fe9-4f73-af0c-31a25dba3ac9",
   "metadata": {
    "tags": []
   },
   "source": [
    "\n",
    "> slide 206-207 from GW"
   ]
  },
  {
   "cell_type": "code",
   "execution_count": null,
   "id": "9d4a43e4-413b-459c-9589-f1d2d16e25f4",
   "metadata": {},
   "outputs": [],
   "source": []
  }
 ],
 "metadata": {
  "kernelspec": {
   "display_name": "R",
   "language": "R",
   "name": "ir"
  },
  "language_info": {
   "codemirror_mode": "r",
   "file_extension": ".r",
   "mimetype": "text/x-r-source",
   "name": "R",
   "pygments_lexer": "r",
   "version": "4.4.2"
  },
  "toc-autonumbering": true
 },
 "nbformat": 4,
 "nbformat_minor": 5
}
