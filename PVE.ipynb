{
 "cells": [
  {
   "cell_type": "markdown",
   "id": "d384c860-1f10-4ad8-ac9b-0327a0f0208d",
   "metadata": {},
   "source": [
    "# Intuition"
   ]
  },
  {
   "cell_type": "markdown",
   "id": "69380d15",
   "metadata": {},
   "source": [
    "![figure](./cartoons/2_4.svg)"
   ]
  },
  {
   "cell_type": "markdown",
   "id": "0ef1901e-9166-4c6e-b51d-bea2d93b403a",
   "metadata": {
    "tags": []
   },
   "source": [
    "# Notations"
   ]
  },
  {
   "cell_type": "markdown",
   "id": "51cce5fd-9f33-41ab-8473-4a0ee77a1840",
   "metadata": {
    "tags": []
   },
   "source": [
    "## Percentage of Variance Explained \n",
    "\n",
    "In the context of a single marker random effect model, the percentage of variance explained (PVE) relates to how much of the phenotypic variance is accounted for by the genetic variant. \n",
    "\n",
    "Recall:\n",
    "\n",
    "$$\n",
    "\\mathbf{Y} = \\mathbf{X} \\boldsymbol{\\beta}  + \\boldsymbol{\\epsilon}, \\quad \\boldsymbol{\\epsilon} \\sim N(0, \\sigma^2\\mathbf{I})\n",
    "$$\n",
    "\n",
    "\n",
    "Where:\n",
    "- $\\mathbf{Y}$ is the $N \\times 1$ vector of trait values for $N$ individuals\n",
    "- $\\mathbf{X}$ is the $N \\times M$ vector of genotypes for $M$ variants across $N$ individuals\n",
    "- $\\boldsymbol{\\beta}$ is the $M \\times 1$ vector of effect size for $M$ genetic variants\n",
    "- $\\boldsymbol{\\epsilon}$ is the $N \\times 1$ vector of error terms for $N$ individuals\n",
    "\n",
    "This equation is often used for estimating the proportion of phenotypic variance explained by all measured SNPs in GWAS, $\\frac{\\operatorname{Var}(\\mathbf{X} \\boldsymbol{\\beta})}{\\operatorname{Var}(\\mathbf{Y})}$; where $\\operatorname{Var}$ denotes sample variance (or $\\frac{\\sigma_{\\mathbf{X} \\boldsymbol{\\beta}}^2}{\\sigma_\\mathbf{Y}^2}$). This quantity is commonly referred to as the **proportion of variance in phenotypes explained (PVE)** by available genotypes or **SNP heritability** under the additive model, denoted as $h^2_g$.\n"
   ]
  },
  {
   "cell_type": "markdown",
   "id": "7592158a-d605-44c0-80fa-e248900ed7f2",
   "metadata": {},
   "source": [
    "## Heritability\n",
    "\n",
    "- Reference Resource:\n",
    "> P54 in Tian Ge's slides:\n",
    "\n",
    "We can decompose a trait into contributions from **genetic** and **environmental** factors:\n",
    "\n",
    "$$\n",
    "\\mathbf{y} = \\mathbf{g} + \\mathbf{e}\n",
    "$$\n",
    "\n",
    "where:\n",
    "- $\\mathbf{g} = \\mathbf{X} \\boldsymbol{\\beta}$ represents genetic effects.\n",
    "- $\\mathbf{e}$ encompasses all non-genetic (environmental) factors.\n",
    "\n",
    "### Genetic Component Decomposition\n",
    "The genetic component $\\mathbf{g}$ can be further partitioned based on the nature of the genetic variants:\n",
    "\n",
    "$$\n",
    "\\mathbf{g} = \\mathbf{g}_a + \\mathbf{g}_d + \\mathbf{g}_i\n",
    "$$\n",
    "\n",
    "where:\n",
    "- $\\mathbf{g}_a$ represents **additive genetic effects**.\n",
    "- $\\mathbf{g}_d$ represents **dominance effects**.\n",
    "- $\\mathbf{g}_i$ represents **gene-gene interactions** (**epistasis**).\n",
    "\n",
    "### Environmental Component Decomposition\n",
    "Similarly, the environmental component $\\mathbf{e}$ can be decomposed into:\n",
    "\n",
    "$$\n",
    "\\mathbf{e} = \\mathbf{e}_c + \\mathbf{e}_u\n",
    "$$\n",
    "\n",
    "where:\n",
    "- $\\mathbf{e}_c$ represents **common (shared) environmental factors**.\n",
    "- $\\mathbf{e}_u$ represents **unique (independent) environmental factors**.\n",
    "\n",
    "### Phenotypic Variance Decomposition\n",
    "Thus, the total phenotypic variance is given by:\n",
    "\n",
    "\\begin{align*}\n",
    "\\sigma_{\\mathbf{y}}^2 &= \\sigma_{\\mathbf{g}}^2 + \\sigma_{\\mathbf{e}}^2 \\\\\n",
    "&= \\left( \\sigma_{\\mathbf{g}_a}^2 + \\sigma_{\\mathbf{g}_d}^2 + \\sigma_{\\mathbf{g}_i}^2 \\right) + \\left( \\sigma_{\\mathbf{e}_c}^2 + \\sigma_{\\mathbf{e}_u}^2 \\right)\n",
    "\\end{align*}\n",
    "\n",
    "### Heritability Measures\n",
    "\n",
    "#### Broad-Sense Heritability ($H^2$)\n",
    "\n",
    "$$\n",
    "H^2 = \\frac{\\sigma_{\\mathbf{g}}^2}{\\sigma_{\\mathbf{y}}^2}\n",
    "$$\n",
    "\n",
    "- Represents the proportion of **total phenotypic variance** explained by **all genetic effects** (both additive and non-additive).\n",
    "\n",
    "#### Narrow-Sense Heritability ($h^2$)\n",
    "\n",
    "$$\n",
    " h^2 = \\frac{\\sigma_{\\mathbf{g}_a}^2}{\\sigma_{\\mathbf{y}}^2}\n",
    "$$\n",
    "\n",
    "- Represents the proportion of **phenotypic variance** explained **only by additive genetic effects**.\n",
    "- Equals the sum of additive effects of each phenotype-contributing allele.\n",
    "\n",
    "This decomposition helps distinguish different genetic contributions to a trait and informs genetic studies, especially in quantitative genetics and heritability estimation.\n",
    "\n"
   ]
  },
  {
   "cell_type": "markdown",
   "id": "899fd4a3-27ab-4954-a81e-e7803602a8a0",
   "metadata": {},
   "source": [
    "# Example"
   ]
  },
  {
   "cell_type": "markdown",
   "id": "23a9bd7d-7272-478d-85bf-e44bfd7fa712",
   "metadata": {},
   "source": [
    "The total heritability is set to 55%.\n",
    "- The first two variants ($X_1, X_2$) contribute to additive genetic variance.\n",
    "- The third variant ($X_3$) contributes to dominant genetic variance.\n",
    "- The contributions are proportionally divided based on their predefined percentages.\n",
    "\n",
    "First, we simulate genotype data for 100 individuals and 3 SNPs. Each genotype is randomly assigned as 0 (homozygous major), 1 (heterozygous), or 2 (homozygous minor). The genotype matrix is scaled for all three variants.\n"
   ]
  },
  {
   "cell_type": "code",
   "execution_count": 1,
   "id": "70ff392f-625a-4b39-807d-15c83298de7a",
   "metadata": {
    "tags": [],
    "vscode": {
     "languageId": "r"
    }
   },
   "outputs": [],
   "source": [
    "rm(list=ls())\n",
    "set.seed(24)  # For reproducibility\n",
    "\n",
    "# ---- Define True Effect Sizes ----\n",
    "h2_total <- 0.55  # Total heritability\n",
    "h2_additive <- c(0.10, 0.20) * h2_total  # Contributions from first two variants (additive)\n",
    "h2_dominant <- 0.25 * h2_total  # Contribution from third variant (dominant)\n",
    "\n",
    "# Number of individuals and SNPs\n",
    "N <- 100   # Number of individuals\n",
    "M <- 3     # Number of SNPs (variants)\n",
    "\n",
    "# Create a random genotype matrix (0, 1, 2 values for each SNP)\n",
    "X_raw <- matrix(sample(0:2, N * M, replace = TRUE), nrow = N, ncol = M)\n",
    "\n",
    "# Add row and column names \n",
    "rownames(X_raw) <- paste(\"Individual\", 1:N)\n",
    "colnames(X_raw) <- paste(\"Variant\", 1:M)\n",
    "\n",
    "# Standardize genotype matrix for additive effects (mean 0, variance 1)\n",
    "X <- scale(X_raw, scale = TRUE)\n",
    "\n",
    "# Convert third variant (X3) to dominant encoding (0 for homozygous major, 1 for heterozygous or homozygous minor)\n",
    "X_dominant <- ifelse(X_raw[,3] > 0, 1, 0)  \n",
    "X_dominant <- scale(X_dominant, scale = TRUE)  # Standardize"
   ]
  },
  {
   "cell_type": "markdown",
   "id": "fb7d9937-63d1-4d39-b5fb-255ebbf13b76",
   "metadata": {},
   "source": [
    "Computes effect sizes for each genetic factor based on predefined heritability contributions.\n",
    "\n",
    "Constructs the genetic component ($\\mathbf{g}$):\n",
    "- First two variants ($X_1, X_2$) contribute additively.\n",
    "- The third variant ($X_3$) contributes dominantly.\n",
    "\n",
    "Then we add environmental noise to account for non-genetic factors, and standardizes the phenotype ($\\mathbf{y}$) so it has mean 0 and variance 1.\n",
    "\n"
   ]
  },
  {
   "cell_type": "code",
   "execution_count": 2,
   "id": "1b244aaf-aeac-4c02-91fe-2ee2c714c9e7",
   "metadata": {
    "tags": [],
    "vscode": {
     "languageId": "r"
    }
   },
   "outputs": [],
   "source": [
    "# Compute effect sizes based on heritability contributions\n",
    "beta_additive <- sqrt(h2_additive)\n",
    "beta_dominant <- sqrt(h2_dominant)\n",
    "\n",
    "# Generate phenotype\n",
    "g <- X[, 1:2] %*% beta_additive + X_dominant * beta_dominant  # Genetic component\n",
    "e <- rnorm(N, mean = 0, sd = sqrt(1 - h2_total))  # Environmental noise\n",
    "\n",
    "y <- g + e  # Total phenotype\n",
    "\n",
    "# Standardize phenotype (mean 0, variance 1)\n",
    "y <- scale(y, scale = TRUE)\n"
   ]
  },
  {
   "cell_type": "markdown",
   "id": "0c93b8f0-51e3-46f7-aba9-79e9c77bb3e2",
   "metadata": {},
   "source": [
    "Now let's fit a linear regression model to estimate:\n",
    "\n",
    "- Additive genetic variance using only $X_1$ and $X_2$.\n",
    "- Total genetic variance (additive + dominant) by including $X_3$."
   ]
  },
  {
   "cell_type": "code",
   "execution_count": 3,
   "id": "ca329a5c-a60e-483d-a12b-14a8ddd124dc",
   "metadata": {
    "tags": [],
    "vscode": {
     "languageId": "r"
    }
   },
   "outputs": [],
   "source": [
    "# ---- Estimate Heritability ----\n",
    "\n",
    "# Fit linear models\n",
    "model_additive <- lm(y ~ X[,1] + X[,2])  # Only additive effects\n",
    "model_full <- lm(y ~ X[,1] + X[,2] + X_dominant)  # Additive + dominant effects\n",
    "\n",
    "# Compute variance components\n",
    "var_additive <- sum(summary(model_additive)$coef[-1,1]^2 * apply(X[,1:2], 2, var))\n",
    "var_total <- var(as.vector(y))\n",
    "\n",
    "var_genetic <- sum(summary(model_full)$coef[-1,1]^2 * c(apply(X[,1:2], 2, var), var(X_dominant)))\n"
   ]
  },
  {
   "cell_type": "markdown",
   "id": "5aaf12ee-e264-483d-8df8-94f49eb9bcc0",
   "metadata": {
    "tags": []
   },
   "source": [
    "- Narrow-sense heritability ($h^2$): Calculates variance explained by additive effects ($X_1$ and $X_2$).\n",
    "- Broad-sense heritability ($H^2$): Includes both additive and dominant effects ($X_1, X_2$ and $X_3$)."
   ]
  },
  {
   "cell_type": "code",
   "execution_count": 4,
   "id": "c5e45ffd-c516-4aff-860d-bcca76f0793c",
   "metadata": {
    "tags": [],
    "vscode": {
     "languageId": "r"
    }
   },
   "outputs": [
    {
     "name": "stdout",
     "output_type": "stream",
     "text": [
      "Estimated Narrow-Sense Heritability (h^2): 0.2318079 \n",
      "Estimated Broad-Sense Heritability (H^2): 0.4598361 \n"
     ]
    }
   ],
   "source": [
    "# Narrow-sense heritability (h^2) - Only additive variance\n",
    "h2_narrow <- var_additive / var_total\n",
    "\n",
    "# Broad-sense heritability (H^2) - Includes both additive and dominant variance\n",
    "h2_broad <- var_genetic / var_total\n",
    "\n",
    "# Print results\n",
    "cat(\"Estimated Narrow-Sense Heritability (h^2):\", h2_narrow, \"\\n\")\n",
    "cat(\"Estimated Broad-Sense Heritability (H^2):\", h2_broad, \"\\n\")"
   ]
  },
  {
   "cell_type": "code",
   "execution_count": null,
   "id": "bb0141a4-ba19-4b34-b311-b8cc9343c82d",
   "metadata": {
    "vscode": {
     "languageId": "r"
    }
   },
   "outputs": [],
   "source": []
  },
  {
   "cell_type": "code",
   "execution_count": null,
   "id": "8e017f02-266c-4d06-8b8b-7a76021e0370",
   "metadata": {
    "vscode": {
     "languageId": "r"
    }
   },
   "outputs": [],
   "source": []
  },
  {
   "cell_type": "code",
   "execution_count": null,
   "id": "37d09f80-db61-478d-9e13-80548060538b",
   "metadata": {
    "vscode": {
     "languageId": "r"
    }
   },
   "outputs": [],
   "source": []
  },
  {
   "cell_type": "code",
   "execution_count": null,
   "id": "b5926085-ab5d-443d-9a95-9ea24b7f7a62",
   "metadata": {
    "vscode": {
     "languageId": "r"
    }
   },
   "outputs": [],
   "source": []
  },
  {
   "cell_type": "code",
   "execution_count": null,
   "id": "bc8f6330-b668-4ce2-87db-4d4dedb82dcf",
   "metadata": {
    "vscode": {
     "languageId": "r"
    }
   },
   "outputs": [],
   "source": []
  },
  {
   "cell_type": "code",
   "execution_count": null,
   "id": "7daa578f-8c20-47d1-96f5-1d2b64fefc34",
   "metadata": {
    "vscode": {
     "languageId": "r"
    }
   },
   "outputs": [],
   "source": []
  },
  {
   "cell_type": "code",
   "execution_count": null,
   "id": "57f844aa-a966-45ba-a586-afc790556e13",
   "metadata": {
    "vscode": {
     "languageId": "r"
    }
   },
   "outputs": [],
   "source": []
  },
  {
   "cell_type": "code",
   "execution_count": null,
   "id": "cca33a84-ccf9-4d57-a362-2eff4cf67f26",
   "metadata": {
    "vscode": {
     "languageId": "r"
    }
   },
   "outputs": [],
   "source": []
  },
  {
   "cell_type": "code",
   "execution_count": null,
   "id": "61cb2482-8890-486b-989c-dabd406750ed",
   "metadata": {
    "vscode": {
     "languageId": "r"
    }
   },
   "outputs": [],
   "source": []
  },
  {
   "cell_type": "code",
   "execution_count": null,
   "id": "2dfdc9bf-792c-4be9-aef8-ee616cdbcfee",
   "metadata": {
    "vscode": {
     "languageId": "r"
    }
   },
   "outputs": [],
   "source": []
  },
  {
   "cell_type": "code",
   "execution_count": null,
   "id": "3776f778-a334-4b1f-9f19-99e99848a4ec",
   "metadata": {
    "vscode": {
     "languageId": "r"
    }
   },
   "outputs": [],
   "source": []
  },
  {
   "cell_type": "code",
   "execution_count": null,
   "id": "68c5444d-4859-4b6e-91a0-78b44f7865a0",
   "metadata": {
    "vscode": {
     "languageId": "r"
    }
   },
   "outputs": [],
   "source": []
  },
  {
   "cell_type": "code",
   "execution_count": null,
   "id": "62773ced-5839-4a0c-835a-594370089409",
   "metadata": {
    "vscode": {
     "languageId": "r"
    }
   },
   "outputs": [],
   "source": []
  },
  {
   "cell_type": "code",
   "execution_count": null,
   "id": "b56c1424-d0ab-45a5-8941-dbd45a9ca7d1",
   "metadata": {
    "vscode": {
     "languageId": "r"
    }
   },
   "outputs": [],
   "source": []
  },
  {
   "cell_type": "code",
   "execution_count": null,
   "id": "e3eeb915-20b4-4c20-ab81-b6ed1401d3d8",
   "metadata": {
    "vscode": {
     "languageId": "r"
    }
   },
   "outputs": [],
   "source": []
  },
  {
   "cell_type": "code",
   "execution_count": null,
   "id": "13abdded-4952-406f-9bdc-078ca2fb8a3c",
   "metadata": {
    "vscode": {
     "languageId": "r"
    }
   },
   "outputs": [],
   "source": []
  },
  {
   "cell_type": "code",
   "execution_count": null,
   "id": "5bc75a74-fe38-4c44-8846-2d57f70e78ae",
   "metadata": {
    "vscode": {
     "languageId": "r"
    }
   },
   "outputs": [],
   "source": []
  },
  {
   "cell_type": "code",
   "execution_count": null,
   "id": "48c74099-888e-4e79-8e6a-cc68ab0a06f4",
   "metadata": {
    "vscode": {
     "languageId": "r"
    }
   },
   "outputs": [],
   "source": []
  },
  {
   "cell_type": "markdown",
   "id": "4442020e-b2b3-4386-907b-79b351782a92",
   "metadata": {},
   "source": [
    "# Supplementary\n",
    "\n",
    "- Zhu H, Zhou X. Statistical methods for SNP heritability estimation and partition: A review. Comput Struct Biotechnol J. 2020 Jun 18;18:1557-1568. doi: 10.1016/j.csbj.2020.06.011. PMID: 32637052; PMCID: PMC7330487."
   ]
  },
  {
   "cell_type": "code",
   "execution_count": null,
   "id": "e19b7a19-eaa9-4822-9021-bf3b7b565c9c",
   "metadata": {
    "vscode": {
     "languageId": "r"
    }
   },
   "outputs": [],
   "source": []
  }
 ],
 "metadata": {
  "kernelspec": {
   "display_name": "R",
   "language": "R",
   "name": "ir"
  },
  "language_info": {
   "codemirror_mode": "r",
   "file_extension": ".r",
   "mimetype": "text/x-r-source",
   "name": "R",
   "pygments_lexer": "r",
   "version": "4.3.3"
  },
  "toc-autonumbering": true
 },
 "nbformat": 4,
 "nbformat_minor": 5
}
