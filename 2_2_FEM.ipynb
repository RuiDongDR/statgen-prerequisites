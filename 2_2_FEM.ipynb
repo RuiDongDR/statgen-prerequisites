{
 "cells": [
  {
   "cell_type": "markdown",
   "id": "1e5900b0-da6a-415b-8e69-e7c01cff9327",
   "metadata": {},
   "source": [
    "# Intuition\n",
    "\n",
    "fixed effect model\n"
   ]
  },
  {
   "cell_type": "markdown",
   "id": "31be40c1-3534-42db-ae8d-07b5886fac15",
   "metadata": {
    "tags": []
   },
   "source": [
    "# Notations"
   ]
  },
  {
   "cell_type": "markdown",
   "id": "0e7bb761-336b-4206-b513-3ce45f29b4fa",
   "metadata": {},
   "source": [
    "> slide 146 in Hailiang Huang's slides\n",
    ">\n",
    "> slide 244-246 from GW"
   ]
  },
  {
   "cell_type": "markdown",
   "id": "4ec684d5-6ab2-4762-b02c-7836dbd4a7ce",
   "metadata": {},
   "source": [
    "When we move from one study to multiple studies (e.g., in a meta-analysis), you may want to test whether a particular SNP has the same effect across studies. This is where the idea of sharing a common effect size becomes relevant.\n",
    "\n",
    "In a meta-analysis of multiple studies, we often assume that the true effect size for each SNP is **the same across all studies** (but possibly with different observed effect sizes due to different sample sizes, populations, etc.). The meta-analysis combines results from multiple studies, and the fixed effect model in this context would assume that the SNP's effect size is consistent across all the studies being analyzed.\n",
    "\n",
    "**[FIXME]** should we introduce the concept of meta-analysis first before discussing about FEM and REM?\n",
    "\n",
    "---\n",
    "\n",
    "\n",
    "\n",
    "In a fixed effect meta-analysis, we assume that the observed effect size $\\hat{\\beta}_k$ from study $k$ follows a normal distribution:\n",
    "\n",
    "$$\n",
    "\\hat{\\beta}_k \\sim N(\\beta_j, s_k^2)\n",
    "$$\n",
    "\n",
    "Where:\n",
    "- $\\beta_j$ is the **true effect size** for SNP $j$, assumed to be the same across all studies.\n",
    "- $s_k^2$ is the **variance** of the observed effect size $\\hat{\\beta}_k$ for study $k$, reflecting the precision of the estimate in study $k$.\n"
   ]
  },
  {
   "cell_type": "markdown",
   "id": "34b81d33-0f60-4361-9d58-a5675e8ac846",
   "metadata": {},
   "source": [
    "\n",
    "## Combined Estimate of Effect Size\n",
    "\n",
    "   The goal of the meta-analysis is to estimate the true effect size $\\beta_j$ from the observed effect sizes $\\hat{\\beta}_k$ across all studies. We do this by calculating a **weighted average** of the observed effect sizes, where the weights are proportional to the precision of each estimate (i.e., inversely proportional to the variance $s_k^2$):\n",
    "\n",
    "   $$\n",
    "   \\hat{\\beta}_j = \\frac{\\sum_{k=1}^{K} w_k \\hat{\\beta}_{k}}{\\sum_{k=1}^{K} w_k}\n",
    "   $$\n",
    "\n",
    "   Where:\n",
    "   - $w_k = \\frac{1}{s_k^2}$ is the weight for study $k$.\n",
    "\n",
    "\n"
   ]
  },
  {
   "cell_type": "markdown",
   "id": "dc6234c8-ef89-41e9-84e0-ac6a152f5f79",
   "metadata": {},
   "source": [
    "## Maximum Likelihood Estimation (MLE) of the Summary Effect\n",
    "\n",
    "   The MLE for the summary effect size $\\beta_j$ under the fixed effect model is equivalent to the **inverse variance weighting**. This is because we assume that the observed effect sizes $\\hat{\\beta}_k$ are normally distributed with mean $\\beta_j$ and variance $s_k^2$. The likelihood function for the fixed effect model is maximized by weighting the observed effect sizes by the inverse of their variances:\n",
    "\n",
    "   $$\n",
    "   \\hat{\\beta}_j = \\frac{\\sum_{k=1}^{K} \\frac{\\hat{\\beta}_k}{s_k^2}}{\\sum_{k=1}^{K} \\frac{1}{s_k^2}}\n",
    "   $$\n",
    "\n",
    "   This is the **inverse variance weighting** formula used to combine the effect sizes from different studies in a meta-analysis.\n"
   ]
  },
  {
   "cell_type": "markdown",
   "id": "58d544ce-922b-4a03-b765-9a1972fd1859",
   "metadata": {},
   "source": [
    "# Example"
   ]
  },
  {
   "cell_type": "code",
   "execution_count": 1,
   "id": "3fae954f-10fb-445c-80ff-cc3ff30bb2c1",
   "metadata": {
    "tags": [],
    "vscode": {
     "languageId": "r"
    }
   },
   "outputs": [],
   "source": [
    "rm(list=ls())\n",
    "set.seed(22)  # For reproducibility\n",
    "\n",
    "# ---- Define True Effect Size ----\n",
    "true_effect_size <- 0.5  # True effect size for the causal SNP\n",
    "true_causal_variant <- 2  # Assume SNP 2 is the causal variant"
   ]
  },
  {
   "cell_type": "markdown",
   "id": "d678fa4e-fd44-47e4-a85a-e945eaa162d3",
   "metadata": {},
   "source": [
    "## Generate and Perform GWAS for Study 1\n",
    "\n",
    "In this section, we generate the genotype matrix for Study 1, which consists of **100 individuals and 3 variants (SNPs)**. Each individual's genotype is represented by values 0, 1, or 2. The matrix is then standardized, meaning each column (representing a variant) will have a mean of 0 and variance of 1. After that, we simulate the response variable and perform the GWAS analysis by **running OLS regression for each SNP individually**.\n",
    "\n",
    "Steps:\n",
    "- Create a random genotype matrix for 100 individuals and 3 variants.\n",
    "- Standardize the genotype matrix.\n",
    "- Generate the response variable for 100 individuals.\n",
    "- Perform OLS regression for each SNP to calculate the estimated effect sizes and standard errors."
   ]
  },
  {
   "cell_type": "code",
   "execution_count": 2,
   "id": "bcfb9ff4-feb5-4153-a3a4-bd19f0d7d7c3",
   "metadata": {
    "tags": [],
    "vscode": {
     "languageId": "r"
    }
   },
   "outputs": [
    {
     "data": {
      "text/html": [
       "<table class=\"dataframe\">\n",
       "<caption>A data.frame: 3 x 4</caption>\n",
       "<thead>\n",
       "\t<tr><th scope=col>Variant</th><th scope=col>Beta</th><th scope=col>SE</th><th scope=col>P_Value</th></tr>\n",
       "\t<tr><th scope=col>&lt;chr&gt;</th><th scope=col>&lt;dbl&gt;</th><th scope=col>&lt;dbl&gt;</th><th scope=col>&lt;dbl&gt;</th></tr>\n",
       "</thead>\n",
       "<tbody>\n",
       "\t<tr><td>Variant 1</td><td> 0.1366463</td><td>0.1137774</td><td>0.232647361</td></tr>\n",
       "\t<tr><td>Variant 2</td><td> 0.4059894</td><td>0.1070230</td><td>0.000257103</td></tr>\n",
       "\t<tr><td>Variant 3</td><td>-0.1104953</td><td>0.1140669</td><td>0.335085246</td></tr>\n",
       "</tbody>\n",
       "</table>\n"
      ],
      "text/latex": [
       "A data.frame: 3 x 4\n",
       "\\begin{tabular}{llll}\n",
       " Variant & Beta & SE & P\\_Value\\\\\n",
       " <chr> & <dbl> & <dbl> & <dbl>\\\\\n",
       "\\hline\n",
       "\t Variant 1 &  0.1366463 & 0.1137774 & 0.232647361\\\\\n",
       "\t Variant 2 &  0.4059894 & 0.1070230 & 0.000257103\\\\\n",
       "\t Variant 3 & -0.1104953 & 0.1140669 & 0.335085246\\\\\n",
       "\\end{tabular}\n"
      ],
      "text/markdown": [
       "\n",
       "A data.frame: 3 x 4\n",
       "\n",
       "| Variant &lt;chr&gt; | Beta &lt;dbl&gt; | SE &lt;dbl&gt; | P_Value &lt;dbl&gt; |\n",
       "|---|---|---|---|\n",
       "| Variant 1 |  0.1366463 | 0.1137774 | 0.232647361 |\n",
       "| Variant 2 |  0.4059894 | 0.1070230 | 0.000257103 |\n",
       "| Variant 3 | -0.1104953 | 0.1140669 | 0.335085246 |\n",
       "\n"
      ],
      "text/plain": [
       "  Variant   Beta       SE        P_Value    \n",
       "1 Variant 1  0.1366463 0.1137774 0.232647361\n",
       "2 Variant 2  0.4059894 0.1070230 0.000257103\n",
       "3 Variant 3 -0.1104953 0.1140669 0.335085246"
      ]
     },
     "metadata": {},
     "output_type": "display_data"
    }
   ],
   "source": [
    "# ---- Study 1 (100 individuals) ----\n",
    "N1 <- 100  # Number of individuals in study 1\n",
    "M <- 3     # Number of SNPs (variants)\n",
    "\n",
    "# Create a random genotype matrix (0, 1, 2 values for each SNP)\n",
    "X_raw1 <- matrix(sample(0:2, N1 * M, replace = TRUE), nrow = N1, ncol = M)\n",
    "\n",
    "# Adding row and column names for Study 1\n",
    "rownames(X_raw1) <- paste(\"Individual\", 1:N1)\n",
    "colnames(X_raw1) <- paste(\"Variant\", 1:M)\n",
    "\n",
    "# Standardize genotype matrix for Study 1\n",
    "X1 = scale(X_raw1, scale=TRUE)\n",
    "\n",
    "# Simulate phenotype with the true effect size on the causal SNP (SNP 2)\n",
    "y1 <- true_effect_size * X1[, true_causal_variant] + rnorm(N1, mean = 0, sd = 1)\n",
    "\n",
    "# Perform GWAS-style analysis for Study 1: Test each SNP independently using OLS\n",
    "p_values1 <- numeric(M)  # Store p-values for Study 1\n",
    "betas1 <- numeric(M)     # Store estimated effect sizes for Study 1\n",
    "se1 <- numeric(M)        # Store standard errors for Study 1\n",
    "\n",
    "for (j in 1:M) {\n",
    "  SNP <- X1[, j]  # Extract genotype for SNP j\n",
    "  model <- lm(y1 ~ SNP)  # OLS regression: Trait ~ SNP\n",
    "  summary_model <- summary(model)\n",
    "  \n",
    "  # Store p-value, effect size (coefficient), and standard error\n",
    "  p_values1[j] <- summary_model$coefficients[2, 4]  # p-value for SNP effect\n",
    "  betas1[j] <- summary_model$coefficients[2, 1]     # Estimated beta coefficient\n",
    "  se1[j] <- summary_model$coefficients[2, 2]        # Standard error of beta\n",
    "}\n",
    "\n",
    "# Create results table for Study 1\n",
    "gwas_results1 <- data.frame(Variant = colnames(X1), Beta = betas1, SE = se1, P_Value = p_values1)\n",
    "gwas_results1"
   ]
  },
  {
   "cell_type": "markdown",
   "id": "53f22769-c343-44bd-81f9-b105128aaea1",
   "metadata": {},
   "source": [
    "## Generate and Perform GWAS for Study 2\n",
    "In this section, we generate the genotype matrix for Study 2, which consists of **500 individuals and 3 variants (SNPs)**. Similar to Study 1, the genotype matrix is standardized. The response variable is also simulated, and we perform the GWAS analysis by running OLS regression for each SNP independently to obtain the effect sizes and standard errors.\n",
    "\n",
    "The steps are the same as Study 1."
   ]
  },
  {
   "cell_type": "code",
   "execution_count": 3,
   "id": "ed6cb766-d624-4396-9755-3330746270b1",
   "metadata": {
    "tags": [],
    "vscode": {
     "languageId": "r"
    }
   },
   "outputs": [
    {
     "data": {
      "text/html": [
       "<table class=\"dataframe\">\n",
       "<caption>A data.frame: 3 x 4</caption>\n",
       "<thead>\n",
       "\t<tr><th scope=col>Variant</th><th scope=col>Beta</th><th scope=col>SE</th><th scope=col>P_Value</th></tr>\n",
       "\t<tr><th scope=col>&lt;chr&gt;</th><th scope=col>&lt;dbl&gt;</th><th scope=col>&lt;dbl&gt;</th><th scope=col>&lt;dbl&gt;</th></tr>\n",
       "</thead>\n",
       "<tbody>\n",
       "\t<tr><td>Variant 1</td><td> 0.007480303</td><td>0.04750693</td><td>8.749484e-01</td></tr>\n",
       "\t<tr><td>Variant 2</td><td> 0.428855320</td><td>0.04344779</td><td>4.162621e-21</td></tr>\n",
       "\t<tr><td>Variant 3</td><td>-0.020721752</td><td>0.04749904</td><td>6.628399e-01</td></tr>\n",
       "</tbody>\n",
       "</table>\n"
      ],
      "text/latex": [
       "A data.frame: 3 x 4\n",
       "\\begin{tabular}{llll}\n",
       " Variant & Beta & SE & P\\_Value\\\\\n",
       " <chr> & <dbl> & <dbl> & <dbl>\\\\\n",
       "\\hline\n",
       "\t Variant 1 &  0.007480303 & 0.04750693 & 8.749484e-01\\\\\n",
       "\t Variant 2 &  0.428855320 & 0.04344779 & 4.162621e-21\\\\\n",
       "\t Variant 3 & -0.020721752 & 0.04749904 & 6.628399e-01\\\\\n",
       "\\end{tabular}\n"
      ],
      "text/markdown": [
       "\n",
       "A data.frame: 3 x 4\n",
       "\n",
       "| Variant &lt;chr&gt; | Beta &lt;dbl&gt; | SE &lt;dbl&gt; | P_Value &lt;dbl&gt; |\n",
       "|---|---|---|---|\n",
       "| Variant 1 |  0.007480303 | 0.04750693 | 8.749484e-01 |\n",
       "| Variant 2 |  0.428855320 | 0.04344779 | 4.162621e-21 |\n",
       "| Variant 3 | -0.020721752 | 0.04749904 | 6.628399e-01 |\n",
       "\n"
      ],
      "text/plain": [
       "  Variant   Beta         SE         P_Value     \n",
       "1 Variant 1  0.007480303 0.04750693 8.749484e-01\n",
       "2 Variant 2  0.428855320 0.04344779 4.162621e-21\n",
       "3 Variant 3 -0.020721752 0.04749904 6.628399e-01"
      ]
     },
     "metadata": {},
     "output_type": "display_data"
    }
   ],
   "source": [
    "# ---- Study 2 (500 individuals) ----\n",
    "N2 <- 500  # Number of individuals in study 2\n",
    "\n",
    "# Create a random genotype matrix (0, 1, 2 values for each SNP)\n",
    "X_raw2 <- matrix(sample(0:2, N2 * M, replace = TRUE), nrow = N2, ncol = M)\n",
    "\n",
    "# Adding row and column names for Study 2\n",
    "rownames(X_raw2) <- paste(\"Individual\", 1:N2)\n",
    "colnames(X_raw2) <- paste(\"Variant\", 1:M)\n",
    "\n",
    "# Standardize genotype matrix for Study 2\n",
    "X2 = scale(X_raw2, scale=TRUE)\n",
    "\n",
    "# Simulate phenotype with the true effect size on the causal SNP (SNP 2)\n",
    "y2 <- true_effect_size * X2[, true_causal_variant] + rnorm(N2, mean = 0, sd = 1)\n",
    "\n",
    "# Perform GWAS-style analysis for Study 2: Test each SNP independently using OLS\n",
    "p_values2 <- numeric(M)  # Store p-values for Study 2\n",
    "betas2 <- numeric(M)     # Store estimated effect sizes for Study 2\n",
    "se2 <- numeric(M)        # Store standard errors for Study 2\n",
    "\n",
    "for (j in 1:M) {\n",
    "  SNP <- X2[, j]  # Extract genotype for SNP j\n",
    "  model <- lm(y2 ~ SNP)  # OLS regression: Trait ~ SNP\n",
    "  summary_model <- summary(model)\n",
    "  \n",
    "  # Store p-value, effect size (coefficient), and standard error\n",
    "  p_values2[j] <- summary_model$coefficients[2, 4]  # p-value for SNP effect\n",
    "  betas2[j] <- summary_model$coefficients[2, 1]     # Estimated beta coefficient\n",
    "  se2[j] <- summary_model$coefficients[2, 2]        # Standard error of beta\n",
    "}\n",
    "\n",
    "# Create results table for Study 2\n",
    "gwas_results2 <- data.frame(Variant = colnames(X2), Beta = betas2, SE = se2, P_Value = p_values2)\n",
    "gwas_results2"
   ]
  },
  {
   "cell_type": "markdown",
   "id": "ea53a43a-1628-4b28-ae7f-82114f90220a",
   "metadata": {},
   "source": [
    "## Meta-Analysis\n",
    "\n",
    "After performing the GWAS in both Study 1 and Study 2, we conduct a **meta-analysis** to combine the results from both studies and obtain a more robust estimate of the true effect size. \n",
    "\n",
    "The meta-analysis is performed using **inverse variance weighting**, where the effect size estimates from each study are weighted by the inverse of their squared standard errors. This ensures that studies with more precise estimates (smaller standard errors) contribute more to the combined estimate. The weighted average of the effect sizes from both studies is calculated, providing a summary effect size that incorporates data from both studies. This meta-analysis helps to obtain a more accurate and consistent estimate of the effect of each SNP on the trait across different sample sizes."
   ]
  },
  {
   "cell_type": "code",
   "execution_count": 4,
   "id": "1397f6cc-25a5-4ee3-94c3-33e2220f3da9",
   "metadata": {
    "tags": [],
    "vscode": {
     "languageId": "r"
    }
   },
   "outputs": [
    {
     "name": "stdout",
     "output_type": "stream",
     "text": [
      "[1] \"Meta-Analysis Results (Inverse Variance Weighting):\"\n"
     ]
    },
    {
     "data": {
      "text/html": [
       "<table class=\"dataframe\">\n",
       "<caption>A data.frame: 3 x 10</caption>\n",
       "<thead>\n",
       "\t<tr><th scope=col>Variant</th><th scope=col>Beta_Study1</th><th scope=col>SE_Study1</th><th scope=col>P_Value_Study1</th><th scope=col>Beta_Study2</th><th scope=col>SE_Study2</th><th scope=col>P_Value_Study2</th><th scope=col>Combined_Beta</th><th scope=col>Combined_SE</th><th scope=col>Combined_P_Value</th></tr>\n",
       "\t<tr><th scope=col>&lt;chr&gt;</th><th scope=col>&lt;dbl&gt;</th><th scope=col>&lt;dbl&gt;</th><th scope=col>&lt;dbl&gt;</th><th scope=col>&lt;dbl&gt;</th><th scope=col>&lt;dbl&gt;</th><th scope=col>&lt;dbl&gt;</th><th scope=col>&lt;dbl&gt;</th><th scope=col>&lt;dbl&gt;</th><th scope=col>&lt;dbl&gt;</th></tr>\n",
       "</thead>\n",
       "<tbody>\n",
       "\t<tr><td>Variant 1</td><td> 0.1366463</td><td>0.1137774</td><td>0.2297526563</td><td> 0.007480303</td><td>0.04750693</td><td>0.8748846</td><td> 0.02665618</td><td>0.04383891</td><td>0.5431553</td></tr>\n",
       "\t<tr><td>Variant 2</td><td> 0.4059894</td><td>0.1070230</td><td>0.0001485517</td><td> 0.428855320</td><td>0.04344779</td><td>0.0000000</td><td> 0.42562002</td><td>0.04025690</td><td>0.0000000</td></tr>\n",
       "\t<tr><td>Variant 3</td><td>-0.1104953</td><td>0.1140669</td><td>0.3327006047</td><td>-0.020721752</td><td>0.04749904</td><td>0.6626508</td><td>-0.03398814</td><td>0.04384920</td><td>0.4382722</td></tr>\n",
       "</tbody>\n",
       "</table>\n"
      ],
      "text/latex": [
       "A data.frame: 3 x 10\n",
       "\\begin{tabular}{llllllllll}\n",
       " Variant & Beta\\_Study1 & SE\\_Study1 & P\\_Value\\_Study1 & Beta\\_Study2 & SE\\_Study2 & P\\_Value\\_Study2 & Combined\\_Beta & Combined\\_SE & Combined\\_P\\_Value\\\\\n",
       " <chr> & <dbl> & <dbl> & <dbl> & <dbl> & <dbl> & <dbl> & <dbl> & <dbl> & <dbl>\\\\\n",
       "\\hline\n",
       "\t Variant 1 &  0.1366463 & 0.1137774 & 0.2297526563 &  0.007480303 & 0.04750693 & 0.8748846 &  0.02665618 & 0.04383891 & 0.5431553\\\\\n",
       "\t Variant 2 &  0.4059894 & 0.1070230 & 0.0001485517 &  0.428855320 & 0.04344779 & 0.0000000 &  0.42562002 & 0.04025690 & 0.0000000\\\\\n",
       "\t Variant 3 & -0.1104953 & 0.1140669 & 0.3327006047 & -0.020721752 & 0.04749904 & 0.6626508 & -0.03398814 & 0.04384920 & 0.4382722\\\\\n",
       "\\end{tabular}\n"
      ],
      "text/markdown": [
       "\n",
       "A data.frame: 3 x 10\n",
       "\n",
       "| Variant &lt;chr&gt; | Beta_Study1 &lt;dbl&gt; | SE_Study1 &lt;dbl&gt; | P_Value_Study1 &lt;dbl&gt; | Beta_Study2 &lt;dbl&gt; | SE_Study2 &lt;dbl&gt; | P_Value_Study2 &lt;dbl&gt; | Combined_Beta &lt;dbl&gt; | Combined_SE &lt;dbl&gt; | Combined_P_Value &lt;dbl&gt; |\n",
       "|---|---|---|---|---|---|---|---|---|---|\n",
       "| Variant 1 |  0.1366463 | 0.1137774 | 0.2297526563 |  0.007480303 | 0.04750693 | 0.8748846 |  0.02665618 | 0.04383891 | 0.5431553 |\n",
       "| Variant 2 |  0.4059894 | 0.1070230 | 0.0001485517 |  0.428855320 | 0.04344779 | 0.0000000 |  0.42562002 | 0.04025690 | 0.0000000 |\n",
       "| Variant 3 | -0.1104953 | 0.1140669 | 0.3327006047 | -0.020721752 | 0.04749904 | 0.6626508 | -0.03398814 | 0.04384920 | 0.4382722 |\n",
       "\n"
      ],
      "text/plain": [
       "  Variant   Beta_Study1 SE_Study1 P_Value_Study1 Beta_Study2  SE_Study2 \n",
       "1 Variant 1  0.1366463  0.1137774 0.2297526563    0.007480303 0.04750693\n",
       "2 Variant 2  0.4059894  0.1070230 0.0001485517    0.428855320 0.04344779\n",
       "3 Variant 3 -0.1104953  0.1140669 0.3327006047   -0.020721752 0.04749904\n",
       "  P_Value_Study2 Combined_Beta Combined_SE Combined_P_Value\n",
       "1 0.8748846       0.02665618   0.04383891  0.5431553       \n",
       "2 0.0000000       0.42562002   0.04025690  0.0000000       \n",
       "3 0.6626508      -0.03398814   0.04384920  0.4382722       "
      ]
     },
     "metadata": {},
     "output_type": "display_data"
    }
   ],
   "source": [
    "# ---- Meta-Analysis (Inverse Variance Weighting) ----\n",
    "\n",
    "# Calculate weights (inverse of variance)\n",
    "w1 <- 1 / (se1^2)  # Weights for Study 1\n",
    "w2 <- 1 / (se2^2)  # Weights for Study 2\n",
    "\n",
    "# Calculate combined effect size using inverse variance weighting\n",
    "combined_betas <- (w1 * betas1 + w2 * betas2) / (w1 + w2)\n",
    "\n",
    "# Calculate variance of the combined effect size\n",
    "combined_variance <- 1 / (w1 + w2)\n",
    "combined_se <- sqrt(combined_variance)\n",
    "\n",
    "# Calculate p-values for each study's effect size\n",
    "p_value_study1 <- 2 * (1 - pnorm(abs(betas1 / se1)))  # P-value for Study 1\n",
    "p_value_study2 <- 2 * (1 - pnorm(abs(betas2 / se2)))  # P-value for Study 2\n",
    "\n",
    "# Calculate p-value for the combined effect size\n",
    "p_value_combined <- 2 * (1 - pnorm(abs(combined_betas / combined_se)))\n",
    "\n",
    "# Combine the results\n",
    "meta_analysis_results <- data.frame(\n",
    "  Variant = colnames(X1),\n",
    "  Beta_Study1 = betas1, SE_Study1 = se1, P_Value_Study1 = p_value_study1,\n",
    "  Beta_Study2 = betas2, SE_Study2 = se2, P_Value_Study2 = p_value_study2,\n",
    "  Combined_Beta = combined_betas, Combined_SE = combined_se,\n",
    "  Combined_P_Value = p_value_combined\n",
    ")\n",
    "\n",
    "print(\"Meta-Analysis Results (Inverse Variance Weighting):\")\n",
    "meta_analysis_results\n"
   ]
  },
  {
   "cell_type": "markdown",
   "id": "96871c93-ff4d-4c2e-9939-32bd8c043f2c",
   "metadata": {
    "tags": []
   },
   "source": [
    "The fixed effect model assumes that the true effect size of each variant is the same across all studies. For example, in Variant 2, the estimated effect sizes from both studies (0.4060 from Study 1 and 0.4289 from Study 2) are very similar, suggesting that the true effect size may be constant across studies. By using a fixed effect model, we can combine these estimates into a single, more precise effect size (0.4256 for Variant 2), taking into account the study precisions through inverse variance weighting.\n",
    "\n",
    "Meta-analysis is essential here because it allows us to combine results from multiple studies, adjusting for differences in sample sizes and precision. Study 2 has more individuals and therefore a more precise estimate of the effect size, so it contributes more to the combined estimate. \n",
    "\n",
    "The meta-analysis ensures that the combined effect size is not only a weighted average of the studies' estimates but also accounts for the variability between studies, offering a more reliable and accurate estimate of the true effect size."
   ]
  },
  {
   "cell_type": "code",
   "execution_count": null,
   "id": "1833fab7-86ed-461a-bdea-539237b58477",
   "metadata": {
    "vscode": {
     "languageId": "r"
    }
   },
   "outputs": [],
   "source": []
  }
 ],
 "metadata": {
  "kernelspec": {
   "display_name": "R",
   "language": "R",
   "name": "ir"
  },
  "language_info": {
   "codemirror_mode": "r",
   "file_extension": ".r",
   "mimetype": "text/x-r-source",
   "name": "R",
   "pygments_lexer": "r",
   "version": "4.3.3"
  }
 },
 "nbformat": 4,
 "nbformat_minor": 5
}
