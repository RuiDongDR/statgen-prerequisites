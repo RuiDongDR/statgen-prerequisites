{
 "cells": [
  {
   "cell_type": "markdown",
   "id": "1e5900b0-da6a-415b-8e69-e7c01cff9327",
   "metadata": {},
   "source": [
    "# Intuition"
   ]
  },
  {
   "cell_type": "markdown",
   "id": "4dcefa29",
   "metadata": {},
   "source": [
    "![figure](./cartoons/4_1.svg)"
   ]
  },
  {
   "cell_type": "markdown",
   "id": "31be40c1-3534-42db-ae8d-07b5886fac15",
   "metadata": {},
   "source": [
    "# Notations"
   ]
  },
  {
   "cell_type": "markdown",
   "id": "d161283e-6c51-42a5-8d11-5e066fc93cb7",
   "metadata": {},
   "source": [
    "> slide 18-20 from Gao Wang's slides"
   ]
  },
  {
   "cell_type": "markdown",
   "id": "3811f68d-93f2-42b4-9521-14e58c35139d",
   "metadata": {},
   "source": [
    "In statistical genetics, **odds** are a way of expressing the likelihood of an event occurring relative to the likelihood of it not occurring. It is commonly used to describe the probability of a genetic outcome or a disease status in genetic association studies, such as **case-control studies**.\n",
    "\n",
    "## Odds\n",
    "\n",
    "The **odds** of an event occurring are calculated as the ratio of the probability of the event happening to the probability of it not happening. Mathematically, this is expressed as:\n",
    "\n",
    "$$\n",
    "\\text{Odds} = \\frac{P(\\text{Event})}{1 - P(\\text{Event})}\n",
    "$$\n",
    "\n",
    "Where:\n",
    "- $P(\\text{Event})$ is the probability of the event occurring.\n",
    "- $1 - P(\\text{Event})$ is the probability of the event **not** occurring.\n",
    "\n",
    "## Odds Ratio (OR)\n",
    "\n",
    "In case-control studies, **odds ratios** (OR) are commonly used to quantify the strength of the association between a genetic variant and a disease or trait. It compares the odds of an event (e.g., disease) occurring in the presence of a particular genotype to the odds of the same event occurring in the absence of that genotype.\n",
    "\n",
    "Mathematically, the odds ratio can be written as:\n",
    "\n",
    "$$\n",
    "OR = \\frac{\\text{Odds of disease in carriers}}{\\text{Odds of disease in non-carriers}}\n",
    "$$\n",
    "\n",
    "For a genotype with two alleles (e.g., $A$ and $a$), the odds ratio compares the odds of disease in individuals with genotype $AA$ or $Aa$ (carriers of the risk allele) to the odds of disease in individuals with genotype $aa$ (non-carriers).\n",
    "\n",
    "### Logistic Regression and Odds Ratio\n",
    "\n",
    "In **logistic regression**, the dependent variable is binary (e.g., presence or absence of a disease), and the model estimates the **log-odds** of the event occurring based on predictor variables (such as genetic variants or other covariates).\n",
    "\n",
    "Mathematically, the logistic regression model is given by:\n",
    "\n",
    "$$\n",
    "\\log\\left(\\frac{P(\\text{Event})}{1 - P(\\text{Event})}\\right) = \\beta_0 + \\beta_1 X_1 + \\beta_2 X_2 + \\dots + \\beta_k X_k\n",
    "$$\n",
    "\n",
    "Where:\n",
    "- $P(\\text{Event})$ is the probability of the event occurring (e.g., having the disease).\n",
    "- $\\frac{P(\\text{Event})}{1 - P(\\text{Event})}$ is the **odds** of the event occurring.\n",
    "- $\\beta_0$ is the intercept.\n",
    "- $\\beta_1, \\beta_2, \\dots, \\beta_k$ are the coefficients corresponding to the predictor variables ($X_1, X_2, \\dots, X_k$).\n",
    "\n",
    "The key point here is that the **exponentiated coefficient** (i.e., $e^{\\beta}$) of a predictor variable in the logistic regression model represents the **odds ratio** for a one-unit change in that predictor variable. \n",
    "\n",
    "For example, if a genetic variant is coded as $X$ (with 1 indicating the presence of the risk allele and 0 indicating its absence), the coefficient $\\beta$ for $X$ gives the log-odds of the disease in individuals with the risk allele relative to those without it. The **odds ratio** associated with this genetic variant is given by:\n",
    "\n",
    "$$\n",
    "OR = e^{\\beta}\n",
    "$$\n",
    "\n",
    "This means that for every one-unit increase in the predictor variable (e.g., presence of the risk allele), the odds of the disease occurring are multiplied by a factor of $e^{\\beta}$.\n",
    "\n",
    "## Conclusion\n",
    "\n",
    "Odds are a key concept in statistical genetics, especially when interpreting the results of genetic association studies. They provide a convenient way to compare the relative likelihood of different outcomes, particularly when dealing with binary traits (e.g., disease vs. no disease). The **odds ratio** is commonly used to assess genetic risk factors and their association with diseases or other traits of interest. In **logistic regression**, the odds ratio is directly related to the regression coefficients and serves as an important measure of association between genetic variants and disease risk.\n"
   ]
  },
  {
   "cell_type": "markdown",
   "id": "58d544ce-922b-4a03-b765-9a1972fd1859",
   "metadata": {},
   "source": [
    "# Example"
   ]
  },
  {
   "cell_type": "code",
   "execution_count": 7,
   "id": "77db5047-6e43-4b9c-8afc-30b087c66a62",
   "metadata": {
    "tags": [],
    "vscode": {
     "languageId": "r"
    }
   },
   "outputs": [
    {
     "data": {
      "text/html": [
       "<table class=\"dataframe\">\n",
       "<caption>A data.frame: 5 × 2</caption>\n",
       "<thead>\n",
       "\t<tr><th scope=col>genotype</th><th scope=col>trait</th></tr>\n",
       "\t<tr><th scope=col>&lt;dbl&gt;</th><th scope=col>&lt;dbl&gt;</th></tr>\n",
       "</thead>\n",
       "<tbody>\n",
       "\t<tr><td>1</td><td>1</td></tr>\n",
       "\t<tr><td>2</td><td>1</td></tr>\n",
       "\t<tr><td>0</td><td>0</td></tr>\n",
       "\t<tr><td>1</td><td>1</td></tr>\n",
       "\t<tr><td>2</td><td>0</td></tr>\n",
       "</tbody>\n",
       "</table>\n"
      ],
      "text/latex": [
       "A data.frame: 5 × 2\n",
       "\\begin{tabular}{ll}\n",
       " genotype & trait\\\\\n",
       " <dbl> & <dbl>\\\\\n",
       "\\hline\n",
       "\t 1 & 1\\\\\n",
       "\t 2 & 1\\\\\n",
       "\t 0 & 0\\\\\n",
       "\t 1 & 1\\\\\n",
       "\t 2 & 0\\\\\n",
       "\\end{tabular}\n"
      ],
      "text/markdown": [
       "\n",
       "A data.frame: 5 × 2\n",
       "\n",
       "| genotype &lt;dbl&gt; | trait &lt;dbl&gt; |\n",
       "|---|---|\n",
       "| 1 | 1 |\n",
       "| 2 | 1 |\n",
       "| 0 | 0 |\n",
       "| 1 | 1 |\n",
       "| 2 | 0 |\n",
       "\n"
      ],
      "text/plain": [
       "  genotype trait\n",
       "1 1        1    \n",
       "2 2        1    \n",
       "3 0        0    \n",
       "4 1        1    \n",
       "5 2        0    "
      ]
     },
     "metadata": {},
     "output_type": "display_data"
    }
   ],
   "source": [
    "rm(list=ls())\n",
    "\n",
    "# Simulate genotype and height values\n",
    "genotype <- c(1, 2, 0,1,2)  # Genotypes: 1, 2, 0 represent the number of minor alleles (homozygous, heterozygous, and homozygous major)\n",
    "trait <- c(1, 1, 0,1,0)     # Trait values: 0 (disease absent) and 1 (disease present) for each individual\n",
    "\n",
    "# Simulate height values for three individuals based on genotypes\n",
    "n = length(genotype)\n",
    "data <- data.frame(genotype = genotype, trait = trait)\n",
    "data\n"
   ]
  },
  {
   "cell_type": "code",
   "execution_count": 8,
   "id": "34cd189d-b3b1-4e6c-bfb6-068aedca8beb",
   "metadata": {
    "tags": [],
    "vscode": {
     "languageId": "r"
    }
   },
   "outputs": [
    {
     "data": {
      "text/plain": [
       "\n",
       "Call:\n",
       "glm(formula = trait ~ genotype, family = \"binomial\", data = data)\n",
       "\n",
       "Coefficients:\n",
       "            Estimate Std. Error z value Pr(>|z|)\n",
       "(Intercept)  -0.3025     1.7188  -0.176    0.860\n",
       "genotype      0.6050     1.2597   0.480    0.631\n",
       "\n",
       "(Dispersion parameter for binomial family taken to be 1)\n",
       "\n",
       "    Null deviance: 6.7301  on 4  degrees of freedom\n",
       "Residual deviance: 6.4907  on 3  degrees of freedom\n",
       "AIC: 10.491\n",
       "\n",
       "Number of Fisher Scoring iterations: 4\n"
      ]
     },
     "metadata": {},
     "output_type": "display_data"
    },
    {
     "data": {
      "text/html": [
       "<strong>genotype:</strong> 1.83117720720709"
      ],
      "text/latex": [
       "\\textbf{genotype:} 1.83117720720709"
      ],
      "text/markdown": [
       "**genotype:** 1.83117720720709"
      ],
      "text/plain": [
       "genotype \n",
       "1.831177 "
      ]
     },
     "metadata": {},
     "output_type": "display_data"
    }
   ],
   "source": [
    "\n",
    "# Fit a logistic regression model\n",
    "logit_model <- glm(trait ~ genotype, data = data, family = \"binomial\")\n",
    "\n",
    "# Summarize the model\n",
    "summary(logit_model)\n",
    "\n",
    "# Calculate the odds ratio (exp(coef)) for the genotype variable\n",
    "odds_ratio <- exp(coef(logit_model)[2])\n",
    "odds_ratio\n"
   ]
  },
  {
   "cell_type": "code",
   "execution_count": null,
   "id": "989b444c-7192-4f74-bf37-c231c24adb6b",
   "metadata": {
    "vscode": {
     "languageId": "r"
    }
   },
   "outputs": [],
   "source": []
  }
 ],
 "metadata": {
  "kernelspec": {
   "display_name": "R",
   "language": "R",
   "name": "ir"
  },
  "language_info": {
   "codemirror_mode": "r",
   "file_extension": ".r",
   "mimetype": "text/x-r-source",
   "name": "R",
   "pygments_lexer": "r",
   "version": "4.4.2"
  },
  "toc-autonumbering": true
 },
 "nbformat": 4,
 "nbformat_minor": 5
}
