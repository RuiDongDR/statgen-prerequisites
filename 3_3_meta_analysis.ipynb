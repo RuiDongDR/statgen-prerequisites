{
 "cells": [
  {
   "cell_type": "markdown",
   "id": "42a0e498-960d-4399-9be1-729b0dcbeb4c",
   "metadata": {},
   "source": [
    "# Intuition\n",
    "\n"
   ]
  },
  {
   "cell_type": "markdown",
   "id": "930c2bcd-b2c3-472e-9289-a9943c365e3d",
   "metadata": {},
   "source": [
    "Meta-analysis \n",
    "\n",
    "**[FIXME!!] should we move this to section 2, to introduce this before FEM and REM? or move 2.2 and 2.3 after this lecture?**"
   ]
  },
  {
   "cell_type": "markdown",
   "id": "8510f898-6e70-401e-8d55-672e4a583235",
   "metadata": {},
   "source": [
    "# Notations"
   ]
  },
  {
   "cell_type": "markdown",
   "id": "693b8806-d0ed-4e69-8691-5a54e22aa8ae",
   "metadata": {},
   "source": [
    "> slide 154-156 from Xin He's slides\n",
    ">\n",
    "> slide 141-145 from Hailiang Huang's slides\n",
    ">"
   ]
  },
  {
   "cell_type": "markdown",
   "id": "99b4a398-db74-4c12-9298-1ab2111fd97c",
   "metadata": {},
   "source": [
    "**Meta-analysis** is a statistical technique used to combine results from multiple independent studies addressing the same research question. By pooling data across studies, it provides a more precise and generalized estimate of the effect, enhancing statistical power, particularly when individual studies have small sample sizes.\n",
    "\n",
    "## Key Points:\n",
    "\n",
    "- **Combining Results**: Aggregates findings from different studies to produce a single summary measure of effect, such as the **odds ratio** ($\\hat{\\theta}$) or **mean difference** ($\\hat{\\mu}$).\n",
    "  \n",
    "- **Effect Size**: Combines **effect sizes** ($\\hat{\\beta}_i$) from each study $i$, often weighted by the inverse of the **variance** ($\\hat{\\sigma}_i^2$) or sample size ($n_i$) of each study. The weighted effect size estimate $\\hat{\\beta}_{\\text{meta}}$ is given by:\n",
    "  \n",
    "  $$\n",
    "  \\hat{\\beta}_{\\text{meta}} = \\frac{\\sum_i w_i \\hat{\\beta}_i}{\\sum_i w_i}, \\quad \\text{where} \\quad w_i = \\frac{1}{\\hat{\\sigma}_i^2}\n",
    "  $$\n",
    "\n",
    "  where $w_i$ represents the weight for each study.\n",
    "\n",
    "- **Heterogeneity**: Assesses the variation between study results, usually measured with **$I^2$** or the **Q-test**. The **$I^2$ statistic** quantifies the proportion of variation across studies that is due to heterogeneity rather than chance:\n",
    "\n",
    "  $$\n",
    "  I^2 = \\frac{Q - (k - 1)}{Q} \\times 100\n",
    "  $$\n",
    "\n",
    "  where $Q$ is the Cochran’s Q statistic, and $k$ is the number of studies.\n",
    "\n",
    "- **Models**:\n",
    "  - **Fixed Effects**: Assumes a single true effect size across all studies. The overall effect size is calculated as the weighted average of the individual study effect sizes.\n",
    "  \n",
    "  - **Random Effects**: Assumes that each study has its own true effect size, with variability in the effect size between studies. The random-effects model incorporates both within-study and between-study variability:\n",
    "\n",
    "    $$\n",
    "    \\hat{\\beta}_{\\text{meta}} = \\frac{\\sum_i w_i^* \\hat{\\beta}_i}{\\sum_i w_i^*}, \\quad w_i^* = \\frac{1}{\\hat{\\sigma}_i^2 + \\tau^2}\n",
    "    $$\n",
    "\n",
    "    where $\\tau^2$ represents the between-study variance.\n",
    "\n",
    "- **Publication Bias**: Considers potential bias due to the non-publication of null findings. Methods such as **funnel plots** and **Egger’s test** can assess this bias. Funnel plots visualize the relationship between study size and effect size, with asymmetry indicating potential publication bias.\n",
    "\n",
    "## Applications:\n",
    "\n",
    "In **GWAS**, meta-analysis combines **summary statistics** ($\\hat{\\beta}_i$, $\\hat{\\text{SE}}_i$) from multiple studies to provide a more robust estimate of genetic associations with traits (e.g., height). This process increases power and reliability when individual studies are underpowered.\n",
    "\n",
    "## Advantages:\n",
    "\n",
    "- **Increased Power**: By combining data, meta-analysis improves the ability to detect true effects, particularly when individual studies have limited sample sizes.\n",
    "  \n",
    "- **Generalizability**: Results from meta-analysis can be generalized across diverse populations and study designs, making them more widely applicable.\n",
    "\n",
    "- **Precision**: Pooling data reduces random error and provides more precise estimates of effect sizes.\n",
    "\n",
    "## Challenges:\n",
    "\n",
    "- **Heterogeneity**: Variations in study designs, populations, or methodologies across studies can lead to heterogeneity, which may introduce bias into the meta-analysis results.\n",
    "  \n",
    "- **Publication Bias**: Exclusion of studies with null results, especially those unpublished, can distort meta-analysis findings.\n"
   ]
  },
  {
   "cell_type": "markdown",
   "id": "9e11df0e-cffb-4f82-88d2-413d8f6cd2e9",
   "metadata": {},
   "source": [
    "# Example"
   ]
  },
  {
   "cell_type": "code",
   "execution_count": 25,
   "id": "ceafc012-aed0-425c-8ad5-f9bb95a1d29d",
   "metadata": {
    "tags": []
   },
   "outputs": [
    {
     "data": {
      "text/html": [
       "<table class=\"dataframe\">\n",
       "<caption>A data.frame: 3 × 11</caption>\n",
       "<thead>\n",
       "\t<tr><th></th><th scope=col>SNP</th><th scope=col>CHR</th><th scope=col>BP</th><th scope=col>A1</th><th scope=col>A2</th><th scope=col>MAF</th><th scope=col>BETA</th><th scope=col>SE</th><th scope=col>Z</th><th scope=col>P_value</th><th scope=col>N</th></tr>\n",
       "\t<tr><th></th><th scope=col>&lt;chr&gt;</th><th scope=col>&lt;dbl&gt;</th><th scope=col>&lt;dbl&gt;</th><th scope=col>&lt;chr&gt;</th><th scope=col>&lt;chr&gt;</th><th scope=col>&lt;dbl&gt;</th><th scope=col>&lt;dbl&gt;</th><th scope=col>&lt;dbl&gt;</th><th scope=col>&lt;dbl&gt;</th><th scope=col>&lt;dbl&gt;</th><th scope=col>&lt;dbl&gt;</th></tr>\n",
       "</thead>\n",
       "<tbody>\n",
       "\t<tr><th scope=row>genotype</th><td>rs12345</td><td>1</td><td>12345678</td><td>A</td><td>G</td><td>0.5</td><td>1.968497</td><td>0.7964070</td><td>2.471723</td><td>0.24474534</td><td>3</td></tr>\n",
       "\t<tr><th scope=row>genotype1</th><td>rs12345</td><td>1</td><td>12345678</td><td>A</td><td>G</td><td>0.4</td><td>1.441272</td><td>0.3646564</td><td>3.952411</td><td>0.02889836</td><td>5</td></tr>\n",
       "\t<tr><th scope=row>genotype2</th><td>rs12345</td><td>1</td><td>12345678</td><td>A</td><td>G</td><td>0.5</td><td>2.387378</td><td>0.4039198</td><td>5.910524</td><td>0.02745191</td><td>4</td></tr>\n",
       "</tbody>\n",
       "</table>\n"
      ],
      "text/latex": [
       "A data.frame: 3 × 11\n",
       "\\begin{tabular}{r|lllllllllll}\n",
       "  & SNP & CHR & BP & A1 & A2 & MAF & BETA & SE & Z & P\\_value & N\\\\\n",
       "  & <chr> & <dbl> & <dbl> & <chr> & <chr> & <dbl> & <dbl> & <dbl> & <dbl> & <dbl> & <dbl>\\\\\n",
       "\\hline\n",
       "\tgenotype & rs12345 & 1 & 12345678 & A & G & 0.5 & 1.968497 & 0.7964070 & 2.471723 & 0.24474534 & 3\\\\\n",
       "\tgenotype1 & rs12345 & 1 & 12345678 & A & G & 0.4 & 1.441272 & 0.3646564 & 3.952411 & 0.02889836 & 5\\\\\n",
       "\tgenotype2 & rs12345 & 1 & 12345678 & A & G & 0.5 & 2.387378 & 0.4039198 & 5.910524 & 0.02745191 & 4\\\\\n",
       "\\end{tabular}\n"
      ],
      "text/markdown": [
       "\n",
       "A data.frame: 3 × 11\n",
       "\n",
       "| <!--/--> | SNP &lt;chr&gt; | CHR &lt;dbl&gt; | BP &lt;dbl&gt; | A1 &lt;chr&gt; | A2 &lt;chr&gt; | MAF &lt;dbl&gt; | BETA &lt;dbl&gt; | SE &lt;dbl&gt; | Z &lt;dbl&gt; | P_value &lt;dbl&gt; | N &lt;dbl&gt; |\n",
       "|---|---|---|---|---|---|---|---|---|---|---|---|\n",
       "| genotype | rs12345 | 1 | 12345678 | A | G | 0.5 | 1.968497 | 0.7964070 | 2.471723 | 0.24474534 | 3 |\n",
       "| genotype1 | rs12345 | 1 | 12345678 | A | G | 0.4 | 1.441272 | 0.3646564 | 3.952411 | 0.02889836 | 5 |\n",
       "| genotype2 | rs12345 | 1 | 12345678 | A | G | 0.5 | 2.387378 | 0.4039198 | 5.910524 | 0.02745191 | 4 |\n",
       "\n"
      ],
      "text/plain": [
       "          SNP     CHR BP       A1 A2 MAF BETA     SE        Z        P_value   \n",
       "genotype  rs12345 1   12345678 A  G  0.5 1.968497 0.7964070 2.471723 0.24474534\n",
       "genotype1 rs12345 1   12345678 A  G  0.4 1.441272 0.3646564 3.952411 0.02889836\n",
       "genotype2 rs12345 1   12345678 A  G  0.5 2.387378 0.4039198 5.910524 0.02745191\n",
       "          N\n",
       "genotype  3\n",
       "genotype1 5\n",
       "genotype2 4"
      ]
     },
     "metadata": {},
     "output_type": "display_data"
    }
   ],
   "source": [
    "rm(list=ls())\n",
    "set.seed(3)\n",
    "\n",
    "# Simulate true mean and effect size\n",
    "baseline <- 170  # Population mean of the trait (e.g., height in cm) when the genetic variant has no effect (Model 1)\n",
    "theta_true <- 2  # True effect size of the genetic variant. This represents the change in height (in cm) associated with each additional minor allele (Model 2)\n",
    "sd_y <- 1  # Standard deviation of the trait (e.g., variability in height measurement within the population)\n",
    "\n",
    "# Function to simulate data and generate summary statistics\n",
    "simulate_data <- function(n, theta_true) {\n",
    "  genotype <- sample(c(0, 1, 2), size = n, replace = TRUE)  # Randomly assign genotypes (0, 1, 2)\n",
    "  height_values <- rnorm(n, mean = baseline + theta_true * genotype, sd = sd_y)\n",
    "  lm_model <- lm(height_values ~ genotype)  # Fit linear model\n",
    "  # Generate summary statistics\n",
    "  summary_stats <- data.frame(\n",
    "    SNP = \"rs12345\",        # Example SNP identifier\n",
    "    CHR = 1,                # Example chromosome\n",
    "    BP = 12345678,          # Example base pair position\n",
    "    A1 = \"A\",               # Effect allele (minor allele)\n",
    "    A2 = \"G\",               # Other allele (major allele)\n",
    "    MAF = pmin(mean(genotype) / 2, 1 - mean(genotype) / 2), # Minor allele frequency\n",
    "    BETA = coef(lm_model)[2],  # Effect size estimate (slope of genotype in the regression model)\n",
    "    SE = summary(lm_model)$coefficients[2, 2],  # Standard error of BETA\n",
    "    Z = coef(lm_model)[2] / summary(lm_model)$coefficients[2, 2],  # Z-score\n",
    "    P_value = summary(lm_model)$coefficients[2, 4],  # P-value for BETA\n",
    "    N = n                   # Sample size\n",
    "  )\n",
    "  return(summary_stats)\n",
    "}\n",
    "\n",
    "# Simulate data for three different studies with varying sample sizes\n",
    "study1_stats <- simulate_data(n = 3, theta_true = 2)\n",
    "study2_stats <- simulate_data(n = 5, theta_true = 1.8)\n",
    "study3_stats <- simulate_data(n = 4, theta_true = 2.2)\n",
    "# Combine summary statistics from the three studies into one dataframe\n",
    "combined_stats <- rbind(study1_stats, study2_stats, study3_stats)\n",
    "combined_stats"
   ]
  },
  {
   "cell_type": "code",
   "execution_count": 26,
   "id": "e4bf97d3-fc01-44f6-a081-971ec75a859f",
   "metadata": {
    "tags": []
   },
   "outputs": [
    {
     "data": {
      "text/html": [
       "<table class=\"dataframe\">\n",
       "<caption>A data.frame: 1 × 4</caption>\n",
       "<thead>\n",
       "\t<tr><th scope=col>Meta_BETA</th><th scope=col>Meta_SE</th><th scope=col>Meta_Z</th><th scope=col>Meta_P_value</th></tr>\n",
       "\t<tr><th scope=col>&lt;dbl&gt;</th><th scope=col>&lt;dbl&gt;</th><th scope=col>&lt;dbl&gt;</th><th scope=col>&lt;dbl&gt;</th></tr>\n",
       "</thead>\n",
       "<tbody>\n",
       "\t<tr><td>1.876719</td><td>0.2562741</td><td>7.323093</td><td>2.422507e-13</td></tr>\n",
       "</tbody>\n",
       "</table>\n"
      ],
      "text/latex": [
       "A data.frame: 1 × 4\n",
       "\\begin{tabular}{llll}\n",
       " Meta\\_BETA & Meta\\_SE & Meta\\_Z & Meta\\_P\\_value\\\\\n",
       " <dbl> & <dbl> & <dbl> & <dbl>\\\\\n",
       "\\hline\n",
       "\t 1.876719 & 0.2562741 & 7.323093 & 2.422507e-13\\\\\n",
       "\\end{tabular}\n"
      ],
      "text/markdown": [
       "\n",
       "A data.frame: 1 × 4\n",
       "\n",
       "| Meta_BETA &lt;dbl&gt; | Meta_SE &lt;dbl&gt; | Meta_Z &lt;dbl&gt; | Meta_P_value &lt;dbl&gt; |\n",
       "|---|---|---|---|\n",
       "| 1.876719 | 0.2562741 | 7.323093 | 2.422507e-13 |\n",
       "\n"
      ],
      "text/plain": [
       "  Meta_BETA Meta_SE   Meta_Z   Meta_P_value\n",
       "1 1.876719  0.2562741 7.323093 2.422507e-13"
      ]
     },
     "metadata": {},
     "output_type": "display_data"
    }
   ],
   "source": [
    "# Perform Meta-Analysis: Random Effects Model\n",
    "# Weight based on the inverse of the standard error squared\n",
    "combined_stats$weight <- 1 / (combined_stats$SE^2)\n",
    "\n",
    "# Meta-analysis estimate of effect size (BETA) using random effects model\n",
    "meta_BETA <- sum(combined_stats$weight * combined_stats$BETA) / sum(combined_stats$weight)\n",
    "\n",
    "# Standard error for the meta-analysis effect size\n",
    "meta_SE <- sqrt(1 / sum(combined_stats$weight))\n",
    "\n",
    "# Z-score for the meta-analysis\n",
    "meta_Z <- meta_BETA / meta_SE\n",
    "\n",
    "# P-value for the meta-analysis using Z-score\n",
    "meta_P_value <- 2 * (1 - pnorm(abs(meta_Z)))\n",
    "\n",
    "# Meta-analysis summary\n",
    "meta_summary <- data.frame(\n",
    "  Meta_BETA = meta_BETA,\n",
    "  Meta_SE = meta_SE,\n",
    "  Meta_Z = meta_Z,\n",
    "  Meta_P_value = meta_P_value\n",
    ")\n",
    "\n",
    "meta_summary\n"
   ]
  },
  {
   "cell_type": "code",
   "execution_count": null,
   "id": "43ee8459-f603-4de8-8918-595d42a4477f",
   "metadata": {},
   "outputs": [],
   "source": []
  }
 ],
 "metadata": {
  "kernelspec": {
   "display_name": "R",
   "language": "R",
   "name": "ir"
  },
  "language_info": {
   "codemirror_mode": "r",
   "file_extension": ".r",
   "mimetype": "text/x-r-source",
   "name": "R",
   "pygments_lexer": "r",
   "version": "4.4.2"
  }
 },
 "nbformat": 4,
 "nbformat_minor": 5
}
