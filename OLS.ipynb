{
 "cells": [
  {
   "cell_type": "markdown",
   "id": "20314b6e-ad4d-4626-975f-e5eaf3d0fff5",
   "metadata": {},
   "source": [
    "# Intuition\n",
    "\n",
    "Single marker linear regression in statistical genetics\n"
   ]
  },
  {
   "cell_type": "markdown",
   "id": "e6d22e9f",
   "metadata": {},
   "source": [
    "![figure](./cartoons/2_1.svg)"
   ]
  },
  {
   "cell_type": "markdown",
   "id": "7f948227-87ab-4b22-b83f-315ca5c10d24",
   "metadata": {},
   "source": [
    "# Notations"
   ]
  },
  {
   "cell_type": "markdown",
   "id": "dd26c29a-1533-41e6-a92e-9866f110dd16",
   "metadata": {},
   "source": [
    "## Single variant (Uni-variant regression model)\n",
    "\n",
    "In the single marker linear regression, e.g., genetic variant $X_{\\cdot,j}$, we can express the relationship in matrix form:\n",
    "\n",
    "$$\n",
    "\\mathbf{y} = \\mathbf{X}_{j} \\beta  + \\boldsymbol{\\epsilon}, \\quad \\boldsymbol{\\epsilon} \\sim N(0, \\sigma^2)\n",
    "$$\n",
    "\n",
    "Where:\n",
    "- $\\mathbf{y}$ is the $N \\times 1$ vector of trait values for $N$ individuals (scaled)\n",
    "- $X_{j}$ is the $N \\times 1$ vector of genotypes for variant $j$ across all individuals\n",
    "- $\\beta$ is the effect size of the genetic variant $j$\n",
    "- $\\boldsymbol{\\epsilon}$ is the $N \\times 1$ vector of error terms for $N$ individuals\n",
    "\n",
    "For individual $i$, this model can be written as:\n",
    "\n",
    "$$\n",
    "y_i =  \\beta \\mathbf{X}_{i,j} + \\epsilon_i, \\quad \\epsilon_i \\sim N(0, \\sigma^2)\n",
    "$$\n",
    "\n",
    "## Multiple variants (multiple variants regression model)\n",
    "\n",
    "In the multiple marker linear regression, we can express the relationship in matrix form in a similar way:\n",
    "\n",
    "$$\n",
    "\\mathbf{Y} = \\mathbf{X} \\boldsymbol{\\beta}  + \\boldsymbol{\\epsilon}, \\quad \\boldsymbol{\\epsilon} \\sim N(0, \\sigma^2\\mathbf{I})\n",
    "$$\n",
    "\n",
    "Where:\n",
    "- $\\mathbf{Y}$ is the $N \\times 1$ vector of trait values for $N$ individuals\n",
    "- $\\mathbf{X}$ is the $N \\times M$ vector of genotypes for $M$ variants across $N$ individuals\n",
    "- $\\boldsymbol{\\beta}$ is the $M \\times 1$ vector of effect size for $M$ genetic variants\n",
    "- $\\boldsymbol{\\epsilon}$ is the $N \\times 1$ vector of error terms for $N$ individuals\n",
    "\n",
    "\n",
    "## Ordinary Least Squares (OLS)\n",
    "\n",
    "Using Ordinary Least Squares (OLS), we can derive the estimators for $\\boldsymbol{\\beta}$ in matrix form:\n",
    "\n",
    "$$\n",
    "\\hat{\\boldsymbol{\\beta}}_{\\text{OLS}} = (\\mathbf{X}^T\\mathbf{X})^{-1}\\mathbf{X}^T\\mathbf{Y}\n",
    "$$\n",
    "\n",
    "## GWAS\n",
    "\n",
    "In genome-wide association study (GWAS), there are millions (or even billions) of genetic variants, i.e., $M >> N$. In such case, it becomes impossible to apply this model, because $\\mathbf{X}^T\\mathbf{X}$ will become singular. Therefore, GWAS tests each SNP independently using a **univariate regression model**, ensuring statistical simplicity and easier interpretation by avoiding complex interactions. Given that millions of SNPs are analyzed, modeling them jointly would introduce too many parameters, leading to overfitting. Independent testing also enables the application of multiple testing correction methods, such as Bonferroni or FDR, to control false positives.\n"
   ]
  },
  {
   "cell_type": "markdown",
   "id": "77e62ddc-97ea-4d33-a752-e5920c7c4012",
   "metadata": {},
   "source": [
    "# Example"
   ]
  },
  {
   "cell_type": "code",
   "execution_count": 1,
   "id": "51339765-84c9-4c9a-8482-76d6e521cc4f",
   "metadata": {
    "tags": [],
    "vscode": {
     "languageId": "r"
    }
   },
   "outputs": [
    {
     "data": {
      "text/html": [
       "<table class=\"dataframe\">\n",
       "<caption>A matrix: 3 x 3 of type int</caption>\n",
       "<thead>\n",
       "\t<tr><th></th><th scope=col>Variant 1</th><th scope=col>Variant 2</th><th scope=col>Variant 3</th></tr>\n",
       "</thead>\n",
       "<tbody>\n",
       "\t<tr><th scope=row>Individual 1</th><td>2</td><td>0</td><td>1</td></tr>\n",
       "\t<tr><th scope=row>Individual 2</th><td>0</td><td>2</td><td>1</td></tr>\n",
       "\t<tr><th scope=row>Individual 3</th><td>2</td><td>1</td><td>0</td></tr>\n",
       "</tbody>\n",
       "</table>\n"
      ],
      "text/latex": [
       "A matrix: 3 x 3 of type int\n",
       "\\begin{tabular}{r|lll}\n",
       "  & Variant 1 & Variant 2 & Variant 3\\\\\n",
       "\\hline\n",
       "\tIndividual 1 & 2 & 0 & 1\\\\\n",
       "\tIndividual 2 & 0 & 2 & 1\\\\\n",
       "\tIndividual 3 & 2 & 1 & 0\\\\\n",
       "\\end{tabular}\n"
      ],
      "text/markdown": [
       "\n",
       "A matrix: 3 x 3 of type int\n",
       "\n",
       "| <!--/--> | Variant 1 | Variant 2 | Variant 3 |\n",
       "|---|---|---|---|\n",
       "| Individual 1 | 2 | 0 | 1 |\n",
       "| Individual 2 | 0 | 2 | 1 |\n",
       "| Individual 3 | 2 | 1 | 0 |\n",
       "\n"
      ],
      "text/plain": [
       "             Variant 1 Variant 2 Variant 3\n",
       "Individual 1 2         0         1        \n",
       "Individual 2 0         2         1        \n",
       "Individual 3 2         1         0        "
      ]
     },
     "metadata": {},
     "output_type": "display_data"
    }
   ],
   "source": [
    "rm(list=ls())\n",
    "set.seed(21)  # For reproducibility\n",
    "# Genotype matrix for 100 individuals and 3 variants\n",
    "N <- 100  # Number of individuals\n",
    "M <- 3    # Number of SNPs (variants)\n",
    "\n",
    "# Create a random genotype matrix (0, 1, 2 values for each SNP)\n",
    "X_raw <- matrix(sample(0:2, N * M, replace = TRUE), nrow = N, ncol = M)\n",
    "\n",
    "# Adding row and column names\n",
    "rownames(X_raw) <- paste(\"Individual\", 1:N)\n",
    "colnames(X_raw) <- paste(\"Variant\", 1:M)\n",
    "head(X_raw,3)"
   ]
  },
  {
   "cell_type": "code",
   "execution_count": 2,
   "id": "638452ec-e4b1-4f3c-b8ff-2d041d0dfe07",
   "metadata": {
    "tags": [],
    "vscode": {
     "languageId": "r"
    }
   },
   "outputs": [
    {
     "data": {
      "text/html": [
       "<table class=\"dataframe\">\n",
       "<caption>A matrix: 6 x 3 of type dbl</caption>\n",
       "<thead>\n",
       "\t<tr><th></th><th scope=col>Variant 1</th><th scope=col>Variant 2</th><th scope=col>Variant 3</th></tr>\n",
       "</thead>\n",
       "<tbody>\n",
       "\t<tr><th scope=row>Individual 1</th><td> 1.3718249</td><td>-1.4400798</td><td> 0.06089224</td></tr>\n",
       "\t<tr><th scope=row>Individual 2</th><td>-1.1685916</td><td> 1.0863760</td><td> 0.06089224</td></tr>\n",
       "\t<tr><th scope=row>Individual 3</th><td> 1.3718249</td><td>-0.1768519</td><td>-1.15695260</td></tr>\n",
       "\t<tr><th scope=row>Individual 4</th><td>-1.1685916</td><td> 1.0863760</td><td>-1.15695260</td></tr>\n",
       "\t<tr><th scope=row>Individual 5</th><td> 0.1016167</td><td>-0.1768519</td><td>-1.15695260</td></tr>\n",
       "\t<tr><th scope=row>Individual 6</th><td> 1.3718249</td><td> 1.0863760</td><td>-1.15695260</td></tr>\n",
       "</tbody>\n",
       "</table>\n"
      ],
      "text/latex": [
       "A matrix: 6 x 3 of type dbl\n",
       "\\begin{tabular}{r|lll}\n",
       "  & Variant 1 & Variant 2 & Variant 3\\\\\n",
       "\\hline\n",
       "\tIndividual 1 &  1.3718249 & -1.4400798 &  0.06089224\\\\\n",
       "\tIndividual 2 & -1.1685916 &  1.0863760 &  0.06089224\\\\\n",
       "\tIndividual 3 &  1.3718249 & -0.1768519 & -1.15695260\\\\\n",
       "\tIndividual 4 & -1.1685916 &  1.0863760 & -1.15695260\\\\\n",
       "\tIndividual 5 &  0.1016167 & -0.1768519 & -1.15695260\\\\\n",
       "\tIndividual 6 &  1.3718249 &  1.0863760 & -1.15695260\\\\\n",
       "\\end{tabular}\n"
      ],
      "text/markdown": [
       "\n",
       "A matrix: 6 x 3 of type dbl\n",
       "\n",
       "| <!--/--> | Variant 1 | Variant 2 | Variant 3 |\n",
       "|---|---|---|---|\n",
       "| Individual 1 |  1.3718249 | -1.4400798 |  0.06089224 |\n",
       "| Individual 2 | -1.1685916 |  1.0863760 |  0.06089224 |\n",
       "| Individual 3 |  1.3718249 | -0.1768519 | -1.15695260 |\n",
       "| Individual 4 | -1.1685916 |  1.0863760 | -1.15695260 |\n",
       "| Individual 5 |  0.1016167 | -0.1768519 | -1.15695260 |\n",
       "| Individual 6 |  1.3718249 |  1.0863760 | -1.15695260 |\n",
       "\n"
      ],
      "text/plain": [
       "             Variant 1  Variant 2  Variant 3  \n",
       "Individual 1  1.3718249 -1.4400798  0.06089224\n",
       "Individual 2 -1.1685916  1.0863760  0.06089224\n",
       "Individual 3  1.3718249 -0.1768519 -1.15695260\n",
       "Individual 4 -1.1685916  1.0863760 -1.15695260\n",
       "Individual 5  0.1016167 -0.1768519 -1.15695260\n",
       "Individual 6  1.3718249  1.0863760 -1.15695260"
      ]
     },
     "metadata": {},
     "output_type": "display_data"
    }
   ],
   "source": [
    "# standardize genotype matrix\n",
    "X = scale(X_raw, scale=TRUE)\n",
    "head(X)"
   ]
  },
  {
   "cell_type": "code",
   "execution_count": 3,
   "id": "5b6528a6-af1b-4120-b054-f2cf539410c0",
   "metadata": {
    "tags": [],
    "vscode": {
     "languageId": "r"
    }
   },
   "outputs": [
    {
     "name": "stdout",
     "output_type": "stream",
     "text": [
      "[1] \"Standardized Response Vector y:\"\n"
     ]
    },
    {
     "data": {
      "text/html": [
       "<style>\n",
       ".list-inline {list-style: none; margin:0; padding: 0}\n",
       ".list-inline>li {display: inline-block}\n",
       ".list-inline>li:not(:last-child)::after {content: \"\\00b7\"; padding: 0 .5ex}\n",
       "</style>\n",
       "<ol class=list-inline><li>0.624828760268192</li><li>-0.680293977839689</li><li>-1.14218902475393</li><li>0.452426023028696</li><li>1.38643937880179</li><li>-0.985118082047779</li><li>0.443208469763459</li><li>-1.51117828721689</li><li>-0.00165933349343227</li><li>-1.26592683725722</li></ol>\n"
      ],
      "text/latex": [
       "\\begin{enumerate*}\n",
       "\\item 0.624828760268192\n",
       "\\item -0.680293977839689\n",
       "\\item -1.14218902475393\n",
       "\\item 0.452426023028696\n",
       "\\item 1.38643937880179\n",
       "\\item -0.985118082047779\n",
       "\\item 0.443208469763459\n",
       "\\item -1.51117828721689\n",
       "\\item -0.00165933349343227\n",
       "\\item -1.26592683725722\n",
       "\\end{enumerate*}\n"
      ],
      "text/markdown": [
       "1. 0.624828760268192\n",
       "2. -0.680293977839689\n",
       "3. -1.14218902475393\n",
       "4. 0.452426023028696\n",
       "5. 1.38643937880179\n",
       "6. -0.985118082047779\n",
       "7. 0.443208469763459\n",
       "8. -1.51117828721689\n",
       "9. -0.00165933349343227\n",
       "10. -1.26592683725722\n",
       "\n",
       "\n"
      ],
      "text/plain": [
       " [1]  0.624828760 -0.680293978 -1.142189025  0.452426023  1.386439379\n",
       " [6] -0.985118082  0.443208470 -1.511178287 -0.001659333 -1.265926837"
      ]
     },
     "metadata": {},
     "output_type": "display_data"
    }
   ],
   "source": [
    "y <- rnorm(N, mean = 0, sd = 1)\n",
    "print(\"Standardized Response Vector y:\")\n",
    "y[1:10]"
   ]
  },
  {
   "cell_type": "code",
   "execution_count": 4,
   "id": "428cc4d2-d35c-4cb1-9007-fc81daba8236",
   "metadata": {
    "tags": [],
    "vscode": {
     "languageId": "r"
    }
   },
   "outputs": [],
   "source": [
    "# Perform GWAS-style analysis: Test each SNP independently using OLS\n",
    "p_values <- numeric(M)  # Store p-values\n",
    "betas <- numeric(M)     # Store estimated effect sizes\n",
    "\n",
    "for (j in 1:M) {\n",
    "  SNP <- X[, j]  # Extract genotype for SNP j\n",
    "  model <- lm(y ~ SNP)  # OLS regression: Trait ~ SNP\n",
    "  summary_model <- summary(model)\n",
    "  \n",
    "  # Store p-value and effect size (coefficient)\n",
    "  p_values[j] <- summary_model$coefficients[2, 4]  # p-value for SNP effect\n",
    "  betas[j] <- summary_model$coefficients[2, 1]     # Estimated beta coefficient\n",
    "}\n"
   ]
  },
  {
   "cell_type": "code",
   "execution_count": 5,
   "id": "79fd6cc1-1c60-42b4-afa9-84a0d6a419f9",
   "metadata": {
    "tags": [],
    "vscode": {
     "languageId": "r"
    }
   },
   "outputs": [
    {
     "name": "stdout",
     "output_type": "stream",
     "text": [
      "[1] \"GWAS Results:\"\n",
      "    Variant        Beta   P_Value\n",
      "1 Variant 1 -0.10376445 0.2865036\n",
      "2 Variant 2  0.10904197 0.2625546\n",
      "3 Variant 3 -0.07918321 0.4165944\n"
     ]
    }
   ],
   "source": [
    "# Create results table\n",
    "gwas_results <- data.frame(Variant = colnames(X), Beta = betas, P_Value = p_values)\n",
    "print(\"GWAS Results:\")\n",
    "print(gwas_results)"
   ]
  },
  {
   "cell_type": "code",
   "execution_count": 6,
   "id": "e4432fdf-e505-4f93-93db-810d06ba704e",
   "metadata": {
    "tags": [],
    "vscode": {
     "languageId": "r"
    }
   },
   "outputs": [
    {
     "name": "stdout",
     "output_type": "stream",
     "text": [
      "[1] \"OLS Solution (SNP effects without intercept):\"\n",
      "                 [,1]\n",
      "Variant 1 -0.08316727\n",
      "Variant 2  0.11533546\n",
      "Variant 3 -0.08539224\n"
     ]
    }
   ],
   "source": [
    "# OLS solution: Compute estimated SNP effects using matrix algebra (no intercept)\n",
    "beta_hat_OLS <- solve(t(X) %*% X) %*% t(X) %*% y  # OLS formula without intercept\n",
    "print(\"OLS Solution (SNP effects without intercept):\")\n",
    "print(beta_hat_OLS)\n"
   ]
  },
  {
   "cell_type": "code",
   "execution_count": null,
   "id": "bd61b196-11df-4f92-adc4-375509bdb768",
   "metadata": {
    "vscode": {
     "languageId": "r"
    }
   },
   "outputs": [],
   "source": []
  },
  {
   "cell_type": "code",
   "execution_count": null,
   "id": "d75979ef",
   "metadata": {
    "vscode": {
     "languageId": "r"
    }
   },
   "outputs": [],
   "source": []
  }
 ],
 "metadata": {
  "kernelspec": {
   "display_name": "R",
   "language": "R",
   "name": "ir"
  },
  "language_info": {
   "codemirror_mode": "r",
   "file_extension": ".r",
   "mimetype": "text/x-r-source",
   "name": "R",
   "pygments_lexer": "r",
   "version": "4.3.3"
  },
  "toc-autonumbering": true
 },
 "nbformat": 4,
 "nbformat_minor": 5
}
