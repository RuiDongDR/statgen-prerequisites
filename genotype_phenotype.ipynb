{
 "cells": [
  {
   "cell_type": "markdown",
   "id": "a57f18c6-62b2-4303-9dbb-5fca8a6e19fc",
   "metadata": {},
   "source": [
    "# Intuition"
   ]
  },
  {
   "cell_type": "markdown",
   "id": "cd437686",
   "metadata": {},
   "source": [
    "![figure_1](./cartoons/1_1.svg)"
   ]
  },
  {
   "cell_type": "markdown",
   "id": "9b00f698-d22d-457a-9180-0582f474f284",
   "metadata": {
    "tags": []
   },
   "source": [
    "![figure](https://www.frontiersin.org/files/Articles/127738/fbioe-03-00013-HTML-r1/image_m/fbioe-03-00013-g001.jpg)\n",
    "> Figure 1. Common genetic variations. Variations at the (A) nucleotide level and (B) structural level. (C) Single nucleotide polymorphism A/T across a population.\n",
    "> \n",
    "> Cardoso JGR, Andersen MR, Herrgård MJ and Sonnenschein N (2015) Analysis of genetic variation and potential applications in genome-scale metabolic modeling. Front. Bioeng. Biotechnol. 3:13. doi: 10.3389/fbioe.2015.00013"
   ]
  },
  {
   "cell_type": "markdown",
   "id": "c368a384-d362-42cb-9223-fc13269d0e05",
   "metadata": {},
   "source": [
    "# Notations"
   ]
  },
  {
   "cell_type": "markdown",
   "id": "593f5c78-946f-45a9-a979-ec0b4cfcfe8e",
   "metadata": {},
   "source": [
    "## Genotype\n",
    "\n",
    "### Raw genotype matrix $\\mathbf{X}_\\text{raw}$\n",
    "\n",
    "In the lectures, we use $\\mathbf{X}_\\text{raw}$ to denote a $N$ by $M$ genotype matrix, and for people who is dipolid,  $x_{i,j} \\in \\{0,1,2\\}$ represents the genotype of individual $i=1,...,N$ at variant $j=1,...,M$ (assuming single allelic).\n",
    "\n",
    "Assume that the genotype matrix is denoted as a $N$ by $M$ matrix, $\\mathbf{X}_\\text{raw}$, where\n",
    "\n",
    "\\begin{equation*}\n",
    "\\mathbf{X}_\\text{raw} =\n",
    "\\begin{bmatrix}\n",
    "x_{11} & x_{12} & \\cdots & x_{1M} \\\\\n",
    "x_{21} & x_{22} & \\cdots & x_{2M} \\\\\n",
    "\\vdots & \\vdots & \\ddots & \\vdots \\\\\n",
    "x_{N1} & x_{N2} & \\cdots & x_{NM}\n",
    "\\end{bmatrix}\n",
    "\\end{equation*}\n",
    "\n",
    "- Rows ($i = 1, \\dots, N$) correspond to individuals.\n",
    "- Columns ($j = 1, \\dots, M$) correspond to variants.\n",
    "- Each entry $x_{ij}$ represents the genotype of individual $i$ for variant $j$, where:\n",
    "  - $0$: Homozygous for the reference allele.\n",
    "  - $1$: Heterozygous.\n",
    "  - $2$: Homozygous for the alternative allele.\n",
    "\n",
    "### Standardized genotype matrix $\\mathbf{X}$\n",
    "\n",
    "We often standarize the genotype matrix $\\mathbf{X}_\\text{raw}$ so that each SNP is mean-centered and the variance is 1. Working with mean-centered genotypes and phenotypes makes life a lot easier, but it means we don’t have to estimate intercept terms."
   ]
  },
  {
   "cell_type": "markdown",
   "id": "0deb3e52-a999-4203-83ab-40123d93fe87",
   "metadata": {},
   "source": [
    "## MAF\n",
    "\n",
    "The **minor allele frequency (MAF)** is a fundamental concept in statistical genetics that quantifies the frequency of the less common allele at a given genetic locus in a population.  \n",
    "\n",
    "Given a genotype matrix $\\mathbf{X}_\\text{raw},$ as above, the **allele frequency** for variant $j$ is given by the expectation of $\\mathbf{X}_{\\text{raw},\\cdot,j}$ divided by $2$, accounting for human diploidy:  \n",
    "\n",
    "$$\n",
    "f_j = \\frac{\\mathbb{E}[X_{\\text{raw},\\cdot,j}]}{2} = \\frac{1}{2N} \\sum_{i=1}^{N} X_{\\text{raw},ij}\n",
    "$$\n",
    "\n",
    "where $N$ is the total number of individuals.  \n",
    "\n",
    "The **minor allele frequency (MAF)** is defined as:  \n",
    "\n",
    "$$\n",
    "\\min(f_j, 1 - f_j)\n",
    "$$\n",
    "\n",
    "ensuring that it always represents the frequency of the **less** common allele in the population.\n"
   ]
  },
  {
   "cell_type": "markdown",
   "id": "8b6e2d66-4077-46cf-a2d0-34e4cddd97e0",
   "metadata": {},
   "source": [
    "## Hardy-Weinberg Equilibrium (HWE)\n",
    "\n",
    "**Hardy-Weinberg equilibrium (HWE)** is a principle in population genetics that describes the relationship between allele frequencies and genotype frequencies in a non-evolving population. Under HWE, allele and genotype frequencies in a population remain constant from generation to generation, assuming there is no selection, mutation, migration, genetic drift, or non-random mating.\n",
    "\n",
    "For a biallelic locus with alleles $A$ (major allele) and $a$ (minor allele), and we observe that the frequencies of them are $f_A$ and $f_a$.\n",
    "\n",
    "Normally one would expect that HWE holds, i.e., \n",
    "\n",
    "$$\n",
    "P(AA) = f_A^2\n",
    "$$\n",
    "$$\n",
    "P(Aa) = 2f_Af_a\n",
    "$$\n",
    "$$\n",
    "P(aa) = f_a^2\n",
    "$$\n",
    "\n",
    "These frequencies must satisfy the equation:\n",
    "\n",
    "$$\n",
    "f_A^2 + 2f_A f_a + f_a^2 = 1\n",
    "$$\n",
    "\n",
    "In the absence of selection, mutation, genetic drift, or other forces, allele frequencies $f_A$ and $f_a$ are constant between generations, so equilibrium is reached.\n",
    "\n",
    "**An example of when HWE may not hold**\n",
    "\n",
    "Selection: If natural or artificial selection is acting on the population, certain genotypes may have a higher or lower fitness, which alters the allele frequencies over time. For example, individuals with the homozygous dominant genotype may have higher survival rates, leading to an increase in the major allele frequency."
   ]
  },
  {
   "cell_type": "markdown",
   "id": "f9c943b0-2af5-4e77-bdb0-2d7c2d0a82b3",
   "metadata": {},
   "source": [
    "# Example"
   ]
  },
  {
   "cell_type": "markdown",
   "id": "b0616fd6-c6f5-4197-96af-0c22ad8e69ee",
   "metadata": {},
   "source": [
    "## Genotype and scaled genotype"
   ]
  },
  {
   "cell_type": "code",
   "execution_count": 1,
   "id": "844883c1-50d4-4b8a-807e-404299063852",
   "metadata": {
    "tags": [],
    "vscode": {
     "languageId": "r"
    }
   },
   "outputs": [
    {
     "data": {
      "text/html": [
       "<table class=\"dataframe\">\n",
       "<caption>A matrix: 5 x 3 of type dbl</caption>\n",
       "<thead>\n",
       "\t<tr><th></th><th scope=col>Variant 1</th><th scope=col>Variant 2</th><th scope=col>Variant 3</th></tr>\n",
       "</thead>\n",
       "<tbody>\n",
       "\t<tr><th scope=row>Individual 1</th><td>0</td><td>1</td><td>1</td></tr>\n",
       "\t<tr><th scope=row>Individual 2</th><td>2</td><td>2</td><td>0</td></tr>\n",
       "\t<tr><th scope=row>Individual 3</th><td>1</td><td>1</td><td>1</td></tr>\n",
       "\t<tr><th scope=row>Individual 4</th><td>0</td><td>2</td><td>1</td></tr>\n",
       "\t<tr><th scope=row>Individual 5</th><td>0</td><td>0</td><td>2</td></tr>\n",
       "</tbody>\n",
       "</table>\n"
      ],
      "text/latex": [
       "A matrix: 5 x 3 of type dbl\n",
       "\\begin{tabular}{r|lll}\n",
       "  & Variant 1 & Variant 2 & Variant 3\\\\\n",
       "\\hline\n",
       "\tIndividual 1 & 0 & 1 & 1\\\\\n",
       "\tIndividual 2 & 2 & 2 & 0\\\\\n",
       "\tIndividual 3 & 1 & 1 & 1\\\\\n",
       "\tIndividual 4 & 0 & 2 & 1\\\\\n",
       "\tIndividual 5 & 0 & 0 & 2\\\\\n",
       "\\end{tabular}\n"
      ],
      "text/markdown": [
       "\n",
       "A matrix: 5 x 3 of type dbl\n",
       "\n",
       "| <!--/--> | Variant 1 | Variant 2 | Variant 3 |\n",
       "|---|---|---|---|\n",
       "| Individual 1 | 0 | 1 | 1 |\n",
       "| Individual 2 | 2 | 2 | 0 |\n",
       "| Individual 3 | 1 | 1 | 1 |\n",
       "| Individual 4 | 0 | 2 | 1 |\n",
       "| Individual 5 | 0 | 0 | 2 |\n",
       "\n"
      ],
      "text/plain": [
       "             Variant 1 Variant 2 Variant 3\n",
       "Individual 1 0         1         1        \n",
       "Individual 2 2         2         0        \n",
       "Individual 3 1         1         1        \n",
       "Individual 4 0         2         1        \n",
       "Individual 5 0         0         2        "
      ]
     },
     "metadata": {},
     "output_type": "display_data"
    }
   ],
   "source": [
    "rm(list=ls())\n",
    "# Genotype matrix for 5 individuals and 2 variants\n",
    "# Rows correspond to individuals, columns to variants\n",
    "N=5\n",
    "M=3\n",
    "X_raw <- matrix(c(0, 1, 1, 2, 2, 0, 1, 1, 1, 0, 2, 1, 0, 0, 2), \n",
    "                    nrow = N, ncol = M, byrow = TRUE)\n",
    "# Adding row and column names\n",
    "rownames(X_raw) <- paste(\"Individual\", 1:N)\n",
    "colnames(X_raw) <- paste(\"Variant\", 1:M)\n",
    "X_raw"
   ]
  },
  {
   "cell_type": "code",
   "execution_count": 2,
   "id": "e5ca0226-3f2a-4293-87e0-97c7804ac99a",
   "metadata": {
    "tags": [],
    "vscode": {
     "languageId": "r"
    }
   },
   "outputs": [
    {
     "data": {
      "text/html": [
       "<table class=\"dataframe\">\n",
       "<caption>A matrix: 5 x 3 of type dbl</caption>\n",
       "<thead>\n",
       "\t<tr><th></th><th scope=col>Variant 1</th><th scope=col>Variant 2</th><th scope=col>Variant 3</th></tr>\n",
       "</thead>\n",
       "<tbody>\n",
       "\t<tr><th scope=row>Individual 1</th><td>-0.6708204</td><td>-0.2390457</td><td> 0.000000</td></tr>\n",
       "\t<tr><th scope=row>Individual 2</th><td> 1.5652476</td><td> 0.9561829</td><td>-1.414214</td></tr>\n",
       "\t<tr><th scope=row>Individual 3</th><td> 0.4472136</td><td>-0.2390457</td><td> 0.000000</td></tr>\n",
       "\t<tr><th scope=row>Individual 4</th><td>-0.6708204</td><td> 0.9561829</td><td> 0.000000</td></tr>\n",
       "\t<tr><th scope=row>Individual 5</th><td>-0.6708204</td><td>-1.4342743</td><td> 1.414214</td></tr>\n",
       "</tbody>\n",
       "</table>\n"
      ],
      "text/latex": [
       "A matrix: 5 x 3 of type dbl\n",
       "\\begin{tabular}{r|lll}\n",
       "  & Variant 1 & Variant 2 & Variant 3\\\\\n",
       "\\hline\n",
       "\tIndividual 1 & -0.6708204 & -0.2390457 &  0.000000\\\\\n",
       "\tIndividual 2 &  1.5652476 &  0.9561829 & -1.414214\\\\\n",
       "\tIndividual 3 &  0.4472136 & -0.2390457 &  0.000000\\\\\n",
       "\tIndividual 4 & -0.6708204 &  0.9561829 &  0.000000\\\\\n",
       "\tIndividual 5 & -0.6708204 & -1.4342743 &  1.414214\\\\\n",
       "\\end{tabular}\n"
      ],
      "text/markdown": [
       "\n",
       "A matrix: 5 x 3 of type dbl\n",
       "\n",
       "| <!--/--> | Variant 1 | Variant 2 | Variant 3 |\n",
       "|---|---|---|---|\n",
       "| Individual 1 | -0.6708204 | -0.2390457 |  0.000000 |\n",
       "| Individual 2 |  1.5652476 |  0.9561829 | -1.414214 |\n",
       "| Individual 3 |  0.4472136 | -0.2390457 |  0.000000 |\n",
       "| Individual 4 | -0.6708204 |  0.9561829 |  0.000000 |\n",
       "| Individual 5 | -0.6708204 | -1.4342743 |  1.414214 |\n",
       "\n"
      ],
      "text/plain": [
       "             Variant 1  Variant 2  Variant 3\n",
       "Individual 1 -0.6708204 -0.2390457  0.000000\n",
       "Individual 2  1.5652476  0.9561829 -1.414214\n",
       "Individual 3  0.4472136 -0.2390457  0.000000\n",
       "Individual 4 -0.6708204  0.9561829  0.000000\n",
       "Individual 5 -0.6708204 -1.4342743  1.414214"
      ]
     },
     "metadata": {},
     "output_type": "display_data"
    }
   ],
   "source": [
    "# standardize genotype matrix\n",
    "X = scale(X_raw, scale=TRUE)\n",
    "X"
   ]
  },
  {
   "cell_type": "markdown",
   "id": "65b7cf81-00c8-4f3b-b07f-89e2eddbf6de",
   "metadata": {},
   "source": [
    "## MAF"
   ]
  },
  {
   "cell_type": "code",
   "execution_count": 3,
   "id": "772eddb5-e251-4418-abe4-4eeae95974ec",
   "metadata": {
    "jp-MarkdownHeadingCollapsed": true,
    "tags": [],
    "vscode": {
     "languageId": "r"
    }
   },
   "outputs": [
    {
     "name": "stdout",
     "output_type": "stream",
     "text": [
      "Minor Allele Frequencies (MAF):\n"
     ]
    },
    {
     "name": "stdout",
     "output_type": "stream",
     "text": [
      "MAF for Variant 1 : 0.3 \n",
      "MAF for Variant 2 : 0.4 \n",
      "MAF for Variant 3 : 0.5 \n"
     ]
    }
   ],
   "source": [
    "# MAF Calculation for each variant\n",
    "MAF <- apply(X_raw, 2, function(x) min(mean(x) / 2, 1 - mean(x) / 2))\n",
    "# Print MAF\n",
    "cat(\"Minor Allele Frequencies (MAF):\\n\")\n",
    "for (j in 1:ncol(X_raw)) {\n",
    "  cat(paste(\"MAF for Variant\", j, \":\", MAF[j]), \"\\n\")\n",
    "}\n"
   ]
  },
  {
   "cell_type": "markdown",
   "id": "a1c4fcf0-d9d4-4026-acc6-f8ae5a355be3",
   "metadata": {},
   "source": [
    "## HWE"
   ]
  },
  {
   "cell_type": "markdown",
   "id": "0e4b64fb-59d0-472d-b4b4-6aff961d249a",
   "metadata": {},
   "source": [
    "> This data is from E. B. Ford (1971) on the scarlet tiger moth, for which the phenotypes of a sample of the population were recorded. ([wiki reference](https://en.wikipedia.org/wiki/Hardy–Weinberg_principle))\n",
    ">\n",
    "> **Table 3: Example Hardy–Weinberg Principle Calculation**\n",
    ">\n",
    "> | Phenotype          | White-spotted (AA) | Intermediate (Aa) | Little spotting (aa) | Total |\n",
    ">|--------------------|-------------------|-------------------|----------------------|-------|\n",
    ">| Number        | 1469              | 138               | 5                    | 1612  |\n",
    ">\n",
    "> From this, allele frequencies can be calculated:\n",
    "\n"
   ]
  },
  {
   "cell_type": "code",
   "execution_count": 6,
   "id": "63a41713-ecba-4b83-b3f7-52bf60c03460",
   "metadata": {
    "tags": [],
    "vscode": {
     "languageId": "r"
    }
   },
   "outputs": [
    {
     "data": {
      "text/html": [
       "0.95409429280397"
      ],
      "text/latex": [
       "0.95409429280397"
      ],
      "text/markdown": [
       "0.95409429280397"
      ],
      "text/plain": [
       "[1] 0.9540943"
      ]
     },
     "metadata": {},
     "output_type": "display_data"
    },
    {
     "data": {
      "text/html": [
       "0.0459057071960298"
      ],
      "text/latex": [
       "0.0459057071960298"
      ],
      "text/markdown": [
       "0.0459057071960298"
      ],
      "text/plain": [
       "[1] 0.04590571"
      ]
     },
     "metadata": {},
     "output_type": "display_data"
    }
   ],
   "source": [
    "N_AA=1469\n",
    "N_Aa=138\n",
    "N_aa=5\n",
    "N_all = N_AA + N_Aa + N_aa\n",
    "freq_A = (2*N_AA + 1*N_Aa )/ (2*N_all)\n",
    "freq_A\n",
    "freq_a = 1-freq_A\n",
    "freq_a"
   ]
  },
  {
   "cell_type": "markdown",
   "id": "949814e3-0411-475b-b497-af6b9091570f",
   "metadata": {},
   "source": [
    "So the Hardy-Weinberg expectation is"
   ]
  },
  {
   "cell_type": "code",
   "execution_count": 7,
   "id": "41a1ee9f-cacd-4056-a813-e4e6d0a4cb49",
   "metadata": {
    "tags": [],
    "vscode": {
     "languageId": "r"
    }
   },
   "outputs": [],
   "source": [
    "expected_AA = freq_A*freq_A* N_all\n",
    "expected_Aa = 2*freq_A*freq_a* N_all\n",
    "expected_aa = freq_a*freq_a* N_all"
   ]
  },
  {
   "cell_type": "markdown",
   "id": "f7aa9760-a161-4599-a3bc-027ed0a8c012",
   "metadata": {},
   "source": [
    "One can use Pearson's chi-squared test to test if HWE holds:\n",
    "\n",
    "$$\n",
    "\\chi^2 = \\sum \\frac{(O_i - E_i)^2}{E_i}\n",
    "$$\n",
    "\n",
    "where:  \n",
    "- $O_i$ = Observed genotype count (AA, Aa, aa).  \n",
    "- $E_i$ = Expected genotype count under Hardy-Weinberg Equilibrium.  \n",
    "- The summation runs over all genotype categories.  \n",
    "\n",
    "The expected counts under HWE are:\n",
    "\n",
    "$$\n",
    "E_{AA} = f_A^2 \\cdot N\n",
    "$$\n",
    "\n",
    "$$\n",
    "E_{Aa} = 2f_A f_a \\cdot N\n",
    "$$\n",
    "\n",
    "$$\n",
    "E_{aa} = f_a^2 \\cdot N\n",
    "$$\n",
    "\n",
    "where:  \n",
    "- $f_A$: frequency of allele A\n",
    "- $f_a = 1 - f_A$: frequency of allele a\n",
    "- $N$ = Total number of individuals.\n",
    "\n",
    "To determine statistical significance, compare $\\chi^2$ with a **chi-square distribution** with **1 degree of freedom** (df = 1). The p-value is computed as:\n",
    "\n",
    "$$\n",
    "p = P(\\chi^2 > \\text{observed } \\chi^2)\n",
    "$$\n",
    "\n",
    "If $p < 0.05$, we reject the **Hardy-Weinberg Equilibrium** assumption.\n"
   ]
  },
  {
   "cell_type": "code",
   "execution_count": 8,
   "id": "449f8e28-083e-401e-b0ca-6fdbcf73e0d9",
   "metadata": {
    "tags": [],
    "vscode": {
     "languageId": "r"
    }
   },
   "outputs": [
    {
     "data": {
      "text/html": [
       "0.830948189146411"
      ],
      "text/latex": [
       "0.830948189146411"
      ],
      "text/markdown": [
       "0.830948189146411"
      ],
      "text/plain": [
       "[1] 0.8309482"
      ]
     },
     "metadata": {},
     "output_type": "display_data"
    }
   ],
   "source": [
    "chi_sq = (N_AA - expected_AA)^2/expected_AA + (N_Aa - expected_Aa)^2/expected_Aa + (N_aa - expected_aa)^2/expected_aa\n",
    "chi_sq\n"
   ]
  },
  {
   "cell_type": "markdown",
   "id": "efd94902-0c35-4fe2-8303-577bfa081064",
   "metadata": {},
   "source": [
    "There is 1 degree of freedom (degrees of freedom for test for Hardy–Weinberg proportions are number of genotypes minus number of alleles). The 5% significance level for 1 degree of freedom is 3.84, and since the $\\chi^2$ value is less than this, the null hypothesis that the population is in Hardy–Weinberg frequencies is not rejected.\n",
    "\n",
    "One can also use the `chisq.test` to perform the $\\chi^2$-test directly."
   ]
  },
  {
   "cell_type": "code",
   "execution_count": 9,
   "id": "77233c89-9f5d-425a-8105-d14176504ac7",
   "metadata": {
    "tags": [],
    "vscode": {
     "languageId": "r"
    }
   },
   "outputs": [
    {
     "name": "stderr",
     "output_type": "stream",
     "text": [
      "Warning message in chisq.test(x = obs_counts, p = exp_counts/N_all, rescale.p = TRUE):\n",
      "\"Chi-squared approximation may be incorrect\"\n"
     ]
    },
    {
     "data": {
      "text/html": [
       "<strong>X-squared:</strong> 0.830948189146411"
      ],
      "text/latex": [
       "\\textbf{X-squared:} 0.830948189146411"
      ],
      "text/markdown": [
       "**X-squared:** 0.830948189146411"
      ],
      "text/plain": [
       "X-squared \n",
       "0.8309482 "
      ]
     },
     "metadata": {},
     "output_type": "display_data"
    }
   ],
   "source": [
    "# Given genotype counts\n",
    "obs_counts <- c(N_AA, N_Aa, N_aa)  # Observed counts for AA, Aa, aa\n",
    "\n",
    "# Compute expected genotype counts under HWE\n",
    "exp_counts <- c(freq_A^2, 2 * freq_A * freq_a, freq_a^2) * N_all\n",
    "\n",
    "# Perform chi-square test\n",
    "chi_sq_test <- chisq.test(x = obs_counts, p = exp_counts / N_all, rescale.p = TRUE)\n",
    "\n",
    "# Print results\n",
    "# print(chi_sq_test)\n",
    "chi_sq_test$statistic"
   ]
  },
  {
   "cell_type": "markdown",
   "id": "707db902-f1ed-4399-93e3-e8996dd44081",
   "metadata": {},
   "source": [
    "# **TODO**\n",
    "- [ ] how to remove the warning in the message --- is it because data too small? -- something is wrong in the code\n",
    "- [ ] how to make HWE doesn't hold for variant 2 after selection..\n",
    "- [ ] MAF estimate and the standard error of the estimation?"
   ]
  },
  {
   "cell_type": "code",
   "execution_count": null,
   "id": "bf582cc4-e03f-44ea-92a2-c7274838d172",
   "metadata": {
    "vscode": {
     "languageId": "r"
    }
   },
   "outputs": [],
   "source": []
  },
  {
   "cell_type": "markdown",
   "id": "6babdae8-82f9-4d98-9041-82c944c281d1",
   "metadata": {},
   "source": [
    "# Supplementary"
   ]
  },
  {
   "cell_type": "markdown",
   "id": "9eb3ff66-b5a0-4a7c-a9cc-d5842b04ff73",
   "metadata": {},
   "source": [
    "> MAF estimate: slide 40-43 from GW\n",
    ">\n",
    "> HWE: slide 45-47 from GW"
   ]
  },
  {
   "cell_type": "code",
   "execution_count": 19,
   "id": "fd3c0498-0625-48d8-a754-593be85aee66",
   "metadata": {
    "tags": [],
    "vscode": {
     "languageId": "r"
    }
   },
   "outputs": [
    {
     "name": "stdout",
     "output_type": "stream",
     "text": [
      "Expected Genotype Frequencies for Variant 1 (HWE): 0.49 0.42 0.09 \n",
      "Observed Genotype Frequencies for Variant 1: 0.6 0.2 0.2 \n",
      "Expected Genotype Frequencies for Variant 2 (HWE): 0.16 0.48 0.36 \n",
      "Observed Genotype Frequencies for Variant 2: 0.2 0.4 0.4 \n",
      "Expected Genotype Frequencies for Variant 3 (HWE): 0.25 0.5 0.25 \n",
      "Observed Genotype Frequencies for Variant 3: 0.2 0.6 0.2 \n"
     ]
    }
   ],
   "source": [
    "# Function to calculate the expected genotype frequencies under HWE\n",
    "HWE_expected <- function(f_A, f_a) {\n",
    "  c(f_A^2, 2*f_A*f_a, f_a^2)  # P(AA), P(Aa), P(aa)\n",
    "}\n",
    "\n",
    "# Calculate allele frequencies\n",
    "f_A1 <- mean(X_raw[,1] == 0) + 0.5 * mean(X_raw[,1] == 1) # Variant 1\n",
    "f_a1 <- 1 - f_A1\n",
    "f_A2 <- mean(X_raw[,2] == 0) + 0.5 * mean(X_raw[,2] == 1) # Variant 2\n",
    "f_a2 <- 1 - f_A2\n",
    "f_A3 <- mean(X_raw[,3] == 0) + 0.5 * mean(X_raw[,3] == 1) # Variant 2\n",
    "f_a3 <- 1 - f_A3\n",
    "\n",
    "# Expected genotypic frequencies for each variant under HWE\n",
    "hwe_expected_variant1 <- HWE_expected(f_A1, f_a1)\n",
    "hwe_expected_variant2 <- HWE_expected(f_A2, f_a2)\n",
    "hwe_expected_variant3 <- HWE_expected(f_A3, f_a3)\n",
    "cat(\"Expected Genotype Frequencies for Variant 1 (HWE):\", hwe_expected_variant1, \"\\n\")\n",
    "cat(\"Observed Genotype Frequencies for Variant 1:\", table(X_raw[,1])/nrow(X_raw), \"\\n\")\n",
    "cat(\"Expected Genotype Frequencies for Variant 2 (HWE):\", hwe_expected_variant2, \"\\n\")\n",
    "cat(\"Observed Genotype Frequencies for Variant 2:\", table(X_raw[,2])/nrow(X_raw), \"\\n\")\n",
    "cat(\"Expected Genotype Frequencies for Variant 3 (HWE):\", hwe_expected_variant3, \"\\n\")\n",
    "cat(\"Observed Genotype Frequencies for Variant 3:\", table(X_raw[,3])/nrow(X_raw), \"\\n\")\n"
   ]
  },
  {
   "cell_type": "markdown",
   "id": "1d04abed-dc92-41d1-9010-e58cb606fce6",
   "metadata": {},
   "source": [
    "The expected and observed frequencies seem like close to each other, so we can say **HWE roughly holds for both variants**.\n",
    "\n",
    "More formally one can test with a **chi-squared test** to compare the observed genotype frequencies with the expected frequencies under HWE. "
   ]
  },
  {
   "cell_type": "code",
   "execution_count": 20,
   "id": "a7eaff7a-0f3b-4952-86bd-6296bec67174",
   "metadata": {
    "tags": [],
    "vscode": {
     "languageId": "r"
    }
   },
   "outputs": [
    {
     "name": "stderr",
     "output_type": "stream",
     "text": [
      "Warning message in chisq.test(observed_freqs_variant1, p = hwe_expected_variant1):\n",
      "“Chi-squared approximation may be incorrect”\n",
      "Warning message in chisq.test(observed_freqs_variant2, p = hwe_expected_variant2):\n",
      "“Chi-squared approximation may be incorrect”\n",
      "Warning message in chisq.test(observed_freqs_variant3, p = hwe_expected_variant3):\n",
      "“Chi-squared approximation may be incorrect”\n"
     ]
    },
    {
     "name": "stdout",
     "output_type": "stream",
     "text": [
      "\n",
      "Variant 1: HWE holds.\n",
      "\n",
      "Variant 2: HWE holds.\n",
      "\n",
      "Variant 3: HWE holds.\n"
     ]
    }
   ],
   "source": [
    "# Chi-squared test for deviation from Hardy-Weinberg equilibrium for Variant 1\n",
    "observed_freqs_variant1 <- table(factor(X_raw[,1], levels = 0:2)) / nrow(X_raw)\n",
    "chisq_test_variant1 <- chisq.test(observed_freqs_variant1, p = hwe_expected_variant1)\n",
    "\n",
    "# Chi-squared test for deviation from Hardy-Weinberg equilibrium for Variant 2\n",
    "observed_freqs_variant2 <- table(factor(X_raw[,2], levels = 0:2)) / nrow(X_raw)\n",
    "chisq_test_variant2 <- chisq.test(observed_freqs_variant2, p = hwe_expected_variant2)\n",
    "\n",
    "# Chi-squared test for deviation from Hardy-Weinberg equilibrium for Variant 3\n",
    "observed_freqs_variant3 <- table(factor(X_raw[,3], levels = 0:2)) / nrow(X_raw)\n",
    "chisq_test_variant3 <- chisq.test(observed_freqs_variant3, p = hwe_expected_variant3)\n",
    "\n",
    "# Interpretation of results\n",
    "if (chisq_test_variant1$p.value < 0.05) {\n",
    "  cat(\"\\nVariant 1: HWE does not hold.\\n\")\n",
    "} else {\n",
    "  cat(\"\\nVariant 1: HWE holds.\\n\")\n",
    "}\n",
    "\n",
    "if (chisq_test_variant2$p.value < 0.05) {\n",
    "  cat(\"\\nVariant 2: HWE does not hold.\\n\")\n",
    "} else {\n",
    "  cat(\"\\nVariant 2: HWE holds.\\n\")\n",
    "}\n",
    "\n",
    "if (chisq_test_variant3$p.value < 0.05) {\n",
    "  cat(\"\\nVariant 3: HWE does not hold.\\n\")\n",
    "} else {\n",
    "  cat(\"\\nVariant 3: HWE holds.\\n\")\n",
    "}"
   ]
  },
  {
   "cell_type": "markdown",
   "id": "ce5ffe34-95ae-4727-b4ba-9d5afa5db4f9",
   "metadata": {},
   "source": [
    "Now let's assume that **individuals carrying 2 risk alleles (a2) cannot survive after born**, then the population become:"
   ]
  },
  {
   "cell_type": "code",
   "execution_count": 135,
   "id": "de40df20-5b08-428b-9ba2-4fee06901ed4",
   "metadata": {
    "tags": [],
    "vscode": {
     "languageId": "r"
    }
   },
   "outputs": [],
   "source": [
    "genotypes_selected <- genotypes[genotypes[, 2] != 2, ]"
   ]
  },
  {
   "cell_type": "code",
   "execution_count": 136,
   "id": "4ac98295-6c45-449c-9495-00ff8d44cf39",
   "metadata": {
    "tags": [],
    "vscode": {
     "languageId": "r"
    }
   },
   "outputs": [
    {
     "name": "stdout",
     "output_type": "stream",
     "text": [
      "===========After selection===========\n",
      "Expected Genotype Frequencies for Variant 1 (HWE): 0.6944444 0.2777778 0.02777778 \n",
      "Observed Genotype Frequencies for Variant 1: 0.6666667 0.3333333 \n",
      "Expected Genotype Frequencies for Variant 2 (HWE): 0.4444444 0.4444444 0.1111111 \n",
      "Observed Genotype Frequencies for Variant 2: 0.3333333 0.6666667 \n",
      "Expected Genotype Frequencies for Variant 3 (HWE): 0.1111111 0.4444444 0.4444444 \n",
      "Observed Genotype Frequencies for Variant 3: 0.6666667 0.3333333 \n"
     ]
    }
   ],
   "source": [
    "# Calculate allele frequencies\n",
    "f_A1_selected <- mean(genotypes_selected[,1] == 0) + 0.5 * mean(genotypes_selected[,1] == 1) # Variant 1\n",
    "f_a1_selected <- 1 - f_A1_selected\n",
    "f_A2_selected <- mean(genotypes_selected[,2] == 0) + 0.5 * mean(genotypes_selected[,2] == 1) # Variant 2\n",
    "f_a2_selected <- 1 - f_A2_selected\n",
    "f_A3_selected <- mean(genotypes_selected[,3] == 0) + 0.5 * mean(genotypes_selected[,3] == 1) # Variant 3\n",
    "f_a3_selected <- 1 - f_A3_selected\n",
    "\n",
    "\n",
    "# Expected genotypic frequencies for each variant under HWE\n",
    "hwe_expected_variant1_selected <- HWE_expected(f_A1_selected, f_a1_selected)\n",
    "hwe_expected_variant2_selected <- HWE_expected(f_A2_selected, f_a2_selected)\n",
    "hwe_expected_variant3_selected <- HWE_expected(f_A3_selected, f_a3_selected)\n",
    "cat(\"===========After selection===========\\n\")\n",
    "cat(\"Expected Genotype Frequencies for Variant 1 (HWE):\", hwe_expected_variant1_selected, \"\\n\")\n",
    "cat(\"Observed Genotype Frequencies for Variant 1:\", table(genotypes_selected[,1])/nrow(genotypes_selected), \"\\n\")\n",
    "cat(\"Expected Genotype Frequencies for Variant 2 (HWE):\", hwe_expected_variant2_selected, \"\\n\")\n",
    "cat(\"Observed Genotype Frequencies for Variant 2:\", table(genotypes_selected[,2])/nrow(genotypes_selected), \"\\n\")\n",
    "cat(\"Expected Genotype Frequencies for Variant 3 (HWE):\", hwe_expected_variant3_selected, \"\\n\")\n",
    "cat(\"Observed Genotype Frequencies for Variant 3:\", table(genotypes_selected[,3])/nrow(genotypes_selected), \"\\n\")"
   ]
  },
  {
   "cell_type": "markdown",
   "id": "a97ef26b-6c11-44ad-8961-f147602b5347",
   "metadata": {},
   "source": [
    "Then we can use the **chi-squared test** again"
   ]
  },
  {
   "cell_type": "code",
   "execution_count": 137,
   "id": "8a93fff6-a243-4b0e-a7f9-5a7fb9fb98e3",
   "metadata": {
    "tags": [],
    "vscode": {
     "languageId": "r"
    }
   },
   "outputs": [
    {
     "name": "stderr",
     "output_type": "stream",
     "text": [
      "Warning message in chisq.test(observed_freqs_variant1_selected, p = hwe_expected_variant1_selected):\n",
      "“Chi-squared approximation may be incorrect”\n"
     ]
    },
    {
     "name": "stdout",
     "output_type": "stream",
     "text": [
      "\n",
      "Chi-squared p-value for Variant 1 (HWE): 0.9801987 \n"
     ]
    },
    {
     "name": "stderr",
     "output_type": "stream",
     "text": [
      "Warning message in chisq.test(observed_freqs_variant2_selected, p = hwe_expected_variant2_selected):\n",
      "“Chi-squared approximation may be incorrect”\n"
     ]
    },
    {
     "name": "stdout",
     "output_type": "stream",
     "text": [
      "Chi-squared p-value for Variant 2 (HWE): 0.8824969 \n"
     ]
    },
    {
     "name": "stderr",
     "output_type": "stream",
     "text": [
      "Warning message in chisq.test(observed_freqs_variant3_selected, p = hwe_expected_variant3_selected):\n",
      "“Chi-squared approximation may be incorrect”\n"
     ]
    },
    {
     "name": "stdout",
     "output_type": "stream",
     "text": [
      "Chi-squared p-value for Variant 3 (HWE): 0.8824969 \n",
      "\n",
      "Variant 1: HWE holds after selection.\n",
      "\n",
      "Variant 2: HWE holds after selection.\n",
      "\n",
      "Variant 3: HWE holds after selection.\n"
     ]
    }
   ],
   "source": [
    "observed_freqs_variant1_selected <- table(factor(genotypes_selected[,1], levels = 0:2))/nrow(genotypes_selected)\n",
    "observed_freqs_variant2_selected <- table(factor(genotypes_selected[,2], levels = 0:2)) / nrow(genotypes_selected)\n",
    "observed_freqs_variant3_selected <- table(factor(genotypes_selected[,3], levels = 0:2)) / nrow(genotypes_selected)\n",
    "\n",
    "# Chi-squared test for Variant 1\n",
    "chisq_test_v1_selected <- chisq.test(observed_freqs_variant1_selected, p = hwe_expected_variant1_selected)\n",
    "cat(\"\\nChi-squared p-value for Variant 1 (HWE):\", chisq_test_v1_selected$p.value, \"\\n\")\n",
    "\n",
    "# Chi-squared test for Variant 2\n",
    "chisq_test_v2_selected <- chisq.test(observed_freqs_variant2_selected, p = hwe_expected_variant2_selected)\n",
    "cat(\"Chi-squared p-value for Variant 2 (HWE):\", chisq_test_v2_selected$p.value, \"\\n\")\n",
    "\n",
    "# Chi-squared test for Variant 3\n",
    "chisq_test_v3_selected <- chisq.test(observed_freqs_variant3_selected, p = hwe_expected_variant3_selected)\n",
    "cat(\"Chi-squared p-value for Variant 3 (HWE):\", chisq_test_v3_selected$p.value, \"\\n\")\n",
    "\n",
    "# Interpretation of results\n",
    "if (chisq_test_v1_selected$p.value < 0.05) {\n",
    "  cat(\"\\nVariant 1: HWE does not hold after selection.\\n\")\n",
    "} else {\n",
    "  cat(\"\\nVariant 1: HWE holds after selection.\\n\")\n",
    "}\n",
    "\n",
    "if (chisq_test_v2_selected$p.value < 0.05) {\n",
    "  cat(\"\\nVariant 2: HWE does not hold after selection.\\n\")\n",
    "} else {\n",
    "  cat(\"\\nVariant 2: HWE holds after selection.\\n\")\n",
    "}\n",
    "\n",
    "if (chisq_test_v3_selected$p.value < 0.05) {\n",
    "  cat(\"\\nVariant 3: HWE does not hold after selection.\\n\")\n",
    "} else {\n",
    "  cat(\"\\nVariant 3: HWE holds after selection.\\n\")\n",
    "}"
   ]
  },
  {
   "cell_type": "code",
   "execution_count": null,
   "id": "dc57efd9-37d6-44c6-ad7b-6dcc04f6a3a0",
   "metadata": {
    "vscode": {
     "languageId": "r"
    }
   },
   "outputs": [],
   "source": []
  },
  {
   "cell_type": "markdown",
   "id": "13642528",
   "metadata": {},
   "source": [
    "```svg\n",
    "<svg viewBox=\"0 0 800 600\" xmlns=\"http://www.w3.org/2000/svg\">\n",
    "  <!-- Background -->\n",
    "  <rect x=\"0\" y=\"0\" width=\"800\" height=\"600\" fill=\"#f8f9fa\" />\n",
    "  \n",
    "  <!-- Title -->\n",
    "  <text x=\"400\" y=\"30\" font-family=\"Arial\" font-size=\"22\" font-weight=\"bold\" text-anchor=\"middle\">Key Concepts in Statistical Genetics</text>\n",
    "  \n",
    "  <!-- Genotype Matrix Section -->\n",
    "  <rect x=\"40\" y=\"50\" width=\"340\" height=\"325\" fill=\"#e3f2fd\" stroke=\"#2196f3\" stroke-width=\"2\" rx=\"5\" />\n",
    "  <text x=\"210\" y=\"65\" font-family=\"Arial\" font-size=\"16\" font-weight=\"bold\" text-anchor=\"middle\">Raw Genotype Matrix (Xraw)</text>\n",
    "  \n",
    "  <!-- Genotype Matrix -->\n",
    "  <g transform=\"translate(70, 90)\">\n",
    "    <!-- Matrix -->\n",
    "    <rect x=\"0\" y=\"0\" width=\"280\" height=\"160\" fill=\"white\" stroke=\"#999\" stroke-width=\"1\" />\n",
    "    \n",
    "    <!-- Column Headers -->\n",
    "    <text x=\"30\" y=\"-5\" font-family=\"Arial\" font-size=\"12\" text-anchor=\"middle\">SNP₁</text>\n",
    "    <text x=\"90\" y=\"-5\" font-family=\"Arial\" font-size=\"12\" text-anchor=\"middle\">SNP₂</text>\n",
    "    <text x=\"150\" y=\"-5\" font-family=\"Arial\" font-size=\"12\" text-anchor=\"middle\">SNP₃</text>\n",
    "    <text x=\"200\" y=\"-5\" font-family=\"Arial\" font-size=\"12\" text-anchor=\"middle\">...</text>\n",
    "    <text x=\"250\" y=\"-5\" font-family=\"Arial\" font-size=\"12\" text-anchor=\"middle\">SNPₘ</text>\n",
    "    \n",
    "    <!-- Row Headers -->\n",
    "    <text x=\"-5\" y=\"25\" font-family=\"Arial\" font-size=\"12\" text-anchor=\"end\">Ind₁</text>\n",
    "    <text x=\"-5\" y=\"65\" font-family=\"Arial\" font-size=\"12\" text-anchor=\"end\">Ind₂</text>\n",
    "    <text x=\"-5\" y=\"105\" font-family=\"Arial\" font-size=\"12\" text-anchor=\"end\">...</text>\n",
    "    <text x=\"-5\" y=\"145\" font-family=\"Arial\" font-size=\"12\" text-anchor=\"end\">Indₙ</text>\n",
    "    \n",
    "    <!-- Grid Lines -->\n",
    "    <line x1=\"0\" y1=\"40\" x2=\"280\" y2=\"40\" stroke=\"#ddd\" stroke-width=\"1\" />\n",
    "    <line x1=\"0\" y1=\"80\" x2=\"280\" y2=\"80\" stroke=\"#ddd\" stroke-width=\"1\" />\n",
    "    <line x1=\"0\" y1=\"120\" x2=\"280\" y2=\"120\" stroke=\"#ddd\" stroke-width=\"1\" />\n",
    "    <line x1=\"60\" y1=\"0\" x2=\"60\" y2=\"160\" stroke=\"#ddd\" stroke-width=\"1\" />\n",
    "    <line x1=\"120\" y1=\"0\" x2=\"120\" y2=\"160\" stroke=\"#ddd\" stroke-width=\"1\" />\n",
    "    <line x1=\"180\" y1=\"0\" x2=\"180\" y2=\"160\" stroke=\"#ddd\" stroke-width=\"1\" />\n",
    "    <line x1=\"220\" y1=\"0\" x2=\"220\" y2=\"160\" stroke=\"#ddd\" stroke-width=\"1\" />\n",
    "    <!-- <line x1=\"260\" y1=\"0\" x2=\"260\" y2=\"160\" stroke=\"#ddd\" stroke-width=\"1\" /> -->\n",
    "    \n",
    "    <!-- Matrix Values -->\n",
    "    <text x=\"30\" y=\"25\" font-family=\"Arial\" font-size=\"14\" text-anchor=\"middle\">0</text>\n",
    "    <text x=\"90\" y=\"25\" font-family=\"Arial\" font-size=\"14\" text-anchor=\"middle\">1</text>\n",
    "    <text x=\"150\" y=\"25\" font-family=\"Arial\" font-size=\"14\" text-anchor=\"middle\">2</text>\n",
    "    <text x=\"200\" y=\"25\" font-family=\"Arial\" font-size=\"14\" text-anchor=\"middle\">...</text>\n",
    "    <text x=\"250\" y=\"25\" font-family=\"Arial\" font-size=\"14\" text-anchor=\"middle\">0</text>\n",
    "    \n",
    "    <text x=\"30\" y=\"65\" font-family=\"Arial\" font-size=\"14\" text-anchor=\"middle\">1</text>\n",
    "    <text x=\"90\" y=\"65\" font-family=\"Arial\" font-size=\"14\" text-anchor=\"middle\">2</text>\n",
    "    <text x=\"150\" y=\"65\" font-family=\"Arial\" font-size=\"14\" text-anchor=\"middle\">0</text>\n",
    "    <text x=\"200\" y=\"65\" font-family=\"Arial\" font-size=\"14\" text-anchor=\"middle\">...</text>\n",
    "    <text x=\"250\" y=\"65\" font-family=\"Arial\" font-size=\"14\" text-anchor=\"middle\">1</text>\n",
    "    \n",
    "    <text x=\"30\" y=\"105\" font-family=\"Arial\" font-size=\"14\" text-anchor=\"middle\">2</text>\n",
    "    <text x=\"90\" y=\"105\" font-family=\"Arial\" font-size=\"14\" text-anchor=\"middle\">0</text>\n",
    "    <text x=\"150\" y=\"105\" font-family=\"Arial\" font-size=\"14\" text-anchor=\"middle\">1</text>\n",
    "    <text x=\"200\" y=\"105\" font-family=\"Arial\" font-size=\"14\" text-anchor=\"middle\">...</text>\n",
    "    <text x=\"250\" y=\"105\" font-family=\"Arial\" font-size=\"14\" text-anchor=\"middle\">2</text>\n",
    "    \n",
    "    <text x=\"30\" y=\"145\" font-family=\"Arial\" font-size=\"14\" text-anchor=\"middle\">0</text>\n",
    "    <text x=\"90\" y=\"145\" font-family=\"Arial\" font-size=\"14\" text-anchor=\"middle\">2</text>\n",
    "    <text x=\"150\" y=\"145\" font-family=\"Arial\" font-size=\"14\" text-anchor=\"middle\">1</text>\n",
    "    <text x=\"200\" y=\"145\" font-family=\"Arial\" font-size=\"14\" text-anchor=\"middle\">...</text>\n",
    "    <text x=\"250\" y=\"145\" font-family=\"Arial\" font-size=\"14\" text-anchor=\"middle\">0</text>\n",
    "  </g>\n",
    "  \n",
    "  <!-- Genotype Legend -->\n",
    "  <text x=\"210\" y=\"275\" font-family=\"Arial\" font-size=\"14\" font-weight=\"bold\" text-anchor=\"middle\">Genotype Coding</text>\n",
    "  <text x=\"70\" y=\"300\" font-family=\"Arial\" font-size=\"14\">0: Homozygous reference (AA)</text>\n",
    "  <text x=\"70\" y=\"325\" font-family=\"Arial\" font-size=\"14\">1: Heterozygous (Aa)</text>\n",
    "  <text x=\"70\" y=\"350\" font-family=\"Arial\" font-size=\"14\">2: Homozygous alternative (aa)</text>\n",
    "  \n",
    "  <!-- Standardization Section -->\n",
    "  <rect x=\"40\" y=\"410\" width=\"340\" height=\"70\" fill=\"#fff3e0\" stroke=\"#ff9800\" stroke-width=\"2\" rx=\"5\" />\n",
    "  <text x=\"210\" y=\"430\" font-family=\"Arial\" font-size=\"14\" font-weight=\"bold\" text-anchor=\"middle\">Standardized Genotype Matrix (X)</text>\n",
    "  <text x=\"210\" y=\"450\" font-family=\"Arial\" font-size=\"13\" text-anchor=\"middle\">X[,j] = 0</text>\n",
    "  <text x=\"210\" y=\"470\" font-family=\"Arial\" font-size=\"13\" text-anchor=\"middle\">Var[X(,j)] = 1</text>\n",
    "  \n",
    "  <!-- MAF Section -->\n",
    "  <rect x=\"420\" y=\"50\" width=\"340\" height=\"180\" fill=\"#e8eaf6\" stroke=\"#3f51b5\" stroke-width=\"2\" rx=\"5\" />\n",
    "  <text x=\"590\" y=\"75\" font-family=\"Arial\" font-size=\"16\" font-weight=\"bold\" text-anchor=\"middle\">Minor Allele Frequency (MAF)</text>\n",
    "  \n",
    "  <!-- MAF Explanation -->\n",
    "  <text x=\"440\" y=\"100\" font-family=\"Arial\" font-size=\"13\">• Frequency of less common allele at a locus</text>\n",
    "  <text x=\"440\" y=\"125\" font-family=\"Arial\" font-size=\"13\">• For variant j, allele frequency:</text>\n",
    "  <text x=\"460\" y=\"150\" font-family=\"Arial\" font-size=\"13\">  f_j = E[X_raw(,j) / 2] = Σ (X_raw) / (2N)</text>\n",
    "  <text x=\"440\" y=\"175\" font-family=\"Arial\" font-size=\"13\">• MAF = min(f_j, 1-f_j)</text>\n",
    "  \n",
    "  <!-- MAF Visual -->\n",
    "  <rect x=\"450\" y=\"190\" width=\"280\" height=\"30\" fill=\"#d1d9ff\" stroke=\"#3f51b5\" stroke-width=\"1\" />\n",
    "  <rect x=\"450\" y=\"190\" width=\"112\" height=\"30\" fill=\"#8c9eff\" />\n",
    "  <text x=\"506\" y=\"210\" font-family=\"Arial\" font-size=\"12\" text-anchor=\"middle\" fill=\"white\">f_a = 0.4</text>\n",
    "  <text x=\"640\" y=\"210\" font-family=\"Arial\" font-size=\"12\" text-anchor=\"middle\">f_A = 0.6</text>\n",
    "  \n",
    "  <!-- HWE Section -->\n",
    "  <rect x=\"420\" y=\"260\" width=\"340\" height=\"220\" fill=\"#fce4ec\" stroke=\"#e91e63\" stroke-width=\"2\" rx=\"5\" />\n",
    "  <text x=\"590\" y=\"285\" font-family=\"Arial\" font-size=\"16\" font-weight=\"bold\" text-anchor=\"middle\">Hardy-Weinberg Equilibrium (HWE)</text>\n",
    "  \n",
    "  <!-- HWE Explanation -->\n",
    "  <text x=\"440\" y=\"310\" font-family=\"Arial\" font-size=\"13\">• Expected genotype proportions based on allele</text>\n",
    "  <text x=\"445\" y=\"330\" font-family=\"Arial\" font-size=\"13\">  frequencies when certain conditions are met</text>\n",
    "  \n",
    "  <text x=\"440\" y=\"355\" font-family=\"Arial\" font-size=\"13\">• With allele frequencies f_A and f_a = 1-f_A:</text>\n",
    "  <text x=\"460\" y=\"380\" font-family=\"Arial\" font-size=\"13\">P(AA) = f_A² (genotype 0)</text>\n",
    "  <text x=\"460\" y=\"400\" font-family=\"Arial\" font-size=\"13\">P(Aa) = 2f_A·f_a (genotype 1)</text>\n",
    "  <text x=\"460\" y=\"420\" font-family=\"Arial\" font-size=\"13\">P(aa) = f_a² (genotype 2)</text>\n",
    "  \n",
    "  <!-- HWE Visual -->\n",
    "  <rect x=\"440\" y=\"435\" width=\"300\" height=\"30\" fill=\"white\" stroke=\"#e91e63\" stroke-width=\"1\" />\n",
    "  <rect x=\"440\" y=\"435\" width=\"144\" height=\"30\" fill=\"#f8bbd0\" />\n",
    "  <rect x=\"584\" y=\"435\" width=\"96\" height=\"30\" fill=\"#f48fb1\" />\n",
    "  <rect x=\"680\" y=\"435\" width=\"60\" height=\"30\" fill=\"#f06292\" />\n",
    "  <text x=\"512\" y=\"455\" font-family=\"Arial\" font-size=\"12\" text-anchor=\"middle\">f_A² = 0.36</text>\n",
    "  <text x=\"632\" y=\"455\" font-family=\"Arial\" font-size=\"12\" text-anchor=\"middle\">2f_A·f_a = 0.48</text>\n",
    "  <text x=\"710\" y=\"455\" font-family=\"Arial\" font-size=\"12\" text-anchor=\"middle\">f_a² = 0.16</text>\n",
    "\n",
    "  <!-- Connecting Arrow from Raw to Standardized -->  \n",
    "  <path d=\"M 210 380 L 210 405\" stroke=\"#666\" stroke-width=\"2\" fill=\"none\" marker-end=\"url(#arrowhead)\" />\n",
    "\n",
    "  <!-- Connecting Arrow from Raw to MAF -->\n",
    "  <path d=\"M 385 160 L 415 160\" stroke=\"#666\" stroke-width=\"2\" fill=\"none\" marker-end=\"url(#arrowhead)\" />\n",
    "  \n",
    "  <!-- Connecting Arrow from MAF to HWE -->\n",
    "  <path d=\"M 590 235 L 590 255\" stroke=\"#666\" stroke-width=\"2\" fill=\"none\" marker-end=\"url(#arrowhead)\" />\n",
    "  \n",
    "  <!-- Definitions -->\n",
    "  <defs>\n",
    "    <marker id=\"arrowhead\" markerWidth=\"10\" markerHeight=\"7\" refX=\"9\" refY=\"3.5\" orient=\"auto\">\n",
    "      <polygon points=\"0 0, 10 3.5, 0 7\" fill=\"#666\" />\n",
    "    </marker>\n",
    "  </defs>\n",
    "</svg>\n",
    "```"
   ]
  },
  {
   "cell_type": "markdown",
   "id": "f32273e8",
   "metadata": {},
   "source": []
  }
 ],
 "metadata": {
  "kernelspec": {
   "display_name": "R",
   "language": "R",
   "name": "ir"
  },
  "language_info": {
   "codemirror_mode": "r",
   "file_extension": ".r",
   "mimetype": "text/x-r-source",
   "name": "R",
   "pygments_lexer": "r",
   "version": "4.3.3"
  },
  "toc-autonumbering": true
 },
 "nbformat": 4,
 "nbformat_minor": 5
}
