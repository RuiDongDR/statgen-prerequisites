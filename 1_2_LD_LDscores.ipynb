{
 "cells": [
  {
   "cell_type": "markdown",
   "id": "8f236fb0-1586-463a-b400-24fb893c5292",
   "metadata": {},
   "source": [
    "# Summary\n",
    "\n",
    "This notebook introduces the basic concepts in statistical genetics, including:\n",
    "\n",
    "- LD, LD score"
   ]
  },
  {
   "cell_type": "markdown",
   "id": "a57f18c6-62b2-4303-9dbb-5fca8a6e19fc",
   "metadata": {},
   "source": [
    "# Intuition\n",
    "\n",
    "Here we will put a cartoon "
   ]
  },
  {
   "cell_type": "markdown",
   "id": "c368a384-d362-42cb-9223-fc13269d0e05",
   "metadata": {},
   "source": [
    "# Notations"
   ]
  },
  {
   "cell_type": "markdown",
   "id": "2e82e3bd-5151-4d21-a037-d051d990b259",
   "metadata": {
    "tags": []
   },
   "source": [
    "## Linkage Disequilibrium (LD)\n",
    "\n",
    "Linkage Disequilibrium (LD) refers to the non-random association of alleles at two or more loci. In a population, if two variants (or loci) are in LD, their allele combinations occur more or less frequently than expected based on their individual allele frequencies. \n",
    "\n",
    "## Covariance of $\\mathbf{X}$\n",
    "\n",
    "Given the genotype matrix $\\mathbf{X_{\\text{raw}}}$, we first perform normalization on it (i.e., the mean genotype for each variant is subtracted), then the covariance matrix can be computed as:\n",
    "\n",
    "$$\n",
    "\\text{Cov}(\\mathbf{X}) = \\mathbf{X}^T \\mathbf{X}\n",
    "$$\n",
    "\n",
    "The covariance between two variants $j_1$ and $j_2$ is computed as:\n",
    "\n",
    "\\begin{equation*}\n",
    "\\text{cov}(x_{i j_1}, x_{i j_2}) = \\frac{1}{N} \\sum_{i=1}^{N} \\left( x_{i j_1} - \\bar{x}_{j_1} \\right) \\left( x_{i j_2} - \\bar{x}_{j_2} \\right),\n",
    "\\end{equation*}\n",
    "\n",
    "where $\\bar{x}_{j_1}$ and $\\bar{x}_{j_2}$ are the mean genotypes for variants $j_1$ and $j_2$, respectively, calculated as (and this step is called **centering**)\n",
    "\n",
    "\\begin{equation*}\n",
    "\\bar{x}_{j_1} = \\frac{1}{N} \\sum_{i=1}^{N} x_{i j_1}, \\quad \\bar{x}_{j_2} = \\frac{1}{N} \\sum_{i=1}^{N} x_{i j_2}.\n",
    "\\end{equation*}\n",
    "\n",
    "\n",
    "Where:\n",
    "- $\\mathbf{X_{\\text{raw}}}$ is the raw genotype matrix.\n",
    "- $\\mathbf{X}$ is the centered genotype matrix.\n",
    "- $N$ is the number of individuals.\n",
    "\n",
    "## $r$ and $r^2$\n",
    "To calculate the **correlation** between variants, we need to normalize the covariance matrix by the variance of each variant. If **$\\mathbf{X}$** is centered but not normalized, then the correlation matrix can be computed as:\n",
    "\n",
    "$$\n",
    "\\mathbf{R} = \\frac{\\mathbf{X}^T \\mathbf{X}}{\\sqrt{\\text{diag}(\\mathbf{X}^T \\mathbf{X}) \\cdot \\text{diag}(\\mathbf{X}^T \\mathbf{X})^T}}\n",
    "$$\n",
    "\n",
    "Where:\n",
    "- $\\text{diag}(\\mathbf{X}^T \\mathbf{X})$ is the diagonal of the covariance matrix, representing the variances of each variant.\n",
    "- The division normalizes the covariance matrix to produce the correlation matrix.\n"
   ]
  },
  {
   "cell_type": "markdown",
   "id": "4616bb9a-2f1e-4c35-975d-7ad5b0a91ea7",
   "metadata": {
    "jp-MarkdownHeadingCollapsed": true,
    "tags": []
   },
   "source": [
    "## LD Score\n",
    "\n",
    "The **LD score** is a measure of the extent to which a given variant is in linkage disequilibrium (LD) with other variants across the genome. It is used to summarize the amount of genetic information (in terms of LD) that a variant shares with all other variants in a region of interest. The LD score for a variant $j$ is defined as the sum of the squared correlation coefficients $r^2$ between that variant and all other variants in the genome, typically within a specified genomic window or region. Mathematically, the LD score for variant $j$ is given by:\n",
    "\n",
    "\\begin{equation*}\n",
    "\\text{LD Score}_j = \\sum_{k \\neq j} r_{j,k}^2\n",
    "\\end{equation*}\n",
    "\n",
    "where:\n",
    "\n",
    "- $r_{j,k}$ is the correlation coefficient between variants $j$ and $k$,\n",
    "- The sum is taken over all variants $k \\neq j$ in the region of interest.\n",
    "\n",
    "This score reflects how much a variant is correlated with other variants across the genome, providing insight into the local structure of LD around that variant.\n",
    "\n",
    "### Purpose of LD Score\n",
    "\n",
    "- **Genetic Association Studies**: LD scores are useful in genetic association studies to account for the correlations between variants when performing polygenic risk score (PRS) analysis or genome-wide association studies (GWAS).\n",
    "- **Controlling for Confounding**: In association studies, high LD between variants can lead to confounding effects, where the signal from a variant may be shared with other nearby variants. By using LD scores, researchers can assess the relative contribution of each variant and better control for LD when interpreting results.\n",
    "- **Estimating Heritability**: LD scores are used to estimate the heritability of complex traits by calculating how much of the genetic variation in a trait can be explained by LD between variants.\n",
    "\n",
    "### Interpretation\n",
    "\n",
    "- **High LD Score**: A variant with a high LD score indicates that it is in strong LD with many other variants in the genome, meaning it shares a substantial amount of genetic variation with neighboring variants.\n",
    "- **Low LD Score**: A variant with a low LD score indicates that it is not strongly correlated with many other variants, implying that it may have a unique genetic contribution or be in a region with low LD.\n",
    "\n",
    "In summary, the LD score is a way to quantify the genetic \"information content\" of a variant based on its correlations with surrounding variants, and it is used in the context of genetic studies to account for LD structure in the genome.\n"
   ]
  },
  {
   "cell_type": "markdown",
   "id": "f9c943b0-2af5-4e77-bdb0-2d7c2d0a82b3",
   "metadata": {},
   "source": [
    "# A case example"
   ]
  },
  {
   "cell_type": "code",
   "execution_count": 19,
   "id": "6946a943-0651-4af3-9e7c-33513411fd89",
   "metadata": {
    "tags": []
   },
   "outputs": [
    {
     "data": {
      "text/html": [
       "<table class=\"dataframe\">\n",
       "<caption>A matrix: 5 × 3 of type dbl</caption>\n",
       "<thead>\n",
       "\t<tr><th></th><th scope=col>Variant 1</th><th scope=col>Variant 2</th><th scope=col>Variant 3</th></tr>\n",
       "</thead>\n",
       "<tbody>\n",
       "\t<tr><th scope=row>Individual 1</th><td>0</td><td>1</td><td>1</td></tr>\n",
       "\t<tr><th scope=row>Individual 2</th><td>2</td><td>2</td><td>0</td></tr>\n",
       "\t<tr><th scope=row>Individual 3</th><td>1</td><td>1</td><td>1</td></tr>\n",
       "\t<tr><th scope=row>Individual 4</th><td>0</td><td>2</td><td>1</td></tr>\n",
       "\t<tr><th scope=row>Individual 5</th><td>0</td><td>0</td><td>2</td></tr>\n",
       "</tbody>\n",
       "</table>\n"
      ],
      "text/latex": [
       "A matrix: 5 × 3 of type dbl\n",
       "\\begin{tabular}{r|lll}\n",
       "  & Variant 1 & Variant 2 & Variant 3\\\\\n",
       "\\hline\n",
       "\tIndividual 1 & 0 & 1 & 1\\\\\n",
       "\tIndividual 2 & 2 & 2 & 0\\\\\n",
       "\tIndividual 3 & 1 & 1 & 1\\\\\n",
       "\tIndividual 4 & 0 & 2 & 1\\\\\n",
       "\tIndividual 5 & 0 & 0 & 2\\\\\n",
       "\\end{tabular}\n"
      ],
      "text/markdown": [
       "\n",
       "A matrix: 5 × 3 of type dbl\n",
       "\n",
       "| <!--/--> | Variant 1 | Variant 2 | Variant 3 |\n",
       "|---|---|---|---|\n",
       "| Individual 1 | 0 | 1 | 1 |\n",
       "| Individual 2 | 2 | 2 | 0 |\n",
       "| Individual 3 | 1 | 1 | 1 |\n",
       "| Individual 4 | 0 | 2 | 1 |\n",
       "| Individual 5 | 0 | 0 | 2 |\n",
       "\n"
      ],
      "text/plain": [
       "             Variant 1 Variant 2 Variant 3\n",
       "Individual 1 0         1         1        \n",
       "Individual 2 2         2         0        \n",
       "Individual 3 1         1         1        \n",
       "Individual 4 0         2         1        \n",
       "Individual 5 0         0         2        "
      ]
     },
     "metadata": {},
     "output_type": "display_data"
    }
   ],
   "source": [
    "rm(list=ls())\n",
    "# Genotype matrix for 5 individuals and 3 variants\n",
    "# Rows correspond to individuals, columns to variants\n",
    "N=5\n",
    "J=3\n",
    "genotypes <- matrix(c(0, 1, 1, 2, 2, 0, 1, 1, 1, 0, 2, 1, 0, 0, 2), \n",
    "                    nrow = N, ncol = J, byrow = TRUE)\n",
    "# genotypes <- matrix(sample(0:2, N*J, replace = TRUE), \n",
    "#                    nrow = N, ncol = J)\n",
    "# Adding row and column names\n",
    "rownames(genotypes) <- paste(\"Individual\", 1:N)\n",
    "colnames(genotypes) <- paste(\"Variant\", 1:J)\n",
    "genotypes"
   ]
  },
  {
   "cell_type": "code",
   "execution_count": 20,
   "id": "0c6cc35e-7c54-44d6-80e6-4f88b3950a5b",
   "metadata": {
    "tags": []
   },
   "outputs": [
    {
     "data": {
      "text/html": [
       "<table class=\"dataframe\">\n",
       "<caption>A matrix: 5 × 3 of type dbl</caption>\n",
       "<thead>\n",
       "\t<tr><th></th><th scope=col>Variant 1</th><th scope=col>Variant 2</th><th scope=col>Variant 3</th></tr>\n",
       "</thead>\n",
       "<tbody>\n",
       "\t<tr><th scope=row>Individual 1</th><td>-0.6708204</td><td>-0.2390457</td><td> 0.000000</td></tr>\n",
       "\t<tr><th scope=row>Individual 2</th><td> 1.5652476</td><td> 0.9561829</td><td>-1.414214</td></tr>\n",
       "\t<tr><th scope=row>Individual 3</th><td> 0.4472136</td><td>-0.2390457</td><td> 0.000000</td></tr>\n",
       "\t<tr><th scope=row>Individual 4</th><td>-0.6708204</td><td> 0.9561829</td><td> 0.000000</td></tr>\n",
       "\t<tr><th scope=row>Individual 5</th><td>-0.6708204</td><td>-1.4342743</td><td> 1.414214</td></tr>\n",
       "</tbody>\n",
       "</table>\n"
      ],
      "text/latex": [
       "A matrix: 5 × 3 of type dbl\n",
       "\\begin{tabular}{r|lll}\n",
       "  & Variant 1 & Variant 2 & Variant 3\\\\\n",
       "\\hline\n",
       "\tIndividual 1 & -0.6708204 & -0.2390457 &  0.000000\\\\\n",
       "\tIndividual 2 &  1.5652476 &  0.9561829 & -1.414214\\\\\n",
       "\tIndividual 3 &  0.4472136 & -0.2390457 &  0.000000\\\\\n",
       "\tIndividual 4 & -0.6708204 &  0.9561829 &  0.000000\\\\\n",
       "\tIndividual 5 & -0.6708204 & -1.4342743 &  1.414214\\\\\n",
       "\\end{tabular}\n"
      ],
      "text/markdown": [
       "\n",
       "A matrix: 5 × 3 of type dbl\n",
       "\n",
       "| <!--/--> | Variant 1 | Variant 2 | Variant 3 |\n",
       "|---|---|---|---|\n",
       "| Individual 1 | -0.6708204 | -0.2390457 |  0.000000 |\n",
       "| Individual 2 |  1.5652476 |  0.9561829 | -1.414214 |\n",
       "| Individual 3 |  0.4472136 | -0.2390457 |  0.000000 |\n",
       "| Individual 4 | -0.6708204 |  0.9561829 |  0.000000 |\n",
       "| Individual 5 | -0.6708204 | -1.4342743 |  1.414214 |\n",
       "\n"
      ],
      "text/plain": [
       "             Variant 1  Variant 2  Variant 3\n",
       "Individual 1 -0.6708204 -0.2390457  0.000000\n",
       "Individual 2  1.5652476  0.9561829 -1.414214\n",
       "Individual 3  0.4472136 -0.2390457  0.000000\n",
       "Individual 4 -0.6708204  0.9561829  0.000000\n",
       "Individual 5 -0.6708204 -1.4342743  1.414214"
      ]
     },
     "metadata": {},
     "output_type": "display_data"
    }
   ],
   "source": [
    "X <- scale(genotypes, center = TRUE, scale = TRUE)\n",
    "X"
   ]
  },
  {
   "cell_type": "code",
   "execution_count": 21,
   "id": "0de92b3e-1233-4298-9e10-711a3224bc7f",
   "metadata": {
    "tags": []
   },
   "outputs": [
    {
     "data": {
      "text/html": [
       "<table class=\"dataframe\">\n",
       "<caption>A matrix: 3 × 3 of type dbl</caption>\n",
       "<tbody>\n",
       "\t<tr><td>1.00000</td><td>0.2187500</td><td>0.6250000</td></tr>\n",
       "\t<tr><td>0.21875</td><td>1.0000000</td><td>0.7142857</td></tr>\n",
       "\t<tr><td>0.62500</td><td>0.7142857</td><td>1.0000000</td></tr>\n",
       "</tbody>\n",
       "</table>\n"
      ],
      "text/latex": [
       "A matrix: 3 × 3 of type dbl\n",
       "\\begin{tabular}{lll}\n",
       "\t 1.00000 & 0.2187500 & 0.6250000\\\\\n",
       "\t 0.21875 & 1.0000000 & 0.7142857\\\\\n",
       "\t 0.62500 & 0.7142857 & 1.0000000\\\\\n",
       "\\end{tabular}\n"
      ],
      "text/markdown": [
       "\n",
       "A matrix: 3 × 3 of type dbl\n",
       "\n",
       "| 1.00000 | 0.2187500 | 0.6250000 |\n",
       "| 0.21875 | 1.0000000 | 0.7142857 |\n",
       "| 0.62500 | 0.7142857 | 1.0000000 |\n",
       "\n"
      ],
      "text/plain": [
       "     [,1]    [,2]      [,3]     \n",
       "[1,] 1.00000 0.2187500 0.6250000\n",
       "[2,] 0.21875 1.0000000 0.7142857\n",
       "[3,] 0.62500 0.7142857 1.0000000"
      ]
     },
     "metadata": {},
     "output_type": "display_data"
    }
   ],
   "source": [
    "calculate_ld <- function(X) {\n",
    "  M <- ncol(X)\n",
    "  ld_matrix <- matrix(NA, nrow = M, ncol = M)\n",
    "  for (j in 1:M) {\n",
    "    for (k in 1:M) {\n",
    "      if (j == k) {\n",
    "        ld_matrix[j, k] <- 1  # r^2 of a variant with itself is 1\n",
    "      } else {\n",
    "        r_jk <- cor(X[, j], X[, k])  # Calculate correlation\n",
    "        ld_matrix[j, k] <- r_jk^2    # Store r^2 (LD)\n",
    "      }\n",
    "    }\n",
    "  }\n",
    "  return(ld_matrix)\n",
    "}\n",
    "\n",
    "\n",
    "ld_matrix <- calculate_ld(X)\n",
    "ld_matrix"
   ]
  },
  {
   "cell_type": "code",
   "execution_count": 22,
   "id": "3b09576e-4e1a-4311-a5d2-ba414359d748",
   "metadata": {
    "tags": []
   },
   "outputs": [
    {
     "data": {
      "text/html": [
       "<style>\n",
       ".list-inline {list-style: none; margin:0; padding: 0}\n",
       ".list-inline>li {display: inline-block}\n",
       ".list-inline>li:not(:last-child)::after {content: \"\\00b7\"; padding: 0 .5ex}\n",
       "</style>\n",
       "<ol class=list-inline><li>1.84375</li><li>1.93303571428571</li><li>2.33928571428571</li></ol>\n"
      ],
      "text/latex": [
       "\\begin{enumerate*}\n",
       "\\item 1.84375\n",
       "\\item 1.93303571428571\n",
       "\\item 2.33928571428571\n",
       "\\end{enumerate*}\n"
      ],
      "text/markdown": [
       "1. 1.84375\n",
       "2. 1.93303571428571\n",
       "3. 2.33928571428571\n",
       "\n",
       "\n"
      ],
      "text/plain": [
       "[1] 1.843750 1.933036 2.339286"
      ]
     },
     "metadata": {},
     "output_type": "display_data"
    }
   ],
   "source": [
    "calculate_ld_scores <- function(ld_matrix) {\n",
    "  apply(ld_matrix, 1, sum)  # Sum across rows to get LD scores\n",
    "}\n",
    "\n",
    "# Compute the LD matrix\n",
    "ld_matrix <- calculate_ld(X)\n",
    "\n",
    "# Compute LD scores\n",
    "ld_scores <- calculate_ld_scores(ld_matrix)\n",
    "ld_scores\n"
   ]
  },
  {
   "cell_type": "markdown",
   "id": "d84a9592-d683-4313-b0bd-49209f8b0ad1",
   "metadata": {},
   "source": [
    "The second and third variants are in relatively higher LD (0.714) compared to the LD between other variants, leading to a higher LD score."
   ]
  },
  {
   "cell_type": "markdown",
   "id": "b77d63f8-faf8-4e61-a65d-4d1c8b255d11",
   "metadata": {},
   "source": [
    "# TODO\n",
    "\n",
    "- [ ] double check details of normalization and everything \n",
    "- [ ] check with Gao to see if we want to say how normalization is performed\n",
    "- [ ] in literatures, we use $r$ instead of $r^2$ to represent LD (find ref)\n",
    "- [ ] LD score interpretation too long."
   ]
  },
  {
   "cell_type": "code",
   "execution_count": null,
   "id": "f48cf4a2-f312-47a9-bcd0-60a2362d63de",
   "metadata": {},
   "outputs": [],
   "source": []
  }
 ],
 "metadata": {
  "kernelspec": {
   "display_name": "R",
   "language": "R",
   "name": "ir"
  },
  "language_info": {
   "codemirror_mode": "r",
   "file_extension": ".r",
   "mimetype": "text/x-r-source",
   "name": "R",
   "pygments_lexer": "r",
   "version": "4.4.2"
  },
  "toc-autonumbering": true
 },
 "nbformat": 4,
 "nbformat_minor": 5
}
