{
 "cells": [
  {
   "cell_type": "markdown",
   "id": "8f236fb0-1586-463a-b400-24fb893c5292",
   "metadata": {},
   "source": [
    "# Summary\n",
    "\n",
    "This notebook introduces the basic concepts in statistical genetics, including:\n",
    "\n",
    "- LD, LD score"
   ]
  },
  {
   "cell_type": "markdown",
   "id": "a57f18c6-62b2-4303-9dbb-5fca8a6e19fc",
   "metadata": {},
   "source": [
    "# Intuition"
   ]
  },
  {
   "cell_type": "markdown",
   "id": "455bcc50",
   "metadata": {},
   "source": [
    "![Figure 1_2](https://github.com/gaow/statgen-prerequisites/raw/main/cartoons/1_2.svg)\n",
    "\n"
   ]
  },
  {
   "cell_type": "markdown",
   "id": "c368a384-d362-42cb-9223-fc13269d0e05",
   "metadata": {},
   "source": [
    "# Notations"
   ]
  },
  {
   "cell_type": "markdown",
   "id": "2e82e3bd-5151-4d21-a037-d051d990b259",
   "metadata": {
    "tags": []
   },
   "source": [
    "## Linkage Disequilibrium (LD)\n",
    "\n",
    "Linkage Disequilibrium (LD) refers to the non-random association of alleles at two or more loci. In a population, if two variants (or loci) are in LD, their allele combinations occur **more or less frequently than expected** based on their individual allele frequencies. In short words, LD describes the **sharing of certain combination of variants**.\n",
    "\n",
    "Given the scaled genotype matrix $\\mathbf{X}$, the LD matrix can be computed as :\n",
    "$$\n",
    "\\mathbf{R} = \\frac{\\mathbf{X}^T \\mathbf{X}}{N}\n",
    "$$\n",
    "\n",
    "where:\n",
    "\n",
    "- $\\mathbf{X}$ is the centered genotype matrix.\n",
    "- $N$ is the number of individuals.\n",
    "\n",
    "When $\\mathbf{X}$ is scaled, the covariance matrix is the same as correlation matrix."
   ]
  },
  {
   "cell_type": "markdown",
   "id": "4616bb9a-2f1e-4c35-975d-7ad5b0a91ea7",
   "metadata": {
    "jp-MarkdownHeadingCollapsed": true,
    "tags": []
   },
   "source": [
    "## LD Score\n",
    "\n",
    "The **LD score** is a measure of the extent to which a given variant is in linkage disequilibrium (LD) with other variants across the genome. It is used to summarize the amount of genetic information (in terms of LD) that a variant shares with all other variants in a region of interest. The LD score for a variant $j$ is defined as the sum of the squared correlation coefficients $r^2$ between that variant and all other variants in the genome, typically within a specified genomic window or region. Mathematically, the LD score for variant $j$ is given by:\n",
    "\n",
    "$$\n",
    "l_j = \\sum_{k=1, k \\neq j}^Mcor^2(\\textbf{X}_j, \\textbf{X}_k)\n",
    "$$\n",
    "\n",
    "Since $\\textbf{X}$ is standardized, we can just calculate the sum of the squared sample correlations like this:\n",
    "\n",
    "$$\\widetilde{l}_{j} = \\frac{1}{N^2}\\textbf{X}^\\top_j\\textbf{X}\\textbf{X}^\\top\\textbf{X}_j$$\n",
    "However, this is not an unbiased estimate. We can correct for the bias like this:\n",
    "\n",
    "$$l_j = \\frac{\\widetilde{l}_{j} N - M}{N + 1}$$\n",
    "\n",
    "\n",
    "This score reflects how much a variant is correlated with other variants across the genome, providing insight into the local structure of LD around that variant.\n",
    "\n"
   ]
  },
  {
   "cell_type": "markdown",
   "id": "f9c943b0-2af5-4e77-bdb0-2d7c2d0a82b3",
   "metadata": {},
   "source": [
    "# Example"
   ]
  },
  {
   "cell_type": "code",
   "execution_count": 1,
   "id": "6946a943-0651-4af3-9e7c-33513411fd89",
   "metadata": {
    "tags": [],
    "vscode": {
     "languageId": "r"
    }
   },
   "outputs": [
    {
     "data": {
      "text/html": [
       "<table class=\"dataframe\">\n",
       "<caption>A matrix: 5 x 3 of type dbl</caption>\n",
       "<thead>\n",
       "\t<tr><th></th><th scope=col>Variant 1</th><th scope=col>Variant 2</th><th scope=col>Variant 3</th></tr>\n",
       "</thead>\n",
       "<tbody>\n",
       "\t<tr><th scope=row>Individual 1</th><td>0</td><td>1</td><td>1</td></tr>\n",
       "\t<tr><th scope=row>Individual 2</th><td>2</td><td>2</td><td>0</td></tr>\n",
       "\t<tr><th scope=row>Individual 3</th><td>1</td><td>1</td><td>1</td></tr>\n",
       "\t<tr><th scope=row>Individual 4</th><td>0</td><td>2</td><td>1</td></tr>\n",
       "\t<tr><th scope=row>Individual 5</th><td>0</td><td>0</td><td>2</td></tr>\n",
       "</tbody>\n",
       "</table>\n"
      ],
      "text/latex": [
       "A matrix: 5 x 3 of type dbl\n",
       "\\begin{tabular}{r|lll}\n",
       "  & Variant 1 & Variant 2 & Variant 3\\\\\n",
       "\\hline\n",
       "\tIndividual 1 & 0 & 1 & 1\\\\\n",
       "\tIndividual 2 & 2 & 2 & 0\\\\\n",
       "\tIndividual 3 & 1 & 1 & 1\\\\\n",
       "\tIndividual 4 & 0 & 2 & 1\\\\\n",
       "\tIndividual 5 & 0 & 0 & 2\\\\\n",
       "\\end{tabular}\n"
      ],
      "text/markdown": [
       "\n",
       "A matrix: 5 x 3 of type dbl\n",
       "\n",
       "| <!--/--> | Variant 1 | Variant 2 | Variant 3 |\n",
       "|---|---|---|---|\n",
       "| Individual 1 | 0 | 1 | 1 |\n",
       "| Individual 2 | 2 | 2 | 0 |\n",
       "| Individual 3 | 1 | 1 | 1 |\n",
       "| Individual 4 | 0 | 2 | 1 |\n",
       "| Individual 5 | 0 | 0 | 2 |\n",
       "\n"
      ],
      "text/plain": [
       "             Variant 1 Variant 2 Variant 3\n",
       "Individual 1 0         1         1        \n",
       "Individual 2 2         2         0        \n",
       "Individual 3 1         1         1        \n",
       "Individual 4 0         2         1        \n",
       "Individual 5 0         0         2        "
      ]
     },
     "metadata": {},
     "output_type": "display_data"
    }
   ],
   "source": [
    "rm(list=ls())\n",
    "# Genotype matrix for 5 individuals and 2 variants\n",
    "# Rows correspond to individuals, columns to variants\n",
    "N=5\n",
    "M=3\n",
    "X_raw <- matrix(c(0, 1, 1, 2, 2, 0, 1, 1, 1, 0, 2, 1, 0, 0, 2), \n",
    "                    nrow = N, ncol = M, byrow = TRUE)\n",
    "# Adding row and column names\n",
    "rownames(X_raw) <- paste(\"Individual\", 1:N)\n",
    "colnames(X_raw) <- paste(\"Variant\", 1:M)\n",
    "X_raw"
   ]
  },
  {
   "cell_type": "code",
   "execution_count": 2,
   "id": "0c6cc35e-7c54-44d6-80e6-4f88b3950a5b",
   "metadata": {
    "tags": [],
    "vscode": {
     "languageId": "r"
    }
   },
   "outputs": [
    {
     "data": {
      "text/html": [
       "<table class=\"dataframe\">\n",
       "<caption>A matrix: 5 x 3 of type dbl</caption>\n",
       "<thead>\n",
       "\t<tr><th></th><th scope=col>Variant 1</th><th scope=col>Variant 2</th><th scope=col>Variant 3</th></tr>\n",
       "</thead>\n",
       "<tbody>\n",
       "\t<tr><th scope=row>Individual 1</th><td>-0.6708204</td><td>-0.2390457</td><td> 0.000000</td></tr>\n",
       "\t<tr><th scope=row>Individual 2</th><td> 1.5652476</td><td> 0.9561829</td><td>-1.414214</td></tr>\n",
       "\t<tr><th scope=row>Individual 3</th><td> 0.4472136</td><td>-0.2390457</td><td> 0.000000</td></tr>\n",
       "\t<tr><th scope=row>Individual 4</th><td>-0.6708204</td><td> 0.9561829</td><td> 0.000000</td></tr>\n",
       "\t<tr><th scope=row>Individual 5</th><td>-0.6708204</td><td>-1.4342743</td><td> 1.414214</td></tr>\n",
       "</tbody>\n",
       "</table>\n"
      ],
      "text/latex": [
       "A matrix: 5 x 3 of type dbl\n",
       "\\begin{tabular}{r|lll}\n",
       "  & Variant 1 & Variant 2 & Variant 3\\\\\n",
       "\\hline\n",
       "\tIndividual 1 & -0.6708204 & -0.2390457 &  0.000000\\\\\n",
       "\tIndividual 2 &  1.5652476 &  0.9561829 & -1.414214\\\\\n",
       "\tIndividual 3 &  0.4472136 & -0.2390457 &  0.000000\\\\\n",
       "\tIndividual 4 & -0.6708204 &  0.9561829 &  0.000000\\\\\n",
       "\tIndividual 5 & -0.6708204 & -1.4342743 &  1.414214\\\\\n",
       "\\end{tabular}\n"
      ],
      "text/markdown": [
       "\n",
       "A matrix: 5 x 3 of type dbl\n",
       "\n",
       "| <!--/--> | Variant 1 | Variant 2 | Variant 3 |\n",
       "|---|---|---|---|\n",
       "| Individual 1 | -0.6708204 | -0.2390457 |  0.000000 |\n",
       "| Individual 2 |  1.5652476 |  0.9561829 | -1.414214 |\n",
       "| Individual 3 |  0.4472136 | -0.2390457 |  0.000000 |\n",
       "| Individual 4 | -0.6708204 |  0.9561829 |  0.000000 |\n",
       "| Individual 5 | -0.6708204 | -1.4342743 |  1.414214 |\n",
       "\n"
      ],
      "text/plain": [
       "             Variant 1  Variant 2  Variant 3\n",
       "Individual 1 -0.6708204 -0.2390457  0.000000\n",
       "Individual 2  1.5652476  0.9561829 -1.414214\n",
       "Individual 3  0.4472136 -0.2390457  0.000000\n",
       "Individual 4 -0.6708204  0.9561829  0.000000\n",
       "Individual 5 -0.6708204 -1.4342743  1.414214"
      ]
     },
     "metadata": {},
     "output_type": "display_data"
    }
   ],
   "source": [
    "# standardize genotype matrix\n",
    "X = scale(X_raw, scale=TRUE)\n",
    "X"
   ]
  },
  {
   "cell_type": "markdown",
   "id": "2cf118d8-5326-4f0e-a050-6748251595cf",
   "metadata": {},
   "source": [
    "## Calculate LD matrix"
   ]
  },
  {
   "cell_type": "code",
   "execution_count": 3,
   "id": "3921b512-bea3-4ff0-bca2-e9853ef13dd2",
   "metadata": {
    "tags": [],
    "vscode": {
     "languageId": "r"
    }
   },
   "outputs": [
    {
     "data": {
      "text/html": [
       "<table class=\"dataframe\">\n",
       "<caption>A matrix: 3 x 3 of type dbl</caption>\n",
       "<thead>\n",
       "\t<tr><th></th><th scope=col>Variant 1</th><th scope=col>Variant 2</th><th scope=col>Variant 3</th></tr>\n",
       "</thead>\n",
       "<tbody>\n",
       "\t<tr><th scope=row>Variant 1</th><td> 1.0000000</td><td> 0.4677072</td><td>-0.7905694</td></tr>\n",
       "\t<tr><th scope=row>Variant 2</th><td> 0.4677072</td><td> 1.0000000</td><td>-0.8451543</td></tr>\n",
       "\t<tr><th scope=row>Variant 3</th><td>-0.7905694</td><td>-0.8451543</td><td> 1.0000000</td></tr>\n",
       "</tbody>\n",
       "</table>\n"
      ],
      "text/latex": [
       "A matrix: 3 x 3 of type dbl\n",
       "\\begin{tabular}{r|lll}\n",
       "  & Variant 1 & Variant 2 & Variant 3\\\\\n",
       "\\hline\n",
       "\tVariant 1 &  1.0000000 &  0.4677072 & -0.7905694\\\\\n",
       "\tVariant 2 &  0.4677072 &  1.0000000 & -0.8451543\\\\\n",
       "\tVariant 3 & -0.7905694 & -0.8451543 &  1.0000000\\\\\n",
       "\\end{tabular}\n"
      ],
      "text/markdown": [
       "\n",
       "A matrix: 3 x 3 of type dbl\n",
       "\n",
       "| <!--/--> | Variant 1 | Variant 2 | Variant 3 |\n",
       "|---|---|---|---|\n",
       "| Variant 1 |  1.0000000 |  0.4677072 | -0.7905694 |\n",
       "| Variant 2 |  0.4677072 |  1.0000000 | -0.8451543 |\n",
       "| Variant 3 | -0.7905694 | -0.8451543 |  1.0000000 |\n",
       "\n"
      ],
      "text/plain": [
       "          Variant 1  Variant 2  Variant 3 \n",
       "Variant 1  1.0000000  0.4677072 -0.7905694\n",
       "Variant 2  0.4677072  1.0000000 -0.8451543\n",
       "Variant 3 -0.7905694 -0.8451543  1.0000000"
      ]
     },
     "metadata": {},
     "output_type": "display_data"
    }
   ],
   "source": [
    "LD = cor(X)\n",
    "LD"
   ]
  },
  {
   "cell_type": "markdown",
   "id": "5eeb215b-fe53-4cc7-b19c-e15b799b19e1",
   "metadata": {},
   "source": [
    "## Calculate LD scores"
   ]
  },
  {
   "cell_type": "code",
   "execution_count": 4,
   "id": "5bec4bca-7a33-4a30-8d2d-d7c948c59daa",
   "metadata": {
    "tags": [],
    "vscode": {
     "languageId": "r"
    }
   },
   "outputs": [
    {
     "data": {
      "text/html": [
       "<style>\n",
       ".dl-inline {width: auto; margin:0; padding: 0}\n",
       ".dl-inline>dt, .dl-inline>dd {float: none; width: auto; display: inline-block}\n",
       ".dl-inline>dt::after {content: \":\\0020\"; padding-right: .5ex}\n",
       ".dl-inline>dt:not(:first-of-type) {padding-left: .5ex}\n",
       "</style><dl class=dl-inline><dt>Variant 1</dt><dd>0.203125</dd><dt>Variant 2</dt><dd>0.277529761904762</dd><dt>Variant 3</dt><dd>0.616071428571429</dd></dl>\n"
      ],
      "text/latex": [
       "\\begin{description*}\n",
       "\\item[Variant 1] 0.203125\n",
       "\\item[Variant 2] 0.277529761904762\n",
       "\\item[Variant 3] 0.616071428571429\n",
       "\\end{description*}\n"
      ],
      "text/markdown": [
       "Variant 1\n",
       ":   0.203125Variant 2\n",
       ":   0.277529761904762Variant 3\n",
       ":   0.616071428571429\n",
       "\n"
      ],
      "text/plain": [
       "Variant 1 Variant 2 Variant 3 \n",
       "0.2031250 0.2775298 0.6160714 "
      ]
     },
     "metadata": {},
     "output_type": "display_data"
    }
   ],
   "source": [
    "# Calculate the squared correlation matrix (LD matrix)\n",
    "LD_squared <- LD^2  # Element-wise square to get r^2\n",
    "\n",
    "# Calculate the LD score for each variant\n",
    "# Sum the squared correlations in each column (excluding diagonal)\n",
    "ld_scores_raw <- colSums(LD_squared) - diag(LD_squared)\n",
    "# Bias correction\n",
    "ld_scores_corrected <- ((ld_scores_raw * N) - M) / (N + 1)\n",
    "\n",
    "# Print the corrected LD scores\n",
    "ld_scores_corrected"
   ]
  },
  {
   "cell_type": "markdown",
   "id": "d84a9592-d683-4313-b0bd-49209f8b0ad1",
   "metadata": {},
   "source": [
    "The third variant is in high LD with the first two variants, leading to a higher LD score."
   ]
  },
  {
   "cell_type": "markdown",
   "id": "b77d63f8-faf8-4e61-a65d-4d1c8b255d11",
   "metadata": {},
   "source": [
    "# Supplementary"
   ]
  },
  {
   "cell_type": "markdown",
   "id": "b85e1eb4-2d14-447d-9ff5-9e17f554e70f",
   "metadata": {},
   "source": [
    "\n",
    "### Ref\n",
    "> LDSC: slide 110-117 from Xin HE\n",
    ">\n",
    "> LDSC: slide 82-84 from GW\n",
    "> \n",
    "> slide 48-50 from GW\n",
    "\n",
    "\n",
    "### Purpose of LD Score\n",
    "\n",
    "- **Genetic Association Studies**: LD scores are useful in genetic association studies to account for the correlations between variants when performing polygenic risk score (PRS) analysis or genome-wide association studies (GWAS).\n",
    "- **Controlling for Confounding**: In association studies, high LD between variants can lead to confounding effects, where the signal from a variant may be shared with other nearby variants. By using LD scores, researchers can assess the relative contribution of each variant and better control for LD when interpreting results.\n",
    "- **Estimating Heritability**: LD scores are used to estimate the heritability of complex traits by calculating how much of the genetic variation in a trait can be explained by LD between variants.\n",
    "\n",
    "### Interpretation\n",
    "\n",
    "- **High LD Score**: A variant with a high LD score indicates that it is in strong LD with many other variants in the genome, meaning it shares a substantial amount of genetic variation with neighboring variants.\n",
    "- **Low LD Score**: A variant with a low LD score indicates that it is not strongly correlated with many other variants, implying that it may have a unique genetic contribution or be in a region with low LD.\n",
    "\n",
    "In summary, the LD score is a way to quantify the genetic \"information content\" of a variant based on its correlations with surrounding variants, and it is used in the context of genetic studies to account for LD structure in the genome.\n"
   ]
  },
  {
   "cell_type": "markdown",
   "id": "5b1277a7",
   "metadata": {},
   "source": [
    "<svg viewBox=\"0 0 800 600\" xmlns=\"http://www.w3.org/2000/svg\">\n",
    "  <!-- Background -->\n",
    "  <rect x=\"0\" y=\"0\" width=\"800\" height=\"600\" fill=\"#f8f9fa\" />\n",
    "  \n",
    "  <!-- Title -->\n",
    "  <text x=\"400\" y=\"30\" font-family=\"Arial\" font-size=\"22\" font-weight=\"bold\" text-anchor=\"middle\">Linkage Disequilibrium (LD) and LD Score</text>\n",
    "  \n",
    "  <!-- LD Concept Section -->\n",
    "  <rect x=\"40\" y=\"50\" width=\"720\" height=\"200\" fill=\"#e3f2fd\" stroke=\"#2196f3\" stroke-width=\"2\" rx=\"5\" />\n",
    "  <text x=\"400\" y=\"75\" font-family=\"Arial\" font-size=\"18\" font-weight=\"bold\" text-anchor=\"middle\">Linkage Disequilibrium (LD)</text>\n",
    "  \n",
    "  <!-- LD Definition -->\n",
    "  <text x=\"60\" y=\"100\" font-family=\"Arial\" font-size=\"14\">Non-random association of alleles at different loci</text>\n",
    "  \n",
    "  <!-- Genome visualization -->\n",
    "  <g transform=\"translate(150, 125)\">\n",
    "    <!-- Chromosome representation -->\n",
    "    <rect x=\"0\" y=\"0\" width=\"500\" height=\"30\" fill=\"#c5cae9\" stroke=\"#3f51b5\" stroke-width=\"1\" rx=\"5\" />\n",
    "    \n",
    "    <!-- SNP positions -->\n",
    "    <line x1=\"50\" y1=\"35\" x2=\"50\" y2=\"55\" stroke=\"#1976d2\" stroke-width=\"1.5\" />\n",
    "    <line x1=\"100\" y1=\"35\" x2=\"100\" y2=\"55\" stroke=\"#1976d2\" stroke-width=\"1.5\" />\n",
    "    <line x1=\"250\" y1=\"35\" x2=\"250\" y2=\"55\" stroke=\"#e91e63\" stroke-width=\"1.5\" />\n",
    "    <line x1=\"350\" y1=\"35\" x2=\"350\" y2=\"55\" stroke=\"#e91e63\" stroke-width=\"1.5\" />\n",
    "    <line x1=\"450\" y1=\"35\" x2=\"450\" y2=\"55\" stroke=\"#e91e63\" stroke-width=\"1.5\" />\n",
    "    \n",
    "    <!-- SNP labels -->\n",
    "    <text x=\"50\" y=\"20\" font-family=\"Arial\" font-size=\"14\" text-anchor=\"middle\">SNP₁</text>\n",
    "    <text x=\"100\" y=\"20\" font-family=\"Arial\" font-size=\"14\" text-anchor=\"middle\">SNP₂</text>\n",
    "    <text x=\"250\" y=\"20\" font-family=\"Arial\" font-size=\"14\" text-anchor=\"middle\">SNP₃</text>\n",
    "    <text x=\"350\" y=\"20\" font-family=\"Arial\" font-size=\"14\" text-anchor=\"middle\">SNP₄</text>\n",
    "    <text x=\"450\" y=\"20\" font-family=\"Arial\" font-size=\"14\" text-anchor=\"middle\">SNP₅</text>\n",
    "    \n",
    "    <!-- LD blocks visualization -->\n",
    "    <rect x=\"25\" y=\"60\" width=\"100\" height=\"25\" fill=\"#1976d2\" fill-opacity=\"0.3\" stroke=\"#1976d2\" stroke-width=\"2\" rx=\"5\" />\n",
    "    <rect x=\"225\" y=\"60\" width=\"250\" height=\"25\" fill=\"#e91e63\" fill-opacity=\"0.3\" stroke=\"#e91e63\" stroke-width=\"2\" rx=\"5\" />\n",
    "    \n",
    "    <!-- Block labels -->\n",
    "    <text x=\"75\" y=\"80\" font-family=\"Arial\" font-size=\"14\" text-anchor=\"middle\" fill=\"#1976d2\">LD Block 1</text>\n",
    "    <text x=\"350\" y=\"80\" font-family=\"Arial\" font-size=\"14\" text-anchor=\"middle\" fill=\"#e91e63\">LD Block 2</text>\n",
    "    \n",
    "    <!-- Description -->\n",
    "    <text x=\"250\" y=\"115\" font-family=\"Arial\" font-size=\"14\" text-anchor=\"middle\">SNPs within the same LD block are inherited together more often than expected by chance</text>\n",
    "  </g>\n",
    "  \n",
    "  <!-- LD Matrix Section -->\n",
    "  <rect x=\"40\" y=\"260\" width=\"360\" height=\"320\" fill=\"#e8eaf6\" stroke=\"#3f51b5\" stroke-width=\"2\" rx=\"5\" />\n",
    "  <text x=\"220\" y=\"285\" font-family=\"Arial\" font-size=\"16\" font-weight=\"bold\" text-anchor=\"middle\">LD Matrix (R = X^T X / N)</text>\n",
    "  \n",
    "  <!-- LD Matrix Visual with clear block structure -->\n",
    "  <g transform=\"translate(100, 310)\">\n",
    "    <rect x=\"0\" y=\"0\" width=\"240\" height=\"240\" fill=\"white\" stroke=\"#3f51b5\" stroke-width=\"1\" />\n",
    "    \n",
    "    <!-- Matrix Headers -->\n",
    "    <text x=\"24\" y=\"-10\" font-family=\"Arial\" font-size=\"12\" text-anchor=\"middle\">SNP₁</text>\n",
    "    <text x=\"72\" y=\"-10\" font-family=\"Arial\" font-size=\"12\" text-anchor=\"middle\">SNP₂</text>\n",
    "    <text x=\"120\" y=\"-10\" font-family=\"Arial\" font-size=\"12\" text-anchor=\"middle\">SNP₃</text>\n",
    "    <text x=\"168\" y=\"-10\" font-family=\"Arial\" font-size=\"12\" text-anchor=\"middle\">SNP₄</text>\n",
    "    <text x=\"216\" y=\"-10\" font-family=\"Arial\" font-size=\"12\" text-anchor=\"middle\">SNP₅</text>\n",
    "    \n",
    "    <text x=\"-10\" y=\"24\" font-family=\"Arial\" font-size=\"12\" text-anchor=\"end\">SNP₁</text>\n",
    "    <text x=\"-10\" y=\"72\" font-family=\"Arial\" font-size=\"12\" text-anchor=\"end\">SNP₂</text>\n",
    "    <text x=\"-10\" y=\"120\" font-family=\"Arial\" font-size=\"12\" text-anchor=\"end\">SNP₃</text>\n",
    "    <text x=\"-10\" y=\"168\" font-family=\"Arial\" font-size=\"12\" text-anchor=\"end\">SNP₄</text>\n",
    "    <text x=\"-10\" y=\"216\" font-family=\"Arial\" font-size=\"12\" text-anchor=\"end\">SNP₅</text>\n",
    "    \n",
    "    <!-- Grid Lines -->\n",
    "    <line x1=\"0\" y1=\"48\" x2=\"240\" y2=\"48\" stroke=\"#999\" stroke-width=\"1\" />\n",
    "    <line x1=\"0\" y1=\"96\" x2=\"240\" y2=\"96\" stroke=\"#999\" stroke-width=\"1.5\" stroke-dasharray=\"5,2\" />\n",
    "    <line x1=\"0\" y1=\"144\" x2=\"240\" y2=\"144\" stroke=\"#999\" stroke-width=\"1\" />\n",
    "    <line x1=\"0\" y1=\"192\" x2=\"240\" y2=\"192\" stroke=\"#999\" stroke-width=\"1\" />\n",
    "    \n",
    "    <line x1=\"48\" y1=\"0\" x2=\"48\" y2=\"240\" stroke=\"#999\" stroke-width=\"1\" />\n",
    "    <line x1=\"96\" y1=\"0\" x2=\"96\" y2=\"240\" stroke=\"#999\" stroke-width=\"1.5\" stroke-dasharray=\"5,2\" />\n",
    "    <line x1=\"144\" y1=\"0\" x2=\"144\" y2=\"240\" stroke=\"#999\" stroke-width=\"1\" />\n",
    "    <line x1=\"192\" y1=\"0\" x2=\"192\" y2=\"240\" stroke=\"#999\" stroke-width=\"1\" />\n",
    "    \n",
    "    <!-- Matrix Values with Color Intensity showing clear LD block structure -->\n",
    "    <!-- Block 1: SNP 1-2 strong LD -->\n",
    "    <rect x=\"0\" y=\"0\" width=\"48\" height=\"48\" fill=\"#3f51b5\" fill-opacity=\"1.0\" />\n",
    "    <rect x=\"48\" y=\"0\" width=\"48\" height=\"48\" fill=\"#3f51b5\" fill-opacity=\"0.8\" />\n",
    "    <rect x=\"0\" y=\"48\" width=\"48\" height=\"48\" fill=\"#3f51b5\" fill-opacity=\"0.8\" />\n",
    "    <rect x=\"48\" y=\"48\" width=\"48\" height=\"48\" fill=\"#3f51b5\" fill-opacity=\"1.0\" />\n",
    "    \n",
    "    <!-- Block 2: SNP 3-5 strong LD -->\n",
    "    <rect x=\"96\" y=\"96\" width=\"48\" height=\"48\" fill=\"#e91e63\" fill-opacity=\"1.0\" />\n",
    "    <rect x=\"144\" y=\"96\" width=\"48\" height=\"48\" fill=\"#e91e63\" fill-opacity=\"0.8\" />\n",
    "    <rect x=\"192\" y=\"96\" width=\"48\" height=\"48\" fill=\"#e91e63\" fill-opacity=\"0.7\" />\n",
    "    <rect x=\"96\" y=\"144\" width=\"48\" height=\"48\" fill=\"#e91e63\" fill-opacity=\"0.8\" />\n",
    "    <rect x=\"144\" y=\"144\" width=\"48\" height=\"48\" fill=\"#e91e63\" fill-opacity=\"1.0\" />\n",
    "    <rect x=\"192\" y=\"144\" width=\"48\" height=\"48\" fill=\"#e91e63\" fill-opacity=\"0.8\" />\n",
    "    <rect x=\"96\" y=\"192\" width=\"48\" height=\"48\" fill=\"#e91e63\" fill-opacity=\"0.7\" />\n",
    "    <rect x=\"144\" y=\"192\" width=\"48\" height=\"48\" fill=\"#e91e63\" fill-opacity=\"0.8\" />\n",
    "    <rect x=\"192\" y=\"192\" width=\"48\" height=\"48\" fill=\"#e91e63\" fill-opacity=\"1.0\" />\n",
    "    \n",
    "    <!-- Low correlation between blocks -->\n",
    "    <rect x=\"0\" y=\"96\" width=\"48\" height=\"48\" fill=\"#bdbdbd\" fill-opacity=\"0.2\" />\n",
    "    <rect x=\"0\" y=\"144\" width=\"48\" height=\"48\" fill=\"#bdbdbd\" fill-opacity=\"0.2\" />\n",
    "    <rect x=\"0\" y=\"192\" width=\"48\" height=\"48\" fill=\"#bdbdbd\" fill-opacity=\"0.2\" />\n",
    "    <rect x=\"48\" y=\"96\" width=\"48\" height=\"48\" fill=\"#bdbdbd\" fill-opacity=\"0.2\" />\n",
    "    <rect x=\"48\" y=\"144\" width=\"48\" height=\"48\" fill=\"#bdbdbd\" fill-opacity=\"0.2\" />\n",
    "    <rect x=\"48\" y=\"192\" width=\"48\" height=\"48\" fill=\"#bdbdbd\" fill-opacity=\"0.2\" />\n",
    "    <rect x=\"96\" y=\"0\" width=\"48\" height=\"48\" fill=\"#bdbdbd\" fill-opacity=\"0.2\" />\n",
    "    <rect x=\"96\" y=\"48\" width=\"48\" height=\"48\" fill=\"#bdbdbd\" fill-opacity=\"0.5\" />\n",
    "    <rect x=\"144\" y=\"48\" width=\"48\" height=\"48\" fill=\"#bdbdbd\" fill-opacity=\"0.5\" />\n",
    "    <rect x=\"192\" y=\"48\" width=\"48\" height=\"48\" fill=\"#bdbdbd\" fill-opacity=\"0.5\" />\n",
    "    <rect x=\"96\" y=\"0\" width=\"48\" height=\"48\" fill=\"#bdbdbd\" fill-opacity=\"0.5\" />\n",
    "    <rect x=\"144\" y=\"0\" width=\"48\" height=\"48\" fill=\"#bdbdbd\" fill-opacity=\"0.5\" />\n",
    "    <rect x=\"192\" y=\"0\" width=\"48\" height=\"48\" fill=\"#bdbdbd\" fill-opacity=\"0.5\" />\n",
    "    <rect x=\"144\" y=\"0\" width=\"48\" height=\"48\" fill=\"#bdbdbd\" fill-opacity=\"0.2\" />\n",
    "    <rect x=\"144\" y=\"48\" width=\"48\" height=\"48\" fill=\"#bdbdbd\" fill-opacity=\"0.2\" />\n",
    "    <rect x=\"192\" y=\"0\" width=\"48\" height=\"48\" fill=\"#bdbdbd\" fill-opacity=\"0.2\" />\n",
    "    <rect x=\"192\" y=\"48\" width=\"48\" height=\"48\" fill=\"#bdbdbd\" fill-opacity=\"0.2\" />\n",
    "    <rect x=\"0\" y=\"96\" width=\"48\" height=\"48\" fill=\"#bdbdbd\" fill-opacity=\"0.5\" />\n",
    "    <rect x=\"0\" y=\"144\" width=\"48\" height=\"48\" fill=\"#bdbdbd\" fill-opacity=\"0.5\" />\n",
    "    <rect x=\"0\" y=\"192\" width=\"48\" height=\"48\" fill=\"#bdbdbd\" fill-opacity=\"0.5\" />\n",
    "    <rect x=\"48\" y=\"96\" width=\"48\" height=\"48\" fill=\"#bdbdbd\" fill-opacity=\"0.5\" />\n",
    "    <rect x=\"47\" y=\"144\" width=\"48\" height=\"48\" fill=\"#bdbdbd\" fill-opacity=\"0.5\" />\n",
    "    <rect x=\"47\" y=\"192\" width=\"48\" height=\"48\" fill=\"#bdbdbd\" fill-opacity=\"0.5\" />\n",
    "    <!-- Text values - just for key cells -->\n",
    "    <text x=\"24\" y=\"24\" font-family=\"Arial\" font-size=\"12\" text-anchor=\"middle\" fill=\"white\">1.0</text>\n",
    "    <text x=\"72\" y=\"24\" font-family=\"Arial\" font-size=\"12\" text-anchor=\"middle\" fill=\"white\">0.9</text>\n",
    "    <text x=\"24\" y=\"72\" font-family=\"Arial\" font-size=\"12\" text-anchor=\"middle\" fill=\"white\">0.9</text>\n",
    "    <text x=\"72\" y=\"72\" font-family=\"Arial\" font-size=\"12\" text-anchor=\"middle\" fill=\"white\">1.0</text>\n",
    "    \n",
    "    <text x=\"120\" y=\"120\" font-family=\"Arial\" font-size=\"12\" text-anchor=\"middle\" fill=\"white\">1.0</text>\n",
    "    <text x=\"168\" y=\"120\" font-family=\"Arial\" font-size=\"12\" text-anchor=\"middle\" fill=\"white\">0.8</text>\n",
    "    <text x=\"216\" y=\"120\" font-family=\"Arial\" font-size=\"12\" text-anchor=\"middle\" fill=\"white\">0.7</text>\n",
    "    <text x=\"120\" y=\"168\" font-family=\"Arial\" font-size=\"12\" text-anchor=\"middle\" fill=\"white\">0.8</text>\n",
    "    <text x=\"168\" y=\"168\" font-family=\"Arial\" font-size=\"12\" text-anchor=\"middle\" fill=\"white\">1.0</text>\n",
    "    <text x=\"216\" y=\"168\" font-family=\"Arial\" font-size=\"12\" text-anchor=\"middle\" fill=\"white\">0.8</text>\n",
    "    <text x=\"120\" y=\"216\" font-family=\"Arial\" font-size=\"12\" text-anchor=\"middle\" fill=\"white\">0.7</text>\n",
    "    <text x=\"168\" y=\"216\" font-family=\"Arial\" font-size=\"12\" text-anchor=\"middle\" fill=\"white\">0.8</text>\n",
    "    <text x=\"216\" y=\"216\" font-family=\"Arial\" font-size=\"12\" text-anchor=\"middle\" fill=\"white\">1.0</text>\n",
    "    \n",
    "    <!-- Low correlation text -->\n",
    "    <text x=\"24\" y=\"120\" font-family=\"Arial\" font-size=\"12\" text-anchor=\"middle\">0.2</text>\n",
    "    <text x=\"24\" y=\"170\" font-family=\"Arial\" font-size=\"12\" text-anchor=\"middle\">0.2</text>\n",
    "    <text x=\"72\" y=\"120\" font-family=\"Arial\" font-size=\"12\" text-anchor=\"middle\">0.1</text>\n",
    "    <text x=\"24\" y=\"220\" font-family=\"Arial\" font-size=\"12\" text-anchor=\"middle\">0.15</text>\n",
    "    <text x=\"72\" y=\"220\" font-family=\"Arial\" font-size=\"12\" text-anchor=\"middle\">0.1</text>\n",
    "    <text x=\"72\" y=\"168\" font-family=\"Arial\" font-size=\"12\" text-anchor=\"middle\">0.1</text>\n",
    "    <text x=\"120\" y=\"24\" font-family=\"Arial\" font-size=\"12\" text-anchor=\"middle\">0.2</text>\n",
    "    <text x=\"168\" y=\"72\" font-family=\"Arial\" font-size=\"12\" text-anchor=\"middle\">0.1</text>\n",
    "    <text x=\"168\" y=\"24\" font-family=\"Arial\" font-size=\"12\" text-anchor=\"middle\">0.2</text>\n",
    "    <text x=\"216\" y=\"24\" font-family=\"Arial\" font-size=\"12\" text-anchor=\"middle\">0.15</text>\n",
    "    <text x=\"216\" y=\"72\" font-family=\"Arial\" font-size=\"12\" text-anchor=\"middle\">0.2</text>\n",
    "    <text x=\"120\" y=\"72\" font-family=\"Arial\" font-size=\"12\" text-anchor=\"middle\">0.1</text>\n",
    "    \n",
    "    <!-- Block outlines -->\n",
    "    <rect x=\"0\" y=\"0\" width=\"96\" height=\"96\" fill=\"none\" stroke=\"#1976d2\" stroke-width=\"2\" />\n",
    "    <rect x=\"96\" y=\"96\" width=\"144\" height=\"144\" fill=\"none\" stroke=\"#e91e63\" stroke-width=\"2\" />\n",
    "  </g>\n",
    "  \n",
    "  <!-- LD Score Section -->\n",
    "  <rect x=\"420\" y=\"260\" width=\"360\" height=\"320\" fill=\"#fce4ec\" stroke=\"#e91e63\" stroke-width=\"2\" rx=\"5\" />\n",
    "  <text x=\"600\" y=\"285\" font-family=\"Arial\" font-size=\"16\" font-weight=\"bold\" text-anchor=\"middle\">LD Score</text>\n",
    "  \n",
    "  <!-- LD Score Definition -->\n",
    "  <text x=\"440\" y=\"310\" font-family=\"Arial\" font-size=\"13\">• Sum of squared correlation coefficients (r²) between</text>\n",
    "  <text x=\"450\" y=\"330\" font-family=\"Arial\" font-size=\"13\">  variant j and all other variants</text>\n",
    "  <text x=\"440\" y=\"350\" font-family=\"Arial\" font-size=\"13\">• Formula: l_j = ∑(cor²(X_j, X_k)) where k≠j</text>\n",
    "  \n",
    "  <!-- LD Score Bar Chart for SNP3 -->\n",
    "  <g transform=\"translate(450, 365)\">\n",
    "    <text x=\"150\" y=\"0\" font-family=\"Arial\" font-size=\"14\" font-weight=\"bold\" text-anchor=\"middle\"> R^2 with SNP₃</text>\n",
    "    \n",
    "    <!-- Axes -->\n",
    "  <line x1=\"0\" y1=\"20\" x2=\"0\" y2=\"180\" stroke=\"#333\" stroke-width=\"2\" />\n",
    "  <line x1=\"0\" y1=\"180\" x2=\"300\" y2=\"180\" stroke=\"#333\" stroke-width=\"2\" />\n",
    "  \n",
    "  <!-- Y-axis labels -->\n",
    "  <text x=\"-5\" y=\"30\" font-family=\"Arial\" font-size=\"12\" text-anchor=\"end\">1</text>\n",
    "  <text x=\"-5\" y=\"66.25\" font-family=\"Arial\" font-size=\"12\" text-anchor=\"end\">0.75</text>\n",
    "  <text x=\"-5\" y=\"102.5\" font-family=\"Arial\" font-size=\"12\" text-anchor=\"end\">0.5</text>\n",
    "  <text x=\"-5\" y=\"138.75\" font-family=\"Arial\" font-size=\"12\" text-anchor=\"end\">0.25</text>\n",
    "  <text x=\"-5\" y=\"175\" font-family=\"Arial\" font-size=\"12\" text-anchor=\"end\">0.0</text>\n",
    "  \n",
    "  <!-- X-axis labels -->\n",
    "  <text x=\"40\" y=\"195\" font-family=\"Arial\" font-size=\"12\" text-anchor=\"middle\">r²₁₃</text>\n",
    "  <text x=\"100\" y=\"195\" font-family=\"Arial\" font-size=\"12\" text-anchor=\"middle\">r²₂₃</text>\n",
    "  <text x=\"160\" y=\"195\" font-family=\"Arial\" font-size=\"12\" text-anchor=\"middle\">r²₃₃</text>\n",
    "  <text x=\"220\" y=\"195\" font-family=\"Arial\" font-size=\"12\" text-anchor=\"middle\">r²₄₃</text>\n",
    "  <text x=\"280\" y=\"195\" font-family=\"Arial\" font-size=\"12\" text-anchor=\"middle\">r²₅₃</text>\n",
    "\n",
    "  <!-- Bars -->\n",
    "  <rect x=\"25\" y=\"172.5\" width=\"30\" height=\"5.8\" fill=\"#bdbdbd\" />\n",
    "  <rect x=\"85\" y=\"177.5\" width=\"30\" height=\"1.45\" fill=\"#bdbdbd\" />\n",
    "  <rect x=\"145\" y=\"35\" width=\"30\" height=\"145\" fill=\"#e91e63\" fill-opacity=\"1\" />\n",
    "  <rect x=\"205\" y=\"86\" width=\"30\" height=\"92.5\" fill=\"#e91e63\" fill-opacity=\"0.8\" />\n",
    "  <rect x=\"265\" y=\"110\" width=\"30\" height=\"71\" fill=\"#e91e63\" fill-opacity=\"0.7\" />\n",
    "\n",
    "  <!-- Value labels -->\n",
    "  <text x=\"40\" y=\"170\" font-family=\"Arial\" font-size=\"11\" text-anchor=\"middle\">0.04</text>\n",
    "  <text x=\"100\" y=\"174\" font-family=\"Arial\" font-size=\"11\" text-anchor=\"middle\">0.01</text>\n",
    "  <text x=\"160\" y=\"30\" font-family=\"Arial\" font-size=\"11\" text-anchor=\"middle\">1</text>\n",
    "  <text x=\"220\" y=\"85\" font-family=\"Arial\" font-size=\"11\" text-anchor=\"middle\">0.64</text>\n",
    "  <text x=\"280\" y=\"105\" font-family=\"Arial\" font-size=\"11\" text-anchor=\"middle\">0.49</text>\n",
    "\n",
    "    <!-- Sum equation -->\n",
    "    <text x=\"150\" y=\"210\" font-family=\"Arial\" font-size=\"13\" text-anchor=\"middle\">LD Score = 0.04 + 0.01 + 0.64 + 0.49 = 1.18</text>\n",
    "    \n",
    "    <!-- Highlight SNPs from same block -->\n",
    "    <rect x=\"145\" y=\"35\" width=\"30\" height=\"145\" fill=\"none\" stroke=\"#e91e63\" stroke-width=\"2\" />\n",
    "    <rect x=\"205\" y=\"86\" width=\"30\" height=\"92.5\" fill=\"none\" stroke=\"#e91e63\" stroke-width=\"2\" />\n",
    "    <rect x=\"265\" y=\"109\" width=\"30\" height=\"69\" fill=\"none\" stroke=\"#e91e63\" stroke-width=\"2\" />\n",
    "    \n",
    "    <!-- Lines to show sum -->\n",
    "    <!-- <line x1=\"40\" y1=\"160\" x2=\"280\" y2=\"160\" stroke=\"#999\" stroke-width=\"1\" stroke-dasharray=\"3,3\" /> -->\n",
    "    <!-- <line x1=\"100\" y1=\"170\" x2=\"280\" y2=\"170\" stroke=\"#999\" stroke-width=\"1\" stroke-dasharray=\"3,3\" /> -->\n",
    "    <!-- <line x1=\"160\" y1=\"100\" x2=\"280\" y2=\"100\" stroke=\"#999\" stroke-width=\"1\" stroke-dasharray=\"3,3\" /> -->\n",
    "    <!-- <line x1=\"220\" y1=\"120\" x2=\"280\" y2=\"120\" stroke=\"#999\" stroke-width=\"1\" stroke-dasharray=\"3,3\" /> -->\n",
    "  </g>\n",
    "  \n",
    "  <!-- Definitions -->\n",
    "  <defs>\n",
    "    <marker id=\"arrowhead\" markerWidth=\"10\" markerHeight=\"7\" refX=\"9\" refY=\"3.5\" orient=\"auto\">\n",
    "      <polygon points=\"0 0, 10 3.5, 0 7\" fill=\"#999\" />\n",
    "    </marker>\n",
    "  </defs>\n",
    "</svg>"
   ]
  },
  {
   "cell_type": "code",
   "execution_count": null,
   "id": "bfbd233e-ccaf-4d86-a345-c9529affde02",
   "metadata": {
    "vscode": {
     "languageId": "r"
    }
   },
   "outputs": [],
   "source": []
  },
  {
   "cell_type": "code",
   "execution_count": null,
   "id": "db0abc82",
   "metadata": {
    "vscode": {
     "languageId": "r"
    }
   },
   "outputs": [],
   "source": []
  }
 ],
 "metadata": {
  "kernelspec": {
   "display_name": "R",
   "language": "R",
   "name": "ir"
  },
  "language_info": {
   "codemirror_mode": "r",
   "file_extension": ".r",
   "mimetype": "text/x-r-source",
   "name": "R",
   "pygments_lexer": "r",
   "version": "4.3.3"
  },
  "toc-autonumbering": true
 },
 "nbformat": 4,
 "nbformat_minor": 5
}
