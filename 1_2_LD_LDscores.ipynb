{
 "cells": [
  {
   "cell_type": "markdown",
   "id": "8f236fb0-1586-463a-b400-24fb893c5292",
   "metadata": {},
   "source": [
    "# Summary\n",
    "\n",
    "This notebook introduces the basic concepts in statistical genetics, including:\n",
    "\n",
    "- LD, LD score"
   ]
  },
  {
   "cell_type": "markdown",
   "id": "a57f18c6-62b2-4303-9dbb-5fca8a6e19fc",
   "metadata": {},
   "source": [
    "# Intuition\n",
    "\n",
    "Here we will put a cartoon "
   ]
  },
  {
   "cell_type": "markdown",
   "id": "c368a384-d362-42cb-9223-fc13269d0e05",
   "metadata": {},
   "source": [
    "# Notations"
   ]
  },
  {
   "cell_type": "markdown",
   "id": "2e82e3bd-5151-4d21-a037-d051d990b259",
   "metadata": {
    "tags": []
   },
   "source": [
    "## Linkage Disequilibrium (LD)\n",
    "\n",
    "Linkage Disequilibrium (LD) refers to the non-random association of alleles at two or more loci. In a population, if two variants (or loci) are in LD, their allele combinations occur **more or less frequently than expected** based on their individual allele frequencies. In short words, LD describes the **sharing of certain combination of variants**.\n",
    "\n",
    "Given the scaled genotype matrix $\\mathbf{X}$, the LD matrix can be computed as :\n",
    "$$\n",
    "\\mathbf{R} = \\frac{\\mathbf{X}^T \\mathbf{X}}{N}\n",
    "$$\n",
    "\n",
    "where:\n",
    "\n",
    "- $\\mathbf{X}$ is the centered genotype matrix.\n",
    "- $N$ is the number of individuals.\n",
    "\n",
    "When $\\mathbf{X}$ is scaled, the covariance matrix is the same as correlation matrix.\n",
    "\n",
    "<!-- The covariance between two variants $j_1$ and $j_2$ is computed as:\n",
    "\n",
    "\\begin{equation*}\n",
    "\\text{cov}(x_{i j_1}, x_{i j_2}) = \\frac{1}{N} \\sum_{i=1}^{N} \\left( x_{i j_1} - \\bar{x}_{j_1} \\right) \\left( x_{i j_2} - \\bar{x}_{j_2} \\right),\n",
    "\\end{equation*}\n",
    "\n",
    "where $\\bar{x}_{j_1}$ and $\\bar{x}_{j_2}$ are the mean genotypes for variants $j_1$ and $j_2$, respectively, calculated as (and this step is called **centering**)\n",
    "\n",
    "\\begin{equation*}\n",
    "\\bar{x}_{j_1} = \\frac{1}{N} \\sum_{i=1}^{N} x_{i j_1}, \\quad \\bar{x}_{j_2} = \\frac{1}{N} \\sum_{i=1}^{N} x_{i j_2}.\n",
    "\\end{equation*}\n",
    "- $\\mathbf{X_{\\text{raw}}}$ is the raw genotype matrix. -->\n",
    "\n",
    "<!-- \n",
    "## $r$ and $r^2$\n",
    "To calculate the **correlation** between variants, we need to normalize the covariance matrix by the variance of each variant. If **$\\mathbf{X}$** is centered but not normalized, then the correlation matrix can be computed as:\n",
    "\n",
    "$$\n",
    "\\mathbf{R} = \\frac{\\mathbf{X}^T \\mathbf{X}}{\\sqrt{\\text{diag}(\\mathbf{X}^T \\mathbf{X}) \\cdot \\text{diag}(\\mathbf{X}^T \\mathbf{X})^T}}\n",
    "$$\n",
    "\n",
    "Where:\n",
    "- $\\text{diag}(\\mathbf{X}^T \\mathbf{X})$ is the diagonal of the covariance matrix, representing the variances of each variant.\n",
    "- The division normalizes the covariance matrix to produce the correlation matrix.\n",
    "\n",
    "When $X_j$'s are normalized, the LD matrix $R$ is:\n",
    "$$\n",
    "\\mathbf{R} = \\frac{\\mathbf{X}^T \\mathbf{X}}{n}\n",
    "$$\n",
    "\n",
    " -->"
   ]
  },
  {
   "cell_type": "markdown",
   "id": "4616bb9a-2f1e-4c35-975d-7ad5b0a91ea7",
   "metadata": {
    "jp-MarkdownHeadingCollapsed": true,
    "tags": []
   },
   "source": [
    "## LD Score\n",
    "\n",
    "The **LD score** is a measure of the extent to which a given variant is in linkage disequilibrium (LD) with other variants across the genome. It is used to summarize the amount of genetic information (in terms of LD) that a variant shares with all other variants in a region of interest. The LD score for a variant $j$ is defined as the sum of the squared correlation coefficients $r^2$ between that variant and all other variants in the genome, typically within a specified genomic window or region. Mathematically, the LD score for variant $j$ is given by:\n",
    "\n",
    "$$\n",
    "l_j = \\sum_{k=1, k \\neq j}^Mcor^2(\\textbf{X}_j, \\textbf{X}_k)\n",
    "$$\n",
    "\n",
    "Since $\\textbf{X}$ is standardized, we can just calculate the sum of the squared sample correlations like this:\n",
    "\n",
    "$$\\widetilde{l}_{j} = \\frac{1}{N^2}\\textbf{X}^\\top_j\\textbf{X}\\textbf{X}^\\top\\textbf{X}_j$$\n",
    "However, this is not an unbiased estimate. We can correct for the bias like this:\n",
    "\n",
    "$$l_j = \\frac{\\widetilde{l}_{j} N - M}{N + 1}$$\n",
    "\n",
    "\n",
    "This score reflects how much a variant is correlated with other variants across the genome, providing insight into the local structure of LD around that variant.\n",
    "\n"
   ]
  },
  {
   "cell_type": "markdown",
   "id": "f9c943b0-2af5-4e77-bdb0-2d7c2d0a82b3",
   "metadata": {},
   "source": [
    "# Example"
   ]
  },
  {
   "cell_type": "code",
   "execution_count": 8,
   "id": "6946a943-0651-4af3-9e7c-33513411fd89",
   "metadata": {
    "tags": []
   },
   "outputs": [
    {
     "data": {
      "text/html": [
       "<table class=\"dataframe\">\n",
       "<caption>A matrix: 5 × 3 of type dbl</caption>\n",
       "<thead>\n",
       "\t<tr><th></th><th scope=col>Variant 1</th><th scope=col>Variant 2</th><th scope=col>Variant 3</th></tr>\n",
       "</thead>\n",
       "<tbody>\n",
       "\t<tr><th scope=row>Individual 1</th><td>0</td><td>1</td><td>1</td></tr>\n",
       "\t<tr><th scope=row>Individual 2</th><td>2</td><td>2</td><td>0</td></tr>\n",
       "\t<tr><th scope=row>Individual 3</th><td>1</td><td>1</td><td>1</td></tr>\n",
       "\t<tr><th scope=row>Individual 4</th><td>0</td><td>2</td><td>1</td></tr>\n",
       "\t<tr><th scope=row>Individual 5</th><td>0</td><td>0</td><td>2</td></tr>\n",
       "</tbody>\n",
       "</table>\n"
      ],
      "text/latex": [
       "A matrix: 5 × 3 of type dbl\n",
       "\\begin{tabular}{r|lll}\n",
       "  & Variant 1 & Variant 2 & Variant 3\\\\\n",
       "\\hline\n",
       "\tIndividual 1 & 0 & 1 & 1\\\\\n",
       "\tIndividual 2 & 2 & 2 & 0\\\\\n",
       "\tIndividual 3 & 1 & 1 & 1\\\\\n",
       "\tIndividual 4 & 0 & 2 & 1\\\\\n",
       "\tIndividual 5 & 0 & 0 & 2\\\\\n",
       "\\end{tabular}\n"
      ],
      "text/markdown": [
       "\n",
       "A matrix: 5 × 3 of type dbl\n",
       "\n",
       "| <!--/--> | Variant 1 | Variant 2 | Variant 3 |\n",
       "|---|---|---|---|\n",
       "| Individual 1 | 0 | 1 | 1 |\n",
       "| Individual 2 | 2 | 2 | 0 |\n",
       "| Individual 3 | 1 | 1 | 1 |\n",
       "| Individual 4 | 0 | 2 | 1 |\n",
       "| Individual 5 | 0 | 0 | 2 |\n",
       "\n"
      ],
      "text/plain": [
       "             Variant 1 Variant 2 Variant 3\n",
       "Individual 1 0         1         1        \n",
       "Individual 2 2         2         0        \n",
       "Individual 3 1         1         1        \n",
       "Individual 4 0         2         1        \n",
       "Individual 5 0         0         2        "
      ]
     },
     "metadata": {},
     "output_type": "display_data"
    }
   ],
   "source": [
    "rm(list=ls())\n",
    "# Genotype matrix for 5 individuals and 2 variants\n",
    "# Rows correspond to individuals, columns to variants\n",
    "N=5\n",
    "M=3\n",
    "X_raw <- matrix(c(0, 1, 1, 2, 2, 0, 1, 1, 1, 0, 2, 1, 0, 0, 2), \n",
    "                    nrow = N, ncol = M, byrow = TRUE)\n",
    "# Adding row and column names\n",
    "rownames(X_raw) <- paste(\"Individual\", 1:N)\n",
    "colnames(X_raw) <- paste(\"Variant\", 1:M)\n",
    "X_raw"
   ]
  },
  {
   "cell_type": "code",
   "execution_count": 9,
   "id": "0c6cc35e-7c54-44d6-80e6-4f88b3950a5b",
   "metadata": {
    "tags": []
   },
   "outputs": [
    {
     "data": {
      "text/html": [
       "<table class=\"dataframe\">\n",
       "<caption>A matrix: 5 × 3 of type dbl</caption>\n",
       "<thead>\n",
       "\t<tr><th></th><th scope=col>Variant 1</th><th scope=col>Variant 2</th><th scope=col>Variant 3</th></tr>\n",
       "</thead>\n",
       "<tbody>\n",
       "\t<tr><th scope=row>Individual 1</th><td>-0.6708204</td><td>-0.2390457</td><td> 0.000000</td></tr>\n",
       "\t<tr><th scope=row>Individual 2</th><td> 1.5652476</td><td> 0.9561829</td><td>-1.414214</td></tr>\n",
       "\t<tr><th scope=row>Individual 3</th><td> 0.4472136</td><td>-0.2390457</td><td> 0.000000</td></tr>\n",
       "\t<tr><th scope=row>Individual 4</th><td>-0.6708204</td><td> 0.9561829</td><td> 0.000000</td></tr>\n",
       "\t<tr><th scope=row>Individual 5</th><td>-0.6708204</td><td>-1.4342743</td><td> 1.414214</td></tr>\n",
       "</tbody>\n",
       "</table>\n"
      ],
      "text/latex": [
       "A matrix: 5 × 3 of type dbl\n",
       "\\begin{tabular}{r|lll}\n",
       "  & Variant 1 & Variant 2 & Variant 3\\\\\n",
       "\\hline\n",
       "\tIndividual 1 & -0.6708204 & -0.2390457 &  0.000000\\\\\n",
       "\tIndividual 2 &  1.5652476 &  0.9561829 & -1.414214\\\\\n",
       "\tIndividual 3 &  0.4472136 & -0.2390457 &  0.000000\\\\\n",
       "\tIndividual 4 & -0.6708204 &  0.9561829 &  0.000000\\\\\n",
       "\tIndividual 5 & -0.6708204 & -1.4342743 &  1.414214\\\\\n",
       "\\end{tabular}\n"
      ],
      "text/markdown": [
       "\n",
       "A matrix: 5 × 3 of type dbl\n",
       "\n",
       "| <!--/--> | Variant 1 | Variant 2 | Variant 3 |\n",
       "|---|---|---|---|\n",
       "| Individual 1 | -0.6708204 | -0.2390457 |  0.000000 |\n",
       "| Individual 2 |  1.5652476 |  0.9561829 | -1.414214 |\n",
       "| Individual 3 |  0.4472136 | -0.2390457 |  0.000000 |\n",
       "| Individual 4 | -0.6708204 |  0.9561829 |  0.000000 |\n",
       "| Individual 5 | -0.6708204 | -1.4342743 |  1.414214 |\n",
       "\n"
      ],
      "text/plain": [
       "             Variant 1  Variant 2  Variant 3\n",
       "Individual 1 -0.6708204 -0.2390457  0.000000\n",
       "Individual 2  1.5652476  0.9561829 -1.414214\n",
       "Individual 3  0.4472136 -0.2390457  0.000000\n",
       "Individual 4 -0.6708204  0.9561829  0.000000\n",
       "Individual 5 -0.6708204 -1.4342743  1.414214"
      ]
     },
     "metadata": {},
     "output_type": "display_data"
    }
   ],
   "source": [
    "# standardize genotype matrix\n",
    "X = scale(X_raw, scale=TRUE)\n",
    "X"
   ]
  },
  {
   "cell_type": "markdown",
   "id": "2cf118d8-5326-4f0e-a050-6748251595cf",
   "metadata": {},
   "source": [
    "## Calculate LD matrix"
   ]
  },
  {
   "cell_type": "code",
   "execution_count": 19,
   "id": "3921b512-bea3-4ff0-bca2-e9853ef13dd2",
   "metadata": {
    "tags": []
   },
   "outputs": [
    {
     "data": {
      "text/html": [
       "<table class=\"dataframe\">\n",
       "<caption>A matrix: 3 × 3 of type dbl</caption>\n",
       "<thead>\n",
       "\t<tr><th></th><th scope=col>Variant 1</th><th scope=col>Variant 2</th><th scope=col>Variant 3</th></tr>\n",
       "</thead>\n",
       "<tbody>\n",
       "\t<tr><th scope=row>Variant 1</th><td> 1.0000000</td><td> 0.4677072</td><td>-0.7905694</td></tr>\n",
       "\t<tr><th scope=row>Variant 2</th><td> 0.4677072</td><td> 1.0000000</td><td>-0.8451543</td></tr>\n",
       "\t<tr><th scope=row>Variant 3</th><td>-0.7905694</td><td>-0.8451543</td><td> 1.0000000</td></tr>\n",
       "</tbody>\n",
       "</table>\n"
      ],
      "text/latex": [
       "A matrix: 3 × 3 of type dbl\n",
       "\\begin{tabular}{r|lll}\n",
       "  & Variant 1 & Variant 2 & Variant 3\\\\\n",
       "\\hline\n",
       "\tVariant 1 &  1.0000000 &  0.4677072 & -0.7905694\\\\\n",
       "\tVariant 2 &  0.4677072 &  1.0000000 & -0.8451543\\\\\n",
       "\tVariant 3 & -0.7905694 & -0.8451543 &  1.0000000\\\\\n",
       "\\end{tabular}\n"
      ],
      "text/markdown": [
       "\n",
       "A matrix: 3 × 3 of type dbl\n",
       "\n",
       "| <!--/--> | Variant 1 | Variant 2 | Variant 3 |\n",
       "|---|---|---|---|\n",
       "| Variant 1 |  1.0000000 |  0.4677072 | -0.7905694 |\n",
       "| Variant 2 |  0.4677072 |  1.0000000 | -0.8451543 |\n",
       "| Variant 3 | -0.7905694 | -0.8451543 |  1.0000000 |\n",
       "\n"
      ],
      "text/plain": [
       "          Variant 1  Variant 2  Variant 3 \n",
       "Variant 1  1.0000000  0.4677072 -0.7905694\n",
       "Variant 2  0.4677072  1.0000000 -0.8451543\n",
       "Variant 3 -0.7905694 -0.8451543  1.0000000"
      ]
     },
     "metadata": {},
     "output_type": "display_data"
    }
   ],
   "source": [
    "LD = cor(X)\n",
    "LD"
   ]
  },
  {
   "cell_type": "markdown",
   "id": "5eeb215b-fe53-4cc7-b19c-e15b799b19e1",
   "metadata": {},
   "source": [
    "## Calculate LD scores"
   ]
  },
  {
   "cell_type": "code",
   "execution_count": 21,
   "id": "5bec4bca-7a33-4a30-8d2d-d7c948c59daa",
   "metadata": {
    "tags": []
   },
   "outputs": [
    {
     "data": {
      "text/html": [
       "<style>\n",
       ".dl-inline {width: auto; margin:0; padding: 0}\n",
       ".dl-inline>dt, .dl-inline>dd {float: none; width: auto; display: inline-block}\n",
       ".dl-inline>dt::after {content: \":\\0020\"; padding-right: .5ex}\n",
       ".dl-inline>dt:not(:first-of-type) {padding-left: .5ex}\n",
       "</style><dl class=dl-inline><dt>Variant 1</dt><dd>0.203125</dd><dt>Variant 2</dt><dd>0.277529761904762</dd><dt>Variant 3</dt><dd>0.616071428571429</dd></dl>\n"
      ],
      "text/latex": [
       "\\begin{description*}\n",
       "\\item[Variant 1] 0.203125\n",
       "\\item[Variant 2] 0.277529761904762\n",
       "\\item[Variant 3] 0.616071428571429\n",
       "\\end{description*}\n"
      ],
      "text/markdown": [
       "Variant 1\n",
       ":   0.203125Variant 2\n",
       ":   0.277529761904762Variant 3\n",
       ":   0.616071428571429\n",
       "\n"
      ],
      "text/plain": [
       "Variant 1 Variant 2 Variant 3 \n",
       "0.2031250 0.2775298 0.6160714 "
      ]
     },
     "metadata": {},
     "output_type": "display_data"
    }
   ],
   "source": [
    "# Calculate the squared correlation matrix (LD matrix)\n",
    "LD_squared <- LD^2  # Element-wise square to get r^2\n",
    "\n",
    "# Calculate the LD score for each variant\n",
    "# Sum the squared correlations in each column (excluding diagonal)\n",
    "ld_scores_raw <- colSums(LD_squared) - diag(LD_squared)\n",
    "# Bias correction\n",
    "ld_scores_corrected <- ((ld_scores_raw * N) - M) / (N + 1)\n",
    "\n",
    "# Print the corrected LD scores\n",
    "ld_scores_corrected"
   ]
  },
  {
   "cell_type": "markdown",
   "id": "d84a9592-d683-4313-b0bd-49209f8b0ad1",
   "metadata": {},
   "source": [
    "The third variant is in high LD with the first two variants, leading to a higher LD score."
   ]
  },
  {
   "cell_type": "markdown",
   "id": "b77d63f8-faf8-4e61-a65d-4d1c8b255d11",
   "metadata": {},
   "source": [
    "# Supplementary"
   ]
  },
  {
   "cell_type": "markdown",
   "id": "b85e1eb4-2d14-447d-9ff5-9e17f554e70f",
   "metadata": {},
   "source": [
    "\n",
    "### Ref\n",
    "> LDSC: slide 110-117 from Xin HE\n",
    ">\n",
    "> LDSC: slide 82-84 from GW\n",
    "> \n",
    "> slide 48-50 from GW\n",
    "\n",
    "\n",
    "### Purpose of LD Score\n",
    "\n",
    "- **Genetic Association Studies**: LD scores are useful in genetic association studies to account for the correlations between variants when performing polygenic risk score (PRS) analysis or genome-wide association studies (GWAS).\n",
    "- **Controlling for Confounding**: In association studies, high LD between variants can lead to confounding effects, where the signal from a variant may be shared with other nearby variants. By using LD scores, researchers can assess the relative contribution of each variant and better control for LD when interpreting results.\n",
    "- **Estimating Heritability**: LD scores are used to estimate the heritability of complex traits by calculating how much of the genetic variation in a trait can be explained by LD between variants.\n",
    "\n",
    "### Interpretation\n",
    "\n",
    "- **High LD Score**: A variant with a high LD score indicates that it is in strong LD with many other variants in the genome, meaning it shares a substantial amount of genetic variation with neighboring variants.\n",
    "- **Low LD Score**: A variant with a low LD score indicates that it is not strongly correlated with many other variants, implying that it may have a unique genetic contribution or be in a region with low LD.\n",
    "\n",
    "In summary, the LD score is a way to quantify the genetic \"information content\" of a variant based on its correlations with surrounding variants, and it is used in the context of genetic studies to account for LD structure in the genome.\n"
   ]
  },
  {
   "cell_type": "code",
   "execution_count": null,
   "id": "bfbd233e-ccaf-4d86-a345-c9529affde02",
   "metadata": {},
   "outputs": [],
   "source": []
  }
 ],
 "metadata": {
  "kernelspec": {
   "display_name": "R",
   "language": "R",
   "name": "ir"
  },
  "language_info": {
   "codemirror_mode": "r",
   "file_extension": ".r",
   "mimetype": "text/x-r-source",
   "name": "R",
   "pygments_lexer": "r",
   "version": "4.4.2"
  },
  "toc-autonumbering": true
 },
 "nbformat": 4,
 "nbformat_minor": 5
}
