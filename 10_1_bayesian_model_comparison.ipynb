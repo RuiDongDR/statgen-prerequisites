{
 "cells": [
  {
   "cell_type": "markdown",
   "id": "6a592f33-9cdf-499c-bcb6-006249ff7d18",
   "metadata": {},
   "source": [
    "## Bayesian model comparison\n",
    "\n",
    "# Intuition\n",
    "\n",
    "**FIGURE PLACEHOLDER:** ![Bayesian model comparison](image_placeholder)"
   ]
  },
  {
   "cell_type": "markdown",
   "id": "3cca07d0-6e6e-467d-9c1b-49a96424ad10",
   "metadata": {},
   "source": [
    "# Notation\n"
   ]
  },
  {
   "cell_type": "markdown",
   "id": "2528eb75-0365-477a-be98-b2d31454c7f8",
   "metadata": {},
   "source": [
    "\n",
    "## Bayes Factor (BF) (recall Lecture 8)\n",
    "The **Bayes Factor (BF)** (sometimes denoted as $K$) is defined as the ratio of the marginal likelihoods of two models, taking into account the prior distributions over the models' parameters. It is calculated as:\n",
    "\n",
    "$$\n",
    "BF(M_1, M_2) := \\frac{Pr(D|M_1)}{Pr(D|M_2)} = \\frac{\\int Pr(D|\\theta_1, M_1) Pr(\\theta_1|M_1) d\\theta_1}{\\int Pr(D|\\theta_2, M_2) Pr(\\theta_2|M_2) d\\theta_2} = \\frac{\\frac{Pr(M_1|D)Pr(D)}{Pr(M_1)} }{\\frac{Pr(M_2|D)Pr(D)}{Pr(M_2)}} = \\frac{Pr(M_1|D)}{Pr(M_2|D)} \\times \\frac{Pr(M_2)}{Pr(M_1)}\n",
    "$$\n",
    "\n",
    "The Bayes Factor compares the marginal likelihoods of the models after considering the uncertainty in the parameters, **weighted by the prior beliefs of the model**.\n"
   ]
  },
  {
   "cell_type": "markdown",
   "id": "a83b4837-1a04-41d6-87ce-d0507b010231",
   "metadata": {
    "tags": []
   },
   "source": [
    "### Compare $M_1$ and $M_2$ based on data $D$\n",
    "When comparing two models $M_1$ and $M_2$, we calculate the **posterior odds** for each model. The **posterior odds** represent the ratio of the posterior probabilities for the two models. This can be written as:\n",
    "\n",
    "$$\n",
    "\\frac{P(M_1|D)}{P(M_2|D)} = \\frac{P(D|M_1)P(M_1)}{P(D|M_2)P(M_2)}\n",
    "$$\n",
    "\n",
    "Where:\n",
    "- $P(M_1|D)$ is the **posterior** probability of model $M_1$ given the data $D$.\n",
    "- $P(M_2|D)$ is the **posterior** probability of model $M_2$ given the data $D$.\n",
    "- $\\frac{P(D|M_1)}{P(D|M_2)}$ is the **bayes factor** of $M_1$ and $M_2$\n",
    "- $P(M_1)$ and $P(M_2)$ are the **prior probabilities** of models $M_1$ and $M_2$, respectively.\n",
    "\n",
    "This ratio simplifies to:\n",
    "\n",
    "$$\n",
    "\\text{Posterior Odds} = \\text{Prior Odds} \\times \\text{Likelihood Ratio (LR)}\n",
    "$$\n",
    "\n",
    "Where:\n",
    "- **Prior Odds** = $\\frac{P(M_1)}{P(M_2)}$ is the ratio of prior probabilities of the models.\n",
    "- **Likelihood Ratio (LR)** = $\\frac{P(D|M_1)}{P(D|M_2)}$ is the ratio of the likelihoods of the data under each model.\n",
    "\n",
    "Thus, the **posterior odds** can be updated by multiplying the **prior odds** by the **likelihood ratio**."
   ]
  },
  {
   "cell_type": "markdown",
   "id": "0db1c5b4-540c-4b78-9e51-dfbfc5cfe71e",
   "metadata": {
    "tags": []
   },
   "source": [
    "# Example\n",
    "\n",
    "**[???] Should we move the example in Lecture 8 here? Or what else ..**"
   ]
  },
  {
   "cell_type": "markdown",
   "id": "63cfd8fd-fb24-4966-a03f-bfe610dea864",
   "metadata": {},
   "source": []
  },
  {
   "cell_type": "markdown",
   "id": "3e0109b7-5aaf-4ccb-a565-d0927e4929bf",
   "metadata": {},
   "source": []
  },
  {
   "cell_type": "code",
   "execution_count": null,
   "id": "4e7e5355-28dc-4bc3-8cff-56fd0480006e",
   "metadata": {},
   "outputs": [],
   "source": []
  },
  {
   "cell_type": "markdown",
   "id": "4ee0223b-6d46-473a-a4b8-77ddf0ac984d",
   "metadata": {},
   "source": []
  },
  {
   "cell_type": "markdown",
   "id": "1f86190e-0bbe-4b0a-aa59-f52e45522f31",
   "metadata": {},
   "source": []
  },
  {
   "cell_type": "markdown",
   "id": "80903be9-77d2-40a3-8258-28e7718e61a6",
   "metadata": {},
   "source": []
  }
 ],
 "metadata": {
  "kernelspec": {
   "display_name": "R",
   "language": "R",
   "name": "ir"
  },
  "language_info": {
   "codemirror_mode": "r",
   "file_extension": ".r",
   "mimetype": "text/x-r-source",
   "name": "R",
   "pygments_lexer": "r",
   "version": "4.4.2"
  }
 },
 "nbformat": 4,
 "nbformat_minor": 5
}
