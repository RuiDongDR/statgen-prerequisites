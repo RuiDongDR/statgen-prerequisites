{
 "cells": [
  {
   "cell_type": "markdown",
   "id": "6a592f33-9cdf-499c-bcb6-006249ff7d18",
   "metadata": {},
   "source": [
    "## Bayesian model comparison\n",
    "\n",
    "# Intuition\n",
    "\n",
    "**FIGURE PLACEHOLDER:** ![Bayesian model comparison](image_placeholder)"
   ]
  },
  {
   "cell_type": "markdown",
   "id": "3cca07d0-6e6e-467d-9c1b-49a96424ad10",
   "metadata": {},
   "source": [
    "# Notation\n"
   ]
  },
  {
   "cell_type": "markdown",
   "id": "2528eb75-0365-477a-be98-b2d31454c7f8",
   "metadata": {},
   "source": [
    "\n",
    "## Bayes Factor (BF) (recall Lecture 8)\n",
    "The **Bayes Factor (BF)** (sometimes denoted as $K$) is defined as the ratio of the marginal likelihoods of two models, taking into account the prior distributions over the models' parameters. It is calculated as:\n",
    "\n",
    "$$\n",
    "BF(M_1, M_2) := \\frac{Pr(D|M_1)}{Pr(D|M_2)} = \\frac{\\int Pr(D|\\theta_1, M_1) Pr(\\theta_1|M_1) d\\theta_1}{\\int Pr(D|\\theta_2, M_2) Pr(\\theta_2|M_2) d\\theta_2} = \\frac{\\frac{Pr(M_1|D)Pr(D)}{Pr(M_1)} }{\\frac{Pr(M_2|D)Pr(D)}{Pr(M_2)}} = \\frac{Pr(M_1|D)}{Pr(M_2|D)} \\times \\frac{Pr(M_2)}{Pr(M_1)}\n",
    "$$\n",
    "\n",
    "The Bayes Factor compares the marginal likelihoods of the models after considering the uncertainty in the parameters, **weighted by the prior beliefs of the model**.\n"
   ]
  },
  {
   "cell_type": "markdown",
   "id": "a83b4837-1a04-41d6-87ce-d0507b010231",
   "metadata": {
    "tags": []
   },
   "source": [
    "### Compare $M_1$ and $M_2$ based on data $D$\n",
    "When comparing two models $M_1$ and $M_2$, we calculate the **posterior odds** for each model. The **posterior odds** represent the ratio of the posterior probabilities for the two models. This can be written as:\n",
    "\n",
    "$$\n",
    "\\frac{P(M_1|D)}{P(M_2|D)} = \\frac{P(D|M_1)P(M_1)}{P(D|M_2)P(M_2)}\n",
    "$$\n",
    "\n",
    "Where:\n",
    "- $P(M_1|D)$ is the **posterior** probability of model $M_1$ given the data $D$.\n",
    "- $P(M_2|D)$ is the **posterior** probability of model $M_2$ given the data $D$.\n",
    "- $\\frac{P(D|M_1)}{P(D|M_2)}$ is the **bayes factor** of $M_1$ and $M_2$\n",
    "- $P(M_1)$ and $P(M_2)$ are the **prior probabilities** of models $M_1$ and $M_2$, respectively.\n",
    "\n",
    "This ratio simplifies to:\n",
    "\n",
    "$$\n",
    "\\text{Posterior Odds} = \\text{Prior Odds} \\times \\text{Likelihood Ratio (LR)}\n",
    "$$\n",
    "\n",
    "Where:\n",
    "- **Prior Odds** = $\\frac{P(M_1)}{P(M_2)}$ is the ratio of prior probabilities of the models.\n",
    "- **Likelihood Ratio (LR)** = $\\frac{P(D|M_1)}{P(D|M_2)}$ is the ratio of the likelihoods of the data under each model.\n",
    "\n",
    "Thus, the **posterior odds** can be updated by multiplying the **prior odds** by the **likelihood ratio**."
   ]
  },
  {
   "cell_type": "markdown",
   "id": "0db1c5b4-540c-4b78-9e51-dfbfc5cfe71e",
   "metadata": {
    "tags": []
   },
   "source": [
    "# Example"
   ]
  },
  {
   "cell_type": "code",
   "execution_count": 14,
   "metadata": {
    "vscode": {
     "languageId": "r"
    }
   },
   "outputs": [],
   "source": [
    "rm(list = ls()) # Clear the workspace\n",
    "# Load necessary libraries\n",
    "library(MASS)      # for multivariate normal\n",
    "library(ggplot2)   # for plots\n",
    "library(tibble)    # for tidy tables\n",
    "library(dplyr)     # for data manipulatio"
   ]
  },
  {
   "cell_type": "markdown",
   "id": "7ef1eb22",
   "metadata": {},
   "source": [
    "## Example 1 -- fine mapping"
   ]
  },
  {
   "cell_type": "markdown",
   "id": "63cfd8fd-fb24-4966-a03f-bfe610dea864",
   "metadata": {},
   "source": [
    "- Simulate Data"
   ]
  },
  {
   "cell_type": "code",
   "execution_count": 15,
   "id": "751ad660",
   "metadata": {
    "vscode": {
     "languageId": "r"
    }
   },
   "outputs": [],
   "source": [
    "# Simulate Z-scores for 3 SNPs\n",
    "Z <- c(5.1, 2.0, 1.8)\n",
    "names(Z) <- c(\"SNP_A\", \"SNP_B\", \"SNP_C\")\n",
    "\n",
    "# Simulate LD matrix\n",
    "R <- matrix(c(\n",
    "  1.0, 0.8, 0.6,\n",
    "  0.8, 1.0, 0.7,\n",
    "  0.6, 0.7, 1.0\n",
    "), nrow = 3, byrow = TRUE)\n",
    "colnames(R) <- rownames(R) <- names(Z)\n"
   ]
  },
  {
   "cell_type": "code",
   "execution_count": 16,
   "id": "52686e4c",
   "metadata": {
    "vscode": {
     "languageId": "r"
    }
   },
   "outputs": [
    {
     "data": {
      "text/html": [
       "<style>\n",
       ".dl-inline {width: auto; margin:0; padding: 0}\n",
       ".dl-inline>dt, .dl-inline>dd {float: none; width: auto; display: inline-block}\n",
       ".dl-inline>dt::after {content: \":\\0020\"; padding-right: .5ex}\n",
       ".dl-inline>dt:not(:first-of-type) {padding-left: .5ex}\n",
       "</style><dl class=dl-inline><dt>SNP_A</dt><dd>5.1</dd><dt>SNP_B</dt><dd>2</dd><dt>SNP_C</dt><dd>1.8</dd></dl>\n"
      ],
      "text/latex": [
       "\\begin{description*}\n",
       "\\item[SNP\\textbackslash{}\\_A] 5.1\n",
       "\\item[SNP\\textbackslash{}\\_B] 2\n",
       "\\item[SNP\\textbackslash{}\\_C] 1.8\n",
       "\\end{description*}\n"
      ],
      "text/markdown": [
       "SNP_A\n",
       ":   5.1SNP_B\n",
       ":   2SNP_C\n",
       ":   1.8\n",
       "\n"
      ],
      "text/plain": [
       "SNP_A SNP_B SNP_C \n",
       "  5.1   2.0   1.8 "
      ]
     },
     "metadata": {},
     "output_type": "display_data"
    },
    {
     "data": {
      "text/html": [
       "<table class=\"dataframe\">\n",
       "<caption>A matrix: 3 x 3 of type dbl</caption>\n",
       "<thead>\n",
       "\t<tr><th></th><th scope=col>SNP_A</th><th scope=col>SNP_B</th><th scope=col>SNP_C</th></tr>\n",
       "</thead>\n",
       "<tbody>\n",
       "\t<tr><th scope=row>SNP_A</th><td>1.0</td><td>0.8</td><td>0.6</td></tr>\n",
       "\t<tr><th scope=row>SNP_B</th><td>0.8</td><td>1.0</td><td>0.7</td></tr>\n",
       "\t<tr><th scope=row>SNP_C</th><td>0.6</td><td>0.7</td><td>1.0</td></tr>\n",
       "</tbody>\n",
       "</table>\n"
      ],
      "text/latex": [
       "A matrix: 3 x 3 of type dbl\n",
       "\\begin{tabular}{r|lll}\n",
       "  & SNP\\_A & SNP\\_B & SNP\\_C\\\\\n",
       "\\hline\n",
       "\tSNP\\_A & 1.0 & 0.8 & 0.6\\\\\n",
       "\tSNP\\_B & 0.8 & 1.0 & 0.7\\\\\n",
       "\tSNP\\_C & 0.6 & 0.7 & 1.0\\\\\n",
       "\\end{tabular}\n"
      ],
      "text/markdown": [
       "\n",
       "A matrix: 3 x 3 of type dbl\n",
       "\n",
       "| <!--/--> | SNP_A | SNP_B | SNP_C |\n",
       "|---|---|---|---|\n",
       "| SNP_A | 1.0 | 0.8 | 0.6 |\n",
       "| SNP_B | 0.8 | 1.0 | 0.7 |\n",
       "| SNP_C | 0.6 | 0.7 | 1.0 |\n",
       "\n"
      ],
      "text/plain": [
       "      SNP_A SNP_B SNP_C\n",
       "SNP_A 1.0   0.8   0.6  \n",
       "SNP_B 0.8   1.0   0.7  \n",
       "SNP_C 0.6   0.7   1.0  "
      ]
     },
     "metadata": {},
     "output_type": "display_data"
    }
   ],
   "source": [
    "Z\n",
    "R"
   ]
  },
  {
   "cell_type": "markdown",
   "id": "3e0109b7-5aaf-4ccb-a565-d0927e4929bf",
   "metadata": {},
   "source": [
    "- Define Models for comparison"
   ]
  },
  {
   "cell_type": "code",
   "execution_count": 17,
   "id": "4e7e5355-28dc-4bc3-8cff-56fd0480006e",
   "metadata": {
    "vscode": {
     "languageId": "r"
    }
   },
   "outputs": [],
   "source": [
    "# Possible causal configurations (max 2 causal SNPs)\n",
    "configs <- list(\n",
    "  c(),                 # M0: null\n",
    "  c(1), c(2), c(3),    # Single SNP\n",
    "  c(1, 2), c(1, 3), c(2, 3)  # Pairs\n",
    ")\n"
   ]
  },
  {
   "cell_type": "markdown",
   "id": "4ee0223b-6d46-473a-a4b8-77ddf0ac984d",
   "metadata": {},
   "source": [
    "- Compute Approximate Bayes Factors"
   ]
  },
  {
   "cell_type": "markdown",
   "id": "c2fc92dc",
   "metadata": {},
   "source": [
    "We assume:\n",
    "- Effect sizes $\\sim N(0, \\sigma^2)$\n",
    "- $Z \\sim N(R\\beta, R)$\n"
   ]
  },
  {
   "cell_type": "code",
   "execution_count": 18,
   "id": "71464a50",
   "metadata": {
    "vscode": {
     "languageId": "r"
    }
   },
   "outputs": [],
   "source": [
    "compute_abf <- function(causal_idx, Z, R, sigma2 = 0.05) {\n",
    "  if (length(causal_idx) == 0) {\n",
    "    return(1)  # model with no causal SNPs\n",
    "  }\n",
    "  # Subset R and Z\n",
    "  R_c <- R[causal_idx, causal_idx, drop = FALSE]\n",
    "  Z_c <- Z[causal_idx]\n",
    "  V <- R_c + sigma2 * diag(length(causal_idx))\n",
    "  exponent <- t(Z_c) %*% solve(V) %*% Z_c\n",
    "  abf <- sqrt(det(R_c) / det(V)) * exp(0.5 * exponent)\n",
    "  return(abf)\n",
    "}\n",
    "\n",
    "abfs <- sapply(configs, compute_abf, Z = Z, R = R)\n"
   ]
  },
  {
   "cell_type": "markdown",
   "id": "1f86190e-0bbe-4b0a-aa59-f52e45522f31",
   "metadata": {},
   "source": [
    "- Compute Posterior Model Probabilities"
   ]
  },
  {
   "cell_type": "code",
   "execution_count": 19,
   "id": "deed6dba",
   "metadata": {
    "vscode": {
     "languageId": "r"
    }
   },
   "outputs": [],
   "source": [
    "# Set prior p(causal SNP) = 0.01\n",
    "p <- 0.01\n",
    "m <- length(Z)\n",
    "\n",
    "# Prior on each model\n",
    "model_priors <- sapply(configs, function(cfg) {\n",
    "  k <- length(cfg)\n",
    "  p^k * (1 - p)^(m - k)\n",
    "})"
   ]
  },
  {
   "cell_type": "code",
   "execution_count": 20,
   "id": "cc74e3d4",
   "metadata": {
    "vscode": {
     "languageId": "r"
    }
   },
   "outputs": [
    {
     "data": {
      "text/html": [
       "<style>\n",
       ".list-inline {list-style: none; margin:0; padding: 0}\n",
       ".list-inline>li {display: inline-block}\n",
       ".list-inline>li:not(:last-child)::after {content: \"\\00b7\"; padding: 0 .5ex}\n",
       "</style>\n",
       "<ol class=list-inline><li>0.000275087664736681</li><li>0.649065672735477</li><li>1.82166643771154e-05</li><li>1.2685150258698e-05</li><li>0.335622074243419</li><li>0.0150060561799783</li><li>2.07361753517139e-07</li></ol>\n"
      ],
      "text/latex": [
       "\\begin{enumerate*}\n",
       "\\item 0.000275087664736681\n",
       "\\item 0.649065672735477\n",
       "\\item 1.82166643771154e-05\n",
       "\\item 1.2685150258698e-05\n",
       "\\item 0.335622074243419\n",
       "\\item 0.0150060561799783\n",
       "\\item 2.07361753517139e-07\n",
       "\\end{enumerate*}\n"
      ],
      "text/markdown": [
       "1. 0.000275087664736681\n",
       "2. 0.649065672735477\n",
       "3. 1.82166643771154e-05\n",
       "4. 1.2685150258698e-05\n",
       "5. 0.335622074243419\n",
       "6. 0.0150060561799783\n",
       "7. 2.07361753517139e-07\n",
       "\n",
       "\n"
      ],
      "text/plain": [
       "[1] 2.750877e-04 6.490657e-01 1.821666e-05 1.268515e-05 3.356221e-01\n",
       "[6] 1.500606e-02 2.073618e-07"
      ]
     },
     "metadata": {},
     "output_type": "display_data"
    }
   ],
   "source": [
    "# Posterior probabilities\n",
    "unnorm_posteriors <- abfs * model_priors\n",
    "posteriors <- unnorm_posteriors / sum(unnorm_posteriors)\n",
    "posteriors"
   ]
  },
  {
   "cell_type": "markdown",
   "id": "25729e87",
   "metadata": {},
   "source": [
    "- Compute and Plot PIPs"
   ]
  },
  {
   "cell_type": "code",
   "execution_count": 21,
   "id": "28d7225b",
   "metadata": {
    "vscode": {
     "languageId": "r"
    }
   },
   "outputs": [],
   "source": [
    "# PIP for each SNP\n",
    "pip <- setNames(rep(0, m), names(Z))\n",
    "for (i in seq_along(configs)) {\n",
    "  cfg <- configs[[i]]\n",
    "  if (length(cfg) > 0) {\n",
    "    pip[cfg] <- pip[cfg] + posteriors[i]\n",
    "  }\n",
    "}\n"
   ]
  },
  {
   "cell_type": "code",
   "execution_count": 22,
   "id": "675eaf91",
   "metadata": {
    "vscode": {
     "languageId": "r"
    }
   },
   "outputs": [
    {
     "data": {
      "image/png": "[encoded data removed]",
      "text/plain": [
       "plot without title"
      ]
     },
     "metadata": {
      "image/png": {
       "height": 420,
       "width": 420
      }
     },
     "output_type": "display_data"
    }
   ],
   "source": [
    "pip_df <- tibble(\n",
    "  SNP = names(pip),\n",
    "  PIP = pip\n",
    ")\n",
    "\n",
    "ggplot(pip_df, aes(x = SNP, y = PIP, fill = SNP)) +\n",
    "  geom_bar(stat = \"identity\") +\n",
    "  ylim(0, 1) +\n",
    "  labs(title = \"Posterior Inclusion Probabilities (PIP)\",\n",
    "       y = \"PIP\", x = \"\") +\n",
    "  theme_minimal() +\n",
    "  scale_fill_brewer(palette = \"Set2\")\n"
   ]
  },
  {
   "cell_type": "markdown",
   "id": "927df1ca",
   "metadata": {},
   "source": [
    "## Example 2 -- multivariate regression"
   ]
  },
  {
   "cell_type": "code",
   "execution_count": 103,
   "id": "5f10b2f7",
   "metadata": {
    "vscode": {
     "languageId": "r"
    }
   },
   "outputs": [],
   "source": [
    "rm(list = ls())  # Clear workspace\n",
    "library(MASS)     # For multivariate normal distribution\n",
    "library(tibble)   # For tidy data\n",
    "\n",
    "# --- 1. Define LD matrix for 3 SNPs ---\n",
    "R <- matrix(c(\n",
    "  1.0, 0.8, 0.2,\n",
    "  0.8, 1.0, 0.7,\n",
    "  0.2, 0.7, 1.0\n",
    "), nrow = 3, byrow = TRUE)\n",
    "colnames(R) <- rownames(R) <- c(\"SNP_A\", \"SNP_B\", \"SNP_C\")\n"
   ]
  },
  {
   "cell_type": "code",
   "execution_count": 104,
   "id": "46370f14",
   "metadata": {
    "vscode": {
     "languageId": "r"
    }
   },
   "outputs": [
    {
     "name": "stdout",
     "output_type": "stream",
     "text": [
      "       SNP_A SNP_B SNP_C\n",
      "Trait1   5.0   2.5   1.5\n",
      "Trait2   0.5   0.2  -0.1\n"
     ]
    }
   ],
   "source": [
    "# --- 2. Simulate Z-scores for 2 traits ---\n",
    "Z_trait1 <- c(5.0, 2.5, 1.5)  # Signal in SNP_A, others due to LD\n",
    "Z_trait2 <- c(0.5, 0.2, -0.1) # No signal\n",
    "\n",
    "Z <- rbind(Z_trait1, Z_trait2)\n",
    "colnames(Z) <- c(\"SNP_A\", \"SNP_B\", \"SNP_C\")\n",
    "rownames(Z) <- c(\"Trait1\", \"Trait2\")\n",
    "print(Z)\n"
   ]
  },
  {
   "cell_type": "code",
   "execution_count": 105,
   "id": "9f80d296",
   "metadata": {
    "vscode": {
     "languageId": "r"
    }
   },
   "outputs": [],
   "source": [
    "# --- 3. Define models ---\n",
    "models <- list(\n",
    "  M0 = c(FALSE, FALSE),  # No effect\n",
    "  M1 = c(TRUE, FALSE),   # Effect on Trait1 only\n",
    "  M2 = c(FALSE, TRUE),   # Effect on Trait2 only\n",
    "  M3 = c(TRUE, TRUE)     # Effect on both traits\n",
    ")\n"
   ]
  },
  {
   "cell_type": "code",
   "execution_count": 106,
   "id": "318736b9",
   "metadata": {
    "vscode": {
     "languageId": "r"
    }
   },
   "outputs": [],
   "source": [
    "# --- 4. Define log-likelihood function ---\n",
    "log_likelihood <- function(z_vec, mu_vec, Sigma) {\n",
    "  dist <- z_vec - mu_vec\n",
    "  ll <- -0.5 * t(dist) %*% solve(Sigma) %*% dist  # Multivariate normal log-likelihood\n",
    "  return(as.numeric(ll))\n",
    "}\n"
   ]
  },
  {
   "cell_type": "code",
   "execution_count": 107,
   "id": "64fdcf5f",
   "metadata": {
    "vscode": {
     "languageId": "r"
    }
   },
   "outputs": [],
   "source": [
    "# --- 5. Compute log-likelihoods for each model ---\n",
    "log_marg_liks <- sapply(models, function(effect_mask) {\n",
    "  mu <- rep(0, 2)  # Initial effect sizes (set to zero)\n",
    "  # Use a normal prior for the effect sizes, not hardcoded to 5\n",
    "  mu[effect_mask] <- rnorm(sum(effect_mask), mean = 0, sd = 1)  # Sampling effect size from normal prior\n",
    "  log_likelihood(Z[, \"SNP_A\"], mu, diag(2))  # Use diagonal covariance (independence across traits)\n",
    "})"
   ]
  },
  {
   "cell_type": "code",
   "execution_count": 108,
   "id": "86f1f6f1",
   "metadata": {
    "vscode": {
     "languageId": "r"
    }
   },
   "outputs": [],
   "source": [
    "# --- 6. Calculate Bayes Factors and Posterior ---\n",
    "log_BFs <- log_marg_liks - log_marg_liks[\"M0\"]  # Compare to null model\n",
    "BFs <- exp(log_BFs)\n",
    "posterior <- BFs / sum(BFs)  # Normalize to get posterior probabilities"
   ]
  },
  {
   "cell_type": "code",
   "execution_count": 109,
   "id": "f730bef1",
   "metadata": {
    "vscode": {
     "languageId": "r"
    }
   },
   "outputs": [
    {
     "name": "stdout",
     "output_type": "stream",
     "text": [
      "\u001b[90m# A tibble: 4 x 4\u001b[39m\n",
      "  Model logLik      BF PostProb\n",
      "  \u001b[3m\u001b[90m<chr>\u001b[39m\u001b[23m  \u001b[3m\u001b[90m<dbl>\u001b[39m\u001b[23m   \u001b[3m\u001b[90m<dbl>\u001b[39m\u001b[23m    \u001b[3m\u001b[90m<dbl>\u001b[39m\u001b[23m\n",
      "\u001b[90m1\u001b[39m M0    -\u001b[31m12\u001b[39m\u001b[31m.\u001b[39m\u001b[31m6\u001b[39m     1       0.001\n",
      "\u001b[90m2\u001b[39m M1     -\u001b[31m5\u001b[39m\u001b[31m.\u001b[39m\u001b[31m44\u001b[39m \u001b[4m1\u001b[24m322.      0.976\n",
      "\u001b[90m3\u001b[39m M2    -\u001b[31m12\u001b[39m\u001b[31m.\u001b[39m\u001b[31m8\u001b[39m     0.87    0.001\n",
      "\u001b[90m4\u001b[39m M3     -\u001b[31m9\u001b[39m\u001b[31m.\u001b[39m\u001b[31m19\u001b[39m   31.1     0.023\n"
     ]
    }
   ],
   "source": [
    "# --- 7. Output results ---\n",
    "results <- tibble(\n",
    "  Model = names(models),\n",
    "  logLik = round(log_marg_liks, 2),\n",
    "  BF = round(BFs, 2),\n",
    "  PostProb = round(posterior, 3)\n",
    ")\n",
    "\n",
    "print(results)\n"
   ]
  },
  {
   "cell_type": "code",
   "execution_count": null,
   "id": "044fea0b",
   "metadata": {
    "vscode": {
     "languageId": "r"
    }
   },
   "outputs": [],
   "source": []
  }
 ],
 "metadata": {
  "kernelspec": {
   "display_name": "R",
   "language": "R",
   "name": "ir"
  },
  "language_info": {
   "codemirror_mode": "r",
   "file_extension": ".r",
   "mimetype": "text/x-r-source",
   "name": "R",
   "pygments_lexer": "r",
   "version": "4.3.3"
  }
 },
 "nbformat": 4,
 "nbformat_minor": 5
}
