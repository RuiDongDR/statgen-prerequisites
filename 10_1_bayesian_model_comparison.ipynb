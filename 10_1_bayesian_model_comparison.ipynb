{
 "cells": [
  {
   "cell_type": "markdown",
   "id": "6a592f33-9cdf-499c-bcb6-006249ff7d18",
   "metadata": {},
   "source": [
    "## Bayesian model comparison\n",
    "\n",
    "# Intuition\n",
    "\n",
    "**FIGURE PLACEHOLDER:** ![Bayesian model comparison](image_placeholder)"
   ]
  },
  {
   "cell_type": "markdown",
   "id": "3cca07d0-6e6e-467d-9c1b-49a96424ad10",
   "metadata": {},
   "source": [
    "# Notation\n"
   ]
  },
  {
   "cell_type": "markdown",
   "id": "a83b4837-1a04-41d6-87ce-d0507b010231",
   "metadata": {},
   "source": [
    "### Compare $M_1$ and $M_2$ based on data $D$\n",
    "When comparing two models $M_1$ and $M_2$, we calculate the **posterior odds** for each model. The **posterior odds** represent the ratio of the posterior probabilities for the two models. This can be written as:\n",
    "\n",
    "$$\n",
    "\\frac{P(M_1|D)}{P(M_2|D)} = \\frac{P(D|M_1)P(M_1)}{P(D|M_2)P(M_2)}\n",
    "$$\n",
    "\n",
    "Where:\n",
    "- $P(M_1|D)$ is the **posterior** probability of model $M_1$ given the data $D$.\n",
    "- $P(M_2|D)$ is the **posterior** probability of model $M_2$ given the data $D$.\n",
    "- $P(D|M_1)$ and $P(D|M_2)$ are the **likelihoods** of the data under models $M_1$ and $M_2$, respectively.\n",
    "- $P(M_1)$ and $P(M_2)$ are the **prior probabilities** of models $M_1$ and $M_2$, respectively.\n",
    "\n",
    "This ratio simplifies to:\n",
    "\n",
    "$$\n",
    "\\text{Posterior Odds} = \\text{Prior Odds} \\times \\text{Likelihood Ratio (LR)}\n",
    "$$\n",
    "\n",
    "Where:\n",
    "- **Prior Odds** = $\\frac{P(M_1)}{P(M_2)}$ is the ratio of prior probabilities of the models.\n",
    "- **Likelihood Ratio (LR)** = $\\frac{P(D|M_1)}{P(D|M_2)}$ is the ratio of the likelihoods of the data under each model.\n",
    "\n",
    "Thus, the **posterior odds** can be updated by multiplying the **prior odds** by the **likelihood ratio**."
   ]
  },
  {
   "cell_type": "markdown",
   "id": "33dcaa7f-c2b3-4c06-ba37-e19efb02ed81",
   "metadata": {
    "tags": []
   },
   "source": [
    "\n",
    "To compare two models $M_1$ and $M_2$ in the multivariate case, we calculate the **posterior odds** for each model, just as we did in the univariate case. This allows us to update our belief about which model is more likely, given the observed data.\n",
    "\n",
    "The **posterior odds** are given by the ratio of the posterior probabilities of each model, which is the Bayes factor:\n",
    "\n",
    "$$\n",
    "\\text{Posterior Odds} = \\frac{P(M_1 | D)}{P(M_2 | D)}\n",
    "$$\n",
    "\n",
    "Using Bayes' theorem, this can be expressed as:\n",
    "\n",
    "$$\n",
    "\\text{Posterior Odds} = \\frac{P(D | M_1) P(M_1)}{P(D | M_2) P(M_2)}\n",
    "$$\n",
    "\n",
    "Where:\n",
    "- $P(M_1 | D)$ and $P(M_2 | D)$ are the posterior probabilities of models $M_1$ and $M_2$ given the data $D$.\n",
    "- $P(D | M_1)$ and $P(D | M_2)$ are the **likelihoods** of the observed data given the models $M_1$ and $M_2$.\n",
    "- $P(M_1)$ and $P(M_2)$ are the **prior probabilities** of the models.\n",
    "\n",
    "This ratio, known as the **Bayes Factor**, quantifies the strength of evidence in favor of one model over the other:\n",
    "\n",
    "$$\n",
    "\\text{Bayes Factor} = \\frac{P(D | M_1)}{P(D | M_2)}\n",
    "$$\n",
    "\n",
    "If the Bayes Factor is greater than 1, it suggests that $M_1$ is more likely given the data, while a Bayes Factor less than 1 suggests that $M_2$ is more likely. The larger the Bayes Factor, the stronger the evidence in favor of one model. A Bayes Factor close to 1 indicates that the models are equally supported by the data.\n",
    "\n",
    "In practice, the posterior probabilities for each model are computed by integrating the likelihood over the parameter space of the model and multiplying it by the prior probability. This allows us to calculate the **posterior distribution** for each model, which captures the uncertainty about the model’s parameters after observing the data.\n",
    "\n",
    "Therefore, model comparison in the Bayesian framework is not just about selecting a single best model but quantifying and comparing the plausibility of different models based on how well they fit the observed data.\n"
   ]
  },
  {
   "cell_type": "markdown",
   "id": "0db1c5b4-540c-4b78-9e51-dfbfc5cfe71e",
   "metadata": {
    "tags": []
   },
   "source": [
    "# Example\n",
    "\n",
    "## Model comparison\n",
    "TODO\n"
   ]
  },
  {
   "cell_type": "markdown",
   "id": "63cfd8fd-fb24-4966-a03f-bfe610dea864",
   "metadata": {},
   "source": []
  },
  {
   "cell_type": "markdown",
   "id": "3e0109b7-5aaf-4ccb-a565-d0927e4929bf",
   "metadata": {},
   "source": []
  },
  {
   "cell_type": "code",
   "execution_count": null,
   "id": "4e7e5355-28dc-4bc3-8cff-56fd0480006e",
   "metadata": {},
   "outputs": [],
   "source": []
  },
  {
   "cell_type": "markdown",
   "id": "4ee0223b-6d46-473a-a4b8-77ddf0ac984d",
   "metadata": {},
   "source": []
  },
  {
   "cell_type": "markdown",
   "id": "1f86190e-0bbe-4b0a-aa59-f52e45522f31",
   "metadata": {},
   "source": []
  },
  {
   "cell_type": "markdown",
   "id": "80903be9-77d2-40a3-8258-28e7718e61a6",
   "metadata": {},
   "source": []
  }
 ],
 "metadata": {
  "kernelspec": {
   "display_name": "R",
   "language": "R",
   "name": "ir"
  },
  "language_info": {
   "codemirror_mode": "r",
   "file_extension": ".r",
   "mimetype": "text/x-r-source",
   "name": "R",
   "pygments_lexer": "r",
   "version": "4.4.2"
  }
 },
 "nbformat": 4,
 "nbformat_minor": 5
}
