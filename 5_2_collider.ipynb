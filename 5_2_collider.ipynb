{
 "cells": [
  {
   "cell_type": "markdown",
   "id": "1e5900b0-da6a-415b-8e69-e7c01cff9327",
   "metadata": {},
   "source": [
    "# Intuition\n",
    "\n",
    "collider\n"
   ]
  },
  {
   "cell_type": "markdown",
   "id": "31be40c1-3534-42db-ae8d-07b5886fac15",
   "metadata": {},
   "source": [
    "# Notations"
   ]
  },
  {
   "cell_type": "markdown",
   "id": "7c27238b-7795-48be-958f-c064ed9f50b6",
   "metadata": {},
   "source": [
    "## Collider\n",
    "\n",
    "A **collider** is a variable that is influenced by both the independent variable (SNP) and the dependent variable (height). When we condition on a collider, we may introduce bias by creating a spurious association between the independent and dependent variables.\n",
    "\n",
    "## Example in Statistical Genetics\n",
    "\n",
    "Suppose we are studying the effect of a genetic variant (SNP) on a trait (e.g., height). **Study participation** can act as a collider between SNP and height.\n",
    "\n",
    "- **SNP influences study participation**: Certain genetic variants are associated with specific traits (like height), making individuals with these variants more likely to participate in studies related to those traits.\n",
    "- **Height influences study participation**: Taller individuals may be more likely to participate in a study about height due to an inherent interest or preexisting knowledge about their trait.\n",
    "\n",
    "- Graphical Representation\n",
    "\n",
    "$$ \\text{SNP} \\to \\textbf{Study Participation} \\leftarrow \\text{Height} $$\n",
    "\n",
    "## Why Study Participation is a Collider:\n",
    "\n",
    "1. **SNP influences study participation**: Individuals with specific SNPs may be more predisposed to certain traits (like height), making them more likely to participate in studies focusing on those traits.\n",
    "2. **Height influences study participation**: Taller people may have an interest in studying height-related genetics or may be more aware of their height as a characteristic, increasing their likelihood to participate in height-focused studies.\n",
    "3. **Collider bias**: If we control for study participation in the analysis, we condition on a variable that is influenced by both the SNP and height. This opens up a backdoor path between the SNP and height, leading to a **spurious association** between the two.\n"
   ]
  },
  {
   "cell_type": "markdown",
   "id": "58d544ce-922b-4a03-b765-9a1972fd1859",
   "metadata": {},
   "source": [
    "# Example"
   ]
  },
  {
   "cell_type": "code",
   "execution_count": 86,
   "id": "77db5047-6e43-4b9c-8afc-30b087c66a62",
   "metadata": {
    "tags": []
   },
   "outputs": [],
   "source": [
    "rm(list=ls())\n",
    "set.seed(52)  # For reproducibility\n",
    "library(dplyr)\n",
    "# Genotype matrix for 100 individuals and 3 variants\n",
    "N <- 100  # Number of individuals\n",
    "M <- 3    # Number of SNPs (variants)\n",
    "\n",
    "# Create genotype matrix (0, 1, 2 values for each SNP)\n",
    "X_raw <- matrix(sample(0:2, N * M, replace = TRUE), nrow = N, ncol = M)\n",
    "\n",
    "# Add row and column names\n",
    "rownames(X_raw) <- paste(\"Individual\", 1:N)\n",
    "colnames(X_raw) <- paste(\"Variant\", 1:M)\n",
    "\n",
    "# Standardize genotype matrix (mean = 0, sd = 1 for each SNP)\n",
    "X <- scale(X_raw, scale = TRUE)\n",
    "\n",
    "# Generate height (y) without any causal effect from SNP to y\n",
    "y <- rnorm(N, mean = 0, sd = 1)  # Random height, no effect from SNP\n"
   ]
  },
  {
   "cell_type": "code",
   "execution_count": 87,
   "id": "0f2c5a68-f2bb-4e02-86b9-1b7dc1d534fe",
   "metadata": {
    "tags": []
   },
   "outputs": [],
   "source": [
    "# Simulate study participation based on SNP (second variant) and height (y)\n",
    "# Assume individuals with mutation on Variant 2 or those with higher height have a higher chance of participation\n",
    "\n",
    "# Define probability of study participation\n",
    "prob_participation <- 1.5 * (X[, 2] >= 1) + 1.5 * (y > median(y))  # Stronger effect for mutation or being taller\n",
    "\n",
    "# Simulate participation (1 = participate, 0 = not participate)\n",
    "study_participation <- ifelse(runif(N) < prob_participation, 1, 0)\n",
    "\n",
    "# Create data frame with the results\n",
    "data <- data.frame(Individual = 1:N, y = y, Study_Participation = factor(study_participation, levels = c(0, 1), labels = c(\"No\", \"Yes\")))\n",
    "data <- cbind(data, X)  # Add genotype data"
   ]
  },
  {
   "cell_type": "code",
   "execution_count": 88,
   "id": "fdbbbdda-764a-4471-8502-5a4a663e3b4d",
   "metadata": {
    "tags": []
   },
   "outputs": [
    {
     "data": {
      "text/plain": [
       "\n",
       "Call:\n",
       "lm(formula = y ~ `Variant 2`, data = participants_data)\n",
       "\n",
       "Residuals:\n",
       "     Min       1Q   Median       3Q      Max \n",
       "-1.77226 -0.51515 -0.07965  0.49138  1.75208 \n",
       "\n",
       "Coefficients:\n",
       "            Estimate Std. Error t value Pr(>|t|)    \n",
       "(Intercept)  0.46638    0.09699   4.809 9.37e-06 ***\n",
       "`Variant 2` -0.34349    0.09347  -3.675 0.000483 ***\n",
       "---\n",
       "Signif. codes:  0 ‘***’ 0.001 ‘**’ 0.01 ‘*’ 0.05 ‘.’ 0.1 ‘ ’ 1\n",
       "\n",
       "Residual standard error: 0.7585 on 65 degrees of freedom\n",
       "Multiple R-squared:  0.172,\tAdjusted R-squared:  0.1593 \n",
       "F-statistic: 13.51 on 1 and 65 DF,  p-value: 0.0004835\n"
      ]
     },
     "metadata": {},
     "output_type": "display_data"
    }
   ],
   "source": [
    "# Filter data for participants only (Study_Participation == \"Yes\")\n",
    "participants_data <- data %>% filter(Study_Participation == \"Yes\")\n",
    "# Run linear regression on participants only\n",
    "model_participants <- lm(y ~ `Variant 2`, data = participants_data)\n",
    "\n",
    "# Display the summary of the regression model\n",
    "summary(model_participants)\n"
   ]
  },
  {
   "cell_type": "markdown",
   "id": "7905fb8e-72a4-473f-9758-ccb396b60cca",
   "metadata": {},
   "source": [
    "\n",
    "In this analysis, we are examining the relationship between `Variant 2` (the SNP mutation) and `y` (height) using data from only the participants in the study. The results are as follows:\n",
    "\n",
    "The regression shows that `Variant 2` is significantly associated with `y` (p-value = 0.000483), with an estimated effect of -0.34349. The p-value indicates that `Variant 2` has a statistically significant effect on height in the study participants.\n",
    "\n",
    "\n",
    "However, the significant relationship between `Variant 2` and height in the study participants may be misleading due to the presence of a **collider bias**. The **study participation** variable is influenced by both the SNP (mutation) and height, making it a collider between these two factors. Here’s why this is a problem:\n",
    "\n",
    "- **Study Participation as a Collider**: Individuals with the SNP mutation (`Variant 2`) or those who are taller (`y > median(y)`) are more likely to participate in the study. This introduces a bias because participation is not random but dependent on both the genetic variant and the trait being studied (height).\n",
    "  \n",
    "- **How the Collider Biases the Results**: \n",
    "  - The regression is conducted only on those individuals who participated in the study. Therefore, by conditioning on study participation, we are conditioning on a variable that is influenced by both the genotype and the phenotype (height).\n",
    "  - This creates a spurious association between `Variant 2` and height because the study participation variable \"opens a backdoor path\" from the SNP to height, making it appear as though there is a direct relationship between `Variant 2` and height when, in fact, the true effect may be confounded by participation.\n",
    "\n",
    "In this case, the estimated effect of `Variant 2` on height may be **biased** and not reflect the true relationship between the SNP and height. The effect seen in this model may arise from the selection of participants based on their genotype and height rather than a direct causal effect of the SNP on height.\n"
   ]
  },
  {
   "cell_type": "code",
   "execution_count": null,
   "id": "f4a195ee-5fc4-4391-8b36-53252a9ee95e",
   "metadata": {},
   "outputs": [],
   "source": []
  }
 ],
 "metadata": {
  "kernelspec": {
   "display_name": "R",
   "language": "R",
   "name": "ir"
  },
  "language_info": {
   "codemirror_mode": "r",
   "file_extension": ".r",
   "mimetype": "text/x-r-source",
   "name": "R",
   "pygments_lexer": "r",
   "version": "4.4.2"
  },
  "toc-autonumbering": true
 },
 "nbformat": 4,
 "nbformat_minor": 5
}
