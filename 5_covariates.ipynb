{
 "cells": [
  {
   "cell_type": "markdown",
   "id": "1e5900b0-da6a-415b-8e69-e7c01cff9327",
   "metadata": {},
   "source": [
    "# Intuition\n",
    "\n"
   ]
  },
  {
   "cell_type": "markdown",
   "id": "31be40c1-3534-42db-ae8d-07b5886fac15",
   "metadata": {},
   "source": [
    "# Notations"
   ]
  },
  {
   "cell_type": "markdown",
   "id": "785a556f-4edd-48ed-8245-301f4ff83ff6",
   "metadata": {},
   "source": [
    "In statistical genetics, understanding the relationships between variables is crucial for accurate analysis. Confounders, colliders, and mediators play important roles in shaping these relationships, particularly in causal inference. Below, we explore these concepts with examples relevant to genetic studies.\n",
    "\n",
    "## Confounder\n",
    "\n",
    "A **confounder** is a variable that influences both the independent variable (genotype) and the dependent variable (trait), creating a spurious relationship between the two. If not controlled for, a confounder can distort the true relationship between the genotype and the trait.\n",
    "\n",
    "- **Example in Statistical Genetics:**  \n",
    "  Suppose we are studying the effect of a genetic variant (genotype) on a trait (e.g., height). If **population stratification** or **ancestry** influences both the genotype and height, it is a confounder. Failing to control for ancestry could lead to biased estimates of the genetic effect on the trait.\n",
    "\n",
    "- **Graphical Representation: [FIXME -- do the figure in a better way]**\n",
    "$$ \\text{Genotype} \\leftarrow \\textbf{Ancestry} \\to \\text{Height} $$  \n",
    "\n",
    "Here, **ancestry** represents the confounder that affects both the genotype and the trait (height).\n",
    "\n",
    "Confounding can cause bias in the estimation of the relationship between the genotype and the trait. To avoid this bias, confounders **must be controlled** in the analysis, typically by including them as covariates in regression models.\n"
   ]
  },
  {
   "cell_type": "markdown",
   "id": "320580ec-d874-457d-a748-d654c0dc32a5",
   "metadata": {},
   "source": [
    "## Collider\n",
    "\n",
    "A **collider** is a variable that is influenced by both the independent variable (genotype) and the dependent variable (trait). Conditioning on a collider (by including it in the model) can create a spurious relationship between the genotype and the trait.\n",
    "\n",
    "- **Example in Statistical Genetics:**  \n",
    "  Consider studying the effect of a genetic variant (genotype) on a trait (e.g., height), but both the genotype and the trait are influenced by a third variable, **age**. If we condition on **age**, we might introduce collider bias.\n",
    "\n",
    "- **Graphical Representation:**\n",
    "  $$ \\text{Genotype} \\to \\textbf{Age} \\leftarrow \\text{Height} $$  \n",
    "  Conditioning on **age** can create an association between the genotype and the trait that is not causal.\n",
    "\n",
    "  In this case, **age** is a **collider** because it is influenced by both the genotype (via genetic predisposition to age-related traits) and the height (through factors like growth patterns or age-related changes in height). By conditioning on **age** (e.g., including it as a covariate in the regression model), we can introduce a spurious relationship between the genotype and the height, which does not reflect a true causal effect. \n",
    "\n",
    "Therefore, colliders like **age** should generally be avoided as covariates in statistical models to prevent introducing biased or misleading results.\n"
   ]
  },
  {
   "cell_type": "markdown",
   "id": "a96aea2d-8b37-4a76-94ab-52ff98e1f7bd",
   "metadata": {},
   "source": [
    "## **Mediator**\n",
    "\n",
    "A **mediator** is a variable that lies on the causal pathway between the independent variable (genotype) and the dependent variable (trait). It explains how or why the independent variable affects the dependent variable.\n",
    "\n",
    "- **Example in Statistical Genetics:**  \n",
    "  Suppose we are studying the effect of a genetic variant (genotype) on a trait (e.g., height). A potential **mediator** could be **BMI** (Body Mass Index), which mediates the relationship between the genetic variant and the trait. In this case, BMI helps explain how the genetic variant influences height.\n",
    "\n",
    "- **Graphical Representation:**\n",
    "  $$ \\text{Genotype} \\to \\textbf{BMI} \\to \\text{Height} $$  \n",
    "  Here, **BMI** is a mediator that explains the causal effect of the genotype on height.\n",
    "\n",
    "Understanding mediation allows us to estimate both the **direct effect** of the genotype on the trait and the **indirect effect** through the mediator. Depending on the research question, mediators may or may not be included in the model.\n"
   ]
  },
  {
   "cell_type": "markdown",
   "id": "ebcb275e-8881-43a7-bccb-caf460122d57",
   "metadata": {},
   "source": [
    "## Key Differences and Summary\n",
    "\n",
    "| Type         | Definition | Direction of Influence | Impact on Relationship | Example in Genetics |\n",
    "|--------------|------------|------------------------|------------------------|---------------------|\n",
    "| **Confounder** | A variable that affects both genotype and trait, potentially distorting the observed relationship between them. | Ancestry $\\to$ Genotype $\\to$ Height<br>Ancestry $\\to$ Height | Can create spurious associations between genotype and trait. Needs to be controlled for. | Ancestry affects both genotype and height. |\n",
    "| **Collider**  | A variable that is influenced by both genotype and trait. Conditioning on a collider can create a spurious association. | Genotype $\\to$ Genetic Predisposition $\\leftarrow$ Height | Can create false associations if conditioned on. | Genetic predisposition affects both genotype and height. |\n",
    "| **Mediator**  | A variable that lies on the causal pathway between genotype and trait and explains how genotype affects the trait. | Genotype $\\to$ Bone Density $\\to$ Height | Provides insight into the causal mechanism. | Bone density mediates the relationship between genotype and height. |\n",
    "\n"
   ]
  },
  {
   "cell_type": "markdown",
   "id": "557561ae-5e83-47ba-8089-03c2a4235f71",
   "metadata": {},
   "source": [
    "## Practical Example in Statistical Genetics\n",
    "\n",
    "Let’s consider a simple example of studying the effect of a genetic variant (genotype) on height using linear regression:\n",
    "\n",
    "$$ \\text{Height}_i = \\beta_0 + \\beta_1 \\text{Genotype}_j + \\epsilon_i $$\n",
    "\n",
    "Where:\n",
    "\n",
    "- $\\text{Height}_i$ is the height of individual $i$.\n",
    "- $\\text{Genotype}_j$ is the genotype of individual $i$ for variant $j$ (e.g., the number of minor alleles).\n",
    "- $\\beta_0$ is the baseline height.\n",
    "- $\\beta_1$ is the effect size of the genetic variant on height.\n",
    "- $\\epsilon_i$ is the error term.\n",
    "\n",
    "\n",
    "In this model, the relationship between the genotype and the trait could be confounded by variables like **ancestry**, mediated by variables like **bone density**, or distorted by **colliders** like **genetic predisposition**.\n",
    "\n",
    "By correctly identifying and adjusting for these variables, we can obtain a more accurate estimate of the genetic effect on the trait.\n",
    "\n"
   ]
  },
  {
   "cell_type": "markdown",
   "id": "58d544ce-922b-4a03-b765-9a1972fd1859",
   "metadata": {},
   "source": [
    "# Example"
   ]
  },
  {
   "cell_type": "code",
   "execution_count": 49,
   "id": "77db5047-6e43-4b9c-8afc-30b087c66a62",
   "metadata": {
    "tags": []
   },
   "outputs": [],
   "source": [
    "rm(list=ls())\n",
    "set.seed(5)\n",
    "\n",
    "# Simulate true mean and effect size\n",
    "baseline <- 170  # Population mean of the trait (e.g., height in cm) when the genetic variant has no effect (Model 1)\n",
    "theta_true <- 2  # True effect size of the genetic variant. This represents the change in height (in cm) associated with each additional minor allele (Model 2)\n",
    "sd_y <- 1  # Standard deviation of the trait (e.g., variability in height measurement within the population)\n",
    "\n",
    "# Simulate genotype and height values for a larger sample\n",
    "n <- 1000  # Number of individuals in the dataset\n",
    "genotype <- sample(c(0, 1, 2), n, replace = TRUE)  # Genotypes for 1000 individuals\n"
   ]
  },
  {
   "cell_type": "code",
   "execution_count": 50,
   "id": "34cd189d-b3b1-4e6c-bfb6-068aedca8beb",
   "metadata": {
    "tags": []
   },
   "outputs": [],
   "source": [
    "# Simulate the covariates\n",
    "# 1. Confounder: Ancestry (affects both genotype and height)\n",
    "ancestry <- rnorm(n, mean = 0.3, sd = 0.1)\n",
    "\n",
    "# 2. Collider: Age (affected by both genotype and height)\n",
    "age <- rnorm(n, mean = 40, sd = 10)\n",
    "\n",
    "# 3. Mediator: BMI (affects genotype-height relationship)\n",
    "bmi <- rnorm(n, mean = 25, sd = 4)"
   ]
  },
  {
   "cell_type": "code",
   "execution_count": 51,
   "id": "989b444c-7192-4f74-bf37-c231c24adb6b",
   "metadata": {},
   "outputs": [
    {
     "data": {
      "text/html": [
       "<table class=\"dataframe\">\n",
       "<caption>A data.frame: 3 × 5</caption>\n",
       "<thead>\n",
       "\t<tr><th></th><th scope=col>genotype</th><th scope=col>height</th><th scope=col>ancestry</th><th scope=col>bmi</th><th scope=col>age</th></tr>\n",
       "\t<tr><th></th><th scope=col>&lt;dbl&gt;</th><th scope=col>&lt;dbl&gt;</th><th scope=col>&lt;dbl&gt;</th><th scope=col>&lt;dbl&gt;</th><th scope=col>&lt;dbl&gt;</th></tr>\n",
       "</thead>\n",
       "<tbody>\n",
       "\t<tr><th scope=row>1</th><td>1</td><td>170.4351</td><td>0.4497451</td><td>27.07505</td><td>29.11596</td></tr>\n",
       "\t<tr><th scope=row>2</th><td>2</td><td>173.7714</td><td>0.3343624</td><td>21.02533</td><td>45.59249</td></tr>\n",
       "\t<tr><th scope=row>3</th><td>0</td><td>173.9096</td><td>0.3385473</td><td>14.93555</td><td>44.23577</td></tr>\n",
       "</tbody>\n",
       "</table>\n"
      ],
      "text/latex": [
       "A data.frame: 3 × 5\n",
       "\\begin{tabular}{r|lllll}\n",
       "  & genotype & height & ancestry & bmi & age\\\\\n",
       "  & <dbl> & <dbl> & <dbl> & <dbl> & <dbl>\\\\\n",
       "\\hline\n",
       "\t1 & 1 & 170.4351 & 0.4497451 & 27.07505 & 29.11596\\\\\n",
       "\t2 & 2 & 173.7714 & 0.3343624 & 21.02533 & 45.59249\\\\\n",
       "\t3 & 0 & 173.9096 & 0.3385473 & 14.93555 & 44.23577\\\\\n",
       "\\end{tabular}\n"
      ],
      "text/markdown": [
       "\n",
       "A data.frame: 3 × 5\n",
       "\n",
       "| <!--/--> | genotype &lt;dbl&gt; | height &lt;dbl&gt; | ancestry &lt;dbl&gt; | bmi &lt;dbl&gt; | age &lt;dbl&gt; |\n",
       "|---|---|---|---|---|---|\n",
       "| 1 | 1 | 170.4351 | 0.4497451 | 27.07505 | 29.11596 |\n",
       "| 2 | 2 | 173.7714 | 0.3343624 | 21.02533 | 45.59249 |\n",
       "| 3 | 0 | 173.9096 | 0.3385473 | 14.93555 | 44.23577 |\n",
       "\n"
      ],
      "text/plain": [
       "  genotype height   ancestry  bmi      age     \n",
       "1 1        170.4351 0.4497451 27.07505 29.11596\n",
       "2 2        173.7714 0.3343624 21.02533 45.59249\n",
       "3 0        173.9096 0.3385473 14.93555 44.23577"
      ]
     },
     "metadata": {},
     "output_type": "display_data"
    }
   ],
   "source": [
    "# Simulate height values for the individuals with the following model:\n",
    "# height = baseline + theta_true * genotype + 5 * ancestry - 0.3 * bmi + 0.1 * age + random noise\n",
    "height_values <- rnorm(n, mean = baseline + theta_true * genotype + 5 * ancestry - 0.3 * bmi + 0.1 * age, sd = sd_y)\n",
    "\n",
    "# Create a data frame with genotype, height, and covariates\n",
    "data <- data.frame(\n",
    "  genotype = genotype,\n",
    "  height = height_values,\n",
    "  ancestry = ancestry,\n",
    "  bmi = bmi,\n",
    "  age = age\n",
    ")\n",
    "\n",
    "head(data,3)"
   ]
  },
  {
   "cell_type": "code",
   "execution_count": 52,
   "id": "b20e4cca-156a-4411-adff-03c472f96d36",
   "metadata": {
    "tags": []
   },
   "outputs": [
    {
     "name": "stdout",
     "output_type": "stream",
     "text": [
      "[1] \"================ not considering covaraites ===========\"\n"
     ]
    },
    {
     "data": {
      "text/plain": [
       "\n",
       "Call:\n",
       "lm(formula = height ~ genotype, data = data)\n",
       "\n",
       "Residuals:\n",
       "    Min      1Q  Median      3Q     Max \n",
       "-6.4594 -1.3515  0.0065  1.4157  5.8707 \n",
       "\n",
       "Coefficients:\n",
       "            Estimate Std. Error t value Pr(>|t|)    \n",
       "(Intercept) 168.0390     0.0973  1726.9   <2e-16 ***\n",
       "genotype      1.9854     0.0755    26.3   <2e-16 ***\n",
       "---\n",
       "Signif. codes:  0 ‘***’ 0.001 ‘**’ 0.01 ‘*’ 0.05 ‘.’ 0.1 ‘ ’ 1\n",
       "\n",
       "Residual standard error: 1.956 on 998 degrees of freedom\n",
       "Multiple R-squared:  0.4093,\tAdjusted R-squared:  0.4087 \n",
       "F-statistic: 691.5 on 1 and 998 DF,  p-value: < 2.2e-16\n"
      ]
     },
     "metadata": {},
     "output_type": "display_data"
    },
    {
     "name": "stdout",
     "output_type": "stream",
     "text": [
      "[1] \"================ considering covaraites ===========\"\n"
     ]
    },
    {
     "data": {
      "text/plain": [
       "\n",
       "Call:\n",
       "lm(formula = height ~ genotype + ancestry + bmi + age, data = data)\n",
       "\n",
       "Residuals:\n",
       "    Min      1Q  Median      3Q     Max \n",
       "-3.6532 -0.6696  0.0146  0.6191  3.4064 \n",
       "\n",
       "Coefficients:\n",
       "              Estimate Std. Error t value Pr(>|t|)    \n",
       "(Intercept) 170.108434   0.267998  634.74   <2e-16 ***\n",
       "genotype      1.958498   0.039692   49.34   <2e-16 ***\n",
       "ancestry      4.816290   0.321812   14.97   <2e-16 ***\n",
       "bmi          -0.304198   0.008319  -36.57   <2e-16 ***\n",
       "age           0.102633   0.003233   31.74   <2e-16 ***\n",
       "---\n",
       "Signif. codes:  0 ‘***’ 0.001 ‘**’ 0.01 ‘*’ 0.05 ‘.’ 0.1 ‘ ’ 1\n",
       "\n",
       "Residual standard error: 1.025 on 995 degrees of freedom\n",
       "Multiple R-squared:  0.8382,\tAdjusted R-squared:  0.8375 \n",
       "F-statistic:  1288 on 4 and 995 DF,  p-value: < 2.2e-16\n"
      ]
     },
     "metadata": {},
     "output_type": "display_data"
    }
   ],
   "source": [
    "# Perform linear regression without considering any covariates (Model 1)\n",
    "model_no_covariates <- lm(height ~ genotype, data = data)\n",
    "\n",
    "# Perform linear regression including covariates (Model 2)\n",
    "model_with_covariates <- lm(height ~ genotype + ancestry + bmi + age, data = data)\n",
    "\n",
    "# Summary of both models\n",
    "print(\"================ not considering covaraites ===========\")\n",
    "summary(model_no_covariates)\n",
    "\n",
    "print(\"================ considering covaraites ===========\")\n",
    "summary(model_with_covariates)"
   ]
  },
  {
   "cell_type": "markdown",
   "id": "7e96391d-1555-4eb8-ba8e-e5e228eee6e8",
   "metadata": {},
   "source": [
    "Including covariates (ancestry, BMI, and age) in the model improves both the model fit and the precision of the estimated effect of the genotype. Specifically:\n",
    "\n",
    "- **Better Model Fit:** The increase in $R^2$ from 40.93% to 83.82% shows that the covariates are important in explaining the variation in height.\n",
    "- **More Accurate Effect Size:** The change in the genotype effect from 1.99 to 1.96 is small, but it indicates that the estimate becomes more precise when adjusted for the influence of other factors. This adjustment leads to a better understanding of the true relationship between genotype and height.\n",
    "- **Understanding Confounding:** Without adjusting for confounders like ancestry, BMI, and age, the estimate for genotype might be biased. By considering these covariates, we control for their potential confounding effects, leading to a more accurate estimate of the genotype-height relationship.\n",
    "\n",
    "Thus, this analysis clearly demonstrates the importance of considering covariates to obtain unbiased and more reliable estimates in genetic studies.\n"
   ]
  },
  {
   "cell_type": "code",
   "execution_count": null,
   "id": "3f970c4b-0593-45fd-873b-f5dc5a573ff8",
   "metadata": {},
   "outputs": [],
   "source": []
  }
 ],
 "metadata": {
  "kernelspec": {
   "display_name": "R",
   "language": "R",
   "name": "ir"
  },
  "language_info": {
   "codemirror_mode": "r",
   "file_extension": ".r",
   "mimetype": "text/x-r-source",
   "name": "R",
   "pygments_lexer": "r",
   "version": "4.4.2"
  },
  "toc-autonumbering": true
 },
 "nbformat": 4,
 "nbformat_minor": 5
}
