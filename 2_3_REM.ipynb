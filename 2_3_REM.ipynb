{
 "cells": [
  {
   "cell_type": "markdown",
   "id": "1e5900b0-da6a-415b-8e69-e7c01cff9327",
   "metadata": {},
   "source": [
    "# Intuition\n"
   ]
  },
  {
   "cell_type": "markdown",
   "id": "bcacea7f",
   "metadata": {},
   "source": [
    "![figure](./cartoons/2_3.svg)"
   ]
  },
  {
   "cell_type": "markdown",
   "id": "31be40c1-3534-42db-ae8d-07b5886fac15",
   "metadata": {},
   "source": [
    "# Notations"
   ]
  },
  {
   "cell_type": "markdown",
   "id": "4ec684d5-6ab2-4762-b02c-7836dbd4a7ce",
   "metadata": {},
   "source": [
    "## Random Effect Model for Meta-Analysis\n",
    "\n",
    "In a **random effect meta-analysis**, we assume that the observed effect size $\\hat{\\beta}_k$ from study $k$ follows a normal distribution:\n",
    "\n",
    "$$\n",
    "\\hat{\\beta}_k \\sim N(\\beta_k, s_k^2)\n",
    "$$\n",
    "\n",
    "Where:\n",
    "- $\\beta_k$ is the **true effect size** for SNP $j$ in study $k$, which is assumed to vary across studies.\n",
    "- $s_k^2$ is the **variance** of the observed effect size $\\hat{\\beta}_k$ for study $k$, reflecting the precision of the estimate in study $k$.\n",
    "- $\\beta_k$ itself follows a normal distribution across studies, with mean $\\beta$ and variance $\\sigma^2$:\n",
    "\n",
    "$$\n",
    "\\beta_k \\sim N(\\beta, \\sigma^2)\n",
    "$$\n",
    "\n",
    "Thus, we assume that the true effect size $\\beta_k$ is random and varies across studies, and the observed effect size $\\hat{\\beta}_k$ is drawn from this distribution.\n",
    "\n",
    "## Combined Estimate of Effect Size (Random Effects Model)\n",
    "\n",
    "In the **random effect model**, the goal of the meta-analysis is to estimate the **true effect size** $\\beta$ by taking into account both the within-study variance ($s_k^2$) and the between-study variance ($\\sigma^2$). The combined estimate of the effect size is calculated by **weighting** the observed effect sizes $\\hat{\\beta}_k$ using a modified weight that incorporates both sources of variance:\n",
    "\n",
    "$$\n",
    "\\hat{\\beta} = \\frac{\\sum_{k=1}^{K} w_k \\hat{\\beta}_k}{\\sum_{k=1}^{K} w_k}\n",
    "$$\n",
    "\n",
    "Where:\n",
    "- $w_k = \\frac{1}{s_k^2 + \\sigma^2}$ is the weight for study $k$, which accounts for both the precision of the estimate and the between-study variability.\n",
    "\n",
    "The inclusion of $\\sigma^2$ in the weight adjusts for the fact that the true effect size $\\beta_k$ may differ across studies, unlike the fixed effect model where the effect size is assumed to be constant across all studies.\n",
    "\n"
   ]
  },
  {
   "cell_type": "markdown",
   "id": "58d544ce-922b-4a03-b765-9a1972fd1859",
   "metadata": {},
   "source": [
    "# Example"
   ]
  },
  {
   "cell_type": "code",
   "execution_count": 1,
   "id": "77db5047-6e43-4b9c-8afc-30b087c66a62",
   "metadata": {
    "tags": [],
    "vscode": {
     "languageId": "r"
    }
   },
   "outputs": [
    {
     "data": {
      "text/html": [
       "<table class=\"dataframe\">\n",
       "<caption>A data.frame: 3 x 4</caption>\n",
       "<thead>\n",
       "\t<tr><th scope=col>Variant</th><th scope=col>Beta</th><th scope=col>SE</th><th scope=col>P_Value</th></tr>\n",
       "\t<tr><th scope=col>&lt;chr&gt;</th><th scope=col>&lt;dbl&gt;</th><th scope=col>&lt;dbl&gt;</th><th scope=col>&lt;dbl&gt;</th></tr>\n",
       "</thead>\n",
       "<tbody>\n",
       "\t<tr><td>Variant 1</td><td>0.09196543</td><td>0.1143991</td><td>4.234006e-01</td></tr>\n",
       "\t<tr><td>Variant 2</td><td>0.45309364</td><td>0.1052551</td><td>3.966895e-05</td></tr>\n",
       "\t<tr><td>Variant 3</td><td>0.10775096</td><td>0.1142584</td><td>3.479765e-01</td></tr>\n",
       "</tbody>\n",
       "</table>\n"
      ],
      "text/latex": [
       "A data.frame: 3 x 4\n",
       "\\begin{tabular}{llll}\n",
       " Variant & Beta & SE & P\\_Value\\\\\n",
       " <chr> & <dbl> & <dbl> & <dbl>\\\\\n",
       "\\hline\n",
       "\t Variant 1 & 0.09196543 & 0.1143991 & 4.234006e-01\\\\\n",
       "\t Variant 2 & 0.45309364 & 0.1052551 & 3.966895e-05\\\\\n",
       "\t Variant 3 & 0.10775096 & 0.1142584 & 3.479765e-01\\\\\n",
       "\\end{tabular}\n"
      ],
      "text/markdown": [
       "\n",
       "A data.frame: 3 x 4\n",
       "\n",
       "| Variant &lt;chr&gt; | Beta &lt;dbl&gt; | SE &lt;dbl&gt; | P_Value &lt;dbl&gt; |\n",
       "|---|---|---|---|\n",
       "| Variant 1 | 0.09196543 | 0.1143991 | 4.234006e-01 |\n",
       "| Variant 2 | 0.45309364 | 0.1052551 | 3.966895e-05 |\n",
       "| Variant 3 | 0.10775096 | 0.1142584 | 3.479765e-01 |\n",
       "\n"
      ],
      "text/plain": [
       "  Variant   Beta       SE        P_Value     \n",
       "1 Variant 1 0.09196543 0.1143991 4.234006e-01\n",
       "2 Variant 2 0.45309364 0.1052551 3.966895e-05\n",
       "3 Variant 3 0.10775096 0.1142584 3.479765e-01"
      ]
     },
     "metadata": {},
     "output_type": "display_data"
    }
   ],
   "source": [
    "rm(list=ls())\n",
    "set.seed(22)  # For reproducibility\n",
    "\n",
    "# ---- Define Parameters ----\n",
    "N1 <- 100  # Number of individuals in study 1\n",
    "N2 <- 500  # Number of individuals in study 2\n",
    "M <- 3     # Number of SNPs (variants)\n",
    "sigma2 <- 0.2  # Variance of the effect sizes\n",
    "\n",
    "# ---- Generate True Effect Sizes for Each Variant ----\n",
    "true_betas1 <- rnorm(M, mean = 0, sd = sigma2)  # True effect sizes for Study 1\n",
    "true_betas2 <- rnorm(M, mean = 0, sd = sigma2)  # True effect sizes for Study 2\n",
    "\n",
    "# Set the true effect size of the second variant to be 0.5 for both studies (causal variant)\n",
    "true_betas1[2] <- rnorm(1, mean = 0.5, sd = sigma2)\n",
    "true_betas2[2] <- rnorm(1, mean = 0.5, sd = sigma2)\n",
    "\n",
    "# ---- Study 1 (100 individuals) ----\n",
    "X_raw1 <- matrix(sample(0:2, N1 * M, replace = TRUE), nrow = N1, ncol = M)\n",
    "rownames(X_raw1) <- paste(\"Individual\", 1:N1)\n",
    "colnames(X_raw1) <- paste(\"Variant\", 1:M)\n",
    "\n",
    "# Standardize genotype matrix for Study 1\n",
    "X1 = scale(X_raw1, scale=TRUE)\n",
    "\n",
    "# Simulate the response vector for Study 1 with true effect size for each variant + random noise\n",
    "y1 <- X1 %*% true_betas1 + rnorm(N1, mean = 0, sd = 1)\n",
    "\n",
    "# Perform GWAS for Study 1\n",
    "p_values1 <- numeric(M)\n",
    "betas1 <- numeric(M)\n",
    "se1 <- numeric(M)\n",
    "\n",
    "for (j in 1:M) {\n",
    "  SNP <- X1[, j]\n",
    "  model <- lm(y1 ~ SNP)\n",
    "  summary_model <- summary(model)\n",
    "  \n",
    "  p_values1[j] <- summary_model$coefficients[2, 4]  # p-value\n",
    "  betas1[j] <- summary_model$coefficients[2, 1]     # Estimated effect size\n",
    "  se1[j] <- summary_model$coefficients[2, 2]        # Standard error\n",
    "}\n",
    "\n",
    "gwas_results1 <- data.frame(Variant = colnames(X1), Beta = betas1, SE = se1, P_Value = p_values1)\n",
    "gwas_results1"
   ]
  },
  {
   "cell_type": "code",
   "execution_count": 3,
   "id": "989b444c-7192-4f74-bf37-c231c24adb6b",
   "metadata": {
    "vscode": {
     "languageId": "r"
    }
   },
   "outputs": [
    {
     "data": {
      "text/html": [
       "<table class=\"dataframe\">\n",
       "<caption>A data.frame: 3 x 4</caption>\n",
       "<thead>\n",
       "\t<tr><th scope=col>Variant</th><th scope=col>Beta</th><th scope=col>SE</th><th scope=col>P_Value</th></tr>\n",
       "\t<tr><th scope=col>&lt;chr&gt;</th><th scope=col>&lt;dbl&gt;</th><th scope=col>&lt;dbl&gt;</th><th scope=col>&lt;dbl&gt;</th></tr>\n",
       "</thead>\n",
       "<tbody>\n",
       "\t<tr><td>Variant 1</td><td>0.1120101</td><td>0.05256348</td><td>3.358244e-02</td></tr>\n",
       "\t<tr><td>Variant 2</td><td>0.5117323</td><td>0.04756332</td><td>2.046150e-24</td></tr>\n",
       "\t<tr><td>Variant 3</td><td>0.3663971</td><td>0.05018506</td><td>1.138896e-12</td></tr>\n",
       "</tbody>\n",
       "</table>\n"
      ],
      "text/latex": [
       "A data.frame: 3 x 4\n",
       "\\begin{tabular}{llll}\n",
       " Variant & Beta & SE & P\\_Value\\\\\n",
       " <chr> & <dbl> & <dbl> & <dbl>\\\\\n",
       "\\hline\n",
       "\t Variant 1 & 0.1120101 & 0.05256348 & 3.358244e-02\\\\\n",
       "\t Variant 2 & 0.5117323 & 0.04756332 & 2.046150e-24\\\\\n",
       "\t Variant 3 & 0.3663971 & 0.05018506 & 1.138896e-12\\\\\n",
       "\\end{tabular}\n"
      ],
      "text/markdown": [
       "\n",
       "A data.frame: 3 x 4\n",
       "\n",
       "| Variant &lt;chr&gt; | Beta &lt;dbl&gt; | SE &lt;dbl&gt; | P_Value &lt;dbl&gt; |\n",
       "|---|---|---|---|\n",
       "| Variant 1 | 0.1120101 | 0.05256348 | 3.358244e-02 |\n",
       "| Variant 2 | 0.5117323 | 0.04756332 | 2.046150e-24 |\n",
       "| Variant 3 | 0.3663971 | 0.05018506 | 1.138896e-12 |\n",
       "\n"
      ],
      "text/plain": [
       "  Variant   Beta      SE         P_Value     \n",
       "1 Variant 1 0.1120101 0.05256348 3.358244e-02\n",
       "2 Variant 2 0.5117323 0.04756332 2.046150e-24\n",
       "3 Variant 3 0.3663971 0.05018506 1.138896e-12"
      ]
     },
     "metadata": {},
     "output_type": "display_data"
    }
   ],
   "source": [
    "# ---- Study 2 (500 individuals) ----\n",
    "X_raw2 <- matrix(sample(0:2, N2 * M, replace = TRUE), nrow = N2, ncol = M)\n",
    "rownames(X_raw2) <- paste(\"Individual\", 1:N2)\n",
    "colnames(X_raw2) <- paste(\"Variant\", 1:M)\n",
    "\n",
    "# Standardize genotype matrix for Study 2\n",
    "X2 = scale(X_raw2, scale=TRUE)\n",
    "\n",
    "# Simulate the response vector for Study 2 with true effect size for each variant + random noise\n",
    "y2 <- X2 %*% true_betas2 + rnorm(N2, mean = 0, sd = 1)\n",
    "\n",
    "# Perform GWAS for Study 2\n",
    "p_values2 <- numeric(M)\n",
    "betas2 <- numeric(M)\n",
    "se2 <- numeric(M)\n",
    "\n",
    "for (j in 1:M) {\n",
    "  SNP <- X2[, j]\n",
    "  model <- lm(y2 ~ SNP)\n",
    "  summary_model <- summary(model)\n",
    "  \n",
    "  p_values2[j] <- summary_model$coefficients[2, 4]  # p-value\n",
    "  betas2[j] <- summary_model$coefficients[2, 1]     # Estimated effect size\n",
    "  se2[j] <- summary_model$coefficients[2, 2]        # Standard error\n",
    "}\n",
    "\n",
    "gwas_results2 <- data.frame(Variant = colnames(X2), Beta = betas2, SE = se2, P_Value = p_values2)\n",
    "gwas_results2\n"
   ]
  },
  {
   "cell_type": "code",
   "execution_count": 4,
   "id": "7e495cf0-76f1-4caa-b734-836f411357ef",
   "metadata": {
    "tags": [],
    "vscode": {
     "languageId": "r"
    }
   },
   "outputs": [
    {
     "name": "stdout",
     "output_type": "stream",
     "text": [
      "[1] \"Meta-Analysis Results (Random Effect Model):\"\n"
     ]
    },
    {
     "data": {
      "text/html": [
       "<table class=\"dataframe\">\n",
       "<caption>A data.frame: 3 x 10</caption>\n",
       "<thead>\n",
       "\t<tr><th scope=col>Variant</th><th scope=col>Beta_Study1</th><th scope=col>SE_Study1</th><th scope=col>P_Value_Study1</th><th scope=col>Beta_Study2</th><th scope=col>SE_Study2</th><th scope=col>P_Value_Study2</th><th scope=col>Combined_Beta</th><th scope=col>Combined_SE</th><th scope=col>Combined_P_Value</th></tr>\n",
       "\t<tr><th scope=col>&lt;chr&gt;</th><th scope=col>&lt;dbl&gt;</th><th scope=col>&lt;dbl&gt;</th><th scope=col>&lt;dbl&gt;</th><th scope=col>&lt;dbl&gt;</th><th scope=col>&lt;dbl&gt;</th><th scope=col>&lt;dbl&gt;</th><th scope=col>&lt;dbl&gt;</th><th scope=col>&lt;dbl&gt;</th><th scope=col>&lt;dbl&gt;</th></tr>\n",
       "</thead>\n",
       "<tbody>\n",
       "\t<tr><td>Variant 1</td><td>0.09196543</td><td>0.1143991</td><td>4.214549e-01</td><td>0.1120101</td><td>0.05256348</td><td>3.309326e-02</td><td>0.1022366</td><td>0.3223328</td><td>0.7511092</td></tr>\n",
       "\t<tr><td>Variant 2</td><td>0.45309364</td><td>0.1052551</td><td>1.671966e-05</td><td>0.5117323</td><td>0.04756332</td><td>0.000000e+00</td><td>0.4830383</td><td>0.3213848</td><td>0.1328415</td></tr>\n",
       "\t<tr><td>Variant 3</td><td>0.10775096</td><td>0.1142584</td><td>3.456574e-01</td><td>0.3663971</td><td>0.05018506</td><td>2.857714e-13</td><td>0.2403529</td><td>0.3222213</td><td>0.4557129</td></tr>\n",
       "</tbody>\n",
       "</table>\n"
      ],
      "text/latex": [
       "A data.frame: 3 x 10\n",
       "\\begin{tabular}{llllllllll}\n",
       " Variant & Beta\\_Study1 & SE\\_Study1 & P\\_Value\\_Study1 & Beta\\_Study2 & SE\\_Study2 & P\\_Value\\_Study2 & Combined\\_Beta & Combined\\_SE & Combined\\_P\\_Value\\\\\n",
       " <chr> & <dbl> & <dbl> & <dbl> & <dbl> & <dbl> & <dbl> & <dbl> & <dbl> & <dbl>\\\\\n",
       "\\hline\n",
       "\t Variant 1 & 0.09196543 & 0.1143991 & 4.214549e-01 & 0.1120101 & 0.05256348 & 3.309326e-02 & 0.1022366 & 0.3223328 & 0.7511092\\\\\n",
       "\t Variant 2 & 0.45309364 & 0.1052551 & 1.671966e-05 & 0.5117323 & 0.04756332 & 0.000000e+00 & 0.4830383 & 0.3213848 & 0.1328415\\\\\n",
       "\t Variant 3 & 0.10775096 & 0.1142584 & 3.456574e-01 & 0.3663971 & 0.05018506 & 2.857714e-13 & 0.2403529 & 0.3222213 & 0.4557129\\\\\n",
       "\\end{tabular}\n"
      ],
      "text/markdown": [
       "\n",
       "A data.frame: 3 x 10\n",
       "\n",
       "| Variant &lt;chr&gt; | Beta_Study1 &lt;dbl&gt; | SE_Study1 &lt;dbl&gt; | P_Value_Study1 &lt;dbl&gt; | Beta_Study2 &lt;dbl&gt; | SE_Study2 &lt;dbl&gt; | P_Value_Study2 &lt;dbl&gt; | Combined_Beta &lt;dbl&gt; | Combined_SE &lt;dbl&gt; | Combined_P_Value &lt;dbl&gt; |\n",
       "|---|---|---|---|---|---|---|---|---|---|\n",
       "| Variant 1 | 0.09196543 | 0.1143991 | 4.214549e-01 | 0.1120101 | 0.05256348 | 3.309326e-02 | 0.1022366 | 0.3223328 | 0.7511092 |\n",
       "| Variant 2 | 0.45309364 | 0.1052551 | 1.671966e-05 | 0.5117323 | 0.04756332 | 0.000000e+00 | 0.4830383 | 0.3213848 | 0.1328415 |\n",
       "| Variant 3 | 0.10775096 | 0.1142584 | 3.456574e-01 | 0.3663971 | 0.05018506 | 2.857714e-13 | 0.2403529 | 0.3222213 | 0.4557129 |\n",
       "\n"
      ],
      "text/plain": [
       "  Variant   Beta_Study1 SE_Study1 P_Value_Study1 Beta_Study2 SE_Study2 \n",
       "1 Variant 1 0.09196543  0.1143991 4.214549e-01   0.1120101   0.05256348\n",
       "2 Variant 2 0.45309364  0.1052551 1.671966e-05   0.5117323   0.04756332\n",
       "3 Variant 3 0.10775096  0.1142584 3.456574e-01   0.3663971   0.05018506\n",
       "  P_Value_Study2 Combined_Beta Combined_SE Combined_P_Value\n",
       "1 3.309326e-02   0.1022366     0.3223328   0.7511092       \n",
       "2 0.000000e+00   0.4830383     0.3213848   0.1328415       \n",
       "3 2.857714e-13   0.2403529     0.3222213   0.4557129       "
      ]
     },
     "metadata": {},
     "output_type": "display_data"
    }
   ],
   "source": [
    "# ---- Meta-Analysis (Random Effect Model) ----\n",
    "# Calculate weights (inverse of variance)\n",
    "w1 <- 1 / (se1^2 + 0.2)  # Include between-study variance (0.2 here as an example)\n",
    "w2 <- 1 / (se2^2 + 0.2)\n",
    "\n",
    "# Calculate combined effect size using random effect model (inverse variance weighting)\n",
    "combined_betas_random <- (w1 * betas1 + w2 * betas2) / (w1 + w2)\n",
    "\n",
    "# Calculate variance of the combined effect size\n",
    "combined_variance_random <- 1 / (w1 + w2)\n",
    "combined_se_random <- sqrt(combined_variance_random)\n",
    "\n",
    "# Calculate p-values for each study's effect size\n",
    "p_value_study1 <- 2 * (1 - pnorm(abs(betas1 / se1)))  # P-value for Study 1\n",
    "p_value_study2 <- 2 * (1 - pnorm(abs(betas2 / se2)))  # P-value for Study 2\n",
    "\n",
    "# Calculate p-value for the combined effect size\n",
    "p_value_random <- 2 * (1 - pnorm(abs(combined_betas_random / combined_se_random)))\n",
    "\n",
    "# Combine the results\n",
    "meta_analysis_results_random <- data.frame(\n",
    "  Variant = colnames(X1),\n",
    "  Beta_Study1 = betas1, SE_Study1 = se1, P_Value_Study1 = p_value_study1,\n",
    "  Beta_Study2 = betas2, SE_Study2 = se2, P_Value_Study2 = p_value_study2,\n",
    "  Combined_Beta = combined_betas_random, Combined_SE = combined_se_random,\n",
    "  Combined_P_Value = p_value_random\n",
    ")\n",
    "\n",
    "print(\"Meta-Analysis Results (Random Effect Model):\")\n",
    "meta_analysis_results_random\n"
   ]
  },
  {
   "cell_type": "code",
   "execution_count": null,
   "id": "04490714-47e8-40b7-840b-99884d720391",
   "metadata": {
    "vscode": {
     "languageId": "r"
    }
   },
   "outputs": [],
   "source": []
  },
  {
   "cell_type": "code",
   "execution_count": null,
   "id": "47d7bd83-c17c-42ab-a97d-9048fbfb5aea",
   "metadata": {
    "vscode": {
     "languageId": "r"
    }
   },
   "outputs": [],
   "source": []
  }
 ],
 "metadata": {
  "kernelspec": {
   "display_name": "R",
   "language": "R",
   "name": "ir"
  },
  "language_info": {
   "codemirror_mode": "r",
   "file_extension": ".r",
   "mimetype": "text/x-r-source",
   "name": "R",
   "pygments_lexer": "r",
   "version": "4.3.3"
  },
  "toc-autonumbering": true
 },
 "nbformat": 4,
 "nbformat_minor": 5
}
