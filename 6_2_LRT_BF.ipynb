{
 "cells": [
  {
   "cell_type": "markdown",
   "id": "98073e7d-1488-4361-b5d1-bd1bbea3cad5",
   "metadata": {
    "tags": []
   },
   "source": [
    "## Likelihood Ratio Test (LRT) and Bayes Factor (BF)\n",
    "\n",
    "# Intuition\n",
    "\n",
    "\n",
    "- **Likelihood Ratio Test (LRT)**: A frequentist method that compares the fit of two models (null and alternative) by evaluating the ratio of their likelihoods to determine if the alternative model provides a significantly better fit to the data.\n",
    "\n",
    "- **Bayes Factor (BF)**: A Bayesian method that compares the marginal likelihoods (or evidence) of two models to quantify how much more likely the data are under one model compared to the other.\n",
    "\n",
    "\n",
    "**FIGURE PLACEHOLDER:** ![Likelihood Intuition Cartoon](image_placeholder)"
   ]
  },
  {
   "cell_type": "markdown",
   "id": "28972361-b118-4fea-b3fe-e3af72466954",
   "metadata": {},
   "source": [
    "# Notations\n",
    "\n",
    "## Likelihood Ratio Test (LRT)\n",
    "\n",
    "The Likelihood Ratio Test (LRT) is a statistical test used to compare the fit of two models: a **null model** and an **alternative model**. The null model usually represents a simpler hypothesis (e.g., no effect), and the alternative model represents a more complex hypothesis (e.g., an effect exists). \n",
    "\n",
    "The basic idea is to test whether the data provides enough evidence to reject the null hypothesis in favor of the alternative hypothesis. Note that the Likelihood Ratio Test (LRT) is primarily a frequentist approach to hypothesis testing, not Bayesian.\n",
    "\n",
    "\n",
    "The Likelihood Ratio Test statistic is defined as:\n",
    "\n",
    "$$\n",
    "\\Lambda = -2 \\log \\left( \\frac{L(\\text{null})}{L(\\text{alternative})} \\right)\n",
    "$$\n",
    "\n",
    "Where:\n",
    "- $L(\\text{null})$ is the likelihood of the data under the null model,\n",
    "- $L(\\text{alternative})$ is the likelihood of the data under the alternative model.\n",
    "\n",
    "The test statistic $\\Lambda$ is compared to a **chi-squared distribution** with degrees of freedom equal to the difference in the number of parameters between the two models.\n",
    "\n",
    "### Bayes Factor (BF)\n",
    "In the Bayesian framework, we approach model comparison slightly differently than the frequentist approach. Instead of using the likelihood ratio to compute a p-value for hypothesis testing, Bayesian methods typically use the **Bayes Factor** (BF) to compare the models.\n",
    "\n",
    "The **Bayes Factor** compares the marginal likelihoods (or evidence) of the models:\n",
    "\n",
    "$$\n",
    "\\text{BF} = \\frac{P(\\text{data} | \\text{model 1})}{P(\\text{data} | \\text{model 2})}\n",
    "$$\n",
    "\n",
    "Where:\n",
    "- $P(\\text{data} | \\text{model 1})$ and $P(\\text{data} | \\text{model 2})$ are the marginal likelihoods (or evidence) of the models. In the frequentist LRT, this would correspond to the likelihoods of the two models.\n",
    "\n",
    "In this way, the Bayes Factor provides a measure of the relative evidence for one model over another, rather than using a p-value to decide whether to reject a model.\n",
    "\n"
   ]
  },
  {
   "cell_type": "markdown",
   "id": "c5ce431d-33b1-4738-bedd-3c683fac2ae1",
   "metadata": {},
   "source": [
    "# Example"
   ]
  },
  {
   "cell_type": "markdown",
   "id": "3455e8bf-fbd0-4344-aef1-a6bb6a24233e",
   "metadata": {},
   "source": [
    "Let’s say the study examines the distribution of two single nucleotide polymorphisms (SNPs), SNP1 and SNP2, under the assumption that one of these SNPs is causal for the disease, in a cohort of 4000 individuals, split into cases and controls. \n",
    "\n",
    "\n",
    "|         | **Cases** | | **Controls** | |\n",
    "|---------|-----------|--------------|--|--|\n",
    "| | A1|A2|A1|A2|\n",
    "| **SNP1**| 1200      | 800          | 1000      | 1000         |\n",
    "| **SNP2**| 1191      | 809          | 1000      | 1000         |\n",
    "\n",
    "\n",
    "<!-- Consider the following table showing the number of individuals who either carry at least one copy of the **risk allele (T)** or **no risk allele (A)**, and whether they are **cases of the disease** or **controls of the disease**:\n",
    "\n",
    "|                     | **Cases** | **Controls** |\n",
    "|---------------------|---------------|--------------|\n",
    "| **Carry at least one T allele (AT or TT)**  | 70            | 30           |\n",
    "| **Do not carry T allele (AA)**     | 45            | 55           |\n",
    " -->"
   ]
  },
  {
   "cell_type": "code",
   "execution_count": 164,
   "id": "74513941-a1f3-4106-96cb-393886253a47",
   "metadata": {
    "tags": []
   },
   "outputs": [],
   "source": [
    "rm(list=ls())"
   ]
  },
  {
   "cell_type": "code",
   "execution_count": 165,
   "id": "a458e85c-d0d8-49cf-a08a-39ec81ab6a7a",
   "metadata": {
    "tags": []
   },
   "outputs": [
    {
     "name": "stdout",
     "output_type": "stream",
     "text": [
      "[1] \"Contingency Table for SNP1:\"\n",
      "           A1   A2\n",
      "Cases    1200  800\n",
      "Controls 1000 1000\n",
      "[1] \"Contingency Table for SNP2:\"\n",
      "           A1   A2\n",
      "Cases    1191  809\n",
      "Controls 1000 1000\n"
     ]
    }
   ],
   "source": [
    "# Data for SNP1 and SNP2\n",
    "# Format: [Cases with A1, Cases with A2, Controls with A1, Controls with A2]\n",
    "\n",
    "# SNP1\n",
    "snp1_data <- matrix(c(1200, 800, 1000, 1000), nrow = 2, byrow = TRUE)\n",
    "colnames(snp1_data) <- c(\"A1\", \"A2\")\n",
    "rownames(snp1_data) <- c(\"Cases\", \"Controls\")\n",
    "\n",
    "# SNP2\n",
    "snp2_data <- matrix(c(1191, 809, 1000, 1000), nrow = 2, byrow = TRUE)\n",
    "colnames(snp2_data) <- c(\"A1\", \"A2\")\n",
    "rownames(snp2_data) <- c(\"Cases\", \"Controls\")\n",
    "\n",
    "# Display the tables\n",
    "print(\"Contingency Table for SNP1:\")\n",
    "print(snp1_data)\n",
    "\n",
    "print(\"Contingency Table for SNP2:\")\n",
    "print(snp2_data)"
   ]
  },
  {
   "cell_type": "markdown",
   "id": "9dedc86f-a55a-4bd8-9836-8c760680418e",
   "metadata": {},
   "source": [
    "## LRT\n",
    "\n",
    "The LRT compares the likelihood of the null model (no effect of allele on disease) and the alternative model (the allele affects the disease probability).\n",
    "\n",
    "- Null Model: Assumes the probability of disease is the same for both groups.\n",
    "- Alternative Model: Assumes the disease probabilities differ between those carrying the risk allele and those not carrying it."
   ]
  },
  {
   "cell_type": "code",
   "execution_count": 166,
   "id": "87507ee5-73c5-41af-bba3-2d8e5b05451c",
   "metadata": {
    "tags": []
   },
   "outputs": [
    {
     "name": "stdout",
     "output_type": "stream",
     "text": [
      "[1] \"Chi-Square p-value for SNP1:  2.53831565566666e-10\"\n"
     ]
    }
   ],
   "source": [
    "# SNP1 contingency table\n",
    "\n",
    "# Perform the Chi-Square test\n",
    "chi_square_test <- chisq.test(snp1_data)\n",
    "\n",
    "# Print the p-value\n",
    "print(paste(\"Chi-Square p-value for SNP1: \", chi_square_test$p.value))\n"
   ]
  },
  {
   "cell_type": "code",
   "execution_count": 167,
   "id": "a3f624ef-1eb6-4cd2-853b-dc16fa2c9b13",
   "metadata": {
    "tags": []
   },
   "outputs": [
    {
     "name": "stdout",
     "output_type": "stream",
     "text": [
      "[1] \"Chi-Square p-value for SNP2:  1.58064319586183e-09\"\n"
     ]
    }
   ],
   "source": [
    "# SNP2 contingency table\n",
    "# Perform the Chi-Square test\n",
    "chi_square_test <- chisq.test(snp2_data)\n",
    "\n",
    "# Print the p-value\n",
    "print(paste(\"Chi-Square p-value for SNP2: \", chi_square_test$p.value))\n"
   ]
  },
  {
   "cell_type": "code",
   "execution_count": 168,
   "id": "18957b94-a7de-4ffa-a5fd-ea8844043d0f",
   "metadata": {
    "tags": []
   },
   "outputs": [
    {
     "name": "stdout",
     "output_type": "stream",
     "text": [
      "Likelihood Ratio for SNP1:  615262594 \n",
      "Likelihood Ratio for SNP2:  101725043 \n",
      "Relative Likelihood for SNP1:  0.8581216 \n",
      "Relative Likelihood for SNP2:  0.1418784 \n"
     ]
    }
   ],
   "source": [
    "# Returns likelihood ratio of H1 vs H0\n",
    "library(MASS)\n",
    "get_2x2_lr = function(tbl){\n",
    "    tbl = as.table(matrix(tbl, 2, 2, dimnames = list(status = c('case', 'control'), genotype = c('minor_allele', 'major_allele'))))\n",
    "    test = MASS::loglm(~status + genotype, data = tbl)\n",
    "    return(exp(test$lrt / 2))\n",
    "}\n",
    "\n",
    "# Calculate likelihood ratios for SNP1 and SNP2\n",
    "lr1 = get_2x2_lr(snp1_data)\n",
    "lr2 = get_2x2_lr(snp2_data)\n",
    "\n",
    "# Calculate the relative likelihood ratios\n",
    "lr1_relative = lr1 / (lr1 + lr2)\n",
    "lr2_relative = lr2 / (lr1 + lr2)\n",
    "\n",
    "# Print results\n",
    "cat(\"Likelihood Ratio for SNP1: \", lr1, \"\\n\")\n",
    "cat(\"Likelihood Ratio for SNP2: \", lr2, \"\\n\")\n",
    "\n",
    "cat(\"Relative Likelihood for SNP1: \", lr1_relative, \"\\n\")\n",
    "cat(\"Relative Likelihood for SNP2: \", lr2_relative, \"\\n\")"
   ]
  },
  {
   "cell_type": "markdown",
   "id": "20faa204-5b26-474a-9c42-fd2401a194f7",
   "metadata": {},
   "source": [
    "This will give you the LRT statistic. A larger value of this statistic suggests that the alternative model (with an effect of the allele) is a better fit than the null model (no effect of the allele)."
   ]
  },
  {
   "cell_type": "markdown",
   "id": "2ec6e635-a383-4590-9369-b1c1d986d230",
   "metadata": {},
   "source": [
    "## BF"
   ]
  },
  {
   "cell_type": "code",
   "execution_count": 169,
   "id": "86cdbd1f-6788-4072-83c2-6289a7fda758",
   "metadata": {
    "tags": []
   },
   "outputs": [],
   "source": [
    "# returns Bayes factor of H_1 vs H_0\n",
    "get_2x2_bf = function(tbl, prior_a = 1) {\n",
    "    n = matrix(tbl, 2, 2, byrow=T)\n",
    "    dimnames(n) = list(status=c('case','control'), \n",
    "                        genotype=c('minor','major'))\n",
    "    res = BayesFactor::contingencyTableBF(n, sampleType=\"indepMulti\",\n",
    "          fixedMargin=\"rows\", priorConcentration=prior_a)\n",
    "    bf = exp(res@bayesFactor$bf)\n",
    "    return(list(bf = bf, log10bf = log(bf)/log(10)))\n",
    "}\n",
    "res1 = get_2x2_bf(c(1200,800,1000,1000))\n",
    "res2 = get_2x2_bf(c(1190,809,1000,1000))"
   ]
  },
  {
   "cell_type": "code",
   "execution_count": 170,
   "id": "b3974c9e-1378-4567-ad16-0d9ed7b3367f",
   "metadata": {
    "tags": []
   },
   "outputs": [
    {
     "name": "stdout",
     "output_type": "stream",
     "text": [
      "Bayes Factor for SNP1:  24241380 \n",
      "Bayes Factor for SNP2:  4009967 \n",
      "Relative Bayes Factor for SNP1:  0.858061 \n",
      "Relative Bayes Factor for SNP2:  0.141939 \n"
     ]
    }
   ],
   "source": [
    "# Calculate Bayes factors for SNP1 and SNP2\n",
    "res1 = get_2x2_bf(snp1_data)\n",
    "res2 = get_2x2_bf(snp2_data)\n",
    "\n",
    "# Relative Bayes factors\n",
    "relative_bf1 = res1$bf / (res1$bf + res2$bf)\n",
    "relative_bf2 = res2$bf / (res1$bf + res2$bf)\n",
    "\n",
    "# Print results\n",
    "cat(\"Bayes Factor for SNP1: \", res1$bf, \"\\n\")\n",
    "cat(\"Bayes Factor for SNP2: \", res2$bf, \"\\n\")\n",
    "\n",
    "cat(\"Relative Bayes Factor for SNP1: \", relative_bf1, \"\\n\")\n",
    "cat(\"Relative Bayes Factor for SNP2: \", relative_bf2, \"\\n\")"
   ]
  },
  {
   "cell_type": "markdown",
   "id": "fb22dd1f-371f-400c-a128-c606ba7a52c5",
   "metadata": {},
   "source": [
    "# supple: this is to calculate manually (without testing)"
   ]
  },
  {
   "cell_type": "code",
   "execution_count": null,
   "id": "1cf58622-dd21-47a0-96ae-1376c213b6e5",
   "metadata": {
    "tags": []
   },
   "outputs": [],
   "source": [
    "# Function to compute likelihood ratio (LR) for a given SNP contingency table\n",
    "compute_LR <- function(snp_data) {\n",
    "  # Total number of individuals\n",
    "  total_cases <- sum(snp_data[1, ])\n",
    "  total_controls <- sum(snp_data[2, ])\n",
    "  total_population <- total_cases + total_controls\n",
    "  \n",
    "  # Null model (H0): Disease probability is the same across genotypes (A1, A2)\n",
    "  p_null <- (total_cases) / total_population  # Total probability of disease\n",
    "  \n",
    "  # Likelihood under H0 (same disease probability for both groups)\n",
    "  L_H0 <- dbinom(snp_data[1, 1], size = sum(snp_data[1,]), prob = p_null, log = TRUE) +\n",
    "          dbinom(snp_data[1, 2], size = sum(snp_data[1,]), prob = p_null, log = TRUE) +\n",
    "          dbinom(snp_data[2, 1], size = sum(snp_data[2,]), prob = p_null, log = TRUE) +\n",
    "          dbinom(snp_data[2, 2], size = sum(snp_data[2,]), prob = p_null, log = TRUE)\n",
    "  \n",
    "  # Alternative model (H1): Disease probability differs for each genotype\n",
    "  p_cases_A1 <- snp_data[1, 1] / sum(snp_data[1, ])  # Probability of disease in cases with A1\n",
    "  p_cases_A2 <- snp_data[1, 2] / sum(snp_data[1, ])  # Probability of disease in cases with A2\n",
    "  p_controls_A1 <- snp_data[2, 1] / sum(snp_data[2, ])  # Probability of disease in controls with A1\n",
    "  p_controls_A2 <- snp_data[2, 2] / sum(snp_data[2, ])  # Probability of disease in controls with A2\n",
    "  \n",
    "  # Likelihood under H1 (disease probability differs across genotypes for cases and controls)\n",
    "  L_H1 <- dbinom(snp_data[1, 1], size = sum(snp_data[1,]), prob = p_cases_A1, log = TRUE) +\n",
    "          dbinom(snp_data[1, 2], size = sum(snp_data[1,]), prob = p_cases_A2, log = TRUE) +\n",
    "          dbinom(snp_data[2, 1], size = sum(snp_data[2,]), prob = p_controls_A1, log = TRUE) +\n",
    "          dbinom(snp_data[2, 2], size = sum(snp_data[2,]), prob = p_controls_A2, log = TRUE)\n",
    "  \n",
    "  # Likelihood Ratio (LR)\n",
    "  LR <- exp(L_H1 - L_H0)\n",
    "  return(LR)\n",
    "}"
   ]
  },
  {
   "cell_type": "code",
   "execution_count": null,
   "id": "638ba76a-a5fb-4cbe-a8dc-5e240d49b989",
   "metadata": {
    "tags": []
   },
   "outputs": [],
   "source": [
    "# Compute LR for SNP1\n",
    "LR_snp1 <- compute_LR(snp1_data)\n",
    "cat(\"Likelihood Ratio for SNP1: \", LR_snp1, \"\\n\")\n",
    "\n",
    "# Compute LR for SNP2\n",
    "LR_snp2 <- compute_LR(snp2_data)\n",
    "cat(\"Likelihood Ratio for SNP2: \", LR_snp2, \"\\n\")"
   ]
  },
  {
   "cell_type": "code",
   "execution_count": null,
   "id": "d29cba55-7c24-4ab0-9f1b-aeddffaa2cba",
   "metadata": {
    "tags": []
   },
   "outputs": [],
   "source": [
    "LR_snp1/(LR_snp1+LR_snp2)"
   ]
  },
  {
   "cell_type": "code",
   "execution_count": null,
   "id": "875dc9e0-7ec8-4e12-8cb9-caced044fbff",
   "metadata": {
    "tags": []
   },
   "outputs": [],
   "source": [
    "LR_snp2/(LR_snp1+LR_snp2)"
   ]
  },
  {
   "cell_type": "code",
   "execution_count": null,
   "id": "e7d97f97-80db-4f96-ba0a-111944907a5d",
   "metadata": {
    "tags": []
   },
   "outputs": [],
   "source": [
    "# Load required library\n",
    "library(BayesFactor)\n",
    "\n",
    "# Define the contingency table\n",
    "snp1_data <- matrix(c(1200, 800, 1000, 1000), nrow = 2, byrow = TRUE)\n",
    "colnames(snp1_data) <- c(\"A1\", \"A2\")\n",
    "rownames(snp1_data) <- c(\"Cases\", \"Controls\")\n",
    "\n",
    "# Calculate Bayes factor for contingency table\n",
    "# contingencyTableBF compares two models:\n",
    "# H0: No association between variables\n",
    "# H1: Association between variables\n",
    "bayes_factor_result <- contingencyTableBF(snp1_data, \n",
    "                                          sampleType = \"indepMulti\", \n",
    "                                          fixedMargin = \"rows\")"
   ]
  },
  {
   "cell_type": "code",
   "execution_count": null,
   "id": "0a6d0f28-8183-4981-8a58-a170ea9c30bc",
   "metadata": {
    "tags": []
   },
   "outputs": [],
   "source": [
    "print(bayes_factor_result)\n"
   ]
  },
  {
   "cell_type": "code",
   "execution_count": null,
   "id": "06301bcd-9a67-49b7-922d-b550632babcb",
   "metadata": {
    "tags": []
   },
   "outputs": [],
   "source": [
    "bayes_factor_result2 <- contingencyTableBF(snp2_data, \n",
    "                                          sampleType = \"indepMulti\", \n",
    "                                          fixedMargin = \"rows\")\n",
    "bayes_factor_result2"
   ]
  },
  {
   "cell_type": "code",
   "execution_count": null,
   "id": "48a1771d-5ba8-4112-a140-6f5447b65592",
   "metadata": {
    "tags": []
   },
   "outputs": [],
   "source": [
    "23999209/(23999209+3973431)"
   ]
  },
  {
   "cell_type": "code",
   "execution_count": null,
   "id": "3712544b-42eb-48e8-b2e5-fdcf2003cc4d",
   "metadata": {
    "tags": []
   },
   "outputs": [],
   "source": [
    "# Function to calculate Bayes Factor from the definition\n",
    "calculate_bayes_factor_manual <- function(data) {\n",
    "  # Extract values from the contingency table\n",
    "  a <- data[1, 1]  # Cases with A1\n",
    "  b <- data[1, 2]  # Cases with A2\n",
    "  c <- data[2, 1]  # Controls with A1\n",
    "  d <- data[2, 2]  # Controls with A2\n",
    "  \n",
    "  # Compute the Odds Ratio (OR)\n",
    "  OR <- (a * d) / (b * c)\n",
    "  \n",
    "  # Likelihood under H0 (no effect, OR = 1)\n",
    "  likelihood_H0 <- 1  # By definition\n",
    "  \n",
    "  # Likelihood under H1 (use the observed OR)\n",
    "  likelihood_H1 <- exp(-0.5 * ((log(OR))^2))  # Approximation for likelihood based on the OR\n",
    "  \n",
    "  # Compute the Bayes Factor (BF)\n",
    "  BF <- likelihood_H1 / likelihood_H0\n",
    "  \n",
    "  return(BF)\n",
    "}\n",
    "\n",
    "# Data for SNP1 and SNP2\n",
    "snp1_data <- matrix(c(1200, 800, 1000, 1000), nrow = 2, byrow = TRUE)\n",
    "colnames(snp1_data) <- c(\"A1\", \"A2\")\n",
    "rownames(snp1_data) <- c(\"Cases\", \"Controls\")\n",
    "\n",
    "snp2_data <- matrix(c(1191, 809, 1000, 1000), nrow = 2, byrow = TRUE)\n",
    "colnames(snp2_data) <- c(\"A1\", \"A2\")\n",
    "rownames(snp2_data) <- c(\"Cases\", \"Controls\")\n",
    "\n",
    "# Calculate Bayes Factor for SNP1\n",
    "bf_snp1 <- calculate_bayes_factor_manual(snp1_data)\n",
    "print(\"Bayes Factor for SNP1:\")\n",
    "print(bf_snp1)\n",
    "\n",
    "# Calculate Bayes Factor for SNP2\n",
    "bf_snp2 <- calculate_bayes_factor_manual(snp2_data)\n",
    "print(\"Bayes Factor for SNP2:\")\n",
    "print(bf_snp2)\n"
   ]
  },
  {
   "cell_type": "code",
   "execution_count": null,
   "id": "39958ad4-b3b7-4bb2-9f07-a8f62e1b0b2e",
   "metadata": {
    "tags": []
   },
   "outputs": [],
   "source": [
    "bf_snp1/(bf_snp1+bf_snp2)"
   ]
  },
  {
   "cell_type": "code",
   "execution_count": null,
   "id": "262d8af5-3300-424e-bbd5-a3d02b18b2f3",
   "metadata": {},
   "outputs": [],
   "source": []
  },
  {
   "cell_type": "code",
   "execution_count": null,
   "id": "66aa88fe-93e9-43a9-a1a1-d188ddf3686b",
   "metadata": {
    "tags": []
   },
   "outputs": [],
   "source": [
    "# Function to compute Bayes Factor for a given SNP contingency table\n",
    "compute_BayesFactor <- function(snp_data) {\n",
    "  # Total number of individuals\n",
    "  total_cases <- sum(snp_data[1, ])\n",
    "  total_controls <- sum(snp_data[2, ])\n",
    "  total_population <- total_cases + total_controls\n",
    "  \n",
    "  # Null model (H0): Disease probability is the same across genotypes (A1, A2)\n",
    "  p_null <- (total_cases) / total_population  # Total probability of disease\n",
    "  \n",
    "  # Likelihood under H0 (same disease probability for both groups)\n",
    "  L_H0 <- dbinom(snp_data[1, 1], size = sum(snp_data[1,]), prob = p_null, log = TRUE) +\n",
    "          dbinom(snp_data[1, 2], size = sum(snp_data[1,]), prob = p_null, log = TRUE) +\n",
    "          dbinom(snp_data[2, 1], size = sum(snp_data[2,]), prob = p_null, log = TRUE) +\n",
    "          dbinom(snp_data[2, 2], size = sum(snp_data[2,]), prob = p_null, log = TRUE)\n",
    "  \n",
    "  # Alternative model (H1): Disease probability differs for each genotype\n",
    "  p_cases_A1 <- snp_data[1, 1] / sum(snp_data[1, ])  # Probability of disease in cases with A1\n",
    "  p_cases_A2 <- snp_data[1, 2] / sum(snp_data[1, ])  # Probability of disease in cases with A2\n",
    "  p_controls_A1 <- snp_data[2, 1] / sum(snp_data[2, ])  # Probability of disease in controls with A1\n",
    "  p_controls_A2 <- snp_data[2, 2] / sum(snp_data[2, ])  # Probability of disease in controls with A2\n",
    "  \n",
    "  # Likelihood under H1 (disease probability differs across genotypes for cases and controls)\n",
    "  L_H1 <- dbinom(snp_data[1, 1], size = sum(snp_data[1,]), prob = p_cases_A1, log = TRUE) +\n",
    "          dbinom(snp_data[1, 2], size = sum(snp_data[1,]), prob = p_cases_A2, log = TRUE) +\n",
    "          dbinom(snp_data[2, 1], size = sum(snp_data[2,]), prob = p_controls_A1, log = TRUE) +\n",
    "          dbinom(snp_data[2, 2], size = sum(snp_data[2,]), prob = p_controls_A2, log = TRUE)\n",
    "  \n",
    "  # Bayes Factor: Ratio of likelihoods\n",
    "  BF <- exp(L_H1 - L_H0)\n",
    "  return(BF)\n",
    "}\n"
   ]
  },
  {
   "cell_type": "code",
   "execution_count": null,
   "id": "b458f2d2-ed86-4f4b-a786-39a4c0bdaf40",
   "metadata": {
    "tags": []
   },
   "outputs": [],
   "source": [
    "\n",
    "# SNP1 data\n",
    "snp1_data <- matrix(c(1200, 800, 1000, 1000), nrow = 2, byrow = TRUE)\n",
    "colnames(snp1_data) <- c(\"A1\", \"A2\")\n",
    "rownames(snp1_data) <- c(\"Cases\", \"Controls\")\n",
    "\n",
    "# SNP2 data\n",
    "snp2_data <- matrix(c(1191, 809, 1000, 1000), nrow = 2, byrow = TRUE)\n",
    "colnames(snp2_data) <- c(\"A1\", \"A2\")\n",
    "rownames(snp2_data) <- c(\"Cases\", \"Controls\")\n",
    "\n",
    "# Compute Bayes Factor for SNP1\n",
    "BF_snp1 <- compute_BayesFactor(snp1_data)\n",
    "cat(\"Bayes Factor for SNP1: \", BF_snp1, \"\\n\")\n",
    "\n",
    "# Compute Bayes Factor for SNP2\n",
    "BF_snp2 <- compute_BayesFactor(snp2_data)\n",
    "cat(\"Bayes Factor for SNP2: \", BF_snp2, \"\\n\")"
   ]
  },
  {
   "cell_type": "code",
   "execution_count": null,
   "id": "42567b5b-0b86-4ab0-bbeb-76dbf017cd16",
   "metadata": {
    "tags": []
   },
   "outputs": [],
   "source": [
    "BF_snp1/(BF_snp1+BF_snp2)"
   ]
  },
  {
   "cell_type": "code",
   "execution_count": null,
   "id": "7d85766f-4177-4c51-a43c-26d43244ef2a",
   "metadata": {},
   "outputs": [],
   "source": [
    "BF_snp2/(BF_snp1+BF_snp2)"
   ]
  }
 ],
 "metadata": {
  "kernelspec": {
   "display_name": "R",
   "language": "R",
   "name": "ir"
  },
  "language_info": {
   "codemirror_mode": "r",
   "file_extension": ".r",
   "mimetype": "text/x-r-source",
   "name": "R",
   "pygments_lexer": "r",
   "version": "4.4.2"
  }
 },
 "nbformat": 4,
 "nbformat_minor": 5
}
