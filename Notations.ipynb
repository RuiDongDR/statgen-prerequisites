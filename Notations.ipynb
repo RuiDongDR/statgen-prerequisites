{
 "cells": [
  {
   "cell_type": "markdown",
   "id": "3a800792-3ca6-4d40-ac6d-ef8545c78a93",
   "metadata": {},
   "source": [
    "## **Notation Table**  \n",
    "\n",
    "| Symbol           | Meaning | Example Meaning |\n",
    "|------------------|---------|----------------|\n",
    "|$\\mathbf{X}_{raw}$ | Raw genotype matrix (without centering or standardization)| |\n",
    "| $ \\mathbf{X} $           | Genotype matrix after normalization | |\n",
    "| $\\mathbf{X}_{i,\\cdot} $          | Genotype for individual $ i $ | Genotype (e.g., number of risk alleles) of individual $ i $, when considering one variant |\n",
    "| $ \\mathbf{X}_{i,j} $          | Genotype variant $j$ for individual $ i $ | Genotype variant $j$ of individual $ i $, when considering multiple variants|\n",
    "| $\\mathbf{X}_{j}$ or $\\mathbf{X}_{\\cdot,j}$ | Genotype variant $j$ for all indivials |Genotype variant $j$ for all indivials |\n",
    "| $i$|Index for individual|$i=1,2,...,N$|\n",
    "| $j$|Index for genetic variant|$j=1,2,...,M$|\n",
    "| $ N $            | Number of samples | Number of individuals in the dataset |\n",
    "| $M$ | Number of variants | Number of variants in the genotype data|\n",
    "|$A$|Major allele|Major allele|\n",
    "|$a$|Minor allele|Minor allele|\n",
    "| $f_j$|Frequency for genetic variant $j$|0.1|\n",
    "| $l_j$| LD score of genetic variant $j$ |$l_j$|\n",
    "| $\\Phi_{ij}$| The kinship coefficient between two individuals, $i$ and $j$|  \n",
    "|$\\mathbf{G}$|Genetic relatedness matrix (GRM)| $N$ by $N$ matrix|\n",
    "| $ Y $           | Random variable (trait) | Trait (e.g., height $Y_1$ and weight $Y_2$ when bi-variate) |\n",
    "| $ y_i $          | Trait value for individual $ i $ | Height of individual $ i $ |\n",
    "|$\\beta_0$| baseline level in the regression model, intercept|170cm for height|\n",
    "|$\\beta$| marginal effect size of a variant in GWAS study||\n",
    "|$Q$ |the Cochran’s Q statistic| |\n",
    "|$I^2$|$I^2$ statistic||\n",
    "\n",
    "\n",
    "| Symbol           | Meaning | Example Meaning |\n",
    "|------------------|---------|----------------|\n",
    "| $ M_1 $          | Model 1 (no genetic effect) | Model assuming no association between genotype and trait |\n",
    "| $ M_2 $          | Model 2 (genetic effect) | Model assuming an association between genotype and trait |\n",
    "| $ D $            | Observed data $\\{(x_1,y_1), (x_2, y_2), \\dots, (x_n, y_n)\\}$ | Collected genotype-trait pairs |\n",
    "| $ \\mu $         | Mean of the normal distribution (unknown) | Mean of the normal distribution in the population  (e.g., $\\mu_1$ for height and $\\mu_2$ for weight when bi-variate)  |\n",
    "| $ \\theta $         | Mean of the normal distribution (unknown) | Causal effect of genetic variant on the trait|\n",
    "| $ \\theta_0 $     | Prior mean  | Prior mean of $\\theta$ before observing data $D$ |\n",
    "| $ \\theta_1 $     | Posterior mean  |  Posterior mean of $\\theta$ after observing data $D$ |\n",
    "| $ \\sigma_0^2 $   | Variance of the normal distribution (known) | Prior uncertainty in $\\mu$ |\n",
    "| $ \\sigma_1^2 $   | Posterior variance | Updated uncertainty in $\\mu$ after observing data |\n",
    "| $ \\tau_0 $       | Prior precision ($\\frac{1}{\\sigma_0^2}$)  | Inverse of prior variance |\n",
    "| $ \\tau_1 $       | Posterior precision ($\\frac{1}{\\sigma_1^2}$) | Inverse of posterior variance |\n",
    "| $ \\Sigma $ | Variance-covariance matrix|variance-covariance matrix for height $Y_1$and weight $Y_2$|\n",
    "| $ \\Omega $ | Precision matrix|Precision matrix for height $Y_1$and weight $Y_2$|\n",
    "| $ n $            | Number of samples | Number of individuals in the dataset |\n",
    "| $ L(M) $         | Likelihood for model $ M $ | Probability of observing the data under model $M$ |\n",
    "| $ l(M) $         | Log-likelihood for model $ M $ | Log-transformed likelihood for numerical stability |\n"
   ]
  },
  {
   "cell_type": "code",
   "execution_count": null,
   "id": "b01644e9-3501-4093-944c-aa09ff2f9602",
   "metadata": {},
   "outputs": [],
   "source": []
  }
 ],
 "metadata": {
  "kernelspec": {
   "display_name": "R",
   "language": "R",
   "name": "ir"
  },
  "language_info": {
   "codemirror_mode": "r",
   "file_extension": ".r",
   "mimetype": "text/x-r-source",
   "name": "R",
   "pygments_lexer": "r",
   "version": "4.4.2"
  }
 },
 "nbformat": 4,
 "nbformat_minor": 5
}
