{
 "cells": [
  {
   "cell_type": "markdown",
   "id": "3a800792-3ca6-4d40-ac6d-ef8545c78a93",
   "metadata": {},
   "source": [
    "## **Notation Table**  \n",
    "\n",
    "| Symbol           | Meaning | Example Meaning |\n",
    "|------------------|---------|----------------|\n",
    "| $ M_1 $          | Model 1 (no genetic effect) | Model assuming no association between genotype and trait |\n",
    "| $ M_2 $          | Model 2 (genetic effect) | Model assuming an association between genotype and trait |\n",
    "| $ Y $           | Random variable (trait) | Trait (e.g., height $Y_1$ and weight $Y_2$ when bi-variate) |\n",
    "| $ y_i $          | Trait value for individual $ i $ | Height of individual $ i $ |\n",
    "| $ X $           | Random variable (genotype) | Genotype |\n",
    "| $ x_i $          | Genotype for individual $ i $ | Genotype (e.g., number of risk alleles) of individual $ i $ |\n",
    "| $ D $            | Observed data $\\{(x_1,y_1), (x_2, y_2), \\dots, (x_n, y_n)\\}$ | Collected genotype-trait pairs |\n",
    "| $ \\mu $         | Mean of the normal distribution (unknown) | Mean of the normal distribution in the population  (e.g., $\\mu_1$ for height and $\\mu_2$ for weight when bi-variate)  |\n",
    "| $ \\theta $         | Mean of the normal distribution (unknown) | Causal effect of genetic variant on the trait|\n",
    "| $ \\theta_0 $     | Prior mean  | Prior mean of $\\theta$ before observing data $D$ |\n",
    "| $ \\theta_1 $     | Posterior mean  |  Posterior mean of $\\theta$ after observing data $D$ |\n",
    "| $ \\sigma_0^2 $   | Variance of the normal distribution (known) | Prior uncertainty in $\\mu$ |\n",
    "| $ \\sigma_1^2 $   | Posterior variance | Updated uncertainty in $\\mu$ after observing data |\n",
    "| $ \\tau_0 $       | Prior precision ($\\frac{1}{\\sigma_0^2}$)  | Inverse of prior variance |\n",
    "| $ \\tau_1 $       | Posterior precision ($\\frac{1}{\\sigma_1^2}$) | Inverse of posterior variance |\n",
    "| $ \\Sigma $ | Variance-covariance matrix|variance-covariance matrix for height $Y_1$and weight $Y_2$|\n",
    "| $ \\Omega $ | Precision matrix|Precision matrix for height $Y_1$and weight $Y_2$|\n",
    "| $ n $            | Number of samples | Number of individuals in the dataset |\n",
    "| $ L(M) $         | Likelihood for model $ M $ | Probability of observing the data under model $M$ |\n",
    "| $ l(M) $         | Log-likelihood for model $ M $ | Log-transformed likelihood for numerical stability |\n"
   ]
  },
  {
   "cell_type": "code",
   "execution_count": null,
   "id": "8a43154e-cf1b-40a2-8fbf-1ad12cb0d2c0",
   "metadata": {},
   "outputs": [],
   "source": []
  }
 ],
 "metadata": {
  "kernelspec": {
   "display_name": "R",
   "language": "R",
   "name": "ir"
  },
  "language_info": {
   "codemirror_mode": "r",
   "file_extension": ".r",
   "mimetype": "text/x-r-source",
   "name": "R",
   "pygments_lexer": "r",
   "version": "4.4.2"
  }
 },
 "nbformat": 4,
 "nbformat_minor": 5
}
