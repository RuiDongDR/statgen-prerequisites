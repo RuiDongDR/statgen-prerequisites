{
 "cells": [
  {
   "cell_type": "markdown",
   "id": "3a800792-3ca6-4d40-ac6d-ef8545c78a93",
   "metadata": {},
   "source": [
    "## **Notation Table**  \n",
    "\n",
    "| Symbol | Meaning | Example Meaning |\n",
    "|--------|---------|----------------|\n",
    "| $\\mathbf{X}_{raw}$ | Raw genotype matrix (without centering or standardization) | |\n",
    "| $\\mathbf{X}$ | Genotype matrix after normalization | |\n",
    "| $\\mathbf{X}_{i,\\cdot}$ | Genotype for individual $i$ | Genotype (e.g., number of risk alleles) of individual $i$, when considering one variant |\n",
    "| $\\mathbf{X}_{i,j}$ | Genotype variant $j$ for individual $i$ | Genotype variant $j$ of individual $i$, when considering multiple variants |\n",
    "| $\\mathbf{X}_{j}$ or $\\mathbf{X}_{\\cdot,j}$ | Genotype variant $j$ for all individuals | Genotype variant $j$ for all individuals |\n",
    "| $i$ | Index for individual | $i=1,2,...,N$ |\n",
    "| $j$ | Index for genetic variant | $j=1,2,...,M$ |\n",
    "| $k$ | Index for study | $k=1,2,...,K$ |\n",
    "| $N$ | Number of samples | Number of individuals in the dataset |\n",
    "| $M$ | Number of variants | Number of variants in the genotype data |"
   ]
  },
  {
   "cell_type": "markdown",
   "id": "269b1c90",
   "metadata": {},
   "source": [
    "\n",
    "\n",
    "| Symbol           | Meaning | Example Meaning |\n",
    "|------------------|---------|----------------|\n",
    "| $ M_1 $          | Model 1 (no genetic effect) | Model assuming no association between genotype and trait |\n",
    "| $ M_2 $          | Model 2 (genetic effect) | Model assuming an association between genotype and trait |\n",
    "| $ D $            | Observed data $\\{(x_1,y_1), (x_2, y_2), \\dots, (x_n, y_n)\\}$ | Collected genotype-trait pairs |\n",
    "| $ \\mu $         | Mean of the normal distribution (unknown) | Mean of the normal distribution in the population  (e.g., $\\mu_1$ for height and $\\mu_2$ for weight when bi-variate)  |\n",
    "| $ \\theta $         | Mean of the normal distribution (unknown) | Causal effect of genetic variant on the trait|\n",
    "| $ \\theta_0 $     | Prior mean  | Prior mean of $\\theta$ before observing data $D$ |\n",
    "| $ \\theta_1 $     | Posterior mean  |  Posterior mean of $\\theta$ after observing data $D$ |\n",
    "| $ \\sigma_0^2 $   | Variance of the normal distribution (known) | Prior uncertainty in $\\mu$ |\n",
    "| $ \\sigma_1^2 $   | Posterior variance | Updated uncertainty in $\\mu$ after observing data |\n",
    "| $ \\tau_0 $       | Prior precision ($\\frac{1}{\\sigma_0^2}$)  | Inverse of prior variance |\n",
    "| $ \\tau_1 $       | Posterior precision ($\\frac{1}{\\sigma_1^2}$) | Inverse of posterior variance |\n",
    "| $ \\Sigma $ | Variance-covariance matrix|variance-covariance matrix for height $Y_1$and weight $Y_2$|\n",
    "| $ \\Omega $ | Precision matrix|Precision matrix for height $Y_1$and weight $Y_2$|\n",
    "| $ n $            | Number of samples | Number of individuals in the dataset |\n",
    "| $ L(M) $         | Likelihood for model $ M $ | Probability of observing the data under model $M$ |\n",
    "| $ l(M) $         | Log-likelihood for model $ M $ | Log-transformed likelihood for numerical stability |\n"
   ]
  },
  {
   "cell_type": "markdown",
   "id": "b01644e9-3501-4093-944c-aa09ff2f9602",
   "metadata": {
    "vscode": {
     "languageId": "r"
    }
   },
   "source": [
    "| Concept                        | Description                                                                                     | Importance                                                                                     | Rui's notes                                                |\n",
    "|-------------------------------|-------------------------------------------------------------------------------------------------|------------------------------------------------------------------------------------------------|------------------------------------------------------------|\n",
    "| Threshold Models              | Statistical models linking continuous genetic liability to categorical phenotypes               | Essential for analyzing binary and categorical traits                                          | mention in binary models after LM,  s an intuition to see how we think in terms of the generative model of binary phenotypes        |\n",
    "\n",
    "\n",
    "\n",
    "**With exception to one notebook on basic concepts in statgen, I think we better keep each notebook purely fundamental statistical concepts with genetics stuff only in examples**\n",
    "\n",
    "**I think of this as a lecture to students in statistics; not the other way around which will preclude the core ideas in statistical with unncessary domain specific knowledge. We need to clearly distinguish what is core and what is branch. Otherwise, life become complicated.**\n",
    "\n",
    "**in terms of topics in statgen, i think you can use a script to consolidate all the tex files i have in my lecture repo, and upload that to AI to let it summarize the topics.**"
   ]
  },
  {
   "cell_type": "markdown",
   "id": "b1a133df",
   "metadata": {},
   "source": []
  }
 ],
 "metadata": {
  "kernelspec": {
   "display_name": "R",
   "language": "R",
   "name": "ir"
  },
  "language_info": {
   "codemirror_mode": "r",
   "file_extension": ".r",
   "mimetype": "text/x-r-source",
   "name": "R",
   "pygments_lexer": "r",
   "version": "4.4.2"
  }
 },
 "nbformat": 4,
 "nbformat_minor": 5
}
