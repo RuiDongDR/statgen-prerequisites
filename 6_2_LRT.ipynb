{
 "cells": [
  {
   "cell_type": "markdown",
   "id": "98073e7d-1488-4361-b5d1-bd1bbea3cad5",
   "metadata": {
    "tags": []
   },
   "source": [
    "## Likelihood Ratio\n",
    "\n",
    "# Intuition\n",
    "\n",
    "\n",
    "- **Likelihood Ratio (LR)**: The ratio of the likelihood for two models\n",
    "\n",
    "**FIGURE PLACEHOLDER:** ![Likelihood Intuition Cartoon](image_placeholder)"
   ]
  },
  {
   "cell_type": "markdown",
   "id": "28972361-b118-4fea-b3fe-e3af72466954",
   "metadata": {},
   "source": [
    "# Notations\n",
    "\n",
    "Likelihood Ratio (LR) that compares two fully-specified (discrete) models is simply the ratio of the likelihood for the two models given data $x$: \n",
    "\n",
    "$$\n",
    "LR(M_1,M_0):=\\frac{L(M_1)}{L(M_0)} = \\frac{p(x|M_1)}{p(x|M_0)}\n",
    "$$\n",
    "\n",
    "Large values of $LR(M_1,M_0)$ indicate that the data are much more probable under model $M_1$ than under model $M_0$, and so indicate support for $M_1$. Conversely, small values of LR indicate support for model $M_0$.\n",
    "\n",
    "Note that for fully specified models, the likelihood ratio is also known as the **\"Bayes Factor\" (BF)**. In this case, they are just two different names for the same thing.\n",
    "\n",
    "\n",
    "\n",
    "<!-- \n",
    "\n",
    "The Likelihood Ratio Test (LRT) is a statistical test used to compare the fit of two models: a **null model** and an **alternative model**. The null model usually represents a simpler hypothesis (e.g., no effect), and the alternative model represents a more complex hypothesis (e.g., an effect exists). \n",
    "\n",
    "The basic idea is to test whether the data provides enough evidence to reject the null hypothesis in favor of the alternative hypothesis. Note that the Likelihood Ratio Test (LRT) is primarily a frequentist approach to hypothesis testing, not Bayesian.\n",
    "\n",
    "\n",
    "The Likelihood Ratio Test statistic is defined as:\n",
    "\n",
    "$$\n",
    "\\Lambda = -2 \\log \\left( \\frac{L(\\text{null})}{L(\\text{alternative})} \\right)\n",
    "$$\n",
    "\n",
    "Where:\n",
    "- $L(\\text{null})$ is the likelihood of the data under the null model,\n",
    "- $L(\\text{alternative})$ is the likelihood of the data under the alternative model.\n",
    "\n",
    "The test statistic $\\Lambda$ is compared to a **chi-squared distribution** with degrees of freedom equal to the difference in the number of parameters between the two models.\n",
    "\n",
    "### Bayes Factor (BF)\n",
    "In the Bayesian framework, we approach model comparison slightly differently than the frequentist approach. Instead of using the likelihood ratio to compute a p-value for hypothesis testing, Bayesian methods typically use the **Bayes Factor** (BF) to compare the models.\n",
    "\n",
    "The **Bayes Factor** compares the marginal likelihoods (or evidence) of the models:\n",
    "\n",
    "$$\n",
    "\\text{BF} = \\frac{P(\\text{data} | \\text{model 1})}{P(\\text{data} | \\text{model 2})}\n",
    "$$\n",
    "\n",
    "Where:\n",
    "- $P(\\text{data} | \\text{model 1})$ and $P(\\text{data} | \\text{model 2})$ are the marginal likelihoods (or evidence) of the models. In the frequentist LRT, this would correspond to the likelihoods of the two models.\n",
    "\n",
    "In this way, the Bayes Factor provides a measure of the relative evidence for one model over another, rather than using a p-value to decide whether to reject a model.\n",
    "\n",
    " -->"
   ]
  },
  {
   "cell_type": "markdown",
   "id": "c5ce431d-33b1-4738-bedd-3c683fac2ae1",
   "metadata": {},
   "source": [
    "# Example"
   ]
  },
  {
   "cell_type": "markdown",
   "id": "8104f3e5-1ad7-439f-b085-12ef59a7fcec",
   "metadata": {},
   "source": [
    "Here we continue the example used in the `6_1_likelihood.ipynb` notebook."
   ]
  },
  {
   "cell_type": "code",
   "execution_count": 13,
   "id": "97c2ac3d-8d79-4611-b096-6148ba511a0c",
   "metadata": {
    "tags": []
   },
   "outputs": [
    {
     "data": {
      "text/html": [
       "<table class=\"dataframe\">\n",
       "<caption>A data.frame: 3 × 2</caption>\n",
       "<thead>\n",
       "\t<tr><th scope=col>genotype</th><th scope=col>trait</th></tr>\n",
       "\t<tr><th scope=col>&lt;int&gt;</th><th scope=col>&lt;dbl&gt;</th></tr>\n",
       "</thead>\n",
       "<tbody>\n",
       "\t<tr><td>2</td><td> 1.8983190</td></tr>\n",
       "\t<tr><td>2</td><td> 2.0308952</td></tr>\n",
       "\t<tr><td>0</td><td>-0.1040512</td></tr>\n",
       "</tbody>\n",
       "</table>\n"
      ],
      "text/latex": [
       "A data.frame: 3 × 2\n",
       "\\begin{tabular}{ll}\n",
       " genotype & trait\\\\\n",
       " <int> & <dbl>\\\\\n",
       "\\hline\n",
       "\t 2 &  1.8983190\\\\\n",
       "\t 2 &  2.0308952\\\\\n",
       "\t 0 & -0.1040512\\\\\n",
       "\\end{tabular}\n"
      ],
      "text/markdown": [
       "\n",
       "A data.frame: 3 × 2\n",
       "\n",
       "| genotype &lt;int&gt; | trait &lt;dbl&gt; |\n",
       "|---|---|\n",
       "| 2 |  1.8983190 |\n",
       "| 2 |  2.0308952 |\n",
       "| 0 | -0.1040512 |\n",
       "\n"
      ],
      "text/plain": [
       "  genotype trait     \n",
       "1 2         1.8983190\n",
       "2 2         2.0308952\n",
       "3 0        -0.1040512"
      ]
     },
     "metadata": {},
     "output_type": "display_data"
    }
   ],
   "source": [
    "set.seed(927)\n",
    "# Simulate genotypes (0, 1, 2)\n",
    "n <- 3  # number of individuals\n",
    "genotypes <- sample(0:2, n, replace = TRUE)\n",
    "\n",
    "# Simulate true mean and effect size\n",
    "mu_0 <- 0  # population mean of the trait (e.g., height in cm) under the null model\n",
    "beta_true <- 1  # true effect size of the genetic variant\n",
    "sigma <- 0.1  # standard deviation of the trait\n",
    "\n",
    "# Simulate trait values based on the alternative model\n",
    "trait_values <- rnorm(n, mean = mu_0 + beta_true * genotypes, sd = sigma)\n",
    "\n",
    "# Data preview\n",
    "data.frame(genotype = genotypes, trait = trait_values)"
   ]
  },
  {
   "cell_type": "code",
   "execution_count": 14,
   "id": "28ee88b5-c54d-43ff-95dc-bfcaf1bd03ee",
   "metadata": {
    "tags": []
   },
   "outputs": [
    {
     "name": "stdout",
     "output_type": "stream",
     "text": [
      "Likelihood of Model 1 (no causal effect): 5.662115e-167 \n",
      "Likelihood of Model 2 (causal effect): 5.414108e-66 \n"
     ]
    }
   ],
   "source": [
    "# Likelihood for a model with mu = mu_0, sigma = sigma\n",
    "likelihood <- function(mu, sigma, y) {\n",
    "  n <- length(y)\n",
    "  (1 / (sqrt(2 * pi) * sigma))^n * exp(-sum((y - mu)^2) / (2 * sigma^2))\n",
    "  prod(dnorm(y, mean = mu, sd = sigma, log = FALSE))\n",
    "}\n",
    "likelihood_1 = likelihood(mu = mu_0, sigma, trait_values)\n",
    "likelihood_2 = likelihood(mu = mu_0 + beta_true, sigma, trait_values)\n",
    "\n",
    "cat(\"Likelihood of Model 1 (no causal effect):\", likelihood_1, \"\\n\")\n",
    "cat(\"Likelihood of Model 2 (causal effect):\", likelihood_2, \"\\n\")"
   ]
  },
  {
   "cell_type": "markdown",
   "id": "2c5cf98d-40f9-4bf6-8203-63ad9a6eacec",
   "metadata": {},
   "source": [
    "The likelihood ratio comparing $M_2$ vs $M_1$ is therefore:"
   ]
  },
  {
   "cell_type": "code",
   "execution_count": 15,
   "id": "e4848c77-e590-45a3-b13f-dacffc00624c",
   "metadata": {
    "tags": []
   },
   "outputs": [
    {
     "data": {
      "text/html": [
       "9.56198843624703e+100"
      ],
      "text/latex": [
       "9.56198843624703e+100"
      ],
      "text/markdown": [
       "9.56198843624703e+100"
      ],
      "text/plain": [
       "[1] 9.561988e+100"
      ]
     },
     "metadata": {},
     "output_type": "display_data"
    }
   ],
   "source": [
    "likelihood_2/likelihood_1"
   ]
  },
  {
   "cell_type": "code",
   "execution_count": 16,
   "id": "0b7fcf39-5cce-4a61-9d7d-67ed698f425b",
   "metadata": {
    "tags": []
   },
   "outputs": [
    {
     "name": "stdout",
     "output_type": "stream",
     "text": [
      "Log-likelihood of Model 1 (no causal effect): -382.7979 \n",
      "Log-likelihood of Model 2 (causal effect): -150.2816 \n"
     ]
    }
   ],
   "source": [
    "# Log-likelihood for a model with mu and sigma\n",
    "log_likelihood <- function(mu, sigma, y) {\n",
    "  # n <- length(y)\n",
    "  # -0.5 * n * log(2 * pi * sigma^2) - sum((y - mu_0)^2) / (2 * sigma^2)\n",
    "  sum(dnorm(y, mean = mu, sd = sigma, log = TRUE))\n",
    "}\n",
    "loglikelihood_1 = log_likelihood(mu = mu_0, sigma, trait_values)\n",
    "loglikelihood_2 = log_likelihood(mu = mu_0+beta_true, sigma, trait_values)\n",
    "cat(\"Log-likelihood of Model 1 (no causal effect):\", loglikelihood_1, \"\\n\")\n",
    "cat(\"Log-likelihood of Model 2 (causal effect):\", loglikelihood_2, \"\\n\")"
   ]
  },
  {
   "cell_type": "markdown",
   "id": "9b8eb2e0-3426-4b41-a57d-000b6a33f4f2",
   "metadata": {},
   "source": [
    "The log-likelihood ratio comparing $M_2$ vs $M_1$ is therefore:"
   ]
  },
  {
   "cell_type": "code",
   "execution_count": 17,
   "id": "f8a397a9-2b11-4b23-bd25-e4beba43de6f",
   "metadata": {
    "tags": []
   },
   "outputs": [
    {
     "data": {
      "text/html": [
       "232.516305000263"
      ],
      "text/latex": [
       "232.516305000263"
      ],
      "text/markdown": [
       "232.516305000263"
      ],
      "text/plain": [
       "[1] 232.5163"
      ]
     },
     "metadata": {},
     "output_type": "display_data"
    }
   ],
   "source": [
    "loglikelihood_2-loglikelihood_1"
   ]
  },
  {
   "cell_type": "markdown",
   "id": "873cabda-aa4a-411d-9626-7afa551166e9",
   "metadata": {},
   "source": [
    "The ratio of likelihood  (after taking the log) is equivalent to the difference of the log-likehood, and the $l$ is a monotonic function of $L$."
   ]
  },
  {
   "cell_type": "code",
   "execution_count": 18,
   "id": "278c90c2-1365-49b7-82ed-961ba112d68b",
   "metadata": {
    "tags": []
   },
   "outputs": [
    {
     "data": {
      "text/html": [
       "9.56198843624744e+100"
      ],
      "text/latex": [
       "9.56198843624744e+100"
      ],
      "text/markdown": [
       "9.56198843624744e+100"
      ],
      "text/plain": [
       "[1] 9.561988e+100"
      ]
     },
     "metadata": {},
     "output_type": "display_data"
    }
   ],
   "source": [
    "exp(log_likelihood_2 - log_likelihood_1)"
   ]
  },
  {
   "cell_type": "markdown",
   "id": "3fa0a9c4-d970-4f5a-942a-248541def638",
   "metadata": {},
   "source": [
    "# Summary\n",
    "- The **\"likelihood ratio\"** that compares two fully-specified (discrete) models is simply the ratio of the likelihood for the two models given data $x$: \n",
    "\n",
    "$$\n",
    "LR(M_1,M_0):=\\frac{L(M_1)}{L(M_0)} = \\frac{p(x|M_1)}{p(x|M_0)}\n",
    "$$\n",
    "\n",
    "where $L(M)$ denotes the likelihood for model $M$ under data $x$.\n",
    "\n",
    "- The **\"log-likelihood ratio\"** is defined as the logarithm of the likelihood ratio:\n",
    "\n",
    "$$\n",
    "\\log LR(M_1, M_0) := \\log \\frac{L(M_1)}{L(M_0)} = \\log p(x | M_1) - \\log p(x | M_0)\n",
    "$$\n",
    "\n",
    "where $l(M)$ denotes the log-likelihood for model $M$ under data $x$. The log-likelihood ratio measures the relative support for model $M_1$ over model $M_0$ on a **logarithmic scale**.\n",
    "\n",
    "- A natural question is,  **what value of the LR (or LLR) should we treat as \"convincing\" evidence for one model vs another**? The short answer here is that this is **context dependent**, which depends on the relative plausibility of the models we are comparing. For more discussions, refer to this [notes](https://stephens999.github.io/fiveMinuteStats/LR_and_BF.html) by Matthew Stephens."
   ]
  },
  {
   "cell_type": "markdown",
   "id": "51b7068e-d522-4b18-b510-c401926ceacc",
   "metadata": {},
   "source": [
    "# Supplementary Materials"
   ]
  },
  {
   "cell_type": "markdown",
   "id": "5724ac29-7eed-42fc-aa72-621231184695",
   "metadata": {},
   "source": [
    "## Example 1 -- allele frequency"
   ]
  },
  {
   "cell_type": "markdown",
   "id": "37438ae4-9f24-477b-9eb6-7f3cb6f8a400",
   "metadata": {},
   "source": [
    "Here we use the same example 1 in the `6_1_likelihood.ipynb` notebook, and we have calculated the likelihood for the two models $M_S$ and $M_F$."
   ]
  },
  {
   "cell_type": "markdown",
   "id": "3270e671-7fdb-4466-8285-8e89bff03c28",
   "metadata": {},
   "source": [
    "### Calculate LR"
   ]
  },
  {
   "cell_type": "code",
   "execution_count": 19,
   "id": "0115f781-c30b-4d0a-8b80-011ab5f81869",
   "metadata": {
    "tags": []
   },
   "outputs": [],
   "source": [
    "x = c(1,0,1,0,0,1)\n",
    "\n",
    "fS = c(0.40, 0.12,0.21,0.12,0.02,0.32)\n",
    "fF = c(0.8,0.2,0.11,0.17,0.23,0.25)\n",
    "\n",
    "L = function(f,x){ prod(f^x*(1-f)^(1-x)) }"
   ]
  },
  {
   "cell_type": "code",
   "execution_count": 20,
   "id": "b8946c01-9cb8-4abc-968e-9fdbaa17c051",
   "metadata": {
    "tags": []
   },
   "outputs": [
    {
     "data": {
      "text/html": [
       "0.02039955456"
      ],
      "text/latex": [
       "0.02039955456"
      ],
      "text/markdown": [
       "0.02039955456"
      ],
      "text/plain": [
       "[1] 0.02039955"
      ]
     },
     "metadata": {},
     "output_type": "display_data"
    },
    {
     "data": {
      "text/html": [
       "0.01124816"
      ],
      "text/latex": [
       "0.01124816"
      ],
      "text/markdown": [
       "0.01124816"
      ],
      "text/plain": [
       "[1] 0.01124816"
      ]
     },
     "metadata": {},
     "output_type": "display_data"
    }
   ],
   "source": [
    "L(fS,x)\n",
    "L(fF,x)"
   ]
  },
  {
   "cell_type": "markdown",
   "id": "070d50cc-120f-45aa-ba58-a234e259c298",
   "metadata": {},
   "source": [
    "The **likelihood ratio (LR)** is simply the ratio of those two values:"
   ]
  },
  {
   "cell_type": "code",
   "execution_count": 21,
   "id": "f8a75789-cd3a-4037-84a9-fea932f61c78",
   "metadata": {
    "tags": []
   },
   "outputs": [
    {
     "data": {
      "text/html": [
       "1.81359036144578"
      ],
      "text/latex": [
       "1.81359036144578"
      ],
      "text/markdown": [
       "1.81359036144578"
      ],
      "text/plain": [
       "[1] 1.81359"
      ]
     },
     "metadata": {},
     "output_type": "display_data"
    }
   ],
   "source": [
    "L(fS,x)/L(fF,x)"
   ]
  },
  {
   "cell_type": "markdown",
   "id": "faf3bb88-74c4-492e-a795-c35317ee69df",
   "metadata": {},
   "source": [
    "### How to interpret LR?"
   ]
  },
  {
   "cell_type": "markdown",
   "id": "0fd00148-8842-47dc-aee1-67b290ca2827",
   "metadata": {},
   "source": [
    "> So $LR(M_S,M_F;x)$ is 1.8135904. This means that the data favor the tusk coming from a savanna elephant by a factor of about 1.8. This is a fairly modest factor – not large enough to draw a convincing conclusion. We will have more to say about interpreting LRs, and what values might be considered “convincing” later.\n",
    ">\n",
    "> Note that we have deliberately focused on the likelihood ratio, and not the actual likelihood values themselves. This is because actual likelihood values are generally not useful - it is only the ratios that matter when comparing the models. One way of thinking about this is that the actual likelihood values are very context dependent, and so likelihoods from different data sets are not comparable with one another. However, the meaning of the likelihood ratio is in some sense consistent across contexts: LR =1.8 means that the data favour the first model by a factor of 1.8 whatever the context."
   ]
  },
  {
   "cell_type": "markdown",
   "id": "49118e2b-187c-472a-8509-67965c7bba63",
   "metadata": {},
   "source": [
    "## Example 2 -- concertration of protein in blood"
   ]
  },
  {
   "cell_type": "markdown",
   "id": "7afe6c91-7eeb-479e-a5dd-3c6f9a1afb7d",
   "metadata": {},
   "source": [
    "Here we use the same example 2 in the `6_1_likelihood.ipynb` notebook, and we have calculated the likelihood for the two models $M_0$ (normal individual group) and $M_1$ (diseased individual group)."
   ]
  },
  {
   "cell_type": "markdown",
   "id": "91e7c5fb-b352-436a-b21e-44fee56b4312",
   "metadata": {},
   "source": [
    "### Calculate LR"
   ]
  },
  {
   "cell_type": "code",
   "execution_count": 22,
   "id": "fe9c5a68-0f8b-4a66-abc2-ff58488c31b7",
   "metadata": {
    "tags": []
   },
   "outputs": [
    {
     "data": {
      "text/html": [
       "0.00518272791791383"
      ],
      "text/latex": [
       "0.00518272791791383"
      ],
      "text/markdown": [
       "0.00518272791791383"
      ],
      "text/plain": [
       "[1] 0.005182728"
      ]
     },
     "metadata": {},
     "output_type": "display_data"
    },
    {
     "data": {
      "text/html": [
       "0.0721709190568015"
      ],
      "text/latex": [
       "0.0721709190568015"
      ],
      "text/markdown": [
       "0.0721709190568015"
      ],
      "text/plain": [
       "[1] 0.07217092"
      ]
     },
     "metadata": {},
     "output_type": "display_data"
    }
   ],
   "source": [
    "X_val=4.02\n",
    "# dgamma(x, shape, rate = 1, scale = 1/rate, log = FALSE) returns the Density for the Gamma distribution with parameters shape and scale at x\n",
    "y0_val = dgamma(X_val,scale=0.5,shape=2)\n",
    "y1_val = dgamma(X_val,scale=1,shape=2)\n",
    "y0_val\n",
    "y1_val"
   ]
  },
  {
   "cell_type": "code",
   "execution_count": 23,
   "id": "96ffb4e1-f244-4036-a976-e42b4671f99a",
   "metadata": {
    "tags": []
   },
   "outputs": [
    {
     "data": {
      "text/html": [
       "13.9252764566989"
      ],
      "text/latex": [
       "13.9252764566989"
      ],
      "text/markdown": [
       "13.9252764566989"
      ],
      "text/plain": [
       "[1] 13.92528"
      ]
     },
     "metadata": {},
     "output_type": "display_data"
    }
   ],
   "source": [
    "y1_val/y0_val"
   ]
  },
  {
   "cell_type": "markdown",
   "id": "3ee93065-0e5c-46e3-8a2f-5bc44d73da7e",
   "metadata": {},
   "source": [
    "### Interpretation"
   ]
  },
  {
   "cell_type": "markdown",
   "id": "e5aa7e24-5034-4ae7-be24-ba38ea5fd7be",
   "metadata": {},
   "source": [
    "The $LR(M_1,M_0;x)$ is 13.9, i.e., the data favours the individual being diseased ($M_1$) over being normal ($M_0$) by a factor of approximately 14.\n",
    "\n"
   ]
  },
  {
   "cell_type": "markdown",
   "id": "0a75bff9-08c7-410e-b6dc-10907612819b",
   "metadata": {
    "tags": []
   },
   "source": [
    "# Recommended Reading\n",
    "\n",
    "- Section *Likelihood Ratio and Likehood* in [FiveMinuteStats](http://stephens999.github.io/fiveMinuteStats/index.html) by Matthew Stephens\n"
   ]
  },
  {
   "cell_type": "code",
   "execution_count": null,
   "id": "a8e07569-daa0-48e7-9568-26bf0c758598",
   "metadata": {},
   "outputs": [],
   "source": []
  }
 ],
 "metadata": {
  "kernelspec": {
   "display_name": "R",
   "language": "R",
   "name": "ir"
  },
  "language_info": {
   "codemirror_mode": "r",
   "file_extension": ".r",
   "mimetype": "text/x-r-source",
   "name": "R",
   "pygments_lexer": "r",
   "version": "4.4.2"
  }
 },
 "nbformat": 4,
 "nbformat_minor": 5
}
