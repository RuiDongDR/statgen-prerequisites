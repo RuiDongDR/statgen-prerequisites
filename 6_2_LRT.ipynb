{
 "cells": [
  {
   "cell_type": "markdown",
   "id": "98073e7d-1488-4361-b5d1-bd1bbea3cad5",
   "metadata": {
    "tags": []
   },
   "source": [
    "## Likelihood Ratio\n",
    "\n",
    "# Intuition\n",
    "\n",
    "\n",
    "- **Likelihood Ratio (LR)**: The ratio of the likelihood for two models\n",
    "\n",
    "**FIGURE PLACEHOLDER:** ![Likelihood Intuition Cartoon](image_placeholder)"
   ]
  },
  {
   "cell_type": "markdown",
   "id": "28972361-b118-4fea-b3fe-e3af72466954",
   "metadata": {},
   "source": [
    "# Notations\n",
    "\n",
    "Likelihood Ratio (LR) that compares two fully-specified (discrete) models is simply the ratio of the likelihood for the two models given data $x$: \n",
    "\n",
    "$$\n",
    "LR(M_1,M_0):=\\frac{L(M_1)}{L(M_0)} = \\frac{p(x|M_1)}{p(x|M_0)}\n",
    "$$\n",
    "\n",
    "Large values of $LR(M_1,M_0)$ indicate that the data are much more probable under model $M_1$ than under model $M_0$, and so indicate support for $M_1$. Conversely, small values of LR indicate support for model $M_0$.\n",
    "\n",
    "Note that for fully specified models, the likelihood ratio is also known as the **\"Bayes Factor\" (BF)**. In this case, they are just two different names for the same thing.\n",
    "\n",
    "\n",
    "\n",
    "<!-- \n",
    "\n",
    "The Likelihood Ratio Test (LRT) is a statistical test used to compare the fit of two models: a **null model** and an **alternative model**. The null model usually represents a simpler hypothesis (e.g., no effect), and the alternative model represents a more complex hypothesis (e.g., an effect exists). \n",
    "\n",
    "The basic idea is to test whether the data provides enough evidence to reject the null hypothesis in favor of the alternative hypothesis. Note that the Likelihood Ratio Test (LRT) is primarily a frequentist approach to hypothesis testing, not Bayesian.\n",
    "\n",
    "\n",
    "The Likelihood Ratio Test statistic is defined as:\n",
    "\n",
    "$$\n",
    "\\Lambda = -2 \\log \\left( \\frac{L(\\text{null})}{L(\\text{alternative})} \\right)\n",
    "$$\n",
    "\n",
    "Where:\n",
    "- $L(\\text{null})$ is the likelihood of the data under the null model,\n",
    "- $L(\\text{alternative})$ is the likelihood of the data under the alternative model.\n",
    "\n",
    "The test statistic $\\Lambda$ is compared to a **chi-squared distribution** with degrees of freedom equal to the difference in the number of parameters between the two models.\n",
    "\n",
    "### Bayes Factor (BF)\n",
    "In the Bayesian framework, we approach model comparison slightly differently than the frequentist approach. Instead of using the likelihood ratio to compute a p-value for hypothesis testing, Bayesian methods typically use the **Bayes Factor** (BF) to compare the models.\n",
    "\n",
    "The **Bayes Factor** compares the marginal likelihoods (or evidence) of the models:\n",
    "\n",
    "$$\n",
    "\\text{BF} = \\frac{P(\\text{data} | \\text{model 1})}{P(\\text{data} | \\text{model 2})}\n",
    "$$\n",
    "\n",
    "Where:\n",
    "- $P(\\text{data} | \\text{model 1})$ and $P(\\text{data} | \\text{model 2})$ are the marginal likelihoods (or evidence) of the models. In the frequentist LRT, this would correspond to the likelihoods of the two models.\n",
    "\n",
    "In this way, the Bayes Factor provides a measure of the relative evidence for one model over another, rather than using a p-value to decide whether to reject a model.\n",
    "\n",
    " -->"
   ]
  },
  {
   "cell_type": "markdown",
   "id": "c5ce431d-33b1-4738-bedd-3c683fac2ae1",
   "metadata": {},
   "source": [
    "# Example"
   ]
  },
  {
   "cell_type": "markdown",
   "id": "aef54ac5-a9a7-409a-b6b8-6253eb565c01",
   "metadata": {},
   "source": [
    "## Example 1 -- allele frequency"
   ]
  },
  {
   "cell_type": "markdown",
   "id": "3c93a428-79fd-4e8b-8525-0fcb6ccc74b9",
   "metadata": {},
   "source": [
    "Here we use the same example 1 in the `6_1_likelihood.ipynb` notebook, and we have calculated the likelihood for the two models $M_S$ and $M_F$."
   ]
  },
  {
   "cell_type": "markdown",
   "id": "4c4f067c-12dc-49be-9858-f6c58a8df243",
   "metadata": {},
   "source": [
    "### Calculate LR"
   ]
  },
  {
   "cell_type": "code",
   "execution_count": 184,
   "id": "0115f781-c30b-4d0a-8b80-011ab5f81869",
   "metadata": {
    "tags": []
   },
   "outputs": [],
   "source": [
    "x = c(1,0,1,0,0,1)\n",
    "\n",
    "fS = c(0.40, 0.12,0.21,0.12,0.02,0.32)\n",
    "fF = c(0.8,0.2,0.11,0.17,0.23,0.25)\n",
    "\n",
    "L = function(f,x){ prod(f^x*(1-f)^(1-x)) }"
   ]
  },
  {
   "cell_type": "code",
   "execution_count": 185,
   "id": "b8946c01-9cb8-4abc-968e-9fdbaa17c051",
   "metadata": {
    "tags": []
   },
   "outputs": [
    {
     "data": {
      "text/html": [
       "0.02039955456"
      ],
      "text/latex": [
       "0.02039955456"
      ],
      "text/markdown": [
       "0.02039955456"
      ],
      "text/plain": [
       "[1] 0.02039955"
      ]
     },
     "metadata": {},
     "output_type": "display_data"
    },
    {
     "data": {
      "text/html": [
       "0.01124816"
      ],
      "text/latex": [
       "0.01124816"
      ],
      "text/markdown": [
       "0.01124816"
      ],
      "text/plain": [
       "[1] 0.01124816"
      ]
     },
     "metadata": {},
     "output_type": "display_data"
    }
   ],
   "source": [
    "L(fS,x)\n",
    "L(fF,x)"
   ]
  },
  {
   "cell_type": "markdown",
   "id": "54635361-4c07-48a3-bc3d-d9612ab8bd18",
   "metadata": {},
   "source": [
    "The **likelihood ratio (LR)** is simply the ratio of those two values:"
   ]
  },
  {
   "cell_type": "code",
   "execution_count": 186,
   "id": "f8a75789-cd3a-4037-84a9-fea932f61c78",
   "metadata": {
    "tags": []
   },
   "outputs": [
    {
     "data": {
      "text/html": [
       "1.81359036144578"
      ],
      "text/latex": [
       "1.81359036144578"
      ],
      "text/markdown": [
       "1.81359036144578"
      ],
      "text/plain": [
       "[1] 1.81359"
      ]
     },
     "metadata": {},
     "output_type": "display_data"
    }
   ],
   "source": [
    "L(fS,x)/L(fF,x)"
   ]
  },
  {
   "cell_type": "markdown",
   "id": "cbdd3ba4-9278-42de-b43d-7e6f10ee01ec",
   "metadata": {},
   "source": [
    "### How to interpret LR?"
   ]
  },
  {
   "cell_type": "markdown",
   "id": "5ecd1b28-b6d9-4319-adea-992bf0acea53",
   "metadata": {},
   "source": [
    "> So $LR(M_S,M_F;x)$ is 1.8135904. This means that the data favor the tusk coming from a savanna elephant by a factor of about 1.8. This is a fairly modest factor – not large enough to draw a convincing conclusion. We will have more to say about interpreting LRs, and what values might be considered “convincing” later.\n",
    ">\n",
    "> Note that we have deliberately focused on the likelihood ratio, and not the actual likelihood values themselves. This is because actual likelihood values are generally not useful - it is only the ratios that matter when comparing the models. One way of thinking about this is that the actual likelihood values are very context dependent, and so likelihoods from different data sets are not comparable with one another. However, the meaning of the likelihood ratio is in some sense consistent across contexts: LR =1.8 means that the data favour the first model by a factor of 1.8 whatever the context."
   ]
  },
  {
   "cell_type": "markdown",
   "id": "25063dce-4d02-4d89-a2e0-6761fa1bbbd0",
   "metadata": {},
   "source": [
    "## Example 2 -- concertration of protein in blood"
   ]
  },
  {
   "cell_type": "markdown",
   "id": "f45c62bd-0dc6-486a-8d29-a90e766b088d",
   "metadata": {},
   "source": [
    "Here we use the same example 2 in the `6_1_likelihood.ipynb` notebook, and we have calculated the likelihood for the two models $M_0$ (normal individual group) and $M_1$ (diseased individual group)."
   ]
  },
  {
   "cell_type": "markdown",
   "id": "b9d297a6-d306-40b6-b555-0711dd35450d",
   "metadata": {},
   "source": [
    "### Calculate LR"
   ]
  },
  {
   "cell_type": "code",
   "execution_count": 187,
   "id": "fe9c5a68-0f8b-4a66-abc2-ff58488c31b7",
   "metadata": {
    "tags": []
   },
   "outputs": [
    {
     "data": {
      "text/html": [
       "0.00518272791791383"
      ],
      "text/latex": [
       "0.00518272791791383"
      ],
      "text/markdown": [
       "0.00518272791791383"
      ],
      "text/plain": [
       "[1] 0.005182728"
      ]
     },
     "metadata": {},
     "output_type": "display_data"
    },
    {
     "data": {
      "text/html": [
       "0.0721709190568015"
      ],
      "text/latex": [
       "0.0721709190568015"
      ],
      "text/markdown": [
       "0.0721709190568015"
      ],
      "text/plain": [
       "[1] 0.07217092"
      ]
     },
     "metadata": {},
     "output_type": "display_data"
    }
   ],
   "source": [
    "X_val=4.02\n",
    "# dgamma(x, shape, rate = 1, scale = 1/rate, log = FALSE) returns the Density for the Gamma distribution with parameters shape and scale at x\n",
    "y0_val = dgamma(X_val,scale=0.5,shape=2)\n",
    "y1_val = dgamma(X_val,scale=1,shape=2)\n",
    "y0_val\n",
    "y1_val"
   ]
  },
  {
   "cell_type": "code",
   "execution_count": 188,
   "id": "96ffb4e1-f244-4036-a976-e42b4671f99a",
   "metadata": {
    "tags": []
   },
   "outputs": [
    {
     "data": {
      "text/html": [
       "13.9252764566989"
      ],
      "text/latex": [
       "13.9252764566989"
      ],
      "text/markdown": [
       "13.9252764566989"
      ],
      "text/plain": [
       "[1] 13.92528"
      ]
     },
     "metadata": {},
     "output_type": "display_data"
    }
   ],
   "source": [
    "y1_val/y0_val"
   ]
  },
  {
   "cell_type": "markdown",
   "id": "36e9c4cf-83f1-4119-b535-ec036671f694",
   "metadata": {},
   "source": [
    "### Interpretation"
   ]
  },
  {
   "cell_type": "markdown",
   "id": "f2480774-7b06-459a-9224-e796c326ed55",
   "metadata": {},
   "source": [
    "The $LR(M_1,M_0;x)$ is 13.9, i.e., the data favours the individual being diseased ($M_1$) over being normal ($M_0$) by a factor of approximately 14.\n",
    "\n"
   ]
  },
  {
   "cell_type": "markdown",
   "id": "3fa0a9c4-d970-4f5a-942a-248541def638",
   "metadata": {},
   "source": [
    "## Summary\n",
    "- The **\"likelihood ratio\"** that compares two fully-specified (discrete) models is simply the ratio of the likelihood for the two models given data $x$: \n",
    "\n",
    "$$\n",
    "LR(M_1,M_0):=\\frac{L(M_1)}{L(M_0)} = \\frac{p(x|M_1)}{p(x|M_0)}\n",
    "$$\n",
    "\n",
    "where $L(M)$ denotes the likelihood for model $M$ under data $x$.\n",
    "\n",
    "- We noticed that in the first example, LR is 1.8 and in the second example, LR is 14. However, as Matthew Stephens pointed out:\n",
    "> It is crucial to recognize that the answer to this question has to be context dependent. In particular, the extent to which we should be “convinced” by a particular LR value has to depend on the relative plausibility of the models we are comparing. For example, in statistics there are many situations where we want to compare models that are not equally plausible. Suppose that model $M_1$ is much less plausible than $M_0$. Then we must surely demand stronger evidence from the data (larger LR) to be “convinced” that it arose from model $M_1$ rather than $M_0$, than in contexts where $M_1$ and $M_0$ are equally plausible.\n"
   ]
  },
  {
   "cell_type": "markdown",
   "id": "0a75bff9-08c7-410e-b6dc-10907612819b",
   "metadata": {
    "tags": []
   },
   "source": [
    "# Recommended Reading\n",
    "\n",
    "- Section *Likelihood Ratio and Likehood* in [FiveMinuteStats](http://stephens999.github.io/fiveMinuteStats/index.html) by Matthew Stephens\n"
   ]
  },
  {
   "cell_type": "code",
   "execution_count": null,
   "id": "a8e07569-daa0-48e7-9568-26bf0c758598",
   "metadata": {},
   "outputs": [],
   "source": []
  }
 ],
 "metadata": {
  "kernelspec": {
   "display_name": "R",
   "language": "R",
   "name": "ir"
  },
  "language_info": {
   "codemirror_mode": "r",
   "file_extension": ".r",
   "mimetype": "text/x-r-source",
   "name": "R",
   "pygments_lexer": "r",
   "version": "4.4.2"
  }
 },
 "nbformat": 4,
 "nbformat_minor": 5
}
