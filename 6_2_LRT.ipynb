{
 "cells": [
  {
   "cell_type": "markdown",
   "id": "98073e7d-1488-4361-b5d1-bd1bbea3cad5",
   "metadata": {
    "tags": []
   },
   "source": [
    "## Likelihood Ratio (LR) and Likelihood Ratio Test (LRT)\n",
    "\n",
    "# Intuition\n",
    "\n",
    "- **Likelihood Ratio (LR):** The ratio of the likelihoods of two models given the observed data, measuring relative support for one model over the other.  \n",
    "- **Bayes Factor (BF):** The ratio of the marginal likelihoods of two models, integrating over their parameters with prior distributions to assess relative evidence.  \n",
    "- **Likelihood Ratio Test (LRT):** A hypothesis test comparing two nested models using the likelihood ratio, with the test statistic following a chi-squared distribution.\n",
    "\n",
    "\n",
    "**FIGURE PLACEHOLDER:** ![Likelihood Intuition Cartoon](image_placeholder)"
   ]
  },
  {
   "cell_type": "markdown",
   "id": "28972361-b118-4fea-b3fe-e3af72466954",
   "metadata": {
    "tags": []
   },
   "source": [
    "# Notations\n",
    "\n",
    "## Likelihood Ratio (LR)\n",
    "The **Likelihood Ratio (LR)** compares two fully-specified models by taking the ratio of their likelihoods given the observed data $x$:\n",
    "\n",
    "$$\n",
    "LR(M_2, M_1) := \\frac{L(M_2)}{L(M_1)} = \\frac{p(x|M_2)}{p(x|M_1)}\n",
    "$$\n",
    "\n",
    "Large values of $LR(M_2, M_1)$ indicate that the data are much more probable under **Model 2** than under **Model 1**, thus supporting **Model 2**. On the other hand, small values of the likelihood ratio suggest stronger support for **Model 1**. \n"
   ]
  },
  {
   "cell_type": "markdown",
   "id": "70f19691-87b7-4cdd-a354-9caa540ecd16",
   "metadata": {},
   "source": [
    "## Likelihood Ratio Test (LRT)\n",
    "\n",
    "The Likelihood Ratio Test (LRT) is a statistical method used to compare two models by using the likelihood ratio. Often the likelihood-ratio test statistic is expressed as a difference between the log-likelihoods\n",
    "\n",
    "$$\n",
    "LRT(M_2, M_1) := - 2 \\log \\left( \\frac{L(M_1)}{L(M_2)} \\right) = - 2 \\left[ \\log L(M_1) - \\log L(M_2) \\right]\n",
    "$$\n",
    "\n",
    "Under certain regularity conditions, the LRT statistic follows a chi-squared distribution with degrees of freedom equal to the difference in the number of parameters between $M_2$ and $M_1$. It is commonly used in frequentist hypothesis testing to assess whether a more complex model provides a significantly better fit than a simpler, nested model."
   ]
  },
  {
   "cell_type": "markdown",
   "id": "c5ce431d-33b1-4738-bedd-3c683fac2ae1",
   "metadata": {},
   "source": [
    "# Example"
   ]
  },
  {
   "cell_type": "markdown",
   "id": "8104f3e5-1ad7-439f-b085-12ef59a7fcec",
   "metadata": {},
   "source": [
    "Here we continue the example used in the `6_1_likelihood.ipynb` notebook."
   ]
  },
  {
   "cell_type": "code",
   "execution_count": 26,
   "id": "959eaa84-0211-4758-9dc3-21a4c41d519c",
   "metadata": {
    "tags": [],
    "vscode": {
     "languageId": "r"
    }
   },
   "outputs": [
    {
     "data": {
      "text/html": [
       "<table class=\"dataframe\">\n",
       "<caption>A data.frame: 3 × 2</caption>\n",
       "<thead>\n",
       "\t<tr><th scope=col>genotype</th><th scope=col>height</th></tr>\n",
       "\t<tr><th scope=col>&lt;dbl&gt;</th><th scope=col>&lt;dbl&gt;</th></tr>\n",
       "</thead>\n",
       "<tbody>\n",
       "\t<tr><td>1</td><td>171.1031</td></tr>\n",
       "\t<tr><td>2</td><td>174.1848</td></tr>\n",
       "\t<tr><td>0</td><td>171.5878</td></tr>\n",
       "</tbody>\n",
       "</table>\n"
      ],
      "text/latex": [
       "A data.frame: 3 × 2\n",
       "\\begin{tabular}{ll}\n",
       " genotype & height\\\\\n",
       " <dbl> & <dbl>\\\\\n",
       "\\hline\n",
       "\t 1 & 171.1031\\\\\n",
       "\t 2 & 174.1848\\\\\n",
       "\t 0 & 171.5878\\\\\n",
       "\\end{tabular}\n"
      ],
      "text/markdown": [
       "\n",
       "A data.frame: 3 × 2\n",
       "\n",
       "| genotype &lt;dbl&gt; | height &lt;dbl&gt; |\n",
       "|---|---|\n",
       "| 1 | 171.1031 |\n",
       "| 2 | 174.1848 |\n",
       "| 0 | 171.5878 |\n",
       "\n"
      ],
      "text/plain": [
       "  genotype height  \n",
       "1 1        171.1031\n",
       "2 2        174.1848\n",
       "3 0        171.5878"
      ]
     },
     "metadata": {},
     "output_type": "display_data"
    }
   ],
   "source": [
    "set.seed(2)\n",
    "\n",
    "# Simulate true mean and effect size\n",
    "baseline <- 170  # Population mean of the trait (e.g., height in cm) when the genetic variant has no effect (Model 1)\n",
    "theta_true <- 2  # True effect size of the genetic variant. This represents the change in height (in cm) associated with each additional minor allele (Model 2)\n",
    "sd_y <- 1  # Standard deviation of the trait (e.g., variability in height measurement within the population)\n",
    "\n",
    "# Simulate genotypes for three individuals\n",
    "genotype <- c(1, 2, 0)\n",
    "\n",
    "# Simulate height values for three individuals based on genotypes\n",
    "n = length(genotype)\n",
    "height_values <- rnorm(n, mean = baseline + theta_true * genotype, sd = sd_y)\n",
    "\n",
    "# Display the simulated data\n",
    "data.frame(genotype = genotype, height = height_values)\n"
   ]
  },
  {
   "cell_type": "code",
   "execution_count": 27,
   "id": "6790df65-7b16-41c6-958a-bf521f8d21d9",
   "metadata": {
    "tags": [],
    "vscode": {
     "languageId": "r"
    }
   },
   "outputs": [
    {
     "name": "stdout",
     "output_type": "stream",
     "text": [
      "Likelihood for Model 1: 1.542167e-06 \n",
      "Likelihood for Model 2: 0.01183428 \n"
     ]
    }
   ],
   "source": [
    "# Define the likelihood function for a normal distribution\n",
    "likelihood <- function(theta, sd, y) {\n",
    "  prod(dnorm(y, mean = theta, sd = sd))\n",
    "}\n",
    "\n",
    "# Likelihood for Model 1: No genetic effect\n",
    "likelihood_1_multi_samples <- likelihood(theta = baseline, sd = sd_y, height_values)\n",
    "\n",
    "# Likelihood for Model 2: Genetic effect\n",
    "likelihood_2_multi_samples <- likelihood(theta = baseline + theta_true * genotype, sd = sd_y, height_values)\n",
    "\n",
    "# Print the likelihoods for both models\n",
    "cat(\"Likelihood for Model 1:\", likelihood_1_multi_samples, \"\\n\")\n",
    "cat(\"Likelihood for Model 2:\", likelihood_2_multi_samples, \"\\n\")"
   ]
  },
  {
   "cell_type": "markdown",
   "id": "e66a4566-e311-4317-8aaa-9a092f348504",
   "metadata": {},
   "source": [
    "Now let's compute the **likelihood ratio** between $M_2$ and $M_1$:"
   ]
  },
  {
   "cell_type": "code",
   "execution_count": 28,
   "id": "08c102af-892a-4803-a26e-2c38f864874a",
   "metadata": {
    "tags": [],
    "vscode": {
     "languageId": "r"
    }
   },
   "outputs": [
    {
     "name": "stdout",
     "output_type": "stream",
     "text": [
      "Likelihood Ratio (LR) for Model 2 vs Model 1: 7673.803 \n"
     ]
    }
   ],
   "source": [
    "# Compute the likelihood ratio (LR)\n",
    "lr <- likelihood_2_multi_samples / likelihood_1_multi_samples\n",
    "\n",
    "# Print the likelihood ratio\n",
    "cat(\"Likelihood Ratio (LR) for Model 2 vs Model 1:\", lr, \"\\n\")"
   ]
  },
  {
   "cell_type": "markdown",
   "id": "0866117f-58b0-4ec4-a179-216239a76421",
   "metadata": {},
   "source": [
    "Then we perform the **Likelihood Ratio Test (LRT)**,"
   ]
  },
  {
   "cell_type": "code",
   "execution_count": 29,
   "id": "c3205929-8943-45da-b863-2f296f46de13",
   "metadata": {
    "tags": [],
    "vscode": {
     "languageId": "r"
    }
   },
   "outputs": [
    {
     "name": "stdout",
     "output_type": "stream",
     "text": [
      "Likelihood Ratio Test Statistic (LRT): 17.89114 \n"
     ]
    }
   ],
   "source": [
    "# Compute the Likelihood Ratio Test (LRT) statistic\n",
    "lrt_statistic <- -2 * (log(likelihood_1_multi_samples) - log(likelihood_2_multi_samples))\n",
    "\n",
    "# Print the LRT statistic\n",
    "cat(\"Likelihood Ratio Test Statistic (LRT):\", lrt_statistic, \"\\n\")"
   ]
  },
  {
   "cell_type": "markdown",
   "id": "8f25498a-af30-41c9-8452-396fdd61d3c5",
   "metadata": {},
   "source": [
    "**Interpreting the Results**\n",
    "- Likelihood Ratio (LR): A larger LR suggests that $M_2$ (genetic effect) better fits the data than $M_1$ (no genetic effect).\n",
    "- Likelihood Ratio Test (LRT): If the LRT statistic is large, we prefer $M_2$ over $M_1$. The test statistic follows a chi-square distribution with 1 degree of freedom."
   ]
  },
  {
   "cell_type": "markdown",
   "id": "3fa0a9c4-d970-4f5a-942a-248541def638",
   "metadata": {},
   "source": [
    "# Summary\n",
    "- The **\"likelihood ratio\"** that compares two fully-specified (discrete) models is simply the ratio of the likelihood for the two models given data $D$: \n",
    "\n",
    "$$\n",
    "LR(M_2, M_1) := \\frac{L(M_2)}{L(M_1)} = \\frac{p(D|M_2)}{p(D|M_1)}\n",
    "$$\n",
    "\n",
    "where $L(M)$ denotes the likelihood for model $M$ under data $x$.\n",
    "\n",
    "- The **\"log-likelihood ratio\"** is defined as the logarithm of the likelihood ratio:\n",
    "\n",
    "$$\n",
    "LLR(M_2, M_1) := - 2 \\log \\left( \\frac{L(M_1)}{L(M_2)} \\right) = - 2 \\left[ \\log L(M_1) - \\log L(M_2) \\right] = - 2 \\left[ l(M_1) - l(M_2) \\right]\n",
    "$$\n",
    "\n",
    "where $l(M_i)$ denotes the log-likelihood for model $M_i$ under data $x$. The log-likelihood ratio measures the relative support for model $M_2$ over model $M_1$ on a **logarithmic scale**.\n",
    "\n",
    "- A natural question is,  **what value of the LR (or LLR) should we treat as \"convincing\" evidence for one model vs another**? The short answer here is that this is **context dependent**, which depends on the relative plausibility of the models we are comparing. For more discussions, refer to this [notes](https://stephens999.github.io/fiveMinuteStats/LR_and_BF.html) by Matthew Stephens."
   ]
  },
  {
   "cell_type": "markdown",
   "id": "51b7068e-d522-4b18-b510-c401926ceacc",
   "metadata": {},
   "source": [
    "# Supplementary Materials"
   ]
  },
  {
   "cell_type": "markdown",
   "id": "5724ac29-7eed-42fc-aa72-621231184695",
   "metadata": {},
   "source": [
    "## Example 1 -- allele frequency"
   ]
  },
  {
   "cell_type": "markdown",
   "id": "37438ae4-9f24-477b-9eb6-7f3cb6f8a400",
   "metadata": {},
   "source": [
    "Here we use the same example 1 in the `6_1_likelihood.ipynb` notebook, and we have calculated the likelihood for the two models $M_S$ and $M_F$."
   ]
  },
  {
   "cell_type": "markdown",
   "id": "3270e671-7fdb-4466-8285-8e89bff03c28",
   "metadata": {},
   "source": [
    "### Calculate LR"
   ]
  },
  {
   "cell_type": "code",
   "execution_count": 8,
   "id": "0115f781-c30b-4d0a-8b80-011ab5f81869",
   "metadata": {
    "tags": [],
    "vscode": {
     "languageId": "r"
    }
   },
   "outputs": [],
   "source": [
    "x = c(1,0,1,0,0,1)\n",
    "\n",
    "fS = c(0.40, 0.12,0.21,0.12,0.02,0.32)\n",
    "fF = c(0.8,0.2,0.11,0.17,0.23,0.25)\n",
    "\n",
    "L = function(f,x){ prod(f^x*(1-f)^(1-x)) }"
   ]
  },
  {
   "cell_type": "code",
   "execution_count": 9,
   "id": "b8946c01-9cb8-4abc-968e-9fdbaa17c051",
   "metadata": {
    "tags": [],
    "vscode": {
     "languageId": "r"
    }
   },
   "outputs": [
    {
     "data": {
      "text/html": [
       "0.02039955456"
      ],
      "text/latex": [
       "0.02039955456"
      ],
      "text/markdown": [
       "0.02039955456"
      ],
      "text/plain": [
       "[1] 0.02039955"
      ]
     },
     "metadata": {},
     "output_type": "display_data"
    },
    {
     "data": {
      "text/html": [
       "0.01124816"
      ],
      "text/latex": [
       "0.01124816"
      ],
      "text/markdown": [
       "0.01124816"
      ],
      "text/plain": [
       "[1] 0.01124816"
      ]
     },
     "metadata": {},
     "output_type": "display_data"
    }
   ],
   "source": [
    "L(fS,x)\n",
    "L(fF,x)"
   ]
  },
  {
   "cell_type": "markdown",
   "id": "070d50cc-120f-45aa-ba58-a234e259c298",
   "metadata": {},
   "source": [
    "The **likelihood ratio (LR)** is simply the ratio of those two values:"
   ]
  },
  {
   "cell_type": "code",
   "execution_count": 10,
   "id": "f8a75789-cd3a-4037-84a9-fea932f61c78",
   "metadata": {
    "tags": [],
    "vscode": {
     "languageId": "r"
    }
   },
   "outputs": [
    {
     "data": {
      "text/html": [
       "1.81359036144578"
      ],
      "text/latex": [
       "1.81359036144578"
      ],
      "text/markdown": [
       "1.81359036144578"
      ],
      "text/plain": [
       "[1] 1.81359"
      ]
     },
     "metadata": {},
     "output_type": "display_data"
    }
   ],
   "source": [
    "L(fS,x)/L(fF,x)"
   ]
  },
  {
   "cell_type": "markdown",
   "id": "faf3bb88-74c4-492e-a795-c35317ee69df",
   "metadata": {},
   "source": [
    "### How to interpret LR?"
   ]
  },
  {
   "cell_type": "markdown",
   "id": "0fd00148-8842-47dc-aee1-67b290ca2827",
   "metadata": {},
   "source": [
    "> So $LR(M_S,M_F;x)$ is 1.8135904. This means that the data favor the tusk coming from a savanna elephant by a factor of about 1.8. This is a fairly modest factor – not large enough to draw a convincing conclusion. We will have more to say about interpreting LRs, and what values might be considered “convincing” later.\n",
    ">\n",
    "> Note that we have deliberately focused on the likelihood ratio, and not the actual likelihood values themselves. This is because actual likelihood values are generally not useful - it is only the ratios that matter when comparing the models. One way of thinking about this is that the actual likelihood values are very context dependent, and so likelihoods from different data sets are not comparable with one another. However, the meaning of the likelihood ratio is in some sense consistent across contexts: LR =1.8 means that the data favour the first model by a factor of 1.8 whatever the context."
   ]
  },
  {
   "cell_type": "markdown",
   "id": "49118e2b-187c-472a-8509-67965c7bba63",
   "metadata": {},
   "source": [
    "## Example 2 -- concertration of protein in blood"
   ]
  },
  {
   "cell_type": "markdown",
   "id": "7afe6c91-7eeb-479e-a5dd-3c6f9a1afb7d",
   "metadata": {},
   "source": [
    "Here we use the same example 2 in the `6_1_likelihood.ipynb` notebook, and we have calculated the likelihood for the two models $M_0$ (normal individual group) and $M_1$ (diseased individual group)."
   ]
  },
  {
   "cell_type": "markdown",
   "id": "91e7c5fb-b352-436a-b21e-44fee56b4312",
   "metadata": {},
   "source": [
    "### Calculate LR"
   ]
  },
  {
   "cell_type": "code",
   "execution_count": 11,
   "id": "fe9c5a68-0f8b-4a66-abc2-ff58488c31b7",
   "metadata": {
    "tags": [],
    "vscode": {
     "languageId": "r"
    }
   },
   "outputs": [
    {
     "data": {
      "text/html": [
       "0.00518272791791383"
      ],
      "text/latex": [
       "0.00518272791791383"
      ],
      "text/markdown": [
       "0.00518272791791383"
      ],
      "text/plain": [
       "[1] 0.005182728"
      ]
     },
     "metadata": {},
     "output_type": "display_data"
    },
    {
     "data": {
      "text/html": [
       "0.0721709190568015"
      ],
      "text/latex": [
       "0.0721709190568015"
      ],
      "text/markdown": [
       "0.0721709190568015"
      ],
      "text/plain": [
       "[1] 0.07217092"
      ]
     },
     "metadata": {},
     "output_type": "display_data"
    }
   ],
   "source": [
    "X_val=4.02\n",
    "# dgamma(x, shape, rate = 1, scale = 1/rate, log = FALSE) returns the Density for the Gamma distribution with parameters shape and scale at x\n",
    "y0_val = dgamma(X_val,scale=0.5,shape=2)\n",
    "y1_val = dgamma(X_val,scale=1,shape=2)\n",
    "y0_val\n",
    "y1_val"
   ]
  },
  {
   "cell_type": "code",
   "execution_count": 12,
   "id": "96ffb4e1-f244-4036-a976-e42b4671f99a",
   "metadata": {
    "tags": [],
    "vscode": {
     "languageId": "r"
    }
   },
   "outputs": [
    {
     "data": {
      "text/html": [
       "13.9252764566989"
      ],
      "text/latex": [
       "13.9252764566989"
      ],
      "text/markdown": [
       "13.9252764566989"
      ],
      "text/plain": [
       "[1] 13.92528"
      ]
     },
     "metadata": {},
     "output_type": "display_data"
    }
   ],
   "source": [
    "y1_val/y0_val"
   ]
  },
  {
   "cell_type": "markdown",
   "id": "3ee93065-0e5c-46e3-8a2f-5bc44d73da7e",
   "metadata": {},
   "source": [
    "### Interpretation"
   ]
  },
  {
   "cell_type": "markdown",
   "id": "e5aa7e24-5034-4ae7-be24-ba38ea5fd7be",
   "metadata": {},
   "source": [
    "The $LR(M_1,M_0;x)$ is 13.9, i.e., the data favours the individual being diseased ($M_1$) over being normal ($M_0$) by a factor of approximately 14.\n",
    "\n"
   ]
  },
  {
   "cell_type": "markdown",
   "id": "0a75bff9-08c7-410e-b6dc-10907612819b",
   "metadata": {
    "tags": []
   },
   "source": [
    "# Recommended Reading\n",
    "\n",
    "- Section *Likelihood Ratio and Likehood* in [FiveMinuteStats](http://stephens999.github.io/fiveMinuteStats/index.html) by Matthew Stephens\n"
   ]
  },
  {
   "cell_type": "code",
   "execution_count": null,
   "id": "a8e07569-daa0-48e7-9568-26bf0c758598",
   "metadata": {
    "vscode": {
     "languageId": "r"
    }
   },
   "outputs": [],
   "source": []
  }
 ],
 "metadata": {
  "kernelspec": {
   "display_name": "R",
   "language": "R",
   "name": "ir"
  },
  "language_info": {
   "codemirror_mode": "r",
   "file_extension": ".r",
   "mimetype": "text/x-r-source",
   "name": "R",
   "pygments_lexer": "r",
   "version": "4.4.2"
  }
 },
 "nbformat": 4,
 "nbformat_minor": 5
}
