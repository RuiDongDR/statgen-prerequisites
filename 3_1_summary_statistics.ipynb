{
 "cells": [
  {
   "cell_type": "markdown",
   "id": "1e5900b0-da6a-415b-8e69-e7c01cff9327",
   "metadata": {},
   "source": [
    "# Intuition\n",
    "\n"
   ]
  },
  {
   "cell_type": "markdown",
   "id": "04146a21",
   "metadata": {},
   "source": [
    "![figure](./cartoons/3_1.svg)"
   ]
  },
  {
   "cell_type": "markdown",
   "id": "31be40c1-3534-42db-ae8d-07b5886fac15",
   "metadata": {},
   "source": [
    "# Notations"
   ]
  },
  {
   "cell_type": "markdown",
   "id": "3c0c4e06-c861-4541-8f3e-def05d20b51f",
   "metadata": {},
   "source": [
    "> slide 86-90 from GW\n",
    ">\n",
    "> slide 197-202 from GW\n"
   ]
  },
  {
   "cell_type": "markdown",
   "id": "21d3777c-85ac-4900-a495-317c3b3b6e63",
   "metadata": {},
   "source": [
    "## Linear Regression Model\n",
    "\n",
    "Consider the single variant linear regression model for a trait vector $ \\mathbf{y} $ and a genetic variant $ \\mathbf{X}_j $ across $ N $ individuals:\n",
    "\n",
    "$$\n",
    "\\mathbf{y} = \\mathbf{X}_j \\beta_j + \\boldsymbol{\\epsilon}, \\quad \\boldsymbol{\\epsilon} \\sim N(0, \\sigma^2)\n",
    "$$\n",
    "\n",
    "Where:\n",
    "- $ \\mathbf{y} $ is the $ N \\times 1 $ vector of trait values for $ N $ individuals.\n",
    "- $ \\mathbf{X}_j $ is the $ N \\times 1 $ vector of genotypes for variant $ j $ across all individuals.\n",
    "- $ \\beta_j $ is the effect size of the genetic variant $ j $.\n",
    "- $ \\boldsymbol{\\epsilon} $ is the $ N \\times 1 $ vector of error terms (residuals), assumed to follow a normal distribution with mean 0 and variance $ \\sigma^2 $.\n"
   ]
  },
  {
   "cell_type": "markdown",
   "id": "1e3ec76b-ff9b-4828-b0e7-8e5ace8b4647",
   "metadata": {},
   "source": [
    "## Estimation of $ \\beta_j $\n",
    "\n",
    "To estimate $ \\beta_j $, we use the **Ordinary Least Squares (OLS)** method, which minimizes the residual sum of squares (RSS) between the observed and predicted trait values. Recall lecture 2.1 that we get the following formula for the OLS estimator of $ \\beta_j $:\n",
    "\n",
    "$$\n",
    "\\hat{\\beta}_j = \\frac{\\mathbf{X}_j^T \\mathbf{y}}{\\mathbf{X}_j^T \\mathbf{X}_j}\n",
    "$$"
   ]
  },
  {
   "cell_type": "markdown",
   "id": "30e7f7b1-cced-4803-bd5c-930f0b2e9b84",
   "metadata": {},
   "source": [
    "## Variance of $ \\hat{\\beta}_j $\n",
    "\n",
    "The variance of $ \\hat{\\beta}_j $ can be calculated as:\n",
    "\n",
    "$$\n",
    "\\text{Var}(\\hat{\\beta}_j) = \\frac{\\sigma^2}{\\mathbf{X}_j^T \\mathbf{X}_j}\n",
    "$$\n",
    "\n",
    "Where $ \\sigma^2 $ is the residual variance, which is typically estimated from the residuals of the model.\n"
   ]
  },
  {
   "cell_type": "markdown",
   "id": "388983f0-a2af-4d4a-8412-90677c4a6959",
   "metadata": {},
   "source": [
    "## Example GWAS Summary Statistics Table\n",
    "\n",
    "| SNP (rsID) | CHR | BP    | A1  | A2  | MAF  | BETA  | SE    | Z-score | P-value  | N     |\n",
    "|------------|-----|-------|-----|-----|------|-------|-------|---------|----------|-------|\n",
    "| rs12345    | 1   | 10583 | A   | G   | 0.12 | 0.045 | 0.010 | 4.50    | 1.2e-06  | 100000 |\n",
    "| rs67890    | 2   | 20345 | C   | T   | 0.35 | -0.030 | 0.008 | -3.75   | 5.4e-04  | 95000  |\n",
    "| rs54321    | 18   | 45678 | G   | A   | 0.22 | 0.060 | 0.012 | 5.00    | 2.1e-07  | 102000 |\n",
    "\n",
    "\n",
    "- **SNP (rsID):** Identifier for the single nucleotide polymorphism, such as `rs12345` or `chr21:295472:G:A`.  \n",
    "- **CHR:** Chromosome number where the SNP is located.  \n",
    "  - *Other common names:* `chrom`, `chromosome`  \n",
    "- **BP:** Genomic position of the SNP, specific to a reference genome assembly (e.g., GRCh37 or GRCh38).  \n",
    "  - *Other common names:* `pos`, `position`  \n",
    "- **A1 and A2:** The two alleles at the variant site, with one designated as the effect allele.  \n",
    "  - *Other common names:* `REF and ALT`, `Effect_allele and Other_allele`  \n",
    "- **MAF:** The frequency of the less common allele for variant $ j $ in the sample.\n",
    "- **BETA:** Estimated effect size ($\\hat{\\theta}$), representing the association between the effect allele and the trait. Always check which allele it corresponds to.  \n",
    "- **SE:** Standard error of the effect size estimat, reflecting the uncertainty in the effect size estimate. It is computed as $SE_j = \\sqrt{\\frac{\\hat{\\sigma}^2}{\\mathbf{X}_j^T \\mathbf{X}_j}}$, where $ \\hat{\\sigma}^2 $ is the estimated residual variance from the model.\n",
    "- **Z:** Standardized test statistic, computed as $z = \\frac{\\beta}{\\text{se}}$.  \n",
    "- **P-value:** Significance of the association, testing whether the SNP has an effect on the trait, $p_j = 2 \\times (1 - \\Phi(|t_j|))$, where $ \\Phi $ is the cumulative distribution function (CDF) of the standard normal distribution.\n",
    "- **N:** Number of individuals included in the analysis.  \n",
    "- **N_cases:** Number of individuals with the trait (cases), relevant for case-control studies.  \n",
    "- **N_ctrls:** Number of individuals without the trait (controls), relevant for case-control studies.  \n"
   ]
  },
  {
   "cell_type": "markdown",
   "id": "58d544ce-922b-4a03-b765-9a1972fd1859",
   "metadata": {},
   "source": [
    "# Example"
   ]
  },
  {
   "cell_type": "code",
   "execution_count": 1,
   "id": "77db5047-6e43-4b9c-8afc-30b087c66a62",
   "metadata": {
    "tags": [],
    "vscode": {
     "languageId": "r"
    }
   },
   "outputs": [],
   "source": [
    "rm(list=ls())\n",
    "set.seed(21)  # For reproducibility\n",
    "\n",
    "# Genotype matrix for 100 individuals and 3 variants\n",
    "N <- 100  # Number of individuals\n",
    "M <- 3    # Number of SNPs (variants)\n",
    "\n",
    "# Create a random genotype matrix (0, 1, 2 values for each SNP)\n",
    "X_raw <- matrix(sample(0:2, N * M, replace = TRUE), nrow = N, ncol = M)\n",
    "\n",
    "# Adding row and column names\n",
    "rownames(X_raw) <- paste(\"Individual\", 1:N)\n",
    "colnames(X_raw) <- paste(\"Variant\", 1:M)\n",
    "# Standardize genotype matrix (mean = 0, sd = 1 for each SNP)\n",
    "X <- scale(X_raw, scale = TRUE)\n",
    "\n",
    "# Create a random response vector y (trait)\n",
    "y <- rnorm(N, mean = 0, sd = 1)\n",
    "\n",
    "# Perform GWAS-style analysis: Test each SNP independently using OLS\n",
    "p_values <- numeric(M)  # Store p-values\n",
    "betas <- numeric(M)     # Store estimated effect sizes\n",
    "se_values <- numeric(M)  # Store standard errors\n",
    "z_scores <- numeric(M)   # Store z-scores\n",
    "maf_values <- numeric(M) # Store minor allele frequencies\n"
   ]
  },
  {
   "cell_type": "code",
   "execution_count": 2,
   "id": "2eddbe8a-5ac3-45e9-874a-70786c2f188e",
   "metadata": {
    "tags": [],
    "vscode": {
     "languageId": "r"
    }
   },
   "outputs": [],
   "source": [
    "for (j in 1:M) {\n",
    "  SNP <- X[, j]  # Extract genotype for SNP j\n",
    "  model <- lm(y ~ SNP)  # OLS regression: Trait ~ SNP\n",
    "  summary_model <- summary(model)\n",
    "  \n",
    "  # Store p-value and effect size (coefficient)\n",
    "  p_values[j] <- summary_model$coefficients[2, 4]  # p-value for SNP effect\n",
    "  betas[j] <- summary_model$coefficients[2, 1]     # Estimated beta coefficient\n",
    "  se_values[j] <- summary_model$coefficients[2, 2]  # Standard error\n",
    "  \n",
    "  # Calculate Z-score\n",
    "  z_scores[j] <- betas[j] / se_values[j]\n",
    "  \n",
    "  # Calculate Minor Allele Frequency (MAF)\n",
    "  # Assuming a MAF calculation based on allele counts in the genotype matrix\n",
    "  maf_values[j] <- mean(X_raw[, j] == 1 | X_raw[, j] == 2) / 2  # Calculate MAF based on heterozygote and homozygote counts\n",
    "}\n"
   ]
  },
  {
   "cell_type": "code",
   "execution_count": 3,
   "id": "e7384a79-a6b6-4dd3-a9f6-3e65307aa129",
   "metadata": {
    "tags": [],
    "vscode": {
     "languageId": "r"
    }
   },
   "outputs": [
    {
     "name": "stdout",
     "output_type": "stream",
     "text": [
      "[1] \"Summary Statistics for each SNP:\"\n",
      "        SNP        BETA         SE    Z_score   P_value   MAF\n",
      "1 Variant 1 -0.10376445 0.09682566 -1.0716627 0.2865036 0.325\n",
      "2 Variant 2  0.10904197 0.09676647  1.1268570 0.2625546 0.375\n",
      "3 Variant 3 -0.07918321 0.09706234 -0.8157975 0.4165944 0.320\n"
     ]
    }
   ],
   "source": [
    "\n",
    "# Combine the summary statistics into a data frame\n",
    "summary_stats <- data.frame(\n",
    "  SNP = colnames(X),\n",
    "  BETA = betas,\n",
    "  SE = se_values,\n",
    "  Z_score = z_scores,\n",
    "  P_value = p_values,\n",
    "  MAF = maf_values\n",
    ")\n",
    "\n",
    "# Print the summary statistics\n",
    "print(\"Summary Statistics for each SNP:\")\n",
    "print(summary_stats)\n"
   ]
  },
  {
   "cell_type": "code",
   "execution_count": null,
   "id": "e4d051f5-a748-46fb-98c8-dc797bde43c3",
   "metadata": {
    "vscode": {
     "languageId": "r"
    }
   },
   "outputs": [],
   "source": []
  },
  {
   "cell_type": "code",
   "execution_count": null,
   "id": "28bf7c80-5d7e-420d-ae97-05eaafd7fe58",
   "metadata": {
    "vscode": {
     "languageId": "r"
    }
   },
   "outputs": [],
   "source": []
  },
  {
   "cell_type": "markdown",
   "id": "441678aa-90e7-414d-8bda-3dd2704ed7ef",
   "metadata": {},
   "source": [
    "# Supplementary\n",
    "\n",
    "## **Linear Mixed Models (LMM)**\n",
    "LMMs account for relatedness between individuals by modeling both fixed and random effects. These models control for population structure and relatedness, reducing bias in association studies. Many new GWAS softwares includes REGENIE, BOLT-LMM, fastGWA and SAIGE. **[FIXME add references here]**"
   ]
  },
  {
   "cell_type": "markdown",
   "id": "e5535d49-6fe9-4f73-af0c-31a25dba3ac9",
   "metadata": {},
   "source": [
    "# TODO \n",
    "\n",
    "- [ ] what about LD here? Do we want to include fine-mapping?\n",
    "> slide 206-207 from GW"
   ]
  },
  {
   "cell_type": "code",
   "execution_count": null,
   "id": "9d4a43e4-413b-459c-9589-f1d2d16e25f4",
   "metadata": {
    "vscode": {
     "languageId": "r"
    }
   },
   "outputs": [],
   "source": []
  }
 ],
 "metadata": {
  "kernelspec": {
   "display_name": "R",
   "language": "R",
   "name": "ir"
  },
  "language_info": {
   "codemirror_mode": "r",
   "file_extension": ".r",
   "mimetype": "text/x-r-source",
   "name": "R",
   "pygments_lexer": "r",
   "version": "4.4.2"
  },
  "toc-autonumbering": true
 },
 "nbformat": 4,
 "nbformat_minor": 5
}
