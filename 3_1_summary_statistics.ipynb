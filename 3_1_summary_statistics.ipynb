{
 "cells": [
  {
   "cell_type": "markdown",
   "id": "1e5900b0-da6a-415b-8e69-e7c01cff9327",
   "metadata": {},
   "source": [
    "# Intuition\n",
    "\n"
   ]
  },
  {
   "cell_type": "markdown",
   "id": "658804fa-e1a8-477c-9176-f3bd55196dd5",
   "metadata": {},
   "source": [
    "summary statistics"
   ]
  },
  {
   "cell_type": "markdown",
   "id": "31be40c1-3534-42db-ae8d-07b5886fac15",
   "metadata": {},
   "source": [
    "# Notations"
   ]
  },
  {
   "cell_type": "markdown",
   "id": "37dd5244-194e-4adc-9fae-522f410855de",
   "metadata": {},
   "source": [
    "**GWAS summary statistics** summarize the association between genetic variants and a trait. We can get the summary statistics by running a linear regression model (either FEM or REM, in lecture 2):\n",
    "\n",
    "$$\n",
    "y_i = \\beta_0 + \\beta x_{i,j} + \\epsilon_i\n",
    "$$\n",
    "\n",
    "where:\n",
    "- $ y_i $ is the trait value for individual $ i $,\n",
    "- $ x_{i,j} $ is the genotype of individual $ i $ at variant $ j $,\n",
    "- $ \\beta_b $ is the baseline level (intercept),\n",
    "- $ \\veta $ is the effect size of the variant,\n",
    "- $ \\epsilon_i \\sim N(0, \\sigma^2) $ represents the residual error.\n",
    "\n",
    "\n",
    "## **Example GWAS Summary Statistics Table**\n",
    "\n",
    "| SNP (rsID) | CHR | BP | A1 | A2 | MAF | BETA | SE | P-value | N |\n",
    "|------------|-----|----|----|----|-----|------|----|--------|----|\n",
    "| rs12345 | 1 | 10583 | A | G | 0.12 | 0.045 | 0.010 | 1.2e-06 | 100000 |\n",
    "| rs67890 | 2 | 20345 | C | T | 0.35 | -0.030 | 0.008 | 5.4e-04 | 95000 |\n",
    "| rs54321 | 3 | 45678 | G | A | 0.22 | 0.060 | 0.012 | 2.1e-07 | 102000 |\n",
    "\n",
    "\n",
    "- **SNP (rsID):** Identifier for the single nucleotide polymorphism, such as `rs12345` or `chr21:295472:G:A`.  \n",
    "- **CHR:** Chromosome number where the SNP is located.  \n",
    "  - *Other common names:* `chrom`, `chromosome`  \n",
    "- **BP:** Genomic position of the SNP, specific to a reference genome assembly (e.g., GRCh37 or GRCh38).  \n",
    "  - *Other common names:* `pos`, `position`  \n",
    "- **A1 and A2:** The two alleles at the variant site, with one designated as the effect allele.  \n",
    "  - *Other common names:* `REF and ALT`, `Effect_allele and Other_allele`  \n",
    "- **MAF:** Frequency of the minor allele in the dataset.  \n",
    "- **BETA:** Estimated effect size ($\\hat{\\theta}$), representing the association between the effect allele and the trait. Always check which allele it corresponds to.  \n",
    "- **SE:** Standard error of the effect size estimate.  \n",
    "- **Z:** Standardized test statistic, computed as $Z = \\frac{\\text{BETA}}{\\text{SE}}$.  \n",
    "- **P-value:** Significance of the association, testing whether the SNP has an effect on the trait.  \n",
    "- **N:** Number of individuals included in the analysis.  \n",
    "- **N_cases:** Number of individuals with the trait (cases), relevant for case-control studies.  \n",
    "- **N_ctrls:** Number of individuals without the trait (controls), relevant for case-control studies.  \n",
    "\n",
    "\n",
    "## **Interpretation of Results**\n",
    "\n",
    "When working with summary statistics, understanding the context and significance of each value is key to interpreting the results properly. Here are important aspects to consider when interpreting the results from a GWAS or genetic study:\n",
    "\n",
    "1. **P-value and Significance**  \n",
    "   - The **P-value** indicates the probability of observing an effect at least as extreme as the one found, assuming there is no true effect (null hypothesis).  \n",
    "   - The most widely used threshold for **genome-wide significance** is **$5 \\times 10^{-8}$**, which accounts for multiple testing due to the large number of SNPs tested. This is considered the cutoff for identifying variants strongly associated with the trait.  \n",
    "   - **P-values below this threshold** indicate a significant association, while **P-values above it** suggest no strong evidence of association.  \n",
    "   - **Suggestive association**: Some studies use a less stringent threshold, such as **$1 \\times 10^{-5}$**, to identify variants that might be of interest for further investigation.\n",
    "\n",
    "2. **Effect Size (BETA) and Direction**  \n",
    "   - The **BETA** represents the estimated effect of the variant on the trait. A **positive BETA** means that the effect allele (A1) increases the trait value, while a **negative BETA** means it decreases the trait value.  \n",
    "   - The **size of BETA** reflects the magnitude of the association: larger absolute values suggest stronger associations.\n",
    "   - It's crucial to verify which allele is the effect allele (A1 or A2) to understand the direction of the association properly.\n",
    "\n",
    "3. **Standard Error (SE) and Precision**  \n",
    "   - **SE** indicates the uncertainty of the effect size estimate. Smaller **SE** values suggest higher precision in the effect size estimate, meaning that the association is more confidently established.  \n",
    "   - **Larger SE** can indicate low statistical power, potentially due to small sample sizes or low minor allele frequencies (MAF), leading to less reliable estimates.\n",
    "\n",
    "4. **Z-score**  \n",
    "   - The **Z-score** is calculated as $Z = \\frac{\\text{BETA}}{\\text{SE}}$. It standardizes the effect size to give a measure of how many standard deviations the observed effect is from zero.  \n",
    "   - A **larger absolute Z-score** (typically greater than 1.96) indicates stronger evidence for association. The larger the Z-score, the more confident you can be in the observed effect.\n",
    "\n",
    "5. **Minor Allele Frequency (MAF)**  \n",
    "   - The **MAF** is the frequency of the minor allele in the population. **Common variants** (MAF > 5%) tend to have higher statistical power for detection due to a larger sample size and greater variation.  \n",
    "   - **Rare variants** (MAF < 1%) often require larger sample sizes or more sophisticated analytical methods, as they are harder to detect and tend to have higher SE.\n",
    "\n",
    "6. **Sample Size (N) and Statistical Power**  \n",
    "   - A **larger sample size (N)** increases the **statistical power** of the study, reducing the standard error and increasing the likelihood of detecting true associations.  \n",
    "   - When interpreting results, check the **sample size** as variants studied in small samples are more prone to false positives or false negatives due to insufficient power.\n",
    "\n",
    "7. **Case-Control Studies (N_cases and N_ctrls)**  \n",
    "   - For **case-control studies**, the distribution of **N_cases** and **N_ctrls** is important. If the cases (affected individuals) are underrepresented, it may decrease the power of the analysis and make it harder to detect associations.  \n",
    "   - A balance between cases and controls is crucial for robust findings. An overly large number of controls compared to cases may lead to imbalances that affect results.\n",
    "\n",
    "8. **Genome Build and Variant Position (BP)**  \n",
    "   - The **BP** (Base Pair Position) is specific to the reference genome assembly used (e.g., GRCh37, GRCh38).  \n",
    "   - Always ensure that the **BP** corresponds to the same genome build across datasets when conducting meta-analyses or replication studies. Mismatches in reference builds could lead to inaccurate interpretations or difficulty in comparing results.\n",
    "\n",
    "\n",
    "## **Marginal Effect Size and True Causal Effect**\n",
    "\n",
    "The **BETA** reported in GWAS summary statistics represents the **marginal effect size** of a genetic variant on the trait. It indicates the association between the genetic variant and the phenotype, adjusting for other variants in the analysis but not accounting for potential pleiotropic effects (i.e., the variant affecting multiple traits) or confounding factors. Therefore, the BETA should be interpreted as the effect of the variant on the trait, but it does not necessarily represent the true **causal** effect of the variant.\n",
    "\n",
    "### **Fine-Mapping to Identify Causal Variants**\n",
    "To estimate the **true causal effect**, methods such as **fine-mapping** are employed. Fine-mapping aims to pinpoint the actual causal variants within a region of interest identified by GWAS. Given that GWAS typically identify broad regions with multiple variants, fine-mapping helps to prioritize variants by integrating evidence from:\n",
    "1. **Statistical association** (GWAS results)\n",
    "2. **Functional annotations** (e.g., chromatin interactions, gene expression)\n",
    "3. **Biological understanding** (e.g., pathway analysis)\n",
    "\n",
    "Fine-mapping methods include:\n",
    "- **Colocalization analysis**: Identifies variants that co-localize with both gene expression and trait association signals.\n",
    "- **Bayesian fine-mapping methods**: These methods, such as **SUSIE**, use probabilistic models to calculate the posterior probability of each variant being the causal one in the identified region (**[FIXME -- refer to the susie lecture]**).\n",
    "\n",
    "By using fine-mapping techniques, researchers can obtain a more accurate understanding of the **causal variants** and their effects on the trait of interest, moving beyond the marginal associations detected by GWAS.\n",
    "\n",
    "## **Summary**\n",
    "\n",
    "One may wonder why fine-mapping is not always preferred over GWAS. GWAS summary statistics are valuable for understanding genetic associations with traits. While they provide marginal effect estimates, they are widely used due to their efficiency, broad applicability, and the ability to perform meta-analyses. However, for accurate causal inferences, fine-mapping techniques are needed to identify the true causal variants. There are several reasons for the continued use of GWAS summary statistics:\n",
    "\n",
    "1. **No Individual Data Required**  \n",
    "   - GWAS summary statistics can be used without individual-level data, avoiding privacy concerns.\n",
    "\n",
    "2. **Smaller Data Size**  \n",
    "   - Compared to full genotype data, summary statistics are more compact and manageable.\n",
    "\n",
    "3. **Efficient First-Step Filtering**  \n",
    "   - They enable quick filtering of candidate genetic variants, serving as a precursor for more detailed analyses.\n",
    "\n",
    "4. **Broad Applicability**  \n",
    "   - Summary statistics are useful across various traits and populations, and facilitate cross-trait genetic studies.\n",
    "\n",
    "5. **Resource Efficiency**  \n",
    "   - They support large-scale genetic analyses without the need for raw genotype data.\n",
    "\n",
    "6. **Meta-Analysis Facilitation**  \n",
    "   - Summary statistics are essential for combining data from multiple studies, increasing the power of association detection.\n",
    "\n",
    "7. **Public Availability**  \n",
    "   - Many repositories make GWAS summary statistics publicly available, promoting faster research progress without requiring access to raw genotype data.\n",
    "\n",
    "8. **Correct Matched LD Required**  \n",
    "   - To avoid bias, it is essential to use the correct matched linkage disequilibrium (LD) structure when working with summary statistics. Incorrect LD matching can lead to inaccurate or biased conclusions.\n"
   ]
  },
  {
   "cell_type": "markdown",
   "id": "58d544ce-922b-4a03-b765-9a1972fd1859",
   "metadata": {},
   "source": [
    "# Example"
   ]
  },
  {
   "cell_type": "code",
   "execution_count": 7,
   "id": "77db5047-6e43-4b9c-8afc-30b087c66a62",
   "metadata": {
    "tags": []
   },
   "outputs": [
    {
     "data": {
      "text/html": [
       "<table class=\"dataframe\">\n",
       "<caption>A data.frame: 3 × 2</caption>\n",
       "<thead>\n",
       "\t<tr><th scope=col>genotype</th><th scope=col>height</th></tr>\n",
       "\t<tr><th scope=col>&lt;dbl&gt;</th><th scope=col>&lt;dbl&gt;</th></tr>\n",
       "</thead>\n",
       "<tbody>\n",
       "\t<tr><td>1</td><td>171.3735</td></tr>\n",
       "\t<tr><td>2</td><td>174.1836</td></tr>\n",
       "\t<tr><td>0</td><td>169.1644</td></tr>\n",
       "</tbody>\n",
       "</table>\n"
      ],
      "text/latex": [
       "A data.frame: 3 × 2\n",
       "\\begin{tabular}{ll}\n",
       " genotype & height\\\\\n",
       " <dbl> & <dbl>\\\\\n",
       "\\hline\n",
       "\t 1 & 171.3735\\\\\n",
       "\t 2 & 174.1836\\\\\n",
       "\t 0 & 169.1644\\\\\n",
       "\\end{tabular}\n"
      ],
      "text/markdown": [
       "\n",
       "A data.frame: 3 × 2\n",
       "\n",
       "| genotype &lt;dbl&gt; | height &lt;dbl&gt; |\n",
       "|---|---|\n",
       "| 1 | 171.3735 |\n",
       "| 2 | 174.1836 |\n",
       "| 0 | 169.1644 |\n",
       "\n"
      ],
      "text/plain": [
       "  genotype height  \n",
       "1 1        171.3735\n",
       "2 2        174.1836\n",
       "3 0        169.1644"
      ]
     },
     "metadata": {},
     "output_type": "display_data"
    }
   ],
   "source": [
    "rm(list=ls())\n",
    "set.seed(1)\n",
    "# Simulate true mean and effect size\n",
    "baseline <- 170  # Population mean of the trait (e.g., height in cm) when the genetic variant has no effect (Model 1)\n",
    "theta_true <- 2  # True effect size of the genetic variant. This represents the change in height (in cm) associated with each additional minor allele (Model 2)\n",
    "sd_y <- 1  # Standard deviation of the trait (e.g., variability in height measurement within the population)\n",
    "\n",
    "# Simulate genotype and height values\n",
    "genotype <- c(1, 2, 0)\n",
    "\n",
    "# Simulate height values for three individuals based on genotypes\n",
    "n = length(genotype)\n",
    "height_values <- rnorm(n, mean = baseline + theta_true * genotype, sd = sd_y)\n",
    "data <- data.frame(genotype = genotype, height = height_values)\n",
    "data"
   ]
  },
  {
   "cell_type": "code",
   "execution_count": 8,
   "id": "989b444c-7192-4f74-bf37-c231c24adb6b",
   "metadata": {},
   "outputs": [
    {
     "data": {
      "text/html": [
       "<table class=\"dataframe\">\n",
       "<caption>A data.frame: 1 × 11</caption>\n",
       "<thead>\n",
       "\t<tr><th scope=col>SNP</th><th scope=col>CHR</th><th scope=col>BP</th><th scope=col>A1</th><th scope=col>A2</th><th scope=col>MAF</th><th scope=col>BETA</th><th scope=col>SE</th><th scope=col>Z</th><th scope=col>P_value</th><th scope=col>N</th></tr>\n",
       "\t<tr><th scope=col>&lt;chr&gt;</th><th scope=col>&lt;dbl&gt;</th><th scope=col>&lt;dbl&gt;</th><th scope=col>&lt;chr&gt;</th><th scope=col>&lt;chr&gt;</th><th scope=col>&lt;dbl&gt;</th><th scope=col>&lt;dbl&gt;</th><th scope=col>&lt;dbl&gt;</th><th scope=col>&lt;dbl&gt;</th><th scope=col>&lt;dbl&gt;</th><th scope=col>&lt;int&gt;</th></tr>\n",
       "</thead>\n",
       "<tbody>\n",
       "\t<tr><td>rs12345</td><td>1</td><td>12345678</td><td>A</td><td>G</td><td>0.5</td><td>2.509636</td><td>0.1734713</td><td>14.46715</td><td>0.04393462</td><td>3</td></tr>\n",
       "</tbody>\n",
       "</table>\n"
      ],
      "text/latex": [
       "A data.frame: 1 × 11\n",
       "\\begin{tabular}{lllllllllll}\n",
       " SNP & CHR & BP & A1 & A2 & MAF & BETA & SE & Z & P\\_value & N\\\\\n",
       " <chr> & <dbl> & <dbl> & <chr> & <chr> & <dbl> & <dbl> & <dbl> & <dbl> & <dbl> & <int>\\\\\n",
       "\\hline\n",
       "\t rs12345 & 1 & 12345678 & A & G & 0.5 & 2.509636 & 0.1734713 & 14.46715 & 0.04393462 & 3\\\\\n",
       "\\end{tabular}\n"
      ],
      "text/markdown": [
       "\n",
       "A data.frame: 1 × 11\n",
       "\n",
       "| SNP &lt;chr&gt; | CHR &lt;dbl&gt; | BP &lt;dbl&gt; | A1 &lt;chr&gt; | A2 &lt;chr&gt; | MAF &lt;dbl&gt; | BETA &lt;dbl&gt; | SE &lt;dbl&gt; | Z &lt;dbl&gt; | P_value &lt;dbl&gt; | N &lt;int&gt; |\n",
       "|---|---|---|---|---|---|---|---|---|---|---|\n",
       "| rs12345 | 1 | 12345678 | A | G | 0.5 | 2.509636 | 0.1734713 | 14.46715 | 0.04393462 | 3 |\n",
       "\n"
      ],
      "text/plain": [
       "  SNP     CHR BP       A1 A2 MAF BETA     SE        Z        P_value    N\n",
       "1 rs12345 1   12345678 A  G  0.5 2.509636 0.1734713 14.46715 0.04393462 3"
      ]
     },
     "metadata": {},
     "output_type": "display_data"
    }
   ],
   "source": [
    "# Fit a linear regression model with normalized data\n",
    "lm_model <- lm(data$height ~ data$genotype)  # Use the second column of X (genotype) as the predictor, the first column is all 1 for intercept\n",
    "# Create summary statistics\n",
    "summary_stats <- data.frame(\n",
    "  SNP = \"rs12345\",        # Example SNP identifier\n",
    "  CHR = 1,                # Example chromosome\n",
    "  BP = 12345678,          # Example base pair position\n",
    "  A1 = \"A\",               # Effect allele (minor allele)\n",
    "  A2 = \"G\",               # Other allele (major allele)\n",
    "  MAF = pmin(mean(data$genotype) / 2, 1-mean(data$genotype) / 2),       # Minor allele frequency (assumed as mean of genotype normalized values)\n",
    "  BETA = coef(lm_model)[2],  # Effect size estimate (slope of genotype in the regression model)\n",
    "  SE = summary(lm_model)$coefficients[2, 2],  # Standard error of BETA\n",
    "  Z = coef(lm_model)[2] / summary(lm_model)$coefficients[2, 2],  # Z-score\n",
    "  P_value = summary(lm_model)$coefficients[2, 4],  # P-value for BETA\n",
    "  N = n                   # Sample size\n",
    ")\n",
    "rownames(summary_stats) <- NULL\n",
    "\n",
    "summary_stats"
   ]
  },
  {
   "cell_type": "markdown",
   "id": "441678aa-90e7-414d-8bda-3dd2704ed7ef",
   "metadata": {},
   "source": [
    "# Extension reading material\n",
    "\n",
    "## **Linear Mixed Models (LMM)**\n",
    "LMMs account for relatedness between individuals by modeling both fixed and random effects. These models control for population structure and relatedness, reducing bias in association studies. Many new GWAS softwares includes REGENIE, BOLT-LMM, fastGWA and SAIGE. **[FIXME add references here]**"
   ]
  },
  {
   "cell_type": "markdown",
   "id": "e5535d49-6fe9-4f73-af0c-31a25dba3ac9",
   "metadata": {},
   "source": [
    "# TODO \n",
    "\n",
    "- [ ] what about LD here? Do we want to include fine-mapping?"
   ]
  },
  {
   "cell_type": "code",
   "execution_count": null,
   "id": "9d4a43e4-413b-459c-9589-f1d2d16e25f4",
   "metadata": {},
   "outputs": [],
   "source": []
  }
 ],
 "metadata": {
  "kernelspec": {
   "display_name": "R",
   "language": "R",
   "name": "ir"
  },
  "language_info": {
   "codemirror_mode": "r",
   "file_extension": ".r",
   "mimetype": "text/x-r-source",
   "name": "R",
   "pygments_lexer": "r",
   "version": "4.4.2"
  },
  "toc-autonumbering": true
 },
 "nbformat": 4,
 "nbformat_minor": 5
}
