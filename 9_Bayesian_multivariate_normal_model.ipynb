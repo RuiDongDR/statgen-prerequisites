{
 "cells": [
  {
   "cell_type": "markdown",
   "id": "d7ad5980-8dd0-4eaa-99b3-939bd50a196f",
   "metadata": {
    "tags": []
   },
   "source": [
    "## Bayesian multivariate normal model\n",
    "\n",
    "# Intuition\n",
    "Bayesian multivariate normal model\n",
    "\n",
    "**FIGURE PLACEHOLDER:** ![Bayesian multivariate normal model](image_placeholder)"
   ]
  },
  {
   "cell_type": "markdown",
   "id": "9164f6c5-942e-41c4-9570-dff5a11c97c2",
   "metadata": {
    "tags": []
   },
   "source": [
    "# Definition\n",
    "\n",
    "## Multivariate normal mean model\n",
    "\n",
    "From [wikipedia](https://en.wikipedia.org/wiki/Multivariate_normal_distribution) and [Matthew Stephen's note](http://stephens999.github.io/fiveMinuteStats/mvnorm.html), the multivariate normal mean model can be defined in this way:\n",
    "> one definition is that a random vector is said to be $r$-variate normally distributed if every linear combination of its $r$ components has a univariate normal distribution.\n",
    ">\n",
    "> The special case $r=2$ is usually referred to as the “bivariate normal” distribution. And the terminology \"$r$-dimensional multivariate normal\" means the same as $r$-variate normal."
   ]
  },
  {
   "cell_type": "markdown",
   "id": "40f6f4ca-c774-4aed-b7b5-7304e49cddb8",
   "metadata": {},
   "source": [
    "> Suppose $Z_1, \\dots, Z_n$ are independent random variables each with a standard normal distribution $N(0,1)$. Let $Z$ denote the vector $(Z_1, \\dots, Z_n)$, and let $A$ be any $r \\times n$ matrix, and $\\mu$ be any $r$-vector. Then the vector $X = A Z + \\mu$ has an $r$-dimensional multivariate normal distribution with mean $\\mu$ and variance-covariance matrix $\\Sigma := A A'$. (Here $A'$ means the transpose of the matrix $A$.) We write $X \\sim N_r(\\mu, \\Sigma)$.\n",
    ">\n",
    "> Note that $E(X_j) = \\mu_j$ and $\\text{cov}(X_i, X_j) = \\Sigma_{ij}$.\n",
    "> \n",
    "> When we simulate $X$ this way, any linear combination of the elements of $X$ is a linear combination of $Z$, and so is univariate normal because any linear combination of univariate normals is univariate normal. That is, when we simulate $X$ this way it satisfies the definition above for being $r$-variate normal.\n"
   ]
  },
  {
   "cell_type": "markdown",
   "id": "bf9a04d9-526f-44b2-9179-444898f951c0",
   "metadata": {},
   "source": [
    "# Example\n",
    "\n",
    "## Description\n",
    "\n",
    "We continue to use the Bayesian normal mean model example in lecture 7, but instead of comparing two models to assess the effect of **a single genetic variant** on a trait such as height, here **two genetic variants** are included in the model. This approach follows the Bayesian multivariate normal mean model, which provides a conjugate framework for inference.\n",
    "\n",
    "1. **Model 1 ($M_1$)**: This model assumes that neither of the genetic variants has any effect on the trait. Assumes the trait $y$ is normally distributed with mean 0 (no genetic effect) and standard deviation $\\sigma$.\n",
    "$$\n",
    "y_i \\sim \\mathcal{N}(0, \\sigma^2)\n",
    "$$\n",
    "where $y_i$ ($i=1,...,n$) is the observed trait value for individual $i$.\n",
    "\n",
    "2. **Model 2 ($M_2$)**: This model assumes that the genetic variants both has an effect on the trait. Assumes the trait is normally distributed with a non-zero mean (genetic effect $\\beta_1$ and genetic effect $\\beta_2$), where $x_{i,1}$ and $x_{i,2}$ are the genotype (coded as 0, 1, or 2 for the number of copies of the minor allele) for the first and second genetic variants, respectively.\n",
    "  \n",
    "$$\n",
    "y_i \\sim \\mathcal{N}(\\beta_1+\\beta_2, \\sigma^2)\n",
    "$$\n",
    "\n",
    "It is easy to realize that there could be more models -- for example, $M_3$ could be that the first variant has an effect but no effect for the second variant, and $M_4$ could be vice versa. This is a big advantage of Bayesian models versus frequensists model (null versus alternative) which we discussed in **[FIXME!!]**. In this notebook, we focus on the comparison between $M_1$ and $M_2$."
   ]
  },
  {
   "cell_type": "code",
   "execution_count": 1,
   "id": "acb9e990-6171-48d8-a35f-f1d7fbcb4c08",
   "metadata": {
    "tags": []
   },
   "outputs": [
    {
     "data": {
      "text/html": [
       "<table class=\"dataframe\">\n",
       "<caption>A data.frame: 3 × 3</caption>\n",
       "<thead>\n",
       "\t<tr><th scope=col>genotype_1</th><th scope=col>genotype_2</th><th scope=col>trait</th></tr>\n",
       "\t<tr><th scope=col>&lt;dbl&gt;</th><th scope=col>&lt;dbl&gt;</th><th scope=col>&lt;dbl&gt;</th></tr>\n",
       "</thead>\n",
       "<tbody>\n",
       "\t<tr><td>0</td><td>1</td><td>0.9152266</td></tr>\n",
       "\t<tr><td>2</td><td>0</td><td>1.2829897</td></tr>\n",
       "\t<tr><td>1</td><td>2</td><td>3.4035153</td></tr>\n",
       "</tbody>\n",
       "</table>\n"
      ],
      "text/latex": [
       "A data.frame: 3 × 3\n",
       "\\begin{tabular}{lll}\n",
       " genotype\\_1 & genotype\\_2 & trait\\\\\n",
       " <dbl> & <dbl> & <dbl>\\\\\n",
       "\\hline\n",
       "\t 0 & 1 & 0.9152266\\\\\n",
       "\t 2 & 0 & 1.2829897\\\\\n",
       "\t 1 & 2 & 3.4035153\\\\\n",
       "\\end{tabular}\n"
      ],
      "text/markdown": [
       "\n",
       "A data.frame: 3 × 3\n",
       "\n",
       "| genotype_1 &lt;dbl&gt; | genotype_2 &lt;dbl&gt; | trait &lt;dbl&gt; |\n",
       "|---|---|---|\n",
       "| 0 | 1 | 0.9152266 |\n",
       "| 2 | 0 | 1.2829897 |\n",
       "| 1 | 2 | 3.4035153 |\n",
       "\n"
      ],
      "text/plain": [
       "  genotype_1 genotype_2 trait    \n",
       "1 0          1          0.9152266\n",
       "2 2          0          1.2829897\n",
       "3 1          2          3.4035153"
      ]
     },
     "metadata": {},
     "output_type": "display_data"
    }
   ],
   "source": [
    "library(mvtnorm)\n",
    "# Simulate true mean and effect size\n",
    "mu_baseline <- 0  # population mean of the trait (e.g., height in cm) under Model 1\n",
    "beta_1_true <- 0.7  # true effect size of the first genetic variant\n",
    "beta_2_true <- 1.3  # true effect size of the second genetic variant\n",
    "sigma <- 0.4  # standard deviation of the trait\n",
    "\n",
    "set.seed(3)\n",
    "# Simulate genotypes for two genetic variants\n",
    "genotypes_1 <- c(0, 2, 1)\n",
    "genotypes_2 <- c(1, 0, 2)\n",
    "n <- length(genotypes_1)\n",
    "\n",
    "# Simulate trait values based on the model 2\n",
    "trait_values <- rnorm(n, mean = mu_baseline + beta_1_true * genotypes_1 + beta_2_true * genotypes_2, sd = sigma)\n",
    "\n",
    "# Data preview\n",
    "data.frame(genotype_1 = genotypes_1, genotype_2 = genotypes_2, trait = trait_values)\n"
   ]
  },
  {
   "cell_type": "markdown",
   "id": "5edbae8d-ec80-4a81-a378-23572714f3e0",
   "metadata": {},
   "source": [
    "## Bayesian Inference\n",
    "\n",
    "We assume the normal priors for the effect sizes $\\beta_1$ and $\\beta_2$:\n",
    "$$\n",
    "\\beta_1, \\beta_2 \\sim \\mathcal{N}(\\beta_0, 1/\\tau_0),\n",
    "$$\n",
    "where $\\beta_1$ and $\\beta_2$ are the effect sizes for the two genetic variants, and $\\beta_0$ is the prior mean, while $\\tau_0$ is the prior precision.\n",
    "\n",
    "Using Bayesian updating, the posterior distribution of $\\beta_1$ and $\\beta_2$ is given by:\n",
    "$$\n",
    "\\begin{pmatrix}\n",
    "\\beta_1 \\\\\n",
    "\\beta_2\n",
    "\\end{pmatrix}\n",
    "| X \\sim \\mathcal{N} \\left( \\begin{pmatrix} \\beta_1^* \\\\ \\beta_2^* \\end{pmatrix}, \\Sigma^* \\right),\n",
    "$$\n",
    "where:\n",
    "- The posterior precision matrix $\\Sigma^*$ is the inverse of the sum of the prior precision matrix and the data precision matrix:\n",
    "  $$\n",
    "  \\Sigma^* = \\left( \\tau_0 I + X^T X / \\sigma^2 \\right)^{-1},\n",
    "  $$\n",
    "  with $X$ being the matrix of genotype values, and $\\sigma^2$ being the variance of the trait.\n",
    "  \n",
    "- The posterior mean vector $\\begin{pmatrix} \\beta_1^* \\\\ \\beta_2^* \\end{pmatrix}$ is given by:\n",
    "  $$\n",
    "  \\begin{pmatrix} \\beta_1^* \\\\ \\beta_2^* \\end{pmatrix}\n",
    "  = \\Sigma^* \\left( \\frac{1}{\\sigma^2} X^T y + \\tau_0 \\beta_0 \\right),\n",
    "  $$\n",
    "  where $y$ is the vector of observed trait values, and $X$ is the matrix of genotype values (with each column corresponding to the genotype of each individual for the two variants).\n",
    "\n",
    "This framework allows us to update our belief about the effect sizes $\\beta_1$ and $\\beta_2$ after observing the trait data, incorporating both prior knowledge and observed data.\n"
   ]
  },
  {
   "cell_type": "code",
   "execution_count": 2,
   "id": "9d0d61a7-6d0d-4098-a4d1-ac887b24ba38",
   "metadata": {
    "tags": []
   },
   "outputs": [],
   "source": [
    "# Create a grid of beta values for beta_1 and beta_2\n",
    "beta_vals_1 <- seq(-2, 2, length.out = 100)  # Grid for beta_1\n",
    "beta_vals_2 <- seq(-2, 2, length.out = 100)  # Grid for beta_2\n",
    "beta_grid <- expand.grid(beta_1 = beta_vals_1, beta_2 = beta_vals_2)"
   ]
  },
  {
   "cell_type": "markdown",
   "id": "75858b55-1c97-4e97-8f09-1d588b893d68",
   "metadata": {},
   "source": [
    "### Prior distribution"
   ]
  },
  {
   "cell_type": "code",
   "execution_count": 3,
   "id": "4b965370-400d-46a9-9532-180b38f6d4ed",
   "metadata": {
    "tags": []
   },
   "outputs": [
    {
     "name": "stdout",
     "output_type": "stream",
     "text": [
      "Prior Information for beta_1 and beta_2:\n",
      "Mean of mu_0: 0 0 \n",
      "Standard Deviation (sigma_0): 0.5 \n",
      "Precision (tau_0 = 1/sigma_0^2): 4 \n",
      "Covariance Matrix (Sigma_0):\n",
      "     [,1] [,2]\n",
      "[1,] 0.25 0.00\n",
      "[2,] 0.00 0.25\n"
     ]
    }
   ],
   "source": [
    "# Prior parameters for the multivariate model\n",
    "mu_0 <- c(0, 0)  # Prior mean vector for beta_1 and beta_2\n",
    "sigma_0 <- 0.5    # Prior standard deviation for both beta_1 and beta_2\n",
    "tau_0 <- 1 / sigma_0^2  # Prior precision for both beta_1 and beta_2\n",
    "Sigma_0 <- sigma_0^2 * diag(2)  # Prior covariance matrix (diagonal for independence)\n",
    "\n",
    "# Compute prior densities for the multivariate normal\n",
    "prior_density <- dmvnorm(beta_grid, mean = mu_0, sigma = Sigma_0)\n",
    "\n",
    "# Print prior information\n",
    "cat(\"Prior Information for beta_1 and beta_2:\\n\")\n",
    "cat(\"Mean of mu_0:\", mu_0, \"\\n\")\n",
    "cat(\"Standard Deviation (sigma_0):\", sigma_0, \"\\n\")\n",
    "cat(\"Precision (tau_0 = 1/sigma_0^2):\", tau_0, \"\\n\")\n",
    "cat(\"Covariance Matrix (Sigma_0):\\n\")\n",
    "print(Sigma_0)\n"
   ]
  },
  {
   "cell_type": "markdown",
   "id": "6f67f4d4-fc90-48dc-af30-4a6c00eede64",
   "metadata": {},
   "source": [
    "### Likelihood"
   ]
  },
  {
   "cell_type": "code",
   "execution_count": 4,
   "id": "be1fa80a-56af-40d1-ac38-1f0ef3e42a76",
   "metadata": {
    "tags": []
   },
   "outputs": [],
   "source": [
    "# Matrix of genotypes for two genetic variants\n",
    "X <- cbind(genotypes_1, genotypes_2)\n",
    "\n",
    "# Function to compute the likelihood for a given set of beta_1 and beta_2\n",
    "likelihood_function <- function(beta_1, beta_2) {\n",
    "  # Predicted trait values based on the current beta values\n",
    "  predicted_trait_values <- X %*% c(beta_1, beta_2)  # Linear model: X*beta\n",
    "  \n",
    "  # Compute the likelihood (normal density for each data point)\n",
    "  likelihood_values <- dnorm(trait_values, mean = predicted_trait_values, sd = sigma)\n",
    "  \n",
    "  # Return the product of likelihoods for all observations (log-likelihood is usually computed for stability)\n",
    "  return(prod(likelihood_values))\n",
    "}\n",
    "\n",
    "# Apply the likelihood function to the grid of beta values\n",
    "likelihood_values <- apply(beta_grid, 1, function(row) likelihood_function(row[1], row[2]))"
   ]
  },
  {
   "cell_type": "markdown",
   "id": "10111fcc-8106-413f-82f3-92eda6ef90e3",
   "metadata": {},
   "source": [
    "### Posterior distribution"
   ]
  },
  {
   "cell_type": "code",
   "execution_count": 5,
   "id": "5aca7dfb-b500-490f-b5ac-ae419ac98241",
   "metadata": {
    "tags": []
   },
   "outputs": [],
   "source": [
    "# Compute the unnormalized posterior by multiplying likelihood and prior\n",
    "posterior_values <- likelihood_values * prior_density\n",
    "\n",
    "# Normalize the posterior to get a proper probability distribution\n",
    "posterior_values_normalized <- posterior_values / sum(posterior_values)"
   ]
  },
  {
   "cell_type": "code",
   "execution_count": 6,
   "id": "c5eef157-ad47-45d5-b841-33ac9e92ed9f",
   "metadata": {
    "tags": []
   },
   "outputs": [
    {
     "data": {
      "image/png": "[encoded data removed]",
      "text/plain": [
       "Plot with title “Posterior Distribution for Beta 1 and Beta 2”"
      ]
     },
     "metadata": {
      "image/png": {
       "height": 420,
       "width": 420
      }
     },
     "output_type": "display_data"
    }
   ],
   "source": [
    "posterior_matrix <- matrix(posterior_values_normalized, nrow = length(beta_vals_1), byrow = TRUE)\n",
    "\n",
    "# Plot posterior as a heatmap\n",
    "filled.contour(beta_vals_1, beta_vals_2, posterior_matrix, \n",
    "               xlab = \"Beta 1\", ylab = \"Beta 2\", \n",
    "               main = \"Posterior Distribution for Beta 1 and Beta 2\",\n",
    "               color.palette = colorRampPalette(c(\"white\", \"blue\", \"green\", \"yellow\", \"red\")))\n"
   ]
  },
  {
   "cell_type": "code",
   "execution_count": null,
   "id": "565e1a0c-b111-40c9-ab5f-fa359673a95d",
   "metadata": {},
   "outputs": [],
   "source": []
  },
  {
   "cell_type": "code",
   "execution_count": null,
   "id": "b5c83a89-b0ee-4d35-adae-be020ad693fe",
   "metadata": {},
   "outputs": [],
   "source": []
  },
  {
   "cell_type": "code",
   "execution_count": null,
   "id": "4a3cf405-f166-468e-8bd5-4eaea192ea96",
   "metadata": {},
   "outputs": [],
   "source": []
  },
  {
   "cell_type": "code",
   "execution_count": null,
   "id": "c6a8d4c8-90d4-436d-ae81-30038801ac1e",
   "metadata": {},
   "outputs": [],
   "source": []
  },
  {
   "cell_type": "code",
   "execution_count": null,
   "id": "a385981a-3aba-4f2f-9e4e-a1272b2fe273",
   "metadata": {},
   "outputs": [],
   "source": []
  },
  {
   "cell_type": "code",
   "execution_count": null,
   "id": "163ed5f2-4875-4244-837d-ba7c964d4437",
   "metadata": {},
   "outputs": [],
   "source": []
  },
  {
   "cell_type": "code",
   "execution_count": null,
   "id": "ad2e4bec-64e5-479a-98f8-23fe0d66e3bd",
   "metadata": {},
   "outputs": [],
   "source": []
  }
 ],
 "metadata": {
  "kernelspec": {
   "display_name": "R",
   "language": "R",
   "name": "ir"
  },
  "language_info": {
   "codemirror_mode": "r",
   "file_extension": ".r",
   "mimetype": "text/x-r-source",
   "name": "R",
   "pygments_lexer": "r",
   "version": "4.4.2"
  },
  "toc-autonumbering": true
 },
 "nbformat": 4,
 "nbformat_minor": 5
}
