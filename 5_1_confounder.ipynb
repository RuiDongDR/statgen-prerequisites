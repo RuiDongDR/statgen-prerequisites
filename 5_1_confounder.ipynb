{
 "cells": [
  {
   "cell_type": "markdown",
   "id": "1e5900b0-da6a-415b-8e69-e7c01cff9327",
   "metadata": {},
   "source": [
    "# Intuition\n",
    "\n",
    "Confounder\n"
   ]
  },
  {
   "cell_type": "markdown",
   "id": "31be40c1-3534-42db-ae8d-07b5886fac15",
   "metadata": {},
   "source": [
    "# Notations"
   ]
  },
  {
   "cell_type": "markdown",
   "id": "785a556f-4edd-48ed-8245-301f4ff83ff6",
   "metadata": {},
   "source": [
    "## Confounder definitions\n",
    "\n",
    "A **confounder** is a variable that influences both the independent variable (genotype) and the dependent variable (trait), creating a spurious relationship between the two. If not controlled for, a confounder can distort the true relationship between the genotype and the trait.\n",
    "\n",
    "Confounding can cause bias in the estimation of the relationship between the genotype and the trait. To avoid this bias, confounders **must be controlled** in the analysis, typically by including them as covariates in regression models.\n",
    "\n",
    "## Example in Statistical Genetics\n",
    "  Suppose we are studying the effect of a genetic variant (genotype) on a trait (e.g., height). If **genetic ancestry** influences both the genotype and height, it is a confounder. Failing to control for ancestry could lead to biased estimates of the genetic effect on the trait.\n",
    "\n",
    "- **Graphical Representation: [FIXME -- do the figure in a better way]**\n",
    "$$ \\text{Genotype} \\leftarrow \\textbf{Ancestry} \\to \\text{Height} $$  \n",
    "\n",
    "Here, **ancestry** represents the confounder that affects both the genotype and the trait (height).\n",
    "\n",
    "\n",
    "Ancestry is a confounder in the relationship between SNPs and height because it affects both variables independently. \n",
    "- Different ancestral populations have different genetic backgrounds, which means SNP frequencies vary across populations. \n",
    "- At the same time, ancestry is also associated with height due to both genetic and environmental factors (e.g., nutrition, living conditions). \n",
    "\n",
    "Because ancestry influences both the presence of specific SNPs and height but is not part of the direct causal pathway, failing to account for it can create a misleading association between the SNP and height that is actually driven by ancestry differences rather than a true biological effect of the SNP."
   ]
  },
  {
   "cell_type": "markdown",
   "id": "58d544ce-922b-4a03-b765-9a1972fd1859",
   "metadata": {},
   "source": [
    "# Example"
   ]
  },
  {
   "cell_type": "code",
   "execution_count": 30,
   "id": "77db5047-6e43-4b9c-8afc-30b087c66a62",
   "metadata": {
    "tags": []
   },
   "outputs": [],
   "source": [
    "rm(list=ls())\n",
    "set.seed(21)  # For reproducibility\n",
    "\n",
    "# Genotype matrix for 100 individuals and 3 variants\n",
    "N <- 100  # Number of individuals\n",
    "M <- 3    # Number of SNPs (variants)\n",
    "\n",
    "# Simulate ancestry as a binary variable (two populations)\n",
    "ancestry <- sample(0:1, N, replace = TRUE)\n",
    "\n",
    "# Define allele frequencies for each population (population 0 and population 1)\n",
    "# Population 0: higher frequency of allele 0 at Variant 2\n",
    "# Population 1: higher frequency of allele 2 at Variant 2\n",
    "allele_freqs_pop_0 <- c(0.6, 0.3, 0.1)  # Variant 2 has higher allele 0 frequency in population 0\n",
    "allele_freqs_pop_1 <- c(0.2, 0.3, 0.5)  # Variant 2 has higher allele 2 frequency in population 1\n",
    "\n",
    "# Create genotype matrix (differentiating populations)\n",
    "X_raw <- matrix(NA, nrow = N, ncol = M)\n",
    "\n",
    "# Simulate SNPs for each individual based on their ancestry\n",
    "for (i in 1:N) {\n",
    "  if (ancestry[i] == 0) {\n",
    "    X_raw[i, ] <- sample(0:2, M, replace = TRUE, prob = c(allele_freqs_pop_0))\n",
    "  } else {\n",
    "    X_raw[i, ] <- sample(0:2, M, replace = TRUE, prob = c(allele_freqs_pop_1))\n",
    "  }\n",
    "}\n",
    "\n",
    "# Add row and column names\n",
    "rownames(X_raw) <- paste(\"Individual\", 1:N)\n",
    "colnames(X_raw) <- paste(\"Variant\", 1:M)\n",
    "\n",
    "# Standardize genotype matrix (mean = 0, sd = 1 for each SNP)\n",
    "X <- scale(X_raw, scale = TRUE)\n",
    "\n",
    "# Select Variant 2 as the true causal variant\n",
    "true_causal_variant <- X[, 2]  # Second column of X\n",
    "\n",
    "# Define the true causal effect for ancestry and SNP (Variant 2)\n",
    "true_effect_ancestry <- 5    # True effect of ancestry on height\n",
    "true_effect_snp <- 3         # True effect of SNP (Variant 2) on height\n",
    "\n",
    "# Simulate height based on ancestry and the true causal variant\n",
    "# We directly generate a scaled height with the true effects included\n",
    "height_ori <- true_effect_ancestry * ancestry + true_effect_snp * true_causal_variant + rnorm(N, mean = 0, sd = 5)\n",
    "\n",
    "# Scale the height (make it standardized)\n",
    "height <- scale(height_ori)\n",
    "\n",
    "# Now we adjust the true effects for the scaling\n",
    "# The standard deviation of residuals after scaling height gives us the scaling factor\n",
    "scaled_true_effect_ancestry <- true_effect_ancestry / sd(height_ori)  # Adjusting effect size for ancestry\n",
    "scaled_true_effect_snp <- true_effect_snp / sd(height_ori)  # Adjusting effect size for SNP\n",
    "\n",
    "# Create data frame\n",
    "data <- data.frame(Individual = 1:N, ancestry = ancestry, height = height)\n",
    "data <- cbind(data, X)  # Add genotype data"
   ]
  },
  {
   "cell_type": "code",
   "execution_count": 31,
   "id": "0f2c5a68-f2bb-4e02-86b9-1b7dc1d534fe",
   "metadata": {
    "tags": []
   },
   "outputs": [
    {
     "data": {
      "text/html": [
       "0.426283827256622"
      ],
      "text/latex": [
       "0.426283827256622"
      ],
      "text/markdown": [
       "0.426283827256622"
      ],
      "text/plain": [
       "[1] 0.4262838"
      ]
     },
     "metadata": {},
     "output_type": "display_data"
    }
   ],
   "source": [
    "scaled_true_effect_snp"
   ]
  },
  {
   "cell_type": "code",
   "execution_count": 32,
   "id": "34cd189d-b3b1-4e6c-bfb6-068aedca8beb",
   "metadata": {
    "tags": []
   },
   "outputs": [
    {
     "data": {
      "text/plain": [
       "\n",
       "Call:\n",
       "lm(formula = height ~ `Variant 2`, data = data)\n",
       "\n",
       "Residuals:\n",
       "     Min       1Q   Median       3Q      Max \n",
       "-1.96561 -0.42824  0.00881  0.50760  2.40963 \n",
       "\n",
       "Coefficients:\n",
       "             Estimate Std. Error t value Pr(>|t|)    \n",
       "(Intercept) 1.567e-18  7.815e-02   0.000        1    \n",
       "`Variant 2` 6.289e-01  7.854e-02   8.007 2.45e-12 ***\n",
       "---\n",
       "Signif. codes:  0 ‘***’ 0.001 ‘**’ 0.01 ‘*’ 0.05 ‘.’ 0.1 ‘ ’ 1\n",
       "\n",
       "Residual standard error: 0.7815 on 98 degrees of freedom\n",
       "Multiple R-squared:  0.3955,\tAdjusted R-squared:  0.3893 \n",
       "F-statistic: 64.11 on 1 and 98 DF,  p-value: 2.453e-12\n"
      ]
     },
     "metadata": {},
     "output_type": "display_data"
    }
   ],
   "source": [
    "# Model 1: Ignoring ancestry\n",
    "model1 <- lm(height ~ `Variant 2`, data = data)\n",
    "summary(model1)"
   ]
  },
  {
   "cell_type": "code",
   "execution_count": 33,
   "id": "b20e4cca-156a-4411-adff-03c472f96d36",
   "metadata": {
    "tags": []
   },
   "outputs": [
    {
     "data": {
      "text/plain": [
       "\n",
       "Call:\n",
       "lm(formula = height ~ `Variant 2` + ancestry, data = data)\n",
       "\n",
       "Residuals:\n",
       "     Min       1Q   Median       3Q      Max \n",
       "-1.76124 -0.40659  0.07453  0.46985  1.80624 \n",
       "\n",
       "Coefficients:\n",
       "            Estimate Std. Error t value Pr(>|t|)    \n",
       "(Intercept) -0.39452    0.10605   -3.72 0.000334 ***\n",
       "`Variant 2`  0.44204    0.07994    5.53 2.71e-07 ***\n",
       "ancestry     0.78904    0.15907    4.96 3.00e-06 ***\n",
       "---\n",
       "Signif. codes:  0 ‘***’ 0.001 ‘**’ 0.01 ‘*’ 0.05 ‘.’ 0.1 ‘ ’ 1\n",
       "\n",
       "Residual standard error: 0.7015 on 97 degrees of freedom\n",
       "Multiple R-squared:  0.5178,\tAdjusted R-squared:  0.5078 \n",
       "F-statistic: 52.08 on 2 and 97 DF,  p-value: 4.336e-16\n"
      ]
     },
     "metadata": {},
     "output_type": "display_data"
    }
   ],
   "source": [
    "# Model 2: Considering ancestry as a covariate\n",
    "model2 <- lm(height ~ `Variant 2` + ancestry, data = data)\n",
    "summary(model2)\n"
   ]
  },
  {
   "cell_type": "markdown",
   "id": "0a2247f5-106f-42d8-85bd-c5a4966f39bb",
   "metadata": {},
   "source": [
    "## Summary\n",
    "\n",
    "| **Metric**                  | **Model 1 (Ignoring Ancestry)** | **Model 2 (Including Ancestry)** |\n",
    "|-----------------------------|---------------------------------|----------------------------------|\n",
    "| **Estimate for Variant 2**   | 0.6289                          | 0.4420                           |\n",
    "| **R-squared**                | 0.3955                          | 0.5178                           |\n",
    "| **P-value for Variant 2**    | 2.45e-12                        | 2.71e-07                         |\n",
    "| **Estimate for Ancestry**    | Not included                    | 0.7890                           |\n",
    "| **Residual Standard Error**  | 0.7815                          | 0.7015                           |\n",
    "\n",
    "\n",
    "- **Model 2** provides a more accurate estimate of the SNP effect by including ancestry, resulting in an estimate closer to the true causal effect (0.4263).\n",
    "- **Model 1** overestimates the SNP effect due to confounding by ancestry.\n"
   ]
  },
  {
   "cell_type": "code",
   "execution_count": null,
   "id": "256eb1d7-6e03-4c49-ab64-c5f06accfa94",
   "metadata": {},
   "outputs": [],
   "source": []
  }
 ],
 "metadata": {
  "kernelspec": {
   "display_name": "R",
   "language": "R",
   "name": "ir"
  },
  "language_info": {
   "codemirror_mode": "r",
   "file_extension": ".r",
   "mimetype": "text/x-r-source",
   "name": "R",
   "pygments_lexer": "r",
   "version": "4.4.2"
  },
  "toc-autonumbering": true
 },
 "nbformat": 4,
 "nbformat_minor": 5
}
