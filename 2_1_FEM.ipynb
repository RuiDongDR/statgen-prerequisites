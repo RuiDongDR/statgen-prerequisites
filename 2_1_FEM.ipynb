{
 "cells": [
  {
   "cell_type": "markdown",
   "id": "1e5900b0-da6a-415b-8e69-e7c01cff9327",
   "metadata": {},
   "source": [
    "# Intuition\n",
    "\n",
    "Single marker linear regression in statistical genetics\n"
   ]
  },
  {
   "cell_type": "markdown",
   "id": "31be40c1-3534-42db-ae8d-07b5886fac15",
   "metadata": {},
   "source": [
    "# Notations"
   ]
  },
  {
   "cell_type": "markdown",
   "id": "4ec684d5-6ab2-4762-b02c-7836dbd4a7ce",
   "metadata": {},
   "source": [
    "## Model Specification\n",
    "\n",
    "In the fixed effect model for one genetic variant $X_{\\cdot,j}$, we can express the relationship in matrix form:\n",
    "\n",
    "$$\n",
    "\\mathbf{Y} = \\theta_b \\mathbf{1} + \\theta X_{\\cdot,j} + \\boldsymbol{\\epsilon}, \\quad \\boldsymbol{\\epsilon} \\sim N(\\mathbf{0}, \\sigma^2\\mathbf{I})\n",
    "$$\n",
    "\n",
    "Where:\n",
    "- $\\mathbf{Y}$ is the $N \\times 1$ vector of trait values for all individuals\n",
    "- $\\mathbf{1}$ is an $N \\times 1$ vector of ones\n",
    "- $X_{\\cdot,j}$ is the $N \\times 1$ vector of genotypes for variant $j$ across all individuals\n",
    "- $\\theta_b$ is the intercept term\n",
    "- $\\theta$ is the effect size of the genetic variant\n",
    "- $\\boldsymbol{\\epsilon}$ is the $N \\times 1$ vector of error terms\n",
    "- $\\mathbf{I}$ is the $N \\times 1$ identity matrix\n",
    "\n",
    "For individual $i$, this model can be written as:\n",
    "\n",
    "$$\n",
    "y_i = \\theta_b + \\theta x_{i,j} + \\epsilon_i, \\quad \\epsilon_i \\sim N(0, \\sigma^2)\n",
    "$$\n",
    "\n",
    "## Parameter Estimation\n",
    "\n",
    "Using Ordinary Least Squares (OLS), we can derive the estimators for $\\theta_b$ and $\\theta$ in matrix form:\n",
    "\n",
    "Let $\\mathbf{X} = [\\mathbf{1} \\; X_{\\cdot,j}]$ be the $N \\times 2$ design matrix and $\\boldsymbol{\\theta} = [\\theta_b \\; \\theta]^T$ be the vector of parameters.\n",
    "\n",
    "The OLS estimator is:\n",
    "\n",
    "$$\n",
    "\\hat{\\boldsymbol{\\theta}} = (\\mathbf{X}^T\\mathbf{X})^{-1}\\mathbf{X}^T\\mathbf{Y}\n",
    "$$\n",
    "\n",
    "This gives us:\n",
    "\n",
    "$$\\hat{\\theta}_b = \\bar{Y} - \\hat{\\theta}\\bar{X}_{\\cdot,j}$$\n",
    "\n",
    "$$\\hat{\\theta} = \\frac{\\sum_{i=1}^N (x_{i,j} - \\bar{X}_{\\cdot,j})(y_i - \\bar{Y})}{\\sum_{i=1}^N (x_{i,j} - \\bar{X}_{\\cdot,j})^2}$$\n",
    "\n",
    "Where $\\bar{Y}$ is the sample mean of the trait values and $\\bar{X}_{\\cdot,j}$ is the sample mean of the genotypes for variant $j$.\n",
    "\n",
    "The variance-covariance matrix of the estimator is:\n",
    "\n",
    "$$\n",
    "\\text{Var}(\\hat{\\boldsymbol{\\theta}}) = \\sigma^2(\\mathbf{X}^T\\mathbf{X})^{-1}\n",
    "$$\n",
    "\n",
    "The variance of the genetic effect estimator specifically is:\n",
    "\n",
    "$$\\text{Var}(\\hat{\\theta}) = \\frac{\\sigma^2}{\\sum_{i=1}^N (x_{i,j} - \\bar{X}_{\\cdot,j})^2}$$\n",
    "\n",
    "The residual variance can be estimated as:\n",
    "\n",
    "$$\\hat{\\sigma}^2 = \\frac{1}{N-2}(\\mathbf{Y} - \\mathbf{X}\\hat{\\boldsymbol{\\theta}})^T(\\mathbf{Y} - \\mathbf{X}\\hat{\\boldsymbol{\\theta}})$$\n",
    "\n",
    "Or equivalently:\n",
    "\n",
    "$$\\hat{\\sigma}^2 = \\frac{1}{N-2}\\sum_{i=1}^N (y_i - \\hat{\\theta}_b - \\hat{\\theta}x_{i,j})^2$$\n",
    "\n",
    "## Hypothesis Testing\n",
    "\n",
    "To test for association, we formulate the following hypotheses:\n",
    "\n",
    "$H_0: \\theta = 0$ (No association)  \n",
    "$H_1: \\theta \\neq 0$ (Association exists)\n",
    "\n",
    "## Statistical Significance\n",
    "\n",
    "The test statistic follows a t-distribution under the null hypothesis:\n",
    "\n",
    "$$t = \\frac{\\hat{\\theta}}{\\sqrt{\\text{Var}(\\hat{\\theta})}} \\sim t_{N-2}$$\n",
    "\n",
    "The p-value is calculated as:\n",
    "\n",
    "$$p\\text{-value} = 2 \\times \\text{Pr}(t_{N-2} > |t|)$$"
   ]
  },
  {
   "cell_type": "markdown",
   "id": "58d544ce-922b-4a03-b765-9a1972fd1859",
   "metadata": {},
   "source": [
    "# Example"
   ]
  },
  {
   "cell_type": "code",
   "execution_count": 10,
   "id": "6a686196-c582-4905-8a06-523403d9d5bb",
   "metadata": {
    "tags": []
   },
   "outputs": [
    {
     "data": {
      "text/html": [
       "<table class=\"dataframe\">\n",
       "<caption>A data.frame: 3 × 2</caption>\n",
       "<thead>\n",
       "\t<tr><th scope=col>genotype</th><th scope=col>height</th></tr>\n",
       "\t<tr><th scope=col>&lt;dbl&gt;</th><th scope=col>&lt;dbl&gt;</th></tr>\n",
       "</thead>\n",
       "<tbody>\n",
       "\t<tr><td>1</td><td>171.3735</td></tr>\n",
       "\t<tr><td>2</td><td>174.1836</td></tr>\n",
       "\t<tr><td>0</td><td>169.1644</td></tr>\n",
       "</tbody>\n",
       "</table>\n"
      ],
      "text/latex": [
       "A data.frame: 3 × 2\n",
       "\\begin{tabular}{ll}\n",
       " genotype & height\\\\\n",
       " <dbl> & <dbl>\\\\\n",
       "\\hline\n",
       "\t 1 & 171.3735\\\\\n",
       "\t 2 & 174.1836\\\\\n",
       "\t 0 & 169.1644\\\\\n",
       "\\end{tabular}\n"
      ],
      "text/markdown": [
       "\n",
       "A data.frame: 3 × 2\n",
       "\n",
       "| genotype &lt;dbl&gt; | height &lt;dbl&gt; |\n",
       "|---|---|\n",
       "| 1 | 171.3735 |\n",
       "| 2 | 174.1836 |\n",
       "| 0 | 169.1644 |\n",
       "\n"
      ],
      "text/plain": [
       "  genotype height  \n",
       "1 1        171.3735\n",
       "2 2        174.1836\n",
       "3 0        169.1644"
      ]
     },
     "metadata": {},
     "output_type": "display_data"
    }
   ],
   "source": [
    "rm(list=ls())\n",
    "set.seed(1)\n",
    "# Simulate true mean and effect size\n",
    "baseline <- 170  # Population mean of the trait (e.g., height in cm) when the genetic variant has no effect (Model 1)\n",
    "theta_true <- 2  # True effect size of the genetic variant. This represents the change in height (in cm) associated with each additional minor allele (Model 2)\n",
    "sd_y <- 1  # Standard deviation of the trait (e.g., variability in height measurement within the population)\n",
    "\n",
    "# Simulate genotype and height values\n",
    "genotype <- c(1, 2, 0)\n",
    "\n",
    "# Simulate height values for three individuals based on genotypes\n",
    "n = length(genotype)\n",
    "height_values <- rnorm(n, mean = baseline + theta_true * genotype, sd = sd_y)\n",
    "data <- data.frame(genotype = genotype, height = height_values)\n",
    "data"
   ]
  },
  {
   "cell_type": "code",
   "execution_count": 11,
   "id": "25ea7dba-42ab-442b-afe3-83e3106c07ca",
   "metadata": {
    "tags": []
   },
   "outputs": [
    {
     "name": "stdout",
     "output_type": "stream",
     "text": [
      "\n",
      "--- Single Marker Linear Regression Results (Normalized Data) ---\n",
      "\n",
      "Estimated Coefficients:\n",
      "Intercept (θ̂_b): 0.0000\n",
      "Effect Size (θ̂): 0.9976\n",
      "\n",
      "Residuals:\n",
      "Residual Standard Deviation (σ̂): 0.0975\n",
      "\n",
      "Hypothesis Testing:\n",
      "t-statistic: 14.4672\n",
      "p-value: 0.0439\n",
      "\n",
      "Model Fit:\n",
      "R-squared: 0.9952\n",
      "Residual Sum of Squares (RSS): 0.0095\n",
      "\n",
      "True Parameters (for reference):\n",
      "True Intercept (θ_b true): 170.0000\n",
      "True Effect Size (θ true): 2.0000\n",
      "True Standard Deviation (σ true): 1.0000\n",
      "95% Confidence Interval for θ: 0.1214306 1.873809 \n"
     ]
    }
   ],
   "source": [
    "# Normalize genotype data (X)\n",
    "X_normalized <- scale(data$genotype)\n",
    "\n",
    "# Normalize height data (Y)\n",
    "Y_normalized <- scale(data$height)\n",
    "\n",
    "# Update the design matrix with normalized data\n",
    "X <- cbind(1, X_normalized)  # Design matrix [1, X_.,j]\n",
    "Y <- Y_normalized             # Trait vector\n",
    "\n",
    "# Sample means of normalized data (should be 0 for normalized data)\n",
    "mean_X <- mean(X_normalized)\n",
    "mean_Y <- mean(Y_normalized)\n",
    "\n",
    "# Parameter estimation using matrix form\n",
    "theta_hat <- solve(t(X) %*% X) %*% t(X) %*% Y\n",
    "theta_b_hat <- theta_hat[1]  # Intercept estimate\n",
    "theta_hat <- theta_hat[2]    # Effect size estimate\n",
    "\n",
    "# Compute residuals\n",
    "residuals <- Y - (theta_b_hat + theta_hat * X_normalized)\n",
    "\n",
    "# Estimate residual variance\n",
    "sigma_squared_hat <- sum(residuals^2) / (n - 2)\n",
    "if (n <= 2) {\n",
    "  sigma_squared_hat <- var(residuals)  # Use this if n <= 2\n",
    "}\n",
    "\n",
    "# Calculate variance of theta_hat\n",
    "var_theta_hat <- sigma_squared_hat / sum((X_normalized - mean_X)^2)\n",
    "if (sum((X_normalized - mean_X)^2) == 0) {\n",
    "  var_theta_hat <- NA  # Handle case where all genotypes are identical\n",
    "}\n",
    "\n",
    "# Test statistic\n",
    "t_stat <- theta_hat / sqrt(var_theta_hat)\n",
    "if (is.na(t_stat)) {\n",
    "  t_stat <- NA  # Handle case where variance couldn't be calculated\n",
    "}\n",
    "\n",
    "# p-value\n",
    "p_value <- 2 * pt(abs(t_stat), df = n - 2, lower.tail = FALSE)\n",
    "if (is.na(t_stat)) {\n",
    "  p_value <- NA  # Handle case where t-stat couldn't be calculated\n",
    "}\n",
    "\n",
    "# Print results in regular summary statistics format\n",
    "cat(\"\\n--- Single Marker Linear Regression Results (Normalized Data) ---\\n\")\n",
    "cat(\"\\nEstimated Coefficients:\\n\")\n",
    "cat(sprintf(\"Intercept (θ̂_b): %.4f\\n\", theta_b_hat))\n",
    "cat(sprintf(\"Effect Size (θ̂): %.4f\\n\", theta_hat))\n",
    "\n",
    "cat(\"\\nResiduals:\\n\")\n",
    "cat(sprintf(\"Residual Standard Deviation (σ̂): %.4f\\n\", sqrt(sigma_squared_hat)))\n",
    "\n",
    "cat(\"\\nHypothesis Testing:\\n\")\n",
    "cat(sprintf(\"t-statistic: %.4f\\n\", t_stat))\n",
    "cat(sprintf(\"p-value: %.4f\\n\", p_value))\n",
    "\n",
    "cat(\"\\nModel Fit:\\n\")\n",
    "cat(sprintf(\"R-squared: %.4f\\n\", 1 - (sum(residuals^2) / sum((Y - mean_Y)^2))))\n",
    "cat(sprintf(\"Residual Sum of Squares (RSS): %.4f\\n\", sum(residuals^2)))\n",
    "\n",
    "cat(\"\\nTrue Parameters (for reference):\\n\")\n",
    "cat(sprintf(\"True Intercept (θ_b true): %.4f\\n\", baseline))\n",
    "cat(sprintf(\"True Effect Size (θ true): %.4f\\n\", theta_true))\n",
    "cat(sprintf(\"True Standard Deviation (σ true): %.4f\\n\", sd_y))\n",
    "\n",
    "\n",
    "# Create a confidence interval for the effect size\n",
    "ci_lower <- theta_hat - qt(0.975, df = n - 2) * sqrt(var_theta_hat)\n",
    "ci_upper <- theta_hat + qt(0.975, df = n - 2) * sqrt(var_theta_hat)\n",
    "cat(\"95% Confidence Interval for θ:\", c(ci_lower, ci_upper), \"\\n\")"
   ]
  },
  {
   "cell_type": "markdown",
   "id": "7e56ef9b-2c93-4ca2-a81d-2c1f11e5f0bf",
   "metadata": {},
   "source": []
  },
  {
   "cell_type": "markdown",
   "id": "80f41979-f5d3-4236-a2d1-2a5c498fa717",
   "metadata": {},
   "source": []
  },
  {
   "cell_type": "markdown",
   "id": "4a32d211-3f13-4140-b020-0a70046b21a6",
   "metadata": {},
   "source": []
  },
  {
   "cell_type": "markdown",
   "id": "340267ef-bc7a-4ca9-b900-3d01b100929c",
   "metadata": {},
   "source": []
  },
  {
   "cell_type": "code",
   "execution_count": null,
   "id": "81e06df7-284b-4e49-be8d-cc61dd10f89c",
   "metadata": {},
   "outputs": [],
   "source": []
  },
  {
   "cell_type": "code",
   "execution_count": null,
   "id": "0f5590af-39d3-4ebc-a6f3-739da95d8e14",
   "metadata": {},
   "outputs": [],
   "source": []
  },
  {
   "cell_type": "code",
   "execution_count": null,
   "id": "5c69473c-b3f3-4275-a9be-38b90c88960f",
   "metadata": {},
   "outputs": [],
   "source": []
  }
 ],
 "metadata": {
  "kernelspec": {
   "display_name": "R",
   "language": "R",
   "name": "ir"
  },
  "language_info": {
   "codemirror_mode": "r",
   "file_extension": ".r",
   "mimetype": "text/x-r-source",
   "name": "R",
   "pygments_lexer": "r",
   "version": "4.4.2"
  }
 },
 "nbformat": 4,
 "nbformat_minor": 5
}
