{
 "cells": [
  {
   "cell_type": "markdown",
   "id": "8f236fb0-1586-463a-b400-24fb893c5292",
   "metadata": {},
   "source": [
    "# Summary\n",
    "\n",
    "This notebook introduces the basic concepts in statistical genetics, including:\n",
    "\n",
    "- kinship, GRM"
   ]
  },
  {
   "cell_type": "markdown",
   "id": "a57f18c6-62b2-4303-9dbb-5fca8a6e19fc",
   "metadata": {
    "jp-MarkdownHeadingCollapsed": true,
    "tags": []
   },
   "source": [
    "# Intuition\n",
    "\n",
    "Here we will put a cartoon"
   ]
  },
  {
   "cell_type": "markdown",
   "id": "c368a384-d362-42cb-9223-fc13269d0e05",
   "metadata": {},
   "source": [
    "# Notations"
   ]
  },
  {
   "cell_type": "markdown",
   "id": "4616bb9a-2f1e-4c35-975d-7ad5b0a91ea7",
   "metadata": {
    "jp-MarkdownHeadingCollapsed": true,
    "tags": []
   },
   "source": [
    "## Genomic Relationship Matrix \n",
    "\n",
    "The **Genomic Relationship Matrix (GRM)** is a standardized version of the kinship matrix that accounts for allele frequencies. One common formulation is:\n",
    "\n",
    "$$\n",
    "\\mathbf{G} = \\frac{ \\mathbf{X} \\mathbf{X}^T}{M}\n",
    "$$\n",
    "\n",
    "Where:\n",
    "- $\\mathbf{X}$ is the scaled genotype matrix of $N$ individuals and $M$ genetic variants.\n",
    "- $ \\mathbf{G} $ is an $ N \\times N $ matrix capturing the pairwise genetic relationships.\n",
    "\n",
    "Note that because $\\mathbf{X}$ is scaled so that the variance of each SNP is 1, instead of across individuals, so the diagonal elements of $\\mathbf{G}$ is generally not 1."
   ]
  },
  {
   "cell_type": "markdown",
   "id": "b061c17e-a452-44ff-b83a-525bc9c20bc7",
   "metadata": {},
   "source": [
    "## Kinship\n",
    "\n",
    "> The kinship coefficient is a simple measure of relatedness, defined as the probability that a pair of randomly sampled homologous alleles are identical by descent (IBD). More simply, it is the probability that an allele selected randomly from an individual, $i$, and an allele selected at the same autosomal locus from another individual, $j$, are identical and from the same ancestor. [(ref: wiki)](https://en.wikipedia.org/wiki/Coefficient_of_relationship#Kinship_coefficient) \n",
    ">\n",
    "> **The coefficient of relatedness is equal to twice the kinship coefficient.**\n",
    ">\n",
    ">| Relationship                                      | Kinship Coefficient |\n",
    "|--------------------------------------------------|---------------------|\n",
    "| Self                                            | 1/2                 |\n",
    "| Mother / Father / Daughter / Son                | 1/4                 |\n",
    "| Sister / Brother                                | 1/4                 |\n",
    "| Grandmother / Grandfather / Granddaughter / Grandson | 1/8             |\n",
    "| Aunt / Uncle / Niece / Nephew                   | 1/8                 |\n",
    "| First Cousin                                    | 1/16                |\n",
    "| Half-Sister / Half-Brother                      | 1/8                 |\n",
    "| Half-First Cousin                               | 1/32                |\n",
    "| Double-First Cousin                             | 1/8                 |\n",
    ">\n",
    "> The kinship coefficient between two individuals, $i$ and $j$, is represented as $\\Phi_{ij}$. \n",
    ">\n",
    "> - The kinship coefficient between a non-inbred individual and itself, $\\Phi_{ii}$, is equal to 1/2. This is due to the fact that humans are diploid, meaning the only way for the randomly chosen alleles to be identical by descent is if the same allele is chosen twice (probability $\\frac{1}{2}$). \n",
    ">\n",
    "> - Similarly, the relationship between a parent and a child is found by the chance that the randomly picked allele in the child is from the parent (probability $\\frac{1}{2}$) and the probability of the allele that is picked from the parent being the same one passed to the child (probability $\\frac{1}{2}$). Since these two events are independent of each other, they are multiplied $\\Phi_{ij} = \\frac{1}{2} \\times \\frac{1}{2} = \\frac{1}{4}$"
   ]
  },
  {
   "cell_type": "markdown",
   "id": "f9c943b0-2af5-4e77-bdb0-2d7c2d0a82b3",
   "metadata": {},
   "source": [
    "# Example"
   ]
  },
  {
   "cell_type": "markdown",
   "id": "a9a44dfd-ac1c-4160-b456-909fa77b13b6",
   "metadata": {},
   "source": [
    "In this example we generate 100 variants for 1000 individuals (instead of 3 variants for 5 individuals) to avoid sampling noise. "
   ]
  },
  {
   "cell_type": "code",
   "execution_count": 38,
   "id": "984babaa-7d66-4ed3-bde4-3ed97c7f454d",
   "metadata": {
    "tags": []
   },
   "outputs": [],
   "source": [
    "rm(list=ls())\n",
    "set.seed(123)  # For reproducibility\n",
    "library(ggplot2)\n",
    "library(reshape2)\n",
    "library(gridExtra)\n",
    "\n",
    "# Define sample size and number of variants\n",
    "N <- 1000\n",
    "M <- 100\n",
    "\n",
    "# Generate a random genotype matrix (values 0, 1, 2)\n",
    "X_raw <- matrix(sample(0:2, N * M, replace = TRUE), nrow = N, ncol = M)\n",
    "\n",
    "# Standardize the genotype matrix\n",
    "X <- scale(X_raw, scale = TRUE)\n"
   ]
  },
  {
   "cell_type": "markdown",
   "id": "fb7362cb-1f00-4e05-b9ff-8ca106d60ece",
   "metadata": {},
   "source": [
    "## Calculate GRM"
   ]
  },
  {
   "cell_type": "code",
   "execution_count": 41,
   "id": "3b3ad7ff-b841-48a5-b6e2-44f6bd841af9",
   "metadata": {
    "tags": []
   },
   "outputs": [
    {
     "name": "stdout",
     "output_type": "stream",
     "text": [
      "            [,1]       [,2]        [,3]        [,4]        [,5]\n",
      "[1,]  1.01450995 0.01580668 -0.07039107  0.10717332 -0.04400968\n",
      "[2,]  0.01580668 0.90376931  0.02681972  0.18377189  0.04978174\n",
      "[3,] -0.07039107 0.02681972  0.99466625  0.03036103 -0.04661844\n",
      "[4,]  0.10717332 0.18377189  0.03036103  0.95069770 -0.12636758\n",
      "[5,] -0.04400968 0.04978174 -0.04661844 -0.12636758  0.95060759\n"
     ]
    },
    {
     "data": {
      "image/png": "[encoded data removed]",
      "text/plain": [
       "plot without title"
      ]
     },
     "metadata": {
      "image/png": {
       "height": 420,
       "width": 420
      }
     },
     "output_type": "display_data"
    }
   ],
   "source": [
    "# Compute the GRM\n",
    "GRM <- (X %*% t(X)) / M\n",
    "\n",
    "# Print the first few rows and columns\n",
    "print(GRM[1:5, 1:5])  # Show a small subset of GRM\n",
    "p1 = ggplot(melt(GRM), aes(value)) + geom_histogram(bins=100) \n",
    "p2 = ggplot(melt(GRM), aes(value)) + geom_histogram(bins=100) +\n",
    "  coord_cartesian(ylim=c(0,N)) + theme(panel.background=element_blank())\n",
    "grid.arrange(p1, p2, layout_matrix=matrix(c(1,1,2,1), 2))"
   ]
  },
  {
   "cell_type": "markdown",
   "id": "b3d44cef-12ac-4916-8d68-23730dbfb102",
   "metadata": {},
   "source": [
    "Offdiagonal elements represent the relatedness between two individuals (in histogram the large peak centered at 0). Diagonal elements represent the relatedness of an individual with itself, which is the average homozygosity or the level of inbreeding (in histogram the small peak centered at 1). \n",
    "\n",
    "- While the LD of a SNP with itself is 1 by definition, the genetic relatedness of an individual with itself can vary around one, because **the genotype scaling is performed per SNP**, not per individual.  "
   ]
  },
  {
   "cell_type": "markdown",
   "id": "4196d25b-a36c-4317-b668-1926d59b727d",
   "metadata": {},
   "source": [
    "## Calculate kinship"
   ]
  },
  {
   "cell_type": "code",
   "execution_count": 42,
   "id": "34173518-eb4f-45fd-b1da-0f534e6e1de0",
   "metadata": {
    "tags": []
   },
   "outputs": [
    {
     "name": "stdout",
     "output_type": "stream",
     "text": [
      "[1] \"Kinship Matrix:\"\n",
      "             [,1]        [,2]        [,3]        [,4]        [,5]\n",
      "[1,]  0.507254977 0.007903342 -0.03519554  0.05358666 -0.02200484\n",
      "[2,]  0.007903342 0.451884656  0.01340986  0.09188595  0.02489087\n",
      "[3,] -0.035195537 0.013409860  0.49733313  0.01518052 -0.02330922\n",
      "[4,]  0.053586661 0.091885947  0.01518052  0.47534885 -0.06318379\n",
      "[5,] -0.022004840 0.024890868 -0.02330922 -0.06318379  0.47530380\n"
     ]
    }
   ],
   "source": [
    "# Compute Kinship Matrix\n",
    "Kinship <- 0.5 * GRM  # Kinship is half of GRM\n",
    "\n",
    "print(\"Kinship Matrix:\")\n",
    "print(Kinship[1:5,1:5])"
   ]
  },
  {
   "cell_type": "markdown",
   "id": "4654d6ec-8a8a-4fec-be41-2b48fc805469",
   "metadata": {},
   "source": [
    "# Supplementary\n",
    "\n",
    "- [ ] double check details of formulas and wikipedia to see if this is correct"
   ]
  },
  {
   "cell_type": "markdown",
   "id": "de492ce8-f452-4fcb-b806-4c508ce854bc",
   "metadata": {},
   "source": [
    "## Kinship Matrix\n",
    "\n",
    "The **kinship matrix** estimates the genetic similarity between individuals. Given a genotype matrix $\\mathbf{X}$ of size **$ N \\times M $** (where **$ N $** is the number of individuals and **$ M $** is the number of variants), it is computed as:\n",
    "\n",
    "$$\n",
    "\\mathbf{K} = \\frac{1}{J} \\mathbf{X} \\mathbf{X}^T\n",
    "$$\n",
    "\n",
    "Where:\n",
    "- $ \\mathbf{X} $ is the centered genotype matrix (mean genotype for each variant is subtracted).\n",
    "- $ M $ is the number of variants.\n",
    "- $ \\mathbf{K} $ is an $ N \\times N $ symmetric matrix, where each entry $ K_{ij} $ represents the genetic relatedness between individual $ i $ and individual $ j $."
   ]
  },
  {
   "cell_type": "markdown",
   "id": "dffae6b2-7e92-47cb-a4cf-7087dfc66a88",
   "metadata": {},
   "source": [
    "> slide 54 from GW\n"
   ]
  },
  {
   "cell_type": "markdown",
   "id": "16cb0972-3635-4786-ba8e-851f13dcc67d",
   "metadata": {},
   "source": [
    "\n",
    "\n",
    "## Key Differences\n",
    "- **Kinship Matrix ($ \\mathbf{K} $)**: Measures relatedness but may not account for allele frequencies.\n",
    "- **GRM ($ \\mathbf{G} $)**: Incorporates allele frequency scaling, making it widely used in GWAS and mixed models.\n",
    "\n",
    "These matrices are crucial for capturing genetic structure and controlling for population stratification in association studies.\n",
    "\n"
   ]
  },
  {
   "cell_type": "code",
   "execution_count": null,
   "id": "962c04a0-afe4-4e7c-8197-09a9ac5fe2e7",
   "metadata": {},
   "outputs": [],
   "source": []
  },
  {
   "cell_type": "code",
   "execution_count": null,
   "id": "6d16dbfe-6e24-4860-a842-3d1c579ae8e5",
   "metadata": {},
   "outputs": [],
   "source": []
  }
 ],
 "metadata": {
  "kernelspec": {
   "display_name": "R",
   "language": "R",
   "name": "ir"
  },
  "language_info": {
   "codemirror_mode": "r",
   "file_extension": ".r",
   "mimetype": "text/x-r-source",
   "name": "R",
   "pygments_lexer": "r",
   "version": "4.4.2"
  },
  "toc-autonumbering": true
 },
 "nbformat": 4,
 "nbformat_minor": 5
}
