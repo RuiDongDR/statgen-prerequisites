{
 "cells": [
  {
   "cell_type": "markdown",
   "id": "8f236fb0-1586-463a-b400-24fb893c5292",
   "metadata": {},
   "source": [
    "# Summary\n",
    "\n",
    "This notebook introduces the basic concepts in statistical genetics, including:\n",
    "\n",
    "- kinship, GRM"
   ]
  },
  {
   "cell_type": "markdown",
   "id": "a57f18c6-62b2-4303-9dbb-5fca8a6e19fc",
   "metadata": {},
   "source": [
    "# Intuition\n",
    "\n",
    "Here we will put a cartoon"
   ]
  },
  {
   "cell_type": "markdown",
   "id": "c368a384-d362-42cb-9223-fc13269d0e05",
   "metadata": {},
   "source": [
    "# Notations"
   ]
  },
  {
   "cell_type": "markdown",
   "id": "4616bb9a-2f1e-4c35-975d-7ad5b0a91ea7",
   "metadata": {},
   "source": [
    "## Kinship Matrix\n",
    "\n",
    "The **kinship matrix** estimates the genetic similarity between individuals. Given a genotype matrix $\\mathbf{X}$ of size **$ N \\times J $** (where **$ N $** is the number of individuals and **$ J $** is the number of variants), it is computed as:\n",
    "\n",
    "$$\n",
    "\\mathbf{K} = \\frac{1}{J} \\mathbf{X} \\mathbf{X}^T\n",
    "$$\n",
    "\n",
    "Where:\n",
    "- $ \\mathbf{X} $ is the centered genotype matrix (mean genotype for each variant is subtracted).\n",
    "- $ J $ is the number of variants.\n",
    "- $ \\mathbf{K} $ is an $ N \\times N $ symmetric matrix, where each entry $ K_{ij} $ represents the genetic relatedness between individual $ i $ and individual $ j $.\n",
    "\n",
    "\n",
    "## Genomic Relationship Matrix \n",
    "\n",
    "The **Genomic Relationship Matrix (GRM)** is a standardized version of the kinship matrix that accounts for allele frequencies. One common formulation is:\n",
    "\n",
    "$$\n",
    "\\mathbf{G} = \\frac{1}{J} \\mathbf{X} \\mathbf{D}^{-1} \\mathbf{X}^T\n",
    "$$\n",
    "\n",
    "Where:\n",
    "- $ \\mathbf{D} $ is a diagonal matrix containing the variances of each SNP:\n",
    "  $$\n",
    "  \\mathbf{D}_{jj} = 2 f_j (1 - f_j)\n",
    "  $$\n",
    "  where $ f_j $ is the allele frequency at variant $ j $.\n",
    "- $ \\mathbf{G} $ is an $ N \\times N $ matrix capturing the pairwise genetic relationships.\n",
    "\n",
    "If $ \\mathbf{X} $ is already **standardized (i.e., mean-centered and scaled by allele frequency)**, then the GRM simplifies to:\n",
    "\n",
    "$$\n",
    "\\mathbf{G} = \\frac{1}{J} \\mathbf{X} \\mathbf{X}^T\n",
    "$$\n",
    "\n",
    "\n",
    "\n",
    "## Key Differences\n",
    "- **Kinship Matrix ($ \\mathbf{K} $)**: Measures relatedness but may not account for allele frequencies.\n",
    "- **GRM ($ \\mathbf{G} $)**: Incorporates allele frequency scaling, making it widely used in GWAS and mixed models.\n",
    "\n",
    "These matrices are crucial for capturing genetic structure and controlling for population stratification in association studies.\n",
    "\n"
   ]
  },
  {
   "cell_type": "markdown",
   "id": "f9c943b0-2af5-4e77-bdb0-2d7c2d0a82b3",
   "metadata": {},
   "source": [
    "# Example"
   ]
  },
  {
   "cell_type": "code",
   "execution_count": 6,
   "id": "844883c1-50d4-4b8a-807e-404299063852",
   "metadata": {
    "tags": []
   },
   "outputs": [
    {
     "data": {
      "text/html": [
       "<table class=\"dataframe\">\n",
       "<caption>A matrix: 5 × 3 of type dbl</caption>\n",
       "<thead>\n",
       "\t<tr><th></th><th scope=col>Variant 1</th><th scope=col>Variant 2</th><th scope=col>Variant 3</th></tr>\n",
       "</thead>\n",
       "<tbody>\n",
       "\t<tr><th scope=row>Individual 1</th><td>0</td><td>1</td><td>1</td></tr>\n",
       "\t<tr><th scope=row>Individual 2</th><td>2</td><td>2</td><td>0</td></tr>\n",
       "\t<tr><th scope=row>Individual 3</th><td>1</td><td>1</td><td>1</td></tr>\n",
       "\t<tr><th scope=row>Individual 4</th><td>0</td><td>2</td><td>1</td></tr>\n",
       "\t<tr><th scope=row>Individual 5</th><td>0</td><td>0</td><td>2</td></tr>\n",
       "</tbody>\n",
       "</table>\n"
      ],
      "text/latex": [
       "A matrix: 5 × 3 of type dbl\n",
       "\\begin{tabular}{r|lll}\n",
       "  & Variant 1 & Variant 2 & Variant 3\\\\\n",
       "\\hline\n",
       "\tIndividual 1 & 0 & 1 & 1\\\\\n",
       "\tIndividual 2 & 2 & 2 & 0\\\\\n",
       "\tIndividual 3 & 1 & 1 & 1\\\\\n",
       "\tIndividual 4 & 0 & 2 & 1\\\\\n",
       "\tIndividual 5 & 0 & 0 & 2\\\\\n",
       "\\end{tabular}\n"
      ],
      "text/markdown": [
       "\n",
       "A matrix: 5 × 3 of type dbl\n",
       "\n",
       "| <!--/--> | Variant 1 | Variant 2 | Variant 3 |\n",
       "|---|---|---|---|\n",
       "| Individual 1 | 0 | 1 | 1 |\n",
       "| Individual 2 | 2 | 2 | 0 |\n",
       "| Individual 3 | 1 | 1 | 1 |\n",
       "| Individual 4 | 0 | 2 | 1 |\n",
       "| Individual 5 | 0 | 0 | 2 |\n",
       "\n"
      ],
      "text/plain": [
       "             Variant 1 Variant 2 Variant 3\n",
       "Individual 1 0         1         1        \n",
       "Individual 2 2         2         0        \n",
       "Individual 3 1         1         1        \n",
       "Individual 4 0         2         1        \n",
       "Individual 5 0         0         2        "
      ]
     },
     "metadata": {},
     "output_type": "display_data"
    }
   ],
   "source": [
    "rm(list=ls())\n",
    "# Genotype matrix for 5 individuals and 2 variants\n",
    "# Rows correspond to individuals, columns to variants\n",
    "N=5\n",
    "J=3\n",
    "genotypes <- matrix(c(0, 1, 1, 2, 2, 0, 1, 1, 1, 0, 2, 1, 0, 0, 2), \n",
    "                    nrow = N, ncol = J, byrow = TRUE)\n",
    "# genotypes <- matrix(sample(0:2, N*J, replace = TRUE), \n",
    "#                    nrow = N, ncol = J)\n",
    "# Adding row and column names\n",
    "rownames(genotypes) <- paste(\"Individual\", 1:N)\n",
    "colnames(genotypes) <- paste(\"Variant\", 1:J)\n",
    "genotypes"
   ]
  },
  {
   "cell_type": "code",
   "execution_count": 7,
   "id": "772eddb5-e251-4418-abe4-4eeae95974ec",
   "metadata": {
    "jp-MarkdownHeadingCollapsed": true,
    "tags": []
   },
   "outputs": [],
   "source": [
    "# Normalize the genotype matrix by centering each column (subtract mean)\n",
    "p <- colMeans(genotypes) / 2  # Allele frequency (assuming bi-allelic)\n",
    "X <- sweep(genotypes, 2, colMeans(genotypes), \"-\")  # Centering\n"
   ]
  },
  {
   "cell_type": "code",
   "execution_count": 8,
   "id": "fd3c0498-0625-48d8-a754-593be85aee66",
   "metadata": {
    "tags": []
   },
   "outputs": [
    {
     "name": "stdout",
     "output_type": "stream",
     "text": [
      "Kinship Matrix:\n",
      "             Individual 1 Individual 2  Individual 3 Individual 4  Individual 5\n",
      "Individual 1   0.13333333  -0.33333333 -6.666667e-02   0.06666667  2.000000e-01\n",
      "Individual 2  -0.33333333   1.20000000  1.333333e-01  -0.06666667 -9.333333e-01\n",
      "Individual 3  -0.06666667   0.13333333  6.666667e-02  -0.13333333 -1.776357e-17\n",
      "Individual 4   0.06666667  -0.06666667 -1.333333e-01   0.33333333 -2.000000e-01\n",
      "Individual 5   0.20000000  -0.93333333 -1.776357e-17  -0.20000000  9.333333e-01\n"
     ]
    }
   ],
   "source": [
    "# Compute the kinship matrix\n",
    "kinship_matrix <- (X %*% t(X)) / J\n",
    "# Print results\n",
    "cat(\"Kinship Matrix:\\n\")\n",
    "print(kinship_matrix)"
   ]
  },
  {
   "cell_type": "code",
   "execution_count": 9,
   "id": "0de92b3e-1233-4298-9e10-711a3224bc7f",
   "metadata": {
    "tags": []
   },
   "outputs": [
    {
     "name": "stdout",
     "output_type": "stream",
     "text": [
      "\n",
      "Genetic Relationship Matrix (GRM):\n",
      "             Individual 1 Individual 2  Individual 3 Individual 4  Individual 5\n",
      "Individual 1    0.2857143   -0.7142857 -1.428571e-01    0.1428571  4.285714e-01\n",
      "Individual 2   -0.7142857    2.5714286  2.857143e-01   -0.1428571 -2.000000e+00\n",
      "Individual 3   -0.1428571    0.2857143  1.428571e-01   -0.2857143 -3.806479e-17\n",
      "Individual 4    0.1428571   -0.1428571 -2.857143e-01    0.7142857 -4.285714e-01\n",
      "Individual 5    0.4285714   -2.0000000 -3.806479e-17   -0.4285714  2.000000e+00\n"
     ]
    }
   ],
   "source": [
    "# Compute the GRM using allele frequencies\n",
    "denominator <- sum(2 * p * (1 - p))\n",
    "grm <- (X %*% t(X)) / denominator\n",
    "cat(\"\\nGenetic Relationship Matrix (GRM):\\n\")\n",
    "print(grm)"
   ]
  },
  {
   "cell_type": "markdown",
   "id": "4654d6ec-8a8a-4fec-be41-2b48fc805469",
   "metadata": {},
   "source": [
    "# TODO\n",
    "\n",
    "- [ ] double check details of formulas and wikipedia to see if this is correct"
   ]
  },
  {
   "cell_type": "code",
   "execution_count": null,
   "id": "2a11d341-a8d9-4519-9dcb-45f454a276e9",
   "metadata": {},
   "outputs": [],
   "source": []
  },
  {
   "cell_type": "code",
   "execution_count": null,
   "id": "647bfab5-8620-4198-8b74-96fabbbffa29",
   "metadata": {},
   "outputs": [],
   "source": []
  },
  {
   "cell_type": "code",
   "execution_count": null,
   "id": "962c04a0-afe4-4e7c-8197-09a9ac5fe2e7",
   "metadata": {},
   "outputs": [],
   "source": []
  },
  {
   "cell_type": "code",
   "execution_count": null,
   "id": "6d16dbfe-6e24-4860-a842-3d1c579ae8e5",
   "metadata": {},
   "outputs": [],
   "source": []
  }
 ],
 "metadata": {
  "kernelspec": {
   "display_name": "R",
   "language": "R",
   "name": "ir"
  },
  "language_info": {
   "codemirror_mode": "r",
   "file_extension": ".r",
   "mimetype": "text/x-r-source",
   "name": "R",
   "pygments_lexer": "r",
   "version": "4.4.2"
  },
  "toc-autonumbering": true
 },
 "nbformat": 4,
 "nbformat_minor": 5
}
