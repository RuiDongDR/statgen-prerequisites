{
 "cells": [
  {
   "cell_type": "markdown",
   "id": "8f236fb0-1586-463a-b400-24fb893c5292",
   "metadata": {},
   "source": [
    "# Summary\n",
    "\n",
    "This notebook introduces the basic concepts in statistical genetics, including:\n",
    "\n",
    "- genotype\n",
    "- MAF, HWE"
   ]
  },
  {
   "cell_type": "markdown",
   "id": "a57f18c6-62b2-4303-9dbb-5fca8a6e19fc",
   "metadata": {},
   "source": [
    "# Intuition\n",
    "\n",
    "Here we will put a cartoon --- use Figure 1 below plus coding into 012?"
   ]
  },
  {
   "cell_type": "markdown",
   "id": "66e83043-df7b-4e99-926c-04e488796cb9",
   "metadata": {},
   "source": [
    "## Something from previous slides"
   ]
  },
  {
   "cell_type": "markdown",
   "id": "9b00f698-d22d-457a-9180-0582f474f284",
   "metadata": {
    "tags": []
   },
   "source": [
    "![figure](https://www.frontiersin.org/files/Articles/127738/fbioe-03-00013-HTML-r1/image_m/fbioe-03-00013-g001.jpg)\n",
    "> Figure 1. Common genetic variations. Variations at the (A) nucleotide level and (B) structural level. (C) Single nucleotide polymorphism A/T across a population.\n",
    "> \n",
    "> Cardoso JGR, Andersen MR, Herrgård MJ and Sonnenschein N (2015) Analysis of genetic variation and potential applications in genome-scale metabolic modeling. Front. Bioeng. Biotechnol. 3:13. doi: 10.3389/fbioe.2015.00013"
   ]
  },
  {
   "cell_type": "markdown",
   "id": "c368a384-d362-42cb-9223-fc13269d0e05",
   "metadata": {},
   "source": [
    "# Notations"
   ]
  },
  {
   "cell_type": "markdown",
   "id": "593f5c78-946f-45a9-a979-ec0b4cfcfe8e",
   "metadata": {},
   "source": [
    "## Genotype\n",
    "\n",
    "In the lectures, we use $\\mathbf{X}$ to denote a $N$ by $J$ genotype matrix, and for people who is dipolid,  $x_{i,j} \\in \\{0,1,2\\}$ represents the genotype of individual $i=1,...,N$ at variant $j=1,...,J$ (assuming single allelic).\n",
    "\n",
    "Assume that the genotype matrix is denoted as a $N$ by $J$ matrix, $\\mathbf{X}$, where\n",
    "\n",
    "\\begin{equation*}\n",
    "\\mathbf{X} =\n",
    "\\begin{bmatrix}\n",
    "x_{11} & x_{12} & \\cdots & x_{1M} \\\\\n",
    "x_{21} & x_{22} & \\cdots & x_{2M} \\\\\n",
    "\\vdots & \\vdots & \\ddots & \\vdots \\\\\n",
    "x_{N1} & x_{N2} & \\cdots & x_{NM}\n",
    "\\end{bmatrix}\n",
    "\\end{equation*}\n",
    "\n",
    "- Rows ($i = 1, \\dots, N$) correspond to individuals.\n",
    "- Columns ($j = 1, \\dots, M$) correspond to variants.\n",
    "- Each entry $x_{ij}$ represents the genotype of individual $i$ for variant $j$, where:\n",
    "  - $0$: Homozygous for the reference allele.\n",
    "  - $1$: Heterozygous.\n",
    "  - $2$: Homozygous for the alternative allele.\n",
    "  "
   ]
  },
  {
   "cell_type": "markdown",
   "id": "0deb3e52-a999-4203-83ab-40123d93fe87",
   "metadata": {},
   "source": [
    "## MAF\n",
    "\n",
    "The **minor allele frequency (MAF)** is a fundamental concept in statistical genetics that quantifies the frequency of the less common allele at a given genetic locus in a population.  \n",
    "\n",
    "Given a genotype matrix $\\mathbf{X}$ as above, the **allele frequency** for variant $j$ is given by the expectation of $X_{\\cdot,j}$ divided by $2$, accounting for human diploidy:  \n",
    "\n",
    "$$\n",
    "f_j = \\frac{\\mathbb{E}[X_{\\cdot,j}]}{2} = \\frac{1}{2N} \\sum_{i=1}^{N} X_{ij}\n",
    "$$\n",
    "\n",
    "where $N$ is the total number of individuals.  \n",
    "\n",
    "The **minor allele frequency (MAF)** is defined as:  \n",
    "\n",
    "$$\n",
    "\\min(f_j, 1 - f_j)\n",
    "$$\n",
    "\n",
    "ensuring that it always represents the frequency of the **less** common allele in the population.\n"
   ]
  },
  {
   "cell_type": "markdown",
   "id": "8b6e2d66-4077-46cf-a2d0-34e4cddd97e0",
   "metadata": {},
   "source": [
    "## Hardy-Weinberg Equilibrium (HWE)\n",
    "\n",
    "\n",
    "**Hardy-Weinberg equilibrium (HWE)** is a principle in population genetics that describes the relationship between allele frequencies and genotype frequencies in a non-evolving population. Under HWE, allele and genotype frequencies in a population remain constant from generation to generation, assuming there is no selection, mutation, migration, genetic drift, or non-random mating.\n",
    "\n",
    "For a biallelic locus with alleles $A$ (major allele) and $a$ (minor allele), and we observe that the frequencies of them are $f_A$ and $f_a$.\n",
    "\n",
    "Normally one would expect that HWE holds, i.e., \n",
    "\n",
    "$$\n",
    "P(AA) = f_A^2\n",
    "$$\n",
    "$$\n",
    "P(Aa) = 2f_Af_a\n",
    "$$\n",
    "$$\n",
    "P(aa) = f_a^2\n",
    "$$\n",
    "\n",
    "These frequencies must satisfy the equation:\n",
    "\n",
    "$$\n",
    "f_A^2 + 2f_A f_a + f_a^2 = 1\n",
    "$$\n",
    "\n",
    "In the absence of selection, mutation, genetic drift, or other forces, allele frequencies $f_A$ and $f_a$ are constant between generations, so equilibrium is reached.\n",
    "\n",
    "**An example of when HWE may not hold**\n",
    "\n",
    "Selection: If natural or artificial selection is acting on the population, certain genotypes may have a higher or lower fitness, which alters the allele frequencies over time. For example, individuals with the homozygous dominant genotype may have higher survival rates, leading to an increase in the major allele frequency.\n",
    "\n"
   ]
  },
  {
   "cell_type": "markdown",
   "id": "f9c943b0-2af5-4e77-bdb0-2d7c2d0a82b3",
   "metadata": {},
   "source": [
    "# Example"
   ]
  },
  {
   "cell_type": "code",
   "execution_count": 131,
   "id": "844883c1-50d4-4b8a-807e-404299063852",
   "metadata": {
    "tags": []
   },
   "outputs": [
    {
     "data": {
      "text/html": [
       "<table class=\"dataframe\">\n",
       "<caption>A matrix: 5 × 3 of type dbl</caption>\n",
       "<thead>\n",
       "\t<tr><th></th><th scope=col>Variant 1</th><th scope=col>Variant 2</th><th scope=col>Variant 3</th></tr>\n",
       "</thead>\n",
       "<tbody>\n",
       "\t<tr><th scope=row>Individual 1</th><td>0</td><td>1</td><td>1</td></tr>\n",
       "\t<tr><th scope=row>Individual 2</th><td>2</td><td>2</td><td>0</td></tr>\n",
       "\t<tr><th scope=row>Individual 3</th><td>1</td><td>1</td><td>1</td></tr>\n",
       "\t<tr><th scope=row>Individual 4</th><td>0</td><td>2</td><td>1</td></tr>\n",
       "\t<tr><th scope=row>Individual 5</th><td>0</td><td>0</td><td>2</td></tr>\n",
       "</tbody>\n",
       "</table>\n"
      ],
      "text/latex": [
       "A matrix: 5 × 3 of type dbl\n",
       "\\begin{tabular}{r|lll}\n",
       "  & Variant 1 & Variant 2 & Variant 3\\\\\n",
       "\\hline\n",
       "\tIndividual 1 & 0 & 1 & 1\\\\\n",
       "\tIndividual 2 & 2 & 2 & 0\\\\\n",
       "\tIndividual 3 & 1 & 1 & 1\\\\\n",
       "\tIndividual 4 & 0 & 2 & 1\\\\\n",
       "\tIndividual 5 & 0 & 0 & 2\\\\\n",
       "\\end{tabular}\n"
      ],
      "text/markdown": [
       "\n",
       "A matrix: 5 × 3 of type dbl\n",
       "\n",
       "| <!--/--> | Variant 1 | Variant 2 | Variant 3 |\n",
       "|---|---|---|---|\n",
       "| Individual 1 | 0 | 1 | 1 |\n",
       "| Individual 2 | 2 | 2 | 0 |\n",
       "| Individual 3 | 1 | 1 | 1 |\n",
       "| Individual 4 | 0 | 2 | 1 |\n",
       "| Individual 5 | 0 | 0 | 2 |\n",
       "\n"
      ],
      "text/plain": [
       "             Variant 1 Variant 2 Variant 3\n",
       "Individual 1 0         1         1        \n",
       "Individual 2 2         2         0        \n",
       "Individual 3 1         1         1        \n",
       "Individual 4 0         2         1        \n",
       "Individual 5 0         0         2        "
      ]
     },
     "metadata": {},
     "output_type": "display_data"
    }
   ],
   "source": [
    "rm(list=ls())\n",
    "# Genotype matrix for 5 individuals and 2 variants\n",
    "# Rows correspond to individuals, columns to variants\n",
    "N=5\n",
    "J=3\n",
    "# genotypes <- matrix(c(0, 1, 1, 2, 2, 0, 0, 1, 1, 0),\n",
    "#                    nrow = N, ncol = J, byrow = TRUE)\n",
    "genotypes <- matrix(c(0, 1, 1, 2, 2, 0, 1, 1, 1, 0, 2, 1, 0, 0, 2), \n",
    "                    nrow = N, ncol = J, byrow = TRUE)\n",
    "# Adding row and column names\n",
    "rownames(genotypes) <- paste(\"Individual\", 1:N)\n",
    "colnames(genotypes) <- paste(\"Variant\", 1:J)\n",
    "genotypes"
   ]
  },
  {
   "cell_type": "code",
   "execution_count": 132,
   "id": "772eddb5-e251-4418-abe4-4eeae95974ec",
   "metadata": {
    "jp-MarkdownHeadingCollapsed": true,
    "tags": []
   },
   "outputs": [
    {
     "name": "stdout",
     "output_type": "stream",
     "text": [
      "Minor Allele Frequencies (MAF):\n",
      "MAF for Variant 1 : 0.3 \n",
      "MAF for Variant 2 : 0.4 \n",
      "MAF for Variant 3 : 0.5 \n"
     ]
    }
   ],
   "source": [
    "# MAF Calculation for each variant\n",
    "MAF <- apply(genotypes, 2, function(x) min(mean(x) / 2, 1 - mean(x) / 2))\n",
    "# Print MAF\n",
    "cat(\"Minor Allele Frequencies (MAF):\\n\")\n",
    "for (j in 1:ncol(genotypes)) {\n",
    "  cat(paste(\"MAF for Variant\", j, \":\", MAF[j]), \"\\n\")\n",
    "}\n"
   ]
  },
  {
   "cell_type": "code",
   "execution_count": 133,
   "id": "fd3c0498-0625-48d8-a754-593be85aee66",
   "metadata": {
    "tags": []
   },
   "outputs": [
    {
     "name": "stdout",
     "output_type": "stream",
     "text": [
      "Expected Genotype Frequencies for Variant 1 (HWE): 0.49 0.42 0.09 \n",
      "Observed Genotype Frequencies for Variant 1: 0.6 0.2 0.2 \n",
      "Expected Genotype Frequencies for Variant 2 (HWE): 0.16 0.48 0.36 \n",
      "Observed Genotype Frequencies for Variant 2: 0.2 0.4 0.4 \n",
      "Expected Genotype Frequencies for Variant 3 (HWE): 0.25 0.5 0.25 \n",
      "Observed Genotype Frequencies for Variant 3: 0.2 0.6 0.2 \n"
     ]
    }
   ],
   "source": [
    "# Function to calculate the expected genotype frequencies under HWE\n",
    "HWE_expected <- function(f_A, f_a) {\n",
    "  c(f_A^2, 2*f_A*f_a, f_a^2)  # P(AA), P(Aa), P(aa)\n",
    "}\n",
    "\n",
    "# Calculate allele frequencies\n",
    "f_A1 <- mean(genotypes[,1] == 0) + 0.5 * mean(genotypes[,1] == 1) # Variant 1\n",
    "f_a1 <- 1 - f_A1\n",
    "f_A2 <- mean(genotypes[,2] == 0) + 0.5 * mean(genotypes[,2] == 1) # Variant 2\n",
    "f_a2 <- 1 - f_A2\n",
    "f_A3 <- mean(genotypes[,3] == 0) + 0.5 * mean(genotypes[,3] == 1) # Variant 2\n",
    "f_a3 <- 1 - f_A3\n",
    "\n",
    "# Expected genotypic frequencies for each variant under HWE\n",
    "hwe_expected_variant1 <- HWE_expected(f_A1, f_a1)\n",
    "hwe_expected_variant2 <- HWE_expected(f_A2, f_a2)\n",
    "hwe_expected_variant3 <- HWE_expected(f_A3, f_a3)\n",
    "cat(\"Expected Genotype Frequencies for Variant 1 (HWE):\", hwe_expected_variant1, \"\\n\")\n",
    "cat(\"Observed Genotype Frequencies for Variant 1:\", table(genotypes[,1])/nrow(genotypes), \"\\n\")\n",
    "cat(\"Expected Genotype Frequencies for Variant 2 (HWE):\", hwe_expected_variant2, \"\\n\")\n",
    "cat(\"Observed Genotype Frequencies for Variant 2:\", table(genotypes[,2])/nrow(genotypes), \"\\n\")\n",
    "cat(\"Expected Genotype Frequencies for Variant 3 (HWE):\", hwe_expected_variant3, \"\\n\")\n",
    "cat(\"Observed Genotype Frequencies for Variant 3:\", table(genotypes[,3])/nrow(genotypes), \"\\n\")\n"
   ]
  },
  {
   "cell_type": "markdown",
   "id": "977618a1-4aa6-4b66-a9b5-277da1b2eaf8",
   "metadata": {},
   "source": [
    "The expected and observed frequencies seem like close to each other, so we can say **HWE roughly holds for both variants**.\n",
    "\n",
    "More formally one can test with a **chi-squared test** to compare the observed genotype frequencies with the expected frequencies under HWE. "
   ]
  },
  {
   "cell_type": "code",
   "execution_count": 134,
   "id": "a7eaff7a-0f3b-4952-86bd-6296bec67174",
   "metadata": {
    "tags": []
   },
   "outputs": [
    {
     "name": "stderr",
     "output_type": "stream",
     "text": [
      "Warning message in chisq.test(observed_freqs_variant1, p = hwe_expected_variant1):\n",
      "“Chi-squared approximation may be incorrect”\n",
      "Warning message in chisq.test(observed_freqs_variant2, p = hwe_expected_variant2):\n",
      "“Chi-squared approximation may be incorrect”\n",
      "Warning message in chisq.test(observed_freqs_variant3, p = hwe_expected_variant3):\n",
      "“Chi-squared approximation may be incorrect”\n"
     ]
    },
    {
     "name": "stdout",
     "output_type": "stream",
     "text": [
      "\n",
      "Variant 1: HWE holds.\n",
      "\n",
      "Variant 2: HWE holds.\n",
      "\n",
      "Variant 3: HWE holds.\n"
     ]
    }
   ],
   "source": [
    "# Chi-squared test for deviation from Hardy-Weinberg equilibrium for Variant 1\n",
    "observed_freqs_variant1 <- table(factor(genotypes[,1], levels = 0:2)) / nrow(genotypes)\n",
    "chisq_test_variant1 <- chisq.test(observed_freqs_variant1, p = hwe_expected_variant1)\n",
    "\n",
    "# Chi-squared test for deviation from Hardy-Weinberg equilibrium for Variant 2\n",
    "observed_freqs_variant2 <- table(factor(genotypes[,2], levels = 0:2)) / nrow(genotypes)\n",
    "chisq_test_variant2 <- chisq.test(observed_freqs_variant2, p = hwe_expected_variant2)\n",
    "\n",
    "# Chi-squared test for deviation from Hardy-Weinberg equilibrium for Variant 3\n",
    "observed_freqs_variant3 <- table(factor(genotypes[,3], levels = 0:2)) / nrow(genotypes)\n",
    "chisq_test_variant3 <- chisq.test(observed_freqs_variant3, p = hwe_expected_variant3)\n",
    "\n",
    "# Interpretation of results\n",
    "if (chisq_test_variant1$p.value < 0.05) {\n",
    "  cat(\"\\nVariant 1: HWE does not hold.\\n\")\n",
    "} else {\n",
    "  cat(\"\\nVariant 1: HWE holds.\\n\")\n",
    "}\n",
    "\n",
    "if (chisq_test_variant2$p.value < 0.05) {\n",
    "  cat(\"\\nVariant 2: HWE does not hold.\\n\")\n",
    "} else {\n",
    "  cat(\"\\nVariant 2: HWE holds.\\n\")\n",
    "}\n",
    "\n",
    "if (chisq_test_variant3$p.value < 0.05) {\n",
    "  cat(\"\\nVariant 3: HWE does not hold.\\n\")\n",
    "} else {\n",
    "  cat(\"\\nVariant 3: HWE holds.\\n\")\n",
    "}"
   ]
  },
  {
   "cell_type": "markdown",
   "id": "598d55b5-c459-474b-83fc-02b30bc266ac",
   "metadata": {},
   "source": [
    "Now let's assume that **individuals carrying 2 risk alleles (a2) cannot survive after born**, then the population become:"
   ]
  },
  {
   "cell_type": "code",
   "execution_count": 135,
   "id": "de40df20-5b08-428b-9ba2-4fee06901ed4",
   "metadata": {
    "tags": []
   },
   "outputs": [],
   "source": [
    "genotypes_selected <- genotypes[genotypes[, 2] != 2, ]"
   ]
  },
  {
   "cell_type": "code",
   "execution_count": 136,
   "id": "4ac98295-6c45-449c-9495-00ff8d44cf39",
   "metadata": {
    "tags": []
   },
   "outputs": [
    {
     "name": "stdout",
     "output_type": "stream",
     "text": [
      "===========After selection===========\n",
      "Expected Genotype Frequencies for Variant 1 (HWE): 0.6944444 0.2777778 0.02777778 \n",
      "Observed Genotype Frequencies for Variant 1: 0.6666667 0.3333333 \n",
      "Expected Genotype Frequencies for Variant 2 (HWE): 0.4444444 0.4444444 0.1111111 \n",
      "Observed Genotype Frequencies for Variant 2: 0.3333333 0.6666667 \n",
      "Expected Genotype Frequencies for Variant 3 (HWE): 0.1111111 0.4444444 0.4444444 \n",
      "Observed Genotype Frequencies for Variant 3: 0.6666667 0.3333333 \n"
     ]
    }
   ],
   "source": [
    "# Calculate allele frequencies\n",
    "f_A1_selected <- mean(genotypes_selected[,1] == 0) + 0.5 * mean(genotypes_selected[,1] == 1) # Variant 1\n",
    "f_a1_selected <- 1 - f_A1_selected\n",
    "f_A2_selected <- mean(genotypes_selected[,2] == 0) + 0.5 * mean(genotypes_selected[,2] == 1) # Variant 2\n",
    "f_a2_selected <- 1 - f_A2_selected\n",
    "f_A3_selected <- mean(genotypes_selected[,3] == 0) + 0.5 * mean(genotypes_selected[,3] == 1) # Variant 3\n",
    "f_a3_selected <- 1 - f_A3_selected\n",
    "\n",
    "\n",
    "# Expected genotypic frequencies for each variant under HWE\n",
    "hwe_expected_variant1_selected <- HWE_expected(f_A1_selected, f_a1_selected)\n",
    "hwe_expected_variant2_selected <- HWE_expected(f_A2_selected, f_a2_selected)\n",
    "hwe_expected_variant3_selected <- HWE_expected(f_A3_selected, f_a3_selected)\n",
    "cat(\"===========After selection===========\\n\")\n",
    "cat(\"Expected Genotype Frequencies for Variant 1 (HWE):\", hwe_expected_variant1_selected, \"\\n\")\n",
    "cat(\"Observed Genotype Frequencies for Variant 1:\", table(genotypes_selected[,1])/nrow(genotypes_selected), \"\\n\")\n",
    "cat(\"Expected Genotype Frequencies for Variant 2 (HWE):\", hwe_expected_variant2_selected, \"\\n\")\n",
    "cat(\"Observed Genotype Frequencies for Variant 2:\", table(genotypes_selected[,2])/nrow(genotypes_selected), \"\\n\")\n",
    "cat(\"Expected Genotype Frequencies for Variant 3 (HWE):\", hwe_expected_variant3_selected, \"\\n\")\n",
    "cat(\"Observed Genotype Frequencies for Variant 3:\", table(genotypes_selected[,3])/nrow(genotypes_selected), \"\\n\")"
   ]
  },
  {
   "cell_type": "markdown",
   "id": "40917730-8277-4462-ab31-d61a3b1f0352",
   "metadata": {},
   "source": [
    "Then we can use the **chi-squared test** again"
   ]
  },
  {
   "cell_type": "code",
   "execution_count": 137,
   "id": "8a93fff6-a243-4b0e-a7f9-5a7fb9fb98e3",
   "metadata": {
    "tags": []
   },
   "outputs": [
    {
     "name": "stderr",
     "output_type": "stream",
     "text": [
      "Warning message in chisq.test(observed_freqs_variant1_selected, p = hwe_expected_variant1_selected):\n",
      "“Chi-squared approximation may be incorrect”\n"
     ]
    },
    {
     "name": "stdout",
     "output_type": "stream",
     "text": [
      "\n",
      "Chi-squared p-value for Variant 1 (HWE): 0.9801987 \n"
     ]
    },
    {
     "name": "stderr",
     "output_type": "stream",
     "text": [
      "Warning message in chisq.test(observed_freqs_variant2_selected, p = hwe_expected_variant2_selected):\n",
      "“Chi-squared approximation may be incorrect”\n"
     ]
    },
    {
     "name": "stdout",
     "output_type": "stream",
     "text": [
      "Chi-squared p-value for Variant 2 (HWE): 0.8824969 \n"
     ]
    },
    {
     "name": "stderr",
     "output_type": "stream",
     "text": [
      "Warning message in chisq.test(observed_freqs_variant3_selected, p = hwe_expected_variant3_selected):\n",
      "“Chi-squared approximation may be incorrect”\n"
     ]
    },
    {
     "name": "stdout",
     "output_type": "stream",
     "text": [
      "Chi-squared p-value for Variant 3 (HWE): 0.8824969 \n",
      "\n",
      "Variant 1: HWE holds after selection.\n",
      "\n",
      "Variant 2: HWE holds after selection.\n",
      "\n",
      "Variant 3: HWE holds after selection.\n"
     ]
    }
   ],
   "source": [
    "observed_freqs_variant1_selected <- table(factor(genotypes_selected[,1], levels = 0:2))/nrow(genotypes_selected)\n",
    "observed_freqs_variant2_selected <- table(factor(genotypes_selected[,2], levels = 0:2)) / nrow(genotypes_selected)\n",
    "observed_freqs_variant3_selected <- table(factor(genotypes_selected[,3], levels = 0:2)) / nrow(genotypes_selected)\n",
    "\n",
    "# Chi-squared test for Variant 1\n",
    "chisq_test_v1_selected <- chisq.test(observed_freqs_variant1_selected, p = hwe_expected_variant1_selected)\n",
    "cat(\"\\nChi-squared p-value for Variant 1 (HWE):\", chisq_test_v1_selected$p.value, \"\\n\")\n",
    "\n",
    "# Chi-squared test for Variant 2\n",
    "chisq_test_v2_selected <- chisq.test(observed_freqs_variant2_selected, p = hwe_expected_variant2_selected)\n",
    "cat(\"Chi-squared p-value for Variant 2 (HWE):\", chisq_test_v2_selected$p.value, \"\\n\")\n",
    "\n",
    "# Chi-squared test for Variant 3\n",
    "chisq_test_v3_selected <- chisq.test(observed_freqs_variant3_selected, p = hwe_expected_variant3_selected)\n",
    "cat(\"Chi-squared p-value for Variant 3 (HWE):\", chisq_test_v3_selected$p.value, \"\\n\")\n",
    "\n",
    "# Interpretation of results\n",
    "if (chisq_test_v1_selected$p.value < 0.05) {\n",
    "  cat(\"\\nVariant 1: HWE does not hold after selection.\\n\")\n",
    "} else {\n",
    "  cat(\"\\nVariant 1: HWE holds after selection.\\n\")\n",
    "}\n",
    "\n",
    "if (chisq_test_v2_selected$p.value < 0.05) {\n",
    "  cat(\"\\nVariant 2: HWE does not hold after selection.\\n\")\n",
    "} else {\n",
    "  cat(\"\\nVariant 2: HWE holds after selection.\\n\")\n",
    "}\n",
    "\n",
    "if (chisq_test_v3_selected$p.value < 0.05) {\n",
    "  cat(\"\\nVariant 3: HWE does not hold after selection.\\n\")\n",
    "} else {\n",
    "  cat(\"\\nVariant 3: HWE holds after selection.\\n\")\n",
    "}"
   ]
  },
  {
   "cell_type": "markdown",
   "id": "707db902-f1ed-4399-93e3-e8996dd44081",
   "metadata": {},
   "source": [
    "# **TODO**\n",
    "- [ ] change from $X$ to $X_{raw}$  -- nc stands for not-centered, raw data\n",
    "- [ ] how to remove the warning in the message --- is it because data too small? -- something is wrong in the code\n",
    "- [ ] how to make HWE doesn't hold for variant 2 after selection.."
   ]
  },
  {
   "cell_type": "code",
   "execution_count": null,
   "id": "bf582cc4-e03f-44ea-92a2-c7274838d172",
   "metadata": {},
   "outputs": [],
   "source": []
  },
  {
   "cell_type": "code",
   "execution_count": null,
   "id": "c4e293db-9407-479c-88ad-7f7a18f506ab",
   "metadata": {},
   "outputs": [],
   "source": []
  },
  {
   "cell_type": "code",
   "execution_count": null,
   "id": "0b27c4f9-5536-4209-b0ea-fe9e70e8b11f",
   "metadata": {},
   "outputs": [],
   "source": []
  }
 ],
 "metadata": {
  "kernelspec": {
   "display_name": "R",
   "language": "R",
   "name": "ir"
  },
  "language_info": {
   "codemirror_mode": "r",
   "file_extension": ".r",
   "mimetype": "text/x-r-source",
   "name": "R",
   "pygments_lexer": "r",
   "version": "4.4.2"
  },
  "toc-autonumbering": true
 },
 "nbformat": 4,
 "nbformat_minor": 5
}
