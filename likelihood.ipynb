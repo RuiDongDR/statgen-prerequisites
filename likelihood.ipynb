{
 "cells": [
  {
   "cell_type": "markdown",
   "id": "cb9828ba",
   "metadata": {},
   "source": [
    "# Intuitional Description\n",
    "\n",
    "Likelihood is the plausibility of observing your data given a specific model or parameter value."
   ]
  },
  {
   "cell_type": "markdown",
   "id": "ecbb752b",
   "metadata": {},
   "source": [
    "# Graphical Summary"
   ]
  },
  {
   "cell_type": "markdown",
   "id": "3021f6d3",
   "metadata": {},
   "source": [
    "![fig](./cartoons/fig.svg)"
   ]
  },
  {
   "cell_type": "markdown",
   "id": "07bcc038",
   "metadata": {},
   "source": [
    "# Key Formula\n",
    "\n",
    "The likelihood is:\n",
    "\n",
    "$$L(\\text{D}|\\text{M}) = P(\\text{M}|\\text{D})$$\n",
    "\n",
    "Where:\n",
    "- $L(\\text{D}|\\text{M})$ is the likelihood function\n",
    "- $\\text{M}$ represents the model\n",
    "- $\\text{D}$ represents the observed data\n",
    "- $P(\\text{D}|\\text{M})$ is the probability of observing data $\\text{D}$ given the model $\\text{M}$"
   ]
  },
  {
   "cell_type": "markdown",
   "id": "5bbcb9be",
   "metadata": {},
   "source": [
    "# Technical Details\n",
    "\n",
    "## Single Sample\n",
    "For a single observation $d$:\n",
    "$L(d|\\text{M}) = P(d|\\text{M})$\n",
    "\n",
    "## Multiple Samples (Independence Assumption)\n",
    "For multiple independent observations $d_1, d_2, ..., d_n$:\n",
    "$L(\\text{D}|\\text{M}) = \\prod_{i=1}^{n} P(d_i|\\text{M})$\n",
    "\n",
    "Under the assumption of independence, the joint probability of multiple independent samples is the product of their individual probabilities. \n",
    "\n",
    "## Log-Likelihood\n",
    "We often work with log-likelihood for computational stability:\n",
    "$\\ell(\\text{D}|\\text{M}) = \\log L(\\text{D}|\\text{M}) = \\sum_{i=1}^{n} \\log P(d_i|\\text{M})$\n",
    "\n",
    "The log transformation converts products to sums, making calculations easier and preventing numerical underflow with very small probabilities."
   ]
  },
  {
   "cell_type": "markdown",
   "id": "1fb5fe68",
   "metadata": {},
   "source": [
    "# Example"
   ]
  },
  {
   "cell_type": "markdown",
   "id": "e165bc3b-c33b-4ec8-a25e-eff8aec086a5",
   "metadata": {},
   "source": [
    "## Single sample"
   ]
  },
  {
   "cell_type": "markdown",
   "id": "2711c40a-5109-4c07-9295-d4f8e5e80a40",
   "metadata": {},
   "source": [
    "This example demonstrates the core concept of likelihood using a simplified genetic association study. We have genetic data from 5 individuals, where each individual has been genotyped at 3 DNA variants, and we've measured their heights. Our goal is to understand which genetic model best explains the relationship between a specific variant and height.\n",
    "\n",
    "The key steps in this example include: \n",
    "1. generate the scaled genotype matrix $\\mathbf{X}$ and phenotype vector $\\mathbf{Y}$ (which is the data we observe)\n",
    "2. define three models and the likelihood function:\n",
    "    - the variant has no effect on the trait ($\\beta=0$)\n",
    "    - the variant has mediate effect on the trait ($\\beta=0.5$)\n",
    "    - the variant has strong effect on the trait ($\\beta=1$)\n",
    "3. compute the likelihood for each model to determine which makes our observed data most probable\n",
    "4. visualizing the relationship between genotype and height to understand which model fits best. \n",
    "\n",
    "This example illustrates how likelihood helps us choose between competing scientific models by quantifying how well each model explains our observed data."
   ]
  },
  {
   "cell_type": "code",
   "execution_count": 14,
   "id": "c0366094-85a8-4748-9f68-760f14492cf8",
   "metadata": {
    "tags": [],
    "vscode": {
     "languageId": "r"
    }
   },
   "outputs": [],
   "source": [
    "# Clear the environment\n",
    "rm(list = ls())\n",
    "\n",
    "# Define genotypes for 5 individuals at 3 variants\n",
    "# These represent actual alleles at each position\n",
    "# For example, Individual 1 has genotypes: CC, CT, AT\n",
    "genotypes <- c(\n",
    "    \"CC\", \"CT\", \"AT\", # Individual 1\n",
    "    \"TT\", \"TT\", \"AA\", # Individual 2\n",
    "    \"CT\", \"CT\", \"AA\", # Individual 3\n",
    "    \"CC\", \"TT\", \"AA\", # Individual 4\n",
    "    \"CC\", \"CC\", \"TT\" # Individual 5\n",
    ")\n",
    "# Reshape into a matrix\n",
    "N <- 5 # number of individuals\n",
    "M <- 3 # number of variants\n",
    "geno_matrix <- matrix(genotypes, nrow = N, ncol = M, byrow = TRUE)\n",
    "rownames(geno_matrix) <- paste(\"Individual\", 1:N)\n",
    "colnames(geno_matrix) <- paste(\"Variant\", 1:M)\n",
    "\n",
    "alt_alleles <- c(\"T\", \"C\", \"T\")\n",
    "ref_alleles <- c(\"C\", \"T\", \"A\")\n",
    "\n",
    "# Convert to raw genotype matrix using the additive / dominant / recessive model\n",
    "Xraw_additive <- matrix(0, nrow = N, ncol = M) # dount number of non-reference alleles\n",
    "\n",
    "rownames(Xraw_additive) <- rownames(geno_matrix)\n",
    "colnames(Xraw_additive) <- colnames(geno_matrix)\n",
    "\n",
    "for (i in 1:N) {\n",
    "    for (j in 1:M) {\n",
    "        alleles <- strsplit(geno_matrix[i, j], \"\")[[1]]\n",
    "        Xraw_additive[i, j] <- sum(alleles == alt_alleles[j])\n",
    "    }\n",
    "}\n",
    "X <- scale(Xraw_additive, center = TRUE, scale = TRUE)\n",
    "\n",
    "# assign observed height for the 5 individuals\n",
    "Y_raw <- c(180, 160, 158, 155, 193)\n",
    "Y <- scale(Y_raw)"
   ]
  },
  {
   "cell_type": "markdown",
   "id": "2f7bf828-83d6-47ce-8833-bdeb0d1c9e4f",
   "metadata": {},
   "source": [
    "Now, let's create a function to compute the likelihood under different models for the effect of a genetic variant on height:"
   ]
  },
  {
   "cell_type": "code",
   "execution_count": 15,
   "id": "dbac27d7",
   "metadata": {
    "vscode": {
     "languageId": "r"
    }
   },
   "outputs": [],
   "source": [
    "# Likelihood function for normal distribution\n",
    "likelihood <- function(beta, sd, X, Y) {\n",
    "    # beta: effect size parameter\n",
    "    # sd: standard deviation of residuals\n",
    "    # X: genotype values\n",
    "    # Y: observed phenotype values\n",
    "\n",
    "    # Calculate expected values under the model\n",
    "    mu <- X * beta\n",
    "\n",
    "    # Calculate likelihood (product of normal densities)\n",
    "    prod(dnorm(Y, mean = mu, sd = sd, log = FALSE))\n",
    "}"
   ]
  },
  {
   "cell_type": "markdown",
   "id": "44e4194c-7ab7-402a-8faf-c8312b7a966a",
   "metadata": {},
   "source": [
    "Now, let's apply this function to our three models:"
   ]
  },
  {
   "cell_type": "code",
   "execution_count": 19,
   "id": "f823acc3-7d93-4182-ab49-5131b3aa60e4",
   "metadata": {
    "tags": [],
    "vscode": {
     "languageId": "r"
    }
   },
   "outputs": [
    {
     "data": {
      "text/html": [
       "<table class=\"dataframe\">\n",
       "<caption>A data.frame: 3 × 7</caption>\n",
       "<thead>\n",
       "\t<tr><th scope=col>Variant</th><th scope=col>L_Model1</th><th scope=col>L_Model2</th><th scope=col>L_Model3</th><th scope=col>LogL_Model1</th><th scope=col>LogL_Model2</th><th scope=col>LogL_Model3</th></tr>\n",
       "\t<tr><th scope=col>&lt;int&gt;</th><th scope=col>&lt;dbl&gt;</th><th scope=col>&lt;dbl&gt;</th><th scope=col>&lt;dbl&gt;</th><th scope=col>&lt;dbl&gt;</th><th scope=col>&lt;dbl&gt;</th><th scope=col>&lt;dbl&gt;</th></tr>\n",
       "</thead>\n",
       "<tbody>\n",
       "\t<tr><td>1</td><td>0.001367607</td><td>0.0003050987</td><td>2.503945e-05</td><td>-6.594693</td><td>-8.094875</td><td>-10.595058</td></tr>\n",
       "\t<tr><td>2</td><td>0.001367607</td><td>0.0045633971</td><td>5.601711e-03</td><td>-6.594693</td><td>-5.389688</td><td> -5.184683</td></tr>\n",
       "\t<tr><td>3</td><td>0.001367607</td><td>0.0059679052</td><td>9.580496e-03</td><td>-6.594693</td><td>-5.121359</td><td> -4.648026</td></tr>\n",
       "</tbody>\n",
       "</table>\n"
      ],
      "text/latex": [
       "A data.frame: 3 × 7\n",
       "\\begin{tabular}{lllllll}\n",
       " Variant & L\\_Model1 & L\\_Model2 & L\\_Model3 & LogL\\_Model1 & LogL\\_Model2 & LogL\\_Model3\\\\\n",
       " <int> & <dbl> & <dbl> & <dbl> & <dbl> & <dbl> & <dbl>\\\\\n",
       "\\hline\n",
       "\t 1 & 0.001367607 & 0.0003050987 & 2.503945e-05 & -6.594693 & -8.094875 & -10.595058\\\\\n",
       "\t 2 & 0.001367607 & 0.0045633971 & 5.601711e-03 & -6.594693 & -5.389688 &  -5.184683\\\\\n",
       "\t 3 & 0.001367607 & 0.0059679052 & 9.580496e-03 & -6.594693 & -5.121359 &  -4.648026\\\\\n",
       "\\end{tabular}\n"
      ],
      "text/markdown": [
       "\n",
       "A data.frame: 3 × 7\n",
       "\n",
       "| Variant &lt;int&gt; | L_Model1 &lt;dbl&gt; | L_Model2 &lt;dbl&gt; | L_Model3 &lt;dbl&gt; | LogL_Model1 &lt;dbl&gt; | LogL_Model2 &lt;dbl&gt; | LogL_Model3 &lt;dbl&gt; |\n",
       "|---|---|---|---|---|---|---|\n",
       "| 1 | 0.001367607 | 0.0003050987 | 2.503945e-05 | -6.594693 | -8.094875 | -10.595058 |\n",
       "| 2 | 0.001367607 | 0.0045633971 | 5.601711e-03 | -6.594693 | -5.389688 |  -5.184683 |\n",
       "| 3 | 0.001367607 | 0.0059679052 | 9.580496e-03 | -6.594693 | -5.121359 |  -4.648026 |\n",
       "\n"
      ],
      "text/plain": [
       "  Variant L_Model1    L_Model2     L_Model3     LogL_Model1 LogL_Model2\n",
       "1 1       0.001367607 0.0003050987 2.503945e-05 -6.594693   -8.094875  \n",
       "2 2       0.001367607 0.0045633971 5.601711e-03 -6.594693   -5.389688  \n",
       "3 3       0.001367607 0.0059679052 9.580496e-03 -6.594693   -5.121359  \n",
       "  LogL_Model3\n",
       "1 -10.595058 \n",
       "2  -5.184683 \n",
       "3  -4.648026 "
      ]
     },
     "metadata": {},
     "output_type": "display_data"
    }
   ],
   "source": [
    "# Apply the likelihood function to three models for each variant\n",
    "sd_assumed <- 1 # Assume standard deviation of 1 for our standardized data\n",
    "\n",
    "# Initialize results table\n",
    "results_table <- data.frame(\n",
    "    Variant = 1:ncol(X),\n",
    "    L_Model1 = ncol(X),\n",
    "    L_Model2 = ncol(X),\n",
    "    L_Model3 = ncol(X),\n",
    "    LogL_Model1 = ncol(X),\n",
    "    LogL_Model2 = ncol(X),\n",
    "    LogL_Model3 = ncol(X)\n",
    ")\n",
    "\n",
    "# Test all 3 variants\n",
    "for (variant_idx in 1:ncol(X)) {\n",
    "    X_j <- X[, variant_idx] # Genotypes for variant j\n",
    "\n",
    "    # Calculate likelihoods\n",
    "    results_table[variant_idx, \"L_Model1\"] <- likelihood(beta = 0, sd = sd_assumed, X = X_j, Y = Y)\n",
    "    results_table[variant_idx, \"L_Model2\"] <- likelihood(beta = 0.5, sd = sd_assumed, X = X_j, Y = Y)\n",
    "    results_table[variant_idx, \"L_Model3\"] <- likelihood(beta = 1.0, sd = sd_assumed, X = X_j, Y = Y)\n",
    "\n",
    "    # Calculate log-likelihoods\n",
    "    results_table[variant_idx, \"LogL_Model1\"] <- sum(dnorm(Y, mean = X_j * 0, sd = sd_assumed, log = TRUE))\n",
    "    results_table[variant_idx, \"LogL_Model2\"] <- sum(dnorm(Y, mean = X_j * 0.5, sd = sd_assumed, log = TRUE))\n",
    "    results_table[variant_idx, \"LogL_Model3\"] <- sum(dnorm(Y, mean = X_j * 1.0, sd = sd_assumed, log = TRUE))\n",
    "}\n",
    "results_table\n"
   ]
  },
  {
   "cell_type": "markdown",
   "id": "23d7d7e7-f146-410c-95e0-895bd9f07ba9",
   "metadata": {},
   "source": [
    "Let's visualize the relationship between genotype and phenotype to understand which model fits best:"
   ]
  },
  {
   "cell_type": "code",
   "execution_count": 29,
   "id": "1f9f5b28-78e8-47d4-8317-bdca2423f9fc",
   "metadata": {
    "tags": [],
    "vscode": {
     "languageId": "r"
    }
   },
   "outputs": [
    {
     "data": {
      "image/png": "[encoded data removed]",
      "text/plain": [
       "Plot with title “Likelihoods by Model and Variant”"
      ]
     },
     "metadata": {
      "image/png": {
       "height": 420,
       "width": 420
      }
     },
     "output_type": "display_data"
    }
   ],
   "source": [
    "# First, let's create a plot to compare likelihoods across models for each variant\n",
    "# Plot 1: Likelihoods for all models and variants\n",
    "barplot(as.matrix(results_table[, c(\"L_Model1\", \"L_Model2\", \"L_Model3\")]), \n",
    "        beside = TRUE, \n",
    "        names.arg = c(\"β=0\", \"β=0.5\", \"β=1.0\"),\n",
    "        col = c(\"#5549b6\", \"#f1b246\", \"#df6b59\"),\n",
    "        main = \"Likelihoods by Model and Variant\",\n",
    "        xlab = \"Model\", ylab = \"Likelihood\",\n",
    "        ylim = c(0, max(results_table[, c(\"L_Model1\", \"L_Model2\", \"L_Model3\")])))\n",
    "legend(\"topleft\", \n",
    "       legend = paste(\"Variant\", 1:3), \n",
    "       fill = c(\"#5549b6\", \"#f1b246\", \"#df6b59\"),\n",
    "       cex = 0.8)\n"
   ]
  },
  {
   "cell_type": "code",
   "execution_count": 30,
   "id": "ce0e69c1",
   "metadata": {
    "vscode": {
     "languageId": "r"
    }
   },
   "outputs": [
    {
     "data": {
      "image/png": "[encoded data removed]",
      "text/plain": [
       "Plot with title “Log-Likelihoods by Model and Variant”"
      ]
     },
     "metadata": {
      "image/png": {
       "height": 420,
       "width": 420
      }
     },
     "output_type": "display_data"
    }
   ],
   "source": [
    "# Plot 2: Log-likelihoods for all models and variants\n",
    "barplot(as.matrix(results_table[, c(\"LogL_Model1\", \"LogL_Model2\", \"LogL_Model3\")]),\n",
    "    beside = TRUE,\n",
    "    names.arg = c(\"β=0\", \"β=0.5\", \"β=1.0\"),\n",
    "    col = c(\"#5549b6\", \"#f1b246\", \"#df6b59\"),\n",
    "    main = \"Log-Likelihoods by Model and Variant\",\n",
    "    xlab = \"Model\", ylab = \"Log-Likelihood\",\n",
    "    ylim = c(min(results_table[, c(\"LogL_Model1\", \"LogL_Model2\", \"LogL_Model3\")]), 0)\n",
    ")\n",
    "legend(\"topright\",\n",
    "    legend = paste(\"Variant\", 1:3),\n",
    "    fill = c(\"#5549b6\", \"#f1b246\", \"#df6b59\"),\n",
    "    cex = 0.8\n",
    ")\n"
   ]
  },
  {
   "cell_type": "code",
   "execution_count": 40,
   "id": "7f01c68c",
   "metadata": {
    "vscode": {
     "languageId": "r"
    }
   },
   "outputs": [
    {
     "data": {
      "image/png": "[encoded data removed]",
      "text/plain": [
       "Plot with title “Likelihoods for Variant 2 - Individual 1”"
      ]
     },
     "metadata": {
      "image/png": {
       "height": 420,
       "width": 420
      }
     },
     "output_type": "display_data"
    }
   ],
   "source": [
    "# Set up parameters for Variant 2\n",
    "variant_idx <- 2\n",
    "X_j <- X[, variant_idx]\n",
    "\n",
    "# Let's use the first individual as an example\n",
    "ind_idx <- 1\n",
    "height_value <- Y[ind_idx]\n",
    "genotype <- X_j[ind_idx]\n",
    "\n",
    "# Set up parameters\n",
    "baseline <- 0 # For standardized data, baseline is 0\n",
    "sd_y <- sd_assumed # Using the assumed standard deviation of 1\n",
    "\n",
    "# Create a sequence of x values for plotting the density\n",
    "x_vals <- seq(height_value - 5, height_value + 5, length.out = 100)\n",
    "\n",
    "# Compute the likelihood densities for three models\n",
    "likelihood_1_curve <- dnorm(x_vals, mean = baseline, sd = sd_y)\n",
    "likelihood_2_curve <- dnorm(x_vals, mean = baseline + 0.5 * genotype, sd = sd_y)\n",
    "likelihood_3_curve <- dnorm(x_vals, mean = baseline + 1.0 * genotype, sd = sd_y)\n",
    "\n",
    "# Plot the likelihood curves\n",
    "plot(x_vals, likelihood_1_curve,\n",
    "    type = \"l\", col = \"blue\", lwd = 2,\n",
    "    xlab = \"Standardized Height\", ylab = \"Density\",\n",
    "    main = paste(\"Likelihoods for Variant\", variant_idx, \"- Individual\", ind_idx),\n",
    "    ylim = c(0, max(c(likelihood_1_curve, likelihood_2_curve, likelihood_3_curve)))\n",
    ")\n",
    "lines(x_vals, likelihood_2_curve, col = \"red\", lwd = 2)\n",
    "lines(x_vals, likelihood_3_curve, col = \"green\", lwd = 2)\n",
    "\n",
    "# Add vertical dashed line to show the observed height value\n",
    "abline(v = height_value, col = \"black\", lty = 2)\n",
    "\n",
    "# Add labels for the likelihood values at the height value for all models\n",
    "y_label_1 <- dnorm(height_value, mean = baseline, sd = sd_y)\n",
    "y_label_2 <- dnorm(height_value, mean = baseline + 0.5 * genotype, sd = sd_y)\n",
    "y_label_3 <- dnorm(height_value, mean = baseline + 1.0 * genotype, sd = sd_y)\n",
    "\n",
    "# Offset the text positions to avoid overlap\n",
    "text(height_value + 0.1, y_label_1, labels = paste(\"L(M1) =\", round(y_label_1, 3)), pos = 4, col = \"blue\")\n",
    "text(height_value + 0.1, y_label_2 + 0.02, labels = paste(\"L(M2) =\", round(y_label_2, 3)), pos = 4, col = \"red\")\n",
    "text(height_value + 0.1, y_label_3 - 0.02, labels = paste(\"L(M3) =\", round(y_label_3, 3)), pos = 4, col = \"green\")\n",
    "\n",
    "# Add points at the intersection of the height value on all curves\n",
    "points(height_value, y_label_1, col = \"blue\", pch = 16, cex = 1.5)\n",
    "points(height_value, y_label_2, col = \"red\", pch = 16, cex = 1.5)\n",
    "points(height_value, y_label_3, col = \"green\", pch = 16, cex = 1.5)\n",
    "\n",
    "# Add a legend\n",
    "legend(\"topright\",\n",
    "    legend = c(\"M1 (β=0)\", \"M2 (β=0.5)\", \"M3 (β=1.0)\"),\n",
    "    col = c(\"blue\", \"red\", \"green\"), lwd = 2\n",
    ")\n"
   ]
  },
  {
   "cell_type": "markdown",
   "id": "2ae0cc3f-cb87-42ff-a9f0-4265c1c0aa4f",
   "metadata": {},
   "source": [
    "# Supplementary Materials"
   ]
  },
  {
   "cell_type": "markdown",
   "id": "8495c4bf-ae08-47e8-82c1-af0a8f169a69",
   "metadata": {},
   "source": [
    "Here we provide more examples to help you understand the likelihood."
   ]
  },
  {
   "cell_type": "markdown",
   "id": "407f88f3-560a-40d1-9559-c1e36dcbf84c",
   "metadata": {
    "tags": []
   },
   "source": [
    "## Example 1 -- allele frequency of elephant\n",
    "\n",
    "### Description of the question\n",
    "\n",
    "Here we use an example from [Matthew Stephen's notes](http://stephens999.github.io/fiveMinuteStats/likelihood_ratio_simple_models.html).\n",
    "\n",
    "> [Technical Note: to simplify this problem I have assumed that elephants are haploid, which they are not. If you do not know what this means you should simply ignore this comment.]\n",
    ">\n",
    "> There are two subspecies of African Elephant: savannah and forest elephants, which differ in their genetic makeup. Interpol have seized an illegally-smuggled elephant tusk, and they want to know which subspecies of elephant the tusk came from. To try to answer this they collect DNA from the tusk and measure it at a number of locations (“markers” in genetics jargon) along the elephant genome. At each marker the DNA can be one of two types (“alleles” in genetics jargon), which for simplicity we will label 0 and 1. So the available data on the tusk might look something like this.\n",
    "> \n",
    "> |Marker|Allele|\n",
    "|:--:|:--:|\n",
    "|1|\t1|\n",
    "|2|0|\n",
    "|3|1|\n",
    "|4|0|\n",
    "|5|0|\n",
    "|6|1|"
   ]
  },
  {
   "cell_type": "code",
   "execution_count": null,
   "id": "050b10d8-ab62-4b04-83db-91b266fd9c42",
   "metadata": {
    "tags": [],
    "vscode": {
     "languageId": "r"
    }
   },
   "outputs": [],
   "source": [
    "x = c(1,0,1,0,0,1)"
   ]
  },
  {
   "cell_type": "markdown",
   "id": "f3125a03-318a-47c8-ad85-1ceb698d6645",
   "metadata": {},
   "source": [
    "> Interpol also have information on the frequency of each allele in each of the two subspecies - this was obtained by measuring the DNA of a large number of savanna elephants and a large number of forest elephants. We will use $f_{S{j}}$ and $f_{F{j}}$ to denote the frequency of “1” allele at marker j in savanna and forest elephants respectively (and since there are only two alleles, the frequency of the 0 allele is $1−f_{S{j}}$ and $1−f_{F{j}}$). Here is a table of this information.\n",
    ">\n",
    "> | marker | $f_S$  | $f_F$  |\n",
    "|:--------:|:-----:|:-----:|\n",
    "| 1      | 0.40 | 0.80 |\n",
    "| 2      | 0.52 | 0.20 |\n",
    "| 3      | 0.21 | 0.51 |\n",
    "| 4      | 0.52 | 0.57 |\n",
    "| 5      | 0.02 | 0.23 |\n",
    "| 6      | 0.32 | 0.25 |\n"
   ]
  },
  {
   "cell_type": "code",
   "execution_count": null,
   "id": "22309ff4-85b4-4219-a1bc-a76be7a54f62",
   "metadata": {
    "tags": [],
    "vscode": {
     "languageId": "r"
    }
   },
   "outputs": [],
   "source": [
    "fS = c(0.40, 0.52,0.21,0.52,0.02,0.32)\n",
    "fF = c(0.8,0.2,0.51,0.57,0.23,0.25)"
   ]
  },
  {
   "cell_type": "markdown",
   "id": "bc72c112-0dd9-47c1-bc47-b1429b99f3c6",
   "metadata": {},
   "source": [
    "> The question before us is: **Which subspecies of elephant did the tusk come from, and how confident should we be in this conclusion?**"
   ]
  },
  {
   "cell_type": "markdown",
   "id": "fe9e92a7-80d7-41c1-9462-a93616f6b66e",
   "metadata": {},
   "source": [
    "### Solution"
   ]
  },
  {
   "cell_type": "markdown",
   "id": "6612a370-6f4f-48b6-8fa2-5d1180c129e3",
   "metadata": {},
   "source": [
    "> We can phrase this problem as a “model comparison” problem. We have data $X=x$ from our tusk, and we have two different models for how those data might have arisen: it could have been sampled from a savanna elephant, or it could have been sampled from a forest elephant. We will use $M_S$ and $M_F$ as shorthand for these two models. A key point is that these two models imply different probability distributions for $X$: some values of $X$ are more common under $M_S$ and others are more common under $M_F$.\n",
    ">\n",
    "> Denoting the probability mass functions of these two distributions p(⋅|MS) and p(⋅|MF), and assuming the data at different markers are independent, these probability distributions are:\n",
    "> $$\n",
    "p(x|M_S)=\\prod_j f_{S_j}^{x_j}(1−f_{S_j})^{1−x_j}\n",
    "$$\n",
    ">\n",
    "> and\n",
    "> $$\n",
    "p(x|M_F)=\\prod_j f_{F_j}^{x_j}(1−f_{F_j})^{1−x_j}\n",
    "$$\n",
    ">>\n",
    ">\n",
    "> where the values of $f_S$ and $f_F$ are given in the table above.\n",
    ">\n",
    "> The key idea to introduce here is that a useful summary of how strongly the data $x$ support one model vs another model is given by the “likelihood ratio” (LR).\n",
    "\n",
    "**So before we drive ourselves into the likelihood ratio of two methods, in this notebook, let's focus on the likelihood:**\n",
    "\n",
    "The **\"likelihood\"** for a model is defined as the probability of the data under the model. That is, given data $x$, the likelihood for a fully-specified (discrete) model M is defined as\n",
    "\n",
    "$$\n",
    "L(M_S)=p(x|M_S)=\\prod_j f_{S_j}^{x_j}(1−f_{S_j})^{1−x_j} \\\\\n",
    "L(M_F)=p(x|M_F)=\\prod_j f_{F_j}^{x_j}(1−f_{F_j})^{1−x_j}\n",
    "$$\n",
    "where $p(⋅|M)$ denotes the probability mass function for model $M$."
   ]
  },
  {
   "cell_type": "code",
   "execution_count": null,
   "id": "ec614b27-5aaf-41af-975f-39f652b67471",
   "metadata": {
    "tags": [],
    "vscode": {
     "languageId": "r"
    }
   },
   "outputs": [],
   "source": [
    "L = function(f,x){ prod(f^x*(1-f)^(1-x)) }"
   ]
  },
  {
   "cell_type": "code",
   "execution_count": null,
   "id": "a8780787-4ee5-47a7-a31e-bfe86c0e09f6",
   "metadata": {
    "tags": [],
    "vscode": {
     "languageId": "r"
    }
   },
   "outputs": [],
   "source": [
    "L(fS,x)"
   ]
  },
  {
   "cell_type": "code",
   "execution_count": null,
   "id": "add84dd2-6491-4a6e-9405-42b7acebbc8d",
   "metadata": {
    "tags": [],
    "vscode": {
     "languageId": "r"
    }
   },
   "outputs": [],
   "source": [
    "L(fF,x)"
   ]
  },
  {
   "cell_type": "markdown",
   "id": "0930e948-22d7-4aad-9c06-c33fbdfc9cfa",
   "metadata": {},
   "source": [
    "## Example 2 -- concentration of protein in the blood "
   ]
  },
  {
   "cell_type": "markdown",
   "id": "897d2d68-163b-492f-af81-dee8dc065f8c",
   "metadata": {},
   "source": [
    "### Description"
   ]
  },
  {
   "cell_type": "markdown",
   "id": "b47985d1-a5e7-470d-a4b6-48b072acbae0",
   "metadata": {},
   "source": [
    "> A medical screening test for a disease involves measuring the concentration ($X$) of a protein in the blood. In normal individuals $X$ has a Gamma distribution with mean 1 and shape 2. In diseased individuals the protein becomes elevated, and $X$ has a Gamma distribution with mean 2 and shape 2. Plotting the probability density functions of these distributions yields:\n",
    "> \n",
    "\n",
    "Suppose that for a particular individual we observe $X=4.02$. Then the question is\n",
    "\n",
    "**Is this individual from the normal group or the diseased group?**"
   ]
  },
  {
   "cell_type": "markdown",
   "id": "4a8c215f-b264-4499-8f1e-9766cd0c83cf",
   "metadata": {},
   "source": [
    "### Solution\n",
    "\n",
    "The likelihood for the two models -- normal individual group ($M_0$) or diseased individual group ($M_1$) --- can therefore be calculated as:\n",
    "\n",
    "\n",
    "$$\n",
    "L(M_0)=p(x|M_0)= \\frac{\\beta_0^{\\alpha_0} x^{\\alpha_0 - 1} e^{-\\beta_0 x}}{\\Gamma(\\alpha_0)} = \\frac{2^2 \\cdot 4.02^{2 - 1} e^{-2 \\cdot 4.02}}{\\Gamma(2)}\\\\\n",
    "L(M_1)=p(x|M_1)= \\frac{\\beta_1^{\\alpha_1} x^{\\alpha_1 - 1} e^{-\\beta_1 x}}{\\Gamma(\\alpha_1)} = \\frac{1^2 \\cdot 4.02^{2 - 1} e^{-1 \\cdot 4.02}}{\\Gamma(2)}\n",
    "$$\n",
    "\n",
    "\n",
    "The difference here is that instead of the **probability mass functions** that we used in the first example, here we use the **probability density functions (PDF)** of Gamma distribution:\n",
    "\n",
    "$$\n",
    "f(x; \\alpha, \\beta) = \\frac{\\beta^\\alpha x^{\\alpha - 1} e^{-\\beta x}}{\\Gamma(\\alpha)}, \\quad x > 0\n",
    "$$\n",
    "\n",
    "\n",
    "where:\n",
    "- $\\alpha$ is the shape parameter,\n",
    "- $\\beta$ is the rate parameter ($\\beta = \\frac{1}{\\theta}$, where $\\theta$ is the scale parameter),\n",
    "- $\\Gamma(\\alpha)$ is the Gamma function."
   ]
  },
  {
   "cell_type": "code",
   "execution_count": null,
   "id": "6f07c98b-5325-4b0e-b31e-590dd14c6f3e",
   "metadata": {
    "tags": [],
    "vscode": {
     "languageId": "r"
    }
   },
   "outputs": [],
   "source": [
    "X_val=4.02"
   ]
  },
  {
   "cell_type": "markdown",
   "id": "e64fbaa4-1f41-4ce9-9f20-982feff184b2",
   "metadata": {},
   "source": [
    "In R we can use the [dgamma](https://stat.ethz.ch/R-manual/R-devel/library/stats/html/GammaDist.html) function to calculate the PDF of gamma function at data $x$."
   ]
  },
  {
   "cell_type": "code",
   "execution_count": null,
   "id": "e05105fd-5310-494b-851b-8c06bb52575c",
   "metadata": {
    "tags": [],
    "vscode": {
     "languageId": "r"
    }
   },
   "outputs": [],
   "source": [
    "# dgamma(x, shape, rate = 1, scale = 1/rate, log = FALSE) returns the Density for the Gamma distribution with parameters shape and scale at x\n",
    "y0_val = dgamma(X_val,scale=0.5,shape=2)\n",
    "y1_val = dgamma(X_val,scale=1,shape=2)"
   ]
  },
  {
   "cell_type": "markdown",
   "id": "bbc84246-4a39-4d09-ac36-134abc9105e7",
   "metadata": {},
   "source": [
    "This can be visualized from the figure below. "
   ]
  },
  {
   "cell_type": "code",
   "execution_count": null,
   "id": "1a912f35-d3fe-45fd-bf39-631679c7b547",
   "metadata": {
    "tags": [],
    "vscode": {
     "languageId": "r"
    }
   },
   "outputs": [],
   "source": [
    "x <- seq(0, 10, length = 100)\n",
    "\n",
    "# Compute density values\n",
    "y0 <- dgamma(x, scale = 0.5, shape = 2)\n",
    "y1 <- dgamma(x, scale = 1, shape = 2)\n",
    "\n",
    "# Plot the first Gamma density\n",
    "plot(x, y0, type = \"l\", xlab = \"Protein Concentration\", ylab = \"Density\",\n",
    "     col = \"black\", lwd = 2, ylim = c(0, max(y0, y1)))\n",
    "\n",
    "# Add the second Gamma density\n",
    "lines(x, y1, col = \"red\", lwd = 2)\n",
    "\n",
    "# Add a vertical line at x = 4.02\n",
    "abline(v = X_val, lty = 2, col = \"blue\")\n",
    "\n",
    "# Mark the corresponding points\n",
    "points(X_val, y0_val, col = \"black\", pch = 19, cex = 1.2) # normal group\n",
    "points(X_val, y1_val, col = \"red\", pch = 19, cex = 1.2) # diseased group\n",
    "\n",
    "# Add text labels near the points\n",
    "text(X_val, y0_val, labels = round(y0_val, 4), pos = 3, col = \"black\")\n",
    "text(X_val, y1_val, labels = round(y1_val, 4), pos = 3, col = \"red\")\n",
    "\n",
    "# Add legend\n",
    "legend(\"topright\", legend = c(\"Gamma(0.5, 2)\", \"Gamma(1, 2)\"), \n",
    "       col = c(\"black\", \"red\"), lwd = 2, bty = \"n\")\n"
   ]
  },
  {
   "cell_type": "markdown",
   "id": "4ebf5fb8",
   "metadata": {
    "tags": []
   },
   "source": [
    "# Recommended Reading\n",
    "\n",
    "- Statistical Rethinking, 2nd Edition, Section 2.1, 2.3, 2.4.\n",
    "- Section *Likelihood Ratio and Likehood* in [FiveMinuteStats](http://stephens999.github.io/fiveMinuteStats/index.html) by Matthew Stephens\n"
   ]
  },
  {
   "cell_type": "code",
   "execution_count": null,
   "id": "5eb58cae-80de-48ac-8038-99db83a2cd84",
   "metadata": {
    "vscode": {
     "languageId": "r"
    }
   },
   "outputs": [],
   "source": []
  }
 ],
 "metadata": {
  "kernelspec": {
   "display_name": "/mnt/vast/hpc/homes/rd2972/micromamba/envs/pisces-rabbit/bin/R",
   "language": "/mnt/vast/hpc/homes/rd2972/micromamba/envs/pisces-rabbit/bin/R",
   "name": "ir"
  },
  "language_info": {
   "codemirror_mode": "r",
   "file_extension": ".r",
   "mimetype": "text/x-r-source",
   "name": "R",
   "pygments_lexer": "r",
   "version": "4.4.2"
  },
  "toc-autonumbering": true
 },
 "nbformat": 4,
 "nbformat_minor": 5
}
