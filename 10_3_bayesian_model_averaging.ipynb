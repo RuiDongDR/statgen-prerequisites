{
 "cells": [
  {
   "cell_type": "markdown",
   "id": "b83af83b-505c-4cfc-a1a9-7d1d3d583ee9",
   "metadata": {},
   "source": [
    "## Bayesian model averaging\n",
    "\n",
    "# Intuition\n",
    "\n",
    "**FIGURE PLACEHOLDER:** ![Bayesian model averaging](image_placeholder)"
   ]
  },
  {
   "cell_type": "markdown",
   "id": "a9b4eeab-8946-4c60-a76a-b9cda53cd052",
   "metadata": {},
   "source": [
    "# Notation\n"
   ]
  },
  {
   "cell_type": "markdown",
   "id": "9bf773a9-c031-4639-9b63-9ce12822f596",
   "metadata": {
    "tags": []
   },
   "source": [
    "**Model Averaging** is a technique used in statistical modeling that combines predictions from multiple models to improve accuracy and robustness. Instead of selecting a single best model, model averaging considers the contribution of several models, weighted by their plausibility, and uses them to generate a more reliable prediction.\n",
    "\n",
    "The basic idea behind model averaging is that different models may capture different aspects of the underlying data or process, and combining them can lead to better overall performance, especially when some models perform better in some regions of the data and worse in others.\n"
   ]
  },
  {
   "cell_type": "markdown",
   "id": "d3efd7f1-4c0f-47e5-ab90-6abc9cbef87d",
   "metadata": {},
   "source": [
    "\n",
    "## Theoretical Background\n",
    "\n",
    "Let’s assume we have a set of models $M_1, M_2, \\dots, M_K$ and we want to predict a value for a new observation $y^*$ based on the models. For each model $M_k$, we calculate a prediction, denoted as $\\hat{y}^*_k$. \n",
    "\n",
    "The **model-averaged prediction** is typically given by the weighted sum of the predictions from each model:\n",
    "\n",
    "$$\n",
    "\\hat{y}^*_{\\text{avg}} = \\sum_{k=1}^{K} w_k \\hat{y}^*_k\n",
    "$$\n",
    "\n",
    "Where:\n",
    "- $w_k$ is the weight associated with model $M_k$, which reflects how likely or good the model is at describing the data.\n",
    "- $\\hat{y}^*_k$ is the prediction made by model $M_k$ for the new data point.\n"
   ]
  },
  {
   "cell_type": "markdown",
   "id": "a8252a27-8b2d-44fd-8657-76a40e07e273",
   "metadata": {},
   "source": [
    "## Weights in Model Averaging\n",
    "\n",
    "The weights $w_k$ can be assigned based on various criteria:\n",
    "1. **Bayesian Model Averaging (BMA)**: In the Bayesian framework, the weights correspond to the posterior model probabilities, i.e., the probability of each model given the data:\n",
    "\n",
    "   $$ \n",
    "   w_k = P(M_k | D) \n",
    "   $$\n",
    "\n",
    "   Where $P(M_k | D)$ is the posterior probability of model $M_k$ given the observed data $D$.\n",
    "\n",
    "2. **Do we want to include AIC and BIC???**\n",
    "\n",
    "**Akaike Information Criterion (AIC) or Bayesian Information Criterion (BIC)**: In a frequentist context, the weights are often computed based on the relative likelihood of each model, using information criteria like AIC or BIC. The models with lower AIC/BIC values are considered to be more likely and receive higher weights.\n",
    "\n",
    "   $$ \n",
    "   w_k = \\frac{e^{-\\frac{1}{2} \\Delta \\text{AIC}_k}}{\\sum_{j=1}^K e^{-\\frac{1}{2} \\Delta \\text{AIC}_j}} \n",
    "   $$\n",
    "\n",
    "   Where $\\Delta \\text{AIC}_k = \\text{AIC}_k - \\min(\\text{AIC})$, and $\\text{AIC}_k$ is the AIC of model $k$.\n"
   ]
  },
  {
   "cell_type": "markdown",
   "id": "d03ac6af-c3b1-47fd-8592-cd9246471a4b",
   "metadata": {
    "tags": []
   },
   "source": [
    "## Why Model Averaging Works\n",
    "\n",
    "\n",
    "\n",
    "BMA accounts for the uncertainty involved in selecting the model, **preserving the uncertainty about models**.\n",
    "\n",
    "1. **Reduced Risk of Overfitting**: By averaging over multiple models, we avoid overfitting to any one model. Even if one model fits the training data well but fails to generalize, other models can provide complementary information, reducing the overall risk of overfitting.\n",
    "  \n",
    "2. **Improved Accuracy**: If models make different types of errors, combining their predictions can reduce the variance and bias, leading to more accurate predictions.\n",
    "\n",
    "3. **Incorporating Model Uncertainty**: In cases where model uncertainty is high, model averaging incorporates this uncertainty by using multiple models and averaging their predictions, rather than relying on a single model.\n",
    "\n",
    "\n",
    "\n",
    "- **Advantages of BMA**\n",
    "    - Accounts for model uncertainty, leading to more robust inference.\n",
    "    - Prevents overconfidence in a single model when multiple models have similar posterior probabilities.\n",
    "    - Helps mitigate overfitting, especially with limited data."
   ]
  },
  {
   "cell_type": "markdown",
   "id": "a200e1c3-4870-4370-8741-eda6809eb029",
   "metadata": {},
   "source": [
    "# Example"
   ]
  },
  {
   "cell_type": "markdown",
   "id": "f65bf3cb-c17e-41a5-a0c2-72871b4b2361",
   "metadata": {},
   "source": [
    "We aim to determine whether a genetic variant has a causal effect ($\\theta$) on height. Instead of selecting a single best model, we consider multiple models with different effect sizes and use Bayesian Model Averaging (BMA) to weigh them based on their posterior probabilities.\n",
    "\n",
    "## Model Definitions\n",
    "\n",
    "We define several models representing different assumptions about the effect size:\n",
    "\n",
    "- $M_1$: No effect ($\\theta = 0$)\n",
    "\n",
    "- $M_2$: Strong effect ($\\theta = 2$)\n",
    "\n",
    "- $M_3$: Moderate effect ($\\theta = 1$)\n",
    "\n",
    "- $M_4$: Weak effect ($\\theta = 0.5$)\n",
    "\n",
    "- $M_5$: The effect $\\theta$ is uncertain and follows a continuous prior (e.g., Normal prior $\\theta \\sim \\mathcal{N}(0,1)$)\n",
    "\n",
    "Each model is assigned a prior probability $P(M_i)$, and after observing genotype and height data, we update these probabilities using Bayes' theorem.\n",
    "\n",
    "\n",
    "Instead of selecting the most probable model, BMA computes a weighted average estimate of $\\theta$, incorporating all models under consideration:\n",
    "$$\n",
    "P(\\theta | D) = \\sum_i P(\\theta | M_i, D) P(M_i | D)\n",
    "$$\n",
    "\n",
    "For prediction, the expected height given a new genotype is:\n",
    "$$\n",
    "E(Y_{i+1}|D, x_{i+1}) = \\sum_j E[Y|M_j, D, x_{i+1}]P(M_j|D)\n",
    "$$\n",
    "\n",
    "which integrates over all models rather than relying on a single one.\n",
    "\n",
    "By using BMA, we obtain a more comprehensive understanding of the genetic effect on height rather than relying on a single assumption about $\\theta$. "
   ]
  },
  {
   "cell_type": "code",
   "execution_count": 169,
   "id": "b54d6f31-7a39-4e55-b55a-71fb603fe424",
   "metadata": {
    "tags": []
   },
   "outputs": [
    {
     "data": {
      "text/html": [
       "<table class=\"dataframe\">\n",
       "<caption>A data.frame: 5 × 3</caption>\n",
       "<thead>\n",
       "\t<tr><th scope=col>genotype1</th><th scope=col>genotype2</th><th scope=col>height</th></tr>\n",
       "\t<tr><th scope=col>&lt;dbl&gt;</th><th scope=col>&lt;dbl&gt;</th><th scope=col>&lt;dbl&gt;</th></tr>\n",
       "</thead>\n",
       "<tbody>\n",
       "\t<tr><td>0</td><td>1</td><td>169</td></tr>\n",
       "\t<tr><td>1</td><td>2</td><td>172</td></tr>\n",
       "\t<tr><td>1</td><td>0</td><td>172</td></tr>\n",
       "\t<tr><td>2</td><td>0</td><td>173</td></tr>\n",
       "\t<tr><td>0</td><td>0</td><td>170</td></tr>\n",
       "</tbody>\n",
       "</table>\n"
      ],
      "text/latex": [
       "A data.frame: 5 × 3\n",
       "\\begin{tabular}{lll}\n",
       " genotype1 & genotype2 & height\\\\\n",
       " <dbl> & <dbl> & <dbl>\\\\\n",
       "\\hline\n",
       "\t 0 & 1 & 169\\\\\n",
       "\t 1 & 2 & 172\\\\\n",
       "\t 1 & 0 & 172\\\\\n",
       "\t 2 & 0 & 173\\\\\n",
       "\t 0 & 0 & 170\\\\\n",
       "\\end{tabular}\n"
      ],
      "text/markdown": [
       "\n",
       "A data.frame: 5 × 3\n",
       "\n",
       "| genotype1 &lt;dbl&gt; | genotype2 &lt;dbl&gt; | height &lt;dbl&gt; |\n",
       "|---|---|---|\n",
       "| 0 | 1 | 169 |\n",
       "| 1 | 2 | 172 |\n",
       "| 1 | 0 | 172 |\n",
       "| 2 | 0 | 173 |\n",
       "| 0 | 0 | 170 |\n",
       "\n"
      ],
      "text/plain": [
       "  genotype1 genotype2 height\n",
       "1 0         1         169   \n",
       "2 1         2         172   \n",
       "3 1         0         172   \n",
       "4 2         0         173   \n",
       "5 0         0         170   "
      ]
     },
     "metadata": {},
     "output_type": "display_data"
    }
   ],
   "source": [
    "rm(list=ls())\n",
    "library(BMA)\n",
    "library(MASS)\n",
    "set.seed(3)\n",
    "baseline <- 170\n",
    "sd_y <- 1  # Standard deviation of the trait (e.g., variability in height measurement within the population)\n",
    "genotype1 <- c(0,1,1,2,0)\n",
    "genotype2 <- c(1,2,0,0,0)\n",
    "n = length(genotype1)\n",
    "genotype <- matrix(c(genotype1, genotype2), ncol=2) # two variants\n",
    "colnames(genotype)<- paste0(\"X\", 1:2)\n",
    "true_beta <- c(2,0)\n",
    "height_values <- rnorm(n, mean = baseline + genotype %*% true_beta, sd = sd_y)\n",
    "data <- data.frame(genotype1 = genotype1, genotype2 = genotype2, height = height_values)\n",
    "data"
   ]
  },
  {
   "cell_type": "code",
   "execution_count": 170,
   "id": "a4a846df-b85b-4702-986c-4022122382fd",
   "metadata": {
    "tags": []
   },
   "outputs": [
    {
     "name": "stdout",
     "output_type": "stream",
     "text": [
      "\n",
      "Call:\n",
      "bicreg(x = genotype, y = height_values, strict = FALSE)\n",
      "\n",
      "\n",
      "  2  models were selected\n",
      " Best  2  models (cumulative posterior probability =  1 ): \n",
      "\n",
      "           p!=0    EV       SD     model 1  model 2\n",
      "Intercept  100.0  169.8688  0.529  169.831  169.942\n",
      "X1         100.0    1.7152  0.448    1.723    1.701\n",
      "X2          33.8   -0.0523  0.283      .     -0.155\n",
      "                                                   \n",
      "nVar                                   1        2  \n",
      "r2                                   0.850    0.858\n",
      "BIC                                 -7.877   -6.531\n",
      "post prob                            0.662    0.338\n"
     ]
    }
   ],
   "source": [
    "# Perform BMA for linear regression\n",
    "bma_result <- bicreg(genotype, height_values, strict=FALSE)\n",
    "\n",
    "# Summary of the BMA results\n",
    "summary(bma_result)"
   ]
  },
  {
   "cell_type": "code",
   "execution_count": 171,
   "id": "be8af1a5-687d-4027-ad9d-ac6a94f68580",
   "metadata": {
    "tags": []
   },
   "outputs": [
    {
     "name": "stdout",
     "output_type": "stream",
     "text": [
      "[1] 0.662 0.338\n",
      "[1] 100.0  33.8\n"
     ]
    }
   ],
   "source": [
    "# Print the posterior probabilities of each model\n",
    "print(bma_result$postprob)\n",
    "\n",
    "# Print posterior inclusion probabilities for each variable\n",
    "print(bma_result$probne0)\n"
   ]
  },
  {
   "cell_type": "code",
   "execution_count": 172,
   "id": "e920823c-4e70-4c88-863d-5a2063a8e6a3",
   "metadata": {
    "tags": []
   },
   "outputs": [
    {
     "data": {
      "text/html": [
       "<dl>\n",
       "\t<dt>$mean</dt>\n",
       "\t\t<dd><style>\n",
       ".dl-inline {width: auto; margin:0; padding: 0}\n",
       ".dl-inline>dt, .dl-inline>dd {float: none; width: auto; display: inline-block}\n",
       ".dl-inline>dt::after {content: \":\\0020\"; padding-right: .5ex}\n",
       ".dl-inline>dt:not(:first-of-type) {padding-left: .5ex}\n",
       "</style><dl class=dl-inline><dt>1</dt><dd>169.816471595425</dd><dt>2</dt><dd>171.479396023797</dd><dt>3</dt><dd>171.531716744997</dd></dl>\n",
       "</dd>\n",
       "\t<dt>$sd</dt>\n",
       "\t\t<dd><style>\n",
       ".dl-inline {width: auto; margin:0; padding: 0}\n",
       ".dl-inline>dt, .dl-inline>dd {float: none; width: auto; display: inline-block}\n",
       ".dl-inline>dt::after {content: \":\\0020\"; padding-right: .5ex}\n",
       ".dl-inline>dt:not(:first-of-type) {padding-left: .5ex}\n",
       "</style><dl class=dl-inline><dt>1</dt><dd>0.849016078858587</dd><dt>2</dt><dd>0.855183373869346</dd><dt>3</dt><dd>0.849338397612801</dd></dl>\n",
       "</dd>\n",
       "\t<dt>$quantiles</dt>\n",
       "\t\t<dd><table class=\"dataframe\">\n",
       "<caption>A matrix: 3 × 3 of type dbl</caption>\n",
       "<thead>\n",
       "\t<tr><th></th><th scope=col>0.1</th><th scope=col>0.5</th><th scope=col>0.9</th></tr>\n",
       "</thead>\n",
       "<tbody>\n",
       "\t<tr><th scope=row>1</th><td>169</td><td>170</td><td>171</td></tr>\n",
       "\t<tr><th scope=row>2</th><td>170</td><td>171</td><td>173</td></tr>\n",
       "\t<tr><th scope=row>3</th><td>170</td><td>172</td><td>173</td></tr>\n",
       "</tbody>\n",
       "</table>\n",
       "</dd>\n",
       "</dl>\n"
      ],
      "text/latex": [
       "\\begin{description}\n",
       "\\item[\\$mean] \\begin{description*}\n",
       "\\item[1] 169.816471595425\n",
       "\\item[2] 171.479396023797\n",
       "\\item[3] 171.531716744997\n",
       "\\end{description*}\n",
       "\n",
       "\\item[\\$sd] \\begin{description*}\n",
       "\\item[1] 0.849016078858587\n",
       "\\item[2] 0.855183373869346\n",
       "\\item[3] 0.849338397612801\n",
       "\\end{description*}\n",
       "\n",
       "\\item[\\$quantiles] A matrix: 3 × 3 of type dbl\n",
       "\\begin{tabular}{r|lll}\n",
       "  & 0.1 & 0.5 & 0.9\\\\\n",
       "\\hline\n",
       "\t1 & 169 & 170 & 171\\\\\n",
       "\t2 & 170 & 171 & 173\\\\\n",
       "\t3 & 170 & 172 & 173\\\\\n",
       "\\end{tabular}\n",
       "\n",
       "\\end{description}\n"
      ],
      "text/markdown": [
       "$mean\n",
       ":   1\n",
       ":   169.8164715954252\n",
       ":   171.4793960237973\n",
       ":   171.531716744997\n",
       "\n",
       "\n",
       "$sd\n",
       ":   1\n",
       ":   0.8490160788585872\n",
       ":   0.8551833738693463\n",
       ":   0.849338397612801\n",
       "\n",
       "\n",
       "$quantiles\n",
       ":   \n",
       "A matrix: 3 × 3 of type dbl\n",
       "\n",
       "| <!--/--> | 0.1 | 0.5 | 0.9 |\n",
       "|---|---|---|---|\n",
       "| 1 | 169 | 170 | 171 |\n",
       "| 2 | 170 | 171 | 173 |\n",
       "| 3 | 170 | 172 | 173 |\n",
       "\n",
       "\n",
       "\n",
       "\n"
      ],
      "text/plain": [
       "$mean\n",
       "  1   2   3 \n",
       "170 171 172 \n",
       "\n",
       "$sd\n",
       "    1     2     3 \n",
       "0.849 0.855 0.849 \n",
       "\n",
       "$quantiles\n",
       "  0.1 0.5 0.9\n",
       "1 169 170 171\n",
       "2 170 171 173\n",
       "3 170 172 173\n"
      ]
     },
     "metadata": {},
     "output_type": "display_data"
    }
   ],
   "source": [
    "new_genotype1 <- c(0,1,1)\n",
    "new_genotype2 <- c(1,2,1)\n",
    "# Make predictions using BMA\n",
    "new_data <- matrix(c(new_genotype1, new_genotype2), ncol=2)\n",
    "colnames(new_data) <- paste0(\"X\", 1:2)\n",
    "predictions <- predict(bma_result, newdata=new_data)\n",
    "predictions\n"
   ]
  },
  {
   "cell_type": "code",
   "execution_count": 173,
   "id": "c8c3273f-f439-4698-855d-8f997ab7b30a",
   "metadata": {
    "tags": []
   },
   "outputs": [
    {
     "data": {
      "image/png": "[encoded data removed]",
      "text/plain": [
       "Plot with title “Intercept”"
      ]
     },
     "metadata": {
      "image/png": {
       "height": 420,
       "width": 420
      }
     },
     "output_type": "display_data"
    },
    {
     "data": {
      "image/png": "[encoded data removed]",
      "text/plain": [
       "Plot with title “X1”"
      ]
     },
     "metadata": {
      "image/png": {
       "height": 420,
       "width": 420
      }
     },
     "output_type": "display_data"
    },
    {
     "data": {
      "image/png": "[encoded data removed]",
      "text/plain": [
       "Plot with title “X2”"
      ]
     },
     "metadata": {
      "image/png": {
       "height": 420,
       "width": 420
      }
     },
     "output_type": "display_data"
    },
    {
     "data": {
      "image/png": "[encoded data removed]",
      "text/plain": [
       "Plot with title “Models selected by BMA”"
      ]
     },
     "metadata": {
      "image/png": {
       "height": 420,
       "width": 420
      }
     },
     "output_type": "display_data"
    }
   ],
   "source": [
    "# Visualize the posterior model probabilities for the top models\n",
    "par(mar=c(10, 4, 4, 2) + 0.1)\n",
    "plot(bma_result, mfrow=c(1, 1))\n",
    "\n",
    "# Visualize the posterior inclusion probabilities for each variable\n",
    "imageplot.bma(bma_result)"
   ]
  },
  {
   "cell_type": "code",
   "execution_count": null,
   "id": "1588108b-a1ed-4803-bca6-cbc3488063cf",
   "metadata": {},
   "outputs": [],
   "source": []
  },
  {
   "cell_type": "code",
   "execution_count": null,
   "id": "962a9883-57bc-468f-9f1f-e75ec23c5236",
   "metadata": {},
   "outputs": [],
   "source": []
  }
 ],
 "metadata": {
  "kernelspec": {
   "display_name": "R",
   "language": "R",
   "name": "ir"
  },
  "language_info": {
   "codemirror_mode": "r",
   "file_extension": ".r",
   "mimetype": "text/x-r-source",
   "name": "R",
   "pygments_lexer": "r",
   "version": "4.4.2"
  },
  "toc-autonumbering": true
 },
 "nbformat": 4,
 "nbformat_minor": 5
}
