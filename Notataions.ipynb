{
 "cells": [
  {
   "cell_type": "markdown",
   "id": "3a800792-3ca6-4d40-ac6d-ef8545c78a93",
   "metadata": {},
   "source": [
    "## **Notation Table**  \n",
    "\n",
    "| Symbol           | Meaning |\n",
    "|------------------|---------|\n",
    "| $ M_1 $          | Model 1 (no genetic effect) |\n",
    "| $ M_2 $          | Model 2 (genetic effect) |\n",
    "| $ y_i $          | Trait value (e.g., height) for individual $ i $ |\n",
    "| $ x_i $          | Genotype for individual $ i $ |\n",
    "| $ D $            | Observed data$\\{(x_1,y_1), (x_2, y_2), \\dots, (x_n, y_n)\\}$ |\n",
    "| $ \\theta_0 $     | Prior mean of the parameter $ \\theta $ |\n",
    "| $ \\theta_1 $     | Posterior mean of the parameter $ \\theta $ |\n",
    "| $ \\sigma_0^2 $   | Known variance of the parameter $ \\theta $ |\n",
    "| $ \\sigma_1^2 $   | Posterior variance of the parameter $ \\theta $ |\n",
    "| $ \\tau_0 $       | Prior precision ($\\frac{1}{\\sigma_0^2}$) of the parameter $ \\theta $ |\n",
    "| $ \\tau_1 $       | Posterior precision ($\\frac{1}{\\sigma_1^2}$) of the parameter $ \\theta $ |\n",
    "| $ n $            | Number of samples |\n",
    "| $ L(M) $         | Likelihood for model $ M $ |\n",
    "| $ l(M) $         | Log-likelihood for model $ M $ |\n",
    "<!-- | $ \\theta $       | Causal genetic effect (genetic parameter) | -->\n"
   ]
  }
 ],
 "metadata": {
  "kernelspec": {
   "display_name": "R",
   "language": "R",
   "name": "ir"
  },
  "language_info": {
   "codemirror_mode": "r",
   "file_extension": ".r",
   "mimetype": "text/x-r-source",
   "name": "R",
   "pygments_lexer": "r",
   "version": "4.4.2"
  }
 },
 "nbformat": 4,
 "nbformat_minor": 5
}
